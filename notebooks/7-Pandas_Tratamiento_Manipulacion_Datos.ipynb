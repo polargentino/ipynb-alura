{
  "cells": [
    {
      "cell_type": "markdown",
      "metadata": {
        "id": "QnFeTKqLw5tK"
      },
      "source": [
        "\n",
        "# ***Alumno: Pablo Matías Monsalvo G8-ONE***\n",
        "\n",
        "# **PROBLEMA DE NEGOCIO**\n",
        "\n",
        "\n",
        "---\n",
        "\n",
        "\n"
      ]
    },
    {
      "cell_type": "markdown",
      "metadata": {
        "id": "2fLIqeTzw_Zu"
      },
      "source": [
        "Se trata de un algoritmo capaz de analizar las características de una propiedad -como comodidades, tamaño, ocupación del espacio en un período determinado- y sugerir al anfitrión un precio a cobrar por tarifas diarias que garantice ganancias en momentos de alta demanda."
      ]
    },
    {
      "cell_type": "markdown",
      "metadata": {
        "id": "nDd527CTqfVU"
      },
      "source": [
        "## **1. Entendiendo el Problema**\n",
        "\n",
        "\n",
        "---\n",
        "\n",
        "\n"
      ]
    },
    {
      "cell_type": "code",
      "execution_count": 1,
      "metadata": {
        "id": "Ruvs1vv2FnQ9"
      },
      "outputs": [],
      "source": [
        "import pandas as pd"
      ]
    },
    {
      "cell_type": "code",
      "execution_count": 2,
      "metadata": {
        "colab": {
          "base_uri": "https://localhost:8080/",
          "height": 206
        },
        "id": "vnlS04aVF_tF",
        "outputId": "e3b994a2-0f4e-4e4f-df92-800e00e103b3"
      },
      "outputs": [
        {
          "data": {
            "text/html": [
              "<div>\n",
              "<style scoped>\n",
              "    .dataframe tbody tr th:only-of-type {\n",
              "        vertical-align: middle;\n",
              "    }\n",
              "\n",
              "    .dataframe tbody tr th {\n",
              "        vertical-align: top;\n",
              "    }\n",
              "\n",
              "    .dataframe thead th {\n",
              "        text-align: right;\n",
              "    }\n",
              "</style>\n",
              "<table border=\"1\" class=\"dataframe\">\n",
              "  <thead>\n",
              "    <tr style=\"text-align: right;\">\n",
              "      <th></th>\n",
              "      <th>info_inmuebles</th>\n",
              "    </tr>\n",
              "  </thead>\n",
              "  <tbody>\n",
              "    <tr>\n",
              "      <th>0</th>\n",
              "      <td>{'evaluacion_general': '10.0', 'experiencia_lo...</td>\n",
              "    </tr>\n",
              "    <tr>\n",
              "      <th>1</th>\n",
              "      <td>{'evaluacion_general': '10.0', 'experiencia_lo...</td>\n",
              "    </tr>\n",
              "    <tr>\n",
              "      <th>2</th>\n",
              "      <td>{'evaluacion_general': '10.0', 'experiencia_lo...</td>\n",
              "    </tr>\n",
              "    <tr>\n",
              "      <th>3</th>\n",
              "      <td>{'evaluacion_general': '10.0', 'experiencia_lo...</td>\n",
              "    </tr>\n",
              "    <tr>\n",
              "      <th>4</th>\n",
              "      <td>{'evaluacion_general': '10.0', 'experiencia_lo...</td>\n",
              "    </tr>\n",
              "  </tbody>\n",
              "</table>\n",
              "</div>"
            ],
            "text/plain": [
              "                                      info_inmuebles\n",
              "0  {'evaluacion_general': '10.0', 'experiencia_lo...\n",
              "1  {'evaluacion_general': '10.0', 'experiencia_lo...\n",
              "2  {'evaluacion_general': '10.0', 'experiencia_lo...\n",
              "3  {'evaluacion_general': '10.0', 'experiencia_lo...\n",
              "4  {'evaluacion_general': '10.0', 'experiencia_lo..."
            ]
          },
          "execution_count": 2,
          "metadata": {},
          "output_type": "execute_result"
        }
      ],
      "source": [
        "datos = pd.read_json('../data/datos_hosting.json')\n",
        "datos.head()"
      ]
    },
    {
      "cell_type": "markdown",
      "metadata": {},
      "source": [
        "##  04 Para saber más: pricing inteligente\n",
        "\n",
        "El pricing inteligente para alojamiento es una estrategia para estimar precios de forma automatizada y dinámica, que considera factores como oferta y demanda, estacionalidad, eventos locales, características de ubicación, entre otros. Con base en esta información, un algoritmo puede ajustar los precios para maximizar los ingresos y la rentabilidad del propietario.\n",
        "\n",
        "Normalmente, esta estrategia se aplica a un modelo de inteligencia artificial que ajusta automáticamente los precios diarios. Por ejemplo, si aumenta la demanda de alojamiento en un destino en particular, los precios inteligentes ajustarán automáticamente las tarifas de las habitaciones hacia arriba para maximizar los ingresos de la propiedad. Del mismo modo, si la demanda disminuye, los precios inteligentes ajustarán los precios a la baja para mantener la ocupación de las propiedades y evitar pérdidas financieras.\n",
        "\n",
        "Aunque el aprendizaje automático se utiliza a menudo en sistemas de precios inteligentes, existen otros enfoques que se pueden utilizar para implementar estos sistemas. Por ejemplo, puede utilizar un modelo de reglas basado en lógica y heurística para definir reglas y condiciones de precios.\n",
        "\n",
        "Aun así, es importante destacar que el uso del aprendizaje automático puede ofrecer beneficios adicionales, como la capacidad de analizar grandes volúmenes de datos, identificar patrones de comportamiento del consumidor y ajustar los precios de forma más precisa y dinámica."
      ]
    },
    {
      "cell_type": "markdown",
      "metadata": {},
      "source": [
        "### 05 - Comprendiendo los datos"
      ]
    },
    {
      "cell_type": "code",
      "execution_count": 3,
      "metadata": {
        "colab": {
          "base_uri": "https://localhost:8080/",
          "height": 556
        },
        "id": "95UtFE_TK8Dv",
        "outputId": "f8ae6a12-a374-4923-f8e7-a59bdb0ecf55"
      },
      "outputs": [
        {
          "data": {
            "text/html": [
              "<div>\n",
              "<style scoped>\n",
              "    .dataframe tbody tr th:only-of-type {\n",
              "        vertical-align: middle;\n",
              "    }\n",
              "\n",
              "    .dataframe tbody tr th {\n",
              "        vertical-align: top;\n",
              "    }\n",
              "\n",
              "    .dataframe thead th {\n",
              "        text-align: right;\n",
              "    }\n",
              "</style>\n",
              "<table border=\"1\" class=\"dataframe\">\n",
              "  <thead>\n",
              "    <tr style=\"text-align: right;\">\n",
              "      <th></th>\n",
              "      <th>evaluacion_general</th>\n",
              "      <th>experiencia_local</th>\n",
              "      <th>max_hospedes</th>\n",
              "      <th>descripcion_local</th>\n",
              "      <th>descripcion_vecindad</th>\n",
              "      <th>cantidad_baños</th>\n",
              "      <th>cantidad_cuartos</th>\n",
              "      <th>cantidad_camas</th>\n",
              "      <th>modelo_cama</th>\n",
              "      <th>comodidades</th>\n",
              "      <th>cuota_deposito</th>\n",
              "      <th>cuota_limpieza</th>\n",
              "      <th>precio</th>\n",
              "    </tr>\n",
              "  </thead>\n",
              "  <tbody>\n",
              "    <tr>\n",
              "      <th>0</th>\n",
              "      <td>10.0</td>\n",
              "      <td>--</td>\n",
              "      <td>1</td>\n",
              "      <td>[This clean and comfortable one bedroom sits r...</td>\n",
              "      <td>[Lower Queen Anne is near the Seattle Center (...</td>\n",
              "      <td>[1, 1, 1, 1, 1, 1, 1, 1, 1, 1, 1, 1, 1, 1, 1, ...</td>\n",
              "      <td>[1, 1, 1, 1, 1, 1, 1, 1, 1, 1, 1, 1, 1, 1, 1, ...</td>\n",
              "      <td>[1, 1, 1, 1, 1, 1, 1, 1, 1, 1, 1, 1, 1, 1, 1, ...</td>\n",
              "      <td>[Real Bed, Futon, Futon, Pull-out Sofa, Real B...</td>\n",
              "      <td>[{Internet,\"Wireless Internet\",Kitchen,\"Free P...</td>\n",
              "      <td>[$0, $0, $0, $0, $0, $350.00, $350.00, $350.00...</td>\n",
              "      <td>[$0, $0, $0, $20.00, $15.00, $28.00, $35.00, $...</td>\n",
              "      <td>[$110.00, $45.00, $55.00, $52.00, $85.00, $50....</td>\n",
              "    </tr>\n",
              "    <tr>\n",
              "      <th>1</th>\n",
              "      <td>10.0</td>\n",
              "      <td>--</td>\n",
              "      <td>10</td>\n",
              "      <td>[Welcome to the heart of the 'Ballard Brewery ...</td>\n",
              "      <td>[--, Capital Hill is the heart of Seattle, bor...</td>\n",
              "      <td>[2, 3, 2, 3, 3, 3, 2, 1, 2, 2, 2]</td>\n",
              "      <td>[3, 4, 2, 3, 3, 3, 3, 3, 3, 4, 3]</td>\n",
              "      <td>[5, 6, 8, 3, 3, 5, 4, 5, 6, 7, 4]</td>\n",
              "      <td>[Real Bed, Real Bed, Real Bed, Real Bed, Real ...</td>\n",
              "      <td>[{TV,Internet,\"Wireless Internet\",Kitchen,\"Fre...</td>\n",
              "      <td>[$500.00, $300.00, $0, $300.00, $300.00, $360....</td>\n",
              "      <td>[$125.00, $100.00, $85.00, $110.00, $110.00, $...</td>\n",
              "      <td>[$350.00, $300.00, $425.00, $300.00, $285.00, ...</td>\n",
              "    </tr>\n",
              "    <tr>\n",
              "      <th>2</th>\n",
              "      <td>10.0</td>\n",
              "      <td>--</td>\n",
              "      <td>11</td>\n",
              "      <td>[New modern house built in 2013.  Spectacular ...</td>\n",
              "      <td>[Upper Queen Anne is a charming neighborhood f...</td>\n",
              "      <td>[4]</td>\n",
              "      <td>[5]</td>\n",
              "      <td>[7]</td>\n",
              "      <td>[Real Bed]</td>\n",
              "      <td>[{TV,\"Cable TV\",Internet,\"Wireless Internet\",\"...</td>\n",
              "      <td>[$1,000.00]</td>\n",
              "      <td>[$300.00]</td>\n",
              "      <td>[$975.00]</td>\n",
              "    </tr>\n",
              "    <tr>\n",
              "      <th>3</th>\n",
              "      <td>10.0</td>\n",
              "      <td>--</td>\n",
              "      <td>12</td>\n",
              "      <td>[Our NW style home is 3200+ sq ft with 3 level...</td>\n",
              "      <td>[The Views from our top floor!  Wallingford ha...</td>\n",
              "      <td>[3, 3, 3, 3, 3, 3, 3, 3]</td>\n",
              "      <td>[6, 6, 5, 5, 5, 5, 4, 4]</td>\n",
              "      <td>[6, 6, 7, 8, 7, 7, 6, 6]</td>\n",
              "      <td>[Real Bed, Real Bed, Real Bed, Real Bed, Real ...</td>\n",
              "      <td>[{Internet,\"Wireless Internet\",Kitchen,\"Free P...</td>\n",
              "      <td>[$500.00, $500.00, $500.00, $500.00, $500.00, ...</td>\n",
              "      <td>[$225.00, $300.00, $250.00, $250.00, $250.00, ...</td>\n",
              "      <td>[$490.00, $550.00, $350.00, $350.00, $350.00, ...</td>\n",
              "    </tr>\n",
              "    <tr>\n",
              "      <th>4</th>\n",
              "      <td>10.0</td>\n",
              "      <td>--</td>\n",
              "      <td>14</td>\n",
              "      <td>[Perfect for groups. 2 bedrooms, full bathroom...</td>\n",
              "      <td>[Safeway grocery store within walking distance...</td>\n",
              "      <td>[2, 3]</td>\n",
              "      <td>[2, 6]</td>\n",
              "      <td>[3, 9]</td>\n",
              "      <td>[Real Bed, Real Bed]</td>\n",
              "      <td>[{TV,Internet,\"Wireless Internet\",Kitchen,\"Fre...</td>\n",
              "      <td>[$300.00, $2,000.00]</td>\n",
              "      <td>[$40.00, $150.00]</td>\n",
              "      <td>[$200.00, $545.00]</td>\n",
              "    </tr>\n",
              "  </tbody>\n",
              "</table>\n",
              "</div>"
            ],
            "text/plain": [
              "  evaluacion_general experiencia_local max_hospedes  \\\n",
              "0               10.0                --            1   \n",
              "1               10.0                --           10   \n",
              "2               10.0                --           11   \n",
              "3               10.0                --           12   \n",
              "4               10.0                --           14   \n",
              "\n",
              "                                   descripcion_local  \\\n",
              "0  [This clean and comfortable one bedroom sits r...   \n",
              "1  [Welcome to the heart of the 'Ballard Brewery ...   \n",
              "2  [New modern house built in 2013.  Spectacular ...   \n",
              "3  [Our NW style home is 3200+ sq ft with 3 level...   \n",
              "4  [Perfect for groups. 2 bedrooms, full bathroom...   \n",
              "\n",
              "                                descripcion_vecindad  \\\n",
              "0  [Lower Queen Anne is near the Seattle Center (...   \n",
              "1  [--, Capital Hill is the heart of Seattle, bor...   \n",
              "2  [Upper Queen Anne is a charming neighborhood f...   \n",
              "3  [The Views from our top floor!  Wallingford ha...   \n",
              "4  [Safeway grocery store within walking distance...   \n",
              "\n",
              "                                      cantidad_baños  \\\n",
              "0  [1, 1, 1, 1, 1, 1, 1, 1, 1, 1, 1, 1, 1, 1, 1, ...   \n",
              "1                  [2, 3, 2, 3, 3, 3, 2, 1, 2, 2, 2]   \n",
              "2                                                [4]   \n",
              "3                           [3, 3, 3, 3, 3, 3, 3, 3]   \n",
              "4                                             [2, 3]   \n",
              "\n",
              "                                    cantidad_cuartos  \\\n",
              "0  [1, 1, 1, 1, 1, 1, 1, 1, 1, 1, 1, 1, 1, 1, 1, ...   \n",
              "1                  [3, 4, 2, 3, 3, 3, 3, 3, 3, 4, 3]   \n",
              "2                                                [5]   \n",
              "3                           [6, 6, 5, 5, 5, 5, 4, 4]   \n",
              "4                                             [2, 6]   \n",
              "\n",
              "                                      cantidad_camas  \\\n",
              "0  [1, 1, 1, 1, 1, 1, 1, 1, 1, 1, 1, 1, 1, 1, 1, ...   \n",
              "1                  [5, 6, 8, 3, 3, 5, 4, 5, 6, 7, 4]   \n",
              "2                                                [7]   \n",
              "3                           [6, 6, 7, 8, 7, 7, 6, 6]   \n",
              "4                                             [3, 9]   \n",
              "\n",
              "                                         modelo_cama  \\\n",
              "0  [Real Bed, Futon, Futon, Pull-out Sofa, Real B...   \n",
              "1  [Real Bed, Real Bed, Real Bed, Real Bed, Real ...   \n",
              "2                                         [Real Bed]   \n",
              "3  [Real Bed, Real Bed, Real Bed, Real Bed, Real ...   \n",
              "4                               [Real Bed, Real Bed]   \n",
              "\n",
              "                                         comodidades  \\\n",
              "0  [{Internet,\"Wireless Internet\",Kitchen,\"Free P...   \n",
              "1  [{TV,Internet,\"Wireless Internet\",Kitchen,\"Fre...   \n",
              "2  [{TV,\"Cable TV\",Internet,\"Wireless Internet\",\"...   \n",
              "3  [{Internet,\"Wireless Internet\",Kitchen,\"Free P...   \n",
              "4  [{TV,Internet,\"Wireless Internet\",Kitchen,\"Fre...   \n",
              "\n",
              "                                      cuota_deposito  \\\n",
              "0  [$0, $0, $0, $0, $0, $350.00, $350.00, $350.00...   \n",
              "1  [$500.00, $300.00, $0, $300.00, $300.00, $360....   \n",
              "2                                        [$1,000.00]   \n",
              "3  [$500.00, $500.00, $500.00, $500.00, $500.00, ...   \n",
              "4                               [$300.00, $2,000.00]   \n",
              "\n",
              "                                      cuota_limpieza  \\\n",
              "0  [$0, $0, $0, $20.00, $15.00, $28.00, $35.00, $...   \n",
              "1  [$125.00, $100.00, $85.00, $110.00, $110.00, $...   \n",
              "2                                          [$300.00]   \n",
              "3  [$225.00, $300.00, $250.00, $250.00, $250.00, ...   \n",
              "4                                  [$40.00, $150.00]   \n",
              "\n",
              "                                              precio  \n",
              "0  [$110.00, $45.00, $55.00, $52.00, $85.00, $50....  \n",
              "1  [$350.00, $300.00, $425.00, $300.00, $285.00, ...  \n",
              "2                                          [$975.00]  \n",
              "3  [$490.00, $550.00, $350.00, $350.00, $350.00, ...  \n",
              "4                                 [$200.00, $545.00]  "
            ]
          },
          "execution_count": 3,
          "metadata": {},
          "output_type": "execute_result"
        }
      ],
      "source": [
        "datos = pd.json_normalize(datos['info_inmuebles'])\n",
        "datos.head()"
      ]
    },
    {
      "cell_type": "code",
      "execution_count": 4,
      "metadata": {},
      "outputs": [
        {
          "name": "stdout",
          "output_type": "stream",
          "text": [
            "<class 'pandas.core.frame.DataFrame'>\n",
            "RangeIndex: 70 entries, 0 to 69\n",
            "Data columns (total 13 columns):\n",
            " #   Column                Non-Null Count  Dtype \n",
            "---  ------                --------------  ----- \n",
            " 0   evaluacion_general    70 non-null     object\n",
            " 1   experiencia_local     70 non-null     object\n",
            " 2   max_hospedes          70 non-null     object\n",
            " 3   descripcion_local     70 non-null     object\n",
            " 4   descripcion_vecindad  70 non-null     object\n",
            " 5   cantidad_baños        70 non-null     object\n",
            " 6   cantidad_cuartos      70 non-null     object\n",
            " 7   cantidad_camas        70 non-null     object\n",
            " 8   modelo_cama           70 non-null     object\n",
            " 9   comodidades           70 non-null     object\n",
            " 10  cuota_deposito        70 non-null     object\n",
            " 11  cuota_limpieza        70 non-null     object\n",
            " 12  precio                70 non-null     object\n",
            "dtypes: object(13)\n",
            "memory usage: 7.2+ KB\n"
          ]
        }
      ],
      "source": [
        "datos.info()"
      ]
    },
    {
      "cell_type": "markdown",
      "metadata": {},
      "source": [
        "###  06 Usos para json_normalize\n",
        "\n",
        "Durante el proyecto, usamos json_normalize para “normalizar” un objeto, buscando convertir sus datos a un formato más estructurado, como un DataFrame. Sabiendo esto, marca la alternativa que te indica la forma correcta de utilizar json_normalize.\n",
        "\n",
        "Alternativa correta\n",
        "Cuando un archivo JSON tiene datos anidados (con varios niveles de anidamiento), el método json_normalize() se utiliza para transformar estos datos en un formato de tabla con múltiples columnas.\n",
        "\n",
        "\n",
        "El método json_normalize() se utiliza para normalizar un objeto JSON que puede tener una o varias jerarquías. Cuando el objeto se transforma a un formato de tabla de varias columnas, cada columna representa una llave JSON y cada fila representa un registro. Es una forma de hacer que los datos sean más fáciles de manipular y analizar."
      ]
    },
    {
      "cell_type": "markdown",
      "metadata": {},
      "source": [
        "###  07 Desafío: trabajando en otros contextos\n",
        "\n",
        "### Trabajando en otros contextos\n",
        "\n",
        "Ha llegado el momento de poner en práctica todo lo aprendido durante las clases. ¡Preparé dos proyectos adicionales para que los desarrollemos durante el curso, para asegurarnos de que podamos practicar mucho! Para ello trabajaremos con 2 nuevos conjuntos de datos, pero esta vez serán mucho más pequeños. Las bases de datos están disponibles para descargar aquí:\n",
        "\n",
        "* Proyecto Desafío 1: Ventas Online - dados_vendas_clientes.json;\n",
        "* Proyecto Desafío 2: Administración de Condominios - dados_locacao_imoveis.json.\n",
        "\n",
        "En cada clase desarrollaremos una etapa de los proyectos. Así que guarde su código de construcción para cada desafío para poder aplicarlo en los desafíos posteriores.\n",
        "\n",
        "### Etapa 1\n",
        "\n",
        "* Proyecto Desafío 1: Ventas Online\n",
        "\n",
        "El objetivo de este proyecto es analizar los resultados de un evento con los clientes de una empresa de venta online. Se recopiló un conjunto de datos que contiene los clientes que más gastaron en productos durante los 5 días de ventas, que es la duración del evento. Este análisis identificará al cliente con la mayor compra esta semana, quien recibirá un premio de la tienda, y posteriormente, puede ayudar a la empresa a crear nuevas estrategias para atraer más clientes.\n",
        "\n",
        "La base de datos utilizada en este análisis es dados_vendas_clientes.json y contiene información importante sobre los clientes, como el nombre registrado del cliente, el monto total pagado al momento de la compra y el día de la compra.\n",
        "\n",
        "Sabiendo esta información, el desafío del proyecto 1: ventas online será abrir la base de datos con Pandas y aplicar json_normalize.\n",
        "\n",
        "* Proyecto Desafío 2: Administración de Condominios\n",
        "\n",
        "Administrar condominios es una tarea que requiere mucha atención y organización. Entre las diversas responsabilidades de gestión se encuentra el cobro del alquiler a los inquilinos. Para garantizar la buena salud financiera de la empresa, es fundamental que estos pagos se realicen de forma regular y puntual. Sin embargo, sabemos que esto no siempre sucede.\n",
        "\n",
        "Teniendo esto en cuenta, propongo un desafío de procesamiento de datos con el objetivo de analizar el retraso en el pago del alquiler en el condominio de algunos residentes. Pongo a disposición la base de datos dados_locacao_imoveis.json, que contiene información sobre el departamento de los inquilinos, el día acordado para el pago del alquiler, el día en que se realiza el pago del alquiler y el monto del alquiler.\n",
        "\n",
        "Con esta información, el desafío del proyecto 2: administración del condominio será similar al desafío del proyecto 1, abrir la base de datos con Pandas y aplicar json_normalize al DataFrame.\n",
        "\n"
      ]
    },
    {
      "cell_type": "markdown",
      "metadata": {},
      "source": [
        "### Opinión del instructor\n",
        "\n",
        "Puede haber varias formas de resolver un problema. Presentaré cómo resolví los problemas y esto no quiere decir que estas sean las mejores soluciones, sino que son una opción de solución.\n",
        "\n",
        "Proyecto Desafío 1: Ventas Online"
      ]
    },
    {
      "cell_type": "code",
      "execution_count": 5,
      "metadata": {},
      "outputs": [
        {
          "data": {
            "text/html": [
              "<div>\n",
              "<style scoped>\n",
              "    .dataframe tbody tr th:only-of-type {\n",
              "        vertical-align: middle;\n",
              "    }\n",
              "\n",
              "    .dataframe tbody tr th {\n",
              "        vertical-align: top;\n",
              "    }\n",
              "\n",
              "    .dataframe thead th {\n",
              "        text-align: right;\n",
              "    }\n",
              "</style>\n",
              "<table border=\"1\" class=\"dataframe\">\n",
              "  <thead>\n",
              "    <tr style=\"text-align: right;\">\n",
              "      <th></th>\n",
              "      <th>dados_vendas</th>\n",
              "    </tr>\n",
              "  </thead>\n",
              "  <tbody>\n",
              "    <tr>\n",
              "      <th>0</th>\n",
              "      <td>{'Data de venda': '06/06/2022', 'Cliente': ['@...</td>\n",
              "    </tr>\n",
              "    <tr>\n",
              "      <th>1</th>\n",
              "      <td>{'Data de venda': '07/06/2022', 'Cliente': ['I...</td>\n",
              "    </tr>\n",
              "  </tbody>\n",
              "</table>\n",
              "</div>"
            ],
            "text/plain": [
              "                                        dados_vendas\n",
              "0  {'Data de venda': '06/06/2022', 'Cliente': ['@...\n",
              "1  {'Data de venda': '07/06/2022', 'Cliente': ['I..."
            ]
          },
          "execution_count": 5,
          "metadata": {},
          "output_type": "execute_result"
        }
      ],
      "source": [
        "# Import de pandas\n",
        "import pandas as pd\n",
        "# Leer el archivo json con read_json\n",
        "datos = pd.read_json('../data/dados_vendas_clientes.json')\n",
        "datos.head(2)"
      ]
    },
    {
      "cell_type": "code",
      "execution_count": 6,
      "metadata": {},
      "outputs": [
        {
          "data": {
            "text/html": [
              "<div>\n",
              "<style scoped>\n",
              "    .dataframe tbody tr th:only-of-type {\n",
              "        vertical-align: middle;\n",
              "    }\n",
              "\n",
              "    .dataframe tbody tr th {\n",
              "        vertical-align: top;\n",
              "    }\n",
              "\n",
              "    .dataframe thead th {\n",
              "        text-align: right;\n",
              "    }\n",
              "</style>\n",
              "<table border=\"1\" class=\"dataframe\">\n",
              "  <thead>\n",
              "    <tr style=\"text-align: right;\">\n",
              "      <th></th>\n",
              "      <th>Data de venda</th>\n",
              "      <th>Cliente</th>\n",
              "      <th>Valor da compra</th>\n",
              "    </tr>\n",
              "  </thead>\n",
              "  <tbody>\n",
              "    <tr>\n",
              "      <th>0</th>\n",
              "      <td>06/06/2022</td>\n",
              "      <td>[@ANA _LUCIA 321, DieGO ARMANDIU 210, DieGO AR...</td>\n",
              "      <td>[R$ 836,5, R$ 573,33, R$ 392,8, R$ 512,34]</td>\n",
              "    </tr>\n",
              "    <tr>\n",
              "      <th>1</th>\n",
              "      <td>07/06/2022</td>\n",
              "      <td>[Isabely JOanes 738, Isabely JOanes 738, Isabe...</td>\n",
              "      <td>[R$ 825,31, R$ 168,07, R$ 339,18, R$ 314,69]</td>\n",
              "    </tr>\n",
              "    <tr>\n",
              "      <th>2</th>\n",
              "      <td>08/06/2022</td>\n",
              "      <td>[Isabely JOanes 738, JOãO Gabriel 671, Julya m...</td>\n",
              "      <td>[R$ 682,05, R$ 386,34, R$ 622,65, R$ 630,79]</td>\n",
              "    </tr>\n",
              "    <tr>\n",
              "      <th>3</th>\n",
              "      <td>09/06/2022</td>\n",
              "      <td>[Julya meireles 914, MaRIA Julia 444, MaRIA Ju...</td>\n",
              "      <td>[R$ 390,3, R$ 759,16, R$ 334,47, R$ 678,78]</td>\n",
              "    </tr>\n",
              "    <tr>\n",
              "      <th>4</th>\n",
              "      <td>10/06/2022</td>\n",
              "      <td>[MaRIA Julia 444, PEDRO PASCO 812, Paulo castr...</td>\n",
              "      <td>[R$ 314,24, R$ 311,15, R$ 899,16, R$ 885,24]</td>\n",
              "    </tr>\n",
              "  </tbody>\n",
              "</table>\n",
              "</div>"
            ],
            "text/plain": [
              "  Data de venda                                            Cliente  \\\n",
              "0    06/06/2022  [@ANA _LUCIA 321, DieGO ARMANDIU 210, DieGO AR...   \n",
              "1    07/06/2022  [Isabely JOanes 738, Isabely JOanes 738, Isabe...   \n",
              "2    08/06/2022  [Isabely JOanes 738, JOãO Gabriel 671, Julya m...   \n",
              "3    09/06/2022  [Julya meireles 914, MaRIA Julia 444, MaRIA Ju...   \n",
              "4    10/06/2022  [MaRIA Julia 444, PEDRO PASCO 812, Paulo castr...   \n",
              "\n",
              "                                Valor da compra  \n",
              "0    [R$ 836,5, R$ 573,33, R$ 392,8, R$ 512,34]  \n",
              "1  [R$ 825,31, R$ 168,07, R$ 339,18, R$ 314,69]  \n",
              "2  [R$ 682,05, R$ 386,34, R$ 622,65, R$ 630,79]  \n",
              "3   [R$ 390,3, R$ 759,16, R$ 334,47, R$ 678,78]  \n",
              "4  [R$ 314,24, R$ 311,15, R$ 899,16, R$ 885,24]  "
            ]
          },
          "execution_count": 6,
          "metadata": {},
          "output_type": "execute_result"
        }
      ],
      "source": [
        "# Import de pandas\n",
        "import pandas as pd\n",
        "# Leer el archivo json con read_json\n",
        "datos = pd.read_json('../data/dados_vendas_clientes.json')\n",
        "# Aplicar json_normalize en la columna dados_vendas\n",
        "datos = pd.json_normalize(datos['dados_vendas']) # Columna dados_vendas\n",
        "# Mostrar valores\n",
        "datos"
      ]
    },
    {
      "cell_type": "markdown",
      "metadata": {},
      "source": [
        "Projecto Desafio 2: Administración de Condominios\n",
        "\n"
      ]
    },
    {
      "cell_type": "code",
      "execution_count": 7,
      "metadata": {},
      "outputs": [
        {
          "data": {
            "text/html": [
              "<div>\n",
              "<style scoped>\n",
              "    .dataframe tbody tr th:only-of-type {\n",
              "        vertical-align: middle;\n",
              "    }\n",
              "\n",
              "    .dataframe tbody tr th {\n",
              "        vertical-align: top;\n",
              "    }\n",
              "\n",
              "    .dataframe thead th {\n",
              "        text-align: right;\n",
              "    }\n",
              "</style>\n",
              "<table border=\"1\" class=\"dataframe\">\n",
              "  <thead>\n",
              "    <tr style=\"text-align: right;\">\n",
              "      <th></th>\n",
              "      <th>dados_locacao</th>\n",
              "    </tr>\n",
              "  </thead>\n",
              "  <tbody>\n",
              "    <tr>\n",
              "      <th>13</th>\n",
              "      <td>{'apartamento': 'G702 (blocoAP)', 'datas_combi...</td>\n",
              "    </tr>\n",
              "    <tr>\n",
              "      <th>3</th>\n",
              "      <td>{'apartamento': 'B202 (blocoAP)', 'datas_combi...</td>\n",
              "    </tr>\n",
              "  </tbody>\n",
              "</table>\n",
              "</div>"
            ],
            "text/plain": [
              "                                        dados_locacao\n",
              "13  {'apartamento': 'G702 (blocoAP)', 'datas_combi...\n",
              "3   {'apartamento': 'B202 (blocoAP)', 'datas_combi..."
            ]
          },
          "execution_count": 7,
          "metadata": {},
          "output_type": "execute_result"
        }
      ],
      "source": [
        "# Import de pandas\n",
        "import pandas as pd\n",
        "# Leer el archivo json con read_json\n",
        "datos = pd.read_json('../data/dados_locacao_imoveis.json')\n",
        "datos.sample(2)"
      ]
    },
    {
      "cell_type": "code",
      "execution_count": 8,
      "metadata": {},
      "outputs": [
        {
          "data": {
            "text/html": [
              "<div>\n",
              "<style scoped>\n",
              "    .dataframe tbody tr th:only-of-type {\n",
              "        vertical-align: middle;\n",
              "    }\n",
              "\n",
              "    .dataframe tbody tr th {\n",
              "        vertical-align: top;\n",
              "    }\n",
              "\n",
              "    .dataframe thead th {\n",
              "        text-align: right;\n",
              "    }\n",
              "</style>\n",
              "<table border=\"1\" class=\"dataframe\">\n",
              "  <thead>\n",
              "    <tr style=\"text-align: right;\">\n",
              "      <th></th>\n",
              "      <th>apartamento</th>\n",
              "      <th>datas_combinadas_pagamento</th>\n",
              "      <th>datas_de_pagamento</th>\n",
              "      <th>valor_aluguel</th>\n",
              "    </tr>\n",
              "  </thead>\n",
              "  <tbody>\n",
              "    <tr>\n",
              "      <th>12</th>\n",
              "      <td>G701 (blocoAP)</td>\n",
              "      <td>[13/06/2022, 13/07/2022]</td>\n",
              "      <td>[19/06/2022, 20/07/2022]</td>\n",
              "      <td>[$ 2200,0 reais, $ 1200,0 reais]</td>\n",
              "    </tr>\n",
              "    <tr>\n",
              "      <th>13</th>\n",
              "      <td>G702 (blocoAP)</td>\n",
              "      <td>[14/06/2022, 14/07/2022]</td>\n",
              "      <td>[15/06/2022, 17/07/2022]</td>\n",
              "      <td>[$ 2300,0 reais, $ 2100,0 reais]</td>\n",
              "    </tr>\n",
              "    <tr>\n",
              "      <th>14</th>\n",
              "      <td>H801 (blocoAP)</td>\n",
              "      <td>[15/06/2022, 15/07/2022]</td>\n",
              "      <td>[18/06/2022, 16/07/2022]</td>\n",
              "      <td>[$ 2400,0 reais, $ 2200,0 reais]</td>\n",
              "    </tr>\n",
              "  </tbody>\n",
              "</table>\n",
              "</div>"
            ],
            "text/plain": [
              "       apartamento datas_combinadas_pagamento        datas_de_pagamento  \\\n",
              "12  G701 (blocoAP)   [13/06/2022, 13/07/2022]  [19/06/2022, 20/07/2022]   \n",
              "13  G702 (blocoAP)   [14/06/2022, 14/07/2022]  [15/06/2022, 17/07/2022]   \n",
              "14  H801 (blocoAP)   [15/06/2022, 15/07/2022]  [18/06/2022, 16/07/2022]   \n",
              "\n",
              "                       valor_aluguel  \n",
              "12  [$ 2200,0 reais, $ 1200,0 reais]  \n",
              "13  [$ 2300,0 reais, $ 2100,0 reais]  \n",
              "14  [$ 2400,0 reais, $ 2200,0 reais]  "
            ]
          },
          "execution_count": 8,
          "metadata": {},
          "output_type": "execute_result"
        }
      ],
      "source": [
        "# Import de pandas\n",
        "import pandas as pd\n",
        "# Leer el archivo json con read_json\n",
        "datos = pd.read_json('../data/dados_locacao_imoveis.json')\n",
        "# Aplicar json_normalize en la columna dados_locacao\n",
        "datos = pd.json_normalize(datos['dados_locacao']) # Columna dados_locacao\n",
        "# Mostrar valores\n",
        "datos.tail(3)"
      ]
    },
    {
      "cell_type": "markdown",
      "metadata": {},
      "source": [
        "## 08 Lo que aprendimos\n",
        "\n",
        "\n",
        "En esta aula, aprendimos a:\n",
        "\n",
        "* Leer archivos de datos con read_json;\n",
        "* Identificar los ajustes necesarios para un posterior procesamiento en un conjunto de datos;\n",
        "* Normalizar la visualización de los datos con el método json_normalize;\n",
        "* Comprender el problema de la fijación de precios inteligente."
      ]
    },
    {
      "cell_type": "markdown",
      "metadata": {
        "id": "x34W-kzrq5aR"
      },
      "source": [
        "# **2. Datos numéricos**\n",
        "\n",
        "##  02 Para saber más: descripción de los datos\n",
        "\n",
        "Cuando trabajamos con cualquier conjunto de datos, necesitamos saber qué información nos aportan esos datos, porque solo así podremos estudiarlos y analizarlos para desarrollar una solución de análisis y procesamiento de datos.\n",
        "\n",
        "En este curso trabajaremos con el conjunto de datos presentes en el archivo datos_hosting.json y, para avanzar en nuestros estudios sobre los datos que proporciona este archivo, entenderemos qué información trae cada columna.\n",
        "\n",
        "* evaluacion_general: se refiere a la puntuación media otorgada para evaluar el alojamiento en la propiedad.\n",
        "* experiencia_local: describe las experiencias ofrecidas durante su estancia en la propiedad.\n",
        "* max_hospedes: informa el número máximo de invitados que permite la ubicación.\n",
        "* descripcion_local: describe la propiedad.\n",
        "* descripcion_vecindad: describe el vecindario alrededor de la propiedad.\n",
        "* cantidad_baños: informa el número de baños disponibles.\n",
        "* cantidad_cuartos: informa el número de habitaciones disponibles.\n",
        "* cantidad_camas: informa el número de camas disponibles.\n",
        "* modelo_cama: informa el modelo de cama ofrecido.\n",
        "* comodidades: informa las comodidades que ofrece la propiedad.\n",
        "* cuota_deposito: informa la tarifa mínima de depósito para la seguridad del hosting.\n",
        "* cuota_limpieza: informa el cargo cobrado por el servicio de limpieza.\n",
        "* precio: se refiere al precio base a cobrar por la estancia diaria en la propiedad.\n",
        "\n",
        "\n",
        "\n",
        "\n",
        "\n"
      ]
    },
    {
      "cell_type": "markdown",
      "metadata": {},
      "source": [
        "## 03 Retirando las listas\n"
      ]
    },
    {
      "cell_type": "code",
      "execution_count": 9,
      "metadata": {},
      "outputs": [
        {
          "data": {
            "text/html": [
              "<div>\n",
              "<style scoped>\n",
              "    .dataframe tbody tr th:only-of-type {\n",
              "        vertical-align: middle;\n",
              "    }\n",
              "\n",
              "    .dataframe tbody tr th {\n",
              "        vertical-align: top;\n",
              "    }\n",
              "\n",
              "    .dataframe thead th {\n",
              "        text-align: right;\n",
              "    }\n",
              "</style>\n",
              "<table border=\"1\" class=\"dataframe\">\n",
              "  <thead>\n",
              "    <tr style=\"text-align: right;\">\n",
              "      <th></th>\n",
              "      <th>evaluacion_general</th>\n",
              "      <th>experiencia_local</th>\n",
              "      <th>max_hospedes</th>\n",
              "      <th>descripcion_local</th>\n",
              "      <th>descripcion_vecindad</th>\n",
              "      <th>cantidad_baños</th>\n",
              "      <th>cantidad_cuartos</th>\n",
              "      <th>cantidad_camas</th>\n",
              "      <th>modelo_cama</th>\n",
              "      <th>comodidades</th>\n",
              "      <th>cuota_deposito</th>\n",
              "      <th>cuota_limpieza</th>\n",
              "      <th>precio</th>\n",
              "    </tr>\n",
              "  </thead>\n",
              "  <tbody>\n",
              "    <tr>\n",
              "      <th>0</th>\n",
              "      <td>10.0</td>\n",
              "      <td>--</td>\n",
              "      <td>1</td>\n",
              "      <td>[This clean and comfortable one bedroom sits r...</td>\n",
              "      <td>[Lower Queen Anne is near the Seattle Center (...</td>\n",
              "      <td>[1, 1, 1, 1, 1, 1, 1, 1, 1, 1, 1, 1, 1, 1, 1, ...</td>\n",
              "      <td>[1, 1, 1, 1, 1, 1, 1, 1, 1, 1, 1, 1, 1, 1, 1, ...</td>\n",
              "      <td>[1, 1, 1, 1, 1, 1, 1, 1, 1, 1, 1, 1, 1, 1, 1, ...</td>\n",
              "      <td>[Real Bed, Futon, Futon, Pull-out Sofa, Real B...</td>\n",
              "      <td>[{Internet,\"Wireless Internet\",Kitchen,\"Free P...</td>\n",
              "      <td>[$0, $0, $0, $0, $0, $350.00, $350.00, $350.00...</td>\n",
              "      <td>[$0, $0, $0, $20.00, $15.00, $28.00, $35.00, $...</td>\n",
              "      <td>[$110.00, $45.00, $55.00, $52.00, $85.00, $50....</td>\n",
              "    </tr>\n",
              "    <tr>\n",
              "      <th>1</th>\n",
              "      <td>10.0</td>\n",
              "      <td>--</td>\n",
              "      <td>10</td>\n",
              "      <td>[Welcome to the heart of the 'Ballard Brewery ...</td>\n",
              "      <td>[--, Capital Hill is the heart of Seattle, bor...</td>\n",
              "      <td>[2, 3, 2, 3, 3, 3, 2, 1, 2, 2, 2]</td>\n",
              "      <td>[3, 4, 2, 3, 3, 3, 3, 3, 3, 4, 3]</td>\n",
              "      <td>[5, 6, 8, 3, 3, 5, 4, 5, 6, 7, 4]</td>\n",
              "      <td>[Real Bed, Real Bed, Real Bed, Real Bed, Real ...</td>\n",
              "      <td>[{TV,Internet,\"Wireless Internet\",Kitchen,\"Fre...</td>\n",
              "      <td>[$500.00, $300.00, $0, $300.00, $300.00, $360....</td>\n",
              "      <td>[$125.00, $100.00, $85.00, $110.00, $110.00, $...</td>\n",
              "      <td>[$350.00, $300.00, $425.00, $300.00, $285.00, ...</td>\n",
              "    </tr>\n",
              "    <tr>\n",
              "      <th>2</th>\n",
              "      <td>10.0</td>\n",
              "      <td>--</td>\n",
              "      <td>11</td>\n",
              "      <td>[New modern house built in 2013.  Spectacular ...</td>\n",
              "      <td>[Upper Queen Anne is a charming neighborhood f...</td>\n",
              "      <td>[4]</td>\n",
              "      <td>[5]</td>\n",
              "      <td>[7]</td>\n",
              "      <td>[Real Bed]</td>\n",
              "      <td>[{TV,\"Cable TV\",Internet,\"Wireless Internet\",\"...</td>\n",
              "      <td>[$1,000.00]</td>\n",
              "      <td>[$300.00]</td>\n",
              "      <td>[$975.00]</td>\n",
              "    </tr>\n",
              "    <tr>\n",
              "      <th>3</th>\n",
              "      <td>10.0</td>\n",
              "      <td>--</td>\n",
              "      <td>12</td>\n",
              "      <td>[Our NW style home is 3200+ sq ft with 3 level...</td>\n",
              "      <td>[The Views from our top floor!  Wallingford ha...</td>\n",
              "      <td>[3, 3, 3, 3, 3, 3, 3, 3]</td>\n",
              "      <td>[6, 6, 5, 5, 5, 5, 4, 4]</td>\n",
              "      <td>[6, 6, 7, 8, 7, 7, 6, 6]</td>\n",
              "      <td>[Real Bed, Real Bed, Real Bed, Real Bed, Real ...</td>\n",
              "      <td>[{Internet,\"Wireless Internet\",Kitchen,\"Free P...</td>\n",
              "      <td>[$500.00, $500.00, $500.00, $500.00, $500.00, ...</td>\n",
              "      <td>[$225.00, $300.00, $250.00, $250.00, $250.00, ...</td>\n",
              "      <td>[$490.00, $550.00, $350.00, $350.00, $350.00, ...</td>\n",
              "    </tr>\n",
              "    <tr>\n",
              "      <th>4</th>\n",
              "      <td>10.0</td>\n",
              "      <td>--</td>\n",
              "      <td>14</td>\n",
              "      <td>[Perfect for groups. 2 bedrooms, full bathroom...</td>\n",
              "      <td>[Safeway grocery store within walking distance...</td>\n",
              "      <td>[2, 3]</td>\n",
              "      <td>[2, 6]</td>\n",
              "      <td>[3, 9]</td>\n",
              "      <td>[Real Bed, Real Bed]</td>\n",
              "      <td>[{TV,Internet,\"Wireless Internet\",Kitchen,\"Fre...</td>\n",
              "      <td>[$300.00, $2,000.00]</td>\n",
              "      <td>[$40.00, $150.00]</td>\n",
              "      <td>[$200.00, $545.00]</td>\n",
              "    </tr>\n",
              "  </tbody>\n",
              "</table>\n",
              "</div>"
            ],
            "text/plain": [
              "  evaluacion_general experiencia_local max_hospedes  \\\n",
              "0               10.0                --            1   \n",
              "1               10.0                --           10   \n",
              "2               10.0                --           11   \n",
              "3               10.0                --           12   \n",
              "4               10.0                --           14   \n",
              "\n",
              "                                   descripcion_local  \\\n",
              "0  [This clean and comfortable one bedroom sits r...   \n",
              "1  [Welcome to the heart of the 'Ballard Brewery ...   \n",
              "2  [New modern house built in 2013.  Spectacular ...   \n",
              "3  [Our NW style home is 3200+ sq ft with 3 level...   \n",
              "4  [Perfect for groups. 2 bedrooms, full bathroom...   \n",
              "\n",
              "                                descripcion_vecindad  \\\n",
              "0  [Lower Queen Anne is near the Seattle Center (...   \n",
              "1  [--, Capital Hill is the heart of Seattle, bor...   \n",
              "2  [Upper Queen Anne is a charming neighborhood f...   \n",
              "3  [The Views from our top floor!  Wallingford ha...   \n",
              "4  [Safeway grocery store within walking distance...   \n",
              "\n",
              "                                      cantidad_baños  \\\n",
              "0  [1, 1, 1, 1, 1, 1, 1, 1, 1, 1, 1, 1, 1, 1, 1, ...   \n",
              "1                  [2, 3, 2, 3, 3, 3, 2, 1, 2, 2, 2]   \n",
              "2                                                [4]   \n",
              "3                           [3, 3, 3, 3, 3, 3, 3, 3]   \n",
              "4                                             [2, 3]   \n",
              "\n",
              "                                    cantidad_cuartos  \\\n",
              "0  [1, 1, 1, 1, 1, 1, 1, 1, 1, 1, 1, 1, 1, 1, 1, ...   \n",
              "1                  [3, 4, 2, 3, 3, 3, 3, 3, 3, 4, 3]   \n",
              "2                                                [5]   \n",
              "3                           [6, 6, 5, 5, 5, 5, 4, 4]   \n",
              "4                                             [2, 6]   \n",
              "\n",
              "                                      cantidad_camas  \\\n",
              "0  [1, 1, 1, 1, 1, 1, 1, 1, 1, 1, 1, 1, 1, 1, 1, ...   \n",
              "1                  [5, 6, 8, 3, 3, 5, 4, 5, 6, 7, 4]   \n",
              "2                                                [7]   \n",
              "3                           [6, 6, 7, 8, 7, 7, 6, 6]   \n",
              "4                                             [3, 9]   \n",
              "\n",
              "                                         modelo_cama  \\\n",
              "0  [Real Bed, Futon, Futon, Pull-out Sofa, Real B...   \n",
              "1  [Real Bed, Real Bed, Real Bed, Real Bed, Real ...   \n",
              "2                                         [Real Bed]   \n",
              "3  [Real Bed, Real Bed, Real Bed, Real Bed, Real ...   \n",
              "4                               [Real Bed, Real Bed]   \n",
              "\n",
              "                                         comodidades  \\\n",
              "0  [{Internet,\"Wireless Internet\",Kitchen,\"Free P...   \n",
              "1  [{TV,Internet,\"Wireless Internet\",Kitchen,\"Fre...   \n",
              "2  [{TV,\"Cable TV\",Internet,\"Wireless Internet\",\"...   \n",
              "3  [{Internet,\"Wireless Internet\",Kitchen,\"Free P...   \n",
              "4  [{TV,Internet,\"Wireless Internet\",Kitchen,\"Fre...   \n",
              "\n",
              "                                      cuota_deposito  \\\n",
              "0  [$0, $0, $0, $0, $0, $350.00, $350.00, $350.00...   \n",
              "1  [$500.00, $300.00, $0, $300.00, $300.00, $360....   \n",
              "2                                        [$1,000.00]   \n",
              "3  [$500.00, $500.00, $500.00, $500.00, $500.00, ...   \n",
              "4                               [$300.00, $2,000.00]   \n",
              "\n",
              "                                      cuota_limpieza  \\\n",
              "0  [$0, $0, $0, $20.00, $15.00, $28.00, $35.00, $...   \n",
              "1  [$125.00, $100.00, $85.00, $110.00, $110.00, $...   \n",
              "2                                          [$300.00]   \n",
              "3  [$225.00, $300.00, $250.00, $250.00, $250.00, ...   \n",
              "4                                  [$40.00, $150.00]   \n",
              "\n",
              "                                              precio  \n",
              "0  [$110.00, $45.00, $55.00, $52.00, $85.00, $50....  \n",
              "1  [$350.00, $300.00, $425.00, $300.00, $285.00, ...  \n",
              "2                                          [$975.00]  \n",
              "3  [$490.00, $550.00, $350.00, $350.00, $350.00, ...  \n",
              "4                                 [$200.00, $545.00]  "
            ]
          },
          "execution_count": 9,
          "metadata": {},
          "output_type": "execute_result"
        }
      ],
      "source": [
        "import pandas as pd\n",
        "datos = pd.read_json('../data/datos_hosting.json')\n",
        "datos = pd.json_normalize(datos['info_inmuebles'])\n",
        "datos.head()"
      ]
    },
    {
      "cell_type": "code",
      "execution_count": 10,
      "metadata": {
        "colab": {
          "base_uri": "https://localhost:8080/"
        },
        "id": "pT33tpUqnqEQ",
        "outputId": "f49e115a-caf4-464b-82bf-ffeb94e9c89c"
      },
      "outputs": [
        {
          "data": {
            "text/plain": [
              "['evaluacion_general',\n",
              " 'experiencia_local',\n",
              " 'max_hospedes',\n",
              " 'descripcion_local',\n",
              " 'descripcion_vecindad',\n",
              " 'cantidad_baños',\n",
              " 'cantidad_cuartos',\n",
              " 'cantidad_camas',\n",
              " 'modelo_cama',\n",
              " 'comodidades',\n",
              " 'cuota_deposito',\n",
              " 'cuota_limpieza',\n",
              " 'precio']"
            ]
          },
          "execution_count": 10,
          "metadata": {},
          "output_type": "execute_result"
        }
      ],
      "source": [
        "columnas = list(datos.columns)\n",
        "columnas"
      ]
    },
    {
      "cell_type": "code",
      "execution_count": 11,
      "metadata": {
        "colab": {
          "base_uri": "https://localhost:8080/",
          "height": 791
        },
        "id": "8JC86S1InqMA",
        "outputId": "6d9bd57d-a54a-4bd0-9352-a2a5d0a8ef3d"
      },
      "outputs": [
        {
          "data": {
            "text/html": [
              "<div>\n",
              "<style scoped>\n",
              "    .dataframe tbody tr th:only-of-type {\n",
              "        vertical-align: middle;\n",
              "    }\n",
              "\n",
              "    .dataframe tbody tr th {\n",
              "        vertical-align: top;\n",
              "    }\n",
              "\n",
              "    .dataframe thead th {\n",
              "        text-align: right;\n",
              "    }\n",
              "</style>\n",
              "<table border=\"1\" class=\"dataframe\">\n",
              "  <thead>\n",
              "    <tr style=\"text-align: right;\">\n",
              "      <th></th>\n",
              "      <th>evaluacion_general</th>\n",
              "      <th>experiencia_local</th>\n",
              "      <th>max_hospedes</th>\n",
              "      <th>descripcion_local</th>\n",
              "      <th>descripcion_vecindad</th>\n",
              "      <th>cantidad_baños</th>\n",
              "      <th>cantidad_cuartos</th>\n",
              "      <th>cantidad_camas</th>\n",
              "      <th>modelo_cama</th>\n",
              "      <th>comodidades</th>\n",
              "      <th>cuota_deposito</th>\n",
              "      <th>cuota_limpieza</th>\n",
              "      <th>precio</th>\n",
              "    </tr>\n",
              "  </thead>\n",
              "  <tbody>\n",
              "    <tr>\n",
              "      <th>0</th>\n",
              "      <td>10.0</td>\n",
              "      <td>--</td>\n",
              "      <td>1</td>\n",
              "      <td>This clean and comfortable one bedroom sits ri...</td>\n",
              "      <td>Lower Queen Anne is near the Seattle Center (s...</td>\n",
              "      <td>1</td>\n",
              "      <td>1</td>\n",
              "      <td>1</td>\n",
              "      <td>Real Bed</td>\n",
              "      <td>{Internet,\"Wireless Internet\",Kitchen,\"Free Pa...</td>\n",
              "      <td>$0</td>\n",
              "      <td>$0</td>\n",
              "      <td>$110.00</td>\n",
              "    </tr>\n",
              "    <tr>\n",
              "      <th>0</th>\n",
              "      <td>10.0</td>\n",
              "      <td>--</td>\n",
              "      <td>1</td>\n",
              "      <td>Our century old Upper Queen Anne house is loca...</td>\n",
              "      <td>Upper Queen Anne is a really pleasant, unique ...</td>\n",
              "      <td>1</td>\n",
              "      <td>1</td>\n",
              "      <td>1</td>\n",
              "      <td>Futon</td>\n",
              "      <td>{TV,Internet,\"Wireless Internet\",Kitchen,\"Free...</td>\n",
              "      <td>$0</td>\n",
              "      <td>$0</td>\n",
              "      <td>$45.00</td>\n",
              "    </tr>\n",
              "    <tr>\n",
              "      <th>0</th>\n",
              "      <td>10.0</td>\n",
              "      <td>--</td>\n",
              "      <td>1</td>\n",
              "      <td>Cozy room in two-bedroom apartment along the l...</td>\n",
              "      <td>The convenience of being in Seattle but on the...</td>\n",
              "      <td>1</td>\n",
              "      <td>1</td>\n",
              "      <td>1</td>\n",
              "      <td>Futon</td>\n",
              "      <td>{TV,Internet,\"Wireless Internet\",Kitchen,\"Free...</td>\n",
              "      <td>$0</td>\n",
              "      <td>$0</td>\n",
              "      <td>$55.00</td>\n",
              "    </tr>\n",
              "    <tr>\n",
              "      <th>0</th>\n",
              "      <td>10.0</td>\n",
              "      <td>--</td>\n",
              "      <td>1</td>\n",
              "      <td>Very lovely and cozy room for one. Convenientl...</td>\n",
              "      <td>Ballard is lovely, vibrant and one of the most...</td>\n",
              "      <td>1</td>\n",
              "      <td>1</td>\n",
              "      <td>1</td>\n",
              "      <td>Pull-out Sofa</td>\n",
              "      <td>{Internet,\"Wireless Internet\",Kitchen,\"Free Pa...</td>\n",
              "      <td>$0</td>\n",
              "      <td>$20.00</td>\n",
              "      <td>$52.00</td>\n",
              "    </tr>\n",
              "    <tr>\n",
              "      <th>0</th>\n",
              "      <td>10.0</td>\n",
              "      <td>--</td>\n",
              "      <td>1</td>\n",
              "      <td>The “Studio at Mibbett Hollow' is in a Beautif...</td>\n",
              "      <td>--</td>\n",
              "      <td>1</td>\n",
              "      <td>1</td>\n",
              "      <td>1</td>\n",
              "      <td>Real Bed</td>\n",
              "      <td>{\"Wireless Internet\",Kitchen,\"Free Parking on ...</td>\n",
              "      <td>$0</td>\n",
              "      <td>$15.00</td>\n",
              "      <td>$85.00</td>\n",
              "    </tr>\n",
              "    <tr>\n",
              "      <th>...</th>\n",
              "      <td>...</td>\n",
              "      <td>...</td>\n",
              "      <td>...</td>\n",
              "      <td>...</td>\n",
              "      <td>...</td>\n",
              "      <td>...</td>\n",
              "      <td>...</td>\n",
              "      <td>...</td>\n",
              "      <td>...</td>\n",
              "      <td>...</td>\n",
              "      <td>...</td>\n",
              "      <td>...</td>\n",
              "      <td>...</td>\n",
              "    </tr>\n",
              "    <tr>\n",
              "      <th>68</th>\n",
              "      <td>nan</td>\n",
              "      <td>--</td>\n",
              "      <td>8</td>\n",
              "      <td>Beautiful craftsman home in the historic Wedgw...</td>\n",
              "      <td>--</td>\n",
              "      <td>3</td>\n",
              "      <td>4</td>\n",
              "      <td>5</td>\n",
              "      <td>Real Bed</td>\n",
              "      <td>{TV,\"Cable TV\",Internet,\"Wireless Internet\",\"A...</td>\n",
              "      <td>$1,000.00</td>\n",
              "      <td>$178.00</td>\n",
              "      <td>$299.00</td>\n",
              "    </tr>\n",
              "    <tr>\n",
              "      <th>68</th>\n",
              "      <td>nan</td>\n",
              "      <td>--</td>\n",
              "      <td>8</td>\n",
              "      <td>Located in a very easily accessible area of Se...</td>\n",
              "      <td>Quiet, dead end street near I-5. The proximity...</td>\n",
              "      <td>2</td>\n",
              "      <td>4</td>\n",
              "      <td>4</td>\n",
              "      <td>Real Bed</td>\n",
              "      <td>{TV,\"Cable TV\",Internet,\"Wireless Internet\",Ki...</td>\n",
              "      <td>$0</td>\n",
              "      <td>$99.00</td>\n",
              "      <td>$199.00</td>\n",
              "    </tr>\n",
              "    <tr>\n",
              "      <th>68</th>\n",
              "      <td>nan</td>\n",
              "      <td>--</td>\n",
              "      <td>8</td>\n",
              "      <td>This home is fully furnished and available wee...</td>\n",
              "      <td>--</td>\n",
              "      <td>1</td>\n",
              "      <td>3</td>\n",
              "      <td>4</td>\n",
              "      <td>Real Bed</td>\n",
              "      <td>{TV,\"Cable TV\",Internet,\"Wireless Internet\",\"A...</td>\n",
              "      <td>$0</td>\n",
              "      <td>$0</td>\n",
              "      <td>$400.00</td>\n",
              "    </tr>\n",
              "    <tr>\n",
              "      <th>69</th>\n",
              "      <td>nan</td>\n",
              "      <td>--</td>\n",
              "      <td>9</td>\n",
              "      <td>This business-themed modern home features:  *H...</td>\n",
              "      <td>Your hosts made Madison Valley their home when...</td>\n",
              "      <td>2</td>\n",
              "      <td>3</td>\n",
              "      <td>6</td>\n",
              "      <td>Real Bed</td>\n",
              "      <td>{TV,\"Cable TV\",Internet,\"Wireless Internet\",\"A...</td>\n",
              "      <td>$1,000.00</td>\n",
              "      <td>$150.00</td>\n",
              "      <td>$250.00</td>\n",
              "    </tr>\n",
              "    <tr>\n",
              "      <th>69</th>\n",
              "      <td>nan</td>\n",
              "      <td>--</td>\n",
              "      <td>9</td>\n",
              "      <td>This welcoming home is in the quiet residentia...</td>\n",
              "      <td>Despite the quiet, leafy streets of this resid...</td>\n",
              "      <td>1</td>\n",
              "      <td>4</td>\n",
              "      <td>6</td>\n",
              "      <td>Real Bed</td>\n",
              "      <td>{TV,Internet,\"Wireless Internet\",Kitchen,\"Free...</td>\n",
              "      <td>$500.00</td>\n",
              "      <td>$0</td>\n",
              "      <td>$350.00</td>\n",
              "    </tr>\n",
              "  </tbody>\n",
              "</table>\n",
              "<p>3818 rows × 13 columns</p>\n",
              "</div>"
            ],
            "text/plain": [
              "   evaluacion_general experiencia_local max_hospedes  \\\n",
              "0                10.0                --            1   \n",
              "0                10.0                --            1   \n",
              "0                10.0                --            1   \n",
              "0                10.0                --            1   \n",
              "0                10.0                --            1   \n",
              "..                ...               ...          ...   \n",
              "68                nan                --            8   \n",
              "68                nan                --            8   \n",
              "68                nan                --            8   \n",
              "69                nan                --            9   \n",
              "69                nan                --            9   \n",
              "\n",
              "                                    descripcion_local  \\\n",
              "0   This clean and comfortable one bedroom sits ri...   \n",
              "0   Our century old Upper Queen Anne house is loca...   \n",
              "0   Cozy room in two-bedroom apartment along the l...   \n",
              "0   Very lovely and cozy room for one. Convenientl...   \n",
              "0   The “Studio at Mibbett Hollow' is in a Beautif...   \n",
              "..                                                ...   \n",
              "68  Beautiful craftsman home in the historic Wedgw...   \n",
              "68  Located in a very easily accessible area of Se...   \n",
              "68  This home is fully furnished and available wee...   \n",
              "69  This business-themed modern home features:  *H...   \n",
              "69  This welcoming home is in the quiet residentia...   \n",
              "\n",
              "                                 descripcion_vecindad cantidad_baños  \\\n",
              "0   Lower Queen Anne is near the Seattle Center (s...              1   \n",
              "0   Upper Queen Anne is a really pleasant, unique ...              1   \n",
              "0   The convenience of being in Seattle but on the...              1   \n",
              "0   Ballard is lovely, vibrant and one of the most...              1   \n",
              "0                                                  --              1   \n",
              "..                                                ...            ...   \n",
              "68                                                 --              3   \n",
              "68  Quiet, dead end street near I-5. The proximity...              2   \n",
              "68                                                 --              1   \n",
              "69  Your hosts made Madison Valley their home when...              2   \n",
              "69  Despite the quiet, leafy streets of this resid...              1   \n",
              "\n",
              "   cantidad_cuartos cantidad_camas    modelo_cama  \\\n",
              "0                 1              1       Real Bed   \n",
              "0                 1              1          Futon   \n",
              "0                 1              1          Futon   \n",
              "0                 1              1  Pull-out Sofa   \n",
              "0                 1              1       Real Bed   \n",
              "..              ...            ...            ...   \n",
              "68                4              5       Real Bed   \n",
              "68                4              4       Real Bed   \n",
              "68                3              4       Real Bed   \n",
              "69                3              6       Real Bed   \n",
              "69                4              6       Real Bed   \n",
              "\n",
              "                                          comodidades cuota_deposito  \\\n",
              "0   {Internet,\"Wireless Internet\",Kitchen,\"Free Pa...             $0   \n",
              "0   {TV,Internet,\"Wireless Internet\",Kitchen,\"Free...             $0   \n",
              "0   {TV,Internet,\"Wireless Internet\",Kitchen,\"Free...             $0   \n",
              "0   {Internet,\"Wireless Internet\",Kitchen,\"Free Pa...             $0   \n",
              "0   {\"Wireless Internet\",Kitchen,\"Free Parking on ...             $0   \n",
              "..                                                ...            ...   \n",
              "68  {TV,\"Cable TV\",Internet,\"Wireless Internet\",\"A...      $1,000.00   \n",
              "68  {TV,\"Cable TV\",Internet,\"Wireless Internet\",Ki...             $0   \n",
              "68  {TV,\"Cable TV\",Internet,\"Wireless Internet\",\"A...             $0   \n",
              "69  {TV,\"Cable TV\",Internet,\"Wireless Internet\",\"A...      $1,000.00   \n",
              "69  {TV,Internet,\"Wireless Internet\",Kitchen,\"Free...        $500.00   \n",
              "\n",
              "   cuota_limpieza   precio  \n",
              "0              $0  $110.00  \n",
              "0              $0   $45.00  \n",
              "0              $0   $55.00  \n",
              "0          $20.00   $52.00  \n",
              "0          $15.00   $85.00  \n",
              "..            ...      ...  \n",
              "68        $178.00  $299.00  \n",
              "68         $99.00  $199.00  \n",
              "68             $0  $400.00  \n",
              "69        $150.00  $250.00  \n",
              "69             $0  $350.00  \n",
              "\n",
              "[3818 rows x 13 columns]"
            ]
          },
          "execution_count": 11,
          "metadata": {},
          "output_type": "execute_result"
        }
      ],
      "source": [
        "datos = datos.explode(columnas[3:])\n",
        "datos"
      ]
    },
    {
      "cell_type": "code",
      "execution_count": 12,
      "metadata": {
        "colab": {
          "base_uri": "https://localhost:8080/",
          "height": 400
        },
        "id": "nyXdlLicnqSl",
        "outputId": "699d91c5-e156-4098-f574-ae728898694f"
      },
      "outputs": [
        {
          "data": {
            "text/html": [
              "<div>\n",
              "<style scoped>\n",
              "    .dataframe tbody tr th:only-of-type {\n",
              "        vertical-align: middle;\n",
              "    }\n",
              "\n",
              "    .dataframe tbody tr th {\n",
              "        vertical-align: top;\n",
              "    }\n",
              "\n",
              "    .dataframe thead th {\n",
              "        text-align: right;\n",
              "    }\n",
              "</style>\n",
              "<table border=\"1\" class=\"dataframe\">\n",
              "  <thead>\n",
              "    <tr style=\"text-align: right;\">\n",
              "      <th></th>\n",
              "      <th>evaluacion_general</th>\n",
              "      <th>experiencia_local</th>\n",
              "      <th>max_hospedes</th>\n",
              "      <th>descripcion_local</th>\n",
              "      <th>descripcion_vecindad</th>\n",
              "      <th>cantidad_baños</th>\n",
              "      <th>cantidad_cuartos</th>\n",
              "      <th>cantidad_camas</th>\n",
              "      <th>modelo_cama</th>\n",
              "      <th>comodidades</th>\n",
              "      <th>cuota_deposito</th>\n",
              "      <th>cuota_limpieza</th>\n",
              "      <th>precio</th>\n",
              "    </tr>\n",
              "  </thead>\n",
              "  <tbody>\n",
              "    <tr>\n",
              "      <th>0</th>\n",
              "      <td>10.0</td>\n",
              "      <td>--</td>\n",
              "      <td>1</td>\n",
              "      <td>This clean and comfortable one bedroom sits ri...</td>\n",
              "      <td>Lower Queen Anne is near the Seattle Center (s...</td>\n",
              "      <td>1</td>\n",
              "      <td>1</td>\n",
              "      <td>1</td>\n",
              "      <td>Real Bed</td>\n",
              "      <td>{Internet,\"Wireless Internet\",Kitchen,\"Free Pa...</td>\n",
              "      <td>$0</td>\n",
              "      <td>$0</td>\n",
              "      <td>$110.00</td>\n",
              "    </tr>\n",
              "    <tr>\n",
              "      <th>1</th>\n",
              "      <td>10.0</td>\n",
              "      <td>--</td>\n",
              "      <td>1</td>\n",
              "      <td>Our century old Upper Queen Anne house is loca...</td>\n",
              "      <td>Upper Queen Anne is a really pleasant, unique ...</td>\n",
              "      <td>1</td>\n",
              "      <td>1</td>\n",
              "      <td>1</td>\n",
              "      <td>Futon</td>\n",
              "      <td>{TV,Internet,\"Wireless Internet\",Kitchen,\"Free...</td>\n",
              "      <td>$0</td>\n",
              "      <td>$0</td>\n",
              "      <td>$45.00</td>\n",
              "    </tr>\n",
              "    <tr>\n",
              "      <th>2</th>\n",
              "      <td>10.0</td>\n",
              "      <td>--</td>\n",
              "      <td>1</td>\n",
              "      <td>Cozy room in two-bedroom apartment along the l...</td>\n",
              "      <td>The convenience of being in Seattle but on the...</td>\n",
              "      <td>1</td>\n",
              "      <td>1</td>\n",
              "      <td>1</td>\n",
              "      <td>Futon</td>\n",
              "      <td>{TV,Internet,\"Wireless Internet\",Kitchen,\"Free...</td>\n",
              "      <td>$0</td>\n",
              "      <td>$0</td>\n",
              "      <td>$55.00</td>\n",
              "    </tr>\n",
              "    <tr>\n",
              "      <th>3</th>\n",
              "      <td>10.0</td>\n",
              "      <td>--</td>\n",
              "      <td>1</td>\n",
              "      <td>Very lovely and cozy room for one. Convenientl...</td>\n",
              "      <td>Ballard is lovely, vibrant and one of the most...</td>\n",
              "      <td>1</td>\n",
              "      <td>1</td>\n",
              "      <td>1</td>\n",
              "      <td>Pull-out Sofa</td>\n",
              "      <td>{Internet,\"Wireless Internet\",Kitchen,\"Free Pa...</td>\n",
              "      <td>$0</td>\n",
              "      <td>$20.00</td>\n",
              "      <td>$52.00</td>\n",
              "    </tr>\n",
              "    <tr>\n",
              "      <th>4</th>\n",
              "      <td>10.0</td>\n",
              "      <td>--</td>\n",
              "      <td>1</td>\n",
              "      <td>The “Studio at Mibbett Hollow' is in a Beautif...</td>\n",
              "      <td>--</td>\n",
              "      <td>1</td>\n",
              "      <td>1</td>\n",
              "      <td>1</td>\n",
              "      <td>Real Bed</td>\n",
              "      <td>{\"Wireless Internet\",Kitchen,\"Free Parking on ...</td>\n",
              "      <td>$0</td>\n",
              "      <td>$15.00</td>\n",
              "      <td>$85.00</td>\n",
              "    </tr>\n",
              "  </tbody>\n",
              "</table>\n",
              "</div>"
            ],
            "text/plain": [
              "  evaluacion_general experiencia_local max_hospedes  \\\n",
              "0               10.0                --            1   \n",
              "1               10.0                --            1   \n",
              "2               10.0                --            1   \n",
              "3               10.0                --            1   \n",
              "4               10.0                --            1   \n",
              "\n",
              "                                   descripcion_local  \\\n",
              "0  This clean and comfortable one bedroom sits ri...   \n",
              "1  Our century old Upper Queen Anne house is loca...   \n",
              "2  Cozy room in two-bedroom apartment along the l...   \n",
              "3  Very lovely and cozy room for one. Convenientl...   \n",
              "4  The “Studio at Mibbett Hollow' is in a Beautif...   \n",
              "\n",
              "                                descripcion_vecindad cantidad_baños  \\\n",
              "0  Lower Queen Anne is near the Seattle Center (s...              1   \n",
              "1  Upper Queen Anne is a really pleasant, unique ...              1   \n",
              "2  The convenience of being in Seattle but on the...              1   \n",
              "3  Ballard is lovely, vibrant and one of the most...              1   \n",
              "4                                                 --              1   \n",
              "\n",
              "  cantidad_cuartos cantidad_camas    modelo_cama  \\\n",
              "0                1              1       Real Bed   \n",
              "1                1              1          Futon   \n",
              "2                1              1          Futon   \n",
              "3                1              1  Pull-out Sofa   \n",
              "4                1              1       Real Bed   \n",
              "\n",
              "                                         comodidades cuota_deposito  \\\n",
              "0  {Internet,\"Wireless Internet\",Kitchen,\"Free Pa...             $0   \n",
              "1  {TV,Internet,\"Wireless Internet\",Kitchen,\"Free...             $0   \n",
              "2  {TV,Internet,\"Wireless Internet\",Kitchen,\"Free...             $0   \n",
              "3  {Internet,\"Wireless Internet\",Kitchen,\"Free Pa...             $0   \n",
              "4  {\"Wireless Internet\",Kitchen,\"Free Parking on ...             $0   \n",
              "\n",
              "  cuota_limpieza   precio  \n",
              "0             $0  $110.00  \n",
              "1             $0   $45.00  \n",
              "2             $0   $55.00  \n",
              "3         $20.00   $52.00  \n",
              "4         $15.00   $85.00  "
            ]
          },
          "execution_count": 12,
          "metadata": {},
          "output_type": "execute_result"
        }
      ],
      "source": [
        "datos.reset_index(inplace = True, drop = True) # Reseteamos para tener índices individuales\n",
        "datos.head()"
      ]
    },
    {
      "cell_type": "code",
      "execution_count": 13,
      "metadata": {
        "colab": {
          "base_uri": "https://localhost:8080/"
        },
        "id": "X7708J1fnqYz",
        "outputId": "defa495c-182b-42f3-b2c8-65606930984d"
      },
      "outputs": [
        {
          "name": "stdout",
          "output_type": "stream",
          "text": [
            "<class 'pandas.core.frame.DataFrame'>\n",
            "RangeIndex: 3818 entries, 0 to 3817\n",
            "Data columns (total 13 columns):\n",
            " #   Column                Non-Null Count  Dtype \n",
            "---  ------                --------------  ----- \n",
            " 0   evaluacion_general    3818 non-null   object\n",
            " 1   experiencia_local     3818 non-null   object\n",
            " 2   max_hospedes          3818 non-null   object\n",
            " 3   descripcion_local     3818 non-null   object\n",
            " 4   descripcion_vecindad  3818 non-null   object\n",
            " 5   cantidad_baños        3818 non-null   object\n",
            " 6   cantidad_cuartos      3818 non-null   object\n",
            " 7   cantidad_camas        3818 non-null   object\n",
            " 8   modelo_cama           3818 non-null   object\n",
            " 9   comodidades           3818 non-null   object\n",
            " 10  cuota_deposito        3818 non-null   object\n",
            " 11  cuota_limpieza        3818 non-null   object\n",
            " 12  precio                3818 non-null   object\n",
            "dtypes: object(13)\n",
            "memory usage: 387.9+ KB\n"
          ]
        }
      ],
      "source": [
        "datos.info()"
      ]
    },
    {
      "cell_type": "markdown",
      "metadata": {},
      "source": [
        "## 04 Convirtiendo datos numericos\n"
      ]
    },
    {
      "cell_type": "code",
      "execution_count": 14,
      "metadata": {
        "id": "YmMHtWKpnqfV"
      },
      "outputs": [],
      "source": [
        "import numpy as np"
      ]
    },
    {
      "cell_type": "code",
      "execution_count": 15,
      "metadata": {},
      "outputs": [
        {
          "data": {
            "text/plain": [
              "0       1\n",
              "1       1\n",
              "2       1\n",
              "3       1\n",
              "4       1\n",
              "       ..\n",
              "3813    8\n",
              "3814    8\n",
              "3815    8\n",
              "3816    9\n",
              "3817    9\n",
              "Name: max_hospedes, Length: 3818, dtype: int64"
            ]
          },
          "execution_count": 15,
          "metadata": {},
          "output_type": "execute_result"
        }
      ],
      "source": [
        "datos['max_hospedes'].astype(np.int64)"
      ]
    },
    {
      "cell_type": "code",
      "execution_count": 16,
      "metadata": {
        "id": "cMr1m0M5tcL3"
      },
      "outputs": [],
      "source": [
        "datos['max_hospedes'] = datos['max_hospedes'].astype(np.int64)"
      ]
    },
    {
      "cell_type": "code",
      "execution_count": 17,
      "metadata": {
        "colab": {
          "base_uri": "https://localhost:8080/"
        },
        "id": "vV4gHehZtcQC",
        "outputId": "a40dfe4a-bfd1-4287-b6bb-8037ccb26352"
      },
      "outputs": [
        {
          "name": "stdout",
          "output_type": "stream",
          "text": [
            "<class 'pandas.core.frame.DataFrame'>\n",
            "RangeIndex: 3818 entries, 0 to 3817\n",
            "Data columns (total 13 columns):\n",
            " #   Column                Non-Null Count  Dtype \n",
            "---  ------                --------------  ----- \n",
            " 0   evaluacion_general    3818 non-null   object\n",
            " 1   experiencia_local     3818 non-null   object\n",
            " 2   max_hospedes          3818 non-null   int64 \n",
            " 3   descripcion_local     3818 non-null   object\n",
            " 4   descripcion_vecindad  3818 non-null   object\n",
            " 5   cantidad_baños        3818 non-null   object\n",
            " 6   cantidad_cuartos      3818 non-null   object\n",
            " 7   cantidad_camas        3818 non-null   object\n",
            " 8   modelo_cama           3818 non-null   object\n",
            " 9   comodidades           3818 non-null   object\n",
            " 10  cuota_deposito        3818 non-null   object\n",
            " 11  cuota_limpieza        3818 non-null   object\n",
            " 12  precio                3818 non-null   object\n",
            "dtypes: int64(1), object(12)\n",
            "memory usage: 387.9+ KB\n"
          ]
        }
      ],
      "source": [
        "datos.info()"
      ]
    },
    {
      "cell_type": "code",
      "execution_count": 18,
      "metadata": {
        "id": "tVS8fmP6tcTJ"
      },
      "outputs": [],
      "source": [
        "col_numericas = ['cantidad_baños', 'cantidad_cuartos', 'cantidad_camas']"
      ]
    },
    {
      "cell_type": "code",
      "execution_count": 19,
      "metadata": {},
      "outputs": [
        {
          "data": {
            "text/html": [
              "<div>\n",
              "<style scoped>\n",
              "    .dataframe tbody tr th:only-of-type {\n",
              "        vertical-align: middle;\n",
              "    }\n",
              "\n",
              "    .dataframe tbody tr th {\n",
              "        vertical-align: top;\n",
              "    }\n",
              "\n",
              "    .dataframe thead th {\n",
              "        text-align: right;\n",
              "    }\n",
              "</style>\n",
              "<table border=\"1\" class=\"dataframe\">\n",
              "  <thead>\n",
              "    <tr style=\"text-align: right;\">\n",
              "      <th></th>\n",
              "      <th>cantidad_baños</th>\n",
              "      <th>cantidad_cuartos</th>\n",
              "      <th>cantidad_camas</th>\n",
              "    </tr>\n",
              "  </thead>\n",
              "  <tbody>\n",
              "    <tr>\n",
              "      <th>0</th>\n",
              "      <td>1</td>\n",
              "      <td>1</td>\n",
              "      <td>1</td>\n",
              "    </tr>\n",
              "    <tr>\n",
              "      <th>1</th>\n",
              "      <td>1</td>\n",
              "      <td>1</td>\n",
              "      <td>1</td>\n",
              "    </tr>\n",
              "    <tr>\n",
              "      <th>2</th>\n",
              "      <td>1</td>\n",
              "      <td>1</td>\n",
              "      <td>1</td>\n",
              "    </tr>\n",
              "    <tr>\n",
              "      <th>3</th>\n",
              "      <td>1</td>\n",
              "      <td>1</td>\n",
              "      <td>1</td>\n",
              "    </tr>\n",
              "    <tr>\n",
              "      <th>4</th>\n",
              "      <td>1</td>\n",
              "      <td>1</td>\n",
              "      <td>1</td>\n",
              "    </tr>\n",
              "    <tr>\n",
              "      <th>...</th>\n",
              "      <td>...</td>\n",
              "      <td>...</td>\n",
              "      <td>...</td>\n",
              "    </tr>\n",
              "    <tr>\n",
              "      <th>3813</th>\n",
              "      <td>3</td>\n",
              "      <td>4</td>\n",
              "      <td>5</td>\n",
              "    </tr>\n",
              "    <tr>\n",
              "      <th>3814</th>\n",
              "      <td>2</td>\n",
              "      <td>4</td>\n",
              "      <td>4</td>\n",
              "    </tr>\n",
              "    <tr>\n",
              "      <th>3815</th>\n",
              "      <td>1</td>\n",
              "      <td>3</td>\n",
              "      <td>4</td>\n",
              "    </tr>\n",
              "    <tr>\n",
              "      <th>3816</th>\n",
              "      <td>2</td>\n",
              "      <td>3</td>\n",
              "      <td>6</td>\n",
              "    </tr>\n",
              "    <tr>\n",
              "      <th>3817</th>\n",
              "      <td>1</td>\n",
              "      <td>4</td>\n",
              "      <td>6</td>\n",
              "    </tr>\n",
              "  </tbody>\n",
              "</table>\n",
              "<p>3818 rows × 3 columns</p>\n",
              "</div>"
            ],
            "text/plain": [
              "      cantidad_baños  cantidad_cuartos  cantidad_camas\n",
              "0                  1                 1               1\n",
              "1                  1                 1               1\n",
              "2                  1                 1               1\n",
              "3                  1                 1               1\n",
              "4                  1                 1               1\n",
              "...              ...               ...             ...\n",
              "3813               3                 4               5\n",
              "3814               2                 4               4\n",
              "3815               1                 3               4\n",
              "3816               2                 3               6\n",
              "3817               1                 4               6\n",
              "\n",
              "[3818 rows x 3 columns]"
            ]
          },
          "execution_count": 19,
          "metadata": {},
          "output_type": "execute_result"
        }
      ],
      "source": [
        "datos[col_numericas].astype(np.int64)"
      ]
    },
    {
      "cell_type": "code",
      "execution_count": 20,
      "metadata": {
        "id": "aqY4pcW6tcVg"
      },
      "outputs": [],
      "source": [
        "datos[col_numericas] = datos[col_numericas].astype(np.int64)"
      ]
    },
    {
      "cell_type": "code",
      "execution_count": 21,
      "metadata": {
        "colab": {
          "base_uri": "https://localhost:8080/"
        },
        "id": "sfIhk-yetcYF",
        "outputId": "cd8e8798-b926-44f4-93fa-93f094af1aed"
      },
      "outputs": [
        {
          "name": "stdout",
          "output_type": "stream",
          "text": [
            "<class 'pandas.core.frame.DataFrame'>\n",
            "RangeIndex: 3818 entries, 0 to 3817\n",
            "Data columns (total 13 columns):\n",
            " #   Column                Non-Null Count  Dtype \n",
            "---  ------                --------------  ----- \n",
            " 0   evaluacion_general    3818 non-null   object\n",
            " 1   experiencia_local     3818 non-null   object\n",
            " 2   max_hospedes          3818 non-null   int64 \n",
            " 3   descripcion_local     3818 non-null   object\n",
            " 4   descripcion_vecindad  3818 non-null   object\n",
            " 5   cantidad_baños        3818 non-null   int64 \n",
            " 6   cantidad_cuartos      3818 non-null   int64 \n",
            " 7   cantidad_camas        3818 non-null   int64 \n",
            " 8   modelo_cama           3818 non-null   object\n",
            " 9   comodidades           3818 non-null   object\n",
            " 10  cuota_deposito        3818 non-null   object\n",
            " 11  cuota_limpieza        3818 non-null   object\n",
            " 12  precio                3818 non-null   object\n",
            "dtypes: int64(4), object(9)\n",
            "memory usage: 387.9+ KB\n"
          ]
        }
      ],
      "source": [
        "datos.info()"
      ]
    },
    {
      "cell_type": "code",
      "execution_count": 22,
      "metadata": {
        "id": "omW05Vcbnqll"
      },
      "outputs": [],
      "source": [
        "datos['evaluacion_general'] = datos['evaluacion_general'].astype(np.float64)"
      ]
    },
    {
      "cell_type": "code",
      "execution_count": 23,
      "metadata": {
        "colab": {
          "base_uri": "https://localhost:8080/"
        },
        "id": "QliFnsR-nqr1",
        "outputId": "370763c9-0699-4bc4-e62a-b67a0390a317"
      },
      "outputs": [
        {
          "name": "stdout",
          "output_type": "stream",
          "text": [
            "<class 'pandas.core.frame.DataFrame'>\n",
            "RangeIndex: 3818 entries, 0 to 3817\n",
            "Data columns (total 13 columns):\n",
            " #   Column                Non-Null Count  Dtype  \n",
            "---  ------                --------------  -----  \n",
            " 0   evaluacion_general    3162 non-null   float64\n",
            " 1   experiencia_local     3818 non-null   object \n",
            " 2   max_hospedes          3818 non-null   int64  \n",
            " 3   descripcion_local     3818 non-null   object \n",
            " 4   descripcion_vecindad  3818 non-null   object \n",
            " 5   cantidad_baños        3818 non-null   int64  \n",
            " 6   cantidad_cuartos      3818 non-null   int64  \n",
            " 7   cantidad_camas        3818 non-null   int64  \n",
            " 8   modelo_cama           3818 non-null   object \n",
            " 9   comodidades           3818 non-null   object \n",
            " 10  cuota_deposito        3818 non-null   object \n",
            " 11  cuota_limpieza        3818 non-null   object \n",
            " 12  precio                3818 non-null   object \n",
            "dtypes: float64(1), int64(4), object(8)\n",
            "memory usage: 387.9+ KB\n"
          ]
        }
      ],
      "source": [
        "datos.info()"
      ]
    },
    {
      "cell_type": "markdown",
      "metadata": {},
      "source": [
        "##  05 Para saber más: precisión de valores numéricos\n",
        "\n",
        "Por lo general, cuando los datos son muy grandes y tenemos poca memoria disponible, es habitual utilizar tipos de datos más compactos para reducir el consumo de memoria. Sin embargo, siempre es importante asegurarse de que la elección del tipo de datos no perjudique la precisión o exactitud de los resultados.\n",
        "\n",
        "Cuando trabajamos con números enteros con Python, podemos tener diferentes tipos de datos, cada uno con sus limitaciones y características. Durante las clases trabajamos con int64, un número entero con precisión de 64 bits. Para entender el significado de esta precisión, es importante conocer algunos términos técnicos, como byte y bit:\n",
        "\n",
        "* Byte: es una unidad de medida de información, que representa un conjunto de 8 bits.\n",
        "\n",
        "* Bit: es la unidad de información más pequeña utilizada en los sistemas digitales, y puede tomar los valores de 0 o 1.\n",
        "\n",
        "### Tipo entero\n",
        "\n",
        "Con los conceptos de bit y byte claros, podemos comprender mejor el significado de int64, que es el tipo de entero que utiliza 8 bytes de almacenamiento: 8 bits en cada byte, lo que da como resultado 64 bits en total. Este tipo de entero es capaz de representar números muy grandes, que pueden oscilar entre -9.223.372.036.854.775.808 y 9.223.372.036.854.775.807.\n",
        "\n",
        "Además, tenemos otros números enteros cuya precisión se puede definir, como int32, un tipo de datos entero que utiliza 4 bytes - 8 bits en cada byte, lo que da como resultado 32 bits en total. Es capaz de representar números enteros menores que los representados por int64, con un máximo de -2.147.483.648 a 2.147.483.647.\n",
        "\n",
        "Puede ser más común encontrar los tipos int64 y int32, pero puede ser necesario, en algunas situaciones, utilizar otros tipos de datos enteros, como int8 o int16. Tipos de datos como estos son útiles cuando necesita ahorrar más memoria y no trabaja con valores grandes. Puede consultar los tipos de números enteros en la siguiente tabla:\n",
        "\n",
        "![imagen de tabla](assets/bit.png)\n",
        "\n",
        "La elección de qué valor de precisión dependerá de la situación y la naturaleza de los datos que se manipulan. Si los valores que se analizan son relativamente pequeños, el uso de int32, por ejemplo, puede ser suficiente y puede ahorrar espacio en la memoria. Sin embargo, si estuviéramos trabajando con datos científicos, por ejemplo, que requieren valores muy grandes, es posible que necesitemos usar int64.\n",
        "\n",
        "### Tipo float\n",
        "\n",
        "Además de los números enteros, otros tipos de datos, como float, también utilizan esta opción de precisión como opción para controlar el espacio de memoria. Al igual que los números enteros, el tipo float también tiene opciones de precisión: entre los tipos más comunes se encuentran float32 y float64.\n",
        "\n",
        "El tipo float64 es un número de punto flotante con 64 bits de precisión, que representa un número decimal de hasta 15 dígitos. Por otro lado, float32 es más pequeño tanto en su capacidad de bits, con 32 en total, como en su capacidad de precisión decimal, con capacidad de precisión de hasta 7 dígitos."
      ]
    },
    {
      "cell_type": "markdown",
      "metadata": {},
      "source": [
        "## 06 Números en strings\n"
      ]
    },
    {
      "cell_type": "code",
      "execution_count": 24,
      "metadata": {},
      "outputs": [
        {
          "data": {
            "text/plain": [
              "0       $110.00\n",
              "1        $45.00\n",
              "2        $55.00\n",
              "3        $52.00\n",
              "4        $85.00\n",
              "         ...   \n",
              "3813    $299.00\n",
              "3814    $199.00\n",
              "3815    $400.00\n",
              "3816    $250.00\n",
              "3817    $350.00\n",
              "Name: precio, Length: 3818, dtype: object"
            ]
          },
          "execution_count": 24,
          "metadata": {},
          "output_type": "execute_result"
        }
      ],
      "source": [
        "datos['precio'] # Hay que quitar el caracter del dolar '$'"
      ]
    },
    {
      "cell_type": "code",
      "execution_count": 25,
      "metadata": {
        "id": "egtxhsM0nq2s"
      },
      "outputs": [],
      "source": [
        "datos['precio'] = datos['precio'].apply(lambda x: x.replace('$','').replace(',','').strip())"
      ]
    },
    {
      "cell_type": "code",
      "execution_count": 26,
      "metadata": {},
      "outputs": [
        {
          "data": {
            "text/plain": [
              "0       110.00\n",
              "1        45.00\n",
              "2        55.00\n",
              "3        52.00\n",
              "4        85.00\n",
              "         ...  \n",
              "3813    299.00\n",
              "3814    199.00\n",
              "3815    400.00\n",
              "3816    250.00\n",
              "3817    350.00\n",
              "Name: precio, Length: 3818, dtype: object"
            ]
          },
          "execution_count": 26,
          "metadata": {},
          "output_type": "execute_result"
        }
      ],
      "source": [
        "datos['precio'] # ya quitamos $"
      ]
    },
    {
      "cell_type": "code",
      "execution_count": 27,
      "metadata": {
        "id": "vDLd9jwBnqxP"
      },
      "outputs": [],
      "source": [
        "datos['precio'] = datos['precio'].astype(np.float64)"
      ]
    },
    {
      "cell_type": "code",
      "execution_count": 28,
      "metadata": {
        "colab": {
          "base_uri": "https://localhost:8080/"
        },
        "id": "naq5BwIHnq7L",
        "outputId": "3b9be6a2-75d5-4cef-ca11-c3aae52fb4f5"
      },
      "outputs": [
        {
          "name": "stdout",
          "output_type": "stream",
          "text": [
            "<class 'pandas.core.frame.DataFrame'>\n",
            "RangeIndex: 3818 entries, 0 to 3817\n",
            "Data columns (total 13 columns):\n",
            " #   Column                Non-Null Count  Dtype  \n",
            "---  ------                --------------  -----  \n",
            " 0   evaluacion_general    3162 non-null   float64\n",
            " 1   experiencia_local     3818 non-null   object \n",
            " 2   max_hospedes          3818 non-null   int64  \n",
            " 3   descripcion_local     3818 non-null   object \n",
            " 4   descripcion_vecindad  3818 non-null   object \n",
            " 5   cantidad_baños        3818 non-null   int64  \n",
            " 6   cantidad_cuartos      3818 non-null   int64  \n",
            " 7   cantidad_camas        3818 non-null   int64  \n",
            " 8   modelo_cama           3818 non-null   object \n",
            " 9   comodidades           3818 non-null   object \n",
            " 10  cuota_deposito        3818 non-null   object \n",
            " 11  cuota_limpieza        3818 non-null   object \n",
            " 12  precio                3818 non-null   float64\n",
            "dtypes: float64(2), int64(4), object(7)\n",
            "memory usage: 387.9+ KB\n"
          ]
        }
      ],
      "source": [
        "datos.info()"
      ]
    },
    {
      "cell_type": "markdown",
      "metadata": {},
      "source": [
        "##  07 Tratando números en strings\n",
        "\n",
        "Para realizar un estudio financiero de distribución salarial en una empresa es necesario transformar los datos relativos a los cargos y prepararlos para un estudio estadístico.\n",
        "\n",
        "Por lo tanto, al leer el archivo con los datos, te encuentras con el siguiente DataFrame:\n",
        "\n",
        "* Cargo\tCantidad\tSalario\n",
        "* 0\tGerencia\t2 personas\t$10.000 reales\n",
        "* 1\tCoordinación\t1 persona\t$8.000 reales\n",
        "* 2\tSupervisión\t3 personas\t$7.000 reales\n",
        "* 3\tAnalista\t4 personas\t$5.000 reales\n",
        "* 4\tAsistente\t5 personas\t$4.000 reales\n",
        "* 5\tOperación\t3 personas\t$3.500 reales\n",
        "* 6\tAsistente\t2 personas\t$3.000 reales\n",
        "* 7\tPrácticas\t1 persona\t$1.500 reales\n",
        "* 8\tAsesoría\t1 persona\t$2.500 reales\n",
        "* 9\tConsultoría\t1 persona\t$6.000 reales\n",
        "\n",
        "Selecciona la alternativa que hace que los datos de las columnas cantidad y salario se conviertan en valores numéricos, es decir, columnas int y float sin existencia de texto que acompañe a cada valor.\n",
        "\n",
        "Para ayudarlo con sus pruebas, intente usar el siguiente código para crear el DataFrame df y encontrar la solución para la actividad:\n",
        "\n"
      ]
    },
    {
      "cell_type": "code",
      "execution_count": 29,
      "metadata": {},
      "outputs": [
        {
          "data": {
            "text/html": [
              "<div>\n",
              "<style scoped>\n",
              "    .dataframe tbody tr th:only-of-type {\n",
              "        vertical-align: middle;\n",
              "    }\n",
              "\n",
              "    .dataframe tbody tr th {\n",
              "        vertical-align: top;\n",
              "    }\n",
              "\n",
              "    .dataframe thead th {\n",
              "        text-align: right;\n",
              "    }\n",
              "</style>\n",
              "<table border=\"1\" class=\"dataframe\">\n",
              "  <thead>\n",
              "    <tr style=\"text-align: right;\">\n",
              "      <th></th>\n",
              "      <th>cargo</th>\n",
              "      <th>cantidad</th>\n",
              "      <th>salario</th>\n",
              "    </tr>\n",
              "  </thead>\n",
              "  <tbody>\n",
              "    <tr>\n",
              "      <th>0</th>\n",
              "      <td>Gerencia</td>\n",
              "      <td>2 personas</td>\n",
              "      <td>$10.000 reales</td>\n",
              "    </tr>\n",
              "    <tr>\n",
              "      <th>1</th>\n",
              "      <td>Coordinación</td>\n",
              "      <td>1 persona</td>\n",
              "      <td>$8.000 reales</td>\n",
              "    </tr>\n",
              "    <tr>\n",
              "      <th>2</th>\n",
              "      <td>Supervisión</td>\n",
              "      <td>3 personas</td>\n",
              "      <td>$7.000 reales</td>\n",
              "    </tr>\n",
              "    <tr>\n",
              "      <th>3</th>\n",
              "      <td>Analista</td>\n",
              "      <td>4 personas</td>\n",
              "      <td>$5.000 reales</td>\n",
              "    </tr>\n",
              "    <tr>\n",
              "      <th>4</th>\n",
              "      <td>Asistente</td>\n",
              "      <td>5 personas</td>\n",
              "      <td>$4.000 reales</td>\n",
              "    </tr>\n",
              "    <tr>\n",
              "      <th>5</th>\n",
              "      <td>Operación</td>\n",
              "      <td>3 personas</td>\n",
              "      <td>$3.500 reales</td>\n",
              "    </tr>\n",
              "    <tr>\n",
              "      <th>6</th>\n",
              "      <td>Asistente</td>\n",
              "      <td>2 personas</td>\n",
              "      <td>$3.000 reales</td>\n",
              "    </tr>\n",
              "    <tr>\n",
              "      <th>7</th>\n",
              "      <td>Prácticas</td>\n",
              "      <td>1 persona</td>\n",
              "      <td>$1.500 reales</td>\n",
              "    </tr>\n",
              "    <tr>\n",
              "      <th>8</th>\n",
              "      <td>Asesoría</td>\n",
              "      <td>1 persona</td>\n",
              "      <td>$2.500 reales</td>\n",
              "    </tr>\n",
              "    <tr>\n",
              "      <th>9</th>\n",
              "      <td>Consultoría</td>\n",
              "      <td>1 persona</td>\n",
              "      <td>$6.000 reales</td>\n",
              "    </tr>\n",
              "  </tbody>\n",
              "</table>\n",
              "</div>"
            ],
            "text/plain": [
              "          cargo    cantidad         salario\n",
              "0      Gerencia  2 personas  $10.000 reales\n",
              "1  Coordinación   1 persona   $8.000 reales\n",
              "2   Supervisión  3 personas   $7.000 reales\n",
              "3      Analista  4 personas   $5.000 reales\n",
              "4     Asistente  5 personas   $4.000 reales\n",
              "5     Operación  3 personas   $3.500 reales\n",
              "6     Asistente  2 personas   $3.000 reales\n",
              "7     Prácticas   1 persona   $1.500 reales\n",
              "8      Asesoría   1 persona   $2.500 reales\n",
              "9   Consultoría   1 persona   $6.000 reales"
            ]
          },
          "execution_count": 29,
          "metadata": {},
          "output_type": "execute_result"
        }
      ],
      "source": [
        "import pandas as pd\n",
        "import numpy as np\n",
        "\n",
        "# datos de la empresa\n",
        "datos = {\n",
        "    'cargo': ['Gerencia', 'Coordinación', 'Supervisión', 'Analista', 'Asistente', 'Operación', 'Asistente', 'Prácticas', 'Asesoría', 'Consultoría'],\n",
        "    'cantidad': ['2 personas', '1 persona', '3 personas', '4 personas', '5 personas', '3 personas', '2 personas', '1 persona', '1 persona', '1 persona'],\n",
        "    'salario': ['$10.000 reales', '$8.000 reales', '$7.000 reales', '$5.000 reales', '$4.000 reales', '$3.500 reales', '$3.000 reales', '$1.500 reales', '$2.500 reales', '$6.000 reales']\n",
        "}\n",
        "\n",
        "# transformando el diccionario en DataFrame\n",
        "df = pd.DataFrame(datos)\n",
        "\n",
        "# df es el DataFrame con los datos de la empres\n",
        "df"
      ]
    },
    {
      "cell_type": "code",
      "execution_count": 30,
      "metadata": {},
      "outputs": [],
      "source": [
        "# Eliminamos los textos que están alrededor de los números con apply y lambda.\n",
        "\n",
        "df['cantidad'] = df['cantidad'].apply(lambda x: x.replace(' personas', '').replace(' persona', ''))\n",
        "df['salario'] = df['salario'].apply(lambda x: x.replace('$', '').replace(' reales', ''))"
      ]
    },
    {
      "cell_type": "code",
      "execution_count": 38,
      "metadata": {},
      "outputs": [
        {
          "data": {
            "text/html": [
              "<div>\n",
              "<style scoped>\n",
              "    .dataframe tbody tr th:only-of-type {\n",
              "        vertical-align: middle;\n",
              "    }\n",
              "\n",
              "    .dataframe tbody tr th {\n",
              "        vertical-align: top;\n",
              "    }\n",
              "\n",
              "    .dataframe thead th {\n",
              "        text-align: right;\n",
              "    }\n",
              "</style>\n",
              "<table border=\"1\" class=\"dataframe\">\n",
              "  <thead>\n",
              "    <tr style=\"text-align: right;\">\n",
              "      <th></th>\n",
              "      <th>cargo</th>\n",
              "      <th>cantidad</th>\n",
              "      <th>salario</th>\n",
              "    </tr>\n",
              "  </thead>\n",
              "  <tbody>\n",
              "    <tr>\n",
              "      <th>0</th>\n",
              "      <td>Gerencia</td>\n",
              "      <td>2</td>\n",
              "      <td>10.0</td>\n",
              "    </tr>\n",
              "    <tr>\n",
              "      <th>1</th>\n",
              "      <td>Coordinación</td>\n",
              "      <td>1</td>\n",
              "      <td>8.0</td>\n",
              "    </tr>\n",
              "    <tr>\n",
              "      <th>2</th>\n",
              "      <td>Supervisión</td>\n",
              "      <td>3</td>\n",
              "      <td>7.0</td>\n",
              "    </tr>\n",
              "    <tr>\n",
              "      <th>3</th>\n",
              "      <td>Analista</td>\n",
              "      <td>4</td>\n",
              "      <td>5.0</td>\n",
              "    </tr>\n",
              "    <tr>\n",
              "      <th>4</th>\n",
              "      <td>Asistente</td>\n",
              "      <td>5</td>\n",
              "      <td>4.0</td>\n",
              "    </tr>\n",
              "    <tr>\n",
              "      <th>5</th>\n",
              "      <td>Operación</td>\n",
              "      <td>3</td>\n",
              "      <td>3.5</td>\n",
              "    </tr>\n",
              "    <tr>\n",
              "      <th>6</th>\n",
              "      <td>Asistente</td>\n",
              "      <td>2</td>\n",
              "      <td>3.0</td>\n",
              "    </tr>\n",
              "    <tr>\n",
              "      <th>7</th>\n",
              "      <td>Prácticas</td>\n",
              "      <td>1</td>\n",
              "      <td>1.5</td>\n",
              "    </tr>\n",
              "    <tr>\n",
              "      <th>8</th>\n",
              "      <td>Asesoría</td>\n",
              "      <td>1</td>\n",
              "      <td>2.5</td>\n",
              "    </tr>\n",
              "    <tr>\n",
              "      <th>9</th>\n",
              "      <td>Consultoría</td>\n",
              "      <td>1</td>\n",
              "      <td>6.0</td>\n",
              "    </tr>\n",
              "  </tbody>\n",
              "</table>\n",
              "</div>"
            ],
            "text/plain": [
              "          cargo  cantidad  salario\n",
              "0      Gerencia         2     10.0\n",
              "1  Coordinación         1      8.0\n",
              "2   Supervisión         3      7.0\n",
              "3      Analista         4      5.0\n",
              "4     Asistente         5      4.0\n",
              "5     Operación         3      3.5\n",
              "6     Asistente         2      3.0\n",
              "7     Prácticas         1      1.5\n",
              "8      Asesoría         1      2.5\n",
              "9   Consultoría         1      6.0"
            ]
          },
          "execution_count": 38,
          "metadata": {},
          "output_type": "execute_result"
        }
      ],
      "source": [
        "# Luego, transformamos las columnas a tipo numérico con astype.\n",
        "\n",
        "df['cantidad'] = df['cantidad'].astype(np.int64)\n",
        "df['salario'] = df['salario'].astype(np.float64)\n",
        "df\n"
      ]
    },
    {
      "cell_type": "markdown",
      "metadata": {},
      "source": [
        "La función replace reemplaza textos con valores vacíos '', eliminándolos de la cadena original. Luego, se debe usar astype para convertir las columnas a numéricas, con el tipo int64 para la columna cantidady float64 para la columna salario."
      ]
    },
    {
      "cell_type": "markdown",
      "metadata": {},
      "source": [
        "## 08 Transformación en múltiples columnas\n"
      ]
    },
    {
      "cell_type": "code",
      "execution_count": 49,
      "metadata": {},
      "outputs": [
        {
          "name": "stdout",
          "output_type": "stream",
          "text": [
            "<class 'pandas.core.frame.DataFrame'>\n",
            "RangeIndex: 3818 entries, 0 to 3817\n",
            "Data columns (total 13 columns):\n",
            " #   Column                Non-Null Count  Dtype  \n",
            "---  ------                --------------  -----  \n",
            " 0   evaluacion_general    3162 non-null   float64\n",
            " 1   experiencia_local     3818 non-null   object \n",
            " 2   max_hospedes          3818 non-null   int64  \n",
            " 3   descripcion_local     3818 non-null   object \n",
            " 4   descripcion_vecindad  3818 non-null   object \n",
            " 5   cantidad_baños        3818 non-null   int64  \n",
            " 6   cantidad_cuartos      3818 non-null   int64  \n",
            " 7   cantidad_camas        3818 non-null   int64  \n",
            " 8   modelo_cama           3818 non-null   object \n",
            " 9   comodidades           3818 non-null   object \n",
            " 10  cuota_deposito        3818 non-null   object \n",
            " 11  cuota_limpieza        3818 non-null   object \n",
            " 12  precio                3818 non-null   float64\n",
            "dtypes: float64(2), int64(4), object(7)\n",
            "memory usage: 387.9+ KB\n"
          ]
        }
      ],
      "source": [
        "import pandas as pd\n",
        "import numpy as np\n",
        "datos = pd.read_json('../data/datos_hosting.json')\n",
        "datos = pd.json_normalize(datos['info_inmuebles'])\n",
        "#datos.info()\n",
        "columnas = list(datos.columns)\n",
        "#columnas\n",
        "datos = datos.explode(columnas[3:])\n",
        "#datos\n",
        "datos.reset_index(inplace = True, drop = True) # Reseteamos para tener índices individuales\n",
        "datos.head()\n",
        "datos['max_hospedes'] = datos['max_hospedes'].astype(np.int64)\n",
        "col_numericas = ['cantidad_baños', 'cantidad_cuartos', 'cantidad_camas']\n",
        "datos[col_numericas] = datos[col_numericas].astype(np.int64)\n",
        "datos['evaluacion_general'] = datos['evaluacion_general'].astype(np.float64)\n",
        "datos['precio'] = datos['precio'].apply(lambda x: x.replace('$','').replace(',','').strip())\n",
        "datos['precio'] = datos['precio'].astype(np.float64)\n",
        "datos.info()"
      ]
    },
    {
      "cell_type": "code",
      "execution_count": 48,
      "metadata": {},
      "outputs": [
        {
          "data": {
            "text/html": [
              "<div>\n",
              "<style scoped>\n",
              "    .dataframe tbody tr th:only-of-type {\n",
              "        vertical-align: middle;\n",
              "    }\n",
              "\n",
              "    .dataframe tbody tr th {\n",
              "        vertical-align: top;\n",
              "    }\n",
              "\n",
              "    .dataframe thead th {\n",
              "        text-align: right;\n",
              "    }\n",
              "</style>\n",
              "<table border=\"1\" class=\"dataframe\">\n",
              "  <thead>\n",
              "    <tr style=\"text-align: right;\">\n",
              "      <th></th>\n",
              "      <th>cuota_deposito</th>\n",
              "      <th>cuota_limpieza</th>\n",
              "    </tr>\n",
              "  </thead>\n",
              "  <tbody>\n",
              "    <tr>\n",
              "      <th>0</th>\n",
              "      <td>$0</td>\n",
              "      <td>$0</td>\n",
              "    </tr>\n",
              "    <tr>\n",
              "      <th>1</th>\n",
              "      <td>$0</td>\n",
              "      <td>$0</td>\n",
              "    </tr>\n",
              "    <tr>\n",
              "      <th>2</th>\n",
              "      <td>$0</td>\n",
              "      <td>$0</td>\n",
              "    </tr>\n",
              "    <tr>\n",
              "      <th>3</th>\n",
              "      <td>$0</td>\n",
              "      <td>$20.00</td>\n",
              "    </tr>\n",
              "    <tr>\n",
              "      <th>4</th>\n",
              "      <td>$0</td>\n",
              "      <td>$15.00</td>\n",
              "    </tr>\n",
              "    <tr>\n",
              "      <th>...</th>\n",
              "      <td>...</td>\n",
              "      <td>...</td>\n",
              "    </tr>\n",
              "    <tr>\n",
              "      <th>3813</th>\n",
              "      <td>$1,000.00</td>\n",
              "      <td>$178.00</td>\n",
              "    </tr>\n",
              "    <tr>\n",
              "      <th>3814</th>\n",
              "      <td>$0</td>\n",
              "      <td>$99.00</td>\n",
              "    </tr>\n",
              "    <tr>\n",
              "      <th>3815</th>\n",
              "      <td>$0</td>\n",
              "      <td>$0</td>\n",
              "    </tr>\n",
              "    <tr>\n",
              "      <th>3816</th>\n",
              "      <td>$1,000.00</td>\n",
              "      <td>$150.00</td>\n",
              "    </tr>\n",
              "    <tr>\n",
              "      <th>3817</th>\n",
              "      <td>$500.00</td>\n",
              "      <td>$0</td>\n",
              "    </tr>\n",
              "  </tbody>\n",
              "</table>\n",
              "<p>3818 rows × 2 columns</p>\n",
              "</div>"
            ],
            "text/plain": [
              "     cuota_deposito cuota_limpieza\n",
              "0                $0             $0\n",
              "1                $0             $0\n",
              "2                $0             $0\n",
              "3                $0         $20.00\n",
              "4                $0         $15.00\n",
              "...             ...            ...\n",
              "3813      $1,000.00        $178.00\n",
              "3814             $0         $99.00\n",
              "3815             $0             $0\n",
              "3816      $1,000.00        $150.00\n",
              "3817        $500.00             $0\n",
              "\n",
              "[3818 rows x 2 columns]"
            ]
          },
          "execution_count": 48,
          "metadata": {},
          "output_type": "execute_result"
        }
      ],
      "source": [
        "datos[['cuota_deposito', 'cuota_limpieza']]"
      ]
    },
    {
      "cell_type": "code",
      "execution_count": 50,
      "metadata": {
        "id": "NqZ1pv_WxcCe"
      },
      "outputs": [
        {
          "name": "stderr",
          "output_type": "stream",
          "text": [
            "/tmp/ipykernel_75478/2696303735.py:1: FutureWarning: DataFrame.applymap has been deprecated. Use DataFrame.map instead.\n",
            "  datos[['cuota_deposito', 'cuota_limpieza']] = datos[['cuota_deposito', 'cuota_limpieza']].applymap(lambda x: x.replace('$','').replace(',','').strip())\n"
          ]
        }
      ],
      "source": [
        "datos[['cuota_deposito', 'cuota_limpieza']] = datos[['cuota_deposito', 'cuota_limpieza']].applymap(lambda x: x.replace('$','').replace(',','').strip())"
      ]
    },
    {
      "cell_type": "code",
      "execution_count": 53,
      "metadata": {},
      "outputs": [
        {
          "data": {
            "text/html": [
              "<div>\n",
              "<style scoped>\n",
              "    .dataframe tbody tr th:only-of-type {\n",
              "        vertical-align: middle;\n",
              "    }\n",
              "\n",
              "    .dataframe tbody tr th {\n",
              "        vertical-align: top;\n",
              "    }\n",
              "\n",
              "    .dataframe thead th {\n",
              "        text-align: right;\n",
              "    }\n",
              "</style>\n",
              "<table border=\"1\" class=\"dataframe\">\n",
              "  <thead>\n",
              "    <tr style=\"text-align: right;\">\n",
              "      <th></th>\n",
              "      <th>cuota_deposito</th>\n",
              "      <th>cuota_limpieza</th>\n",
              "    </tr>\n",
              "  </thead>\n",
              "  <tbody>\n",
              "    <tr>\n",
              "      <th>0</th>\n",
              "      <td>0.0</td>\n",
              "      <td>0.0</td>\n",
              "    </tr>\n",
              "    <tr>\n",
              "      <th>1</th>\n",
              "      <td>0.0</td>\n",
              "      <td>0.0</td>\n",
              "    </tr>\n",
              "    <tr>\n",
              "      <th>2</th>\n",
              "      <td>0.0</td>\n",
              "      <td>0.0</td>\n",
              "    </tr>\n",
              "    <tr>\n",
              "      <th>3</th>\n",
              "      <td>0.0</td>\n",
              "      <td>20.0</td>\n",
              "    </tr>\n",
              "    <tr>\n",
              "      <th>4</th>\n",
              "      <td>0.0</td>\n",
              "      <td>15.0</td>\n",
              "    </tr>\n",
              "    <tr>\n",
              "      <th>...</th>\n",
              "      <td>...</td>\n",
              "      <td>...</td>\n",
              "    </tr>\n",
              "    <tr>\n",
              "      <th>3813</th>\n",
              "      <td>1000.0</td>\n",
              "      <td>178.0</td>\n",
              "    </tr>\n",
              "    <tr>\n",
              "      <th>3814</th>\n",
              "      <td>0.0</td>\n",
              "      <td>99.0</td>\n",
              "    </tr>\n",
              "    <tr>\n",
              "      <th>3815</th>\n",
              "      <td>0.0</td>\n",
              "      <td>0.0</td>\n",
              "    </tr>\n",
              "    <tr>\n",
              "      <th>3816</th>\n",
              "      <td>1000.0</td>\n",
              "      <td>150.0</td>\n",
              "    </tr>\n",
              "    <tr>\n",
              "      <th>3817</th>\n",
              "      <td>500.0</td>\n",
              "      <td>0.0</td>\n",
              "    </tr>\n",
              "  </tbody>\n",
              "</table>\n",
              "<p>3818 rows × 2 columns</p>\n",
              "</div>"
            ],
            "text/plain": [
              "      cuota_deposito  cuota_limpieza\n",
              "0                0.0             0.0\n",
              "1                0.0             0.0\n",
              "2                0.0             0.0\n",
              "3                0.0            20.0\n",
              "4                0.0            15.0\n",
              "...              ...             ...\n",
              "3813          1000.0           178.0\n",
              "3814             0.0            99.0\n",
              "3815             0.0             0.0\n",
              "3816          1000.0           150.0\n",
              "3817           500.0             0.0\n",
              "\n",
              "[3818 rows x 2 columns]"
            ]
          },
          "execution_count": 53,
          "metadata": {},
          "output_type": "execute_result"
        }
      ],
      "source": [
        "datos[['cuota_deposito', 'cuota_limpieza']]"
      ]
    },
    {
      "cell_type": "code",
      "execution_count": 51,
      "metadata": {
        "id": "cj0Ztkjo0t8V"
      },
      "outputs": [],
      "source": [
        "datos[['cuota_deposito', 'cuota_limpieza']] = datos[['cuota_deposito', 'cuota_limpieza']].astype(np.float64)"
      ]
    },
    {
      "cell_type": "code",
      "execution_count": 52,
      "metadata": {
        "colab": {
          "base_uri": "https://localhost:8080/"
        },
        "id": "-xfDkDmp3WBY",
        "outputId": "bc442f6b-8bf9-4473-c383-58743a9c6a72"
      },
      "outputs": [
        {
          "name": "stdout",
          "output_type": "stream",
          "text": [
            "<class 'pandas.core.frame.DataFrame'>\n",
            "RangeIndex: 3818 entries, 0 to 3817\n",
            "Data columns (total 13 columns):\n",
            " #   Column                Non-Null Count  Dtype  \n",
            "---  ------                --------------  -----  \n",
            " 0   evaluacion_general    3162 non-null   float64\n",
            " 1   experiencia_local     3818 non-null   object \n",
            " 2   max_hospedes          3818 non-null   int64  \n",
            " 3   descripcion_local     3818 non-null   object \n",
            " 4   descripcion_vecindad  3818 non-null   object \n",
            " 5   cantidad_baños        3818 non-null   int64  \n",
            " 6   cantidad_cuartos      3818 non-null   int64  \n",
            " 7   cantidad_camas        3818 non-null   int64  \n",
            " 8   modelo_cama           3818 non-null   object \n",
            " 9   comodidades           3818 non-null   object \n",
            " 10  cuota_deposito        3818 non-null   float64\n",
            " 11  cuota_limpieza        3818 non-null   float64\n",
            " 12  precio                3818 non-null   float64\n",
            "dtypes: float64(4), int64(4), object(5)\n",
            "memory usage: 387.9+ KB\n"
          ]
        }
      ],
      "source": [
        "datos.info()"
      ]
    },
    {
      "cell_type": "markdown",
      "metadata": {},
      "source": [
        "##  09 Desafío: trabajando en otros contextos\n",
        "\n",
        "Pongamos nuevamente en práctica todo lo que aprendimos durante la clase. He puesto los 2 nuevos conjuntos de datos disponibles para descargar a continuación:\n",
        "\n",
        "* Proyecto Desafío 1: Ventas Online - dados_vendas_clientes.json;\n",
        "\n",
        "* Proyecto Desafío 2: Administración de Condominios - dados_locacao_imoveis.json.\n",
        "\n",
        "Recuerda: Hay dos proyectos de tratamiento que se construirán durante el curso. Así que guarde su código de construcción para cada desafío para poder aplicarlo a desafíos posteriores.\n",
        "\n",
        "### Etapa 2\n",
        "\n",
        "### Proyecto Desafío 1: Ventas Online\n",
        "\n",
        "Leímos la base de datos en el desafío anterior, ahora podemos seguir adelante con la transformación de estos datos. Así, el nuevo desafío del proyecto 1 será dividido en algunas metas:\n",
        "\n",
        "* Eliminar datos en listas dentro del DataFrame;\n",
        "* Verificar tipos de datos;\n",
        "* Identificar columnas numéricas;\n",
        "* Transformar la columna numérica a tipo numérico.\n",
        "\n",
        "### Proyecto Desafío 2: Administración de Condominios\n",
        "\n",
        "Leímos la base de datos en el desafío anterior, ahora podemos seguir adelante con la transformación de estos datos. Entonces, de la misma manera que en el proyecto 1, el desafío del proyecto 2 está listado en algunas metas:\n",
        "\n",
        "* Eliminar datos en listas dentro del DataFrame;\n",
        "* Verificar tipos de datos;\n",
        "* Identificar columnas numéricas;\n",
        "* Transformar la columna numérica a tipo numérico.\n"
      ]
    },
    {
      "cell_type": "markdown",
      "metadata": {},
      "source": [
        "### Opinión del instructor\n",
        "\n",
        "Puede haber varias formas de resolver un problema. Presentaré cómo resolví los problemas y esto no quiere decir que estas sean las mejores soluciones, sino que son una opción de solución.\n",
        "\n"
      ]
    },
    {
      "cell_type": "markdown",
      "metadata": {},
      "source": [
        "Proyecto Desafío 1: Ventas Online"
      ]
    },
    {
      "cell_type": "code",
      "execution_count": null,
      "metadata": {},
      "outputs": [
        {
          "name": "stdout",
          "output_type": "stream",
          "text": [
            "<class 'pandas.core.frame.DataFrame'>\n",
            "RangeIndex: 20 entries, 0 to 19\n",
            "Data columns (total 3 columns):\n",
            " #   Column           Non-Null Count  Dtype \n",
            "---  ------           --------------  ----- \n",
            " 0   Data de venda    20 non-null     object\n",
            " 1   Cliente          20 non-null     object\n",
            " 2   Valor da compra  20 non-null     object\n",
            "dtypes: object(3)\n",
            "memory usage: 608.0+ bytes\n",
            "<class 'pandas.core.frame.DataFrame'>\n",
            "RangeIndex: 20 entries, 0 to 19\n",
            "Data columns (total 3 columns):\n",
            " #   Column           Non-Null Count  Dtype  \n",
            "---  ------           --------------  -----  \n",
            " 0   Data de venda    20 non-null     object \n",
            " 1   Cliente          20 non-null     object \n",
            " 2   Valor da compra  20 non-null     float64\n",
            "dtypes: float64(1), object(2)\n",
            "memory usage: 608.0+ bytes\n"
          ]
        }
      ],
      "source": [
        "# Import de pandas\n",
        "import pandas as pd\n",
        "# Leer el archivo json con read_json\n",
        "datos = pd.read_json('../data/dados_vendas_clientes.json')\n",
        "# Aplicar json_normalize en la columna dados_vendas\n",
        "datos = pd.json_normalize(datos['dados_vendas']) # Columna dados_vendas\n",
        "# Mostrar valores\n",
        "datos\n",
        "\n",
        "# Colectar los valores de las columnas y verificar\n",
        "columnas = list(datos.columns)\n",
        "columnas\n",
        "\n",
        "# Destrincar las listas con explode\n",
        "datos = datos.explode(columnas[1:])\n",
        "\n",
        "# Resetear los index de las líneas\n",
        "datos.reset_index(drop=True,inplace=True)\n",
        "# Observar el DataFrame\n",
        "datos\n",
        "\n",
        "# Verificar los tipos de datos con info\n",
        "datos.info()\n",
        "\n",
        "# La columna numérica es el 'Valor da compra'\n",
        "datos['Valor da compra']\n",
        "\n",
        "# Iniciar la transformación\n",
        "# Import de la biblioteca numpy\n",
        "import numpy as np\n",
        "# Remover los textos presentes en la base\n",
        "# Cambiar las comas separadoras del decimal por punto\n",
        "datos['Valor da compra'] = datos['Valor da compra'].apply(lambda x: x.replace('R$ ', '').replace(',','.').strip())\n",
        "# Cambiar los tipo de datos para float\n",
        "datos['Valor da compra'] = datos['Valor da compra'].astype(np.float64)\n",
        "# Verificar la transformación\n",
        "datos.info()"
      ]
    },
    {
      "cell_type": "markdown",
      "metadata": {},
      "source": [
        "## Desglose del código\n",
        "\n",
        "### Proyecto Desafío 1: Ventas Online\n",
        "\n",
        "Leímos la base de datos en el desafío anterior, ahora podemos seguir adelante con la transformación de estos datos. Así, el nuevo desafío del proyecto 1 será dividido en algunas metas:\n",
        "\n",
        "* Eliminar datos en listas dentro del DataFrame;\n",
        "* Verificar tipos de datos;\n",
        "* Identificar columnas numéricas;\n",
        "* Transformar la columna numérica a tipo numérico."
      ]
    },
    {
      "cell_type": "code",
      "execution_count": 30,
      "metadata": {},
      "outputs": [
        {
          "data": {
            "text/html": [
              "<div>\n",
              "<style scoped>\n",
              "    .dataframe tbody tr th:only-of-type {\n",
              "        vertical-align: middle;\n",
              "    }\n",
              "\n",
              "    .dataframe tbody tr th {\n",
              "        vertical-align: top;\n",
              "    }\n",
              "\n",
              "    .dataframe thead th {\n",
              "        text-align: right;\n",
              "    }\n",
              "</style>\n",
              "<table border=\"1\" class=\"dataframe\">\n",
              "  <thead>\n",
              "    <tr style=\"text-align: right;\">\n",
              "      <th></th>\n",
              "      <th>dados_vendas</th>\n",
              "    </tr>\n",
              "  </thead>\n",
              "  <tbody>\n",
              "    <tr>\n",
              "      <th>0</th>\n",
              "      <td>{'Data de venda': '06/06/2022', 'Cliente': ['@...</td>\n",
              "    </tr>\n",
              "    <tr>\n",
              "      <th>1</th>\n",
              "      <td>{'Data de venda': '07/06/2022', 'Cliente': ['I...</td>\n",
              "    </tr>\n",
              "    <tr>\n",
              "      <th>2</th>\n",
              "      <td>{'Data de venda': '08/06/2022', 'Cliente': ['I...</td>\n",
              "    </tr>\n",
              "  </tbody>\n",
              "</table>\n",
              "</div>"
            ],
            "text/plain": [
              "                                        dados_vendas\n",
              "0  {'Data de venda': '06/06/2022', 'Cliente': ['@...\n",
              "1  {'Data de venda': '07/06/2022', 'Cliente': ['I...\n",
              "2  {'Data de venda': '08/06/2022', 'Cliente': ['I..."
            ]
          },
          "execution_count": 30,
          "metadata": {},
          "output_type": "execute_result"
        }
      ],
      "source": [
        "# Import de pandas\n",
        "import pandas as pd\n",
        "# Leer el archivo json con read_json\n",
        "datos = pd.read_json('../data/dados_vendas_clientes.json')\n",
        "\n",
        "# Mostrar valores\n",
        "datos.head(3)"
      ]
    },
    {
      "cell_type": "code",
      "execution_count": null,
      "metadata": {},
      "outputs": [
        {
          "data": {
            "text/html": [
              "<div>\n",
              "<style scoped>\n",
              "    .dataframe tbody tr th:only-of-type {\n",
              "        vertical-align: middle;\n",
              "    }\n",
              "\n",
              "    .dataframe tbody tr th {\n",
              "        vertical-align: top;\n",
              "    }\n",
              "\n",
              "    .dataframe thead th {\n",
              "        text-align: right;\n",
              "    }\n",
              "</style>\n",
              "<table border=\"1\" class=\"dataframe\">\n",
              "  <thead>\n",
              "    <tr style=\"text-align: right;\">\n",
              "      <th></th>\n",
              "      <th>Data de venda</th>\n",
              "      <th>Cliente</th>\n",
              "      <th>Valor da compra</th>\n",
              "    </tr>\n",
              "  </thead>\n",
              "  <tbody>\n",
              "    <tr>\n",
              "      <th>0</th>\n",
              "      <td>06/06/2022</td>\n",
              "      <td>[@ANA _LUCIA 321, DieGO ARMANDIU 210, DieGO AR...</td>\n",
              "      <td>[R$ 836,5, R$ 573,33, R$ 392,8, R$ 512,34]</td>\n",
              "    </tr>\n",
              "    <tr>\n",
              "      <th>1</th>\n",
              "      <td>07/06/2022</td>\n",
              "      <td>[Isabely JOanes 738, Isabely JOanes 738, Isabe...</td>\n",
              "      <td>[R$ 825,31, R$ 168,07, R$ 339,18, R$ 314,69]</td>\n",
              "    </tr>\n",
              "    <tr>\n",
              "      <th>2</th>\n",
              "      <td>08/06/2022</td>\n",
              "      <td>[Isabely JOanes 738, JOãO Gabriel 671, Julya m...</td>\n",
              "      <td>[R$ 682,05, R$ 386,34, R$ 622,65, R$ 630,79]</td>\n",
              "    </tr>\n",
              "  </tbody>\n",
              "</table>\n",
              "</div>"
            ],
            "text/plain": [
              "  Data de venda                                            Cliente  \\\n",
              "0    06/06/2022  [@ANA _LUCIA 321, DieGO ARMANDIU 210, DieGO AR...   \n",
              "1    07/06/2022  [Isabely JOanes 738, Isabely JOanes 738, Isabe...   \n",
              "2    08/06/2022  [Isabely JOanes 738, JOãO Gabriel 671, Julya m...   \n",
              "\n",
              "                                Valor da compra  \n",
              "0    [R$ 836,5, R$ 573,33, R$ 392,8, R$ 512,34]  \n",
              "1  [R$ 825,31, R$ 168,07, R$ 339,18, R$ 314,69]  \n",
              "2  [R$ 682,05, R$ 386,34, R$ 622,65, R$ 630,79]  "
            ]
          },
          "execution_count": 31,
          "metadata": {},
          "output_type": "execute_result"
        }
      ],
      "source": [
        "# Import de pandas\n",
        "import pandas as pd\n",
        "# Leer el archivo json con read_json\n",
        "datos = pd.read_json('../data/dados_vendas_clientes.json')\n",
        "\n",
        "# Aplicar json_normalize en la columna dados_vendas\n",
        "datos = pd.json_normalize(datos['dados_vendas']) # Columna dados_vendas\n",
        "datos.head(3)"
      ]
    },
    {
      "cell_type": "code",
      "execution_count": 32,
      "metadata": {},
      "outputs": [
        {
          "data": {
            "text/plain": [
              "['Data de venda', 'Cliente', 'Valor da compra']"
            ]
          },
          "execution_count": 32,
          "metadata": {},
          "output_type": "execute_result"
        }
      ],
      "source": [
        "# Colectar los valores de las columnas y verificar\n",
        "columnas = list(datos.columns)\n",
        "columnas"
      ]
    },
    {
      "cell_type": "code",
      "execution_count": 33,
      "metadata": {},
      "outputs": [
        {
          "data": {
            "text/html": [
              "<div>\n",
              "<style scoped>\n",
              "    .dataframe tbody tr th:only-of-type {\n",
              "        vertical-align: middle;\n",
              "    }\n",
              "\n",
              "    .dataframe tbody tr th {\n",
              "        vertical-align: top;\n",
              "    }\n",
              "\n",
              "    .dataframe thead th {\n",
              "        text-align: right;\n",
              "    }\n",
              "</style>\n",
              "<table border=\"1\" class=\"dataframe\">\n",
              "  <thead>\n",
              "    <tr style=\"text-align: right;\">\n",
              "      <th></th>\n",
              "      <th>Data de venda</th>\n",
              "      <th>Cliente</th>\n",
              "      <th>Valor da compra</th>\n",
              "    </tr>\n",
              "  </thead>\n",
              "  <tbody>\n",
              "    <tr>\n",
              "      <th>0</th>\n",
              "      <td>06/06/2022</td>\n",
              "      <td>@ANA _LUCIA 321</td>\n",
              "      <td>R$ 836,5</td>\n",
              "    </tr>\n",
              "    <tr>\n",
              "      <th>0</th>\n",
              "      <td>06/06/2022</td>\n",
              "      <td>DieGO ARMANDIU 210</td>\n",
              "      <td>R$ 573,33</td>\n",
              "    </tr>\n",
              "    <tr>\n",
              "      <th>0</th>\n",
              "      <td>06/06/2022</td>\n",
              "      <td>DieGO ARMANDIU 210</td>\n",
              "      <td>R$ 392,8</td>\n",
              "    </tr>\n",
              "  </tbody>\n",
              "</table>\n",
              "</div>"
            ],
            "text/plain": [
              "  Data de venda             Cliente Valor da compra\n",
              "0    06/06/2022     @ANA _LUCIA 321        R$ 836,5\n",
              "0    06/06/2022  DieGO ARMANDIU 210       R$ 573,33\n",
              "0    06/06/2022  DieGO ARMANDIU 210        R$ 392,8"
            ]
          },
          "execution_count": 33,
          "metadata": {},
          "output_type": "execute_result"
        }
      ],
      "source": [
        "# Destrincar las listas con explode\n",
        "datos = datos.explode(columnas[1:])\n",
        "datos.head(3)"
      ]
    },
    {
      "cell_type": "code",
      "execution_count": 34,
      "metadata": {},
      "outputs": [
        {
          "data": {
            "text/html": [
              "<div>\n",
              "<style scoped>\n",
              "    .dataframe tbody tr th:only-of-type {\n",
              "        vertical-align: middle;\n",
              "    }\n",
              "\n",
              "    .dataframe tbody tr th {\n",
              "        vertical-align: top;\n",
              "    }\n",
              "\n",
              "    .dataframe thead th {\n",
              "        text-align: right;\n",
              "    }\n",
              "</style>\n",
              "<table border=\"1\" class=\"dataframe\">\n",
              "  <thead>\n",
              "    <tr style=\"text-align: right;\">\n",
              "      <th></th>\n",
              "      <th>Data de venda</th>\n",
              "      <th>Cliente</th>\n",
              "      <th>Valor da compra</th>\n",
              "    </tr>\n",
              "  </thead>\n",
              "  <tbody>\n",
              "    <tr>\n",
              "      <th>0</th>\n",
              "      <td>06/06/2022</td>\n",
              "      <td>@ANA _LUCIA 321</td>\n",
              "      <td>R$ 836,5</td>\n",
              "    </tr>\n",
              "    <tr>\n",
              "      <th>1</th>\n",
              "      <td>06/06/2022</td>\n",
              "      <td>DieGO ARMANDIU 210</td>\n",
              "      <td>R$ 573,33</td>\n",
              "    </tr>\n",
              "    <tr>\n",
              "      <th>2</th>\n",
              "      <td>06/06/2022</td>\n",
              "      <td>DieGO ARMANDIU 210</td>\n",
              "      <td>R$ 392,8</td>\n",
              "    </tr>\n",
              "    <tr>\n",
              "      <th>3</th>\n",
              "      <td>06/06/2022</td>\n",
              "      <td>DieGO ARMANDIU 210</td>\n",
              "      <td>R$ 512,34</td>\n",
              "    </tr>\n",
              "    <tr>\n",
              "      <th>4</th>\n",
              "      <td>07/06/2022</td>\n",
              "      <td>Isabely JOanes 738</td>\n",
              "      <td>R$ 825,31</td>\n",
              "    </tr>\n",
              "    <tr>\n",
              "      <th>5</th>\n",
              "      <td>07/06/2022</td>\n",
              "      <td>Isabely JOanes 738</td>\n",
              "      <td>R$ 168,07</td>\n",
              "    </tr>\n",
              "    <tr>\n",
              "      <th>6</th>\n",
              "      <td>07/06/2022</td>\n",
              "      <td>Isabely JOanes 738</td>\n",
              "      <td>R$ 339,18</td>\n",
              "    </tr>\n",
              "    <tr>\n",
              "      <th>7</th>\n",
              "      <td>07/06/2022</td>\n",
              "      <td>Isabely JOanes 738</td>\n",
              "      <td>R$ 314,69</td>\n",
              "    </tr>\n",
              "    <tr>\n",
              "      <th>8</th>\n",
              "      <td>08/06/2022</td>\n",
              "      <td>Isabely JOanes 738</td>\n",
              "      <td>R$ 682,05</td>\n",
              "    </tr>\n",
              "    <tr>\n",
              "      <th>9</th>\n",
              "      <td>08/06/2022</td>\n",
              "      <td>JOãO Gabriel 671</td>\n",
              "      <td>R$ 386,34</td>\n",
              "    </tr>\n",
              "    <tr>\n",
              "      <th>10</th>\n",
              "      <td>08/06/2022</td>\n",
              "      <td>Julya meireles 914</td>\n",
              "      <td>R$ 622,65</td>\n",
              "    </tr>\n",
              "    <tr>\n",
              "      <th>11</th>\n",
              "      <td>08/06/2022</td>\n",
              "      <td>Julya meireles 914</td>\n",
              "      <td>R$ 630,79</td>\n",
              "    </tr>\n",
              "    <tr>\n",
              "      <th>12</th>\n",
              "      <td>09/06/2022</td>\n",
              "      <td>Julya meireles 914</td>\n",
              "      <td>R$ 390,3</td>\n",
              "    </tr>\n",
              "    <tr>\n",
              "      <th>13</th>\n",
              "      <td>09/06/2022</td>\n",
              "      <td>MaRIA Julia 444</td>\n",
              "      <td>R$ 759,16</td>\n",
              "    </tr>\n",
              "    <tr>\n",
              "      <th>14</th>\n",
              "      <td>09/06/2022</td>\n",
              "      <td>MaRIA Julia 444</td>\n",
              "      <td>R$ 334,47</td>\n",
              "    </tr>\n",
              "    <tr>\n",
              "      <th>15</th>\n",
              "      <td>09/06/2022</td>\n",
              "      <td>MaRIA Julia 444</td>\n",
              "      <td>R$ 678,78</td>\n",
              "    </tr>\n",
              "    <tr>\n",
              "      <th>16</th>\n",
              "      <td>10/06/2022</td>\n",
              "      <td>MaRIA Julia 444</td>\n",
              "      <td>R$ 314,24</td>\n",
              "    </tr>\n",
              "    <tr>\n",
              "      <th>17</th>\n",
              "      <td>10/06/2022</td>\n",
              "      <td>PEDRO PASCO 812</td>\n",
              "      <td>R$ 311,15</td>\n",
              "    </tr>\n",
              "    <tr>\n",
              "      <th>18</th>\n",
              "      <td>10/06/2022</td>\n",
              "      <td>Paulo castro 481</td>\n",
              "      <td>R$ 899,16</td>\n",
              "    </tr>\n",
              "    <tr>\n",
              "      <th>19</th>\n",
              "      <td>10/06/2022</td>\n",
              "      <td>Thiago fritzz 883</td>\n",
              "      <td>R$ 885,24</td>\n",
              "    </tr>\n",
              "  </tbody>\n",
              "</table>\n",
              "</div>"
            ],
            "text/plain": [
              "   Data de venda             Cliente Valor da compra\n",
              "0     06/06/2022     @ANA _LUCIA 321        R$ 836,5\n",
              "1     06/06/2022  DieGO ARMANDIU 210       R$ 573,33\n",
              "2     06/06/2022  DieGO ARMANDIU 210        R$ 392,8\n",
              "3     06/06/2022  DieGO ARMANDIU 210       R$ 512,34\n",
              "4     07/06/2022  Isabely JOanes 738       R$ 825,31\n",
              "5     07/06/2022  Isabely JOanes 738       R$ 168,07\n",
              "6     07/06/2022  Isabely JOanes 738       R$ 339,18\n",
              "7     07/06/2022  Isabely JOanes 738       R$ 314,69\n",
              "8     08/06/2022  Isabely JOanes 738       R$ 682,05\n",
              "9     08/06/2022    JOãO Gabriel 671       R$ 386,34\n",
              "10    08/06/2022  Julya meireles 914       R$ 622,65\n",
              "11    08/06/2022  Julya meireles 914       R$ 630,79\n",
              "12    09/06/2022  Julya meireles 914        R$ 390,3\n",
              "13    09/06/2022     MaRIA Julia 444       R$ 759,16\n",
              "14    09/06/2022     MaRIA Julia 444       R$ 334,47\n",
              "15    09/06/2022     MaRIA Julia 444       R$ 678,78\n",
              "16    10/06/2022     MaRIA Julia 444       R$ 314,24\n",
              "17    10/06/2022     PEDRO PASCO 812       R$ 311,15\n",
              "18    10/06/2022    Paulo castro 481       R$ 899,16\n",
              "19    10/06/2022   Thiago fritzz 883       R$ 885,24"
            ]
          },
          "execution_count": 34,
          "metadata": {},
          "output_type": "execute_result"
        }
      ],
      "source": [
        "# Resetear los index de las líneas\n",
        "datos.reset_index(drop=True,inplace=True)\n",
        "# Observar el DataFrame\n",
        "datos"
      ]
    },
    {
      "cell_type": "code",
      "execution_count": 35,
      "metadata": {},
      "outputs": [
        {
          "name": "stdout",
          "output_type": "stream",
          "text": [
            "<class 'pandas.core.frame.DataFrame'>\n",
            "RangeIndex: 20 entries, 0 to 19\n",
            "Data columns (total 3 columns):\n",
            " #   Column           Non-Null Count  Dtype \n",
            "---  ------           --------------  ----- \n",
            " 0   Data de venda    20 non-null     object\n",
            " 1   Cliente          20 non-null     object\n",
            " 2   Valor da compra  20 non-null     object\n",
            "dtypes: object(3)\n",
            "memory usage: 608.0+ bytes\n"
          ]
        }
      ],
      "source": [
        "# Verificar los tipos de datos con info\n",
        "datos.info()"
      ]
    },
    {
      "cell_type": "code",
      "execution_count": 36,
      "metadata": {},
      "outputs": [
        {
          "data": {
            "text/plain": [
              "0      R$ 836,5\n",
              "1     R$ 573,33\n",
              "2      R$ 392,8\n",
              "3     R$ 512,34\n",
              "4     R$ 825,31\n",
              "5     R$ 168,07\n",
              "6     R$ 339,18\n",
              "7     R$ 314,69\n",
              "8     R$ 682,05\n",
              "9     R$ 386,34\n",
              "10    R$ 622,65\n",
              "11    R$ 630,79\n",
              "12     R$ 390,3\n",
              "13    R$ 759,16\n",
              "14    R$ 334,47\n",
              "15    R$ 678,78\n",
              "16    R$ 314,24\n",
              "17    R$ 311,15\n",
              "18    R$ 899,16\n",
              "19    R$ 885,24\n",
              "Name: Valor da compra, dtype: object"
            ]
          },
          "execution_count": 36,
          "metadata": {},
          "output_type": "execute_result"
        }
      ],
      "source": [
        "# La columna numérica es el 'Valor da compra'\n",
        "datos['Valor da compra']"
      ]
    },
    {
      "cell_type": "code",
      "execution_count": 37,
      "metadata": {},
      "outputs": [
        {
          "data": {
            "text/plain": [
              "0      836.5\n",
              "1     573.33\n",
              "2      392.8\n",
              "3     512.34\n",
              "4     825.31\n",
              "5     168.07\n",
              "6     339.18\n",
              "7     314.69\n",
              "8     682.05\n",
              "9     386.34\n",
              "10    622.65\n",
              "11    630.79\n",
              "12     390.3\n",
              "13    759.16\n",
              "14    334.47\n",
              "15    678.78\n",
              "16    314.24\n",
              "17    311.15\n",
              "18    899.16\n",
              "19    885.24\n",
              "Name: Valor da compra, dtype: object"
            ]
          },
          "execution_count": 37,
          "metadata": {},
          "output_type": "execute_result"
        }
      ],
      "source": [
        "# Iniciar la transformación\n",
        "# Import de la biblioteca numpy\n",
        "import numpy as np\n",
        "# Remover los textos presentes en la base\n",
        "# Cambiar las comas separadoras del decimal por punto\n",
        "datos['Valor da compra'] = datos['Valor da compra'].apply(lambda x: x.replace('R$ ', '').replace(',','.').strip())\n",
        "datos['Valor da compra']"
      ]
    },
    {
      "cell_type": "code",
      "execution_count": 38,
      "metadata": {},
      "outputs": [
        {
          "name": "stdout",
          "output_type": "stream",
          "text": [
            "<class 'pandas.core.frame.DataFrame'>\n",
            "RangeIndex: 20 entries, 0 to 19\n",
            "Data columns (total 3 columns):\n",
            " #   Column           Non-Null Count  Dtype  \n",
            "---  ------           --------------  -----  \n",
            " 0   Data de venda    20 non-null     object \n",
            " 1   Cliente          20 non-null     object \n",
            " 2   Valor da compra  20 non-null     float64\n",
            "dtypes: float64(1), object(2)\n",
            "memory usage: 608.0+ bytes\n"
          ]
        }
      ],
      "source": [
        "# Cambiar los tipo de datos para float\n",
        "datos['Valor da compra'] = datos['Valor da compra'].astype(np.float64)\n",
        "# Verificar la transformación\n",
        "datos.info()"
      ]
    },
    {
      "cell_type": "markdown",
      "metadata": {},
      "source": [
        "Projecto Desafio 2: Administración de Condominios"
      ]
    },
    {
      "cell_type": "code",
      "execution_count": null,
      "metadata": {},
      "outputs": [
        {
          "name": "stdout",
          "output_type": "stream",
          "text": [
            "<class 'pandas.core.frame.DataFrame'>\n",
            "RangeIndex: 30 entries, 0 to 29\n",
            "Data columns (total 4 columns):\n",
            " #   Column                      Non-Null Count  Dtype \n",
            "---  ------                      --------------  ----- \n",
            " 0   apartamento                 30 non-null     object\n",
            " 1   datas_combinadas_pagamento  30 non-null     object\n",
            " 2   datas_de_pagamento          30 non-null     object\n",
            " 3   valor_aluguel               30 non-null     object\n",
            "dtypes: object(4)\n",
            "memory usage: 1.1+ KB\n",
            "<class 'pandas.core.frame.DataFrame'>\n",
            "RangeIndex: 30 entries, 0 to 29\n",
            "Data columns (total 4 columns):\n",
            " #   Column                      Non-Null Count  Dtype  \n",
            "---  ------                      --------------  -----  \n",
            " 0   apartamento                 30 non-null     object \n",
            " 1   datas_combinadas_pagamento  30 non-null     object \n",
            " 2   datas_de_pagamento          30 non-null     object \n",
            " 3   valor_aluguel               30 non-null     float64\n",
            "dtypes: float64(1), object(3)\n",
            "memory usage: 1.1+ KB\n"
          ]
        }
      ],
      "source": [
        "# Import de pandas\n",
        "import pandas as pd\n",
        "# Leer el archivo json con read_json\n",
        "datos = pd.read_json('../data/dados_locacao_imoveis.json')\n",
        "# Aplicar json_normalize en la columna dados_locacao\n",
        "datos = pd.json_normalize(datos['dados_locacao']) # Columna dados_locacao\n",
        "# Mostrar valores\n",
        "datos.tail(3)\n",
        "\n",
        "# Colectar los valores de las columnas y verificar\n",
        "columnas = list(datos.columns)\n",
        "columnas\n",
        "\n",
        "# Destrincar las listas con explode\n",
        "datos = datos.explode(columnas[1:])\n",
        "# Resetear los index de las líneas\n",
        "datos.reset_index(drop=True,inplace=True)\n",
        "# Observar el DataFrame\n",
        "datos\n",
        "\n",
        "# Verificar los tipos de datos con info\n",
        "datos.info()\n",
        "\n",
        "# La columna numérica es el 'valor_aluguel'\n",
        "datos['valor_aluguel']\n",
        "\n",
        "# Iniciar la transformación\n",
        "# Import de la biblioteca numpy\n",
        "import numpy as np\n",
        "# Remover los textos presentes en la base\n",
        "# Cambiar las comas separadoras del decimal por punto\n",
        "datos['valor_aluguel'] = datos['valor_aluguel'].apply(lambda x: x.replace('$ ', '').replace(' reais', '').replace(',','.').strip())\n",
        "# Cambiar los tipos de datos para float\n",
        "datos['valor_aluguel'] = datos['valor_aluguel'].astype(np.float64)\n",
        "# Verificar la transformación\n",
        "datos.info()\n"
      ]
    },
    {
      "cell_type": "markdown",
      "metadata": {},
      "source": [
        "## Desglose del código\n",
        "\n",
        "### Proyecto Desafío 2: Administración de Condominios\n",
        "\n",
        "Leímos la base de datos en el desafío anterior, ahora podemos seguir adelante con la transformación de estos datos. Entonces, de la misma manera que en el proyecto 1, el desafío del proyecto 2 está listado en algunas metas:\n",
        "\n",
        "* Eliminar datos en listas dentro del DataFrame;\n",
        "* Verificar tipos de datos;\n",
        "* Identificar columnas numéricas;\n",
        "* Transformar la columna numérica a tipo numérico."
      ]
    },
    {
      "cell_type": "code",
      "execution_count": 16,
      "metadata": {},
      "outputs": [
        {
          "data": {
            "text/html": [
              "<div>\n",
              "<style scoped>\n",
              "    .dataframe tbody tr th:only-of-type {\n",
              "        vertical-align: middle;\n",
              "    }\n",
              "\n",
              "    .dataframe tbody tr th {\n",
              "        vertical-align: top;\n",
              "    }\n",
              "\n",
              "    .dataframe thead th {\n",
              "        text-align: right;\n",
              "    }\n",
              "</style>\n",
              "<table border=\"1\" class=\"dataframe\">\n",
              "  <thead>\n",
              "    <tr style=\"text-align: right;\">\n",
              "      <th></th>\n",
              "      <th>apartamento</th>\n",
              "      <th>datas_combinadas_pagamento</th>\n",
              "      <th>datas_de_pagamento</th>\n",
              "      <th>valor_aluguel</th>\n",
              "    </tr>\n",
              "  </thead>\n",
              "  <tbody>\n",
              "    <tr>\n",
              "      <th>12</th>\n",
              "      <td>G701 (blocoAP)</td>\n",
              "      <td>[13/06/2022, 13/07/2022]</td>\n",
              "      <td>[19/06/2022, 20/07/2022]</td>\n",
              "      <td>[$ 2200,0 reais, $ 1200,0 reais]</td>\n",
              "    </tr>\n",
              "    <tr>\n",
              "      <th>13</th>\n",
              "      <td>G702 (blocoAP)</td>\n",
              "      <td>[14/06/2022, 14/07/2022]</td>\n",
              "      <td>[15/06/2022, 17/07/2022]</td>\n",
              "      <td>[$ 2300,0 reais, $ 2100,0 reais]</td>\n",
              "    </tr>\n",
              "    <tr>\n",
              "      <th>14</th>\n",
              "      <td>H801 (blocoAP)</td>\n",
              "      <td>[15/06/2022, 15/07/2022]</td>\n",
              "      <td>[18/06/2022, 16/07/2022]</td>\n",
              "      <td>[$ 2400,0 reais, $ 2200,0 reais]</td>\n",
              "    </tr>\n",
              "  </tbody>\n",
              "</table>\n",
              "</div>"
            ],
            "text/plain": [
              "       apartamento datas_combinadas_pagamento        datas_de_pagamento  \\\n",
              "12  G701 (blocoAP)   [13/06/2022, 13/07/2022]  [19/06/2022, 20/07/2022]   \n",
              "13  G702 (blocoAP)   [14/06/2022, 14/07/2022]  [15/06/2022, 17/07/2022]   \n",
              "14  H801 (blocoAP)   [15/06/2022, 15/07/2022]  [18/06/2022, 16/07/2022]   \n",
              "\n",
              "                       valor_aluguel  \n",
              "12  [$ 2200,0 reais, $ 1200,0 reais]  \n",
              "13  [$ 2300,0 reais, $ 2100,0 reais]  \n",
              "14  [$ 2400,0 reais, $ 2200,0 reais]  "
            ]
          },
          "execution_count": 16,
          "metadata": {},
          "output_type": "execute_result"
        }
      ],
      "source": [
        "# Import de pandas\n",
        "import pandas as pd\n",
        "# Leer el archivo json con read_json\n",
        "datos = pd.read_json('../data/dados_locacao_imoveis.json')\n",
        "# Aplicar json_normalize en la columna dados_locacao\n",
        "datos = pd.json_normalize(datos['dados_locacao']) # Columna dados_locacao\n",
        "# Mostrar valores\n",
        "datos.tail(3)"
      ]
    },
    {
      "cell_type": "code",
      "execution_count": 17,
      "metadata": {},
      "outputs": [
        {
          "data": {
            "text/plain": [
              "['apartamento',\n",
              " 'datas_combinadas_pagamento',\n",
              " 'datas_de_pagamento',\n",
              " 'valor_aluguel']"
            ]
          },
          "execution_count": 17,
          "metadata": {},
          "output_type": "execute_result"
        }
      ],
      "source": [
        "# Colectar los valores de las columnas y verificar\n",
        "columnas = list(datos.columns)\n",
        "columnas"
      ]
    },
    {
      "cell_type": "code",
      "execution_count": 18,
      "metadata": {},
      "outputs": [
        {
          "data": {
            "text/html": [
              "<div>\n",
              "<style scoped>\n",
              "    .dataframe tbody tr th:only-of-type {\n",
              "        vertical-align: middle;\n",
              "    }\n",
              "\n",
              "    .dataframe tbody tr th {\n",
              "        vertical-align: top;\n",
              "    }\n",
              "\n",
              "    .dataframe thead th {\n",
              "        text-align: right;\n",
              "    }\n",
              "</style>\n",
              "<table border=\"1\" class=\"dataframe\">\n",
              "  <thead>\n",
              "    <tr style=\"text-align: right;\">\n",
              "      <th></th>\n",
              "      <th>apartamento</th>\n",
              "      <th>datas_combinadas_pagamento</th>\n",
              "      <th>datas_de_pagamento</th>\n",
              "      <th>valor_aluguel</th>\n",
              "    </tr>\n",
              "  </thead>\n",
              "  <tbody>\n",
              "    <tr>\n",
              "      <th>0</th>\n",
              "      <td>A101 (blocoAP)</td>\n",
              "      <td>01/06/2022</td>\n",
              "      <td>05/06/2022</td>\n",
              "      <td>$ 1000,0 reais</td>\n",
              "    </tr>\n",
              "    <tr>\n",
              "      <th>0</th>\n",
              "      <td>A101 (blocoAP)</td>\n",
              "      <td>01/07/2022</td>\n",
              "      <td>03/07/2022</td>\n",
              "      <td>$ 2500,0 reais</td>\n",
              "    </tr>\n",
              "    <tr>\n",
              "      <th>1</th>\n",
              "      <td>A102 (blocoAP)</td>\n",
              "      <td>02/06/2022</td>\n",
              "      <td>02/06/2022</td>\n",
              "      <td>$ 1100,0 reais</td>\n",
              "    </tr>\n",
              "  </tbody>\n",
              "</table>\n",
              "</div>"
            ],
            "text/plain": [
              "      apartamento datas_combinadas_pagamento datas_de_pagamento  \\\n",
              "0  A101 (blocoAP)                 01/06/2022         05/06/2022   \n",
              "0  A101 (blocoAP)                 01/07/2022         03/07/2022   \n",
              "1  A102 (blocoAP)                 02/06/2022         02/06/2022   \n",
              "\n",
              "    valor_aluguel  \n",
              "0  $ 1000,0 reais  \n",
              "0  $ 2500,0 reais  \n",
              "1  $ 1100,0 reais  "
            ]
          },
          "execution_count": 18,
          "metadata": {},
          "output_type": "execute_result"
        }
      ],
      "source": [
        "# Destrincar las listas con explode\n",
        "datos = datos.explode(columnas[1:])\n",
        "datos.head(3)"
      ]
    },
    {
      "cell_type": "code",
      "execution_count": 19,
      "metadata": {},
      "outputs": [
        {
          "data": {
            "text/html": [
              "<div>\n",
              "<style scoped>\n",
              "    .dataframe tbody tr th:only-of-type {\n",
              "        vertical-align: middle;\n",
              "    }\n",
              "\n",
              "    .dataframe tbody tr th {\n",
              "        vertical-align: top;\n",
              "    }\n",
              "\n",
              "    .dataframe thead th {\n",
              "        text-align: right;\n",
              "    }\n",
              "</style>\n",
              "<table border=\"1\" class=\"dataframe\">\n",
              "  <thead>\n",
              "    <tr style=\"text-align: right;\">\n",
              "      <th></th>\n",
              "      <th>apartamento</th>\n",
              "      <th>datas_combinadas_pagamento</th>\n",
              "      <th>datas_de_pagamento</th>\n",
              "      <th>valor_aluguel</th>\n",
              "    </tr>\n",
              "  </thead>\n",
              "  <tbody>\n",
              "    <tr>\n",
              "      <th>0</th>\n",
              "      <td>A101 (blocoAP)</td>\n",
              "      <td>01/06/2022</td>\n",
              "      <td>05/06/2022</td>\n",
              "      <td>$ 1000,0 reais</td>\n",
              "    </tr>\n",
              "    <tr>\n",
              "      <th>1</th>\n",
              "      <td>A101 (blocoAP)</td>\n",
              "      <td>01/07/2022</td>\n",
              "      <td>03/07/2022</td>\n",
              "      <td>$ 2500,0 reais</td>\n",
              "    </tr>\n",
              "    <tr>\n",
              "      <th>2</th>\n",
              "      <td>A102 (blocoAP)</td>\n",
              "      <td>02/06/2022</td>\n",
              "      <td>02/06/2022</td>\n",
              "      <td>$ 1100,0 reais</td>\n",
              "    </tr>\n",
              "  </tbody>\n",
              "</table>\n",
              "</div>"
            ],
            "text/plain": [
              "      apartamento datas_combinadas_pagamento datas_de_pagamento  \\\n",
              "0  A101 (blocoAP)                 01/06/2022         05/06/2022   \n",
              "1  A101 (blocoAP)                 01/07/2022         03/07/2022   \n",
              "2  A102 (blocoAP)                 02/06/2022         02/06/2022   \n",
              "\n",
              "    valor_aluguel  \n",
              "0  $ 1000,0 reais  \n",
              "1  $ 2500,0 reais  \n",
              "2  $ 1100,0 reais  "
            ]
          },
          "execution_count": 19,
          "metadata": {},
          "output_type": "execute_result"
        }
      ],
      "source": [
        "# Resetear los index de las líneas\n",
        "datos.reset_index(drop=True,inplace=True)\n",
        "# Observar el DataFrame\n",
        "datos.head(3)"
      ]
    },
    {
      "cell_type": "code",
      "execution_count": 20,
      "metadata": {},
      "outputs": [
        {
          "data": {
            "text/plain": [
              "0     $ 1000,0 reais\n",
              "1     $ 2500,0 reais\n",
              "2     $ 1100,0 reais\n",
              "3     $ 2600,0 reais\n",
              "4     $ 1200,0 reais\n",
              "5     $ 2700,0 reais\n",
              "6     $ 1300,0 reais\n",
              "7     $ 2800,0 reais\n",
              "8     $ 1400,0 reais\n",
              "9     $ 2900,0 reais\n",
              "10    $ 1500,0 reais\n",
              "11    $ 1200,0 reais\n",
              "12    $ 1600,0 reais\n",
              "13    $ 1300,0 reais\n",
              "14    $ 1700,0 reais\n",
              "15    $ 1400,0 reais\n",
              "16    $ 1800,0 reais\n",
              "17    $ 1500,0 reais\n",
              "18    $ 1900,0 reais\n",
              "19    $ 1600,0 reais\n",
              "20    $ 2000,0 reais\n",
              "21    $ 1000,0 reais\n",
              "22    $ 2100,0 reais\n",
              "23    $ 1100,0 reais\n",
              "24    $ 2200,0 reais\n",
              "25    $ 1200,0 reais\n",
              "26    $ 2300,0 reais\n",
              "27    $ 2100,0 reais\n",
              "28    $ 2400,0 reais\n",
              "29    $ 2200,0 reais\n",
              "Name: valor_aluguel, dtype: object"
            ]
          },
          "execution_count": 20,
          "metadata": {},
          "output_type": "execute_result"
        }
      ],
      "source": [
        "# La columna numérica es el 'valor_aluguel'\n",
        "datos['valor_aluguel']"
      ]
    },
    {
      "cell_type": "code",
      "execution_count": 22,
      "metadata": {},
      "outputs": [
        {
          "data": {
            "text/plain": [
              "0     1000.0\n",
              "1     2500.0\n",
              "2     1100.0\n",
              "3     2600.0\n",
              "4     1200.0\n",
              "5     2700.0\n",
              "6     1300.0\n",
              "7     2800.0\n",
              "8     1400.0\n",
              "9     2900.0\n",
              "10    1500.0\n",
              "11    1200.0\n",
              "12    1600.0\n",
              "13    1300.0\n",
              "14    1700.0\n",
              "15    1400.0\n",
              "16    1800.0\n",
              "17    1500.0\n",
              "18    1900.0\n",
              "19    1600.0\n",
              "20    2000.0\n",
              "21    1000.0\n",
              "22    2100.0\n",
              "23    1100.0\n",
              "24    2200.0\n",
              "25    1200.0\n",
              "26    2300.0\n",
              "27    2100.0\n",
              "28    2400.0\n",
              "29    2200.0\n",
              "Name: valor_aluguel, dtype: object"
            ]
          },
          "execution_count": 22,
          "metadata": {},
          "output_type": "execute_result"
        }
      ],
      "source": [
        "# Iniciar la transformación\n",
        "# Import de la biblioteca numpy\n",
        "import numpy as np\n",
        "# Remover los textos presentes en la base\n",
        "# Cambiar las comas separadoras del decimal por punto\n",
        "datos['valor_aluguel'] = datos['valor_aluguel'].apply(lambda x: x.replace('$ ', '').replace(' reais', '').replace(',','.').strip())\n",
        "datos['valor_aluguel']"
      ]
    },
    {
      "cell_type": "code",
      "execution_count": 23,
      "metadata": {},
      "outputs": [
        {
          "name": "stdout",
          "output_type": "stream",
          "text": [
            "<class 'pandas.core.frame.DataFrame'>\n",
            "RangeIndex: 30 entries, 0 to 29\n",
            "Data columns (total 4 columns):\n",
            " #   Column                      Non-Null Count  Dtype \n",
            "---  ------                      --------------  ----- \n",
            " 0   apartamento                 30 non-null     object\n",
            " 1   datas_combinadas_pagamento  30 non-null     object\n",
            " 2   datas_de_pagamento          30 non-null     object\n",
            " 3   valor_aluguel               30 non-null     object\n",
            "dtypes: object(4)\n",
            "memory usage: 1.1+ KB\n"
          ]
        }
      ],
      "source": [
        "datos.info()"
      ]
    },
    {
      "cell_type": "code",
      "execution_count": 24,
      "metadata": {},
      "outputs": [
        {
          "name": "stdout",
          "output_type": "stream",
          "text": [
            "<class 'pandas.core.frame.DataFrame'>\n",
            "RangeIndex: 30 entries, 0 to 29\n",
            "Data columns (total 4 columns):\n",
            " #   Column                      Non-Null Count  Dtype  \n",
            "---  ------                      --------------  -----  \n",
            " 0   apartamento                 30 non-null     object \n",
            " 1   datas_combinadas_pagamento  30 non-null     object \n",
            " 2   datas_de_pagamento          30 non-null     object \n",
            " 3   valor_aluguel               30 non-null     float64\n",
            "dtypes: float64(1), object(3)\n",
            "memory usage: 1.1+ KB\n"
          ]
        }
      ],
      "source": [
        "# Cambiar los tipos de datos para float\n",
        "datos['valor_aluguel'] = datos['valor_aluguel'].astype(np.float64)\n",
        "# Verificar la transformación\n",
        "datos.info()"
      ]
    },
    {
      "cell_type": "markdown",
      "metadata": {},
      "source": [
        "##  10 Lo que aprendimos\n",
        "\n",
        "En esta aula, aprendimos a:\n",
        "\n",
        "* Identificar y transformar elementos dentro de las listas en una nueva línea del DataFrame con explode;\n",
        "* Transformar datos textuales en datos numéricos con el método astype;\n",
        "* Tratar los textos con datos numéricos para transformarlos con apply;\n",
        "* Tratar varias columnas elemento por elemento con applymap."
      ]
    },
    {
      "cell_type": "markdown",
      "metadata": {
        "id": "dMl2hM7RraIN"
      },
      "source": [
        "# **3. Datos de texto**\n",
        "\n",
        "\n",
        "---\n",
        "\n",
        "\n"
      ]
    },
    {
      "cell_type": "code",
      "execution_count": 102,
      "metadata": {},
      "outputs": [
        {
          "name": "stderr",
          "output_type": "stream",
          "text": [
            "/tmp/ipykernel_3643/3413534959.py:20: FutureWarning: DataFrame.applymap has been deprecated. Use DataFrame.map instead.\n",
            "  datos[['cuota_deposito', 'cuota_limpieza']] = datos[['cuota_deposito', 'cuota_limpieza']].applymap(lambda x: x.replace('$','').replace(',','').strip())\n"
          ]
        },
        {
          "name": "stdout",
          "output_type": "stream",
          "text": [
            "<class 'pandas.core.frame.DataFrame'>\n",
            "RangeIndex: 3818 entries, 0 to 3817\n",
            "Data columns (total 13 columns):\n",
            " #   Column                Non-Null Count  Dtype  \n",
            "---  ------                --------------  -----  \n",
            " 0   evaluacion_general    3162 non-null   float64\n",
            " 1   experiencia_local     3818 non-null   object \n",
            " 2   max_hospedes          3818 non-null   int64  \n",
            " 3   descripcion_local     3818 non-null   object \n",
            " 4   descripcion_vecindad  3818 non-null   object \n",
            " 5   cantidad_baños        3818 non-null   int64  \n",
            " 6   cantidad_cuartos      3818 non-null   int64  \n",
            " 7   cantidad_camas        3818 non-null   int64  \n",
            " 8   modelo_cama           3818 non-null   object \n",
            " 9   comodidades           3818 non-null   object \n",
            " 10  cuota_deposito        3818 non-null   float64\n",
            " 11  cuota_limpieza        3818 non-null   float64\n",
            " 12  precio                3818 non-null   float64\n",
            "dtypes: float64(4), int64(4), object(5)\n",
            "memory usage: 387.9+ KB\n"
          ]
        },
        {
          "data": {
            "text/html": [
              "<div>\n",
              "<style scoped>\n",
              "    .dataframe tbody tr th:only-of-type {\n",
              "        vertical-align: middle;\n",
              "    }\n",
              "\n",
              "    .dataframe tbody tr th {\n",
              "        vertical-align: top;\n",
              "    }\n",
              "\n",
              "    .dataframe thead th {\n",
              "        text-align: right;\n",
              "    }\n",
              "</style>\n",
              "<table border=\"1\" class=\"dataframe\">\n",
              "  <thead>\n",
              "    <tr style=\"text-align: right;\">\n",
              "      <th></th>\n",
              "      <th>evaluacion_general</th>\n",
              "      <th>experiencia_local</th>\n",
              "      <th>max_hospedes</th>\n",
              "      <th>descripcion_local</th>\n",
              "      <th>descripcion_vecindad</th>\n",
              "      <th>cantidad_baños</th>\n",
              "      <th>cantidad_cuartos</th>\n",
              "      <th>cantidad_camas</th>\n",
              "      <th>modelo_cama</th>\n",
              "      <th>comodidades</th>\n",
              "      <th>cuota_deposito</th>\n",
              "      <th>cuota_limpieza</th>\n",
              "      <th>precio</th>\n",
              "    </tr>\n",
              "  </thead>\n",
              "  <tbody>\n",
              "    <tr>\n",
              "      <th>0</th>\n",
              "      <td>10.0</td>\n",
              "      <td>--</td>\n",
              "      <td>1</td>\n",
              "      <td>This clean and comfortable one bedroom sits ri...</td>\n",
              "      <td>Lower Queen Anne is near the Seattle Center (s...</td>\n",
              "      <td>1</td>\n",
              "      <td>1</td>\n",
              "      <td>1</td>\n",
              "      <td>Real Bed</td>\n",
              "      <td>{Internet,\"Wireless Internet\",Kitchen,\"Free Pa...</td>\n",
              "      <td>0.0</td>\n",
              "      <td>0.0</td>\n",
              "      <td>110.0</td>\n",
              "    </tr>\n",
              "    <tr>\n",
              "      <th>1</th>\n",
              "      <td>10.0</td>\n",
              "      <td>--</td>\n",
              "      <td>1</td>\n",
              "      <td>Our century old Upper Queen Anne house is loca...</td>\n",
              "      <td>Upper Queen Anne is a really pleasant, unique ...</td>\n",
              "      <td>1</td>\n",
              "      <td>1</td>\n",
              "      <td>1</td>\n",
              "      <td>Futon</td>\n",
              "      <td>{TV,Internet,\"Wireless Internet\",Kitchen,\"Free...</td>\n",
              "      <td>0.0</td>\n",
              "      <td>0.0</td>\n",
              "      <td>45.0</td>\n",
              "    </tr>\n",
              "    <tr>\n",
              "      <th>2</th>\n",
              "      <td>10.0</td>\n",
              "      <td>--</td>\n",
              "      <td>1</td>\n",
              "      <td>Cozy room in two-bedroom apartment along the l...</td>\n",
              "      <td>The convenience of being in Seattle but on the...</td>\n",
              "      <td>1</td>\n",
              "      <td>1</td>\n",
              "      <td>1</td>\n",
              "      <td>Futon</td>\n",
              "      <td>{TV,Internet,\"Wireless Internet\",Kitchen,\"Free...</td>\n",
              "      <td>0.0</td>\n",
              "      <td>0.0</td>\n",
              "      <td>55.0</td>\n",
              "    </tr>\n",
              "    <tr>\n",
              "      <th>3</th>\n",
              "      <td>10.0</td>\n",
              "      <td>--</td>\n",
              "      <td>1</td>\n",
              "      <td>Very lovely and cozy room for one. Convenientl...</td>\n",
              "      <td>Ballard is lovely, vibrant and one of the most...</td>\n",
              "      <td>1</td>\n",
              "      <td>1</td>\n",
              "      <td>1</td>\n",
              "      <td>Pull-out Sofa</td>\n",
              "      <td>{Internet,\"Wireless Internet\",Kitchen,\"Free Pa...</td>\n",
              "      <td>0.0</td>\n",
              "      <td>20.0</td>\n",
              "      <td>52.0</td>\n",
              "    </tr>\n",
              "    <tr>\n",
              "      <th>4</th>\n",
              "      <td>10.0</td>\n",
              "      <td>--</td>\n",
              "      <td>1</td>\n",
              "      <td>The “Studio at Mibbett Hollow' is in a Beautif...</td>\n",
              "      <td>--</td>\n",
              "      <td>1</td>\n",
              "      <td>1</td>\n",
              "      <td>1</td>\n",
              "      <td>Real Bed</td>\n",
              "      <td>{\"Wireless Internet\",Kitchen,\"Free Parking on ...</td>\n",
              "      <td>0.0</td>\n",
              "      <td>15.0</td>\n",
              "      <td>85.0</td>\n",
              "    </tr>\n",
              "  </tbody>\n",
              "</table>\n",
              "</div>"
            ],
            "text/plain": [
              "   evaluacion_general experiencia_local  max_hospedes  \\\n",
              "0                10.0                --             1   \n",
              "1                10.0                --             1   \n",
              "2                10.0                --             1   \n",
              "3                10.0                --             1   \n",
              "4                10.0                --             1   \n",
              "\n",
              "                                   descripcion_local  \\\n",
              "0  This clean and comfortable one bedroom sits ri...   \n",
              "1  Our century old Upper Queen Anne house is loca...   \n",
              "2  Cozy room in two-bedroom apartment along the l...   \n",
              "3  Very lovely and cozy room for one. Convenientl...   \n",
              "4  The “Studio at Mibbett Hollow' is in a Beautif...   \n",
              "\n",
              "                                descripcion_vecindad  cantidad_baños  \\\n",
              "0  Lower Queen Anne is near the Seattle Center (s...               1   \n",
              "1  Upper Queen Anne is a really pleasant, unique ...               1   \n",
              "2  The convenience of being in Seattle but on the...               1   \n",
              "3  Ballard is lovely, vibrant and one of the most...               1   \n",
              "4                                                 --               1   \n",
              "\n",
              "   cantidad_cuartos  cantidad_camas    modelo_cama  \\\n",
              "0                 1               1       Real Bed   \n",
              "1                 1               1          Futon   \n",
              "2                 1               1          Futon   \n",
              "3                 1               1  Pull-out Sofa   \n",
              "4                 1               1       Real Bed   \n",
              "\n",
              "                                         comodidades  cuota_deposito  \\\n",
              "0  {Internet,\"Wireless Internet\",Kitchen,\"Free Pa...             0.0   \n",
              "1  {TV,Internet,\"Wireless Internet\",Kitchen,\"Free...             0.0   \n",
              "2  {TV,Internet,\"Wireless Internet\",Kitchen,\"Free...             0.0   \n",
              "3  {Internet,\"Wireless Internet\",Kitchen,\"Free Pa...             0.0   \n",
              "4  {\"Wireless Internet\",Kitchen,\"Free Parking on ...             0.0   \n",
              "\n",
              "   cuota_limpieza  precio  \n",
              "0             0.0   110.0  \n",
              "1             0.0    45.0  \n",
              "2             0.0    55.0  \n",
              "3            20.0    52.0  \n",
              "4            15.0    85.0  "
            ]
          },
          "execution_count": 102,
          "metadata": {},
          "output_type": "execute_result"
        }
      ],
      "source": [
        "import pandas as pd\n",
        "import numpy as np\n",
        "datos = pd.read_json('../data/datos_hosting.json')\n",
        "datos = pd.json_normalize(datos['info_inmuebles'])\n",
        "#datos.info()\n",
        "columnas = list(datos.columns)\n",
        "#columnas\n",
        "datos = datos.explode(columnas[3:])\n",
        "#datos\n",
        "datos.reset_index(inplace = True, drop = True) # Reseteamos para tener índices individuales\n",
        "#datos.head()\n",
        "datos['max_hospedes'] = datos['max_hospedes'].astype(np.int64)\n",
        "col_numericas = ['cantidad_baños', 'cantidad_cuartos', 'cantidad_camas']\n",
        "datos[col_numericas] = datos[col_numericas].astype(np.int64)\n",
        "datos['evaluacion_general'] = datos['evaluacion_general'].astype(np.float64)\n",
        "datos['precio'] = datos['precio'].apply(lambda x: x.replace('$','').replace(',','').strip())\n",
        "datos['precio'] = datos['precio'].astype(np.float64)\n",
        "#datos.info()\n",
        "datos[['cuota_deposito', 'cuota_limpieza']]\n",
        "datos[['cuota_deposito', 'cuota_limpieza']] = datos[['cuota_deposito', 'cuota_limpieza']].applymap(lambda x: x.replace('$','').replace(',','').strip())\n",
        "datos[['cuota_deposito', 'cuota_limpieza']]\n",
        "datos[['cuota_deposito', 'cuota_limpieza']] = datos[['cuota_deposito', 'cuota_limpieza']].astype(np.float64)\n",
        "datos.info()\n",
        "datos.head()\n",
        "\n"
      ]
    },
    {
      "cell_type": "code",
      "execution_count": 103,
      "metadata": {},
      "outputs": [
        {
          "data": {
            "text/plain": [
              "0       This clean and comfortable one bedroom sits ri...\n",
              "1       Our century old Upper Queen Anne house is loca...\n",
              "2       Cozy room in two-bedroom apartment along the l...\n",
              "3       Very lovely and cozy room for one. Convenientl...\n",
              "4       The “Studio at Mibbett Hollow' is in a Beautif...\n",
              "                              ...                        \n",
              "3813    Beautiful craftsman home in the historic Wedgw...\n",
              "3814    Located in a very easily accessible area of Se...\n",
              "3815    This home is fully furnished and available wee...\n",
              "3816    This business-themed modern home features:  *H...\n",
              "3817    This welcoming home is in the quiet residentia...\n",
              "Name: descripcion_local, Length: 3818, dtype: object"
            ]
          },
          "execution_count": 103,
          "metadata": {},
          "output_type": "execute_result"
        }
      ],
      "source": [
        "datos['descripcion_local'] # Tipo Object"
      ]
    },
    {
      "cell_type": "code",
      "execution_count": 104,
      "metadata": {},
      "outputs": [
        {
          "data": {
            "text/plain": [
              "\"This clean and comfortable one bedroom sits right across from Kinnear Park in Seattle's lower Queen Anne neighborhood. Walk to Seattle Center, the SAM Sculpture Park, or just sit on the deck and enjoy the view of Puget Sound and downtown Seattle. Kitchen has hot water tap and sodastream Excellent water pressure Original art throughout the house Dogs under 30 lbs welcome Roof deck Lower Queen Anne is near the Seattle Center (space needle, EMP museum, Glass museum, Science Center and Children's museum). It's also near SAM sculpture park, stores, restaurants, SIFF theater and more.\""
            ]
          },
          "execution_count": 104,
          "metadata": {},
          "output_type": "execute_result"
        }
      ],
      "source": [
        "datos['descripcion_local'][0]"
      ]
    },
    {
      "cell_type": "markdown",
      "metadata": {},
      "source": [
        "Este limpio y cómodo apartamento de una habitación se encuentra justo enfrente del Parque Kinnear, en el barrio Lower Queen Anne de Seattle. Camine hasta el Seattle Center, el Parque de Esculturas SAM o simplemente siéntese en la terraza y disfrute de la vista del estrecho de Puget y el centro de Seattle. La cocina cuenta con agua caliente y refresco. Excelente presión de agua. Obras de arte originales en toda la casa. Se admiten perros de menos de 13.6 kg. Terraza en la azotea. Lower Queen Anne está cerca del Seattle Center (Aguja Espacial, Museo EMP, Museo del Vidrio, Centro de Ciencias y Museo Infantil). También está cerca del parque de esculturas SAM, tiendas, restaurantes, el teatro SIFF y mucho más."
      ]
    },
    {
      "cell_type": "code",
      "execution_count": 105,
      "metadata": {
        "id": "7zIk3vG7rVdP"
      },
      "outputs": [],
      "source": [
        "datos['descripcion_local'] = datos['descripcion_local'].str.lower()"
      ]
    },
    {
      "cell_type": "code",
      "execution_count": 106,
      "metadata": {},
      "outputs": [
        {
          "data": {
            "text/plain": [
              "0       this clean and comfortable one bedroom sits ri...\n",
              "1       our century old upper queen anne house is loca...\n",
              "2       cozy room in two-bedroom apartment along the l...\n",
              "3       very lovely and cozy room for one. convenientl...\n",
              "4       the “studio at mibbett hollow' is in a beautif...\n",
              "                              ...                        \n",
              "3813    beautiful craftsman home in the historic wedgw...\n",
              "3814    located in a very easily accessible area of se...\n",
              "3815    this home is fully furnished and available wee...\n",
              "3816    this business-themed modern home features:  *h...\n",
              "3817    this welcoming home is in the quiet residentia...\n",
              "Name: descripcion_local, Length: 3818, dtype: object"
            ]
          },
          "execution_count": 106,
          "metadata": {},
          "output_type": "execute_result"
        }
      ],
      "source": [
        "datos['descripcion_local'] # Todo en minúsculas"
      ]
    },
    {
      "cell_type": "code",
      "execution_count": 107,
      "metadata": {
        "colab": {
          "base_uri": "https://localhost:8080/",
          "height": 400
        },
        "id": "pOEGOzh2rVfV",
        "outputId": "62cf4b78-16ab-4e7b-8447-c1b03757659e"
      },
      "outputs": [
        {
          "data": {
            "text/html": [
              "<div>\n",
              "<style scoped>\n",
              "    .dataframe tbody tr th:only-of-type {\n",
              "        vertical-align: middle;\n",
              "    }\n",
              "\n",
              "    .dataframe tbody tr th {\n",
              "        vertical-align: top;\n",
              "    }\n",
              "\n",
              "    .dataframe thead th {\n",
              "        text-align: right;\n",
              "    }\n",
              "</style>\n",
              "<table border=\"1\" class=\"dataframe\">\n",
              "  <thead>\n",
              "    <tr style=\"text-align: right;\">\n",
              "      <th></th>\n",
              "      <th>evaluacion_general</th>\n",
              "      <th>experiencia_local</th>\n",
              "      <th>max_hospedes</th>\n",
              "      <th>descripcion_local</th>\n",
              "      <th>descripcion_vecindad</th>\n",
              "      <th>cantidad_baños</th>\n",
              "      <th>cantidad_cuartos</th>\n",
              "      <th>cantidad_camas</th>\n",
              "      <th>modelo_cama</th>\n",
              "      <th>comodidades</th>\n",
              "      <th>cuota_deposito</th>\n",
              "      <th>cuota_limpieza</th>\n",
              "      <th>precio</th>\n",
              "    </tr>\n",
              "  </thead>\n",
              "  <tbody>\n",
              "    <tr>\n",
              "      <th>0</th>\n",
              "      <td>10.0</td>\n",
              "      <td>--</td>\n",
              "      <td>1</td>\n",
              "      <td>this clean and comfortable one bedroom sits ri...</td>\n",
              "      <td>Lower Queen Anne is near the Seattle Center (s...</td>\n",
              "      <td>1</td>\n",
              "      <td>1</td>\n",
              "      <td>1</td>\n",
              "      <td>Real Bed</td>\n",
              "      <td>{Internet,\"Wireless Internet\",Kitchen,\"Free Pa...</td>\n",
              "      <td>0.0</td>\n",
              "      <td>0.0</td>\n",
              "      <td>110.0</td>\n",
              "    </tr>\n",
              "    <tr>\n",
              "      <th>1</th>\n",
              "      <td>10.0</td>\n",
              "      <td>--</td>\n",
              "      <td>1</td>\n",
              "      <td>our century old upper queen anne house is loca...</td>\n",
              "      <td>Upper Queen Anne is a really pleasant, unique ...</td>\n",
              "      <td>1</td>\n",
              "      <td>1</td>\n",
              "      <td>1</td>\n",
              "      <td>Futon</td>\n",
              "      <td>{TV,Internet,\"Wireless Internet\",Kitchen,\"Free...</td>\n",
              "      <td>0.0</td>\n",
              "      <td>0.0</td>\n",
              "      <td>45.0</td>\n",
              "    </tr>\n",
              "    <tr>\n",
              "      <th>2</th>\n",
              "      <td>10.0</td>\n",
              "      <td>--</td>\n",
              "      <td>1</td>\n",
              "      <td>cozy room in two-bedroom apartment along the l...</td>\n",
              "      <td>The convenience of being in Seattle but on the...</td>\n",
              "      <td>1</td>\n",
              "      <td>1</td>\n",
              "      <td>1</td>\n",
              "      <td>Futon</td>\n",
              "      <td>{TV,Internet,\"Wireless Internet\",Kitchen,\"Free...</td>\n",
              "      <td>0.0</td>\n",
              "      <td>0.0</td>\n",
              "      <td>55.0</td>\n",
              "    </tr>\n",
              "    <tr>\n",
              "      <th>3</th>\n",
              "      <td>10.0</td>\n",
              "      <td>--</td>\n",
              "      <td>1</td>\n",
              "      <td>very lovely and cozy room for one. convenientl...</td>\n",
              "      <td>Ballard is lovely, vibrant and one of the most...</td>\n",
              "      <td>1</td>\n",
              "      <td>1</td>\n",
              "      <td>1</td>\n",
              "      <td>Pull-out Sofa</td>\n",
              "      <td>{Internet,\"Wireless Internet\",Kitchen,\"Free Pa...</td>\n",
              "      <td>0.0</td>\n",
              "      <td>20.0</td>\n",
              "      <td>52.0</td>\n",
              "    </tr>\n",
              "    <tr>\n",
              "      <th>4</th>\n",
              "      <td>10.0</td>\n",
              "      <td>--</td>\n",
              "      <td>1</td>\n",
              "      <td>the “studio at mibbett hollow' is in a beautif...</td>\n",
              "      <td>--</td>\n",
              "      <td>1</td>\n",
              "      <td>1</td>\n",
              "      <td>1</td>\n",
              "      <td>Real Bed</td>\n",
              "      <td>{\"Wireless Internet\",Kitchen,\"Free Parking on ...</td>\n",
              "      <td>0.0</td>\n",
              "      <td>15.0</td>\n",
              "      <td>85.0</td>\n",
              "    </tr>\n",
              "  </tbody>\n",
              "</table>\n",
              "</div>"
            ],
            "text/plain": [
              "   evaluacion_general experiencia_local  max_hospedes  \\\n",
              "0                10.0                --             1   \n",
              "1                10.0                --             1   \n",
              "2                10.0                --             1   \n",
              "3                10.0                --             1   \n",
              "4                10.0                --             1   \n",
              "\n",
              "                                   descripcion_local  \\\n",
              "0  this clean and comfortable one bedroom sits ri...   \n",
              "1  our century old upper queen anne house is loca...   \n",
              "2  cozy room in two-bedroom apartment along the l...   \n",
              "3  very lovely and cozy room for one. convenientl...   \n",
              "4  the “studio at mibbett hollow' is in a beautif...   \n",
              "\n",
              "                                descripcion_vecindad  cantidad_baños  \\\n",
              "0  Lower Queen Anne is near the Seattle Center (s...               1   \n",
              "1  Upper Queen Anne is a really pleasant, unique ...               1   \n",
              "2  The convenience of being in Seattle but on the...               1   \n",
              "3  Ballard is lovely, vibrant and one of the most...               1   \n",
              "4                                                 --               1   \n",
              "\n",
              "   cantidad_cuartos  cantidad_camas    modelo_cama  \\\n",
              "0                 1               1       Real Bed   \n",
              "1                 1               1          Futon   \n",
              "2                 1               1          Futon   \n",
              "3                 1               1  Pull-out Sofa   \n",
              "4                 1               1       Real Bed   \n",
              "\n",
              "                                         comodidades  cuota_deposito  \\\n",
              "0  {Internet,\"Wireless Internet\",Kitchen,\"Free Pa...             0.0   \n",
              "1  {TV,Internet,\"Wireless Internet\",Kitchen,\"Free...             0.0   \n",
              "2  {TV,Internet,\"Wireless Internet\",Kitchen,\"Free...             0.0   \n",
              "3  {Internet,\"Wireless Internet\",Kitchen,\"Free Pa...             0.0   \n",
              "4  {\"Wireless Internet\",Kitchen,\"Free Parking on ...             0.0   \n",
              "\n",
              "   cuota_limpieza  precio  \n",
              "0             0.0   110.0  \n",
              "1             0.0    45.0  \n",
              "2             0.0    55.0  \n",
              "3            20.0    52.0  \n",
              "4            15.0    85.0  "
            ]
          },
          "execution_count": 107,
          "metadata": {},
          "output_type": "execute_result"
        }
      ],
      "source": [
        "datos.head()"
      ]
    },
    {
      "cell_type": "markdown",
      "metadata": {},
      "source": [
        "##  03 Otras formas de tratar el texto\n",
        "\n",
        "Durante la clase tratamos el texto elemento por elemento usando el comando str que nos permitió trabajar con strings y usar sus métodos nativos. Pero existe otra forma de tratar estos valores elemento por elemento: mediante el método apply. Con eso en mente, considere el siguiente escenario:\n",
        "\n",
        "Una empresa famosa quiere controlar las menciones de su marca en las redes sociales. Para ello, se recopilaron miles de informes de clientes sobre experiencias con su marca. Ahora, la misión es transformar estos textos para que puedan ser analizados.\n",
        "\n",
        "Considerando que el DataFrame de pandas con los datos se llama df y que la columna experiencias_clientes contiene los relatos de los clientes sobre la marca, seleccione la alternativa que muestre correctamente el tratamiento de la transformación de letras a mayúsculas en la columna, utilizando el método apply.\n",
        "\n",
        "### df['experiencias_clientes'] = df['experiencias_clientes'].apply(lambda x: x.upper())\n",
        "\n",
        "\n",
        "Se usa apply para aplicar una función a cada elemento de una columna. En este caso, la función lambda se utiliza para transformar todas las letras de la columna experiencias_clientes a mayúsculas. Al usar la función lambda dentro del método apply, estamos aplicando la función elemento por elemento en la columna."
      ]
    },
    {
      "cell_type": "markdown",
      "metadata": {},
      "source": [
        "## 04 Eliminando caracteres con Regex\n"
      ]
    },
    {
      "cell_type": "code",
      "execution_count": 108,
      "metadata": {
        "colab": {
          "base_uri": "https://localhost:8080/",
          "height": 156
        },
        "id": "ux4RZ1JCPeJW",
        "outputId": "92e06bcc-c9ab-44cd-a6c3-b9104767976d"
      },
      "outputs": [
        {
          "data": {
            "text/plain": [
              "\"built, run and supported by seattle tech and start up veterans, grokhome's focus is to create a supportive environment for smart people working on interesting projects, start ups and more. this listing is an upper bunk, in a 2-person shared room. *note: this fall, there will be major renovations happening on one kitchen and bathroom at a time. there will always be two other working kitchens and two working bathrooms in the house. we'll work to minimize the impact these renovations have on your stay. **this listing is only available to those working in the tech/science space. live in a hacker house, and immerse yourself in the seattle tech scene. you can expect to be surrounded by smart people solving big problems or working on something fun. we have frequent demo nights, and love when our guests share something they are passionate about. if you're new to the city, our deep ties to the seattle tech scene can help you get involved. expand your network, develop your ideas, and learn somet\""
            ]
          },
          "execution_count": 108,
          "metadata": {},
          "output_type": "execute_result"
        }
      ],
      "source": [
        "datos['descripcion_local'][3169] # Examino una única fila"
      ]
    },
    {
      "cell_type": "markdown",
      "metadata": {},
      "source": [
        "Construido, gestionado y respaldado por veteranos del sector tecnológico y de startups de Seattle, grokhome se centra en crear un entorno propicio para personas inteligentes que trabajan en proyectos interesantes, startups y más. Esta propiedad es una litera superior en una habitación compartida para dos personas. *Nota: Este otoño, se realizarán renovaciones importantes en una cocina y un baño a la vez. Siempre habrá otras dos cocinas y dos baños en funcionamiento en la casa. Nos esforzaremos por minimizar el impacto de estas renovaciones en su estancia. **Esta propiedad solo está disponible para quienes trabajan en el sector tecnológico/científico. Viva en una casa de hackers y sumérjase en el mundo tecnológico de Seattle. Estará rodeado de personas inteligentes que resuelven grandes problemas o trabajan en algo divertido. Organizamos noches de demostración con frecuencia y nos encanta que nuestros huéspedes compartan algo que les apasiona. Si es nuevo en la ciudad, nuestros profundos vínculos con el mundo tecnológico de Seattle pueden ayudarle a participar. Amplía tu red de contactos, desarrolla tus ideas y aprende algo nuevo."
      ]
    },
    {
      "cell_type": "code",
      "execution_count": 109,
      "metadata": {
        "id": "gFWM1apUrS6b"
      },
      "outputs": [
        {
          "data": {
            "text/plain": [
              "0       this clean and comfortable one bedroom sits ri...\n",
              "1       our century old upper queen anne house is loca...\n",
              "2       cozy room in two-bedroom apartment along the l...\n",
              "3       very lovely and cozy room for one  convenientl...\n",
              "4       the  studio at mibbett hollow' is in a beautif...\n",
              "                              ...                        \n",
              "3813    beautiful craftsman home in the historic wedgw...\n",
              "3814    located in a very easily accessible area of se...\n",
              "3815    this home is fully furnished and available wee...\n",
              "3816    this business-themed modern home features    h...\n",
              "3817    this welcoming home is in the quiet residentia...\n",
              "Name: descripcion_local, Length: 3818, dtype: object"
            ]
          },
          "execution_count": 109,
          "metadata": {},
          "output_type": "execute_result"
        }
      ],
      "source": [
        "datos['descripcion_local'].str.replace('[^a-zA-Z0-9\\-\\']',' ',regex=True)"
      ]
    },
    {
      "cell_type": "code",
      "execution_count": 110,
      "metadata": {},
      "outputs": [],
      "source": [
        "datos['descripcion_local'] = datos['descripcion_local'].str.replace('[^a-zA-Z0-9\\-\\']',' ',regex=True)"
      ]
    },
    {
      "cell_type": "code",
      "execution_count": 111,
      "metadata": {},
      "outputs": [
        {
          "data": {
            "text/html": [
              "<div>\n",
              "<style scoped>\n",
              "    .dataframe tbody tr th:only-of-type {\n",
              "        vertical-align: middle;\n",
              "    }\n",
              "\n",
              "    .dataframe tbody tr th {\n",
              "        vertical-align: top;\n",
              "    }\n",
              "\n",
              "    .dataframe thead th {\n",
              "        text-align: right;\n",
              "    }\n",
              "</style>\n",
              "<table border=\"1\" class=\"dataframe\">\n",
              "  <thead>\n",
              "    <tr style=\"text-align: right;\">\n",
              "      <th></th>\n",
              "      <th>evaluacion_general</th>\n",
              "      <th>experiencia_local</th>\n",
              "      <th>max_hospedes</th>\n",
              "      <th>descripcion_local</th>\n",
              "      <th>descripcion_vecindad</th>\n",
              "      <th>cantidad_baños</th>\n",
              "      <th>cantidad_cuartos</th>\n",
              "      <th>cantidad_camas</th>\n",
              "      <th>modelo_cama</th>\n",
              "      <th>comodidades</th>\n",
              "      <th>cuota_deposito</th>\n",
              "      <th>cuota_limpieza</th>\n",
              "      <th>precio</th>\n",
              "    </tr>\n",
              "  </thead>\n",
              "  <tbody>\n",
              "    <tr>\n",
              "      <th>0</th>\n",
              "      <td>10.0</td>\n",
              "      <td>--</td>\n",
              "      <td>1</td>\n",
              "      <td>this clean and comfortable one bedroom sits ri...</td>\n",
              "      <td>Lower Queen Anne is near the Seattle Center (s...</td>\n",
              "      <td>1</td>\n",
              "      <td>1</td>\n",
              "      <td>1</td>\n",
              "      <td>Real Bed</td>\n",
              "      <td>{Internet,\"Wireless Internet\",Kitchen,\"Free Pa...</td>\n",
              "      <td>0.0</td>\n",
              "      <td>0.0</td>\n",
              "      <td>110.0</td>\n",
              "    </tr>\n",
              "    <tr>\n",
              "      <th>1</th>\n",
              "      <td>10.0</td>\n",
              "      <td>--</td>\n",
              "      <td>1</td>\n",
              "      <td>our century old upper queen anne house is loca...</td>\n",
              "      <td>Upper Queen Anne is a really pleasant, unique ...</td>\n",
              "      <td>1</td>\n",
              "      <td>1</td>\n",
              "      <td>1</td>\n",
              "      <td>Futon</td>\n",
              "      <td>{TV,Internet,\"Wireless Internet\",Kitchen,\"Free...</td>\n",
              "      <td>0.0</td>\n",
              "      <td>0.0</td>\n",
              "      <td>45.0</td>\n",
              "    </tr>\n",
              "    <tr>\n",
              "      <th>2</th>\n",
              "      <td>10.0</td>\n",
              "      <td>--</td>\n",
              "      <td>1</td>\n",
              "      <td>cozy room in two-bedroom apartment along the l...</td>\n",
              "      <td>The convenience of being in Seattle but on the...</td>\n",
              "      <td>1</td>\n",
              "      <td>1</td>\n",
              "      <td>1</td>\n",
              "      <td>Futon</td>\n",
              "      <td>{TV,Internet,\"Wireless Internet\",Kitchen,\"Free...</td>\n",
              "      <td>0.0</td>\n",
              "      <td>0.0</td>\n",
              "      <td>55.0</td>\n",
              "    </tr>\n",
              "    <tr>\n",
              "      <th>3</th>\n",
              "      <td>10.0</td>\n",
              "      <td>--</td>\n",
              "      <td>1</td>\n",
              "      <td>very lovely and cozy room for one  convenientl...</td>\n",
              "      <td>Ballard is lovely, vibrant and one of the most...</td>\n",
              "      <td>1</td>\n",
              "      <td>1</td>\n",
              "      <td>1</td>\n",
              "      <td>Pull-out Sofa</td>\n",
              "      <td>{Internet,\"Wireless Internet\",Kitchen,\"Free Pa...</td>\n",
              "      <td>0.0</td>\n",
              "      <td>20.0</td>\n",
              "      <td>52.0</td>\n",
              "    </tr>\n",
              "    <tr>\n",
              "      <th>4</th>\n",
              "      <td>10.0</td>\n",
              "      <td>--</td>\n",
              "      <td>1</td>\n",
              "      <td>the  studio at mibbett hollow' is in a beautif...</td>\n",
              "      <td>--</td>\n",
              "      <td>1</td>\n",
              "      <td>1</td>\n",
              "      <td>1</td>\n",
              "      <td>Real Bed</td>\n",
              "      <td>{\"Wireless Internet\",Kitchen,\"Free Parking on ...</td>\n",
              "      <td>0.0</td>\n",
              "      <td>15.0</td>\n",
              "      <td>85.0</td>\n",
              "    </tr>\n",
              "  </tbody>\n",
              "</table>\n",
              "</div>"
            ],
            "text/plain": [
              "   evaluacion_general experiencia_local  max_hospedes  \\\n",
              "0                10.0                --             1   \n",
              "1                10.0                --             1   \n",
              "2                10.0                --             1   \n",
              "3                10.0                --             1   \n",
              "4                10.0                --             1   \n",
              "\n",
              "                                   descripcion_local  \\\n",
              "0  this clean and comfortable one bedroom sits ri...   \n",
              "1  our century old upper queen anne house is loca...   \n",
              "2  cozy room in two-bedroom apartment along the l...   \n",
              "3  very lovely and cozy room for one  convenientl...   \n",
              "4  the  studio at mibbett hollow' is in a beautif...   \n",
              "\n",
              "                                descripcion_vecindad  cantidad_baños  \\\n",
              "0  Lower Queen Anne is near the Seattle Center (s...               1   \n",
              "1  Upper Queen Anne is a really pleasant, unique ...               1   \n",
              "2  The convenience of being in Seattle but on the...               1   \n",
              "3  Ballard is lovely, vibrant and one of the most...               1   \n",
              "4                                                 --               1   \n",
              "\n",
              "   cantidad_cuartos  cantidad_camas    modelo_cama  \\\n",
              "0                 1               1       Real Bed   \n",
              "1                 1               1          Futon   \n",
              "2                 1               1          Futon   \n",
              "3                 1               1  Pull-out Sofa   \n",
              "4                 1               1       Real Bed   \n",
              "\n",
              "                                         comodidades  cuota_deposito  \\\n",
              "0  {Internet,\"Wireless Internet\",Kitchen,\"Free Pa...             0.0   \n",
              "1  {TV,Internet,\"Wireless Internet\",Kitchen,\"Free...             0.0   \n",
              "2  {TV,Internet,\"Wireless Internet\",Kitchen,\"Free...             0.0   \n",
              "3  {Internet,\"Wireless Internet\",Kitchen,\"Free Pa...             0.0   \n",
              "4  {\"Wireless Internet\",Kitchen,\"Free Parking on ...             0.0   \n",
              "\n",
              "   cuota_limpieza  precio  \n",
              "0             0.0   110.0  \n",
              "1             0.0    45.0  \n",
              "2             0.0    55.0  \n",
              "3            20.0    52.0  \n",
              "4            15.0    85.0  "
            ]
          },
          "execution_count": 111,
          "metadata": {},
          "output_type": "execute_result"
        }
      ],
      "source": [
        "datos.head()"
      ]
    },
    {
      "cell_type": "code",
      "execution_count": 112,
      "metadata": {
        "id": "XXnjezcQrS9B"
      },
      "outputs": [],
      "source": [
        "datos['descripcion_local'] = datos['descripcion_local'].str.replace('(?<!\\w)-(?!\\w)',' ',regex=True)"
      ]
    },
    {
      "cell_type": "code",
      "execution_count": 113,
      "metadata": {},
      "outputs": [
        {
          "data": {
            "text/plain": [
              "0    this clean and comfortable one bedroom sits ri...\n",
              "1    our century old upper queen anne house is loca...\n",
              "2    cozy room in two-bedroom apartment along the l...\n",
              "3    very lovely and cozy room for one  convenientl...\n",
              "4    the  studio at mibbett hollow' is in a beautif...\n",
              "Name: descripcion_local, dtype: object"
            ]
          },
          "execution_count": 113,
          "metadata": {},
          "output_type": "execute_result"
        }
      ],
      "source": [
        "datos['descripcion_local'].head()"
      ]
    },
    {
      "cell_type": "markdown",
      "metadata": {},
      "source": [
        "##  05 Para saber más: profundizando en Regex\n",
        "\n",
        "Regex (o expresión regular) es una secuencia de caracteres que define un patrón de búsqueda en un texto. Es una herramienta poderosa y versátil que le permite buscar, reemplazar y manipular patrones de texto de manera eficiente. Regex se usa ampliamente en diferentes áreas, incluida la programación, la ciencia de datos y el procesamiento de textos.\n",
        "\n",
        "En la ciencia de datos, las expresiones regulares se utilizan a menudo para procesar datos de texto sin formato. Algunas de estas aplicaciones incluyen limpieza de datos, donde se pueden usar expresiones regulares para buscar y reemplazar ciertos caracteres. También se puede utilizar en proyectos de clasificación; un ejemplo es el uso de expresiones regulares para ayudar a encontrar patrones en el texto de los correos electrónicos, lo que ayuda a clasificar si son spam o no.\n",
        "\n",
        "En general, las expresiones regulares permiten a los científicos de datos procesar, analizar y clasificar grandes volúmenes de datos de texto de forma eficiente y automatizada. El uso adecuado de expresiones regulares puede ayudar a extraer información valiosa de los datos de texto, además de facilitar la limpieza y organización de esos datos.\n",
        "\n",
        "Puedes crear una expresión regular con la ayuda del sitio web regex101.com. Si quieres saber más sobre regex y su aplicación en bases de datos, vale la pena leer el artículo Principales casos de uso de Regex para procesamiento de datos, que muestra una aplicación regex en banco de datos.\n",
        "\n",
        "Puede estudiar expresiones regulares y aprender algunas de sus reglas básicas, como las presentadas en el curso, y a medida que se familiarice con el uso de expresiones regulares, podrá comenzar a explorar otras funciones y características más avanzadas para crear patrones más complejos en sus códigos."
      ]
    },
    {
      "cell_type": "markdown",
      "metadata": {},
      "source": [
        "## 06 Tokenizacion de strings\n"
      ]
    },
    {
      "cell_type": "code",
      "execution_count": 114,
      "metadata": {
        "colab": {
          "base_uri": "https://localhost:8080/",
          "height": 400
        },
        "id": "jF1f7-9xrTv5",
        "outputId": "8fedbb86-be78-4f01-dc62-eb6a9783d3dd"
      },
      "outputs": [
        {
          "data": {
            "text/html": [
              "<div>\n",
              "<style scoped>\n",
              "    .dataframe tbody tr th:only-of-type {\n",
              "        vertical-align: middle;\n",
              "    }\n",
              "\n",
              "    .dataframe tbody tr th {\n",
              "        vertical-align: top;\n",
              "    }\n",
              "\n",
              "    .dataframe thead th {\n",
              "        text-align: right;\n",
              "    }\n",
              "</style>\n",
              "<table border=\"1\" class=\"dataframe\">\n",
              "  <thead>\n",
              "    <tr style=\"text-align: right;\">\n",
              "      <th></th>\n",
              "      <th>evaluacion_general</th>\n",
              "      <th>experiencia_local</th>\n",
              "      <th>max_hospedes</th>\n",
              "      <th>descripcion_local</th>\n",
              "      <th>descripcion_vecindad</th>\n",
              "      <th>cantidad_baños</th>\n",
              "      <th>cantidad_cuartos</th>\n",
              "      <th>cantidad_camas</th>\n",
              "      <th>modelo_cama</th>\n",
              "      <th>comodidades</th>\n",
              "      <th>cuota_deposito</th>\n",
              "      <th>cuota_limpieza</th>\n",
              "      <th>precio</th>\n",
              "    </tr>\n",
              "  </thead>\n",
              "  <tbody>\n",
              "    <tr>\n",
              "      <th>0</th>\n",
              "      <td>10.0</td>\n",
              "      <td>--</td>\n",
              "      <td>1</td>\n",
              "      <td>[this, clean, and, comfortable, one, bedroom, ...</td>\n",
              "      <td>Lower Queen Anne is near the Seattle Center (s...</td>\n",
              "      <td>1</td>\n",
              "      <td>1</td>\n",
              "      <td>1</td>\n",
              "      <td>Real Bed</td>\n",
              "      <td>{Internet,\"Wireless Internet\",Kitchen,\"Free Pa...</td>\n",
              "      <td>0.0</td>\n",
              "      <td>0.0</td>\n",
              "      <td>110.0</td>\n",
              "    </tr>\n",
              "    <tr>\n",
              "      <th>1</th>\n",
              "      <td>10.0</td>\n",
              "      <td>--</td>\n",
              "      <td>1</td>\n",
              "      <td>[our, century, old, upper, queen, anne, house,...</td>\n",
              "      <td>Upper Queen Anne is a really pleasant, unique ...</td>\n",
              "      <td>1</td>\n",
              "      <td>1</td>\n",
              "      <td>1</td>\n",
              "      <td>Futon</td>\n",
              "      <td>{TV,Internet,\"Wireless Internet\",Kitchen,\"Free...</td>\n",
              "      <td>0.0</td>\n",
              "      <td>0.0</td>\n",
              "      <td>45.0</td>\n",
              "    </tr>\n",
              "    <tr>\n",
              "      <th>2</th>\n",
              "      <td>10.0</td>\n",
              "      <td>--</td>\n",
              "      <td>1</td>\n",
              "      <td>[cozy, room, in, two-bedroom, apartment, along...</td>\n",
              "      <td>The convenience of being in Seattle but on the...</td>\n",
              "      <td>1</td>\n",
              "      <td>1</td>\n",
              "      <td>1</td>\n",
              "      <td>Futon</td>\n",
              "      <td>{TV,Internet,\"Wireless Internet\",Kitchen,\"Free...</td>\n",
              "      <td>0.0</td>\n",
              "      <td>0.0</td>\n",
              "      <td>55.0</td>\n",
              "    </tr>\n",
              "    <tr>\n",
              "      <th>3</th>\n",
              "      <td>10.0</td>\n",
              "      <td>--</td>\n",
              "      <td>1</td>\n",
              "      <td>[very, lovely, and, cozy, room, for, one, conv...</td>\n",
              "      <td>Ballard is lovely, vibrant and one of the most...</td>\n",
              "      <td>1</td>\n",
              "      <td>1</td>\n",
              "      <td>1</td>\n",
              "      <td>Pull-out Sofa</td>\n",
              "      <td>{Internet,\"Wireless Internet\",Kitchen,\"Free Pa...</td>\n",
              "      <td>0.0</td>\n",
              "      <td>20.0</td>\n",
              "      <td>52.0</td>\n",
              "    </tr>\n",
              "    <tr>\n",
              "      <th>4</th>\n",
              "      <td>10.0</td>\n",
              "      <td>--</td>\n",
              "      <td>1</td>\n",
              "      <td>[the, studio, at, mibbett, hollow', is, in, a,...</td>\n",
              "      <td>--</td>\n",
              "      <td>1</td>\n",
              "      <td>1</td>\n",
              "      <td>1</td>\n",
              "      <td>Real Bed</td>\n",
              "      <td>{\"Wireless Internet\",Kitchen,\"Free Parking on ...</td>\n",
              "      <td>0.0</td>\n",
              "      <td>15.0</td>\n",
              "      <td>85.0</td>\n",
              "    </tr>\n",
              "  </tbody>\n",
              "</table>\n",
              "</div>"
            ],
            "text/plain": [
              "   evaluacion_general experiencia_local  max_hospedes  \\\n",
              "0                10.0                --             1   \n",
              "1                10.0                --             1   \n",
              "2                10.0                --             1   \n",
              "3                10.0                --             1   \n",
              "4                10.0                --             1   \n",
              "\n",
              "                                   descripcion_local  \\\n",
              "0  [this, clean, and, comfortable, one, bedroom, ...   \n",
              "1  [our, century, old, upper, queen, anne, house,...   \n",
              "2  [cozy, room, in, two-bedroom, apartment, along...   \n",
              "3  [very, lovely, and, cozy, room, for, one, conv...   \n",
              "4  [the, studio, at, mibbett, hollow', is, in, a,...   \n",
              "\n",
              "                                descripcion_vecindad  cantidad_baños  \\\n",
              "0  Lower Queen Anne is near the Seattle Center (s...               1   \n",
              "1  Upper Queen Anne is a really pleasant, unique ...               1   \n",
              "2  The convenience of being in Seattle but on the...               1   \n",
              "3  Ballard is lovely, vibrant and one of the most...               1   \n",
              "4                                                 --               1   \n",
              "\n",
              "   cantidad_cuartos  cantidad_camas    modelo_cama  \\\n",
              "0                 1               1       Real Bed   \n",
              "1                 1               1          Futon   \n",
              "2                 1               1          Futon   \n",
              "3                 1               1  Pull-out Sofa   \n",
              "4                 1               1       Real Bed   \n",
              "\n",
              "                                         comodidades  cuota_deposito  \\\n",
              "0  {Internet,\"Wireless Internet\",Kitchen,\"Free Pa...             0.0   \n",
              "1  {TV,Internet,\"Wireless Internet\",Kitchen,\"Free...             0.0   \n",
              "2  {TV,Internet,\"Wireless Internet\",Kitchen,\"Free...             0.0   \n",
              "3  {Internet,\"Wireless Internet\",Kitchen,\"Free Pa...             0.0   \n",
              "4  {\"Wireless Internet\",Kitchen,\"Free Parking on ...             0.0   \n",
              "\n",
              "   cuota_limpieza  precio  \n",
              "0             0.0   110.0  \n",
              "1             0.0    45.0  \n",
              "2             0.0    55.0  \n",
              "3            20.0    52.0  \n",
              "4            15.0    85.0  "
            ]
          },
          "execution_count": 114,
          "metadata": {},
          "output_type": "execute_result"
        }
      ],
      "source": [
        "datos['descripcion_local'] = datos['descripcion_local'].str.split()\n",
        "datos.head()"
      ]
    },
    {
      "cell_type": "code",
      "execution_count": 115,
      "metadata": {
        "id": "FtbRBQV4rTzB"
      },
      "outputs": [],
      "source": [
        "datos['comodidades'] = datos['comodidades'].str.replace('\\{|}|\\\"','', regex=True)"
      ]
    },
    {
      "cell_type": "code",
      "execution_count": 116,
      "metadata": {
        "colab": {
          "base_uri": "https://localhost:8080/",
          "height": 521
        },
        "id": "Mzqw6PLErT1V",
        "outputId": "1b1095ae-b466-4e18-f105-d04d9160d058"
      },
      "outputs": [
        {
          "data": {
            "text/html": [
              "<div>\n",
              "<style scoped>\n",
              "    .dataframe tbody tr th:only-of-type {\n",
              "        vertical-align: middle;\n",
              "    }\n",
              "\n",
              "    .dataframe tbody tr th {\n",
              "        vertical-align: top;\n",
              "    }\n",
              "\n",
              "    .dataframe thead th {\n",
              "        text-align: right;\n",
              "    }\n",
              "</style>\n",
              "<table border=\"1\" class=\"dataframe\">\n",
              "  <thead>\n",
              "    <tr style=\"text-align: right;\">\n",
              "      <th></th>\n",
              "      <th>evaluacion_general</th>\n",
              "      <th>experiencia_local</th>\n",
              "      <th>max_hospedes</th>\n",
              "      <th>descripcion_local</th>\n",
              "      <th>descripcion_vecindad</th>\n",
              "      <th>cantidad_baños</th>\n",
              "      <th>cantidad_cuartos</th>\n",
              "      <th>cantidad_camas</th>\n",
              "      <th>modelo_cama</th>\n",
              "      <th>comodidades</th>\n",
              "      <th>cuota_deposito</th>\n",
              "      <th>cuota_limpieza</th>\n",
              "      <th>precio</th>\n",
              "    </tr>\n",
              "  </thead>\n",
              "  <tbody>\n",
              "    <tr>\n",
              "      <th>0</th>\n",
              "      <td>10.0</td>\n",
              "      <td>--</td>\n",
              "      <td>1</td>\n",
              "      <td>[this, clean, and, comfortable, one, bedroom, ...</td>\n",
              "      <td>Lower Queen Anne is near the Seattle Center (s...</td>\n",
              "      <td>1</td>\n",
              "      <td>1</td>\n",
              "      <td>1</td>\n",
              "      <td>Real Bed</td>\n",
              "      <td>[Internet, Wireless Internet, Kitchen, Free Pa...</td>\n",
              "      <td>0.0</td>\n",
              "      <td>0.0</td>\n",
              "      <td>110.0</td>\n",
              "    </tr>\n",
              "    <tr>\n",
              "      <th>1</th>\n",
              "      <td>10.0</td>\n",
              "      <td>--</td>\n",
              "      <td>1</td>\n",
              "      <td>[our, century, old, upper, queen, anne, house,...</td>\n",
              "      <td>Upper Queen Anne is a really pleasant, unique ...</td>\n",
              "      <td>1</td>\n",
              "      <td>1</td>\n",
              "      <td>1</td>\n",
              "      <td>Futon</td>\n",
              "      <td>[TV, Internet, Wireless Internet, Kitchen, Fre...</td>\n",
              "      <td>0.0</td>\n",
              "      <td>0.0</td>\n",
              "      <td>45.0</td>\n",
              "    </tr>\n",
              "    <tr>\n",
              "      <th>2</th>\n",
              "      <td>10.0</td>\n",
              "      <td>--</td>\n",
              "      <td>1</td>\n",
              "      <td>[cozy, room, in, two-bedroom, apartment, along...</td>\n",
              "      <td>The convenience of being in Seattle but on the...</td>\n",
              "      <td>1</td>\n",
              "      <td>1</td>\n",
              "      <td>1</td>\n",
              "      <td>Futon</td>\n",
              "      <td>[TV, Internet, Wireless Internet, Kitchen, Fre...</td>\n",
              "      <td>0.0</td>\n",
              "      <td>0.0</td>\n",
              "      <td>55.0</td>\n",
              "    </tr>\n",
              "    <tr>\n",
              "      <th>3</th>\n",
              "      <td>10.0</td>\n",
              "      <td>--</td>\n",
              "      <td>1</td>\n",
              "      <td>[very, lovely, and, cozy, room, for, one, conv...</td>\n",
              "      <td>Ballard is lovely, vibrant and one of the most...</td>\n",
              "      <td>1</td>\n",
              "      <td>1</td>\n",
              "      <td>1</td>\n",
              "      <td>Pull-out Sofa</td>\n",
              "      <td>[Internet, Wireless Internet, Kitchen, Free Pa...</td>\n",
              "      <td>0.0</td>\n",
              "      <td>20.0</td>\n",
              "      <td>52.0</td>\n",
              "    </tr>\n",
              "    <tr>\n",
              "      <th>4</th>\n",
              "      <td>10.0</td>\n",
              "      <td>--</td>\n",
              "      <td>1</td>\n",
              "      <td>[the, studio, at, mibbett, hollow', is, in, a,...</td>\n",
              "      <td>--</td>\n",
              "      <td>1</td>\n",
              "      <td>1</td>\n",
              "      <td>1</td>\n",
              "      <td>Real Bed</td>\n",
              "      <td>[Wireless Internet, Kitchen, Free Parking on P...</td>\n",
              "      <td>0.0</td>\n",
              "      <td>15.0</td>\n",
              "      <td>85.0</td>\n",
              "    </tr>\n",
              "  </tbody>\n",
              "</table>\n",
              "</div>"
            ],
            "text/plain": [
              "   evaluacion_general experiencia_local  max_hospedes  \\\n",
              "0                10.0                --             1   \n",
              "1                10.0                --             1   \n",
              "2                10.0                --             1   \n",
              "3                10.0                --             1   \n",
              "4                10.0                --             1   \n",
              "\n",
              "                                   descripcion_local  \\\n",
              "0  [this, clean, and, comfortable, one, bedroom, ...   \n",
              "1  [our, century, old, upper, queen, anne, house,...   \n",
              "2  [cozy, room, in, two-bedroom, apartment, along...   \n",
              "3  [very, lovely, and, cozy, room, for, one, conv...   \n",
              "4  [the, studio, at, mibbett, hollow', is, in, a,...   \n",
              "\n",
              "                                descripcion_vecindad  cantidad_baños  \\\n",
              "0  Lower Queen Anne is near the Seattle Center (s...               1   \n",
              "1  Upper Queen Anne is a really pleasant, unique ...               1   \n",
              "2  The convenience of being in Seattle but on the...               1   \n",
              "3  Ballard is lovely, vibrant and one of the most...               1   \n",
              "4                                                 --               1   \n",
              "\n",
              "   cantidad_cuartos  cantidad_camas    modelo_cama  \\\n",
              "0                 1               1       Real Bed   \n",
              "1                 1               1          Futon   \n",
              "2                 1               1          Futon   \n",
              "3                 1               1  Pull-out Sofa   \n",
              "4                 1               1       Real Bed   \n",
              "\n",
              "                                         comodidades  cuota_deposito  \\\n",
              "0  [Internet, Wireless Internet, Kitchen, Free Pa...             0.0   \n",
              "1  [TV, Internet, Wireless Internet, Kitchen, Fre...             0.0   \n",
              "2  [TV, Internet, Wireless Internet, Kitchen, Fre...             0.0   \n",
              "3  [Internet, Wireless Internet, Kitchen, Free Pa...             0.0   \n",
              "4  [Wireless Internet, Kitchen, Free Parking on P...             0.0   \n",
              "\n",
              "   cuota_limpieza  precio  \n",
              "0             0.0   110.0  \n",
              "1             0.0    45.0  \n",
              "2             0.0    55.0  \n",
              "3            20.0    52.0  \n",
              "4            15.0    85.0  "
            ]
          },
          "execution_count": 116,
          "metadata": {},
          "output_type": "execute_result"
        }
      ],
      "source": [
        "datos['comodidades'] = datos['comodidades'].str.split(',')\n",
        "datos.head()"
      ]
    },
    {
      "cell_type": "markdown",
      "metadata": {},
      "source": [
        "##  07 Desafío: hazlo tú mismo\n",
        "\n",
        "Aprendimos a manipular elementos textuales con el comando str. Luego, usamos expresiones regulares para limpiar elementos no deseados en el texto y, finalmente, transformamos el texto tratado en una lista, construyendo un token.\n",
        "\n",
        "Durante las clases transformamos dos columnas descripcion_local y comodidades buscando la tokenización. Pero aún falta la columna descripcion_vecindad, que también merece la pena transformar.\n",
        "\n",
        "Por lo tanto, en esta actividad te propongo realizar el proceso de tokenización para la columna descripcion_vecindad presente en el conjunto de datos datos_hosting.json.\n",
        "\n",
        "No dudes en seguir los mismos pasos dados en clase o, si lo prefieres, realizar otras mejoras, como eliminar algunos caracteres o palabras vacías. En el apartado “Opinión del instructor” encontrarás una posible resolución para esta actividad."
      ]
    },
    {
      "cell_type": "markdown",
      "metadata": {},
      "source": [
        "### Opinión del instructor\n",
        "\n",
        "Para procesar los datos de la columna descripcion_vecindad realicé los mismos pasos seguidos en clase. Pero como se explicó anteriormente, usted es libre de aplicar otros procesos al tratamiento."
      ]
    },
    {
      "cell_type": "code",
      "execution_count": 117,
      "metadata": {},
      "outputs": [
        {
          "data": {
            "text/html": [
              "<div>\n",
              "<style scoped>\n",
              "    .dataframe tbody tr th:only-of-type {\n",
              "        vertical-align: middle;\n",
              "    }\n",
              "\n",
              "    .dataframe tbody tr th {\n",
              "        vertical-align: top;\n",
              "    }\n",
              "\n",
              "    .dataframe thead th {\n",
              "        text-align: right;\n",
              "    }\n",
              "</style>\n",
              "<table border=\"1\" class=\"dataframe\">\n",
              "  <thead>\n",
              "    <tr style=\"text-align: right;\">\n",
              "      <th></th>\n",
              "      <th>evaluacion_general</th>\n",
              "      <th>experiencia_local</th>\n",
              "      <th>max_hospedes</th>\n",
              "      <th>descripcion_local</th>\n",
              "      <th>descripcion_vecindad</th>\n",
              "      <th>cantidad_baños</th>\n",
              "      <th>cantidad_cuartos</th>\n",
              "      <th>cantidad_camas</th>\n",
              "      <th>modelo_cama</th>\n",
              "      <th>comodidades</th>\n",
              "      <th>cuota_deposito</th>\n",
              "      <th>cuota_limpieza</th>\n",
              "      <th>precio</th>\n",
              "    </tr>\n",
              "  </thead>\n",
              "  <tbody>\n",
              "    <tr>\n",
              "      <th>0</th>\n",
              "      <td>10.0</td>\n",
              "      <td>--</td>\n",
              "      <td>1</td>\n",
              "      <td>[this, clean, and, comfortable, one, bedroom, ...</td>\n",
              "      <td>[lower, queen, anne, is, near, the, seattle, c...</td>\n",
              "      <td>1</td>\n",
              "      <td>1</td>\n",
              "      <td>1</td>\n",
              "      <td>Real Bed</td>\n",
              "      <td>[Internet, Wireless Internet, Kitchen, Free Pa...</td>\n",
              "      <td>0.0</td>\n",
              "      <td>0.0</td>\n",
              "      <td>110.0</td>\n",
              "    </tr>\n",
              "    <tr>\n",
              "      <th>1</th>\n",
              "      <td>10.0</td>\n",
              "      <td>--</td>\n",
              "      <td>1</td>\n",
              "      <td>[our, century, old, upper, queen, anne, house,...</td>\n",
              "      <td>[upper, queen, anne, is, a, really, pleasant, ...</td>\n",
              "      <td>1</td>\n",
              "      <td>1</td>\n",
              "      <td>1</td>\n",
              "      <td>Futon</td>\n",
              "      <td>[TV, Internet, Wireless Internet, Kitchen, Fre...</td>\n",
              "      <td>0.0</td>\n",
              "      <td>0.0</td>\n",
              "      <td>45.0</td>\n",
              "    </tr>\n",
              "    <tr>\n",
              "      <th>2</th>\n",
              "      <td>10.0</td>\n",
              "      <td>--</td>\n",
              "      <td>1</td>\n",
              "      <td>[cozy, room, in, two-bedroom, apartment, along...</td>\n",
              "      <td>[the, convenience, of, being, in, seattle, but...</td>\n",
              "      <td>1</td>\n",
              "      <td>1</td>\n",
              "      <td>1</td>\n",
              "      <td>Futon</td>\n",
              "      <td>[TV, Internet, Wireless Internet, Kitchen, Fre...</td>\n",
              "      <td>0.0</td>\n",
              "      <td>0.0</td>\n",
              "      <td>55.0</td>\n",
              "    </tr>\n",
              "    <tr>\n",
              "      <th>3</th>\n",
              "      <td>10.0</td>\n",
              "      <td>--</td>\n",
              "      <td>1</td>\n",
              "      <td>[very, lovely, and, cozy, room, for, one, conv...</td>\n",
              "      <td>[ballard, is, lovely, vibrant, and, one, of, t...</td>\n",
              "      <td>1</td>\n",
              "      <td>1</td>\n",
              "      <td>1</td>\n",
              "      <td>Pull-out Sofa</td>\n",
              "      <td>[Internet, Wireless Internet, Kitchen, Free Pa...</td>\n",
              "      <td>0.0</td>\n",
              "      <td>20.0</td>\n",
              "      <td>52.0</td>\n",
              "    </tr>\n",
              "    <tr>\n",
              "      <th>4</th>\n",
              "      <td>10.0</td>\n",
              "      <td>--</td>\n",
              "      <td>1</td>\n",
              "      <td>[the, studio, at, mibbett, hollow', is, in, a,...</td>\n",
              "      <td>[]</td>\n",
              "      <td>1</td>\n",
              "      <td>1</td>\n",
              "      <td>1</td>\n",
              "      <td>Real Bed</td>\n",
              "      <td>[Wireless Internet, Kitchen, Free Parking on P...</td>\n",
              "      <td>0.0</td>\n",
              "      <td>15.0</td>\n",
              "      <td>85.0</td>\n",
              "    </tr>\n",
              "  </tbody>\n",
              "</table>\n",
              "</div>"
            ],
            "text/plain": [
              "   evaluacion_general experiencia_local  max_hospedes  \\\n",
              "0                10.0                --             1   \n",
              "1                10.0                --             1   \n",
              "2                10.0                --             1   \n",
              "3                10.0                --             1   \n",
              "4                10.0                --             1   \n",
              "\n",
              "                                   descripcion_local  \\\n",
              "0  [this, clean, and, comfortable, one, bedroom, ...   \n",
              "1  [our, century, old, upper, queen, anne, house,...   \n",
              "2  [cozy, room, in, two-bedroom, apartment, along...   \n",
              "3  [very, lovely, and, cozy, room, for, one, conv...   \n",
              "4  [the, studio, at, mibbett, hollow', is, in, a,...   \n",
              "\n",
              "                                descripcion_vecindad  cantidad_baños  \\\n",
              "0  [lower, queen, anne, is, near, the, seattle, c...               1   \n",
              "1  [upper, queen, anne, is, a, really, pleasant, ...               1   \n",
              "2  [the, convenience, of, being, in, seattle, but...               1   \n",
              "3  [ballard, is, lovely, vibrant, and, one, of, t...               1   \n",
              "4                                                 []               1   \n",
              "\n",
              "   cantidad_cuartos  cantidad_camas    modelo_cama  \\\n",
              "0                 1               1       Real Bed   \n",
              "1                 1               1          Futon   \n",
              "2                 1               1          Futon   \n",
              "3                 1               1  Pull-out Sofa   \n",
              "4                 1               1       Real Bed   \n",
              "\n",
              "                                         comodidades  cuota_deposito  \\\n",
              "0  [Internet, Wireless Internet, Kitchen, Free Pa...             0.0   \n",
              "1  [TV, Internet, Wireless Internet, Kitchen, Fre...             0.0   \n",
              "2  [TV, Internet, Wireless Internet, Kitchen, Fre...             0.0   \n",
              "3  [Internet, Wireless Internet, Kitchen, Free Pa...             0.0   \n",
              "4  [Wireless Internet, Kitchen, Free Parking on P...             0.0   \n",
              "\n",
              "   cuota_limpieza  precio  \n",
              "0             0.0   110.0  \n",
              "1             0.0    45.0  \n",
              "2             0.0    55.0  \n",
              "3            20.0    52.0  \n",
              "4            15.0    85.0  "
            ]
          },
          "execution_count": 117,
          "metadata": {},
          "output_type": "execute_result"
        }
      ],
      "source": [
        "# Transformamos el texto en letras minúsculas\n",
        "datos['descripcion_vecindad'] = datos['descripcion_vecindad'].str.lower()\n",
        "# Substituímos los caracteres especiales\n",
        "datos['descripcion_vecindad'] = datos['descripcion_vecindad'].str.replace('[^a-zA-Z0-9\\-\\']', ' ', regex=True)\n",
        "datos['descripcion_vecindad'] = datos['descripcion_vecindad'].str.replace('(?<!\\w)-(?!\\w)', '', regex=True)\n",
        "# Transformamos el texto en lista, formando el token\n",
        "datos['descripcion_vecindad'] = datos['descripcion_vecindad'].str.split()\n",
        "datos.head()"
      ]
    },
    {
      "cell_type": "markdown",
      "metadata": {},
      "source": [
        "##  08 Desafío: trabajando en otros contextos\n",
        "\n",
        "Pongamos nuevamente en práctica todo lo que aprendimos durante la clase. He puesto los 2 nuevos conjuntos de datos disponibles para descargar a continuación:\n",
        "\n",
        "* Proyecto Desafío 1: Ventas Online - dados_vendas_clientes.json;\n",
        "* Proyecto Desafío 2: Administración de Condominios - dados_locacao_imoveis.json.\n",
        "\n",
        "Recuerda: Hay dos proyectos de tratamiento que se construirán durante el curso. Así que guarde su código de construcción para cada desafío para poder aplicarlo a desafíos posteriores.\n",
        "\n",
        "### Etapa 3\n",
        "\n",
        "### Proyecto Desafío 1: Ventas Online\n",
        "\n",
        "En el paso 2, trabajamos en la transformación de datos numéricos. Ahora podemos trabajar con valores textuales.\n",
        "\n",
        "Debido a una inestabilidad en el sitio web de la empresa, tuvimos problemas con los nombres de los clientes durante el guardado. Esto resultó en una columna de nombres de clientes con una combinación de letras, mayúsculas y minúsculas, números y otros caracteres.\n",
        "\n",
        "Sabiendo esto, manipula los textos de la columna Cliente para que el resultado sean los nombres de los clientes en letras minúsculas, con ausencia de caracteres especiales o números.\n",
        "\n",
        "### Proyecto Desafío 2: Administración de Condominios\n",
        "\n",
        "En el paso 2, trabajamos en transformar los datos numéricos. Ahora podemos trabajar con valores textuales.\n",
        "\n",
        "Buscando explicar la organización de la identificación de los apartamentos, durante la creación del conjunto de datos se añadió el texto (blocoAP). Este texto informa que los nombres de los apartamentos están organizados con la letra mayúscula seguida del número del apartamento. Sin embargo, esto no aporta ninguna información a nuestros datos, por lo que resulta interesante eliminar este texto del conjunto de datos.\n",
        "\n",
        "Con esto, manipule los textos de la columna apartamento para eliminar el texto (blocoAP) del DataFrame."
      ]
    },
    {
      "cell_type": "markdown",
      "metadata": {},
      "source": [
        "### Opinión del instructor\n",
        "\n",
        "Puede haber varias formas de resolver un problema. Presentaré cómo resolví los problemas y esto no quiere decir que estas sean las mejores soluciones, sino que son una opción de solución."
      ]
    },
    {
      "cell_type": "markdown",
      "metadata": {},
      "source": [
        "### Proyecto Desafío 1: Ventas Online"
      ]
    },
    {
      "cell_type": "code",
      "execution_count": null,
      "metadata": {},
      "outputs": [],
      "source": [
        "# Import de pandas\n",
        "import pandas as pd\n",
        "# Leer el archivo json con read_json\n",
        "datos = pd.read_json('../data/dados_vendas_clientes.json')\n",
        "\n",
        "# Aplicar json_normalize en la columna dados_vendas\n",
        "datos = pd.json_normalize(datos['dados_vendas']) # Columna dados_vendas\n",
        "# Mostrar valores\n",
        "datos\n",
        "\n",
        "# Colectar los valores de las columnas y verificar\n",
        "columnas = list(datos.columns)\n",
        "columnas\n",
        "\n",
        "# Destrincar las listas con explode\n",
        "datos = datos.explode(columnas[1:])\n",
        "\n",
        "# Resetear los index de las líneas\n",
        "datos.reset_index(drop=True,inplace=True)\n",
        "# Observar el DataFrame\n",
        "datos\n",
        "\n",
        "# Verificar los tipos de datos con info\n",
        "datos.info()\n",
        "\n",
        "# La columna numérica es el 'Valor da compra'\n",
        "datos['Valor da compra']\n",
        "\n",
        "# Iniciar la transformación\n",
        "# Import de la biblioteca numpy\n",
        "import numpy as np\n",
        "\n",
        "# Remover los textos presentes en la base\n",
        "# Cambiar las comas separadoras del decimal por punto\n",
        "datos['Valor da compra'] = datos['Valor da compra'].apply(lambda x: x.replace('R$ ', '').replace(',','.').strip())\n",
        "\n",
        "# Cambiar los tipo de datos para float\n",
        "datos['Valor da compra'] = datos['Valor da compra'].astype(np.float64)\n",
        "\n",
        "# Verificar la transformación\n",
        "datos.info()\n",
        "\n",
        "\n",
        "# Transformar los textos de Cliente para texto en minúscula\n",
        "datos['Cliente'] = datos['Cliente'].str.lower()\n",
        "\n",
        "# Verificar el resultado\n",
        "datos.head()\n",
        "\n",
        "# Opción de substitución - necesario verificar el resultado de la substitución\n",
        "# Regex no selecciona todas las letras de a-z y espacios en blanco ' '\n",
        "# Todo que satisface el regex es borrado\n",
        "datos['Cliente'].str.replace('[^a-z ]', '', regex=True)\n",
        "\n",
        "# Realizar la substitución de los datos en la columna textual\n",
        "datos['Cliente'] = datos['Cliente'].str.replace('[^a-z ]', '', regex=True).str.strip()\n",
        "\n",
        "# Visualizar el resultado final\n",
        "datos.head()\n"
      ]
    },
    {
      "cell_type": "markdown",
      "metadata": {},
      "source": [
        "### Projecto Desafio 2: Administración de Condominios\n",
        "\n"
      ]
    },
    {
      "cell_type": "code",
      "execution_count": null,
      "metadata": {},
      "outputs": [],
      "source": [
        "# Import de pandas\n",
        "import pandas as pd\n",
        "\n",
        "# Leer el archivo json con read_json\n",
        "datos = pd.read_json('../data/dados_locacao_imoveis.json')\n",
        "\n",
        "# Aplicar json_normalize en la columna dados_locacao\n",
        "datos = pd.json_normalize(datos['dados_locacao']) # Columna dados_locacao\n",
        "\n",
        "# Mostrar valores\n",
        "datos.tail(3)\n",
        "\n",
        "# Colectar los valores de las columnas y verificar\n",
        "columnas = list(datos.columns)\n",
        "columnas\n",
        "\n",
        "# Destrincar las listas con explode\n",
        "datos = datos.explode(columnas[1:])\n",
        "\n",
        "# Resetear los index de las líneas\n",
        "datos.reset_index(drop=True,inplace=True)\n",
        "\n",
        "# Observar el DataFrame\n",
        "datos\n",
        "\n",
        "# Verificar los tipos de datos con info\n",
        "datos.info()\n",
        "\n",
        "# La columna numérica es el 'valor_aluguel'\n",
        "datos['valor_aluguel']\n",
        "\n",
        "# Iniciar la transformación\n",
        "# Import de la biblioteca numpy\n",
        "import numpy as np\n",
        "\n",
        "# Remover los textos presentes en la base\n",
        "# Cambiar las comas separadoras del decimal por punto\n",
        "datos['valor_aluguel'] = datos['valor_aluguel'].apply(lambda x: x.replace('$ ', '').replace(' reais', '').replace(',','.').strip())\n",
        "\n",
        "# Cambiar los tipos de datos para float\n",
        "datos['valor_aluguel'] = datos['valor_aluguel'].astype(np.float64)\n",
        "\n",
        "# Verificar la transformación\n",
        "datos.info()\n",
        "\n",
        "# Opción de substitución - necesario verificar el resultado de la substitución\n",
        "# Fue necesario adicionar la barra '\\' para ser considerados los paréntesis como caracteres literales\n",
        "datos['apartamento'].str.replace(' \\(blocoAP\\)', '')\n",
        "\n",
        "# Realizar la substitución de los datos en la columna textual\n",
        "datos['apartamento'] = datos['apartamento'].str.replace(' \\(blocoAP\\)', '')\n",
        "# Visualizar el resultado final\n",
        "datos"
      ]
    },
    {
      "cell_type": "markdown",
      "metadata": {},
      "source": [
        "### Código completo 2"
      ]
    },
    {
      "cell_type": "code",
      "execution_count": 143,
      "metadata": {},
      "outputs": [
        {
          "data": {
            "text/html": [
              "<div>\n",
              "<style scoped>\n",
              "    .dataframe tbody tr th:only-of-type {\n",
              "        vertical-align: middle;\n",
              "    }\n",
              "\n",
              "    .dataframe tbody tr th {\n",
              "        vertical-align: top;\n",
              "    }\n",
              "\n",
              "    .dataframe thead th {\n",
              "        text-align: right;\n",
              "    }\n",
              "</style>\n",
              "<table border=\"1\" class=\"dataframe\">\n",
              "  <thead>\n",
              "    <tr style=\"text-align: right;\">\n",
              "      <th></th>\n",
              "      <th>dados_locacao</th>\n",
              "    </tr>\n",
              "  </thead>\n",
              "  <tbody>\n",
              "    <tr>\n",
              "      <th>0</th>\n",
              "      <td>{'apartamento': 'A101 (blocoAP)', 'datas_combi...</td>\n",
              "    </tr>\n",
              "    <tr>\n",
              "      <th>1</th>\n",
              "      <td>{'apartamento': 'A102 (blocoAP)', 'datas_combi...</td>\n",
              "    </tr>\n",
              "  </tbody>\n",
              "</table>\n",
              "</div>"
            ],
            "text/plain": [
              "                                       dados_locacao\n",
              "0  {'apartamento': 'A101 (blocoAP)', 'datas_combi...\n",
              "1  {'apartamento': 'A102 (blocoAP)', 'datas_combi..."
            ]
          },
          "execution_count": 143,
          "metadata": {},
          "output_type": "execute_result"
        }
      ],
      "source": [
        "# Import de pandas\n",
        "import pandas as pd\n",
        "\n",
        "# Leer el archivo json con read_json\n",
        "datos = pd.read_json('../data/dados_locacao_imoveis.json')\n",
        "\n",
        "\n",
        "\n",
        "# Mostrar valores\n",
        "datos.head(2)"
      ]
    },
    {
      "cell_type": "code",
      "execution_count": 144,
      "metadata": {},
      "outputs": [
        {
          "data": {
            "text/html": [
              "<div>\n",
              "<style scoped>\n",
              "    .dataframe tbody tr th:only-of-type {\n",
              "        vertical-align: middle;\n",
              "    }\n",
              "\n",
              "    .dataframe tbody tr th {\n",
              "        vertical-align: top;\n",
              "    }\n",
              "\n",
              "    .dataframe thead th {\n",
              "        text-align: right;\n",
              "    }\n",
              "</style>\n",
              "<table border=\"1\" class=\"dataframe\">\n",
              "  <thead>\n",
              "    <tr style=\"text-align: right;\">\n",
              "      <th></th>\n",
              "      <th>apartamento</th>\n",
              "      <th>datas_combinadas_pagamento</th>\n",
              "      <th>datas_de_pagamento</th>\n",
              "      <th>valor_aluguel</th>\n",
              "    </tr>\n",
              "  </thead>\n",
              "  <tbody>\n",
              "    <tr>\n",
              "      <th>0</th>\n",
              "      <td>A101 (blocoAP)</td>\n",
              "      <td>[01/06/2022, 01/07/2022]</td>\n",
              "      <td>[05/06/2022, 03/07/2022]</td>\n",
              "      <td>[$ 1000,0 reais, $ 2500,0 reais]</td>\n",
              "    </tr>\n",
              "    <tr>\n",
              "      <th>1</th>\n",
              "      <td>A102 (blocoAP)</td>\n",
              "      <td>[02/06/2022, 02/07/2022]</td>\n",
              "      <td>[02/06/2022, 06/07/2022]</td>\n",
              "      <td>[$ 1100,0 reais, $ 2600,0 reais]</td>\n",
              "    </tr>\n",
              "  </tbody>\n",
              "</table>\n",
              "</div>"
            ],
            "text/plain": [
              "      apartamento datas_combinadas_pagamento        datas_de_pagamento  \\\n",
              "0  A101 (blocoAP)   [01/06/2022, 01/07/2022]  [05/06/2022, 03/07/2022]   \n",
              "1  A102 (blocoAP)   [02/06/2022, 02/07/2022]  [02/06/2022, 06/07/2022]   \n",
              "\n",
              "                      valor_aluguel  \n",
              "0  [$ 1000,0 reais, $ 2500,0 reais]  \n",
              "1  [$ 1100,0 reais, $ 2600,0 reais]  "
            ]
          },
          "execution_count": 144,
          "metadata": {},
          "output_type": "execute_result"
        }
      ],
      "source": [
        "# Aplicar json_normalize en la columna dados_locacao\n",
        "datos = pd.json_normalize(datos['dados_locacao']) # Columna dados_locacao\n",
        "\n",
        "# Mostrar valores\n",
        "datos.head(2)"
      ]
    },
    {
      "cell_type": "code",
      "execution_count": 145,
      "metadata": {},
      "outputs": [
        {
          "data": {
            "text/plain": [
              "['apartamento',\n",
              " 'datas_combinadas_pagamento',\n",
              " 'datas_de_pagamento',\n",
              " 'valor_aluguel']"
            ]
          },
          "execution_count": 145,
          "metadata": {},
          "output_type": "execute_result"
        }
      ],
      "source": [
        "# Colectar los valores de las columnas y verificar\n",
        "columnas = list(datos.columns)\n",
        "columnas\n"
      ]
    },
    {
      "cell_type": "code",
      "execution_count": 146,
      "metadata": {},
      "outputs": [],
      "source": [
        "# Destrincar las listas con explode\n",
        "datos = datos.explode(columnas[1:])\n",
        "\n"
      ]
    },
    {
      "cell_type": "code",
      "execution_count": 147,
      "metadata": {},
      "outputs": [
        {
          "data": {
            "text/html": [
              "<div>\n",
              "<style scoped>\n",
              "    .dataframe tbody tr th:only-of-type {\n",
              "        vertical-align: middle;\n",
              "    }\n",
              "\n",
              "    .dataframe tbody tr th {\n",
              "        vertical-align: top;\n",
              "    }\n",
              "\n",
              "    .dataframe thead th {\n",
              "        text-align: right;\n",
              "    }\n",
              "</style>\n",
              "<table border=\"1\" class=\"dataframe\">\n",
              "  <thead>\n",
              "    <tr style=\"text-align: right;\">\n",
              "      <th></th>\n",
              "      <th>apartamento</th>\n",
              "      <th>datas_combinadas_pagamento</th>\n",
              "      <th>datas_de_pagamento</th>\n",
              "      <th>valor_aluguel</th>\n",
              "    </tr>\n",
              "  </thead>\n",
              "  <tbody>\n",
              "    <tr>\n",
              "      <th>0</th>\n",
              "      <td>A101 (blocoAP)</td>\n",
              "      <td>01/06/2022</td>\n",
              "      <td>05/06/2022</td>\n",
              "      <td>$ 1000,0 reais</td>\n",
              "    </tr>\n",
              "    <tr>\n",
              "      <th>0</th>\n",
              "      <td>A101 (blocoAP)</td>\n",
              "      <td>01/07/2022</td>\n",
              "      <td>03/07/2022</td>\n",
              "      <td>$ 2500,0 reais</td>\n",
              "    </tr>\n",
              "  </tbody>\n",
              "</table>\n",
              "</div>"
            ],
            "text/plain": [
              "      apartamento datas_combinadas_pagamento datas_de_pagamento  \\\n",
              "0  A101 (blocoAP)                 01/06/2022         05/06/2022   \n",
              "0  A101 (blocoAP)                 01/07/2022         03/07/2022   \n",
              "\n",
              "    valor_aluguel  \n",
              "0  $ 1000,0 reais  \n",
              "0  $ 2500,0 reais  "
            ]
          },
          "execution_count": 147,
          "metadata": {},
          "output_type": "execute_result"
        }
      ],
      "source": [
        "datos.head(2)"
      ]
    },
    {
      "cell_type": "code",
      "execution_count": 148,
      "metadata": {},
      "outputs": [
        {
          "data": {
            "text/html": [
              "<div>\n",
              "<style scoped>\n",
              "    .dataframe tbody tr th:only-of-type {\n",
              "        vertical-align: middle;\n",
              "    }\n",
              "\n",
              "    .dataframe tbody tr th {\n",
              "        vertical-align: top;\n",
              "    }\n",
              "\n",
              "    .dataframe thead th {\n",
              "        text-align: right;\n",
              "    }\n",
              "</style>\n",
              "<table border=\"1\" class=\"dataframe\">\n",
              "  <thead>\n",
              "    <tr style=\"text-align: right;\">\n",
              "      <th></th>\n",
              "      <th>apartamento</th>\n",
              "      <th>datas_combinadas_pagamento</th>\n",
              "      <th>datas_de_pagamento</th>\n",
              "      <th>valor_aluguel</th>\n",
              "    </tr>\n",
              "  </thead>\n",
              "  <tbody>\n",
              "    <tr>\n",
              "      <th>0</th>\n",
              "      <td>A101 (blocoAP)</td>\n",
              "      <td>01/06/2022</td>\n",
              "      <td>05/06/2022</td>\n",
              "      <td>$ 1000,0 reais</td>\n",
              "    </tr>\n",
              "    <tr>\n",
              "      <th>1</th>\n",
              "      <td>A101 (blocoAP)</td>\n",
              "      <td>01/07/2022</td>\n",
              "      <td>03/07/2022</td>\n",
              "      <td>$ 2500,0 reais</td>\n",
              "    </tr>\n",
              "  </tbody>\n",
              "</table>\n",
              "</div>"
            ],
            "text/plain": [
              "      apartamento datas_combinadas_pagamento datas_de_pagamento  \\\n",
              "0  A101 (blocoAP)                 01/06/2022         05/06/2022   \n",
              "1  A101 (blocoAP)                 01/07/2022         03/07/2022   \n",
              "\n",
              "    valor_aluguel  \n",
              "0  $ 1000,0 reais  \n",
              "1  $ 2500,0 reais  "
            ]
          },
          "execution_count": 148,
          "metadata": {},
          "output_type": "execute_result"
        }
      ],
      "source": [
        "# Resetear los index de las líneas\n",
        "datos.reset_index(drop=True,inplace=True)\n",
        "\n",
        "# Observar el DataFrame\n",
        "datos.head(2)"
      ]
    },
    {
      "cell_type": "code",
      "execution_count": 149,
      "metadata": {},
      "outputs": [
        {
          "name": "stdout",
          "output_type": "stream",
          "text": [
            "<class 'pandas.core.frame.DataFrame'>\n",
            "RangeIndex: 30 entries, 0 to 29\n",
            "Data columns (total 4 columns):\n",
            " #   Column                      Non-Null Count  Dtype \n",
            "---  ------                      --------------  ----- \n",
            " 0   apartamento                 30 non-null     object\n",
            " 1   datas_combinadas_pagamento  30 non-null     object\n",
            " 2   datas_de_pagamento          30 non-null     object\n",
            " 3   valor_aluguel               30 non-null     object\n",
            "dtypes: object(4)\n",
            "memory usage: 1.1+ KB\n"
          ]
        }
      ],
      "source": [
        "# Verificar los tipos de datos con info\n",
        "datos.info()\n",
        "\n"
      ]
    },
    {
      "cell_type": "code",
      "execution_count": 150,
      "metadata": {},
      "outputs": [
        {
          "data": {
            "text/plain": [
              "0    $ 1000,0 reais\n",
              "1    $ 2500,0 reais\n",
              "Name: valor_aluguel, dtype: object"
            ]
          },
          "execution_count": 150,
          "metadata": {},
          "output_type": "execute_result"
        }
      ],
      "source": [
        "# La columna numérica es el 'valor_aluguel'\n",
        "datos['valor_aluguel'].head(2)"
      ]
    },
    {
      "cell_type": "code",
      "execution_count": 152,
      "metadata": {},
      "outputs": [
        {
          "data": {
            "text/plain": [
              "0    1000.0\n",
              "1    2500.0\n",
              "Name: valor_aluguel, dtype: object"
            ]
          },
          "execution_count": 152,
          "metadata": {},
          "output_type": "execute_result"
        }
      ],
      "source": [
        "# Iniciar la transformación\n",
        "# Import de la biblioteca numpy\n",
        "import numpy as np\n",
        "\n",
        "# Remover los textos presentes en la base\n",
        "# Cambiar las comas separadoras del decimal por punto\n",
        "datos['valor_aluguel'] = datos['valor_aluguel'].apply(lambda x: x.replace('$ ', '').replace(' reais', '').replace(',','.').strip())\n",
        "\n",
        "datos['valor_aluguel'].head(2)"
      ]
    },
    {
      "cell_type": "code",
      "execution_count": 153,
      "metadata": {},
      "outputs": [
        {
          "name": "stdout",
          "output_type": "stream",
          "text": [
            "<class 'pandas.core.frame.DataFrame'>\n",
            "RangeIndex: 30 entries, 0 to 29\n",
            "Data columns (total 4 columns):\n",
            " #   Column                      Non-Null Count  Dtype  \n",
            "---  ------                      --------------  -----  \n",
            " 0   apartamento                 30 non-null     object \n",
            " 1   datas_combinadas_pagamento  30 non-null     object \n",
            " 2   datas_de_pagamento          30 non-null     object \n",
            " 3   valor_aluguel               30 non-null     float64\n",
            "dtypes: float64(1), object(3)\n",
            "memory usage: 1.1+ KB\n"
          ]
        }
      ],
      "source": [
        "# Cambiar los tipos de datos para float\n",
        "datos['valor_aluguel'] = datos['valor_aluguel'].astype(np.float64)\n",
        "\n",
        "# Verificar la transformación\n",
        "datos.info()"
      ]
    },
    {
      "cell_type": "code",
      "execution_count": 157,
      "metadata": {},
      "outputs": [
        {
          "data": {
            "text/plain": [
              "0     A101 (blocoAP)\n",
              "1     A101 (blocoAP)\n",
              "2     A102 (blocoAP)\n",
              "3     A102 (blocoAP)\n",
              "4     B201 (blocoAP)\n",
              "5     B201 (blocoAP)\n",
              "6     B202 (blocoAP)\n",
              "7     B202 (blocoAP)\n",
              "8     C301 (blocoAP)\n",
              "9     C301 (blocoAP)\n",
              "10    C302 (blocoAP)\n",
              "11    C302 (blocoAP)\n",
              "12    D401 (blocoAP)\n",
              "13    D401 (blocoAP)\n",
              "14    D402 (blocoAP)\n",
              "15    D402 (blocoAP)\n",
              "16    E501 (blocoAP)\n",
              "17    E501 (blocoAP)\n",
              "18    E502 (blocoAP)\n",
              "19    E502 (blocoAP)\n",
              "20    F601 (blocoAP)\n",
              "21    F601 (blocoAP)\n",
              "22    F602 (blocoAP)\n",
              "23    F602 (blocoAP)\n",
              "24    G701 (blocoAP)\n",
              "25    G701 (blocoAP)\n",
              "26    G702 (blocoAP)\n",
              "27    G702 (blocoAP)\n",
              "28    H801 (blocoAP)\n",
              "29    H801 (blocoAP)\n",
              "Name: apartamento, dtype: object"
            ]
          },
          "execution_count": 157,
          "metadata": {},
          "output_type": "execute_result"
        }
      ],
      "source": [
        "# Opción de substitución - necesario verificar el resultado de la substitución\n",
        "# Fue necesario adicionar la barra '\\' para ser considerados los paréntesis como caracteres literales\n",
        "datos['apartamento'].str.replace(' \\(blocoAP\\)', '')\n"
      ]
    },
    {
      "cell_type": "code",
      "execution_count": 159,
      "metadata": {},
      "outputs": [
        {
          "data": {
            "text/html": [
              "<div>\n",
              "<style scoped>\n",
              "    .dataframe tbody tr th:only-of-type {\n",
              "        vertical-align: middle;\n",
              "    }\n",
              "\n",
              "    .dataframe tbody tr th {\n",
              "        vertical-align: top;\n",
              "    }\n",
              "\n",
              "    .dataframe thead th {\n",
              "        text-align: right;\n",
              "    }\n",
              "</style>\n",
              "<table border=\"1\" class=\"dataframe\">\n",
              "  <thead>\n",
              "    <tr style=\"text-align: right;\">\n",
              "      <th></th>\n",
              "      <th>apartamento</th>\n",
              "      <th>datas_combinadas_pagamento</th>\n",
              "      <th>datas_de_pagamento</th>\n",
              "      <th>valor_aluguel</th>\n",
              "    </tr>\n",
              "  </thead>\n",
              "  <tbody>\n",
              "    <tr>\n",
              "      <th>0</th>\n",
              "      <td>A101</td>\n",
              "      <td>01/06/2022</td>\n",
              "      <td>05/06/2022</td>\n",
              "      <td>1000.0</td>\n",
              "    </tr>\n",
              "    <tr>\n",
              "      <th>1</th>\n",
              "      <td>A101</td>\n",
              "      <td>01/07/2022</td>\n",
              "      <td>03/07/2022</td>\n",
              "      <td>2500.0</td>\n",
              "    </tr>\n",
              "    <tr>\n",
              "      <th>2</th>\n",
              "      <td>A102</td>\n",
              "      <td>02/06/2022</td>\n",
              "      <td>02/06/2022</td>\n",
              "      <td>1100.0</td>\n",
              "    </tr>\n",
              "    <tr>\n",
              "      <th>3</th>\n",
              "      <td>A102</td>\n",
              "      <td>02/07/2022</td>\n",
              "      <td>06/07/2022</td>\n",
              "      <td>2600.0</td>\n",
              "    </tr>\n",
              "    <tr>\n",
              "      <th>4</th>\n",
              "      <td>B201</td>\n",
              "      <td>03/06/2022</td>\n",
              "      <td>07/06/2022</td>\n",
              "      <td>1200.0</td>\n",
              "    </tr>\n",
              "  </tbody>\n",
              "</table>\n",
              "</div>"
            ],
            "text/plain": [
              "  apartamento datas_combinadas_pagamento datas_de_pagamento  valor_aluguel\n",
              "0        A101                 01/06/2022         05/06/2022         1000.0\n",
              "1        A101                 01/07/2022         03/07/2022         2500.0\n",
              "2        A102                 02/06/2022         02/06/2022         1100.0\n",
              "3        A102                 02/07/2022         06/07/2022         2600.0\n",
              "4        B201                 03/06/2022         07/06/2022         1200.0"
            ]
          },
          "execution_count": 159,
          "metadata": {},
          "output_type": "execute_result"
        }
      ],
      "source": [
        "# Realizar la substitución de los datos en la columna textual\n",
        "#datos['apartamento'] = datos['apartamento'].str.replace(' \\(blocoAP\\)', '')\n",
        "datos['apartamento'] = datos['apartamento'].str.replace(r' \\(blocoAP\\)', '', regex=True)\n",
        "\n",
        "# Visualizar el resultado final\n",
        "datos.head()"
      ]
    },
    {
      "cell_type": "markdown",
      "metadata": {},
      "source": [
        "## 09 Lo que aprendimos\n",
        "\n",
        "\n",
        "En esta aula, aprendimos a:\n",
        "\n",
        "* Manipular elementos textuales en un DataFrame;\n",
        "* Trabajar con expresiones regulares (regex) para tratar el texto;\n",
        "* Transformar textos en listas;\n",
        "* Realizar el proceso de tokenización de strings"
      ]
    },
    {
      "cell_type": "markdown",
      "metadata": {
        "id": "GMz8sOgernz8"
      },
      "source": [
        "# **4. Datos de tiempo**\n",
        "\n",
        "\n",
        "---\n",
        "\n",
        "\n"
      ]
    },
    {
      "cell_type": "markdown",
      "metadata": {},
      "source": [
        "###  02 Para saber más: el tipo datetime\n",
        "\n",
        "\n",
        "La clase datetime es un tipo de datos que representa una fecha y hora específicas en Python. Permite trabajar y manipular datos de año, mes, día, hora, minuto, segundo y microsegundo, así como días de la semana, como lunes, martes, miércoles, etc. Esta clase está definida en el módulo datetime y es fundamental para manipular fechas y horas en Python. Con él es posible realizar operaciones de cálculo de diferencias entre fechas, formatear fechas y horas en diferentes formatos, además de ser muy útil para analizar datos que involucran series temporales.\n",
        "\n",
        "Con la biblioteca Pandas es posible realizar diversas operaciones con fechas y horas, como convertir datos de cadena a datetime, filtrar datos en función de intervalos de tiempo específicos, agregar datos por hora, día, mes o año, entre otras funcionalidades. Por tanto, con esta biblioteca es posible realizar diversas operaciones con fechas de forma sencilla y eficiente dentro de un conjunto de datos.\n",
        "\n",
        "### Biblioteca datetime\n",
        "\n",
        "Podemos trabajar directamente con datetime a través de la biblioteca datetime, una biblioteca estándar de Python que proporciona clases para trabajar con fechas y horas. Con esta biblioteca, puede crear objetos de fecha y hora, realizar cálculos de tiempo, formatear fechas y horas en diferentes formatos y mucho más.\n",
        "\n",
        "Dentro de la biblioteca datetime, existe la clase de fecha y hora, que representa una fecha y hora específicas. Vea un ejemplo:"
      ]
    },
    {
      "cell_type": "code",
      "execution_count": 162,
      "metadata": {},
      "outputs": [
        {
          "name": "stdout",
          "output_type": "stream",
          "text": [
            "La fecha y hora actual pol es: 2025-06-05 11:51:43.529637\n"
          ]
        }
      ],
      "source": [
        "import datetime\n",
        "\n",
        "# creando un objeto datetime con la fecha y hora actual\n",
        "ahora = datetime.datetime.now()\n",
        "\n",
        "print(\"La fecha y hora actual pol es:\", ahora)"
      ]
    },
    {
      "cell_type": "markdown",
      "metadata": {},
      "source": [
        "En este ejemplo, el método now() de la clase datetime se utiliza para crear un objeto que representa la fecha y hora actuales. El objeto resultante se almacena en la variable ahora y luego se imprime en la pantalla usando la función print().\n",
        "\n",
        "Otra clase importante en la biblioteca datetime es la clase date, que representa solo una fecha. Vea un ejemplo:"
      ]
    },
    {
      "cell_type": "code",
      "execution_count": 163,
      "metadata": {},
      "outputs": [
        {
          "name": "stdout",
          "output_type": "stream",
          "text": [
            "Fecha de hoy: 2025-06-05\n"
          ]
        }
      ],
      "source": [
        "import datetime\n",
        "# creando un objeto date con la fecha de hoy\n",
        "hoy = datetime.date.today()\n",
        "\n",
        "print(\"Fecha de hoy:\", hoy)"
      ]
    },
    {
      "cell_type": "markdown",
      "metadata": {},
      "source": [
        "En este ejemplo, el método today() de la clase date se utiliza para crear un objeto que representa la fecha de hoy. El objeto resultante se almacena en la variable hoy y luego se imprime en la pantalla usando la función print().\n",
        "\n",
        "La biblioteca datetime también le permite realizar operaciones matemáticas con fechas y horas. Vea un ejemplo de cómo calcular la diferencia entre dos fechas:"
      ]
    },
    {
      "cell_type": "code",
      "execution_count": 164,
      "metadata": {},
      "outputs": [
        {
          "name": "stdout",
          "output_type": "stream",
          "text": [
            "Diferencia entre las dos fechas: 365 days, 0:00:00\n"
          ]
        }
      ],
      "source": [
        "import datetime\n",
        "\n",
        "# creando dos objetos date con fechas diferentes\n",
        "data_1 = datetime.date(2022, 1, 1)\n",
        "data_2 = datetime.date(2023, 1, 1)\n",
        "\n",
        "# calculando la diferencia entre las dos fechas\n",
        "diferencia = data_2 - data_1\n",
        "\n",
        "print(\"Diferencia entre las dos fechas:\", diferencia)"
      ]
    },
    {
      "cell_type": "markdown",
      "metadata": {},
      "source": [
        "En este ejemplo, se crean dos objetos date con fechas diferentes. Luego se utiliza el operador de resta para calcular la diferencia entre las dos fechas. El resultado se almacena en la variable diferencia y luego se imprime en la pantalla usando la función print().\n",
        "\n",
        "Para profundizar en los usos del tipo datetime, consulte el artículo Python datetime: ¿Cómo configuro la fecha y la hora en Python? y también la documentación de la biblioteca datetime."
      ]
    },
    {
      "cell_type": "markdown",
      "metadata": {},
      "source": [
        "## 03 Transformando datos de tiempo\n"
      ]
    },
    {
      "cell_type": "code",
      "execution_count": 3,
      "metadata": {
        "colab": {
          "base_uri": "https://localhost:8080/",
          "height": 206
        },
        "id": "-_gk4xx_5yVJ",
        "outputId": "7ddb2505-63be-46c6-973f-3bd660d0391f"
      },
      "outputs": [
        {
          "data": {
            "text/html": [
              "<div>\n",
              "<style scoped>\n",
              "    .dataframe tbody tr th:only-of-type {\n",
              "        vertical-align: middle;\n",
              "    }\n",
              "\n",
              "    .dataframe tbody tr th {\n",
              "        vertical-align: top;\n",
              "    }\n",
              "\n",
              "    .dataframe thead th {\n",
              "        text-align: right;\n",
              "    }\n",
              "</style>\n",
              "<table border=\"1\" class=\"dataframe\">\n",
              "  <thead>\n",
              "    <tr style=\"text-align: right;\">\n",
              "      <th></th>\n",
              "      <th>id</th>\n",
              "      <th>fecha</th>\n",
              "      <th>lugar_disponible</th>\n",
              "      <th>precio</th>\n",
              "    </tr>\n",
              "  </thead>\n",
              "  <tbody>\n",
              "    <tr>\n",
              "      <th>0</th>\n",
              "      <td>857</td>\n",
              "      <td>2016-01-04</td>\n",
              "      <td>False</td>\n",
              "      <td>None</td>\n",
              "    </tr>\n",
              "    <tr>\n",
              "      <th>1</th>\n",
              "      <td>857</td>\n",
              "      <td>2016-01-05</td>\n",
              "      <td>False</td>\n",
              "      <td>None</td>\n",
              "    </tr>\n",
              "    <tr>\n",
              "      <th>2</th>\n",
              "      <td>857</td>\n",
              "      <td>2016-01-06</td>\n",
              "      <td>False</td>\n",
              "      <td>None</td>\n",
              "    </tr>\n",
              "    <tr>\n",
              "      <th>3</th>\n",
              "      <td>857</td>\n",
              "      <td>2016-01-07</td>\n",
              "      <td>False</td>\n",
              "      <td>None</td>\n",
              "    </tr>\n",
              "    <tr>\n",
              "      <th>4</th>\n",
              "      <td>857</td>\n",
              "      <td>2016-01-08</td>\n",
              "      <td>False</td>\n",
              "      <td>None</td>\n",
              "    </tr>\n",
              "    <tr>\n",
              "      <th>...</th>\n",
              "      <td>...</td>\n",
              "      <td>...</td>\n",
              "      <td>...</td>\n",
              "      <td>...</td>\n",
              "    </tr>\n",
              "    <tr>\n",
              "      <th>364995</th>\n",
              "      <td>3279</td>\n",
              "      <td>2016-12-29</td>\n",
              "      <td>True</td>\n",
              "      <td>$140.00</td>\n",
              "    </tr>\n",
              "    <tr>\n",
              "      <th>364996</th>\n",
              "      <td>3279</td>\n",
              "      <td>2016-12-30</td>\n",
              "      <td>True</td>\n",
              "      <td>$140.00</td>\n",
              "    </tr>\n",
              "    <tr>\n",
              "      <th>364997</th>\n",
              "      <td>3279</td>\n",
              "      <td>2016-12-31</td>\n",
              "      <td>True</td>\n",
              "      <td>$140.00</td>\n",
              "    </tr>\n",
              "    <tr>\n",
              "      <th>364998</th>\n",
              "      <td>3279</td>\n",
              "      <td>2017-01-01</td>\n",
              "      <td>True</td>\n",
              "      <td>$140.00</td>\n",
              "    </tr>\n",
              "    <tr>\n",
              "      <th>364999</th>\n",
              "      <td>3279</td>\n",
              "      <td>2017-01-02</td>\n",
              "      <td>False</td>\n",
              "      <td>None</td>\n",
              "    </tr>\n",
              "  </tbody>\n",
              "</table>\n",
              "<p>365000 rows × 4 columns</p>\n",
              "</div>"
            ],
            "text/plain": [
              "          id       fecha  lugar_disponible   precio\n",
              "0        857  2016-01-04             False     None\n",
              "1        857  2016-01-05             False     None\n",
              "2        857  2016-01-06             False     None\n",
              "3        857  2016-01-07             False     None\n",
              "4        857  2016-01-08             False     None\n",
              "...      ...         ...               ...      ...\n",
              "364995  3279  2016-12-29              True  $140.00\n",
              "364996  3279  2016-12-30              True  $140.00\n",
              "364997  3279  2016-12-31              True  $140.00\n",
              "364998  3279  2017-01-01              True  $140.00\n",
              "364999  3279  2017-01-02             False     None\n",
              "\n",
              "[365000 rows x 4 columns]"
            ]
          },
          "execution_count": 3,
          "metadata": {},
          "output_type": "execute_result"
        }
      ],
      "source": [
        "import pandas as pd\n",
        "dt_data = pd.read_json('../data/inmuebles_disponibles.json')\n",
        "dt_data"
      ]
    },
    {
      "cell_type": "code",
      "execution_count": null,
      "metadata": {
        "colab": {
          "base_uri": "https://localhost:8080/"
        },
        "id": "1XU9XPMP8jDv",
        "outputId": "e9bde25c-230d-4100-f322-d2c322fce4a7"
      },
      "outputs": [
        {
          "name": "stdout",
          "output_type": "stream",
          "text": [
            "<class 'pandas.core.frame.DataFrame'>\n",
            "Int64Index: 365000 entries, 0 to 364999\n",
            "Data columns (total 4 columns):\n",
            " #   Column            Non-Null Count   Dtype \n",
            "---  ------            --------------   ----- \n",
            " 0   id                365000 non-null  int64 \n",
            " 1   fecha             365000 non-null  object\n",
            " 2   lugar_disponible  365000 non-null  bool  \n",
            " 3   precio            270547 non-null  object\n",
            "dtypes: bool(1), int64(1), object(2)\n",
            "memory usage: 11.5+ MB\n"
          ]
        }
      ],
      "source": [
        "dt_data.info()"
      ]
    },
    {
      "cell_type": "code",
      "execution_count": 4,
      "metadata": {
        "id": "ettRpLTf8jGq"
      },
      "outputs": [],
      "source": [
        "dt_data['fecha'] = pd.to_datetime(dt_data['fecha'])"
      ]
    },
    {
      "cell_type": "code",
      "execution_count": 5,
      "metadata": {
        "colab": {
          "base_uri": "https://localhost:8080/"
        },
        "id": "3qx5sjYC8jJR",
        "outputId": "084e9c89-8168-4f4e-924c-79899cb605cd"
      },
      "outputs": [
        {
          "name": "stdout",
          "output_type": "stream",
          "text": [
            "<class 'pandas.core.frame.DataFrame'>\n",
            "Index: 365000 entries, 0 to 364999\n",
            "Data columns (total 4 columns):\n",
            " #   Column            Non-Null Count   Dtype         \n",
            "---  ------            --------------   -----         \n",
            " 0   id                365000 non-null  int64         \n",
            " 1   fecha             365000 non-null  datetime64[ns]\n",
            " 2   lugar_disponible  365000 non-null  bool          \n",
            " 3   precio            270547 non-null  object        \n",
            "dtypes: bool(1), datetime64[ns](1), int64(1), object(1)\n",
            "memory usage: 11.5+ MB\n"
          ]
        }
      ],
      "source": [
        "dt_data.info()"
      ]
    },
    {
      "cell_type": "markdown",
      "metadata": {},
      "source": [
        "##  04 Transformando texto en fechas\n",
        "\n",
        "Usted es responsable de analizar los datos de una empresa que vende productos. Recibiste un conjunto de datos con información sobre las ventas realizadas en los últimos meses, pero notaste que la columna \"Fecha de venta\" está en formato de cadena (texto), no en formato de fecha. Para realizar el análisis es necesario convertir esta columna al formato de fecha.\n",
        "\n",
        "Considere el siguiente conjunto de datos con información sobre las ventas de la empresa:\n",
        "\n",
        "*   Fecha de venta\tvalor\n",
        "* 0\t  01/01/2022\t100\n",
        "* 1\t  05/02/2022\t150\n",
        "* 2\t  10/03/2022\t200\n",
        "* 3\t  15/04/2022\t250\n",
        "* 4\t  18/04/2022\t80\n",
        "* 5\t  20/04/2022\t180\n",
        "\n",
        "Seleccione la alternativa que transforme los datos de la columna Fecha de venta hacia un tipo datetime.\n",
        "\n",
        "Para ayudarlo con sus pruebas, intente usar el siguiente código para crear el DataFrame datos y encontrar la solución para la actividad:"
      ]
    },
    {
      "cell_type": "code",
      "execution_count": 6,
      "metadata": {},
      "outputs": [
        {
          "name": "stdout",
          "output_type": "stream",
          "text": [
            "  Fecha de venta  valor\n",
            "0     01/01/2022    100\n",
            "1     05/02/2022    150\n",
            "2     10/03/2022    200\n",
            "3     15/04/2022    250\n",
            "4     18/04/2022     80\n",
            "5     20/04/2022    180\n"
          ]
        }
      ],
      "source": [
        "import pandas as pd\n",
        "\n",
        "# Creando el DataFrame con las informaciones\n",
        "datos = pd.DataFrame({\n",
        "    'Fecha de venta': ['01/01/2022', '05/02/2022', '10/03/2022', '15/04/2022','18/04/2022','20/04/2022'],\n",
        "    'valor': [100, 150, 200, 250,80,180]\n",
        "})\n",
        "\n",
        "# Mostrando el DataFrame\n",
        "print(datos)"
      ]
    },
    {
      "cell_type": "code",
      "execution_count": 8,
      "metadata": {},
      "outputs": [
        {
          "data": {
            "text/html": [
              "<div>\n",
              "<style scoped>\n",
              "    .dataframe tbody tr th:only-of-type {\n",
              "        vertical-align: middle;\n",
              "    }\n",
              "\n",
              "    .dataframe tbody tr th {\n",
              "        vertical-align: top;\n",
              "    }\n",
              "\n",
              "    .dataframe thead th {\n",
              "        text-align: right;\n",
              "    }\n",
              "</style>\n",
              "<table border=\"1\" class=\"dataframe\">\n",
              "  <thead>\n",
              "    <tr style=\"text-align: right;\">\n",
              "      <th></th>\n",
              "      <th>Fecha de venta</th>\n",
              "      <th>valor</th>\n",
              "    </tr>\n",
              "  </thead>\n",
              "  <tbody>\n",
              "    <tr>\n",
              "      <th>0</th>\n",
              "      <td>2022-01-01</td>\n",
              "      <td>100</td>\n",
              "    </tr>\n",
              "    <tr>\n",
              "      <th>1</th>\n",
              "      <td>2022-02-05</td>\n",
              "      <td>150</td>\n",
              "    </tr>\n",
              "    <tr>\n",
              "      <th>2</th>\n",
              "      <td>2022-03-10</td>\n",
              "      <td>200</td>\n",
              "    </tr>\n",
              "    <tr>\n",
              "      <th>3</th>\n",
              "      <td>2022-04-15</td>\n",
              "      <td>250</td>\n",
              "    </tr>\n",
              "    <tr>\n",
              "      <th>4</th>\n",
              "      <td>2022-04-18</td>\n",
              "      <td>80</td>\n",
              "    </tr>\n",
              "    <tr>\n",
              "      <th>5</th>\n",
              "      <td>2022-04-20</td>\n",
              "      <td>180</td>\n",
              "    </tr>\n",
              "  </tbody>\n",
              "</table>\n",
              "</div>"
            ],
            "text/plain": [
              "  Fecha de venta  valor\n",
              "0     2022-01-01    100\n",
              "1     2022-02-05    150\n",
              "2     2022-03-10    200\n",
              "3     2022-04-15    250\n",
              "4     2022-04-18     80\n",
              "5     2022-04-20    180"
            ]
          },
          "execution_count": 8,
          "metadata": {},
          "output_type": "execute_result"
        }
      ],
      "source": [
        "datos['Fecha de venta'] = pd.to_datetime(datos['Fecha de venta'], format='%d/%m/%Y')\n",
        "datos"
      ]
    },
    {
      "cell_type": "markdown",
      "metadata": {},
      "source": [
        "El formato especificado %d/%m/%Y coincide con el formato original de la fecha en el string. Usando la función pd.to_datetime convertimos la columna “Fecha de venta” y con el parámetro format='%d/%m/%Y' podemos indicar el formato correcto del string, que es \"día/mes/año\"."
      ]
    },
    {
      "cell_type": "markdown",
      "metadata": {},
      "source": [
        "## 05 Manipulando datos de tiempo\n"
      ]
    },
    {
      "cell_type": "code",
      "execution_count": 9,
      "metadata": {
        "colab": {
          "base_uri": "https://localhost:8080/",
          "height": 363
        },
        "id": "o5eVZ0mxA22d",
        "outputId": "0b4b66df-abe4-4d43-926d-054ea194e253"
      },
      "outputs": [
        {
          "data": {
            "text/html": [
              "<div>\n",
              "<style scoped>\n",
              "    .dataframe tbody tr th:only-of-type {\n",
              "        vertical-align: middle;\n",
              "    }\n",
              "\n",
              "    .dataframe tbody tr th {\n",
              "        vertical-align: top;\n",
              "    }\n",
              "\n",
              "    .dataframe thead th {\n",
              "        text-align: right;\n",
              "    }\n",
              "</style>\n",
              "<table border=\"1\" class=\"dataframe\">\n",
              "  <thead>\n",
              "    <tr style=\"text-align: right;\">\n",
              "      <th></th>\n",
              "      <th>id</th>\n",
              "      <th>fecha</th>\n",
              "      <th>lugar_disponible</th>\n",
              "      <th>precio</th>\n",
              "    </tr>\n",
              "  </thead>\n",
              "  <tbody>\n",
              "    <tr>\n",
              "      <th>99179</th>\n",
              "      <td>7</td>\n",
              "      <td>2016-09-24</td>\n",
              "      <td>True</td>\n",
              "      <td>$55.00</td>\n",
              "    </tr>\n",
              "    <tr>\n",
              "      <th>223649</th>\n",
              "      <td>1993</td>\n",
              "      <td>2016-09-29</td>\n",
              "      <td>True</td>\n",
              "      <td>$120.00</td>\n",
              "    </tr>\n",
              "    <tr>\n",
              "      <th>201619</th>\n",
              "      <td>1934</td>\n",
              "      <td>2016-05-22</td>\n",
              "      <td>True</td>\n",
              "      <td>$260.00</td>\n",
              "    </tr>\n",
              "    <tr>\n",
              "      <th>4925</th>\n",
              "      <td>2810</td>\n",
              "      <td>2016-07-02</td>\n",
              "      <td>True</td>\n",
              "      <td>$60.00</td>\n",
              "    </tr>\n",
              "    <tr>\n",
              "      <th>252195</th>\n",
              "      <td>1590</td>\n",
              "      <td>2016-12-14</td>\n",
              "      <td>True</td>\n",
              "      <td>$100.00</td>\n",
              "    </tr>\n",
              "    <tr>\n",
              "      <th>81111</th>\n",
              "      <td>3180</td>\n",
              "      <td>2016-03-25</td>\n",
              "      <td>True</td>\n",
              "      <td>$88.00</td>\n",
              "    </tr>\n",
              "    <tr>\n",
              "      <th>278324</th>\n",
              "      <td>534</td>\n",
              "      <td>2016-07-16</td>\n",
              "      <td>True</td>\n",
              "      <td>$60.00</td>\n",
              "    </tr>\n",
              "    <tr>\n",
              "      <th>339371</th>\n",
              "      <td>3398</td>\n",
              "      <td>2016-10-16</td>\n",
              "      <td>True</td>\n",
              "      <td>$140.00</td>\n",
              "    </tr>\n",
              "    <tr>\n",
              "      <th>60789</th>\n",
              "      <td>968</td>\n",
              "      <td>2016-07-21</td>\n",
              "      <td>True</td>\n",
              "      <td>$200.00</td>\n",
              "    </tr>\n",
              "    <tr>\n",
              "      <th>213182</th>\n",
              "      <td>1551</td>\n",
              "      <td>2016-01-26</td>\n",
              "      <td>True</td>\n",
              "      <td>$108.00</td>\n",
              "    </tr>\n",
              "  </tbody>\n",
              "</table>\n",
              "</div>"
            ],
            "text/plain": [
              "          id      fecha  lugar_disponible   precio\n",
              "99179      7 2016-09-24              True   $55.00\n",
              "223649  1993 2016-09-29              True  $120.00\n",
              "201619  1934 2016-05-22              True  $260.00\n",
              "4925    2810 2016-07-02              True   $60.00\n",
              "252195  1590 2016-12-14              True  $100.00\n",
              "81111   3180 2016-03-25              True   $88.00\n",
              "278324   534 2016-07-16              True   $60.00\n",
              "339371  3398 2016-10-16              True  $140.00\n",
              "60789    968 2016-07-21              True  $200.00\n",
              "213182  1551 2016-01-26              True  $108.00"
            ]
          },
          "execution_count": 9,
          "metadata": {},
          "output_type": "execute_result"
        }
      ],
      "source": [
        "dt_data.sample(10)"
      ]
    },
    {
      "cell_type": "code",
      "execution_count": 10,
      "metadata": {
        "colab": {
          "base_uri": "https://localhost:8080/"
        },
        "id": "BibmVbRcBRln",
        "outputId": "cdcd7e53-3b3a-4604-fdce-a95163563104"
      },
      "outputs": [
        {
          "data": {
            "text/plain": [
              "0         2016-01\n",
              "1         2016-01\n",
              "2         2016-01\n",
              "3         2016-01\n",
              "4         2016-01\n",
              "           ...   \n",
              "364995    2016-12\n",
              "364996    2016-12\n",
              "364997    2016-12\n",
              "364998    2017-01\n",
              "364999    2017-01\n",
              "Name: fecha, Length: 365000, dtype: object"
            ]
          },
          "execution_count": 10,
          "metadata": {},
          "output_type": "execute_result"
        }
      ],
      "source": [
        "dt_data['fecha'].dt.strftime('%Y-%m')"
      ]
    },
    {
      "cell_type": "code",
      "execution_count": null,
      "metadata": {
        "colab": {
          "base_uri": "https://localhost:8080/"
        },
        "id": "dc0MviSECNuD",
        "outputId": "996cecef-e14b-4e49-b558-638278a15ea1"
      },
      "outputs": [
        {
          "data": {
            "text/plain": [
              "fecha\n",
              "2016-01    16543\n",
              "2016-02    20128\n",
              "2016-03    23357\n",
              "2016-04    22597\n",
              "2016-05    23842\n",
              "2016-06    23651\n",
              "2016-07    22329\n",
              "2016-08    22529\n",
              "2016-09    22471\n",
              "2016-10    23765\n",
              "2016-11    23352\n",
              "2016-12    24409\n",
              "2017-01     1574\n",
              "Name: lugar_disponible, dtype: int64"
            ]
          },
          "execution_count": 59,
          "metadata": {},
          "output_type": "execute_result"
        }
      ],
      "source": [
        "subset = dt_data.groupby(dt_data['fecha'].dt.strftime('%Y-%m'))['lugar_disponible'].sum()\n",
        "subset"
      ]
    },
    {
      "cell_type": "markdown",
      "metadata": {},
      "source": [
        "##  06 Desafío: hazlo tú mismo\n",
        "\n",
        "En esta clase, aprendimos cómo manipular datos temporales usando datetime. Entendimos cómo transformar una columna a fecha y hora y luego manipular estos datos. Aun así, no todos los datos del conjunto inmuebles_disponibles.json fueron tratados.\n",
        "\n",
        "Durante las clases de este curso, descubrimos cómo transformar y trabajar con valores numéricos, por ejemplo, eliminando valores numéricos dentro de un texto y transformándolos en un tipo numérico, como int64 o float64.\n",
        "\n",
        "Sabiendo esto, en esta actividad te propongo transformar los datos de la columna precio del conjunto de datos inmuebles_disponibles.json al tipo numérico float64. Recordando que, antes de hacer esto, debes llenar los valores vacíos de la columna con un valor. Una sugerencia: reemplazar con el string '0.0'.\n",
        "\n",
        "No dudes en seguir los mismos pasos dados en clase o, si lo prefieres, realizar otras mejoras, como eliminar algunos caracteres o palabras vacías. En el apartado “Opinión del instructor” encontrarás una posible resolución para esta actividad."
      ]
    },
    {
      "cell_type": "markdown",
      "metadata": {},
      "source": [
        "## Opinión del instructor\n",
        "\n",
        "Para transformar los datos de la columna precio, realicé los mismos pasos que seguí en clase. Pero como se explicó anteriormente, usted es libre de aplicar otros procesos al tratamiento."
      ]
    },
    {
      "cell_type": "code",
      "execution_count": 11,
      "metadata": {},
      "outputs": [
        {
          "data": {
            "text/html": [
              "<div>\n",
              "<style scoped>\n",
              "    .dataframe tbody tr th:only-of-type {\n",
              "        vertical-align: middle;\n",
              "    }\n",
              "\n",
              "    .dataframe tbody tr th {\n",
              "        vertical-align: top;\n",
              "    }\n",
              "\n",
              "    .dataframe thead th {\n",
              "        text-align: right;\n",
              "    }\n",
              "</style>\n",
              "<table border=\"1\" class=\"dataframe\">\n",
              "  <thead>\n",
              "    <tr style=\"text-align: right;\">\n",
              "      <th></th>\n",
              "      <th>id</th>\n",
              "      <th>fecha</th>\n",
              "      <th>lugar_disponible</th>\n",
              "      <th>precio</th>\n",
              "    </tr>\n",
              "  </thead>\n",
              "  <tbody>\n",
              "    <tr>\n",
              "      <th>0</th>\n",
              "      <td>857</td>\n",
              "      <td>2016-01-04</td>\n",
              "      <td>False</td>\n",
              "      <td>None</td>\n",
              "    </tr>\n",
              "    <tr>\n",
              "      <th>1</th>\n",
              "      <td>857</td>\n",
              "      <td>2016-01-05</td>\n",
              "      <td>False</td>\n",
              "      <td>None</td>\n",
              "    </tr>\n",
              "    <tr>\n",
              "      <th>2</th>\n",
              "      <td>857</td>\n",
              "      <td>2016-01-06</td>\n",
              "      <td>False</td>\n",
              "      <td>None</td>\n",
              "    </tr>\n",
              "    <tr>\n",
              "      <th>3</th>\n",
              "      <td>857</td>\n",
              "      <td>2016-01-07</td>\n",
              "      <td>False</td>\n",
              "      <td>None</td>\n",
              "    </tr>\n",
              "    <tr>\n",
              "      <th>4</th>\n",
              "      <td>857</td>\n",
              "      <td>2016-01-08</td>\n",
              "      <td>False</td>\n",
              "      <td>None</td>\n",
              "    </tr>\n",
              "    <tr>\n",
              "      <th>...</th>\n",
              "      <td>...</td>\n",
              "      <td>...</td>\n",
              "      <td>...</td>\n",
              "      <td>...</td>\n",
              "    </tr>\n",
              "    <tr>\n",
              "      <th>364995</th>\n",
              "      <td>3279</td>\n",
              "      <td>2016-12-29</td>\n",
              "      <td>True</td>\n",
              "      <td>$140.00</td>\n",
              "    </tr>\n",
              "    <tr>\n",
              "      <th>364996</th>\n",
              "      <td>3279</td>\n",
              "      <td>2016-12-30</td>\n",
              "      <td>True</td>\n",
              "      <td>$140.00</td>\n",
              "    </tr>\n",
              "    <tr>\n",
              "      <th>364997</th>\n",
              "      <td>3279</td>\n",
              "      <td>2016-12-31</td>\n",
              "      <td>True</td>\n",
              "      <td>$140.00</td>\n",
              "    </tr>\n",
              "    <tr>\n",
              "      <th>364998</th>\n",
              "      <td>3279</td>\n",
              "      <td>2017-01-01</td>\n",
              "      <td>True</td>\n",
              "      <td>$140.00</td>\n",
              "    </tr>\n",
              "    <tr>\n",
              "      <th>364999</th>\n",
              "      <td>3279</td>\n",
              "      <td>2017-01-02</td>\n",
              "      <td>False</td>\n",
              "      <td>None</td>\n",
              "    </tr>\n",
              "  </tbody>\n",
              "</table>\n",
              "<p>365000 rows × 4 columns</p>\n",
              "</div>"
            ],
            "text/plain": [
              "          id       fecha  lugar_disponible   precio\n",
              "0        857  2016-01-04             False     None\n",
              "1        857  2016-01-05             False     None\n",
              "2        857  2016-01-06             False     None\n",
              "3        857  2016-01-07             False     None\n",
              "4        857  2016-01-08             False     None\n",
              "...      ...         ...               ...      ...\n",
              "364995  3279  2016-12-29              True  $140.00\n",
              "364996  3279  2016-12-30              True  $140.00\n",
              "364997  3279  2016-12-31              True  $140.00\n",
              "364998  3279  2017-01-01              True  $140.00\n",
              "364999  3279  2017-01-02             False     None\n",
              "\n",
              "[365000 rows x 4 columns]"
            ]
          },
          "execution_count": 11,
          "metadata": {},
          "output_type": "execute_result"
        }
      ],
      "source": [
        "import pandas as pd\n",
        "dt_data = pd.read_json('../data/inmuebles_disponibles.json')\n",
        "dt_data"
      ]
    },
    {
      "cell_type": "code",
      "execution_count": 12,
      "metadata": {},
      "outputs": [
        {
          "name": "stdout",
          "output_type": "stream",
          "text": [
            "<class 'pandas.core.frame.DataFrame'>\n",
            "Index: 365000 entries, 0 to 364999\n",
            "Data columns (total 4 columns):\n",
            " #   Column            Non-Null Count   Dtype \n",
            "---  ------            --------------   ----- \n",
            " 0   id                365000 non-null  int64 \n",
            " 1   fecha             365000 non-null  object\n",
            " 2   lugar_disponible  365000 non-null  bool  \n",
            " 3   precio            270547 non-null  object\n",
            "dtypes: bool(1), int64(1), object(2)\n",
            "memory usage: 11.5+ MB\n"
          ]
        }
      ],
      "source": [
        "dt_data.info()"
      ]
    },
    {
      "cell_type": "code",
      "execution_count": 14,
      "metadata": {},
      "outputs": [
        {
          "name": "stdout",
          "output_type": "stream",
          "text": [
            "<class 'pandas.core.frame.DataFrame'>\n",
            "Index: 365000 entries, 0 to 364999\n",
            "Data columns (total 4 columns):\n",
            " #   Column            Non-Null Count   Dtype         \n",
            "---  ------            --------------   -----         \n",
            " 0   id                365000 non-null  int64         \n",
            " 1   fecha             365000 non-null  datetime64[ns]\n",
            " 2   lugar_disponible  365000 non-null  bool          \n",
            " 3   precio            270547 non-null  object        \n",
            "dtypes: bool(1), datetime64[ns](1), int64(1), object(1)\n",
            "memory usage: 11.5+ MB\n"
          ]
        }
      ],
      "source": [
        "dt_data['fecha'] = pd.to_datetime(dt_data['fecha'])\n",
        "dt_data.info()"
      ]
    },
    {
      "cell_type": "code",
      "execution_count": 16,
      "metadata": {},
      "outputs": [
        {
          "data": {
            "text/plain": [
              "0             0.0\n",
              "1             0.0\n",
              "2             0.0\n",
              "3             0.0\n",
              "4             0.0\n",
              "           ...   \n",
              "364995    $140.00\n",
              "364996    $140.00\n",
              "364997    $140.00\n",
              "364998    $140.00\n",
              "364999        0.0\n",
              "Name: precio, Length: 365000, dtype: object"
            ]
          },
          "execution_count": 16,
          "metadata": {},
          "output_type": "execute_result"
        }
      ],
      "source": [
        "# importamos la biblioteca numpy\n",
        "import numpy as np\n",
        "\n",
        "# utilizamos el método fillna para llenar los elementos vacíos por '0.0'\n",
        "# definimos el parámetro de inplace para True para substituir en el DataFrame\n",
        "dt_data['precio'].fillna('0.0', inplace = True)\n",
        "\n",
        "dt_data['precio']"
      ]
    },
    {
      "cell_type": "code",
      "execution_count": null,
      "metadata": {},
      "outputs": [],
      "source": [
        "# borramos el $ y las comas con apply lambda\n",
        "dt_data['precio'] = dt_data['precio'].apply(lambda x: x.replace('$', '').replace(',',''))\n"
      ]
    },
    {
      "cell_type": "code",
      "execution_count": 18,
      "metadata": {},
      "outputs": [
        {
          "data": {
            "text/plain": [
              "0            0.0\n",
              "1            0.0\n",
              "2            0.0\n",
              "3            0.0\n",
              "4            0.0\n",
              "           ...  \n",
              "364995    140.00\n",
              "364996    140.00\n",
              "364997    140.00\n",
              "364998    140.00\n",
              "364999       0.0\n",
              "Name: precio, Length: 365000, dtype: object"
            ]
          },
          "execution_count": 18,
          "metadata": {},
          "output_type": "execute_result"
        }
      ],
      "source": [
        "dt_data['precio']"
      ]
    },
    {
      "cell_type": "code",
      "execution_count": 19,
      "metadata": {},
      "outputs": [
        {
          "data": {
            "text/html": [
              "<div>\n",
              "<style scoped>\n",
              "    .dataframe tbody tr th:only-of-type {\n",
              "        vertical-align: middle;\n",
              "    }\n",
              "\n",
              "    .dataframe tbody tr th {\n",
              "        vertical-align: top;\n",
              "    }\n",
              "\n",
              "    .dataframe thead th {\n",
              "        text-align: right;\n",
              "    }\n",
              "</style>\n",
              "<table border=\"1\" class=\"dataframe\">\n",
              "  <thead>\n",
              "    <tr style=\"text-align: right;\">\n",
              "      <th></th>\n",
              "      <th>id</th>\n",
              "      <th>fecha</th>\n",
              "      <th>lugar_disponible</th>\n",
              "      <th>precio</th>\n",
              "    </tr>\n",
              "  </thead>\n",
              "  <tbody>\n",
              "    <tr>\n",
              "      <th>0</th>\n",
              "      <td>857</td>\n",
              "      <td>2016-01-04</td>\n",
              "      <td>False</td>\n",
              "      <td>0.0</td>\n",
              "    </tr>\n",
              "    <tr>\n",
              "      <th>1</th>\n",
              "      <td>857</td>\n",
              "      <td>2016-01-05</td>\n",
              "      <td>False</td>\n",
              "      <td>0.0</td>\n",
              "    </tr>\n",
              "    <tr>\n",
              "      <th>2</th>\n",
              "      <td>857</td>\n",
              "      <td>2016-01-06</td>\n",
              "      <td>False</td>\n",
              "      <td>0.0</td>\n",
              "    </tr>\n",
              "    <tr>\n",
              "      <th>3</th>\n",
              "      <td>857</td>\n",
              "      <td>2016-01-07</td>\n",
              "      <td>False</td>\n",
              "      <td>0.0</td>\n",
              "    </tr>\n",
              "    <tr>\n",
              "      <th>4</th>\n",
              "      <td>857</td>\n",
              "      <td>2016-01-08</td>\n",
              "      <td>False</td>\n",
              "      <td>0.0</td>\n",
              "    </tr>\n",
              "    <tr>\n",
              "      <th>...</th>\n",
              "      <td>...</td>\n",
              "      <td>...</td>\n",
              "      <td>...</td>\n",
              "      <td>...</td>\n",
              "    </tr>\n",
              "    <tr>\n",
              "      <th>364995</th>\n",
              "      <td>3279</td>\n",
              "      <td>2016-12-29</td>\n",
              "      <td>True</td>\n",
              "      <td>140.0</td>\n",
              "    </tr>\n",
              "    <tr>\n",
              "      <th>364996</th>\n",
              "      <td>3279</td>\n",
              "      <td>2016-12-30</td>\n",
              "      <td>True</td>\n",
              "      <td>140.0</td>\n",
              "    </tr>\n",
              "    <tr>\n",
              "      <th>364997</th>\n",
              "      <td>3279</td>\n",
              "      <td>2016-12-31</td>\n",
              "      <td>True</td>\n",
              "      <td>140.0</td>\n",
              "    </tr>\n",
              "    <tr>\n",
              "      <th>364998</th>\n",
              "      <td>3279</td>\n",
              "      <td>2017-01-01</td>\n",
              "      <td>True</td>\n",
              "      <td>140.0</td>\n",
              "    </tr>\n",
              "    <tr>\n",
              "      <th>364999</th>\n",
              "      <td>3279</td>\n",
              "      <td>2017-01-02</td>\n",
              "      <td>False</td>\n",
              "      <td>0.0</td>\n",
              "    </tr>\n",
              "  </tbody>\n",
              "</table>\n",
              "<p>365000 rows × 4 columns</p>\n",
              "</div>"
            ],
            "text/plain": [
              "          id      fecha  lugar_disponible  precio\n",
              "0        857 2016-01-04             False     0.0\n",
              "1        857 2016-01-05             False     0.0\n",
              "2        857 2016-01-06             False     0.0\n",
              "3        857 2016-01-07             False     0.0\n",
              "4        857 2016-01-08             False     0.0\n",
              "...      ...        ...               ...     ...\n",
              "364995  3279 2016-12-29              True   140.0\n",
              "364996  3279 2016-12-30              True   140.0\n",
              "364997  3279 2016-12-31              True   140.0\n",
              "364998  3279 2017-01-01              True   140.0\n",
              "364999  3279 2017-01-02             False     0.0\n",
              "\n",
              "[365000 rows x 4 columns]"
            ]
          },
          "execution_count": 19,
          "metadata": {},
          "output_type": "execute_result"
        }
      ],
      "source": [
        "# transformamos los tipos de datos para float64\n",
        "dt_data['precio'] = dt_data['precio'].astype(np.float64)\n",
        "\n",
        "# observamos el resultado final\n",
        "dt_data"
      ]
    },
    {
      "cell_type": "code",
      "execution_count": 20,
      "metadata": {},
      "outputs": [
        {
          "name": "stdout",
          "output_type": "stream",
          "text": [
            "<class 'pandas.core.frame.DataFrame'>\n",
            "Index: 365000 entries, 0 to 364999\n",
            "Data columns (total 4 columns):\n",
            " #   Column            Non-Null Count   Dtype         \n",
            "---  ------            --------------   -----         \n",
            " 0   id                365000 non-null  int64         \n",
            " 1   fecha             365000 non-null  datetime64[ns]\n",
            " 2   lugar_disponible  365000 non-null  bool          \n",
            " 3   precio            365000 non-null  float64       \n",
            "dtypes: bool(1), datetime64[ns](1), float64(1), int64(1)\n",
            "memory usage: 11.5 MB\n"
          ]
        }
      ],
      "source": [
        "dt_data.info()"
      ]
    },
    {
      "cell_type": "markdown",
      "metadata": {},
      "source": [
        "##  07 Desafío: trabajando en otros contextos\n",
        "\n",
        "Pongamos nuevamente en práctica todo lo que aprendimos durante la clase. He puesto los 2 nuevos conjuntos de datos disponibles para descargar a continuación:\n",
        "\n",
        "* Proyecto Desafío 1: Ventas Online - dados_vendas_clientes.json;\n",
        "\n",
        "* Proyecto Desafío 2: Administración de Condominios - dados_locacao_imoveis.json.\n",
        "\n",
        "Recuerda: Estos dos proyectos de tratamiento se construyeron durante el curso. Por lo tanto, considere desarrollos previos para realizar este paso final.\n",
        "\n",
        "### Etapa 4\n",
        "\n",
        "### Proyecto Desafío 1: Ventas Online\n",
        "\n",
        "En los pasos anteriores ya hemos trabajado con varios tipos de datos, ahora podemos trabajar con datos de tiempo.\n",
        "\n",
        "En la columna Fecha de venta tenemos fechas en el formato 'día/mes/año' (dd/mm/AAAA). Transforme estos datos al tipo datetime y busque una forma de visualización de subconjunto que pueda contribuir al objetivo del contexto en el que se insertan los datos.\n",
        "\n",
        "Si no recuerdas el problema del Proyecto Desafío 1, te dejo el texto de la situación a continuación para que sea más fácil encontrar la información:\n",
        "\n"
      ]
    },
    {
      "cell_type": "markdown",
      "metadata": {},
      "source": [
        "El objetivo de este proyecto es analizar los resultados de un evento con los clientes de una empresa de venta online. Se recopiló un conjunto de datos que contiene los clientes que gastaron más en productos dentro de los 5 días posteriores a la venta, que es la duración del evento. Este análisis identificará al cliente con la mayor compra esa semana, quien recibirá un premio de la tienda, y posteriormente, puede ayudar a la empresa a crear nuevas estrategias para atraer más clientes."
      ]
    },
    {
      "cell_type": "markdown",
      "metadata": {},
      "source": [
        "### Proyecto Desafío 2: Administración de Condominios"
      ]
    },
    {
      "cell_type": "markdown",
      "metadata": {},
      "source": [
        "Al igual que en el Proyecto Desafío 1, trabajamos con todas las columnas excepto las que involucran fechas.\n",
        "\n",
        "En las columnas datas_de_pagamento y datas_combinadas_pagamento tenemos fechas en el formato 'día/mes/año' (dd/mm/AAAA). Transforme estos datos al tipo datetime y busque una forma de visualización de subconjunto que pueda contribuir al objetivo del contexto en el que se insertan los datos.\n",
        "\n",
        "Si no recuerdas el problema del Proyecto Desafío 2, te dejo el texto de la situación a continuación para que sea más fácil encontrar la información:\n"
      ]
    },
    {
      "cell_type": "markdown",
      "metadata": {},
      "source": [
        "Administrar condominios es una tarea que requiere mucha atención y organización. Entre las diversas responsabilidades de gestión se encuentra el cobro del alquiler a los inquilinos. Para garantizar la buena salud financiera de la empresa, es fundamental que estos pagos se realicen de forma regular y puntual. Sin embargo, sabemos que esto no siempre sucede. Teniendo esto en cuenta, propongo un desafío de procesamiento de datos con el objetivo de analizar el retraso en el pago de la renta en el condominio ficticio de algunos residentes."
      ]
    },
    {
      "cell_type": "markdown",
      "metadata": {},
      "source": [
        "### Opinión del instructor\n",
        "\n",
        "Puede haber varias formas de resolver un problema. Presentaré cómo resolví los problemas y esto no quiere decir que estas sean las mejores soluciones, sino que son una opción de solución."
      ]
    },
    {
      "cell_type": "markdown",
      "metadata": {},
      "source": [
        "### Proyecto Desafío 1: Ventas Online"
      ]
    },
    {
      "cell_type": "code",
      "execution_count": null,
      "metadata": {},
      "outputs": [],
      "source": [
        "# Import de pandas\n",
        "import pandas as pd\n",
        "# Leer el archivo json con read_json\n",
        "datos = pd.read_json('../data/dados_vendas_clientes.json')\n",
        "\n",
        "# Aplicar json_normalize en la columna dados_vendas\n",
        "datos = pd.json_normalize(datos['dados_vendas']) # Columna dados_vendas\n",
        "# Mostrar valores\n",
        "datos\n",
        "\n",
        "# Colectar los valores de las columnas y verificar\n",
        "columnas = list(datos.columns)\n",
        "columnas\n",
        "\n",
        "# Destrincar las listas con explode\n",
        "datos = datos.explode(columnas[1:])\n",
        "\n",
        "# Resetear los index de las líneas\n",
        "datos.reset_index(drop=True,inplace=True)\n",
        "# Observar el DataFrame\n",
        "datos\n",
        "\n",
        "# Verificar los tipos de datos con info\n",
        "datos.info()\n",
        "\n",
        "# La columna numérica es el 'Valor da compra'\n",
        "datos['Valor da compra']\n",
        "\n",
        "# Iniciar la transformación\n",
        "# Import de la biblioteca numpy\n",
        "import numpy as np\n",
        "\n",
        "# Remover los textos presentes en la base\n",
        "# Cambiar las comas separadoras del decimal por punto\n",
        "datos['Valor da compra'] = datos['Valor da compra'].apply(lambda x: x.replace('R$ ', '').replace(',','.').strip())\n",
        "\n",
        "# Cambiar los tipo de datos para float\n",
        "datos['Valor da compra'] = datos['Valor da compra'].astype(np.float64)\n",
        "\n",
        "# Verificar la transformación\n",
        "datos.info()\n",
        "\n",
        "\n",
        "# Transformar los textos de Cliente para texto en minúscula\n",
        "datos['Cliente'] = datos['Cliente'].str.lower()\n",
        "\n",
        "# Verificar el resultado\n",
        "datos.head()\n",
        "\n",
        "# Opción de substitución - necesario verificar el resultado de la substitución\n",
        "# Regex no selecciona todas las letras de a-z y espacios en blanco ' '\n",
        "# Todo que satisface el regex es borrado\n",
        "datos['Cliente'].str.replace('[^a-z ]', '', regex=True)\n",
        "\n",
        "# Realizar la substitución de los datos en la columna textual\n",
        "datos['Cliente'] = datos['Cliente'].str.replace('[^a-z ]', '', regex=True).str.strip()\n",
        "\n",
        "# Visualizar el resultado final\n",
        "datos.head()\n",
        "\n",
        "# Tarea final.....abajo\n",
        "\n",
        "\n",
        "# Transformar para el tipo datetime definiendo el formato de fecha como DD/MM/AAAA ('%d/%m/%Y')\n",
        "datos['Data de venda'] = pd.to_datetime(datos['Data de venda'], format='%d/%m/%Y')\n",
        "# Visualizar el resultado\n",
        "datos\n",
        "\n",
        "# Verificar el resultado de la transformación\n",
        "datos.info()\n",
        "\n",
        "# Calcular el total recaudado en compras por cada cliente\n",
        "total_compras = datos.groupby(['Cliente'])['Valor da compra'].sum()\n",
        "# Visualizar el resultado\n",
        "total_compras"
      ]
    },
    {
      "cell_type": "markdown",
      "metadata": {},
      "source": [
        "# Tarea Final 1"
      ]
    },
    {
      "cell_type": "code",
      "execution_count": 21,
      "metadata": {},
      "outputs": [
        {
          "data": {
            "text/html": [
              "<div>\n",
              "<style scoped>\n",
              "    .dataframe tbody tr th:only-of-type {\n",
              "        vertical-align: middle;\n",
              "    }\n",
              "\n",
              "    .dataframe tbody tr th {\n",
              "        vertical-align: top;\n",
              "    }\n",
              "\n",
              "    .dataframe thead th {\n",
              "        text-align: right;\n",
              "    }\n",
              "</style>\n",
              "<table border=\"1\" class=\"dataframe\">\n",
              "  <thead>\n",
              "    <tr style=\"text-align: right;\">\n",
              "      <th></th>\n",
              "      <th>dados_vendas</th>\n",
              "    </tr>\n",
              "  </thead>\n",
              "  <tbody>\n",
              "    <tr>\n",
              "      <th>0</th>\n",
              "      <td>{'Data de venda': '06/06/2022', 'Cliente': ['@...</td>\n",
              "    </tr>\n",
              "    <tr>\n",
              "      <th>1</th>\n",
              "      <td>{'Data de venda': '07/06/2022', 'Cliente': ['I...</td>\n",
              "    </tr>\n",
              "  </tbody>\n",
              "</table>\n",
              "</div>"
            ],
            "text/plain": [
              "                                        dados_vendas\n",
              "0  {'Data de venda': '06/06/2022', 'Cliente': ['@...\n",
              "1  {'Data de venda': '07/06/2022', 'Cliente': ['I..."
            ]
          },
          "execution_count": 21,
          "metadata": {},
          "output_type": "execute_result"
        }
      ],
      "source": [
        "# Import de pandas\n",
        "import pandas as pd\n",
        "# Leer el archivo json con read_json\n",
        "datos = pd.read_json('../data/dados_vendas_clientes.json')\n",
        "datos.head(2)"
      ]
    },
    {
      "cell_type": "code",
      "execution_count": 22,
      "metadata": {},
      "outputs": [
        {
          "data": {
            "text/html": [
              "<div>\n",
              "<style scoped>\n",
              "    .dataframe tbody tr th:only-of-type {\n",
              "        vertical-align: middle;\n",
              "    }\n",
              "\n",
              "    .dataframe tbody tr th {\n",
              "        vertical-align: top;\n",
              "    }\n",
              "\n",
              "    .dataframe thead th {\n",
              "        text-align: right;\n",
              "    }\n",
              "</style>\n",
              "<table border=\"1\" class=\"dataframe\">\n",
              "  <thead>\n",
              "    <tr style=\"text-align: right;\">\n",
              "      <th></th>\n",
              "      <th>Data de venda</th>\n",
              "      <th>Cliente</th>\n",
              "      <th>Valor da compra</th>\n",
              "    </tr>\n",
              "  </thead>\n",
              "  <tbody>\n",
              "    <tr>\n",
              "      <th>0</th>\n",
              "      <td>06/06/2022</td>\n",
              "      <td>[@ANA _LUCIA 321, DieGO ARMANDIU 210, DieGO AR...</td>\n",
              "      <td>[R$ 836,5, R$ 573,33, R$ 392,8, R$ 512,34]</td>\n",
              "    </tr>\n",
              "    <tr>\n",
              "      <th>1</th>\n",
              "      <td>07/06/2022</td>\n",
              "      <td>[Isabely JOanes 738, Isabely JOanes 738, Isabe...</td>\n",
              "      <td>[R$ 825,31, R$ 168,07, R$ 339,18, R$ 314,69]</td>\n",
              "    </tr>\n",
              "  </tbody>\n",
              "</table>\n",
              "</div>"
            ],
            "text/plain": [
              "  Data de venda                                            Cliente  \\\n",
              "0    06/06/2022  [@ANA _LUCIA 321, DieGO ARMANDIU 210, DieGO AR...   \n",
              "1    07/06/2022  [Isabely JOanes 738, Isabely JOanes 738, Isabe...   \n",
              "\n",
              "                                Valor da compra  \n",
              "0    [R$ 836,5, R$ 573,33, R$ 392,8, R$ 512,34]  \n",
              "1  [R$ 825,31, R$ 168,07, R$ 339,18, R$ 314,69]  "
            ]
          },
          "execution_count": 22,
          "metadata": {},
          "output_type": "execute_result"
        }
      ],
      "source": [
        "# Aplicar json_normalize en la columna dados_vendas\n",
        "datos = pd.json_normalize(datos['dados_vendas']) # Columna dados_vendas\n",
        "# Mostrar valores\n",
        "datos.head(2)"
      ]
    },
    {
      "cell_type": "code",
      "execution_count": 23,
      "metadata": {},
      "outputs": [
        {
          "data": {
            "text/plain": [
              "['Data de venda', 'Cliente', 'Valor da compra']"
            ]
          },
          "execution_count": 23,
          "metadata": {},
          "output_type": "execute_result"
        }
      ],
      "source": [
        "# Colectar los valores de las columnas y verificar\n",
        "columnas = list(datos.columns)\n",
        "columnas"
      ]
    },
    {
      "cell_type": "code",
      "execution_count": 24,
      "metadata": {},
      "outputs": [
        {
          "data": {
            "text/html": [
              "<div>\n",
              "<style scoped>\n",
              "    .dataframe tbody tr th:only-of-type {\n",
              "        vertical-align: middle;\n",
              "    }\n",
              "\n",
              "    .dataframe tbody tr th {\n",
              "        vertical-align: top;\n",
              "    }\n",
              "\n",
              "    .dataframe thead th {\n",
              "        text-align: right;\n",
              "    }\n",
              "</style>\n",
              "<table border=\"1\" class=\"dataframe\">\n",
              "  <thead>\n",
              "    <tr style=\"text-align: right;\">\n",
              "      <th></th>\n",
              "      <th>Data de venda</th>\n",
              "      <th>Cliente</th>\n",
              "      <th>Valor da compra</th>\n",
              "    </tr>\n",
              "  </thead>\n",
              "  <tbody>\n",
              "    <tr>\n",
              "      <th>0</th>\n",
              "      <td>06/06/2022</td>\n",
              "      <td>@ANA _LUCIA 321</td>\n",
              "      <td>R$ 836,5</td>\n",
              "    </tr>\n",
              "    <tr>\n",
              "      <th>0</th>\n",
              "      <td>06/06/2022</td>\n",
              "      <td>DieGO ARMANDIU 210</td>\n",
              "      <td>R$ 573,33</td>\n",
              "    </tr>\n",
              "  </tbody>\n",
              "</table>\n",
              "</div>"
            ],
            "text/plain": [
              "  Data de venda             Cliente Valor da compra\n",
              "0    06/06/2022     @ANA _LUCIA 321        R$ 836,5\n",
              "0    06/06/2022  DieGO ARMANDIU 210       R$ 573,33"
            ]
          },
          "execution_count": 24,
          "metadata": {},
          "output_type": "execute_result"
        }
      ],
      "source": [
        "# Destrincar las listas con explode\n",
        "datos = datos.explode(columnas[1:])\n",
        "datos.head(2)"
      ]
    },
    {
      "cell_type": "code",
      "execution_count": 25,
      "metadata": {},
      "outputs": [
        {
          "data": {
            "text/html": [
              "<div>\n",
              "<style scoped>\n",
              "    .dataframe tbody tr th:only-of-type {\n",
              "        vertical-align: middle;\n",
              "    }\n",
              "\n",
              "    .dataframe tbody tr th {\n",
              "        vertical-align: top;\n",
              "    }\n",
              "\n",
              "    .dataframe thead th {\n",
              "        text-align: right;\n",
              "    }\n",
              "</style>\n",
              "<table border=\"1\" class=\"dataframe\">\n",
              "  <thead>\n",
              "    <tr style=\"text-align: right;\">\n",
              "      <th></th>\n",
              "      <th>Data de venda</th>\n",
              "      <th>Cliente</th>\n",
              "      <th>Valor da compra</th>\n",
              "    </tr>\n",
              "  </thead>\n",
              "  <tbody>\n",
              "    <tr>\n",
              "      <th>0</th>\n",
              "      <td>06/06/2022</td>\n",
              "      <td>@ANA _LUCIA 321</td>\n",
              "      <td>R$ 836,5</td>\n",
              "    </tr>\n",
              "    <tr>\n",
              "      <th>1</th>\n",
              "      <td>06/06/2022</td>\n",
              "      <td>DieGO ARMANDIU 210</td>\n",
              "      <td>R$ 573,33</td>\n",
              "    </tr>\n",
              "  </tbody>\n",
              "</table>\n",
              "</div>"
            ],
            "text/plain": [
              "  Data de venda             Cliente Valor da compra\n",
              "0    06/06/2022     @ANA _LUCIA 321        R$ 836,5\n",
              "1    06/06/2022  DieGO ARMANDIU 210       R$ 573,33"
            ]
          },
          "execution_count": 25,
          "metadata": {},
          "output_type": "execute_result"
        }
      ],
      "source": [
        "# Resetear los index de las líneas\n",
        "datos.reset_index(drop=True,inplace=True)\n",
        "# Observar el DataFrame\n",
        "datos.head(2)"
      ]
    },
    {
      "cell_type": "code",
      "execution_count": 26,
      "metadata": {},
      "outputs": [
        {
          "name": "stdout",
          "output_type": "stream",
          "text": [
            "<class 'pandas.core.frame.DataFrame'>\n",
            "RangeIndex: 20 entries, 0 to 19\n",
            "Data columns (total 3 columns):\n",
            " #   Column           Non-Null Count  Dtype \n",
            "---  ------           --------------  ----- \n",
            " 0   Data de venda    20 non-null     object\n",
            " 1   Cliente          20 non-null     object\n",
            " 2   Valor da compra  20 non-null     object\n",
            "dtypes: object(3)\n",
            "memory usage: 608.0+ bytes\n"
          ]
        }
      ],
      "source": [
        "# Verificar los tipos de datos con info\n",
        "datos.info()"
      ]
    },
    {
      "cell_type": "code",
      "execution_count": 28,
      "metadata": {},
      "outputs": [
        {
          "data": {
            "text/plain": [
              "0     R$ 836,5\n",
              "1    R$ 573,33\n",
              "Name: Valor da compra, dtype: object"
            ]
          },
          "execution_count": 28,
          "metadata": {},
          "output_type": "execute_result"
        }
      ],
      "source": [
        "# La columna numérica es el 'Valor da compra'\n",
        "datos['Valor da compra'].head(2)"
      ]
    },
    {
      "cell_type": "code",
      "execution_count": 29,
      "metadata": {},
      "outputs": [],
      "source": [
        "# Iniciar la transformación\n",
        "# Import de la biblioteca numpy\n",
        "import numpy as np\n"
      ]
    },
    {
      "cell_type": "code",
      "execution_count": 30,
      "metadata": {},
      "outputs": [],
      "source": [
        "# Remover los textos presentes en la base\n",
        "# Cambiar las comas separadoras del decimal por punto\n",
        "datos['Valor da compra'] = datos['Valor da compra'].apply(lambda x: x.replace('R$ ', '').replace(',','.').strip())"
      ]
    },
    {
      "cell_type": "code",
      "execution_count": 31,
      "metadata": {},
      "outputs": [
        {
          "data": {
            "text/plain": [
              "0     836.5\n",
              "1    573.33\n",
              "Name: Valor da compra, dtype: object"
            ]
          },
          "execution_count": 31,
          "metadata": {},
          "output_type": "execute_result"
        }
      ],
      "source": [
        "# La columna numérica es el 'Valor da compra' - comprobamos\n",
        "datos['Valor da compra'].head(2)"
      ]
    },
    {
      "cell_type": "code",
      "execution_count": 32,
      "metadata": {},
      "outputs": [
        {
          "name": "stdout",
          "output_type": "stream",
          "text": [
            "<class 'pandas.core.frame.DataFrame'>\n",
            "RangeIndex: 20 entries, 0 to 19\n",
            "Data columns (total 3 columns):\n",
            " #   Column           Non-Null Count  Dtype  \n",
            "---  ------           --------------  -----  \n",
            " 0   Data de venda    20 non-null     object \n",
            " 1   Cliente          20 non-null     object \n",
            " 2   Valor da compra  20 non-null     float64\n",
            "dtypes: float64(1), object(2)\n",
            "memory usage: 608.0+ bytes\n"
          ]
        }
      ],
      "source": [
        "# Cambiar los tipo de datos para float\n",
        "datos['Valor da compra'] = datos['Valor da compra'].astype(np.float64)\n",
        "\n",
        "# Verificar la transformación\n",
        "datos.info()"
      ]
    },
    {
      "cell_type": "code",
      "execution_count": 33,
      "metadata": {},
      "outputs": [
        {
          "data": {
            "text/plain": [
              "0       @ANA _LUCIA 321\n",
              "1    DieGO ARMANDIU 210\n",
              "2    DieGO ARMANDIU 210\n",
              "3    DieGO ARMANDIU 210\n",
              "4    Isabely JOanes 738\n",
              "Name: Cliente, dtype: object"
            ]
          },
          "execution_count": 33,
          "metadata": {},
          "output_type": "execute_result"
        }
      ],
      "source": [
        "datos['Cliente'].head()"
      ]
    },
    {
      "cell_type": "code",
      "execution_count": 36,
      "metadata": {},
      "outputs": [
        {
          "data": {
            "text/plain": [
              "0        @ana _lucia 321\n",
              "1     diego armandiu 210\n",
              "2     diego armandiu 210\n",
              "3     diego armandiu 210\n",
              "4     isabely joanes 738\n",
              "5     isabely joanes 738\n",
              "6     isabely joanes 738\n",
              "7     isabely joanes 738\n",
              "8     isabely joanes 738\n",
              "9       joão gabriel 671\n",
              "10    julya meireles 914\n",
              "11    julya meireles 914\n",
              "12    julya meireles 914\n",
              "13       maria julia 444\n",
              "14       maria julia 444\n",
              "15       maria julia 444\n",
              "16       maria julia 444\n",
              "17       pedro pasco 812\n",
              "18      paulo castro 481\n",
              "19     thiago fritzz 883\n",
              "Name: Cliente, dtype: object"
            ]
          },
          "execution_count": 36,
          "metadata": {},
          "output_type": "execute_result"
        }
      ],
      "source": [
        "# Transformar los textos de Cliente para texto en minúscula\n",
        "datos['Cliente'] = datos['Cliente'].str.lower()\n",
        "datos['Cliente']"
      ]
    },
    {
      "cell_type": "code",
      "execution_count": 37,
      "metadata": {},
      "outputs": [
        {
          "data": {
            "text/plain": [
              "0          ana lucia \n",
              "1     diego armandiu \n",
              "2     diego armandiu \n",
              "3     diego armandiu \n",
              "4     isabely joanes \n",
              "5     isabely joanes \n",
              "6     isabely joanes \n",
              "7     isabely joanes \n",
              "8     isabely joanes \n",
              "9        joo gabriel \n",
              "10    julya meireles \n",
              "11    julya meireles \n",
              "12    julya meireles \n",
              "13       maria julia \n",
              "14       maria julia \n",
              "15       maria julia \n",
              "16       maria julia \n",
              "17       pedro pasco \n",
              "18      paulo castro \n",
              "19     thiago fritzz \n",
              "Name: Cliente, dtype: object"
            ]
          },
          "execution_count": 37,
          "metadata": {},
          "output_type": "execute_result"
        }
      ],
      "source": [
        "# Opción de substitución - necesario verificar el resultado de la substitución\n",
        "# Regex no selecciona todas las letras de a-z y espacios en blanco ' '\n",
        "# Todo que satisface el regex es borrado\n",
        "datos['Cliente'].str.replace('[^a-z ]', '', regex=True)"
      ]
    },
    {
      "cell_type": "code",
      "execution_count": 38,
      "metadata": {},
      "outputs": [
        {
          "data": {
            "text/html": [
              "<div>\n",
              "<style scoped>\n",
              "    .dataframe tbody tr th:only-of-type {\n",
              "        vertical-align: middle;\n",
              "    }\n",
              "\n",
              "    .dataframe tbody tr th {\n",
              "        vertical-align: top;\n",
              "    }\n",
              "\n",
              "    .dataframe thead th {\n",
              "        text-align: right;\n",
              "    }\n",
              "</style>\n",
              "<table border=\"1\" class=\"dataframe\">\n",
              "  <thead>\n",
              "    <tr style=\"text-align: right;\">\n",
              "      <th></th>\n",
              "      <th>Data de venda</th>\n",
              "      <th>Cliente</th>\n",
              "      <th>Valor da compra</th>\n",
              "    </tr>\n",
              "  </thead>\n",
              "  <tbody>\n",
              "    <tr>\n",
              "      <th>0</th>\n",
              "      <td>06/06/2022</td>\n",
              "      <td>ana lucia</td>\n",
              "      <td>836.50</td>\n",
              "    </tr>\n",
              "    <tr>\n",
              "      <th>1</th>\n",
              "      <td>06/06/2022</td>\n",
              "      <td>diego armandiu</td>\n",
              "      <td>573.33</td>\n",
              "    </tr>\n",
              "    <tr>\n",
              "      <th>2</th>\n",
              "      <td>06/06/2022</td>\n",
              "      <td>diego armandiu</td>\n",
              "      <td>392.80</td>\n",
              "    </tr>\n",
              "    <tr>\n",
              "      <th>3</th>\n",
              "      <td>06/06/2022</td>\n",
              "      <td>diego armandiu</td>\n",
              "      <td>512.34</td>\n",
              "    </tr>\n",
              "    <tr>\n",
              "      <th>4</th>\n",
              "      <td>07/06/2022</td>\n",
              "      <td>isabely joanes</td>\n",
              "      <td>825.31</td>\n",
              "    </tr>\n",
              "  </tbody>\n",
              "</table>\n",
              "</div>"
            ],
            "text/plain": [
              "  Data de venda         Cliente  Valor da compra\n",
              "0    06/06/2022       ana lucia           836.50\n",
              "1    06/06/2022  diego armandiu           573.33\n",
              "2    06/06/2022  diego armandiu           392.80\n",
              "3    06/06/2022  diego armandiu           512.34\n",
              "4    07/06/2022  isabely joanes           825.31"
            ]
          },
          "execution_count": 38,
          "metadata": {},
          "output_type": "execute_result"
        }
      ],
      "source": [
        "# Realizar la substitución de los datos en la columna textual\n",
        "datos['Cliente'] = datos['Cliente'].str.replace('[^a-z ]', '', regex=True).str.strip()\n",
        "\n",
        "# Visualizar el resultado final\n",
        "datos.head()"
      ]
    },
    {
      "cell_type": "code",
      "execution_count": 39,
      "metadata": {},
      "outputs": [
        {
          "data": {
            "text/html": [
              "<div>\n",
              "<style scoped>\n",
              "    .dataframe tbody tr th:only-of-type {\n",
              "        vertical-align: middle;\n",
              "    }\n",
              "\n",
              "    .dataframe tbody tr th {\n",
              "        vertical-align: top;\n",
              "    }\n",
              "\n",
              "    .dataframe thead th {\n",
              "        text-align: right;\n",
              "    }\n",
              "</style>\n",
              "<table border=\"1\" class=\"dataframe\">\n",
              "  <thead>\n",
              "    <tr style=\"text-align: right;\">\n",
              "      <th></th>\n",
              "      <th>Data de venda</th>\n",
              "      <th>Cliente</th>\n",
              "      <th>Valor da compra</th>\n",
              "    </tr>\n",
              "  </thead>\n",
              "  <tbody>\n",
              "    <tr>\n",
              "      <th>0</th>\n",
              "      <td>2022-06-06</td>\n",
              "      <td>ana lucia</td>\n",
              "      <td>836.50</td>\n",
              "    </tr>\n",
              "    <tr>\n",
              "      <th>1</th>\n",
              "      <td>2022-06-06</td>\n",
              "      <td>diego armandiu</td>\n",
              "      <td>573.33</td>\n",
              "    </tr>\n",
              "    <tr>\n",
              "      <th>2</th>\n",
              "      <td>2022-06-06</td>\n",
              "      <td>diego armandiu</td>\n",
              "      <td>392.80</td>\n",
              "    </tr>\n",
              "    <tr>\n",
              "      <th>3</th>\n",
              "      <td>2022-06-06</td>\n",
              "      <td>diego armandiu</td>\n",
              "      <td>512.34</td>\n",
              "    </tr>\n",
              "    <tr>\n",
              "      <th>4</th>\n",
              "      <td>2022-06-07</td>\n",
              "      <td>isabely joanes</td>\n",
              "      <td>825.31</td>\n",
              "    </tr>\n",
              "    <tr>\n",
              "      <th>5</th>\n",
              "      <td>2022-06-07</td>\n",
              "      <td>isabely joanes</td>\n",
              "      <td>168.07</td>\n",
              "    </tr>\n",
              "    <tr>\n",
              "      <th>6</th>\n",
              "      <td>2022-06-07</td>\n",
              "      <td>isabely joanes</td>\n",
              "      <td>339.18</td>\n",
              "    </tr>\n",
              "    <tr>\n",
              "      <th>7</th>\n",
              "      <td>2022-06-07</td>\n",
              "      <td>isabely joanes</td>\n",
              "      <td>314.69</td>\n",
              "    </tr>\n",
              "    <tr>\n",
              "      <th>8</th>\n",
              "      <td>2022-06-08</td>\n",
              "      <td>isabely joanes</td>\n",
              "      <td>682.05</td>\n",
              "    </tr>\n",
              "    <tr>\n",
              "      <th>9</th>\n",
              "      <td>2022-06-08</td>\n",
              "      <td>joo gabriel</td>\n",
              "      <td>386.34</td>\n",
              "    </tr>\n",
              "    <tr>\n",
              "      <th>10</th>\n",
              "      <td>2022-06-08</td>\n",
              "      <td>julya meireles</td>\n",
              "      <td>622.65</td>\n",
              "    </tr>\n",
              "    <tr>\n",
              "      <th>11</th>\n",
              "      <td>2022-06-08</td>\n",
              "      <td>julya meireles</td>\n",
              "      <td>630.79</td>\n",
              "    </tr>\n",
              "    <tr>\n",
              "      <th>12</th>\n",
              "      <td>2022-06-09</td>\n",
              "      <td>julya meireles</td>\n",
              "      <td>390.30</td>\n",
              "    </tr>\n",
              "    <tr>\n",
              "      <th>13</th>\n",
              "      <td>2022-06-09</td>\n",
              "      <td>maria julia</td>\n",
              "      <td>759.16</td>\n",
              "    </tr>\n",
              "    <tr>\n",
              "      <th>14</th>\n",
              "      <td>2022-06-09</td>\n",
              "      <td>maria julia</td>\n",
              "      <td>334.47</td>\n",
              "    </tr>\n",
              "    <tr>\n",
              "      <th>15</th>\n",
              "      <td>2022-06-09</td>\n",
              "      <td>maria julia</td>\n",
              "      <td>678.78</td>\n",
              "    </tr>\n",
              "    <tr>\n",
              "      <th>16</th>\n",
              "      <td>2022-06-10</td>\n",
              "      <td>maria julia</td>\n",
              "      <td>314.24</td>\n",
              "    </tr>\n",
              "    <tr>\n",
              "      <th>17</th>\n",
              "      <td>2022-06-10</td>\n",
              "      <td>pedro pasco</td>\n",
              "      <td>311.15</td>\n",
              "    </tr>\n",
              "    <tr>\n",
              "      <th>18</th>\n",
              "      <td>2022-06-10</td>\n",
              "      <td>paulo castro</td>\n",
              "      <td>899.16</td>\n",
              "    </tr>\n",
              "    <tr>\n",
              "      <th>19</th>\n",
              "      <td>2022-06-10</td>\n",
              "      <td>thiago fritzz</td>\n",
              "      <td>885.24</td>\n",
              "    </tr>\n",
              "  </tbody>\n",
              "</table>\n",
              "</div>"
            ],
            "text/plain": [
              "   Data de venda         Cliente  Valor da compra\n",
              "0     2022-06-06       ana lucia           836.50\n",
              "1     2022-06-06  diego armandiu           573.33\n",
              "2     2022-06-06  diego armandiu           392.80\n",
              "3     2022-06-06  diego armandiu           512.34\n",
              "4     2022-06-07  isabely joanes           825.31\n",
              "5     2022-06-07  isabely joanes           168.07\n",
              "6     2022-06-07  isabely joanes           339.18\n",
              "7     2022-06-07  isabely joanes           314.69\n",
              "8     2022-06-08  isabely joanes           682.05\n",
              "9     2022-06-08     joo gabriel           386.34\n",
              "10    2022-06-08  julya meireles           622.65\n",
              "11    2022-06-08  julya meireles           630.79\n",
              "12    2022-06-09  julya meireles           390.30\n",
              "13    2022-06-09     maria julia           759.16\n",
              "14    2022-06-09     maria julia           334.47\n",
              "15    2022-06-09     maria julia           678.78\n",
              "16    2022-06-10     maria julia           314.24\n",
              "17    2022-06-10     pedro pasco           311.15\n",
              "18    2022-06-10    paulo castro           899.16\n",
              "19    2022-06-10   thiago fritzz           885.24"
            ]
          },
          "execution_count": 39,
          "metadata": {},
          "output_type": "execute_result"
        }
      ],
      "source": [
        "# Tarea final.....abajo\n",
        "\n",
        "\n",
        "# Transformar para el tipo datetime definiendo el formato de fecha como DD/MM/AAAA ('%d/%m/%Y')\n",
        "datos['Data de venda'] = pd.to_datetime(datos['Data de venda'], format='%d/%m/%Y')\n",
        "# Visualizar el resultado\n",
        "datos"
      ]
    },
    {
      "cell_type": "code",
      "execution_count": 40,
      "metadata": {},
      "outputs": [
        {
          "name": "stdout",
          "output_type": "stream",
          "text": [
            "<class 'pandas.core.frame.DataFrame'>\n",
            "RangeIndex: 20 entries, 0 to 19\n",
            "Data columns (total 3 columns):\n",
            " #   Column           Non-Null Count  Dtype         \n",
            "---  ------           --------------  -----         \n",
            " 0   Data de venda    20 non-null     datetime64[ns]\n",
            " 1   Cliente          20 non-null     object        \n",
            " 2   Valor da compra  20 non-null     float64       \n",
            "dtypes: datetime64[ns](1), float64(1), object(1)\n",
            "memory usage: 608.0+ bytes\n"
          ]
        }
      ],
      "source": [
        "# Verificar el resultado de la transformación\n",
        "datos.info()"
      ]
    },
    {
      "cell_type": "code",
      "execution_count": 41,
      "metadata": {},
      "outputs": [
        {
          "data": {
            "text/plain": [
              "Cliente\n",
              "ana lucia          836.50\n",
              "diego armandiu    1478.47\n",
              "isabely joanes    2329.30\n",
              "joo gabriel        386.34\n",
              "julya meireles    1643.74\n",
              "maria julia       2086.65\n",
              "paulo castro       899.16\n",
              "pedro pasco        311.15\n",
              "thiago fritzz      885.24\n",
              "Name: Valor da compra, dtype: float64"
            ]
          },
          "execution_count": 41,
          "metadata": {},
          "output_type": "execute_result"
        }
      ],
      "source": [
        "# Calcular el total recaudado en compras por cada cliente\n",
        "total_compras = datos.groupby(['Cliente'])['Valor da compra'].sum()\n",
        "# Visualizar el resultado\n",
        "total_compras"
      ]
    },
    {
      "cell_type": "markdown",
      "metadata": {},
      "source": [
        "# Tarea1 : finalizada con éxito!!!! "
      ]
    },
    {
      "cell_type": "markdown",
      "metadata": {},
      "source": [
        "### Projecto Desafio 2: Administración de Condominios\n",
        "\n"
      ]
    },
    {
      "cell_type": "code",
      "execution_count": null,
      "metadata": {},
      "outputs": [],
      "source": [
        "# Import de pandas\n",
        "import pandas as pd\n",
        "\n",
        "# Leer el archivo json con read_json\n",
        "datos = pd.read_json('../data/dados_locacao_imoveis.json')\n",
        "\n",
        "# Aplicar json_normalize en la columna dados_locacao\n",
        "datos = pd.json_normalize(datos['dados_locacao']) # Columna dados_locacao\n",
        "\n",
        "# Mostrar valores\n",
        "datos.tail(3)\n",
        "\n",
        "# Colectar los valores de las columnas y verificar\n",
        "columnas = list(datos.columns)\n",
        "columnas\n",
        "\n",
        "# Destrincar las listas con explode\n",
        "datos = datos.explode(columnas[1:])\n",
        "\n",
        "# Resetear los index de las líneas\n",
        "datos.reset_index(drop=True,inplace=True)\n",
        "\n",
        "# Observar el DataFrame\n",
        "datos\n",
        "\n",
        "# Verificar los tipos de datos con info\n",
        "datos.info()\n",
        "\n",
        "# La columna numérica es el 'valor_aluguel'\n",
        "datos['valor_aluguel']\n",
        "\n",
        "# Iniciar la transformación\n",
        "# Import de la biblioteca numpy\n",
        "import numpy as np\n",
        "\n",
        "# Remover los textos presentes en la base\n",
        "# Cambiar las comas separadoras del decimal por punto\n",
        "datos['valor_aluguel'] = datos['valor_aluguel'].apply(lambda x: x.replace('$ ', '').replace(' reais', '').replace(',','.').strip())\n",
        "\n",
        "# Cambiar los tipos de datos para float\n",
        "datos['valor_aluguel'] = datos['valor_aluguel'].astype(np.float64)\n",
        "\n",
        "# Verificar la transformación\n",
        "datos.info()\n",
        "\n",
        "# Opción de substitución - necesario verificar el resultado de la substitución\n",
        "# Fue necesario adicionar la barra '\\' para ser considerados los paréntesis como caracteres literales\n",
        "datos['apartamento'].str.replace(r' \\(blocoAP\\)', '', regex=True)\n",
        "\n",
        "# Realizar la substitución de los datos en la columna textual\n",
        "datos['apartamento'] = datos['apartamento'].str.replace(r' \\(blocoAP\\)', '', regex=True)\n",
        "# Visualizar el resultado final\n",
        "datos\n",
        "\n",
        "\n",
        "# Tarea final....abajo\n",
        "\n",
        "# Transformar para el tipo datetime definiendo el formato de fecha como DD/MM/AAAA ('%d/%m/%Y')\n",
        "datos['datas_combinadas_pagamento'] = pd.to_datetime(datos['datas_combinadas_pagamento'], format='%d/%m/%Y')\n",
        "datos['datas_de_pagamento'] = pd.to_datetime(datos['datas_de_pagamento'], format='%d/%m/%Y')\n",
        "\n",
        "# Visualizar el resultado\n",
        "datos\n",
        "\n",
        "# Para contribuir en la solución del contexto es posible calcular la diferencia de días\n",
        "# entre la fecha combinada y la fecha de pagamento con dt.days\n",
        "datos['atraso'] = (datos['datas_de_pagamento'] - datos['datas_combinadas_pagamento']).dt.days\n",
        "\n",
        "# Observar el nuevo DataFrame\n",
        "datos\n",
        "\n",
        "# Calcular el promedio de tiempo de atraso por apartamentos\n",
        "media_atraso = datos.groupby(['apartamento'])['atraso'].mean()\n",
        "\n",
        "# Visualizar el resultado\n",
        "media_atraso"
      ]
    },
    {
      "cell_type": "markdown",
      "metadata": {},
      "source": [
        "# Tarea Final 2"
      ]
    },
    {
      "cell_type": "code",
      "execution_count": 42,
      "metadata": {},
      "outputs": [
        {
          "data": {
            "text/html": [
              "<div>\n",
              "<style scoped>\n",
              "    .dataframe tbody tr th:only-of-type {\n",
              "        vertical-align: middle;\n",
              "    }\n",
              "\n",
              "    .dataframe tbody tr th {\n",
              "        vertical-align: top;\n",
              "    }\n",
              "\n",
              "    .dataframe thead th {\n",
              "        text-align: right;\n",
              "    }\n",
              "</style>\n",
              "<table border=\"1\" class=\"dataframe\">\n",
              "  <thead>\n",
              "    <tr style=\"text-align: right;\">\n",
              "      <th></th>\n",
              "      <th>dados_locacao</th>\n",
              "    </tr>\n",
              "  </thead>\n",
              "  <tbody>\n",
              "    <tr>\n",
              "      <th>0</th>\n",
              "      <td>{'apartamento': 'A101 (blocoAP)', 'datas_combi...</td>\n",
              "    </tr>\n",
              "    <tr>\n",
              "      <th>1</th>\n",
              "      <td>{'apartamento': 'A102 (blocoAP)', 'datas_combi...</td>\n",
              "    </tr>\n",
              "    <tr>\n",
              "      <th>2</th>\n",
              "      <td>{'apartamento': 'B201 (blocoAP)', 'datas_combi...</td>\n",
              "    </tr>\n",
              "  </tbody>\n",
              "</table>\n",
              "</div>"
            ],
            "text/plain": [
              "                                       dados_locacao\n",
              "0  {'apartamento': 'A101 (blocoAP)', 'datas_combi...\n",
              "1  {'apartamento': 'A102 (blocoAP)', 'datas_combi...\n",
              "2  {'apartamento': 'B201 (blocoAP)', 'datas_combi..."
            ]
          },
          "execution_count": 42,
          "metadata": {},
          "output_type": "execute_result"
        }
      ],
      "source": [
        "# Import de pandas\n",
        "import pandas as pd\n",
        "\n",
        "# Leer el archivo json con read_json\n",
        "datos = pd.read_json('../data/dados_locacao_imoveis.json')\n",
        "datos.head(3)"
      ]
    },
    {
      "cell_type": "code",
      "execution_count": 43,
      "metadata": {},
      "outputs": [
        {
          "data": {
            "text/html": [
              "<div>\n",
              "<style scoped>\n",
              "    .dataframe tbody tr th:only-of-type {\n",
              "        vertical-align: middle;\n",
              "    }\n",
              "\n",
              "    .dataframe tbody tr th {\n",
              "        vertical-align: top;\n",
              "    }\n",
              "\n",
              "    .dataframe thead th {\n",
              "        text-align: right;\n",
              "    }\n",
              "</style>\n",
              "<table border=\"1\" class=\"dataframe\">\n",
              "  <thead>\n",
              "    <tr style=\"text-align: right;\">\n",
              "      <th></th>\n",
              "      <th>apartamento</th>\n",
              "      <th>datas_combinadas_pagamento</th>\n",
              "      <th>datas_de_pagamento</th>\n",
              "      <th>valor_aluguel</th>\n",
              "    </tr>\n",
              "  </thead>\n",
              "  <tbody>\n",
              "    <tr>\n",
              "      <th>12</th>\n",
              "      <td>G701 (blocoAP)</td>\n",
              "      <td>[13/06/2022, 13/07/2022]</td>\n",
              "      <td>[19/06/2022, 20/07/2022]</td>\n",
              "      <td>[$ 2200,0 reais, $ 1200,0 reais]</td>\n",
              "    </tr>\n",
              "    <tr>\n",
              "      <th>13</th>\n",
              "      <td>G702 (blocoAP)</td>\n",
              "      <td>[14/06/2022, 14/07/2022]</td>\n",
              "      <td>[15/06/2022, 17/07/2022]</td>\n",
              "      <td>[$ 2300,0 reais, $ 2100,0 reais]</td>\n",
              "    </tr>\n",
              "    <tr>\n",
              "      <th>14</th>\n",
              "      <td>H801 (blocoAP)</td>\n",
              "      <td>[15/06/2022, 15/07/2022]</td>\n",
              "      <td>[18/06/2022, 16/07/2022]</td>\n",
              "      <td>[$ 2400,0 reais, $ 2200,0 reais]</td>\n",
              "    </tr>\n",
              "  </tbody>\n",
              "</table>\n",
              "</div>"
            ],
            "text/plain": [
              "       apartamento datas_combinadas_pagamento        datas_de_pagamento  \\\n",
              "12  G701 (blocoAP)   [13/06/2022, 13/07/2022]  [19/06/2022, 20/07/2022]   \n",
              "13  G702 (blocoAP)   [14/06/2022, 14/07/2022]  [15/06/2022, 17/07/2022]   \n",
              "14  H801 (blocoAP)   [15/06/2022, 15/07/2022]  [18/06/2022, 16/07/2022]   \n",
              "\n",
              "                       valor_aluguel  \n",
              "12  [$ 2200,0 reais, $ 1200,0 reais]  \n",
              "13  [$ 2300,0 reais, $ 2100,0 reais]  \n",
              "14  [$ 2400,0 reais, $ 2200,0 reais]  "
            ]
          },
          "execution_count": 43,
          "metadata": {},
          "output_type": "execute_result"
        }
      ],
      "source": [
        "# Aplicar json_normalize en la columna dados_locacao\n",
        "datos = pd.json_normalize(datos['dados_locacao']) # Columna dados_locacao\n",
        "\n",
        "# Mostrar valores\n",
        "datos.tail(3)"
      ]
    },
    {
      "cell_type": "code",
      "execution_count": 44,
      "metadata": {},
      "outputs": [
        {
          "data": {
            "text/plain": [
              "['apartamento',\n",
              " 'datas_combinadas_pagamento',\n",
              " 'datas_de_pagamento',\n",
              " 'valor_aluguel']"
            ]
          },
          "execution_count": 44,
          "metadata": {},
          "output_type": "execute_result"
        }
      ],
      "source": [
        "# Colectar los valores de las columnas y verificar\n",
        "columnas = list(datos.columns)\n",
        "columnas"
      ]
    },
    {
      "cell_type": "code",
      "execution_count": 45,
      "metadata": {},
      "outputs": [
        {
          "data": {
            "text/html": [
              "<div>\n",
              "<style scoped>\n",
              "    .dataframe tbody tr th:only-of-type {\n",
              "        vertical-align: middle;\n",
              "    }\n",
              "\n",
              "    .dataframe tbody tr th {\n",
              "        vertical-align: top;\n",
              "    }\n",
              "\n",
              "    .dataframe thead th {\n",
              "        text-align: right;\n",
              "    }\n",
              "</style>\n",
              "<table border=\"1\" class=\"dataframe\">\n",
              "  <thead>\n",
              "    <tr style=\"text-align: right;\">\n",
              "      <th></th>\n",
              "      <th>apartamento</th>\n",
              "      <th>datas_combinadas_pagamento</th>\n",
              "      <th>datas_de_pagamento</th>\n",
              "      <th>valor_aluguel</th>\n",
              "    </tr>\n",
              "  </thead>\n",
              "  <tbody>\n",
              "    <tr>\n",
              "      <th>0</th>\n",
              "      <td>A101 (blocoAP)</td>\n",
              "      <td>01/06/2022</td>\n",
              "      <td>05/06/2022</td>\n",
              "      <td>$ 1000,0 reais</td>\n",
              "    </tr>\n",
              "    <tr>\n",
              "      <th>0</th>\n",
              "      <td>A101 (blocoAP)</td>\n",
              "      <td>01/07/2022</td>\n",
              "      <td>03/07/2022</td>\n",
              "      <td>$ 2500,0 reais</td>\n",
              "    </tr>\n",
              "    <tr>\n",
              "      <th>1</th>\n",
              "      <td>A102 (blocoAP)</td>\n",
              "      <td>02/06/2022</td>\n",
              "      <td>02/06/2022</td>\n",
              "      <td>$ 1100,0 reais</td>\n",
              "    </tr>\n",
              "  </tbody>\n",
              "</table>\n",
              "</div>"
            ],
            "text/plain": [
              "      apartamento datas_combinadas_pagamento datas_de_pagamento  \\\n",
              "0  A101 (blocoAP)                 01/06/2022         05/06/2022   \n",
              "0  A101 (blocoAP)                 01/07/2022         03/07/2022   \n",
              "1  A102 (blocoAP)                 02/06/2022         02/06/2022   \n",
              "\n",
              "    valor_aluguel  \n",
              "0  $ 1000,0 reais  \n",
              "0  $ 2500,0 reais  \n",
              "1  $ 1100,0 reais  "
            ]
          },
          "execution_count": 45,
          "metadata": {},
          "output_type": "execute_result"
        }
      ],
      "source": [
        "# Destrincar las listas con explode\n",
        "datos = datos.explode(columnas[1:])\n",
        "datos.head(3)"
      ]
    },
    {
      "cell_type": "code",
      "execution_count": 46,
      "metadata": {},
      "outputs": [
        {
          "data": {
            "text/html": [
              "<div>\n",
              "<style scoped>\n",
              "    .dataframe tbody tr th:only-of-type {\n",
              "        vertical-align: middle;\n",
              "    }\n",
              "\n",
              "    .dataframe tbody tr th {\n",
              "        vertical-align: top;\n",
              "    }\n",
              "\n",
              "    .dataframe thead th {\n",
              "        text-align: right;\n",
              "    }\n",
              "</style>\n",
              "<table border=\"1\" class=\"dataframe\">\n",
              "  <thead>\n",
              "    <tr style=\"text-align: right;\">\n",
              "      <th></th>\n",
              "      <th>apartamento</th>\n",
              "      <th>datas_combinadas_pagamento</th>\n",
              "      <th>datas_de_pagamento</th>\n",
              "      <th>valor_aluguel</th>\n",
              "    </tr>\n",
              "  </thead>\n",
              "  <tbody>\n",
              "    <tr>\n",
              "      <th>0</th>\n",
              "      <td>A101 (blocoAP)</td>\n",
              "      <td>01/06/2022</td>\n",
              "      <td>05/06/2022</td>\n",
              "      <td>$ 1000,0 reais</td>\n",
              "    </tr>\n",
              "    <tr>\n",
              "      <th>1</th>\n",
              "      <td>A101 (blocoAP)</td>\n",
              "      <td>01/07/2022</td>\n",
              "      <td>03/07/2022</td>\n",
              "      <td>$ 2500,0 reais</td>\n",
              "    </tr>\n",
              "    <tr>\n",
              "      <th>2</th>\n",
              "      <td>A102 (blocoAP)</td>\n",
              "      <td>02/06/2022</td>\n",
              "      <td>02/06/2022</td>\n",
              "      <td>$ 1100,0 reais</td>\n",
              "    </tr>\n",
              "  </tbody>\n",
              "</table>\n",
              "</div>"
            ],
            "text/plain": [
              "      apartamento datas_combinadas_pagamento datas_de_pagamento  \\\n",
              "0  A101 (blocoAP)                 01/06/2022         05/06/2022   \n",
              "1  A101 (blocoAP)                 01/07/2022         03/07/2022   \n",
              "2  A102 (blocoAP)                 02/06/2022         02/06/2022   \n",
              "\n",
              "    valor_aluguel  \n",
              "0  $ 1000,0 reais  \n",
              "1  $ 2500,0 reais  \n",
              "2  $ 1100,0 reais  "
            ]
          },
          "execution_count": 46,
          "metadata": {},
          "output_type": "execute_result"
        }
      ],
      "source": [
        "# Resetear los index de las líneas\n",
        "datos.reset_index(drop=True,inplace=True)\n",
        "datos.head(3)"
      ]
    },
    {
      "cell_type": "code",
      "execution_count": 47,
      "metadata": {},
      "outputs": [
        {
          "name": "stdout",
          "output_type": "stream",
          "text": [
            "<class 'pandas.core.frame.DataFrame'>\n",
            "RangeIndex: 30 entries, 0 to 29\n",
            "Data columns (total 4 columns):\n",
            " #   Column                      Non-Null Count  Dtype \n",
            "---  ------                      --------------  ----- \n",
            " 0   apartamento                 30 non-null     object\n",
            " 1   datas_combinadas_pagamento  30 non-null     object\n",
            " 2   datas_de_pagamento          30 non-null     object\n",
            " 3   valor_aluguel               30 non-null     object\n",
            "dtypes: object(4)\n",
            "memory usage: 1.1+ KB\n"
          ]
        }
      ],
      "source": [
        "# Verificar los tipos de datos con info\n",
        "datos.info()"
      ]
    },
    {
      "cell_type": "code",
      "execution_count": 48,
      "metadata": {},
      "outputs": [
        {
          "data": {
            "text/plain": [
              "0    $ 1000,0 reais\n",
              "1    $ 2500,0 reais\n",
              "2    $ 1100,0 reais\n",
              "Name: valor_aluguel, dtype: object"
            ]
          },
          "execution_count": 48,
          "metadata": {},
          "output_type": "execute_result"
        }
      ],
      "source": [
        "# La columna numérica es el 'valor_aluguel'\n",
        "datos['valor_aluguel'].head(3)"
      ]
    },
    {
      "cell_type": "code",
      "execution_count": 49,
      "metadata": {},
      "outputs": [
        {
          "data": {
            "text/plain": [
              "0    1000.0\n",
              "1    2500.0\n",
              "2    1100.0\n",
              "Name: valor_aluguel, dtype: object"
            ]
          },
          "execution_count": 49,
          "metadata": {},
          "output_type": "execute_result"
        }
      ],
      "source": [
        "# Iniciar la transformación\n",
        "# Import de la biblioteca numpy\n",
        "import numpy as np\n",
        "\n",
        "# Remover los textos presentes en la base\n",
        "# Cambiar las comas separadoras del decimal por punto\n",
        "datos['valor_aluguel'] = datos['valor_aluguel'].apply(lambda x: x.replace('$ ', '').replace(' reais', '').replace(',','.').strip())\n",
        "datos['valor_aluguel'].head(3)"
      ]
    },
    {
      "cell_type": "code",
      "execution_count": 50,
      "metadata": {},
      "outputs": [
        {
          "name": "stdout",
          "output_type": "stream",
          "text": [
            "<class 'pandas.core.frame.DataFrame'>\n",
            "RangeIndex: 30 entries, 0 to 29\n",
            "Data columns (total 4 columns):\n",
            " #   Column                      Non-Null Count  Dtype  \n",
            "---  ------                      --------------  -----  \n",
            " 0   apartamento                 30 non-null     object \n",
            " 1   datas_combinadas_pagamento  30 non-null     object \n",
            " 2   datas_de_pagamento          30 non-null     object \n",
            " 3   valor_aluguel               30 non-null     float64\n",
            "dtypes: float64(1), object(3)\n",
            "memory usage: 1.1+ KB\n"
          ]
        }
      ],
      "source": [
        "# Cambiar los tipos de datos para float\n",
        "datos['valor_aluguel'] = datos['valor_aluguel'].astype(np.float64)\n",
        "\n",
        "# Verificar la transformación\n",
        "datos.info()"
      ]
    },
    {
      "cell_type": "code",
      "execution_count": 52,
      "metadata": {},
      "outputs": [
        {
          "data": {
            "text/html": [
              "<div>\n",
              "<style scoped>\n",
              "    .dataframe tbody tr th:only-of-type {\n",
              "        vertical-align: middle;\n",
              "    }\n",
              "\n",
              "    .dataframe tbody tr th {\n",
              "        vertical-align: top;\n",
              "    }\n",
              "\n",
              "    .dataframe thead th {\n",
              "        text-align: right;\n",
              "    }\n",
              "</style>\n",
              "<table border=\"1\" class=\"dataframe\">\n",
              "  <thead>\n",
              "    <tr style=\"text-align: right;\">\n",
              "      <th></th>\n",
              "      <th>apartamento</th>\n",
              "      <th>datas_combinadas_pagamento</th>\n",
              "      <th>datas_de_pagamento</th>\n",
              "      <th>valor_aluguel</th>\n",
              "    </tr>\n",
              "  </thead>\n",
              "  <tbody>\n",
              "    <tr>\n",
              "      <th>0</th>\n",
              "      <td>A101</td>\n",
              "      <td>01/06/2022</td>\n",
              "      <td>05/06/2022</td>\n",
              "      <td>1000.0</td>\n",
              "    </tr>\n",
              "    <tr>\n",
              "      <th>1</th>\n",
              "      <td>A101</td>\n",
              "      <td>01/07/2022</td>\n",
              "      <td>03/07/2022</td>\n",
              "      <td>2500.0</td>\n",
              "    </tr>\n",
              "    <tr>\n",
              "      <th>2</th>\n",
              "      <td>A102</td>\n",
              "      <td>02/06/2022</td>\n",
              "      <td>02/06/2022</td>\n",
              "      <td>1100.0</td>\n",
              "    </tr>\n",
              "  </tbody>\n",
              "</table>\n",
              "</div>"
            ],
            "text/plain": [
              "  apartamento datas_combinadas_pagamento datas_de_pagamento  valor_aluguel\n",
              "0        A101                 01/06/2022         05/06/2022         1000.0\n",
              "1        A101                 01/07/2022         03/07/2022         2500.0\n",
              "2        A102                 02/06/2022         02/06/2022         1100.0"
            ]
          },
          "execution_count": 52,
          "metadata": {},
          "output_type": "execute_result"
        }
      ],
      "source": [
        "# Opción de substitución - necesario verificar el resultado de la substitución\n",
        "# Fue necesario adicionar la barra '\\' para ser considerados los paréntesis como caracteres literales\n",
        "datos['apartamento'].str.replace(r' \\(blocoAP\\)', '', regex=True)\n",
        "\n",
        "# Realizar la substitución de los datos en la columna textual\n",
        "datos['apartamento'] = datos['apartamento'].str.replace(r' \\(blocoAP\\)', '', regex=True)\n",
        "# Visualizar el resultado final\n",
        "datos.head(3)"
      ]
    },
    {
      "cell_type": "code",
      "execution_count": 54,
      "metadata": {},
      "outputs": [
        {
          "data": {
            "text/html": [
              "<div>\n",
              "<style scoped>\n",
              "    .dataframe tbody tr th:only-of-type {\n",
              "        vertical-align: middle;\n",
              "    }\n",
              "\n",
              "    .dataframe tbody tr th {\n",
              "        vertical-align: top;\n",
              "    }\n",
              "\n",
              "    .dataframe thead th {\n",
              "        text-align: right;\n",
              "    }\n",
              "</style>\n",
              "<table border=\"1\" class=\"dataframe\">\n",
              "  <thead>\n",
              "    <tr style=\"text-align: right;\">\n",
              "      <th></th>\n",
              "      <th>apartamento</th>\n",
              "      <th>datas_combinadas_pagamento</th>\n",
              "      <th>datas_de_pagamento</th>\n",
              "      <th>valor_aluguel</th>\n",
              "    </tr>\n",
              "  </thead>\n",
              "  <tbody>\n",
              "    <tr>\n",
              "      <th>0</th>\n",
              "      <td>A101</td>\n",
              "      <td>2022-06-01</td>\n",
              "      <td>2022-06-05</td>\n",
              "      <td>1000.0</td>\n",
              "    </tr>\n",
              "    <tr>\n",
              "      <th>1</th>\n",
              "      <td>A101</td>\n",
              "      <td>2022-07-01</td>\n",
              "      <td>2022-07-03</td>\n",
              "      <td>2500.0</td>\n",
              "    </tr>\n",
              "    <tr>\n",
              "      <th>2</th>\n",
              "      <td>A102</td>\n",
              "      <td>2022-06-02</td>\n",
              "      <td>2022-06-02</td>\n",
              "      <td>1100.0</td>\n",
              "    </tr>\n",
              "  </tbody>\n",
              "</table>\n",
              "</div>"
            ],
            "text/plain": [
              "  apartamento datas_combinadas_pagamento datas_de_pagamento  valor_aluguel\n",
              "0        A101                 2022-06-01         2022-06-05         1000.0\n",
              "1        A101                 2022-07-01         2022-07-03         2500.0\n",
              "2        A102                 2022-06-02         2022-06-02         1100.0"
            ]
          },
          "execution_count": 54,
          "metadata": {},
          "output_type": "execute_result"
        }
      ],
      "source": [
        "# Tarea final....abajo\n",
        "\n",
        "# Transformar para el tipo datetime definiendo el formato de fecha como DD/MM/AAAA ('%d/%m/%Y')\n",
        "datos['datas_combinadas_pagamento'] = pd.to_datetime(datos['datas_combinadas_pagamento'], format='%d/%m/%Y')\n",
        "datos['datas_de_pagamento'] = pd.to_datetime(datos['datas_de_pagamento'], format='%d/%m/%Y')\n",
        "\n",
        "# Visualizar el resultado\n",
        "datos.head(3)"
      ]
    },
    {
      "cell_type": "code",
      "execution_count": 55,
      "metadata": {},
      "outputs": [
        {
          "data": {
            "text/html": [
              "<div>\n",
              "<style scoped>\n",
              "    .dataframe tbody tr th:only-of-type {\n",
              "        vertical-align: middle;\n",
              "    }\n",
              "\n",
              "    .dataframe tbody tr th {\n",
              "        vertical-align: top;\n",
              "    }\n",
              "\n",
              "    .dataframe thead th {\n",
              "        text-align: right;\n",
              "    }\n",
              "</style>\n",
              "<table border=\"1\" class=\"dataframe\">\n",
              "  <thead>\n",
              "    <tr style=\"text-align: right;\">\n",
              "      <th></th>\n",
              "      <th>apartamento</th>\n",
              "      <th>datas_combinadas_pagamento</th>\n",
              "      <th>datas_de_pagamento</th>\n",
              "      <th>valor_aluguel</th>\n",
              "      <th>atraso</th>\n",
              "    </tr>\n",
              "  </thead>\n",
              "  <tbody>\n",
              "    <tr>\n",
              "      <th>0</th>\n",
              "      <td>A101</td>\n",
              "      <td>2022-06-01</td>\n",
              "      <td>2022-06-05</td>\n",
              "      <td>1000.0</td>\n",
              "      <td>4</td>\n",
              "    </tr>\n",
              "    <tr>\n",
              "      <th>1</th>\n",
              "      <td>A101</td>\n",
              "      <td>2022-07-01</td>\n",
              "      <td>2022-07-03</td>\n",
              "      <td>2500.0</td>\n",
              "      <td>2</td>\n",
              "    </tr>\n",
              "    <tr>\n",
              "      <th>2</th>\n",
              "      <td>A102</td>\n",
              "      <td>2022-06-02</td>\n",
              "      <td>2022-06-02</td>\n",
              "      <td>1100.0</td>\n",
              "      <td>0</td>\n",
              "    </tr>\n",
              "  </tbody>\n",
              "</table>\n",
              "</div>"
            ],
            "text/plain": [
              "  apartamento datas_combinadas_pagamento datas_de_pagamento  valor_aluguel  \\\n",
              "0        A101                 2022-06-01         2022-06-05         1000.0   \n",
              "1        A101                 2022-07-01         2022-07-03         2500.0   \n",
              "2        A102                 2022-06-02         2022-06-02         1100.0   \n",
              "\n",
              "   atraso  \n",
              "0       4  \n",
              "1       2  \n",
              "2       0  "
            ]
          },
          "execution_count": 55,
          "metadata": {},
          "output_type": "execute_result"
        }
      ],
      "source": [
        "# Para contribuir en la solución del contexto es posible calcular la diferencia de días\n",
        "# entre la fecha combinada y la fecha de pagamento con dt.days\n",
        "datos['atraso'] = (datos['datas_de_pagamento'] - datos['datas_combinadas_pagamento']).dt.days\n",
        "\n",
        "# Observar el nuevo DataFrame\n",
        "datos.head(3)"
      ]
    },
    {
      "cell_type": "code",
      "execution_count": 56,
      "metadata": {},
      "outputs": [
        {
          "data": {
            "text/plain": [
              "apartamento\n",
              "A101    3.0\n",
              "A102    2.0\n",
              "B201    2.0\n",
              "B202    2.0\n",
              "C301    4.5\n",
              "C302    4.0\n",
              "D401    1.0\n",
              "D402    4.0\n",
              "E501    0.5\n",
              "E502    4.0\n",
              "F601    4.0\n",
              "F602    1.5\n",
              "G701    6.5\n",
              "G702    2.0\n",
              "H801    2.0\n",
              "Name: atraso, dtype: float64"
            ]
          },
          "execution_count": 56,
          "metadata": {},
          "output_type": "execute_result"
        }
      ],
      "source": [
        "# Calcular el promedio de tiempo de atraso por apartamentos\n",
        "media_atraso = datos.groupby(['apartamento'])['atraso'].mean()\n",
        "\n",
        "# Visualizar el resultado\n",
        "media_atraso"
      ]
    },
    {
      "cell_type": "markdown",
      "metadata": {},
      "source": [
        "# Tarea 2 Finalizada con éxito!!!!"
      ]
    },
    {
      "cell_type": "markdown",
      "metadata": {},
      "source": [
        "##  09 Lo que aprendimos\n",
        "\n",
        "\n",
        "En esta aula, aprendimos a:\n",
        "\n",
        "* Identificar el tipo de datos datetime;\n",
        "* Transformar datos para el tipo datetime y\n",
        "* Manipular columnas de tipo datetime a través de métodos."
      ]
    }
  ],
  "metadata": {
    "colab": {
      "collapsed_sections": [
        "x34W-kzrq5aR",
        "dMl2hM7RraIN",
        "GMz8sOgernz8"
      ],
      "provenance": []
    },
    "kernelspec": {
      "display_name": "api-env",
      "language": "python",
      "name": "python3"
    },
    "language_info": {
      "codemirror_mode": {
        "name": "ipython",
        "version": 3
      },
      "file_extension": ".py",
      "mimetype": "text/x-python",
      "name": "python",
      "nbconvert_exporter": "python",
      "pygments_lexer": "ipython3",
      "version": "3.10.13"
    }
  },
  "nbformat": 4,
  "nbformat_minor": 0
}
