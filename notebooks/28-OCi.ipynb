{
 "cells": [
  {
   "cell_type": "markdown",
   "id": "f3cbd54b",
   "metadata": {},
   "source": [
    "---\n",
    "# **Ruta hacia la certificación OCI Foundations Associate - ONE**\n",
    "\n",
    "## **Formación: Ruta hacia la certificación OCI Foundations DevOps**\n",
    "\n",
    "¿Quieres iniciarte en la **computación en la nube** y obtener una certificación reconocida? La certificación **OCI Foundations de Oracle** es el punto de partida ideal.\n",
    "\n",
    "En esta formación aprenderás los conceptos esenciales de **Oracle Cloud Infrastructure**, incluyendo sus servicios principales, seguridad, precios y organización. Para que tengas una base más sólida, se incluye contenido sobre **Linux** y **redes**, conocimientos fundamentales para entender cómo funciona la nube y avanzar hacia roles más técnicos.\n",
    "\n",
    "Este curso también es una excelente introducción al mundo **DevOps**, ya que cubre habilidades clave como la **gestión de infraestructura**, **automatización** y **uso de herramientas en entornos basados en la nube**, elementos centrales en el perfil de cualquier profesional DevOps.\n",
    "\n",
    "Todo el contenido está orientado a prepararte para el examen oficial de certificación, con explicaciones claras, ejemplos prácticos y recursos que te ayudarán a avanzar con seguridad.\n",
    "\n",
    "¡Prepárate con nosotros y da tus primeros pasos en la nube con Oracle!\n",
    "\n",
    "Esta formación forma parte del **Programa ONE**, una alianza entre **Alura Latam** y **Oracle**.\n",
    "\n",
    "---\n",
    "\n",
    "## **Certificación Oracle Cloud Infrastructure: explorando el entorno y funcionalidades**\n",
    "\n",
    "Este módulo, dividido en 2 cursos, te prepara para dar el primer paso hacia la certificación **OCI Foundations Associate**.\n",
    "\n",
    "Con contenidos prácticos y objetivos, aprenderás los principales servicios de **OCI**, desde conceptos fundamentales hasta la gestión de redes, máquinas virtuales, seguridad, almacenamiento y control de costos.\n",
    "\n",
    "Al finalizar, estarás listo para seguir hacia la certificación y destacarte como profesional en computación en la nube con experiencia en OCI."
   ]
  },
  {
   "cell_type": "markdown",
   "id": "e38297d3",
   "metadata": {},
   "source": [
    "# "
   ]
  }
 ],
 "metadata": {
  "language_info": {
   "name": "python"
  }
 },
 "nbformat": 4,
 "nbformat_minor": 5
}
