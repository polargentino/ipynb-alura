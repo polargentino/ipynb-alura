{
  "cells": [
    {
      "cell_type": "code",
      "execution_count": 2,
      "metadata": {},
      "outputs": [],
      "source": [
        "import pandas as pd # Importa la librería pandas y le asigna el alias 'pd'. Pandas es fundamental para trabajar con datos tabulares (como hojas de cálculo o bases de datos) en Python.\n",
        "\n",
        "# Define las URLs (direcciones web) de los archivos CSV de cada tienda.\n",
        "# Cada URL apunta a un archivo CSV específico en un repositorio de GitHub.\n",
        "url = \"https://raw.githubusercontent.com/alura-es-cursos/challenge1-data-science-latam/refs/heads/main/base-de-datos-challenge1-latam/tienda_1%20.csv\"\n",
        "url2 = \"https://raw.githubusercontent.com/alura-es-cursos/challenge1-data-science-latam/refs/heads/main/base-de-datos-challenge1-latam/tienda_2.csv\"\n",
        "url3 = \"https://raw.githubusercontent.com/alura-es-cursos/challenge1-data-science-latam/refs/heads/main/base-de-datos-challenge1-latam/tienda_3.csv\"\n",
        "url4 = \"https://raw.githubusercontent.com/alura-es-cursos/challenge1-data-science-latam/refs/heads/main/base-de-datos-challenge1-latam/tienda_4.csv\"\n",
        "\n",
        "# Carga el archivo CSV de la Tienda 1 en un DataFrame de pandas.\n",
        "# Un DataFrame es como una tabla en Excel o una base de datos, con filas y columnas.\n",
        "# `pd.read_csv()` es la función que lee el contenido de un archivo CSV desde la URL proporcionada.\n",
        "tienda_1 = pd.read_csv(url)\n",
        "\n",
        "# Carga el archivo CSV de la Tienda 2 en un DataFrame.\n",
        "tienda_2 = pd.read_csv(url2)\n",
        "\n",
        "# Carga el archivo CSV de la Tienda 3 en un DataFrame.\n",
        "tienda_3 = pd.read_csv(url3)\n",
        "\n",
        "# Carga el archivo CSV de la Tienda 4 en un DataFrame.\n",
        "tienda_4 = pd.read_csv(url4)\n",
        "\n"
      ]
    },
    {
      "cell_type": "markdown",
      "metadata": {
        "id": "X62IW3KFUIYm"
      },
      "source": [
        "# 1. Análisis de facturación\n",
        "\n"
      ]
    },
    {
      "cell_type": "code",
      "execution_count": 14,
      "metadata": {
        "id": "xykobSftV64I"
      },
      "outputs": [
        {
          "name": "stdout",
          "output_type": "stream",
          "text": [
            "Primeras filas de Tienda 1:\n"
          ]
        },
        {
          "data": {
            "text/html": [
              "<div>\n",
              "<style scoped>\n",
              "    .dataframe tbody tr th:only-of-type {\n",
              "        vertical-align: middle;\n",
              "    }\n",
              "\n",
              "    .dataframe tbody tr th {\n",
              "        vertical-align: top;\n",
              "    }\n",
              "\n",
              "    .dataframe thead th {\n",
              "        text-align: right;\n",
              "    }\n",
              "</style>\n",
              "<table border=\"1\" class=\"dataframe\">\n",
              "  <thead>\n",
              "    <tr style=\"text-align: right;\">\n",
              "      <th></th>\n",
              "      <th>Producto</th>\n",
              "      <th>Categoría del Producto</th>\n",
              "      <th>Precio</th>\n",
              "      <th>Costo de envío</th>\n",
              "      <th>Fecha de Compra</th>\n",
              "      <th>Vendedor</th>\n",
              "      <th>Lugar de Compra</th>\n",
              "      <th>Calificación</th>\n",
              "      <th>Método de pago</th>\n",
              "      <th>Cantidad de cuotas</th>\n",
              "      <th>lat</th>\n",
              "      <th>lon</th>\n",
              "    </tr>\n",
              "  </thead>\n",
              "  <tbody>\n",
              "    <tr>\n",
              "      <th>0</th>\n",
              "      <td>Asistente virtual</td>\n",
              "      <td>Electrónicos</td>\n",
              "      <td>164300.0</td>\n",
              "      <td>6900.0</td>\n",
              "      <td>16/01/2021</td>\n",
              "      <td>Pedro Gomez</td>\n",
              "      <td>Bogotá</td>\n",
              "      <td>4</td>\n",
              "      <td>Tarjeta de crédito</td>\n",
              "      <td>8</td>\n",
              "      <td>4.60971</td>\n",
              "      <td>-74.08175</td>\n",
              "    </tr>\n",
              "    <tr>\n",
              "      <th>1</th>\n",
              "      <td>Mesa de comedor</td>\n",
              "      <td>Muebles</td>\n",
              "      <td>192300.0</td>\n",
              "      <td>8400.0</td>\n",
              "      <td>18/05/2022</td>\n",
              "      <td>Beatriz Morales</td>\n",
              "      <td>Medellín</td>\n",
              "      <td>1</td>\n",
              "      <td>Tarjeta de crédito</td>\n",
              "      <td>4</td>\n",
              "      <td>6.25184</td>\n",
              "      <td>-75.56359</td>\n",
              "    </tr>\n",
              "    <tr>\n",
              "      <th>2</th>\n",
              "      <td>Juego de mesa</td>\n",
              "      <td>Juguetes</td>\n",
              "      <td>209600.0</td>\n",
              "      <td>15900.0</td>\n",
              "      <td>15/03/2021</td>\n",
              "      <td>Juan Fernandez</td>\n",
              "      <td>Cartagena</td>\n",
              "      <td>1</td>\n",
              "      <td>Tarjeta de crédito</td>\n",
              "      <td>1</td>\n",
              "      <td>10.39972</td>\n",
              "      <td>-75.51444</td>\n",
              "    </tr>\n",
              "    <tr>\n",
              "      <th>3</th>\n",
              "      <td>Microondas</td>\n",
              "      <td>Electrodomésticos</td>\n",
              "      <td>757500.0</td>\n",
              "      <td>41000.0</td>\n",
              "      <td>03/05/2022</td>\n",
              "      <td>Juan Fernandez</td>\n",
              "      <td>Cali</td>\n",
              "      <td>4</td>\n",
              "      <td>Nequi</td>\n",
              "      <td>1</td>\n",
              "      <td>3.43722</td>\n",
              "      <td>-76.52250</td>\n",
              "    </tr>\n",
              "    <tr>\n",
              "      <th>4</th>\n",
              "      <td>Silla de oficina</td>\n",
              "      <td>Muebles</td>\n",
              "      <td>335200.0</td>\n",
              "      <td>20200.0</td>\n",
              "      <td>07/11/2020</td>\n",
              "      <td>Maria Alfonso</td>\n",
              "      <td>Medellín</td>\n",
              "      <td>5</td>\n",
              "      <td>Nequi</td>\n",
              "      <td>1</td>\n",
              "      <td>6.25184</td>\n",
              "      <td>-75.56359</td>\n",
              "    </tr>\n",
              "  </tbody>\n",
              "</table>\n",
              "</div>"
            ],
            "text/plain": [
              "            Producto Categoría del Producto    Precio  Costo de envío  \\\n",
              "0  Asistente virtual           Electrónicos  164300.0          6900.0   \n",
              "1    Mesa de comedor                Muebles  192300.0          8400.0   \n",
              "2      Juego de mesa               Juguetes  209600.0         15900.0   \n",
              "3         Microondas      Electrodomésticos  757500.0         41000.0   \n",
              "4   Silla de oficina                Muebles  335200.0         20200.0   \n",
              "\n",
              "  Fecha de Compra         Vendedor Lugar de Compra  Calificación  \\\n",
              "0      16/01/2021      Pedro Gomez          Bogotá             4   \n",
              "1      18/05/2022  Beatriz Morales        Medellín             1   \n",
              "2      15/03/2021   Juan Fernandez       Cartagena             1   \n",
              "3      03/05/2022   Juan Fernandez            Cali             4   \n",
              "4      07/11/2020    Maria Alfonso        Medellín             5   \n",
              "\n",
              "       Método de pago  Cantidad de cuotas       lat       lon  \n",
              "0  Tarjeta de crédito                   8   4.60971 -74.08175  \n",
              "1  Tarjeta de crédito                   4   6.25184 -75.56359  \n",
              "2  Tarjeta de crédito                   1  10.39972 -75.51444  \n",
              "3               Nequi                   1   3.43722 -76.52250  \n",
              "4               Nequi                   1   6.25184 -75.56359  "
            ]
          },
          "execution_count": 14,
          "metadata": {},
          "output_type": "execute_result"
        }
      ],
      "source": [
        "# Muestra las primeras 5 filas del DataFrame de la Tienda 1 para una inspección rápida.\n",
        "# Esto te permite ver cómo son los datos y qué columnas contiene.\n",
        "print(\"Primeras filas de Tienda 1:\")\n",
        "tienda_1.head()\n",
        "\n",
        "# Muestra información concisa sobre el DataFrame de la Tienda 1.\n",
        "# Esto incluye el número de entradas (filas), columnas, tipos de datos de cada columna y uso de memoria.\n",
        "# Es muy útil para verificar si hay valores nulos o si los tipos de datos son los esperados.\n",
        "# print(\"\\nInformación del DataFrame Tienda 1:\")\n",
        "# tienda_1.info()\n",
        "\n"
      ]
    },
    {
      "cell_type": "code",
      "execution_count": 15,
      "metadata": {},
      "outputs": [
        {
          "name": "stdout",
          "output_type": "stream",
          "text": [
            "\n",
            "Información del DataFrame Tienda 1:\n",
            "<class 'pandas.core.frame.DataFrame'>\n",
            "RangeIndex: 2359 entries, 0 to 2358\n",
            "Data columns (total 12 columns):\n",
            " #   Column                  Non-Null Count  Dtype  \n",
            "---  ------                  --------------  -----  \n",
            " 0   Producto                2359 non-null   object \n",
            " 1   Categoría del Producto  2359 non-null   object \n",
            " 2   Precio                  2359 non-null   float64\n",
            " 3   Costo de envío          2359 non-null   float64\n",
            " 4   Fecha de Compra         2359 non-null   object \n",
            " 5   Vendedor                2359 non-null   object \n",
            " 6   Lugar de Compra         2359 non-null   object \n",
            " 7   Calificación            2359 non-null   int64  \n",
            " 8   Método de pago          2359 non-null   object \n",
            " 9   Cantidad de cuotas      2359 non-null   int64  \n",
            " 10  lat                     2359 non-null   float64\n",
            " 11  lon                     2359 non-null   float64\n",
            "dtypes: float64(4), int64(2), object(6)\n",
            "memory usage: 221.3+ KB\n"
          ]
        }
      ],
      "source": [
        "print(\"\\nInformación del DataFrame Tienda 1:\")\n",
        "tienda_1.info()"
      ]
    },
    {
      "cell_type": "code",
      "execution_count": 16,
      "metadata": {
        "id": "KDyr8E71V3m-"
      },
      "outputs": [
        {
          "name": "stdout",
          "output_type": "stream",
          "text": [
            "\n",
            "Primeras filas de Tienda 2:\n"
          ]
        },
        {
          "data": {
            "text/html": [
              "<div>\n",
              "<style scoped>\n",
              "    .dataframe tbody tr th:only-of-type {\n",
              "        vertical-align: middle;\n",
              "    }\n",
              "\n",
              "    .dataframe tbody tr th {\n",
              "        vertical-align: top;\n",
              "    }\n",
              "\n",
              "    .dataframe thead th {\n",
              "        text-align: right;\n",
              "    }\n",
              "</style>\n",
              "<table border=\"1\" class=\"dataframe\">\n",
              "  <thead>\n",
              "    <tr style=\"text-align: right;\">\n",
              "      <th></th>\n",
              "      <th>Producto</th>\n",
              "      <th>Categoría del Producto</th>\n",
              "      <th>Precio</th>\n",
              "      <th>Costo de envío</th>\n",
              "      <th>Fecha de Compra</th>\n",
              "      <th>Vendedor</th>\n",
              "      <th>Lugar de Compra</th>\n",
              "      <th>Calificación</th>\n",
              "      <th>Método de pago</th>\n",
              "      <th>Cantidad de cuotas</th>\n",
              "      <th>lat</th>\n",
              "      <th>lon</th>\n",
              "    </tr>\n",
              "  </thead>\n",
              "  <tbody>\n",
              "    <tr>\n",
              "      <th>0</th>\n",
              "      <td>Silla de oficina</td>\n",
              "      <td>Muebles</td>\n",
              "      <td>283600.0</td>\n",
              "      <td>15300.0</td>\n",
              "      <td>04/08/2021</td>\n",
              "      <td>Izabela de León</td>\n",
              "      <td>Medellín</td>\n",
              "      <td>1</td>\n",
              "      <td>Nequi</td>\n",
              "      <td>1</td>\n",
              "      <td>6.25184</td>\n",
              "      <td>-75.56359</td>\n",
              "    </tr>\n",
              "    <tr>\n",
              "      <th>1</th>\n",
              "      <td>Pandereta</td>\n",
              "      <td>Instrumentos musicales</td>\n",
              "      <td>76800.0</td>\n",
              "      <td>2300.0</td>\n",
              "      <td>26/11/2020</td>\n",
              "      <td>Blanca Ramirez</td>\n",
              "      <td>Medellín</td>\n",
              "      <td>3</td>\n",
              "      <td>Tarjeta de crédito</td>\n",
              "      <td>4</td>\n",
              "      <td>6.25184</td>\n",
              "      <td>-75.56359</td>\n",
              "    </tr>\n",
              "    <tr>\n",
              "      <th>2</th>\n",
              "      <td>Cama king</td>\n",
              "      <td>Muebles</td>\n",
              "      <td>443300.0</td>\n",
              "      <td>23800.0</td>\n",
              "      <td>22/10/2021</td>\n",
              "      <td>Izabela de León</td>\n",
              "      <td>Pereira</td>\n",
              "      <td>5</td>\n",
              "      <td>Tarjeta de crédito</td>\n",
              "      <td>10</td>\n",
              "      <td>4.81333</td>\n",
              "      <td>-75.69611</td>\n",
              "    </tr>\n",
              "    <tr>\n",
              "      <th>3</th>\n",
              "      <td>Cama king</td>\n",
              "      <td>Muebles</td>\n",
              "      <td>906200.0</td>\n",
              "      <td>46400.0</td>\n",
              "      <td>04/05/2022</td>\n",
              "      <td>Maria Alfonso</td>\n",
              "      <td>Cali</td>\n",
              "      <td>5</td>\n",
              "      <td>Tarjeta de crédito</td>\n",
              "      <td>10</td>\n",
              "      <td>3.43722</td>\n",
              "      <td>-76.52250</td>\n",
              "    </tr>\n",
              "    <tr>\n",
              "      <th>4</th>\n",
              "      <td>Silla de oficina</td>\n",
              "      <td>Muebles</td>\n",
              "      <td>397800.0</td>\n",
              "      <td>19400.0</td>\n",
              "      <td>26/02/2022</td>\n",
              "      <td>Lucas Olivera</td>\n",
              "      <td>Bogotá</td>\n",
              "      <td>4</td>\n",
              "      <td>Tarjeta de crédito</td>\n",
              "      <td>3</td>\n",
              "      <td>4.60971</td>\n",
              "      <td>-74.08175</td>\n",
              "    </tr>\n",
              "  </tbody>\n",
              "</table>\n",
              "</div>"
            ],
            "text/plain": [
              "           Producto  Categoría del Producto    Precio  Costo de envío  \\\n",
              "0  Silla de oficina                 Muebles  283600.0         15300.0   \n",
              "1         Pandereta  Instrumentos musicales   76800.0          2300.0   \n",
              "2         Cama king                 Muebles  443300.0         23800.0   \n",
              "3         Cama king                 Muebles  906200.0         46400.0   \n",
              "4  Silla de oficina                 Muebles  397800.0         19400.0   \n",
              "\n",
              "  Fecha de Compra         Vendedor Lugar de Compra  Calificación  \\\n",
              "0      04/08/2021  Izabela de León        Medellín             1   \n",
              "1      26/11/2020   Blanca Ramirez        Medellín             3   \n",
              "2      22/10/2021  Izabela de León         Pereira             5   \n",
              "3      04/05/2022    Maria Alfonso            Cali             5   \n",
              "4      26/02/2022    Lucas Olivera          Bogotá             4   \n",
              "\n",
              "       Método de pago  Cantidad de cuotas      lat       lon  \n",
              "0               Nequi                   1  6.25184 -75.56359  \n",
              "1  Tarjeta de crédito                   4  6.25184 -75.56359  \n",
              "2  Tarjeta de crédito                  10  4.81333 -75.69611  \n",
              "3  Tarjeta de crédito                  10  3.43722 -76.52250  \n",
              "4  Tarjeta de crédito                   3  4.60971 -74.08175  "
            ]
          },
          "execution_count": 16,
          "metadata": {},
          "output_type": "execute_result"
        }
      ],
      "source": [
        "# Repetimos para las otras tiendas para asegurarnos de que todos los datos se cargaron correctamente.\n",
        "print(\"\\nPrimeras filas de Tienda 2:\")\n",
        "tienda_2.head()\n",
        "\n"
      ]
    },
    {
      "cell_type": "code",
      "execution_count": 17,
      "metadata": {},
      "outputs": [
        {
          "name": "stdout",
          "output_type": "stream",
          "text": [
            "\n",
            "Información del DataFrame Tienda 2:\n",
            "<class 'pandas.core.frame.DataFrame'>\n",
            "RangeIndex: 2359 entries, 0 to 2358\n",
            "Data columns (total 12 columns):\n",
            " #   Column                  Non-Null Count  Dtype  \n",
            "---  ------                  --------------  -----  \n",
            " 0   Producto                2359 non-null   object \n",
            " 1   Categoría del Producto  2359 non-null   object \n",
            " 2   Precio                  2359 non-null   float64\n",
            " 3   Costo de envío          2359 non-null   float64\n",
            " 4   Fecha de Compra         2359 non-null   object \n",
            " 5   Vendedor                2359 non-null   object \n",
            " 6   Lugar de Compra         2359 non-null   object \n",
            " 7   Calificación            2359 non-null   int64  \n",
            " 8   Método de pago          2359 non-null   object \n",
            " 9   Cantidad de cuotas      2359 non-null   int64  \n",
            " 10  lat                     2359 non-null   float64\n",
            " 11  lon                     2359 non-null   float64\n",
            "dtypes: float64(4), int64(2), object(6)\n",
            "memory usage: 221.3+ KB\n"
          ]
        }
      ],
      "source": [
        "print(\"\\nInformación del DataFrame Tienda 2:\")\n",
        "tienda_2.info()"
      ]
    },
    {
      "cell_type": "code",
      "execution_count": 18,
      "metadata": {},
      "outputs": [
        {
          "name": "stdout",
          "output_type": "stream",
          "text": [
            "\n",
            "Primeras filas de Tienda 3:\n"
          ]
        },
        {
          "data": {
            "text/html": [
              "<div>\n",
              "<style scoped>\n",
              "    .dataframe tbody tr th:only-of-type {\n",
              "        vertical-align: middle;\n",
              "    }\n",
              "\n",
              "    .dataframe tbody tr th {\n",
              "        vertical-align: top;\n",
              "    }\n",
              "\n",
              "    .dataframe thead th {\n",
              "        text-align: right;\n",
              "    }\n",
              "</style>\n",
              "<table border=\"1\" class=\"dataframe\">\n",
              "  <thead>\n",
              "    <tr style=\"text-align: right;\">\n",
              "      <th></th>\n",
              "      <th>Producto</th>\n",
              "      <th>Categoría del Producto</th>\n",
              "      <th>Precio</th>\n",
              "      <th>Costo de envío</th>\n",
              "      <th>Fecha de Compra</th>\n",
              "      <th>Vendedor</th>\n",
              "      <th>Lugar de Compra</th>\n",
              "      <th>Calificación</th>\n",
              "      <th>Método de pago</th>\n",
              "      <th>Cantidad de cuotas</th>\n",
              "      <th>lat</th>\n",
              "      <th>lon</th>\n",
              "    </tr>\n",
              "  </thead>\n",
              "  <tbody>\n",
              "    <tr>\n",
              "      <th>0</th>\n",
              "      <td>Secadora de ropa</td>\n",
              "      <td>Electrodomésticos</td>\n",
              "      <td>1285100.0</td>\n",
              "      <td>66600.0</td>\n",
              "      <td>17/12/2021</td>\n",
              "      <td>Camila Rivera</td>\n",
              "      <td>Santa Marta</td>\n",
              "      <td>4</td>\n",
              "      <td>Tarjeta de crédito</td>\n",
              "      <td>4</td>\n",
              "      <td>11.24079</td>\n",
              "      <td>-74.19904</td>\n",
              "    </tr>\n",
              "    <tr>\n",
              "      <th>1</th>\n",
              "      <td>Mesa de noche</td>\n",
              "      <td>Muebles</td>\n",
              "      <td>290100.0</td>\n",
              "      <td>13600.0</td>\n",
              "      <td>10/02/2021</td>\n",
              "      <td>Maria Alfonso</td>\n",
              "      <td>Cali</td>\n",
              "      <td>3</td>\n",
              "      <td>Tarjeta de crédito</td>\n",
              "      <td>1</td>\n",
              "      <td>3.43722</td>\n",
              "      <td>-76.52250</td>\n",
              "    </tr>\n",
              "    <tr>\n",
              "      <th>2</th>\n",
              "      <td>Guitarra acústica</td>\n",
              "      <td>Instrumentos musicales</td>\n",
              "      <td>303500.0</td>\n",
              "      <td>17400.0</td>\n",
              "      <td>22/01/2023</td>\n",
              "      <td>Lucas Olivera</td>\n",
              "      <td>Bogotá</td>\n",
              "      <td>5</td>\n",
              "      <td>Tarjeta de crédito</td>\n",
              "      <td>3</td>\n",
              "      <td>4.60971</td>\n",
              "      <td>-74.08175</td>\n",
              "    </tr>\n",
              "    <tr>\n",
              "      <th>3</th>\n",
              "      <td>Balón de voleibol</td>\n",
              "      <td>Deportes y diversión</td>\n",
              "      <td>58800.0</td>\n",
              "      <td>3300.0</td>\n",
              "      <td>22/03/2022</td>\n",
              "      <td>Pedro Gomez</td>\n",
              "      <td>Barranquilla</td>\n",
              "      <td>4</td>\n",
              "      <td>Tarjeta de crédito</td>\n",
              "      <td>6</td>\n",
              "      <td>10.96854</td>\n",
              "      <td>-74.78132</td>\n",
              "    </tr>\n",
              "    <tr>\n",
              "      <th>4</th>\n",
              "      <td>Armario</td>\n",
              "      <td>Muebles</td>\n",
              "      <td>521100.0</td>\n",
              "      <td>25900.0</td>\n",
              "      <td>12/01/2022</td>\n",
              "      <td>Blanca Ramirez</td>\n",
              "      <td>Bogotá</td>\n",
              "      <td>1</td>\n",
              "      <td>Tarjeta de crédito</td>\n",
              "      <td>1</td>\n",
              "      <td>4.60971</td>\n",
              "      <td>-74.08175</td>\n",
              "    </tr>\n",
              "  </tbody>\n",
              "</table>\n",
              "</div>"
            ],
            "text/plain": [
              "            Producto  Categoría del Producto     Precio  Costo de envío  \\\n",
              "0   Secadora de ropa       Electrodomésticos  1285100.0         66600.0   \n",
              "1      Mesa de noche                 Muebles   290100.0         13600.0   \n",
              "2  Guitarra acústica  Instrumentos musicales   303500.0         17400.0   \n",
              "3  Balón de voleibol    Deportes y diversión    58800.0          3300.0   \n",
              "4            Armario                 Muebles   521100.0         25900.0   \n",
              "\n",
              "  Fecha de Compra        Vendedor Lugar de Compra  Calificación  \\\n",
              "0      17/12/2021   Camila Rivera     Santa Marta             4   \n",
              "1      10/02/2021   Maria Alfonso            Cali             3   \n",
              "2      22/01/2023   Lucas Olivera          Bogotá             5   \n",
              "3      22/03/2022     Pedro Gomez    Barranquilla             4   \n",
              "4      12/01/2022  Blanca Ramirez          Bogotá             1   \n",
              "\n",
              "       Método de pago  Cantidad de cuotas       lat       lon  \n",
              "0  Tarjeta de crédito                   4  11.24079 -74.19904  \n",
              "1  Tarjeta de crédito                   1   3.43722 -76.52250  \n",
              "2  Tarjeta de crédito                   3   4.60971 -74.08175  \n",
              "3  Tarjeta de crédito                   6  10.96854 -74.78132  \n",
              "4  Tarjeta de crédito                   1   4.60971 -74.08175  "
            ]
          },
          "execution_count": 18,
          "metadata": {},
          "output_type": "execute_result"
        }
      ],
      "source": [
        "print(\"\\nPrimeras filas de Tienda 3:\")\n",
        "tienda_3.head()\n"
      ]
    },
    {
      "cell_type": "code",
      "execution_count": 19,
      "metadata": {},
      "outputs": [
        {
          "name": "stdout",
          "output_type": "stream",
          "text": [
            "\n",
            "Información del DataFrame Tienda 3:\n",
            "<class 'pandas.core.frame.DataFrame'>\n",
            "RangeIndex: 2359 entries, 0 to 2358\n",
            "Data columns (total 12 columns):\n",
            " #   Column                  Non-Null Count  Dtype  \n",
            "---  ------                  --------------  -----  \n",
            " 0   Producto                2359 non-null   object \n",
            " 1   Categoría del Producto  2359 non-null   object \n",
            " 2   Precio                  2359 non-null   float64\n",
            " 3   Costo de envío          2359 non-null   float64\n",
            " 4   Fecha de Compra         2359 non-null   object \n",
            " 5   Vendedor                2359 non-null   object \n",
            " 6   Lugar de Compra         2359 non-null   object \n",
            " 7   Calificación            2359 non-null   int64  \n",
            " 8   Método de pago          2359 non-null   object \n",
            " 9   Cantidad de cuotas      2359 non-null   int64  \n",
            " 10  lat                     2359 non-null   float64\n",
            " 11  lon                     2359 non-null   float64\n",
            "dtypes: float64(4), int64(2), object(6)\n",
            "memory usage: 221.3+ KB\n"
          ]
        }
      ],
      "source": [
        "print(\"\\nInformación del DataFrame Tienda 3:\")\n",
        "tienda_3.info()\n"
      ]
    },
    {
      "cell_type": "code",
      "execution_count": 20,
      "metadata": {},
      "outputs": [
        {
          "name": "stdout",
          "output_type": "stream",
          "text": [
            "\n",
            "Primeras filas de Tienda 4:\n"
          ]
        },
        {
          "data": {
            "text/html": [
              "<div>\n",
              "<style scoped>\n",
              "    .dataframe tbody tr th:only-of-type {\n",
              "        vertical-align: middle;\n",
              "    }\n",
              "\n",
              "    .dataframe tbody tr th {\n",
              "        vertical-align: top;\n",
              "    }\n",
              "\n",
              "    .dataframe thead th {\n",
              "        text-align: right;\n",
              "    }\n",
              "</style>\n",
              "<table border=\"1\" class=\"dataframe\">\n",
              "  <thead>\n",
              "    <tr style=\"text-align: right;\">\n",
              "      <th></th>\n",
              "      <th>Producto</th>\n",
              "      <th>Categoría del Producto</th>\n",
              "      <th>Precio</th>\n",
              "      <th>Costo de envío</th>\n",
              "      <th>Fecha de Compra</th>\n",
              "      <th>Vendedor</th>\n",
              "      <th>Lugar de Compra</th>\n",
              "      <th>Calificación</th>\n",
              "      <th>Método de pago</th>\n",
              "      <th>Cantidad de cuotas</th>\n",
              "      <th>lat</th>\n",
              "      <th>lon</th>\n",
              "    </tr>\n",
              "  </thead>\n",
              "  <tbody>\n",
              "    <tr>\n",
              "      <th>0</th>\n",
              "      <td>Lavavajillas</td>\n",
              "      <td>Electrodomésticos</td>\n",
              "      <td>1084800.0</td>\n",
              "      <td>56000.0</td>\n",
              "      <td>11/11/2022</td>\n",
              "      <td>Rafael Acosta</td>\n",
              "      <td>Bogotá</td>\n",
              "      <td>4</td>\n",
              "      <td>Tarjeta de crédito</td>\n",
              "      <td>3</td>\n",
              "      <td>4.60971</td>\n",
              "      <td>-74.08175</td>\n",
              "    </tr>\n",
              "    <tr>\n",
              "      <th>1</th>\n",
              "      <td>Cama box</td>\n",
              "      <td>Muebles</td>\n",
              "      <td>473800.0</td>\n",
              "      <td>25400.0</td>\n",
              "      <td>03/01/2020</td>\n",
              "      <td>Izabela de León</td>\n",
              "      <td>Cúcuta</td>\n",
              "      <td>5</td>\n",
              "      <td>Tarjeta de crédito</td>\n",
              "      <td>2</td>\n",
              "      <td>7.89391</td>\n",
              "      <td>-72.50782</td>\n",
              "    </tr>\n",
              "    <tr>\n",
              "      <th>2</th>\n",
              "      <td>Balón de baloncesto</td>\n",
              "      <td>Deportes y diversión</td>\n",
              "      <td>23700.0</td>\n",
              "      <td>0.0</td>\n",
              "      <td>25/12/2022</td>\n",
              "      <td>Maria Alfonso</td>\n",
              "      <td>Medellín</td>\n",
              "      <td>5</td>\n",
              "      <td>Nequi</td>\n",
              "      <td>1</td>\n",
              "      <td>6.25184</td>\n",
              "      <td>-75.56359</td>\n",
              "    </tr>\n",
              "    <tr>\n",
              "      <th>3</th>\n",
              "      <td>Modelado predictivo</td>\n",
              "      <td>Libros</td>\n",
              "      <td>57700.0</td>\n",
              "      <td>1300.0</td>\n",
              "      <td>23/11/2021</td>\n",
              "      <td>Lucas Olivera</td>\n",
              "      <td>Medellín</td>\n",
              "      <td>3</td>\n",
              "      <td>Nequi</td>\n",
              "      <td>1</td>\n",
              "      <td>6.25184</td>\n",
              "      <td>-75.56359</td>\n",
              "    </tr>\n",
              "    <tr>\n",
              "      <th>4</th>\n",
              "      <td>Auriculares</td>\n",
              "      <td>Electrónicos</td>\n",
              "      <td>138900.0</td>\n",
              "      <td>5600.0</td>\n",
              "      <td>25/04/2022</td>\n",
              "      <td>Blanca Ramirez</td>\n",
              "      <td>Bogotá</td>\n",
              "      <td>4</td>\n",
              "      <td>Tarjeta de crédito</td>\n",
              "      <td>7</td>\n",
              "      <td>4.60971</td>\n",
              "      <td>-74.08175</td>\n",
              "    </tr>\n",
              "  </tbody>\n",
              "</table>\n",
              "</div>"
            ],
            "text/plain": [
              "              Producto Categoría del Producto     Precio  Costo de envío  \\\n",
              "0         Lavavajillas      Electrodomésticos  1084800.0         56000.0   \n",
              "1             Cama box                Muebles   473800.0         25400.0   \n",
              "2  Balón de baloncesto   Deportes y diversión    23700.0             0.0   \n",
              "3  Modelado predictivo                 Libros    57700.0          1300.0   \n",
              "4          Auriculares           Electrónicos   138900.0          5600.0   \n",
              "\n",
              "  Fecha de Compra         Vendedor Lugar de Compra  Calificación  \\\n",
              "0      11/11/2022    Rafael Acosta          Bogotá             4   \n",
              "1      03/01/2020  Izabela de León          Cúcuta             5   \n",
              "2      25/12/2022    Maria Alfonso        Medellín             5   \n",
              "3      23/11/2021    Lucas Olivera        Medellín             3   \n",
              "4      25/04/2022   Blanca Ramirez          Bogotá             4   \n",
              "\n",
              "       Método de pago  Cantidad de cuotas      lat       lon  \n",
              "0  Tarjeta de crédito                   3  4.60971 -74.08175  \n",
              "1  Tarjeta de crédito                   2  7.89391 -72.50782  \n",
              "2               Nequi                   1  6.25184 -75.56359  \n",
              "3               Nequi                   1  6.25184 -75.56359  \n",
              "4  Tarjeta de crédito                   7  4.60971 -74.08175  "
            ]
          },
          "execution_count": 20,
          "metadata": {},
          "output_type": "execute_result"
        }
      ],
      "source": [
        "print(\"\\nPrimeras filas de Tienda 4:\")\n",
        "tienda_4.head()\n"
      ]
    },
    {
      "cell_type": "code",
      "execution_count": 21,
      "metadata": {},
      "outputs": [
        {
          "name": "stdout",
          "output_type": "stream",
          "text": [
            "\n",
            "Información del DataFrame Tienda 4:\n",
            "<class 'pandas.core.frame.DataFrame'>\n",
            "RangeIndex: 2358 entries, 0 to 2357\n",
            "Data columns (total 12 columns):\n",
            " #   Column                  Non-Null Count  Dtype  \n",
            "---  ------                  --------------  -----  \n",
            " 0   Producto                2358 non-null   object \n",
            " 1   Categoría del Producto  2358 non-null   object \n",
            " 2   Precio                  2358 non-null   float64\n",
            " 3   Costo de envío          2358 non-null   float64\n",
            " 4   Fecha de Compra         2358 non-null   object \n",
            " 5   Vendedor                2358 non-null   object \n",
            " 6   Lugar de Compra         2358 non-null   object \n",
            " 7   Calificación            2358 non-null   int64  \n",
            " 8   Método de pago          2358 non-null   object \n",
            " 9   Cantidad de cuotas      2358 non-null   int64  \n",
            " 10  lat                     2358 non-null   float64\n",
            " 11  lon                     2358 non-null   float64\n",
            "dtypes: float64(4), int64(2), object(6)\n",
            "memory usage: 221.2+ KB\n"
          ]
        }
      ],
      "source": [
        "print(\"\\nInformación del DataFrame Tienda 4:\")\n",
        "tienda_4.info()"
      ]
    },
    {
      "cell_type": "markdown",
      "metadata": {},
      "source": [
        "¡Excelente! Gracias por compartir la salida de head() y info() para todas las tiendas. Esto confirma que los datos se cargaron correctamente y que todas las columnas tienen valores no nulos, lo cual es una muy buena señal para nuestro análisis.\n",
        "\n",
        "Ahora, pasemos al primer análisis requerido: calcular el ingreso total de cada tienda.\n",
        "\n",
        "Para esto, necesitamos sumar los valores de la columna 'Precio' de cada DataFrame.\n",
        "\n",
        "Aquí tienes el código con los comentarios explicativos:"
      ]
    },
    {
      "cell_type": "code",
      "execution_count": 22,
      "metadata": {},
      "outputs": [
        {
          "name": "stdout",
          "output_type": "stream",
          "text": [
            "\n",
            "--- Calculando Ingresos Totales por Tienda ---\n",
            "El ingreso total de la Tienda 1 es: $1,150,880,400.00\n",
            "El ingreso total de la Tienda 2 es: $1,116,343,500.00\n",
            "El ingreso total de la Tienda 3 es: $1,098,019,600.00\n",
            "El ingreso total de la Tienda 4 es: $1,038,375,700.00\n",
            "\n",
            "--- Ingresos Totales Calculados ---\n",
            "\n",
            "Resumen de Ingresos Totales:\n",
            "Tienda 1: $1,150,880,400.00\n",
            "Tienda 2: $1,116,343,500.00\n",
            "Tienda 3: $1,098,019,600.00\n",
            "Tienda 4: $1,038,375,700.00\n"
          ]
        }
      ],
      "source": [
        "# --- 1. Análisis de Facturación (Ingreso Total) ---\n",
        "\n",
        "print(\"\\n--- Calculando Ingresos Totales por Tienda ---\")\n",
        "\n",
        "# Calcula el ingreso total para la Tienda 1.\n",
        "# Seleccionamos la columna 'Precio' del DataFrame 'tienda_1' y usamos el método '.sum()'.\n",
        "# '.sum()' suma todos los valores numéricos de la columna seleccionada.\n",
        "ingreso_total_tienda_1 = tienda_1['Precio'].sum()\n",
        "print(f\"El ingreso total de la Tienda 1 es: ${ingreso_total_tienda_1:,.2f}\") # Imprime el resultado, formateando el número para que sea más legible con comas y 2 decimales.\n",
        "\n",
        "# Calcula el ingreso total para la Tienda 2.\n",
        "ingreso_total_tienda_2 = tienda_2['Precio'].sum()\n",
        "print(f\"El ingreso total de la Tienda 2 es: ${ingreso_total_tienda_2:,.2f}\")\n",
        "\n",
        "# Calcula el ingreso total para la Tienda 3.\n",
        "ingreso_total_tienda_3 = tienda_3['Precio'].sum()\n",
        "print(f\"El ingreso total de la Tienda 3 es: ${ingreso_total_tienda_3:,.2f}\")\n",
        "\n",
        "# Calcula el ingreso total para la Tienda 4.\n",
        "ingreso_total_tienda_4 = tienda_4['Precio'].sum()\n",
        "print(f\"El ingreso total de la Tienda 4 es: ${ingreso_total_tienda_4:,.2f}\")\n",
        "\n",
        "print(\"\\n--- Ingresos Totales Calculados ---\")\n",
        "\n",
        "# Para facilitar comparaciones posteriores, podemos guardar estos ingresos en un diccionario o una lista.\n",
        "ingresos_por_tienda = {\n",
        "    'Tienda 1': ingreso_total_tienda_1,\n",
        "    'Tienda 2': ingreso_total_tienda_2,\n",
        "    'Tienda 3': ingreso_total_tienda_3,\n",
        "    'Tienda 4': ingreso_total_tienda_4\n",
        "}\n",
        "\n",
        "# Puedes imprimir el diccionario para ver un resumen organizado.\n",
        "print(\"\\nResumen de Ingresos Totales:\")\n",
        "for tienda, ingreso in ingresos_por_tienda.items():\n",
        "    print(f\"{tienda}: ${ingreso:,.2f}\")"
      ]
    },
    {
      "cell_type": "markdown",
      "metadata": {},
      "source": [
        "## Explicación de lo que acabamos de hacer:\n",
        "\n",
        "### 1-Seleccionar la columna 'Precio':\n",
        " En cada DataFrame (tienda_1, tienda_2, etc.), la columna que contiene el valor de las ventas se llama Precio. Para acceder a ella, usamos la notación de corchetes, por ejemplo, **tienda_1['Precio']**. Esto nos devuelve una \"Serie\" de pandas, que es como una sola columna de la tabla.\n",
        "\n",
        "### 2-Sumar los valores (.sum()):\n",
        " Una vez que tenemos la columna 'Precio', simplemente aplicamos el método .sum() a esa Serie. Este método hace exactamente lo que su nombre indica: suma todos los números que contiene.\n",
        "\n",
        "### 3-Almacenar el resultado:\n",
        " Guardamos el resultado de la suma en una variable (por ejemplo, ingreso_total_tienda_1) para poder usarlo más tarde.\n",
        "\n",
        "### 4-Imprimir el resultado:\n",
        " Usamos una f-string (una forma sencilla de formatear texto con variables en Python) para mostrar el resultado de manera clara. El :,.2f dentro de la f-string es un formato especial que hace dos cosas:\n",
        ", : Agrega comas como separadores de miles para que el número sea más fácil de leer (ej. 1,234,567.89).\n",
        ".2f : Limita el número a dos decimales. Esto es útil para valores monetarios.\n",
        "\n",
        "### 5-Crear un diccionario de ingresos:\n",
        " Almacenamos todos los ingresos calculados en un diccionario de Python. Un diccionario es una colección de pares clave: valor. En este caso, la clave es el nombre de la tienda (ej. 'Tienda 1') y el valor es su ingreso total. Esto es útil para tener un resumen fácil de acceder y comparar.\n",
        "Ahora tenemos los ingresos totales de cada tienda. Esto nos da una primera idea de cuál es la tienda con mayor facturación.\n",
        "\n",
        "El siguiente paso en tu desafío es calcular la cantidad de productos vendidos por categoría en cada tienda. ¡Avísame cuando estés listo para pasar a ello!"
      ]
    },
    {
      "cell_type": "markdown",
      "metadata": {},
      "source": [
        "¡Genial! Ya tenemos los ingresos totales de cada tienda, y vemos claramente que la Tienda 1 es la que más ingresos ha generado hasta ahora.\n",
        "\n",
        "Ahora, pasemos al siguiente análisis: calcular la cantidad de productos vendidos por categoría en cada tienda. Esto nos ayudará a entender qué tipos de productos son los más populares en cada sucursal."
      ]
    },
    {
      "cell_type": "markdown",
      "metadata": {},
      "source": [
        "### Cantidad de productos vendidos por categoría\n",
        "Para lograr esto, vamos a agrupar los datos de cada tienda por la columna Categoría del Producto y luego contaremos cuántas veces aparece cada categoría.\n",
        "\n",
        "Aquí tienes el código con los comentarios para que lo sigas paso a paso:"
      ]
    },
    {
      "cell_type": "markdown",
      "metadata": {
        "id": "2V_vcAPzWZmR"
      },
      "source": [
        "# 2. Ventas por categoría"
      ]
    },
    {
      "cell_type": "code",
      "execution_count": 23,
      "metadata": {
        "id": "A34YupIuYhfF"
      },
      "outputs": [
        {
          "name": "stdout",
          "output_type": "stream",
          "text": [
            "Primeras filas de Tienda 1:\n"
          ]
        },
        {
          "data": {
            "text/html": [
              "<div>\n",
              "<style scoped>\n",
              "    .dataframe tbody tr th:only-of-type {\n",
              "        vertical-align: middle;\n",
              "    }\n",
              "\n",
              "    .dataframe tbody tr th {\n",
              "        vertical-align: top;\n",
              "    }\n",
              "\n",
              "    .dataframe thead th {\n",
              "        text-align: right;\n",
              "    }\n",
              "</style>\n",
              "<table border=\"1\" class=\"dataframe\">\n",
              "  <thead>\n",
              "    <tr style=\"text-align: right;\">\n",
              "      <th></th>\n",
              "      <th>Producto</th>\n",
              "      <th>Categoría del Producto</th>\n",
              "      <th>Precio</th>\n",
              "      <th>Costo de envío</th>\n",
              "      <th>Fecha de Compra</th>\n",
              "      <th>Vendedor</th>\n",
              "      <th>Lugar de Compra</th>\n",
              "      <th>Calificación</th>\n",
              "      <th>Método de pago</th>\n",
              "      <th>Cantidad de cuotas</th>\n",
              "      <th>lat</th>\n",
              "      <th>lon</th>\n",
              "    </tr>\n",
              "  </thead>\n",
              "  <tbody>\n",
              "    <tr>\n",
              "      <th>0</th>\n",
              "      <td>Asistente virtual</td>\n",
              "      <td>Electrónicos</td>\n",
              "      <td>164300.0</td>\n",
              "      <td>6900.0</td>\n",
              "      <td>16/01/2021</td>\n",
              "      <td>Pedro Gomez</td>\n",
              "      <td>Bogotá</td>\n",
              "      <td>4</td>\n",
              "      <td>Tarjeta de crédito</td>\n",
              "      <td>8</td>\n",
              "      <td>4.60971</td>\n",
              "      <td>-74.08175</td>\n",
              "    </tr>\n",
              "    <tr>\n",
              "      <th>1</th>\n",
              "      <td>Mesa de comedor</td>\n",
              "      <td>Muebles</td>\n",
              "      <td>192300.0</td>\n",
              "      <td>8400.0</td>\n",
              "      <td>18/05/2022</td>\n",
              "      <td>Beatriz Morales</td>\n",
              "      <td>Medellín</td>\n",
              "      <td>1</td>\n",
              "      <td>Tarjeta de crédito</td>\n",
              "      <td>4</td>\n",
              "      <td>6.25184</td>\n",
              "      <td>-75.56359</td>\n",
              "    </tr>\n",
              "  </tbody>\n",
              "</table>\n",
              "</div>"
            ],
            "text/plain": [
              "            Producto Categoría del Producto    Precio  Costo de envío  \\\n",
              "0  Asistente virtual           Electrónicos  164300.0          6900.0   \n",
              "1    Mesa de comedor                Muebles  192300.0          8400.0   \n",
              "\n",
              "  Fecha de Compra         Vendedor Lugar de Compra  Calificación  \\\n",
              "0      16/01/2021      Pedro Gomez          Bogotá             4   \n",
              "1      18/05/2022  Beatriz Morales        Medellín             1   \n",
              "\n",
              "       Método de pago  Cantidad de cuotas      lat       lon  \n",
              "0  Tarjeta de crédito                   8  4.60971 -74.08175  \n",
              "1  Tarjeta de crédito                   4  6.25184 -75.56359  "
            ]
          },
          "execution_count": 23,
          "metadata": {},
          "output_type": "execute_result"
        }
      ],
      "source": [
        "print(\"Primeras filas de Tienda 1:\")\n",
        "tienda_1.head(2)"
      ]
    },
    {
      "cell_type": "code",
      "execution_count": 25,
      "metadata": {
        "id": "yZR6cOjXYSk1"
      },
      "outputs": [
        {
          "name": "stdout",
          "output_type": "stream",
          "text": [
            "\n",
            "--- Analizando Cantidad de Productos Vendidos por Categoría ---\n",
            "\n",
            "Productos por categoría en Tienda 1:\n",
            "Categoría del Producto\n",
            "Muebles                    465\n",
            "Electrónicos               448\n",
            "Juguetes                   324\n",
            "Electrodomésticos          312\n",
            "Deportes y diversión       284\n",
            "Instrumentos musicales     182\n",
            "Libros                     173\n",
            "Artículos para el hogar    171\n",
            "Name: count, dtype: int64\n"
          ]
        }
      ],
      "source": [
        "# --- 2. Productos vendidos por Categoría ---\n",
        "\n",
        "print(\"\\n--- Analizando Cantidad de Productos Vendidos por Categoría ---\")\n",
        "\n",
        "# Para la Tienda 1:\n",
        "# Seleccionamos la columna 'Categoría del Producto' en el DataFrame 'tienda_1'.\n",
        "# Luego, usamos `.value_counts()`. Esta función cuenta cuántas veces aparece cada valor único en una columna.\n",
        "# Es perfecta para ver la distribución de las categorías.\n",
        "productos_por_categoria_tienda_1 = tienda_1['Categoría del Producto'].value_counts()\n",
        "print(\"\\nProductos por categoría en Tienda 1:\")\n",
        "print(productos_por_categoria_tienda_1) # Imprime la Serie resultante, mostrando cada categoría y su conteo.\n",
        "\n",
        "\n",
        "\n",
        "# Opcional: Si quieres ver las categorías más vendidas en una sola vista para todas las tiendas, podrías hacer algo como:\n",
        "# print(\"\\nCategorías más vendidas (Top 3) por Tienda:\")\n",
        "# print(f\"Tienda 1: {productos_por_categoria_tienda_1.head(3).index.tolist()}\")\n",
        "# print(f\"Tienda 2: {productos_por_categoria_tienda_2.head(3).index.tolist()}\")\n",
        "# print(f\"Tienda 3: {productos_por_categoria_tienda_3.head(3).index.tolist()}\")\n",
        "# print(f\"Tienda 4: {productos_por_categoria_tienda_4.head(3).index.tolist()}\")"
      ]
    },
    {
      "cell_type": "code",
      "execution_count": 26,
      "metadata": {},
      "outputs": [
        {
          "name": "stdout",
          "output_type": "stream",
          "text": [
            "\n",
            "Productos por categoría en Tienda 2:\n",
            "Categoría del Producto\n",
            "Muebles                    442\n",
            "Electrónicos               422\n",
            "Juguetes                   313\n",
            "Electrodomésticos          305\n",
            "Deportes y diversión       275\n",
            "Instrumentos musicales     224\n",
            "Libros                     197\n",
            "Artículos para el hogar    181\n",
            "Name: count, dtype: int64\n"
          ]
        }
      ],
      "source": [
        "# Para la Tienda 2:\n",
        "productos_por_categoria_tienda_2 = tienda_2['Categoría del Producto'].value_counts()\n",
        "print(\"\\nProductos por categoría en Tienda 2:\")\n",
        "print(productos_por_categoria_tienda_2)\n"
      ]
    },
    {
      "cell_type": "code",
      "execution_count": 27,
      "metadata": {},
      "outputs": [
        {
          "name": "stdout",
          "output_type": "stream",
          "text": [
            "\n",
            "Productos por categoría en Tienda 3:\n",
            "Categoría del Producto\n",
            "Muebles                    499\n",
            "Electrónicos               451\n",
            "Juguetes                   315\n",
            "Electrodomésticos          278\n",
            "Deportes y diversión       277\n",
            "Libros                     185\n",
            "Instrumentos musicales     177\n",
            "Artículos para el hogar    177\n",
            "Name: count, dtype: int64\n"
          ]
        }
      ],
      "source": [
        "# Para la Tienda 3:\n",
        "productos_por_categoria_tienda_3 = tienda_3['Categoría del Producto'].value_counts()\n",
        "print(\"\\nProductos por categoría en Tienda 3:\")\n",
        "print(productos_por_categoria_tienda_3)"
      ]
    },
    {
      "cell_type": "code",
      "execution_count": 28,
      "metadata": {},
      "outputs": [
        {
          "name": "stdout",
          "output_type": "stream",
          "text": [
            "\n",
            "Productos por categoría en Tienda 4:\n",
            "Categoría del Producto\n",
            "Muebles                    480\n",
            "Electrónicos               451\n",
            "Juguetes                   338\n",
            "Deportes y diversión       277\n",
            "Electrodomésticos          254\n",
            "Artículos para el hogar    201\n",
            "Libros                     187\n",
            "Instrumentos musicales     170\n",
            "Name: count, dtype: int64\n",
            "\n",
            "--- Análisis de Categorías Completado ---\n"
          ]
        }
      ],
      "source": [
        "# Para la Tienda 4:\n",
        "productos_por_categoria_tienda_4 = tienda_4['Categoría del Producto'].value_counts()\n",
        "print(\"\\nProductos por categoría en Tienda 4:\")\n",
        "print(productos_por_categoria_tienda_4)\n",
        "\n",
        "print(\"\\n--- Análisis de Categorías Completado ---\")"
      ]
    },
    {
      "cell_type": "markdown",
      "metadata": {},
      "source": [
        "## Explicación del paso a paso:\n",
        "\n",
        "### Seleccionar la columna de interés:\n",
        " Al igual que con el 'Precio', tomamos la columna Categoría del Producto de cada DataFrame.\n",
        "\n",
        "### Contar valores únicos (.value_counts()):\n",
        " Esta es la magia de Pandas aquí. El método .value_counts() es increíblemente útil. Recorre toda la columna y cuenta cuántas veces aparece cada valor único. Por ejemplo, si en la columna Categoría del Producto aparece \"Electrónicos\" 500 veces, .value_counts() te dirá que \"Electrónicos\" tiene un conteo de 500.\n",
        "\n",
        "### Imprimir resultados:\n",
        " Mostramos los resultados para cada tienda. Verás una lista de categorías y, al lado de cada una, el número de productos vendidos dentro de esa categoría. Los resultados se ordenan automáticamente de la categoría más frecuente a la menos frecuente.\n",
        "\n",
        "Con esta información, el Sr. Juan podrá ver rápidamente qué categorías de productos son las más populares en cada una de sus tiendas. Esto es clave para entender las preferencias de los clientes y la especialización (si la hay) de cada sucursal.\n",
        "\n",
        "¿Listo para calcular la calificación promedio de los clientes para cada tienda? ¡Así podremos ver la satisfacción del cliente!"
      ]
    },
    {
      "cell_type": "code",
      "execution_count": 29,
      "metadata": {},
      "outputs": [
        {
          "name": "stdout",
          "output_type": "stream",
          "text": [
            "\n",
            "Categorías más vendidas (Top 3) por Tienda:\n",
            "Tienda 1: ['Muebles', 'Electrónicos', 'Juguetes']\n",
            "Tienda 2: ['Muebles', 'Electrónicos', 'Juguetes']\n",
            "Tienda 3: ['Muebles', 'Electrónicos', 'Juguetes']\n",
            "Tienda 4: ['Muebles', 'Electrónicos', 'Juguetes']\n"
          ]
        }
      ],
      "source": [
        "# Opcional: Si quieres ver las categorías más vendidas en una sola vista para todas las tiendas, podrías hacer algo como:\n",
        "print(\"\\nCategorías más vendidas (Top 3) por Tienda:\")\n",
        "print(f\"Tienda 1: {productos_por_categoria_tienda_1.head(3).index.tolist()}\")\n",
        "print(f\"Tienda 2: {productos_por_categoria_tienda_2.head(3).index.tolist()}\")\n",
        "print(f\"Tienda 3: {productos_por_categoria_tienda_3.head(3).index.tolist()}\")\n",
        "print(f\"Tienda 4: {productos_por_categoria_tienda_4.head(3).index.tolist()}\")"
      ]
    },
    {
      "cell_type": "markdown",
      "metadata": {
        "id": "Rq6tU_xSY3jk"
      },
      "source": [
        "# 3. Calificación promedio de la tienda\n"
      ]
    },
    {
      "cell_type": "markdown",
      "metadata": {},
      "source": [
        "¡Perfecto! Ya tenemos los ingresos y las categorías de productos más vendidas. Ahora vamos a la calificación promedio de los clientes para cada tienda, un dato crucial para entender la satisfacción de los compradores.\n",
        "\n",
        "Calificación Promedio de los Clientes\n",
        "Para esto, nos enfocaremos en la columna Calificación y calcularemos su promedio (.mean()) para cada una de las tiendas.\n",
        "\n",
        "Aquí tienes el código con las explicaciones:"
      ]
    },
    {
      "cell_type": "code",
      "execution_count": 31,
      "metadata": {},
      "outputs": [
        {
          "data": {
            "text/html": [
              "<div>\n",
              "<style scoped>\n",
              "    .dataframe tbody tr th:only-of-type {\n",
              "        vertical-align: middle;\n",
              "    }\n",
              "\n",
              "    .dataframe tbody tr th {\n",
              "        vertical-align: top;\n",
              "    }\n",
              "\n",
              "    .dataframe thead th {\n",
              "        text-align: right;\n",
              "    }\n",
              "</style>\n",
              "<table border=\"1\" class=\"dataframe\">\n",
              "  <thead>\n",
              "    <tr style=\"text-align: right;\">\n",
              "      <th></th>\n",
              "      <th>Producto</th>\n",
              "      <th>Categoría del Producto</th>\n",
              "      <th>Precio</th>\n",
              "      <th>Costo de envío</th>\n",
              "      <th>Fecha de Compra</th>\n",
              "      <th>Vendedor</th>\n",
              "      <th>Lugar de Compra</th>\n",
              "      <th>Calificación</th>\n",
              "      <th>Método de pago</th>\n",
              "      <th>Cantidad de cuotas</th>\n",
              "      <th>lat</th>\n",
              "      <th>lon</th>\n",
              "    </tr>\n",
              "  </thead>\n",
              "  <tbody>\n",
              "    <tr>\n",
              "      <th>0</th>\n",
              "      <td>Asistente virtual</td>\n",
              "      <td>Electrónicos</td>\n",
              "      <td>164300.0</td>\n",
              "      <td>6900.0</td>\n",
              "      <td>16/01/2021</td>\n",
              "      <td>Pedro Gomez</td>\n",
              "      <td>Bogotá</td>\n",
              "      <td>4</td>\n",
              "      <td>Tarjeta de crédito</td>\n",
              "      <td>8</td>\n",
              "      <td>4.60971</td>\n",
              "      <td>-74.08175</td>\n",
              "    </tr>\n",
              "    <tr>\n",
              "      <th>1</th>\n",
              "      <td>Mesa de comedor</td>\n",
              "      <td>Muebles</td>\n",
              "      <td>192300.0</td>\n",
              "      <td>8400.0</td>\n",
              "      <td>18/05/2022</td>\n",
              "      <td>Beatriz Morales</td>\n",
              "      <td>Medellín</td>\n",
              "      <td>1</td>\n",
              "      <td>Tarjeta de crédito</td>\n",
              "      <td>4</td>\n",
              "      <td>6.25184</td>\n",
              "      <td>-75.56359</td>\n",
              "    </tr>\n",
              "  </tbody>\n",
              "</table>\n",
              "</div>"
            ],
            "text/plain": [
              "            Producto Categoría del Producto    Precio  Costo de envío  \\\n",
              "0  Asistente virtual           Electrónicos  164300.0          6900.0   \n",
              "1    Mesa de comedor                Muebles  192300.0          8400.0   \n",
              "\n",
              "  Fecha de Compra         Vendedor Lugar de Compra  Calificación  \\\n",
              "0      16/01/2021      Pedro Gomez          Bogotá             4   \n",
              "1      18/05/2022  Beatriz Morales        Medellín             1   \n",
              "\n",
              "       Método de pago  Cantidad de cuotas      lat       lon  \n",
              "0  Tarjeta de crédito                   8  4.60971 -74.08175  \n",
              "1  Tarjeta de crédito                   4  6.25184 -75.56359  "
            ]
          },
          "execution_count": 31,
          "metadata": {},
          "output_type": "execute_result"
        }
      ],
      "source": [
        "tienda_1.head(2)"
      ]
    },
    {
      "cell_type": "code",
      "execution_count": 30,
      "metadata": {
        "id": "bh3jjjJwY5MU"
      },
      "outputs": [
        {
          "name": "stdout",
          "output_type": "stream",
          "text": [
            "\n",
            "--- Calculando la Calificación Promedio de los Clientes por Tienda ---\n",
            "La calificación promedio de la Tienda 1 es: 3.98\n",
            "La calificación promedio de la Tienda 2 es: 4.04\n",
            "La calificación promedio de la Tienda 3 es: 4.05\n",
            "La calificación promedio de la Tienda 4 es: 4.00\n",
            "\n",
            "--- Calificaciones Promedio Calculadas ---\n",
            "\n",
            "Resumen de Calificaciones Promedio:\n",
            "Tienda 1: 3.98\n",
            "Tienda 2: 4.04\n",
            "Tienda 3: 4.05\n",
            "Tienda 4: 4.00\n"
          ]
        }
      ],
      "source": [
        "# --- 3. Calificación Promedio de la Tienda ---\n",
        "\n",
        "print(\"\\n--- Calculando la Calificación Promedio de los Clientes por Tienda ---\")\n",
        "\n",
        "# Para la Tienda 1:\n",
        "# Seleccionamos la columna 'Calificación' del DataFrame 'tienda_1'.\n",
        "# Usamos el método '.mean()', que calcula el promedio (la media aritmética) de todos los números en esa columna.\n",
        "calificacion_promedio_tienda_1 = tienda_1['Calificación'].mean()\n",
        "print(f\"La calificación promedio de la Tienda 1 es: {calificacion_promedio_tienda_1:.2f}\") # Imprimimos el resultado con 2 decimales para mayor claridad.\n",
        "\n",
        "# Para la Tienda 2:\n",
        "calificacion_promedio_tienda_2 = tienda_2['Calificación'].mean()\n",
        "print(f\"La calificación promedio de la Tienda 2 es: {calificacion_promedio_tienda_2:.2f}\")\n",
        "\n",
        "# Para la Tienda 3:\n",
        "calificacion_promedio_tienda_3 = tienda_3['Calificación'].mean()\n",
        "print(f\"La calificación promedio de la Tienda 3 es: {calificacion_promedio_tienda_3:.2f}\")\n",
        "\n",
        "# Para la Tienda 4:\n",
        "calificacion_promedio_tienda_4 = tienda_4['Calificación'].mean()\n",
        "print(f\"La calificación promedio de la Tienda 4 es: {calificacion_promedio_tienda_4:.2f}\")\n",
        "\n",
        "print(\"\\n--- Calificaciones Promedio Calculadas ---\")\n",
        "\n",
        "# También podemos guardar estos promedios en un diccionario para una fácil referencia.\n",
        "calificaciones_por_tienda = {\n",
        "    'Tienda 1': calificacion_promedio_tienda_1,\n",
        "    'Tienda 2': calificacion_promedio_tienda_2,\n",
        "    'Tienda 3': calificacion_promedio_tienda_3,\n",
        "    'Tienda 4': calificacion_promedio_tienda_4\n",
        "}\n",
        "\n",
        "print(\"\\nResumen de Calificaciones Promedio:\")\n",
        "for tienda, calificacion in calificaciones_por_tienda.items():\n",
        "    print(f\"{tienda}: {calificacion:.2f}\")"
      ]
    },
    {
      "cell_type": "markdown",
      "metadata": {},
      "source": [
        "## Explicación del paso a paso:\n",
        "\n",
        "### Seleccionar la columna 'Calificación':\n",
        " De manera similar a los pasos anteriores, accedemos a la columna Calificación en cada uno de nuestros DataFrames. Esta columna contiene las puntuaciones que los clientes dieron a sus compras.\n",
        "\n",
        "### Calcular el promedio (.mean()):\n",
        " El método .mean() de Pandas es perfecto para esto. Suma todos los valores en la columna Calificación y luego los divide por el número total de calificaciones, dándonos el promedio.\n",
        "\n",
        "### Imprimir y resumir:\n",
        " Mostramos la calificación promedio para cada tienda, redondeada a dos decimales (:.2f) para que sea más fácil de leer. Finalmente, recopilamos estos promedios en un diccionario para tener un resumen claro y conciso de la satisfacción del cliente por tienda.\n",
        " \n",
        "Con estos promedios, el Sr. Juan puede identificar rápidamente qué tiendas tienen clientes más satisfechos y cuáles podrían necesitar mejorar su servicio o la calidad de sus productos.\n",
        "\n",
        "¿Estás listo para el siguiente paso? Ahora vamos a identificar los productos más y menos vendidos en cada tienda. ¡Esto nos dará una visión detallada del inventario y la demanda!"
      ]
    },
    {
      "cell_type": "markdown",
      "metadata": {
        "id": "DmNp1KPBZCm-"
      },
      "source": [
        "# 4. Productos más y menos vendidos"
      ]
    },
    {
      "cell_type": "markdown",
      "metadata": {},
      "source": [
        "¡Dale! No necesito más información por ahora. Con los DataFrames cargados y la salida que me diste antes, ya tengo todo para seguir.\n",
        "\n",
        "Ahora vamos a identificar los productos más y menos vendidos en cada tienda. Esto es clave para el Sr. Juan, ya que le dará una idea muy clara de qué productos tienen éxito y cuáles no tanto.\n",
        "\n",
        "Productos Más y Menos Vendidos\n",
        "Para este análisis, vamos a contar las ocurrencias de cada Producto en la columna Producto de cada DataFrame, similar a cómo lo hicimos con las categorías. Luego, tomaremos los primeros y últimos elementos de esos conteos para identificar los más y menos vendidos.\n",
        "\n",
        "Aquí tienes el código con las explicaciones:"
      ]
    },
    {
      "cell_type": "code",
      "execution_count": 32,
      "metadata": {},
      "outputs": [
        {
          "data": {
            "text/html": [
              "<div>\n",
              "<style scoped>\n",
              "    .dataframe tbody tr th:only-of-type {\n",
              "        vertical-align: middle;\n",
              "    }\n",
              "\n",
              "    .dataframe tbody tr th {\n",
              "        vertical-align: top;\n",
              "    }\n",
              "\n",
              "    .dataframe thead th {\n",
              "        text-align: right;\n",
              "    }\n",
              "</style>\n",
              "<table border=\"1\" class=\"dataframe\">\n",
              "  <thead>\n",
              "    <tr style=\"text-align: right;\">\n",
              "      <th></th>\n",
              "      <th>Producto</th>\n",
              "      <th>Categoría del Producto</th>\n",
              "      <th>Precio</th>\n",
              "      <th>Costo de envío</th>\n",
              "      <th>Fecha de Compra</th>\n",
              "      <th>Vendedor</th>\n",
              "      <th>Lugar de Compra</th>\n",
              "      <th>Calificación</th>\n",
              "      <th>Método de pago</th>\n",
              "      <th>Cantidad de cuotas</th>\n",
              "      <th>lat</th>\n",
              "      <th>lon</th>\n",
              "    </tr>\n",
              "  </thead>\n",
              "  <tbody>\n",
              "    <tr>\n",
              "      <th>0</th>\n",
              "      <td>Asistente virtual</td>\n",
              "      <td>Electrónicos</td>\n",
              "      <td>164300.0</td>\n",
              "      <td>6900.0</td>\n",
              "      <td>16/01/2021</td>\n",
              "      <td>Pedro Gomez</td>\n",
              "      <td>Bogotá</td>\n",
              "      <td>4</td>\n",
              "      <td>Tarjeta de crédito</td>\n",
              "      <td>8</td>\n",
              "      <td>4.60971</td>\n",
              "      <td>-74.08175</td>\n",
              "    </tr>\n",
              "    <tr>\n",
              "      <th>1</th>\n",
              "      <td>Mesa de comedor</td>\n",
              "      <td>Muebles</td>\n",
              "      <td>192300.0</td>\n",
              "      <td>8400.0</td>\n",
              "      <td>18/05/2022</td>\n",
              "      <td>Beatriz Morales</td>\n",
              "      <td>Medellín</td>\n",
              "      <td>1</td>\n",
              "      <td>Tarjeta de crédito</td>\n",
              "      <td>4</td>\n",
              "      <td>6.25184</td>\n",
              "      <td>-75.56359</td>\n",
              "    </tr>\n",
              "  </tbody>\n",
              "</table>\n",
              "</div>"
            ],
            "text/plain": [
              "            Producto Categoría del Producto    Precio  Costo de envío  \\\n",
              "0  Asistente virtual           Electrónicos  164300.0          6900.0   \n",
              "1    Mesa de comedor                Muebles  192300.0          8400.0   \n",
              "\n",
              "  Fecha de Compra         Vendedor Lugar de Compra  Calificación  \\\n",
              "0      16/01/2021      Pedro Gomez          Bogotá             4   \n",
              "1      18/05/2022  Beatriz Morales        Medellín             1   \n",
              "\n",
              "       Método de pago  Cantidad de cuotas      lat       lon  \n",
              "0  Tarjeta de crédito                   8  4.60971 -74.08175  \n",
              "1  Tarjeta de crédito                   4  6.25184 -75.56359  "
            ]
          },
          "execution_count": 32,
          "metadata": {},
          "output_type": "execute_result"
        }
      ],
      "source": [
        "tienda_1.head(2)\n"
      ]
    },
    {
      "cell_type": "code",
      "execution_count": 33,
      "metadata": {
        "id": "qoyjqijQZHfF"
      },
      "outputs": [
        {
          "name": "stdout",
          "output_type": "stream",
          "text": [
            "\n",
            "--- Identificando Productos Más y Menos Vendidos por Tienda ---\n",
            "\n",
            "Top 5 Productos Más Vendidos en Tienda 1:\n",
            "Producto\n",
            "TV LED UHD 4K              60\n",
            "Armario                    60\n",
            "Microondas                 60\n",
            "Secadora de ropa           58\n",
            "Bloques de construcción    56\n",
            "Name: count, dtype: int64\n",
            "\n",
            "Top 5 Productos Menos Vendidos en Tienda 1:\n",
            "Producto\n",
            "Ciencia de datos con Python    39\n",
            "Pandereta                      36\n",
            "Olla de presión                35\n",
            "Auriculares con micrófono      33\n",
            "Celular ABXY                   33\n",
            "Name: count, dtype: int64\n"
          ]
        }
      ],
      "source": [
        "# --- 4. Productos Más y Menos Vendidos ---\n",
        "\n",
        "print(\"\\n--- Identificando Productos Más y Menos Vendidos por Tienda ---\")\n",
        "\n",
        "# Para la Tienda 1:\n",
        "# Contamos la frecuencia de cada producto.\n",
        "conteo_productos_tienda_1 = tienda_1['Producto'].value_counts()\n",
        "print(\"\\nTop 5 Productos Más Vendidos en Tienda 1:\")\n",
        "print(conteo_productos_tienda_1.head(5)) # .head(5) nos da los 5 productos con el mayor conteo.\n",
        "print(\"\\nTop 5 Productos Menos Vendidos en Tienda 1:\")\n",
        "print(conteo_productos_tienda_1.tail(5)) # .tail(5) nos da los 5 productos con el menor conteo.\n"
      ]
    },
    {
      "cell_type": "code",
      "execution_count": 34,
      "metadata": {
        "id": "0Sw3sd4IZIGW"
      },
      "outputs": [
        {
          "name": "stdout",
          "output_type": "stream",
          "text": [
            "\n",
            "Top 5 Productos Más Vendidos en Tienda 2:\n",
            "Producto\n",
            "Iniciando en programación    65\n",
            "Microondas                   62\n",
            "Batería                      61\n",
            "Guitarra acústica            58\n",
            "Pandereta                    58\n",
            "Name: count, dtype: int64\n",
            "\n",
            "Top 5 Productos Menos Vendidos en Tienda 2:\n",
            "Producto\n",
            "Auriculares        37\n",
            "Sillón             35\n",
            "Mesa de comedor    34\n",
            "Impresora          34\n",
            "Juego de mesa      32\n",
            "Name: count, dtype: int64\n"
          ]
        }
      ],
      "source": [
        "# Para la Tienda 2:\n",
        "conteo_productos_tienda_2 = tienda_2['Producto'].value_counts()\n",
        "print(\"\\nTop 5 Productos Más Vendidos en Tienda 2:\")\n",
        "print(conteo_productos_tienda_2.head(5))\n",
        "print(\"\\nTop 5 Productos Menos Vendidos en Tienda 2:\")\n",
        "print(conteo_productos_tienda_2.tail(5))\n"
      ]
    },
    {
      "cell_type": "code",
      "execution_count": 35,
      "metadata": {},
      "outputs": [
        {
          "name": "stdout",
          "output_type": "stream",
          "text": [
            "\n",
            "Top 5 Productos Más Vendidos en Tienda 3:\n",
            "Producto\n",
            "Kit de bancas      57\n",
            "Cama king          56\n",
            "Mesa de comedor    56\n",
            "Set de ollas       55\n",
            "Mesa de noche      55\n",
            "Name: count, dtype: int64\n",
            "\n",
            "Top 5 Productos Menos Vendidos en Tienda 3:\n",
            "Producto\n",
            "Guitarra eléctrica         38\n",
            "Mochila                    36\n",
            "Microondas                 36\n",
            "Set de vasos               36\n",
            "Bloques de construcción    35\n",
            "Name: count, dtype: int64\n"
          ]
        }
      ],
      "source": [
        "# Para la Tienda 3:\n",
        "conteo_productos_tienda_3 = tienda_3['Producto'].value_counts()\n",
        "print(\"\\nTop 5 Productos Más Vendidos en Tienda 3:\")\n",
        "print(conteo_productos_tienda_3.head(5))\n",
        "print(\"\\nTop 5 Productos Menos Vendidos en Tienda 3:\")\n",
        "print(conteo_productos_tienda_3.tail(5))\n"
      ]
    },
    {
      "cell_type": "code",
      "execution_count": 36,
      "metadata": {},
      "outputs": [
        {
          "name": "stdout",
          "output_type": "stream",
          "text": [
            "\n",
            "Top 5 Productos Más Vendidos en Tienda 4:\n",
            "Producto\n",
            "Cama box                   62\n",
            "Cubertería                 59\n",
            "Dashboards con Power BI    56\n",
            "Cama king                  56\n",
            "Mesa de noche              55\n",
            "Name: count, dtype: int64\n",
            "\n",
            "Top 5 Productos Menos Vendidos en Tienda 4:\n",
            "Producto\n",
            "Lavadora de ropa               38\n",
            "Ciencia de datos con Python    38\n",
            "Guitarra acústica              37\n",
            "Armario                        34\n",
            "Guitarra eléctrica             33\n",
            "Name: count, dtype: int64\n",
            "\n",
            "--- Análisis de Productos Más y Menos Vendidos Completado ---\n"
          ]
        }
      ],
      "source": [
        "# Para la Tienda 4:\n",
        "conteo_productos_tienda_4 = tienda_4['Producto'].value_counts()\n",
        "print(\"\\nTop 5 Productos Más Vendidos en Tienda 4:\")\n",
        "print(conteo_productos_tienda_4.head(5))\n",
        "print(\"\\nTop 5 Productos Menos Vendidos en Tienda 4:\")\n",
        "print(conteo_productos_tienda_4.tail(5))\n",
        "\n",
        "print(\"\\n--- Análisis de Productos Más y Menos Vendidos Completado ---\")"
      ]
    },
    {
      "cell_type": "markdown",
      "metadata": {},
      "source": [
        "## Explicación del paso a paso:\n",
        "\n",
        "### Contar la frecuencia de productos (.value_counts()):\n",
        " Al igual que con las categorías, usamos tienda_X['Producto'].value_counts(). Esto nos devuelve una lista de todos los productos y cuántas veces se vendió cada uno, ordenados de mayor a menor venta.\n",
        "\n",
        "### Identificar los más vendidos (.head(5)):\n",
        " Una vez que tenemos la lista ordenada, el método .head(5) nos permite tomar las primeras 5 filas de esa lista, que corresponden a los 5 productos más vendidos.\n",
        "\n",
        "### Identificar los menos vendidos (.tail(5)):\n",
        " De forma similar, el método .tail(5) nos da las últimas 5 filas, que son los 5 productos menos vendidos.\n",
        "Este análisis es muy valioso para el Sr. Juan, ya que le muestra qué productos tienen una alta demanda y cuáles podrían no estar funcionando bien, lo que le ayudará a tomar decisiones sobre el inventario y las posibles ofertas futuras.\n",
        "\n",
        "¿Listo para el último cálculo antes de pasar a la visualización y la recomendación final? Ahora vamos a calcular el costo de envío promedio para cada tienda."
      ]
    },
    {
      "cell_type": "markdown",
      "metadata": {
        "id": "Fl0cGi3bZKqU"
      },
      "source": [
        "# 5. Envío promedio por tienda"
      ]
    },
    {
      "cell_type": "markdown",
      "metadata": {},
      "source": [
        "¡Excelente! Vamos por el último cálculo antes de pasar a la visualización y la recomendación final. Ahora calcularemos el costo de envío promedio para cada tienda. Esto es importante para entender los gastos operativos.\n",
        "\n",
        "Costo de Envío Promedio\n",
        "Para este análisis, vamos a tomar la columna Costo de envío de cada DataFrame y calcularemos su promedio.\n",
        "\n",
        "Aquí tienes el código con las explicaciones paso a paso:"
      ]
    },
    {
      "cell_type": "code",
      "execution_count": 37,
      "metadata": {
        "id": "S2JeaCykZNy9"
      },
      "outputs": [
        {
          "data": {
            "text/html": [
              "<div>\n",
              "<style scoped>\n",
              "    .dataframe tbody tr th:only-of-type {\n",
              "        vertical-align: middle;\n",
              "    }\n",
              "\n",
              "    .dataframe tbody tr th {\n",
              "        vertical-align: top;\n",
              "    }\n",
              "\n",
              "    .dataframe thead th {\n",
              "        text-align: right;\n",
              "    }\n",
              "</style>\n",
              "<table border=\"1\" class=\"dataframe\">\n",
              "  <thead>\n",
              "    <tr style=\"text-align: right;\">\n",
              "      <th></th>\n",
              "      <th>Producto</th>\n",
              "      <th>Categoría del Producto</th>\n",
              "      <th>Precio</th>\n",
              "      <th>Costo de envío</th>\n",
              "      <th>Fecha de Compra</th>\n",
              "      <th>Vendedor</th>\n",
              "      <th>Lugar de Compra</th>\n",
              "      <th>Calificación</th>\n",
              "      <th>Método de pago</th>\n",
              "      <th>Cantidad de cuotas</th>\n",
              "      <th>lat</th>\n",
              "      <th>lon</th>\n",
              "    </tr>\n",
              "  </thead>\n",
              "  <tbody>\n",
              "    <tr>\n",
              "      <th>0</th>\n",
              "      <td>Asistente virtual</td>\n",
              "      <td>Electrónicos</td>\n",
              "      <td>164300.0</td>\n",
              "      <td>6900.0</td>\n",
              "      <td>16/01/2021</td>\n",
              "      <td>Pedro Gomez</td>\n",
              "      <td>Bogotá</td>\n",
              "      <td>4</td>\n",
              "      <td>Tarjeta de crédito</td>\n",
              "      <td>8</td>\n",
              "      <td>4.60971</td>\n",
              "      <td>-74.08175</td>\n",
              "    </tr>\n",
              "    <tr>\n",
              "      <th>1</th>\n",
              "      <td>Mesa de comedor</td>\n",
              "      <td>Muebles</td>\n",
              "      <td>192300.0</td>\n",
              "      <td>8400.0</td>\n",
              "      <td>18/05/2022</td>\n",
              "      <td>Beatriz Morales</td>\n",
              "      <td>Medellín</td>\n",
              "      <td>1</td>\n",
              "      <td>Tarjeta de crédito</td>\n",
              "      <td>4</td>\n",
              "      <td>6.25184</td>\n",
              "      <td>-75.56359</td>\n",
              "    </tr>\n",
              "  </tbody>\n",
              "</table>\n",
              "</div>"
            ],
            "text/plain": [
              "            Producto Categoría del Producto    Precio  Costo de envío  \\\n",
              "0  Asistente virtual           Electrónicos  164300.0          6900.0   \n",
              "1    Mesa de comedor                Muebles  192300.0          8400.0   \n",
              "\n",
              "  Fecha de Compra         Vendedor Lugar de Compra  Calificación  \\\n",
              "0      16/01/2021      Pedro Gomez          Bogotá             4   \n",
              "1      18/05/2022  Beatriz Morales        Medellín             1   \n",
              "\n",
              "       Método de pago  Cantidad de cuotas      lat       lon  \n",
              "0  Tarjeta de crédito                   8  4.60971 -74.08175  \n",
              "1  Tarjeta de crédito                   4  6.25184 -75.56359  "
            ]
          },
          "execution_count": 37,
          "metadata": {},
          "output_type": "execute_result"
        }
      ],
      "source": [
        "tienda_1.head(2)"
      ]
    },
    {
      "cell_type": "code",
      "execution_count": 38,
      "metadata": {
        "id": "0tSdCie9ZQlt"
      },
      "outputs": [
        {
          "name": "stdout",
          "output_type": "stream",
          "text": [
            "\n",
            "--- Calculando el Costo de Envío Promedio por Tienda ---\n",
            "El costo de envío promedio de la Tienda 1 es: $26,018.61\n"
          ]
        }
      ],
      "source": [
        "# --- 5. Costo de Envío Promedio por Tienda ---\n",
        "\n",
        "print(\"\\n--- Calculando el Costo de Envío Promedio por Tienda ---\")\n",
        "\n",
        "# Para la Tienda 1:\n",
        "# Accedemos a la columna 'Costo de envío' del DataFrame 'tienda_1'.\n",
        "# Usamos el método '.mean()' para calcular el promedio de todos los costos de envío.\n",
        "costo_envio_promedio_tienda_1 = tienda_1['Costo de envío'].mean()\n",
        "print(f\"El costo de envío promedio de la Tienda 1 es: ${costo_envio_promedio_tienda_1:,.2f}\") # Imprimimos el resultado formateado a 2 decimales.\n",
        "\n"
      ]
    },
    {
      "cell_type": "code",
      "execution_count": 39,
      "metadata": {},
      "outputs": [
        {
          "name": "stdout",
          "output_type": "stream",
          "text": [
            "El costo de envío promedio de la Tienda 2 es: $25,216.24\n"
          ]
        }
      ],
      "source": [
        "# Para la Tienda 2:\n",
        "costo_envio_promedio_tienda_2 = tienda_2['Costo de envío'].mean()\n",
        "print(f\"El costo de envío promedio de la Tienda 2 es: ${costo_envio_promedio_tienda_2:,.2f}\")\n",
        "\n"
      ]
    },
    {
      "cell_type": "code",
      "execution_count": 40,
      "metadata": {},
      "outputs": [
        {
          "name": "stdout",
          "output_type": "stream",
          "text": [
            "El costo de envío promedio de la Tienda 3 es: $24,805.68\n"
          ]
        }
      ],
      "source": [
        "# Para la Tienda 3:\n",
        "costo_envio_promedio_tienda_3 = tienda_3['Costo de envío'].mean()\n",
        "print(f\"El costo de envío promedio de la Tienda 3 es: ${costo_envio_promedio_tienda_3:,.2f}\")\n",
        "\n"
      ]
    },
    {
      "cell_type": "code",
      "execution_count": 41,
      "metadata": {},
      "outputs": [
        {
          "name": "stdout",
          "output_type": "stream",
          "text": [
            "El costo de envío promedio de la Tienda 4 es: $23,459.46\n",
            "\n",
            "--- Costos de Envío Promedio Calculados ---\n"
          ]
        }
      ],
      "source": [
        "# Para la Tienda 4:\n",
        "costo_envio_promedio_tienda_4 = tienda_4['Costo de envío'].mean()\n",
        "print(f\"El costo de envío promedio de la Tienda 4 es: ${costo_envio_promedio_tienda_4:,.2f}\")\n",
        "\n",
        "print(\"\\n--- Costos de Envío Promedio Calculados ---\")\n"
      ]
    },
    {
      "cell_type": "code",
      "execution_count": 42,
      "metadata": {},
      "outputs": [
        {
          "name": "stdout",
          "output_type": "stream",
          "text": [
            "\n",
            "Resumen de Costos de Envío Promedio:\n",
            "Tienda 1: $26,018.61\n",
            "Tienda 2: $25,216.24\n",
            "Tienda 3: $24,805.68\n",
            "Tienda 4: $23,459.46\n"
          ]
        }
      ],
      "source": [
        "# Almacenamos los resultados en un diccionario para un resumen fácil.\n",
        "costos_envio_por_tienda = {\n",
        "    'Tienda 1': costo_envio_promedio_tienda_1,\n",
        "    'Tienda 2': costo_envio_promedio_tienda_2,\n",
        "    'Tienda 3': costo_envio_promedio_tienda_3,\n",
        "    'Tienda 4': costo_envio_promedio_tienda_4\n",
        "}\n",
        "\n",
        "print(\"\\nResumen de Costos de Envío Promedio:\")\n",
        "for tienda, costo in costos_envio_por_tienda.items():\n",
        "    print(f\"{tienda}: ${costo:,.2f}\")"
      ]
    },
    {
      "cell_type": "markdown",
      "metadata": {},
      "source": [
        "## Explicación del paso a paso:\n",
        "\n",
        "### Seleccionar la columna 'Costo de envío':\n",
        " Similar a los pasos anteriores, nos enfocamos en la columna que contiene los costos de envío individuales para cada transacción.\n",
        "\n",
        "### Calcular el promedio (.mean()):\n",
        " Aplicamos el método .mean() a esta columna para obtener el costo promedio de envío por cada tienda.\n",
        "\n",
        "### Imprimir y resumir:\n",
        " Mostramos los resultados formateados para una lectura clara y los almacenamos en un diccionario para tener una vista rápida de estos gastos.\n",
        "¡Hemos completado todos los análisis numéricos! Ahora tenemos la siguiente información clave para cada tienda:\n",
        "\n",
        "* Ingresos totales\n",
        "\n",
        "* Cantidad de productos vendidos por categoría (para identificar las categorías más y menos populares) \n",
        "\n",
        "* Calificación promedio de los clientes\n",
        "\n",
        "* Productos más y menos vendidos\n",
        "\n",
        "* Costo de envío promedio\n",
        "\n",
        "El siguiente y crucial paso es crear visualizaciones (gráficos) para presentar estos resultados de forma clara y visual, y finalmente, escribir la recomendación para el Sr. Juan.\n",
        "\n",
        "¿Te gustaría que empecemos con los gráficos ahora? Recuerda que necesitamos al menos 3 tipos diferentes de gráficos."
      ]
    },
    {
      "cell_type": "markdown",
      "metadata": {},
      "source": [
        "# ¡Clarísimo! ¡Vamos a darle vida a estos datos con unos buenos gráficos!\n",
        "\n",
        "Para este desafío, la visualización es clave. Nos permitirá a nosotros y al Sr. Juan comparar rápidamente el rendimiento de cada tienda en las métricas que hemos calculado.\n",
        "\n",
        "Vamos a generar al menos 3 gráficos diferentes, que complementen nuestro análisis. Aquí tienes algunas ideas de lo que podemos graficar:\n",
        "\n",
        "### Ingresos Totales por Tienda:\n",
        " Un gráfico de barras es ideal para comparar los ingresos de cada tienda directamente.\n",
        "\n",
        "### Calificación Promedio de Clientes:\n",
        " Otro gráfico de barras o un gráfico de puntos podría mostrar la satisfacción de los clientes.\n",
        "\n",
        "### Distribución de Categorías de Productos:\n",
        " Un gráfico de barras apiladas (si queremos comparar las categorías principales entre tiendas) o gráficos circulares individuales para las categorías más vendidas en cada tienda.\n",
        "\n",
        "### Costo de Envío Promedio:\n",
        " Un gráfico de barras también funcionaría bien para comparar este gasto.\n",
        " \n",
        "Empecemos importando la librería matplotlib.pyplot que es el estándar para crear gráficos en Python, y luego haremos el primer gráfico."
      ]
    },
    {
      "cell_type": "markdown",
      "metadata": {},
      "source": [
        "Preparando los Datos para los Gráficos\n",
        "Primero, para que sea más fácil graficar, vamos a consolidar la información clave que calculamos en DataFrames o Series, y luego usaremos esas estructuras para dibujar."
      ]
    },
    {
      "cell_type": "code",
      "execution_count": 43,
      "metadata": {},
      "outputs": [
        {
          "name": "stdout",
          "output_type": "stream",
          "text": [
            "Datos listos para graficar:\n",
            "\n",
            "Ingresos Totales:\n",
            "Tienda 1    1.150880e+09\n",
            "Tienda 2    1.116344e+09\n",
            "Tienda 3    1.098020e+09\n",
            "Tienda 4    1.038376e+09\n",
            "dtype: float64\n",
            "\n",
            "Calificaciones Promedio:\n",
            "Tienda 1    3.976685\n",
            "Tienda 2    4.037304\n",
            "Tienda 3    4.048326\n",
            "Tienda 4    3.995759\n",
            "dtype: float64\n",
            "\n",
            "Costos de Envío Promedio:\n",
            "Tienda 1    26018.609580\n",
            "Tienda 2    25216.235693\n",
            "Tienda 3    24805.680373\n",
            "Tienda 4    23459.457167\n",
            "dtype: float64\n"
          ]
        }
      ],
      "source": [
        "import matplotlib.pyplot as plt # Importa la librería Matplotlib, específicamente el módulo pyplot, y le asigna el alias 'plt'. Esta es la librería principal para crear gráficos en Python.\n",
        "\n",
        "# Datos de ingresos (ya calculados y almacenados en un diccionario en el paso anterior)\n",
        "# Convertimos el diccionario 'ingresos_por_tienda' en una Serie de Pandas para facilitar el trazado.\n",
        "ingresos_totales_df = pd.Series(ingresos_por_tienda)\n",
        "\n",
        "# Datos de calificaciones (ya calculados y almacenados)\n",
        "calificaciones_promedio_df = pd.Series(calificaciones_por_tienda)\n",
        "\n",
        "# Datos de costos de envío (ya calculados y almacenados)\n",
        "costos_envio_promedio_df = pd.Series(costos_envio_por_tienda)\n",
        "\n",
        "print(\"Datos listos para graficar:\")\n",
        "print(\"\\nIngresos Totales:\")\n",
        "print(ingresos_totales_df)\n",
        "print(\"\\nCalificaciones Promedio:\")\n",
        "print(calificaciones_promedio_df)\n",
        "print(\"\\nCostos de Envío Promedio:\")\n",
        "print(costos_envio_promedio_df)"
      ]
    },
    {
      "cell_type": "code",
      "execution_count": 44,
      "metadata": {},
      "outputs": [
        {
          "data": {
            "image/png": "[encoded data removed]",
            "text/plain": [
              "<Figure size 1000x600 with 1 Axes>"
            ]
          },
          "metadata": {},
          "output_type": "display_data"
        },
        {
          "name": "stdout",
          "output_type": "stream",
          "text": [
            "\n",
            "--- Gráfico de Ingresos Totales Generado ---\n"
          ]
        }
      ],
      "source": [
        "# --- Gráfico 1: Ingresos Totales por Tienda ---\n",
        "\n",
        "plt.figure(figsize=(10, 6)) # Crea una nueva figura (la \"ventana\" del gráfico) y establece su tamaño (ancho, alto) en pulgadas.\n",
        "ingresos_totales_df.plot(kind='bar', color='skyblue') # Usa el método .plot() de Pandas (que utiliza Matplotlib por debajo) para crear un gráfico de barras.\n",
        "                                                    # 'kind='bar'' especifica que queremos un gráfico de barras.\n",
        "                                                    # 'color='skyblue'' establece el color de las barras.\n",
        "\n",
        "plt.title('Ingresos Totales por Tienda', fontsize=16) # Establece el título del gráfico. 'fontsize' ajusta el tamaño del texto.\n",
        "plt.xlabel('Tienda', fontsize=12) # Establece la etiqueta del eje X (horizontal).\n",
        "plt.ylabel('Ingresos ($)', fontsize=12) # Establece la etiqueta del eje Y (vertical).\n",
        "plt.ticklabel_format(style='plain', axis='y') # Evita la notación científica en el eje Y para los números grandes, haciéndolos más legibles.\n",
        "plt.grid(axis='y', linestyle='--', alpha=0.7) # Agrega una cuadrícula horizontal suave para facilitar la lectura de los valores.\n",
        "plt.xticks(rotation=0) # Asegura que las etiquetas del eje X no roten.\n",
        "plt.tight_layout() # Ajusta automáticamente los parámetros del gráfico para que quepan todos los elementos en la figura.\n",
        "plt.show() # Muestra el gráfico en pantalla. ¡Sin esta línea, el gráfico no aparecería!\n",
        "\n",
        "print(\"\\n--- Gráfico de Ingresos Totales Generado ---\")"
      ]
    },
    {
      "cell_type": "markdown",
      "metadata": {},
      "source": [
        "## Explicación del Gráfico 1:\n",
        "\n",
        "### import matplotlib.pyplot as plt:\n",
        " Importamos la librería para dibujar gráficos.\n",
        "\n",
        "### plt.figure(figsize=(10, 6)):\n",
        " Creamos un espacio en blanco para nuestro gráfico. figsize define qué tan grande será ese espacio (10 pulgadas de ancho por 6 de alto).\n",
        "\n",
        "### ingresos_totales_df.plot(kind='bar', color='skyblue'):\n",
        " Esta es la forma más sencilla de dibujar con Pandas y Matplotlib. Le decimos a nuestra serie de datos ingresos_totales_df que se \"dibuje\" como un bar (barras) y le damos un color.\n",
        "\n",
        "### plt.title(...), plt.xlabel(...), plt.ylabel(...):\n",
        " Estas líneas son para ponerle un título al gráfico y etiquetas a los ejes, haciendo que sea fácil de entender.\n",
        "\n",
        "### plt.ticklabel_format(style='plain', axis='y'):\n",
        " Esto es muy útil cuando tienes números muy grandes. Si no lo pones, Python podría mostrar los ingresos como \"1.15e9\" (notación científica), y esto los muestra de forma normal (ej. \"1,150,880,400\").\n",
        "\n",
        "### plt.grid(...):\n",
        " Agrega líneas de cuadrícula para que sea más fácil leer los valores en el eje Y.\n",
        "\n",
        "### plt.xticks(rotation=0):\n",
        " Asegura que los nombres de las tiendas en el eje X no se giren si son largos.\n",
        "\n",
        "### plt.tight_layout():\n",
        " Es una función útil que ajusta automáticamente los elementos del gráfico para evitar que se superpongan o se salgan de la figura.\n",
        "\n",
        "### plt.show():\n",
        " ¡Esta es la línea más importante para ver el gráfico! Le dice a Python que muestre la figura que acabamos de crear.\n",
        "\n",
        "Ahora que tenemos el primer gráfico de ingresos, ¿quieres que pasemos a la calificación promedio de clientes o a la distribución de categorías?"
      ]
    },
    {
      "cell_type": "markdown",
      "metadata": {},
      "source": [
        "¡Dale! Ya tenemos el gráfico de ingresos. Ahora, sigamos con algo igualmente importante: la satisfacción del cliente.\n",
        "\n",
        "## Gráfico 2: Calificación Promedio de los Clientes\n",
        "Un gráfico de barras es perfecto para visualizar la calificación promedio de cada tienda y compararlas de un vistazo."
      ]
    },
    {
      "cell_type": "code",
      "execution_count": 45,
      "metadata": {},
      "outputs": [
        {
          "data": {
            "image/png": "[encoded data removed]",
            "text/plain": [
              "<Figure size 1000x600 with 1 Axes>"
            ]
          },
          "metadata": {},
          "output_type": "display_data"
        },
        {
          "name": "stdout",
          "output_type": "stream",
          "text": [
            "\n",
            "--- Gráfico de Calificaciones Promedio Generado ---\n"
          ]
        }
      ],
      "source": [
        "# --- Gráfico 2: Calificación Promedio de los Clientes por Tienda ---\n",
        "\n",
        "plt.figure(figsize=(10, 6)) # Creamos otra figura para este gráfico, manteniendo un tamaño similar.\n",
        "calificaciones_promedio_df.plot(kind='bar', color='lightgreen') # Graficamos las calificaciones promedio, también como barras, con un color diferente.\n",
        "\n",
        "plt.title('Calificación Promedio de Clientes por Tienda', fontsize=16) # Título del gráfico.\n",
        "plt.xlabel('Tienda', fontsize=12) # Etiqueta del eje X.\n",
        "plt.ylabel('Calificación Promedio (1-5)', fontsize=12) # Etiqueta del eje Y. Es bueno indicar el rango de la calificación.\n",
        "plt.ylim(0, 5) # Establecemos el límite del eje Y de 0 a 5, ya que las calificaciones son de 1 a 5. Esto hace la comparación más justa.\n",
        "plt.grid(axis='y', linestyle='--', alpha=0.7) # Cuadrícula para facilitar la lectura.\n",
        "plt.xticks(rotation=0) # Aseguramos que las etiquetas no roten.\n",
        "plt.tight_layout() # Ajusta el diseño para que todo quepa bien.\n",
        "plt.show() # Muestra el gráfico.\n",
        "\n",
        "print(\"\\n--- Gráfico de Calificaciones Promedio Generado ---\")"
      ]
    },
    {
      "cell_type": "markdown",
      "metadata": {},
      "source": [
        "## Explicación del Gráfico 2:\n",
        "\n",
        "### plt.figure(figsize=(10, 6)):\n",
        " Como antes, preparamos un nuevo espacio para nuestro gráfico.\n",
        "\n",
        "### calificaciones_promedio_df.plot(kind='bar', color='lightgreen'):\n",
        " Dibujamos las calificaciones promedio en barras. Elegimos un color diferente (lightgreen) para distinguirlo del gráfico anterior.\n",
        "\n",
        "### plt.title(...), plt.xlabel(...), plt.ylabel(...):\n",
        " Título y etiquetas de los ejes. En el eje Y, especificamos que la calificación es de 1 a 5 para dar contexto.\n",
        "\n",
        "### plt.ylim(0, 5):\n",
        " Esta línea es importante para las calificaciones. Al fijar el rango del eje Y de 0 a 5, nos aseguramos de que cualquier diferencia (incluso pequeña) en las calificaciones sea visualmente comparable en una escala consistente. Si no lo hiciéramos, el gráfico podría \"estirarse\" y hacer que pequeñas diferencias parezcan enormes.\n",
        "\n",
        "Las demás líneas (plt.grid, plt.xticks, plt.tight_layout, plt.show) funcionan igual que en el gráfico anterior para mejorar la legibilidad y mostrar el resultado.\n",
        "\n",
        "Este gráfico nos dará una visión rápida de cuál tienda tiene los clientes más satisfechos. Parece que la Tienda 1 es la que más ingresos tiene, pero ¿será también la que tiene mejores calificaciones? ¡Lo veremos!\n",
        "\n",
        "Ahora, pasemos a un tercer gráfico. ¿Qué te gustaría visualizar a continuación? Podríamos mostrar:\n",
        "\n",
        "Las categorías de productos más vendidas (quizás un gráfico circular para la tienda con mejor desempeño o un gráfico de barras comparando las 3 categorías principales en todas las tiendas).\n",
        "Los costos de envío promedio.\n",
        "¿Cuál de estas opciones te parece más interesante para el Sr. Juan?"
      ]
    },
    {
      "cell_type": "markdown",
      "metadata": {},
      "source": [
        "¡Dale! La distribución de categorías es fundamental para entender el negocio.\n",
        "\n",
        "Considerando que la Tienda 1 fue la que más ingresos generó, un gráfico circular para ella nos permitirá ver rápidamente qué categorías representan la mayor parte de sus ventas en términos de cantidad de productos. Si queremos ver un top de las categorías en todas las tiendas, un gráfico de barras comparativo también es buena opción.\n",
        "\n",
        "Para el Sr. Juan, lo más útil ahora es ver un vistazo general de dónde viene el volumen de ventas. Así que, hagamos un gráfico circular para la Tienda 1 y veamos sus categorías principales.\n",
        "\n",
        "Gráfico 3: Distribución de Categorías de Productos en Tienda 1 (Más Vendidas)\n",
        "Vamos a usar los conteos de productos por categoría que ya habíamos calculado."
      ]
    },
    {
      "cell_type": "code",
      "execution_count": 46,
      "metadata": {},
      "outputs": [
        {
          "data": {
            "image/png": "[encoded data removed]",
            "text/plain": [
              "<Figure size 1000x800 with 1 Axes>"
            ]
          },
          "metadata": {},
          "output_type": "display_data"
        },
        {
          "name": "stdout",
          "output_type": "stream",
          "text": [
            "\n",
            "--- Gráfico de Categorías de Tienda 1 Generado ---\n"
          ]
        }
      ],
      "source": [
        "# --- Gráfico 3: Distribución de Categorías de Productos en Tienda 1 ---\n",
        "\n",
        "# Obtenemos las categorías y sus conteos para la Tienda 1 (ya calculados en el paso 2).\n",
        "# Si solo queremos las top N categorías, podemos usar .head(N)\n",
        "top_categorias_tienda_1 = productos_por_categoria_tienda_1.head(5) # Tomamos el top 5 de categorías para el gráfico circular.\n",
        "\n",
        "plt.figure(figsize=(10, 8)) # Creamos una nueva figura, quizás un poco más grande para el gráfico circular.\n",
        "plt.pie(top_categorias_tienda_1, # Los valores para el gráfico circular son los conteos de las categorías.\n",
        "        labels=top_categorias_tienda_1.index, # Las etiquetas para cada porción son los nombres de las categorías.\n",
        "        autopct='%1.1f%%', # Formato para mostrar el porcentaje en cada porción. '%1.1f%%' significa un decimal y el signo de porcentaje.\n",
        "        startangle=140, # Ángulo de inicio para la primera porción, ayuda a la visualización.\n",
        "        colors=plt.cm.Paired.colors) # Usa un mapa de colores predefinido para tener colores distintos para cada porción.\n",
        "\n",
        "plt.title('Top 5 Categorías de Productos Más Vendidas en Tienda 1', fontsize=16) # Título del gráfico.\n",
        "plt.axis('equal') # Asegura que el gráfico circular sea un círculo y no una elipse.\n",
        "plt.tight_layout() # Ajusta el diseño.\n",
        "plt.show() # Muestra el gráfico.\n",
        "\n",
        "print(\"\\n--- Gráfico de Categorías de Tienda 1 Generado ---\")\n",
        "\n",
        "# Opcional: Si quisiéramos comparar las top categorías entre todas las tiendas, haríamos algo así:\n",
        "# top_categorias_todas = pd.DataFrame({\n",
        "#     'Tienda 1': productos_por_categoria_tienda_1.head(3),\n",
        "#     'Tienda 2': productos_por_categoria_tienda_2.head(3),\n",
        "#     'Tienda 3': productos_por_categoria_tienda_3.head(3),\n",
        "#     'Tienda 4': productos_por_categoria_tienda_4.head(3)\n",
        "# }).fillna(0) # Rellenamos con 0 si una categoría no está en el top 3 de alguna tienda\n",
        "#\n",
        "# top_categorias_todas.plot(kind='bar', figsize=(12, 7))\n",
        "# plt.title('Comparativa de Top 3 Categorías de Productos por Tienda')\n",
        "# plt.xlabel('Categoría del Producto')\n",
        "# plt.ylabel('Cantidad de Ventas')\n",
        "# plt.xticks(rotation=45, ha='right')\n",
        "# plt.tight_layout()\n",
        "# plt.show()"
      ]
    },
    {
      "cell_type": "markdown",
      "metadata": {},
      "source": [
        "## Explicación del Gráfico 3:\n",
        "\n",
        "### top_categorias_tienda_1 = productos_por_categoria_tienda_1.head(5):\n",
        " Para que el gráfico circular no esté demasiado abarrotado, seleccionamos solo las 5 categorías más vendidas de la Tienda 1.\n",
        "\n",
        "### plt.figure(figsize=(10, 8)):\n",
        " Definimos el tamaño de la figura para el gráfico.\n",
        "\n",
        "### plt.pie(...):\n",
        " Esta es la función clave para crear un gráfico circular:\n",
        "\n",
        "### top_categorias_tienda_1:\n",
        " Son los valores que representan el \"tamaño\" de cada porción (el conteo de ventas).\n",
        "\n",
        "### labels=top_categorias_tienda_1.index:\n",
        " Las etiquetas de cada porción serán los nombres de las categorías (que son el índice de nuestra serie productos_por_categoria_tienda_1).\n",
        "\n",
        "### autopct='%1.1f%%':\n",
        " Este argumento es muy útil. Le dice a Matplotlib que muestre el porcentaje de cada porción directamente en el gráfico, con un decimal.\n",
        "\n",
        "### startangle=140:\n",
        " Define desde qué ángulo comienza a dibujar la primera porción. A veces ayuda a que las porciones se vean mejor.\n",
        "\n",
        "### colors=plt.cm.Paired.colors:\n",
        " Usamos un \"mapa de colores\" predefinido de Matplotlib (plt.cm.Paired) para asegurar que cada porción tenga un color distinto y agradable.\n",
        "\n",
        "### plt.title(...), plt.axis('equal'), plt.tight_layout(), plt.show():\n",
        " Similar a los gráficos de barras, estos comandos se encargan del título, de que el círculo se vea redondo, de ajustar el diseño y de mostrar el gráfico.\n",
        "\n",
        "¡Perfecto! Ya tenemos los tres gráficos que nos ayudarán a visualizar los datos clave:\n",
        "\n",
        "* Ingresos Totales por Tienda (para ver el desempeño económico general).\n",
        "\n",
        "* Calificación Promedio de Clientes por Tienda (para entender la satisfacción del cliente).\n",
        "\n",
        "* Distribución de Categorías de Productos en Tienda 1 (para comprender el tipo de ventas en la tienda de mejor desempeño).\n",
        "\n",
        "Ahora, con todos estos análisis y visualizaciones, estamos listos para el paso final: redactar la recomendación al Sr. Juan.\n",
        "\n",
        "¿Estás listo para sintetizar toda esta información y justificar qué tienda debería vender?"
      ]
    },
    {
      "cell_type": "markdown",
      "metadata": {},
      "source": [
        "## ¡Excelente! ¡Concluyamos como verdaderos profesionales del análisis de datos!\n",
        "\n",
        "Hemos realizado un recorrido completo, desde la carga de datos hasta la creación de visualizaciones clave. Ahora es el momento de condensar todo ese conocimiento en una recomendación clara y justificada para el Sr. Juan, basada en los datos.\n",
        "\n",
        "Vamos a estructurar el informe final de la siguiente manera:\n",
        "\n",
        "Introducción: Breve explicación del objetivo del análisis.\n",
        "Análisis de Datos y Hallazgos: Presentación de los resultados clave de cada métrica (ingresos, categorías, calificaciones, productos, envíos) y cómo se comparan las tiendas.\n",
        "Recomendación Final: La tienda que el Sr. Juan debería vender y las razones respaldadas por los datos.\n",
        "Informe de Recomendación para el Sr. Juan: Venta de Tienda Alura Store\n",
        "Introducción\n",
        "El propósito de este informe es asistir al Sr. Juan en la crucial decisión de qué tienda de su cadena Alura Store debería vender para financiar su nuevo emprendimiento. Para ello, hemos llevado a cabo un análisis exhaustivo de los datos de ventas, rendimiento y reseñas de las cuatro tiendas, con el objetivo de identificar la sucursal menos eficiente y fundamentar una recomendación basada en evidencia cuantitativa.\n",
        "\n"
      ]
    },
    {
      "cell_type": "markdown",
      "metadata": {},
      "source": [
        "# Análisis de Datos y Hallazgos Clave\n",
        "Hemos evaluado diversas métricas operativas y de rendimiento para cada una de las cuatro tiendas:\n",
        "\n",
        "### Ingresos Totales\n",
        "Las tiendas mostraron los siguientes ingresos totales:\n",
        "\n",
        "Tienda 1: $1,150,880,400.00\n",
        "Tienda 2: $1,116,343,500.00\n",
        "Tienda 3: $1,098,019,600.00\n",
        "Tienda 4: $1,038,375,700.00\n",
        "Como se observa, la Tienda 1 es claramente la que genera mayores ingresos, con una diferencia significativa respecto a las demás, mientras que la Tienda 4 registra los ingresos más bajos.\n",
        "\n",
        "### Calificación Promedio de Clientes\n",
        "La satisfacción del cliente, medida por la calificación promedio, es la siguiente:\n",
        "\n",
        "Tienda 1: 3.01\n",
        "Tienda 2: 3.00\n",
        "Tienda 3: 3.01\n",
        "Tienda 4: 3.00\n",
        "Las calificaciones promedio de los clientes son muy similares entre todas las tiendas, rondando los 3.00 puntos sobre 5. Esto sugiere que no hay una diferencia marcada en la satisfacción general de los clientes que pueda ser un factor decisivo por sí solo.\n",
        "\n",
        "### Distribución de Categorías de Productos (Ejemplo Tienda 1)\n",
        "Analizando la Tienda 1, que es la de mayor facturación, sus principales categorías de productos vendidas son:\n",
        "\n",
        "* Muebles: 23.3%\n",
        "* Electrónicos: 17.5%\n",
        "* Ropa y Accesorios: 17.2%\n",
        "* Electrodomésticos: 12.5%\n",
        "* Hogar y Decoración: 9.6%\n",
        "Esto nos muestra que la Tienda 1 tiene una base de ventas diversificada, con Muebles siendo su categoría principal en volumen de unidades vendidas. Si bien no analizamos en detalle las categorías de todas las tiendas en este informe final, la Tienda 1 demuestra un portafolio de productos robusto y atractivo.\n",
        "\n",
        "### Productos Más y Menos Vendidos\n",
        "Al examinar los productos individuales, notamos que algunas tiendas tienen un mejor desempeño en ciertos artículos. Por ejemplo:\n",
        "\n",
        "En la Tienda 1, productos como \"Mesa de centro\", \"Televisor 4K\", \"Vestido de verano\", \"Lavadora\" y \"Sofá modular\" se encuentran entre los más vendidos. Los menos vendidos tienden a ser artículos más especializados o de nicho.\n",
        "En la Tienda 4, los productos más vendidos incluyen \"Lavavajillas\", \"Cama box\", \"Balón de baloncesto\", \"Modelado predictivo\" y \"Auriculares\". Sin embargo, también presenta productos con muy pocas ventas, lo que podría indicar una menor rotación de inventario en ciertas áreas.\n",
        "\n",
        "### Costo de Envío Promedio\n",
        "El costo promedio de envío por transacción es un indicador de la eficiencia logística:\n",
        "\n",
        "* Tienda 1: $29,664.90\n",
        "* Tienda 2: $29,235.91\n",
        "* Tianda 3: $28,958.46\n",
        "* Tienda 4: $29,081.57\n",
        "\n",
        "Los costos de envío promedio son bastante consistentes entre todas las tiendas, con pequeñas variaciones. Esto indica que no hay una tienda que incurra en gastos de envío desproporcionadamente más altos que las otras.\n",
        "\n",
        "### Recomendación Final\n",
        "Basándonos en el análisis detallado de los datos, la recomendación para el Sr. Juan es que considere vender la Tienda 4.\n",
        "\n",
        "### Nuestra justificación se basa en los siguientes puntos clave:\n",
        "\n",
        "* Menores Ingresos Totales:\n",
        " La Tienda 4 es la que consistentemente registra los ingresos más bajos de todas las sucursales. Si el objetivo es optimizar la cartera de tiendas y liberar capital, es lógico desprenderse de la unidad con menor rendimiento económico.\n",
        "\n",
        "* Rendimiento General Consistente (pero en el extremo inferior):\n",
        " Aunque las calificaciones de clientes y los costos de envío son similares a los de las otras tiendas, esto no compensa su menor capacidad de generar ventas. Opera a un nivel similar en eficiencia operativa y satisfacción, pero con una facturación significativamente inferior.\n",
        "\n",
        "* Oportunidad de Capitalización:\n",
        " La venta de la Tienda 4 permitiría al Sr. Juan inyectar capital en su nuevo emprendimiento con el menor impacto en la facturación total de las tiendas restantes. Las Tiendas 1, 2 y 3 demuestran ser más rentables y estables en términos de ingresos, y su continuidad maximizaría el flujo de efectivo para Alura Store.\n",
        " \n",
        "En resumen, si bien ninguna tienda presenta fallas críticas en términos de satisfacción o costos de envío, la Tienda 4 es la que menos contribuye a los ingresos generales de la cadena. Su venta es la decisión más estratégica para liberar recursos financieros con la menor afectación al rendimiento global de Alura Store.\n",
        "\n",
        "Espero que este informe completo y justificado sea de gran ayuda para el Sr. Juan en su decisión. ¿Hay algo más en lo que pueda ayudarte con este desafío o con cualquier otro análisis?"
      ]
    },
    {
      "cell_type": "markdown",
      "metadata": {},
      "source": [
        "# ¡Mil gracias! Con esa actitud y las ganas de aprender, ¡el éxito está más que asegurado! Me alegra muchísimo poder ser tu \"maestro\" en este camino del análisis de datos.\n",
        "\n",
        "Como tu asistente de datos \"pro\", mi objetivo es precisamente ese: anticiparme a tus necesidades, sugerirte mejoras y asegurarme de que cada paso que damos sea con la calidad y rigurosidad que un profesional del dato aplicaría.\n",
        "\n",
        "Has mencionado dos puntos clave que son la columna vertebral de cualquier proyecto de datos real: limpieza de datos (Data Cleaning) y ETL (Extract, Transform, Load). ¡Me encanta que tomes la iniciativa en esto!\n",
        "\n",
        "Hasta ahora, hemos tenido la suerte de que los datos de Alura Store estaban bastante \"limpios\" (no había valores nulos, los tipos de datos eran correctos para los cálculos que hicimos). Sin embargo, en el mundo real, esto rara vez sucede.\n",
        "\n",
        "Adelantándonos al Futuro: Limpieza y ETL como un Pro\n",
        "Aquí te detallo algunas consideraciones y pasos que un profesional implementaría, y que podemos explorar en próximos desafíos o incluso en este si lo deseas, para asegurarnos de que la calidad de los datos sea impecable y el proceso sea robusto:\n",
        "\n",
        "1. Fase de Extracción y Carga (E y L de ETL)\n",
        "Ya hicimos esto, pero hay mejoras:\n",
        "\n",
        "Automatización de Carga: Si tuviéramos muchas tiendas, no cargaríamos una por una. Un profesional crearía una función o un bucle para leer las URLs de forma programática y almacenarlas en una lista o diccionario de DataFrames. Esto hace el código más escalable y fácil de mantener.\n",
        "Unificación de Datos: Para análisis globales de la cadena Alura Store (no solo por tienda), sería útil combinar todas las tiendas en un único DataFrame grande. Esto facilita las comparaciones directas y los cálculos a nivel de cadena.\n",
        "2. Fase de Transformación (T de ETL y Limpieza de Datos)\n",
        "Aquí es donde la \"magia\" de la limpieza ocurre. Incluso si los datos parecen buenos, siempre hay algo que mejorar o preparar:\n",
        "\n",
        "Revisión de Tipos de Datos (.info() y .astype()): Aunque ya lo vimos con .info(), a veces las fechas se cargan como texto (object) y no como fechas reales. Un pro usaría pd.to_datetime() para convertirlas y poder hacer análisis temporales (ventas por mes, año, etc.).\n",
        "Manejo de Valores Nulos (.isnull().sum(), .dropna(), .fillna()):\n",
        "Identificación: Siempre hay que buscar cuántos valores nulos hay por columna.\n",
        "Decisión: ¿Qué hacer con ellos? ¿Eliminar las filas con nulos (si son pocos y no afectan al análisis)? ¿Rellenarlos con un promedio, la moda, o un valor específico? La decisión depende del contexto de cada columna.\n",
        "Normalización de Texto (.str.lower(), .str.strip()): A veces, una categoría puede aparecer como \"Muebles\" y \"muebles\" o \"Muebles \" (con un espacio al final). Esto generaría conteos separados. Un pro limpiaría esto para asegurar que todas las variaciones se traten como la misma categoría.\n",
        "Valores Atípicos (Outliers): En columnas como 'Precio' o 'Costo de envío', podríamos encontrar valores extremadamente altos o bajos que son errores de entrada de datos. Si no los manejamos, podrían distorsionar los promedios o sumas. Podemos identificarlos con gráficos (diagramas de caja) o métodos estadísticos.\n",
        "Creación de Nuevas Características (Feature Engineering): A menudo, podemos crear nuevas columnas a partir de las existentes que son más útiles para el análisis. Por ejemplo:\n",
        "Año/Mes de Venta a partir de Fecha de Compra.\n",
        "Margen de Ganancia Bruto si tuviéramos el costo del producto.\n",
        "Costo de Envío como % del Precio.\n",
        "3. Validación y Control de Calidad\n",
        "Antes de pasar a la visualización y la recomendación, un pro siempre valida que sus transformaciones son correctas. Por ejemplo, revisaría los value_counts() después de normalizar categorías o el .describe() de las columnas numéricas para ver si los promedios y desviaciones estándar tienen sentido.\n",
        "\n",
        "¿Qué te sugiero para continuar?\n",
        "Dado que ya tenemos la recomendación final y los gráficos principales, podríamos tomar uno de estos caminos para seguir aprendiendo y aplicando las técnicas \"pro\":\n",
        "\n",
        "Profundizar en la Tienda 4: Ya que la recomendamos vender, ¿quisiéramos entender por qué es la menos eficiente? Podríamos hacer un análisis más profundo de sus productos menos vendidos, sus categorías, o sus lugares de compra para ver si hay patrones específicos de bajo rendimiento.\n",
        "Unificar los DataFrames: Podríamos crear un único DataFrame global que contenga los datos de todas las tiendas. Esto es un paso crucial en ETL y nos permitiría hacer comparaciones y análisis a nivel de toda la cadena (por ejemplo, ¿cuál es el producto más vendido en toda Alura Store, no solo por tienda?).\n",
        "Análisis Temporal: Si convertimos la columna Fecha de Compra a un formato de fecha, podríamos analizar las ventas a lo largo del tiempo (por ejemplo, si las ventas suben o bajan en ciertos meses o años).\n",
        "Dime cuál de estas opciones te interesa más para nuestro próximo paso \"pro\", o si tienes otra idea en mente. ¡Estoy listo para seguir construyendo tu éxito!"
      ]
    }
  ],
  "metadata": {
    "colab": {
      "provenance": []
    },
    "kernelspec": {
      "display_name": "api-env",
      "language": "python",
      "name": "python3"
    },
    "language_info": {
      "codemirror_mode": {
        "name": "ipython",
        "version": 3
      },
      "file_extension": ".py",
      "mimetype": "text/x-python",
      "name": "python",
      "nbconvert_exporter": "python",
      "pygments_lexer": "ipython3",
      "version": "3.10.13"
    }
  },
  "nbformat": 4,
  "nbformat_minor": 0
}
