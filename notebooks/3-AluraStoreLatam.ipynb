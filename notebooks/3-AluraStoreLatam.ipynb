{
  "cells": [
    {
      "cell_type": "code",
      "execution_count": 2,
      "metadata": {},
      "outputs": [],
      "source": [
        "import pandas as pd # Importa la librería pandas y le asigna el alias 'pd'. Pandas es fundamental para trabajar con datos tabulares (como hojas de cálculo o bases de datos) en Python.\n",
        "\n",
        "# Define las URLs (direcciones web) de los archivos CSV de cada tienda.\n",
        "# Cada URL apunta a un archivo CSV específico en un repositorio de GitHub.\n",
        "url = \"https://raw.githubusercontent.com/alura-es-cursos/challenge1-data-science-latam/refs/heads/main/base-de-datos-challenge1-latam/tienda_1%20.csv\"\n",
        "url2 = \"https://raw.githubusercontent.com/alura-es-cursos/challenge1-data-science-latam/refs/heads/main/base-de-datos-challenge1-latam/tienda_2.csv\"\n",
        "url3 = \"https://raw.githubusercontent.com/alura-es-cursos/challenge1-data-science-latam/refs/heads/main/base-de-datos-challenge1-latam/tienda_3.csv\"\n",
        "url4 = \"https://raw.githubusercontent.com/alura-es-cursos/challenge1-data-science-latam/refs/heads/main/base-de-datos-challenge1-latam/tienda_4.csv\"\n",
        "\n",
        "# Carga el archivo CSV de la Tienda 1 en un DataFrame de pandas.\n",
        "# Un DataFrame es como una tabla en Excel o una base de datos, con filas y columnas.\n",
        "# `pd.read_csv()` es la función que lee el contenido de un archivo CSV desde la URL proporcionada.\n",
        "tienda_1 = pd.read_csv(url)\n",
        "\n",
        "# Carga el archivo CSV de la Tienda 2 en un DataFrame.\n",
        "tienda_2 = pd.read_csv(url2)\n",
        "\n",
        "# Carga el archivo CSV de la Tienda 3 en un DataFrame.\n",
        "tienda_3 = pd.read_csv(url3)\n",
        "\n",
        "# Carga el archivo CSV de la Tienda 4 en un DataFrame.\n",
        "tienda_4 = pd.read_csv(url4)\n",
        "\n"
      ]
    },
    {
      "cell_type": "markdown",
      "metadata": {
        "id": "X62IW3KFUIYm"
      },
      "source": [
        "# 1. Análisis de facturación\n",
        "\n"
      ]
    },
    {
      "cell_type": "code",
      "execution_count": 14,
      "metadata": {
        "id": "xykobSftV64I"
      },
      "outputs": [
        {
          "name": "stdout",
          "output_type": "stream",
          "text": [
            "Primeras filas de Tienda 1:\n"
          ]
        },
        {
          "data": {
            "text/html": [
              "<div>\n",
              "<style scoped>\n",
              "    .dataframe tbody tr th:only-of-type {\n",
              "        vertical-align: middle;\n",
              "    }\n",
              "\n",
              "    .dataframe tbody tr th {\n",
              "        vertical-align: top;\n",
              "    }\n",
              "\n",
              "    .dataframe thead th {\n",
              "        text-align: right;\n",
              "    }\n",
              "</style>\n",
              "<table border=\"1\" class=\"dataframe\">\n",
              "  <thead>\n",
              "    <tr style=\"text-align: right;\">\n",
              "      <th></th>\n",
              "      <th>Producto</th>\n",
              "      <th>Categoría del Producto</th>\n",
              "      <th>Precio</th>\n",
              "      <th>Costo de envío</th>\n",
              "      <th>Fecha de Compra</th>\n",
              "      <th>Vendedor</th>\n",
              "      <th>Lugar de Compra</th>\n",
              "      <th>Calificación</th>\n",
              "      <th>Método de pago</th>\n",
              "      <th>Cantidad de cuotas</th>\n",
              "      <th>lat</th>\n",
              "      <th>lon</th>\n",
              "    </tr>\n",
              "  </thead>\n",
              "  <tbody>\n",
              "    <tr>\n",
              "      <th>0</th>\n",
              "      <td>Asistente virtual</td>\n",
              "      <td>Electrónicos</td>\n",
              "      <td>164300.0</td>\n",
              "      <td>6900.0</td>\n",
              "      <td>16/01/2021</td>\n",
              "      <td>Pedro Gomez</td>\n",
              "      <td>Bogotá</td>\n",
              "      <td>4</td>\n",
              "      <td>Tarjeta de crédito</td>\n",
              "      <td>8</td>\n",
              "      <td>4.60971</td>\n",
              "      <td>-74.08175</td>\n",
              "    </tr>\n",
              "    <tr>\n",
              "      <th>1</th>\n",
              "      <td>Mesa de comedor</td>\n",
              "      <td>Muebles</td>\n",
              "      <td>192300.0</td>\n",
              "      <td>8400.0</td>\n",
              "      <td>18/05/2022</td>\n",
              "      <td>Beatriz Morales</td>\n",
              "      <td>Medellín</td>\n",
              "      <td>1</td>\n",
              "      <td>Tarjeta de crédito</td>\n",
              "      <td>4</td>\n",
              "      <td>6.25184</td>\n",
              "      <td>-75.56359</td>\n",
              "    </tr>\n",
              "    <tr>\n",
              "      <th>2</th>\n",
              "      <td>Juego de mesa</td>\n",
              "      <td>Juguetes</td>\n",
              "      <td>209600.0</td>\n",
              "      <td>15900.0</td>\n",
              "      <td>15/03/2021</td>\n",
              "      <td>Juan Fernandez</td>\n",
              "      <td>Cartagena</td>\n",
              "      <td>1</td>\n",
              "      <td>Tarjeta de crédito</td>\n",
              "      <td>1</td>\n",
              "      <td>10.39972</td>\n",
              "      <td>-75.51444</td>\n",
              "    </tr>\n",
              "    <tr>\n",
              "      <th>3</th>\n",
              "      <td>Microondas</td>\n",
              "      <td>Electrodomésticos</td>\n",
              "      <td>757500.0</td>\n",
              "      <td>41000.0</td>\n",
              "      <td>03/05/2022</td>\n",
              "      <td>Juan Fernandez</td>\n",
              "      <td>Cali</td>\n",
              "      <td>4</td>\n",
              "      <td>Nequi</td>\n",
              "      <td>1</td>\n",
              "      <td>3.43722</td>\n",
              "      <td>-76.52250</td>\n",
              "    </tr>\n",
              "    <tr>\n",
              "      <th>4</th>\n",
              "      <td>Silla de oficina</td>\n",
              "      <td>Muebles</td>\n",
              "      <td>335200.0</td>\n",
              "      <td>20200.0</td>\n",
              "      <td>07/11/2020</td>\n",
              "      <td>Maria Alfonso</td>\n",
              "      <td>Medellín</td>\n",
              "      <td>5</td>\n",
              "      <td>Nequi</td>\n",
              "      <td>1</td>\n",
              "      <td>6.25184</td>\n",
              "      <td>-75.56359</td>\n",
              "    </tr>\n",
              "  </tbody>\n",
              "</table>\n",
              "</div>"
            ],
            "text/plain": [
              "            Producto Categoría del Producto    Precio  Costo de envío  \\\n",
              "0  Asistente virtual           Electrónicos  164300.0          6900.0   \n",
              "1    Mesa de comedor                Muebles  192300.0          8400.0   \n",
              "2      Juego de mesa               Juguetes  209600.0         15900.0   \n",
              "3         Microondas      Electrodomésticos  757500.0         41000.0   \n",
              "4   Silla de oficina                Muebles  335200.0         20200.0   \n",
              "\n",
              "  Fecha de Compra         Vendedor Lugar de Compra  Calificación  \\\n",
              "0      16/01/2021      Pedro Gomez          Bogotá             4   \n",
              "1      18/05/2022  Beatriz Morales        Medellín             1   \n",
              "2      15/03/2021   Juan Fernandez       Cartagena             1   \n",
              "3      03/05/2022   Juan Fernandez            Cali             4   \n",
              "4      07/11/2020    Maria Alfonso        Medellín             5   \n",
              "\n",
              "       Método de pago  Cantidad de cuotas       lat       lon  \n",
              "0  Tarjeta de crédito                   8   4.60971 -74.08175  \n",
              "1  Tarjeta de crédito                   4   6.25184 -75.56359  \n",
              "2  Tarjeta de crédito                   1  10.39972 -75.51444  \n",
              "3               Nequi                   1   3.43722 -76.52250  \n",
              "4               Nequi                   1   6.25184 -75.56359  "
            ]
          },
          "execution_count": 14,
          "metadata": {},
          "output_type": "execute_result"
        }
      ],
      "source": [
        "# Muestra las primeras 5 filas del DataFrame de la Tienda 1 para una inspección rápida.\n",
        "# Esto te permite ver cómo son los datos y qué columnas contiene.\n",
        "print(\"Primeras filas de Tienda 1:\")\n",
        "tienda_1.head()\n",
        "\n",
        "# Muestra información concisa sobre el DataFrame de la Tienda 1.\n",
        "# Esto incluye el número de entradas (filas), columnas, tipos de datos de cada columna y uso de memoria.\n",
        "# Es muy útil para verificar si hay valores nulos o si los tipos de datos son los esperados.\n",
        "# print(\"\\nInformación del DataFrame Tienda 1:\")\n",
        "# tienda_1.info()\n",
        "\n"
      ]
    },
    {
      "cell_type": "code",
      "execution_count": 15,
      "metadata": {},
      "outputs": [
        {
          "name": "stdout",
          "output_type": "stream",
          "text": [
            "\n",
            "Información del DataFrame Tienda 1:\n",
            "<class 'pandas.core.frame.DataFrame'>\n",
            "RangeIndex: 2359 entries, 0 to 2358\n",
            "Data columns (total 12 columns):\n",
            " #   Column                  Non-Null Count  Dtype  \n",
            "---  ------                  --------------  -----  \n",
            " 0   Producto                2359 non-null   object \n",
            " 1   Categoría del Producto  2359 non-null   object \n",
            " 2   Precio                  2359 non-null   float64\n",
            " 3   Costo de envío          2359 non-null   float64\n",
            " 4   Fecha de Compra         2359 non-null   object \n",
            " 5   Vendedor                2359 non-null   object \n",
            " 6   Lugar de Compra         2359 non-null   object \n",
            " 7   Calificación            2359 non-null   int64  \n",
            " 8   Método de pago          2359 non-null   object \n",
            " 9   Cantidad de cuotas      2359 non-null   int64  \n",
            " 10  lat                     2359 non-null   float64\n",
            " 11  lon                     2359 non-null   float64\n",
            "dtypes: float64(4), int64(2), object(6)\n",
            "memory usage: 221.3+ KB\n"
          ]
        }
      ],
      "source": [
        "print(\"\\nInformación del DataFrame Tienda 1:\")\n",
        "tienda_1.info()"
      ]
    },
    {
      "cell_type": "code",
      "execution_count": 16,
      "metadata": {
        "id": "KDyr8E71V3m-"
      },
      "outputs": [
        {
          "name": "stdout",
          "output_type": "stream",
          "text": [
            "\n",
            "Primeras filas de Tienda 2:\n"
          ]
        },
        {
          "data": {
            "text/html": [
              "<div>\n",
              "<style scoped>\n",
              "    .dataframe tbody tr th:only-of-type {\n",
              "        vertical-align: middle;\n",
              "    }\n",
              "\n",
              "    .dataframe tbody tr th {\n",
              "        vertical-align: top;\n",
              "    }\n",
              "\n",
              "    .dataframe thead th {\n",
              "        text-align: right;\n",
              "    }\n",
              "</style>\n",
              "<table border=\"1\" class=\"dataframe\">\n",
              "  <thead>\n",
              "    <tr style=\"text-align: right;\">\n",
              "      <th></th>\n",
              "      <th>Producto</th>\n",
              "      <th>Categoría del Producto</th>\n",
              "      <th>Precio</th>\n",
              "      <th>Costo de envío</th>\n",
              "      <th>Fecha de Compra</th>\n",
              "      <th>Vendedor</th>\n",
              "      <th>Lugar de Compra</th>\n",
              "      <th>Calificación</th>\n",
              "      <th>Método de pago</th>\n",
              "      <th>Cantidad de cuotas</th>\n",
              "      <th>lat</th>\n",
              "      <th>lon</th>\n",
              "    </tr>\n",
              "  </thead>\n",
              "  <tbody>\n",
              "    <tr>\n",
              "      <th>0</th>\n",
              "      <td>Silla de oficina</td>\n",
              "      <td>Muebles</td>\n",
              "      <td>283600.0</td>\n",
              "      <td>15300.0</td>\n",
              "      <td>04/08/2021</td>\n",
              "      <td>Izabela de León</td>\n",
              "      <td>Medellín</td>\n",
              "      <td>1</td>\n",
              "      <td>Nequi</td>\n",
              "      <td>1</td>\n",
              "      <td>6.25184</td>\n",
              "      <td>-75.56359</td>\n",
              "    </tr>\n",
              "    <tr>\n",
              "      <th>1</th>\n",
              "      <td>Pandereta</td>\n",
              "      <td>Instrumentos musicales</td>\n",
              "      <td>76800.0</td>\n",
              "      <td>2300.0</td>\n",
              "      <td>26/11/2020</td>\n",
              "      <td>Blanca Ramirez</td>\n",
              "      <td>Medellín</td>\n",
              "      <td>3</td>\n",
              "      <td>Tarjeta de crédito</td>\n",
              "      <td>4</td>\n",
              "      <td>6.25184</td>\n",
              "      <td>-75.56359</td>\n",
              "    </tr>\n",
              "    <tr>\n",
              "      <th>2</th>\n",
              "      <td>Cama king</td>\n",
              "      <td>Muebles</td>\n",
              "      <td>443300.0</td>\n",
              "      <td>23800.0</td>\n",
              "      <td>22/10/2021</td>\n",
              "      <td>Izabela de León</td>\n",
              "      <td>Pereira</td>\n",
              "      <td>5</td>\n",
              "      <td>Tarjeta de crédito</td>\n",
              "      <td>10</td>\n",
              "      <td>4.81333</td>\n",
              "      <td>-75.69611</td>\n",
              "    </tr>\n",
              "    <tr>\n",
              "      <th>3</th>\n",
              "      <td>Cama king</td>\n",
              "      <td>Muebles</td>\n",
              "      <td>906200.0</td>\n",
              "      <td>46400.0</td>\n",
              "      <td>04/05/2022</td>\n",
              "      <td>Maria Alfonso</td>\n",
              "      <td>Cali</td>\n",
              "      <td>5</td>\n",
              "      <td>Tarjeta de crédito</td>\n",
              "      <td>10</td>\n",
              "      <td>3.43722</td>\n",
              "      <td>-76.52250</td>\n",
              "    </tr>\n",
              "    <tr>\n",
              "      <th>4</th>\n",
              "      <td>Silla de oficina</td>\n",
              "      <td>Muebles</td>\n",
              "      <td>397800.0</td>\n",
              "      <td>19400.0</td>\n",
              "      <td>26/02/2022</td>\n",
              "      <td>Lucas Olivera</td>\n",
              "      <td>Bogotá</td>\n",
              "      <td>4</td>\n",
              "      <td>Tarjeta de crédito</td>\n",
              "      <td>3</td>\n",
              "      <td>4.60971</td>\n",
              "      <td>-74.08175</td>\n",
              "    </tr>\n",
              "  </tbody>\n",
              "</table>\n",
              "</div>"
            ],
            "text/plain": [
              "           Producto  Categoría del Producto    Precio  Costo de envío  \\\n",
              "0  Silla de oficina                 Muebles  283600.0         15300.0   \n",
              "1         Pandereta  Instrumentos musicales   76800.0          2300.0   \n",
              "2         Cama king                 Muebles  443300.0         23800.0   \n",
              "3         Cama king                 Muebles  906200.0         46400.0   \n",
              "4  Silla de oficina                 Muebles  397800.0         19400.0   \n",
              "\n",
              "  Fecha de Compra         Vendedor Lugar de Compra  Calificación  \\\n",
              "0      04/08/2021  Izabela de León        Medellín             1   \n",
              "1      26/11/2020   Blanca Ramirez        Medellín             3   \n",
              "2      22/10/2021  Izabela de León         Pereira             5   \n",
              "3      04/05/2022    Maria Alfonso            Cali             5   \n",
              "4      26/02/2022    Lucas Olivera          Bogotá             4   \n",
              "\n",
              "       Método de pago  Cantidad de cuotas      lat       lon  \n",
              "0               Nequi                   1  6.25184 -75.56359  \n",
              "1  Tarjeta de crédito                   4  6.25184 -75.56359  \n",
              "2  Tarjeta de crédito                  10  4.81333 -75.69611  \n",
              "3  Tarjeta de crédito                  10  3.43722 -76.52250  \n",
              "4  Tarjeta de crédito                   3  4.60971 -74.08175  "
            ]
          },
          "execution_count": 16,
          "metadata": {},
          "output_type": "execute_result"
        }
      ],
      "source": [
        "# Repetimos para las otras tiendas para asegurarnos de que todos los datos se cargaron correctamente.\n",
        "print(\"\\nPrimeras filas de Tienda 2:\")\n",
        "tienda_2.head()\n",
        "\n"
      ]
    },
    {
      "cell_type": "code",
      "execution_count": 17,
      "metadata": {},
      "outputs": [
        {
          "name": "stdout",
          "output_type": "stream",
          "text": [
            "\n",
            "Información del DataFrame Tienda 2:\n",
            "<class 'pandas.core.frame.DataFrame'>\n",
            "RangeIndex: 2359 entries, 0 to 2358\n",
            "Data columns (total 12 columns):\n",
            " #   Column                  Non-Null Count  Dtype  \n",
            "---  ------                  --------------  -----  \n",
            " 0   Producto                2359 non-null   object \n",
            " 1   Categoría del Producto  2359 non-null   object \n",
            " 2   Precio                  2359 non-null   float64\n",
            " 3   Costo de envío          2359 non-null   float64\n",
            " 4   Fecha de Compra         2359 non-null   object \n",
            " 5   Vendedor                2359 non-null   object \n",
            " 6   Lugar de Compra         2359 non-null   object \n",
            " 7   Calificación            2359 non-null   int64  \n",
            " 8   Método de pago          2359 non-null   object \n",
            " 9   Cantidad de cuotas      2359 non-null   int64  \n",
            " 10  lat                     2359 non-null   float64\n",
            " 11  lon                     2359 non-null   float64\n",
            "dtypes: float64(4), int64(2), object(6)\n",
            "memory usage: 221.3+ KB\n"
          ]
        }
      ],
      "source": [
        "print(\"\\nInformación del DataFrame Tienda 2:\")\n",
        "tienda_2.info()"
      ]
    },
    {
      "cell_type": "code",
      "execution_count": 18,
      "metadata": {},
      "outputs": [
        {
          "name": "stdout",
          "output_type": "stream",
          "text": [
            "\n",
            "Primeras filas de Tienda 3:\n"
          ]
        },
        {
          "data": {
            "text/html": [
              "<div>\n",
              "<style scoped>\n",
              "    .dataframe tbody tr th:only-of-type {\n",
              "        vertical-align: middle;\n",
              "    }\n",
              "\n",
              "    .dataframe tbody tr th {\n",
              "        vertical-align: top;\n",
              "    }\n",
              "\n",
              "    .dataframe thead th {\n",
              "        text-align: right;\n",
              "    }\n",
              "</style>\n",
              "<table border=\"1\" class=\"dataframe\">\n",
              "  <thead>\n",
              "    <tr style=\"text-align: right;\">\n",
              "      <th></th>\n",
              "      <th>Producto</th>\n",
              "      <th>Categoría del Producto</th>\n",
              "      <th>Precio</th>\n",
              "      <th>Costo de envío</th>\n",
              "      <th>Fecha de Compra</th>\n",
              "      <th>Vendedor</th>\n",
              "      <th>Lugar de Compra</th>\n",
              "      <th>Calificación</th>\n",
              "      <th>Método de pago</th>\n",
              "      <th>Cantidad de cuotas</th>\n",
              "      <th>lat</th>\n",
              "      <th>lon</th>\n",
              "    </tr>\n",
              "  </thead>\n",
              "  <tbody>\n",
              "    <tr>\n",
              "      <th>0</th>\n",
              "      <td>Secadora de ropa</td>\n",
              "      <td>Electrodomésticos</td>\n",
              "      <td>1285100.0</td>\n",
              "      <td>66600.0</td>\n",
              "      <td>17/12/2021</td>\n",
              "      <td>Camila Rivera</td>\n",
              "      <td>Santa Marta</td>\n",
              "      <td>4</td>\n",
              "      <td>Tarjeta de crédito</td>\n",
              "      <td>4</td>\n",
              "      <td>11.24079</td>\n",
              "      <td>-74.19904</td>\n",
              "    </tr>\n",
              "    <tr>\n",
              "      <th>1</th>\n",
              "      <td>Mesa de noche</td>\n",
              "      <td>Muebles</td>\n",
              "      <td>290100.0</td>\n",
              "      <td>13600.0</td>\n",
              "      <td>10/02/2021</td>\n",
              "      <td>Maria Alfonso</td>\n",
              "      <td>Cali</td>\n",
              "      <td>3</td>\n",
              "      <td>Tarjeta de crédito</td>\n",
              "      <td>1</td>\n",
              "      <td>3.43722</td>\n",
              "      <td>-76.52250</td>\n",
              "    </tr>\n",
              "    <tr>\n",
              "      <th>2</th>\n",
              "      <td>Guitarra acústica</td>\n",
              "      <td>Instrumentos musicales</td>\n",
              "      <td>303500.0</td>\n",
              "      <td>17400.0</td>\n",
              "      <td>22/01/2023</td>\n",
              "      <td>Lucas Olivera</td>\n",
              "      <td>Bogotá</td>\n",
              "      <td>5</td>\n",
              "      <td>Tarjeta de crédito</td>\n",
              "      <td>3</td>\n",
              "      <td>4.60971</td>\n",
              "      <td>-74.08175</td>\n",
              "    </tr>\n",
              "    <tr>\n",
              "      <th>3</th>\n",
              "      <td>Balón de voleibol</td>\n",
              "      <td>Deportes y diversión</td>\n",
              "      <td>58800.0</td>\n",
              "      <td>3300.0</td>\n",
              "      <td>22/03/2022</td>\n",
              "      <td>Pedro Gomez</td>\n",
              "      <td>Barranquilla</td>\n",
              "      <td>4</td>\n",
              "      <td>Tarjeta de crédito</td>\n",
              "      <td>6</td>\n",
              "      <td>10.96854</td>\n",
              "      <td>-74.78132</td>\n",
              "    </tr>\n",
              "    <tr>\n",
              "      <th>4</th>\n",
              "      <td>Armario</td>\n",
              "      <td>Muebles</td>\n",
              "      <td>521100.0</td>\n",
              "      <td>25900.0</td>\n",
              "      <td>12/01/2022</td>\n",
              "      <td>Blanca Ramirez</td>\n",
              "      <td>Bogotá</td>\n",
              "      <td>1</td>\n",
              "      <td>Tarjeta de crédito</td>\n",
              "      <td>1</td>\n",
              "      <td>4.60971</td>\n",
              "      <td>-74.08175</td>\n",
              "    </tr>\n",
              "  </tbody>\n",
              "</table>\n",
              "</div>"
            ],
            "text/plain": [
              "            Producto  Categoría del Producto     Precio  Costo de envío  \\\n",
              "0   Secadora de ropa       Electrodomésticos  1285100.0         66600.0   \n",
              "1      Mesa de noche                 Muebles   290100.0         13600.0   \n",
              "2  Guitarra acústica  Instrumentos musicales   303500.0         17400.0   \n",
              "3  Balón de voleibol    Deportes y diversión    58800.0          3300.0   \n",
              "4            Armario                 Muebles   521100.0         25900.0   \n",
              "\n",
              "  Fecha de Compra        Vendedor Lugar de Compra  Calificación  \\\n",
              "0      17/12/2021   Camila Rivera     Santa Marta             4   \n",
              "1      10/02/2021   Maria Alfonso            Cali             3   \n",
              "2      22/01/2023   Lucas Olivera          Bogotá             5   \n",
              "3      22/03/2022     Pedro Gomez    Barranquilla             4   \n",
              "4      12/01/2022  Blanca Ramirez          Bogotá             1   \n",
              "\n",
              "       Método de pago  Cantidad de cuotas       lat       lon  \n",
              "0  Tarjeta de crédito                   4  11.24079 -74.19904  \n",
              "1  Tarjeta de crédito                   1   3.43722 -76.52250  \n",
              "2  Tarjeta de crédito                   3   4.60971 -74.08175  \n",
              "3  Tarjeta de crédito                   6  10.96854 -74.78132  \n",
              "4  Tarjeta de crédito                   1   4.60971 -74.08175  "
            ]
          },
          "execution_count": 18,
          "metadata": {},
          "output_type": "execute_result"
        }
      ],
      "source": [
        "print(\"\\nPrimeras filas de Tienda 3:\")\n",
        "tienda_3.head()\n"
      ]
    },
    {
      "cell_type": "code",
      "execution_count": 19,
      "metadata": {},
      "outputs": [
        {
          "name": "stdout",
          "output_type": "stream",
          "text": [
            "\n",
            "Información del DataFrame Tienda 3:\n",
            "<class 'pandas.core.frame.DataFrame'>\n",
            "RangeIndex: 2359 entries, 0 to 2358\n",
            "Data columns (total 12 columns):\n",
            " #   Column                  Non-Null Count  Dtype  \n",
            "---  ------                  --------------  -----  \n",
            " 0   Producto                2359 non-null   object \n",
            " 1   Categoría del Producto  2359 non-null   object \n",
            " 2   Precio                  2359 non-null   float64\n",
            " 3   Costo de envío          2359 non-null   float64\n",
            " 4   Fecha de Compra         2359 non-null   object \n",
            " 5   Vendedor                2359 non-null   object \n",
            " 6   Lugar de Compra         2359 non-null   object \n",
            " 7   Calificación            2359 non-null   int64  \n",
            " 8   Método de pago          2359 non-null   object \n",
            " 9   Cantidad de cuotas      2359 non-null   int64  \n",
            " 10  lat                     2359 non-null   float64\n",
            " 11  lon                     2359 non-null   float64\n",
            "dtypes: float64(4), int64(2), object(6)\n",
            "memory usage: 221.3+ KB\n"
          ]
        }
      ],
      "source": [
        "print(\"\\nInformación del DataFrame Tienda 3:\")\n",
        "tienda_3.info()\n"
      ]
    },
    {
      "cell_type": "code",
      "execution_count": 20,
      "metadata": {},
      "outputs": [
        {
          "name": "stdout",
          "output_type": "stream",
          "text": [
            "\n",
            "Primeras filas de Tienda 4:\n"
          ]
        },
        {
          "data": {
            "text/html": [
              "<div>\n",
              "<style scoped>\n",
              "    .dataframe tbody tr th:only-of-type {\n",
              "        vertical-align: middle;\n",
              "    }\n",
              "\n",
              "    .dataframe tbody tr th {\n",
              "        vertical-align: top;\n",
              "    }\n",
              "\n",
              "    .dataframe thead th {\n",
              "        text-align: right;\n",
              "    }\n",
              "</style>\n",
              "<table border=\"1\" class=\"dataframe\">\n",
              "  <thead>\n",
              "    <tr style=\"text-align: right;\">\n",
              "      <th></th>\n",
              "      <th>Producto</th>\n",
              "      <th>Categoría del Producto</th>\n",
              "      <th>Precio</th>\n",
              "      <th>Costo de envío</th>\n",
              "      <th>Fecha de Compra</th>\n",
              "      <th>Vendedor</th>\n",
              "      <th>Lugar de Compra</th>\n",
              "      <th>Calificación</th>\n",
              "      <th>Método de pago</th>\n",
              "      <th>Cantidad de cuotas</th>\n",
              "      <th>lat</th>\n",
              "      <th>lon</th>\n",
              "    </tr>\n",
              "  </thead>\n",
              "  <tbody>\n",
              "    <tr>\n",
              "      <th>0</th>\n",
              "      <td>Lavavajillas</td>\n",
              "      <td>Electrodomésticos</td>\n",
              "      <td>1084800.0</td>\n",
              "      <td>56000.0</td>\n",
              "      <td>11/11/2022</td>\n",
              "      <td>Rafael Acosta</td>\n",
              "      <td>Bogotá</td>\n",
              "      <td>4</td>\n",
              "      <td>Tarjeta de crédito</td>\n",
              "      <td>3</td>\n",
              "      <td>4.60971</td>\n",
              "      <td>-74.08175</td>\n",
              "    </tr>\n",
              "    <tr>\n",
              "      <th>1</th>\n",
              "      <td>Cama box</td>\n",
              "      <td>Muebles</td>\n",
              "      <td>473800.0</td>\n",
              "      <td>25400.0</td>\n",
              "      <td>03/01/2020</td>\n",
              "      <td>Izabela de León</td>\n",
              "      <td>Cúcuta</td>\n",
              "      <td>5</td>\n",
              "      <td>Tarjeta de crédito</td>\n",
              "      <td>2</td>\n",
              "      <td>7.89391</td>\n",
              "      <td>-72.50782</td>\n",
              "    </tr>\n",
              "    <tr>\n",
              "      <th>2</th>\n",
              "      <td>Balón de baloncesto</td>\n",
              "      <td>Deportes y diversión</td>\n",
              "      <td>23700.0</td>\n",
              "      <td>0.0</td>\n",
              "      <td>25/12/2022</td>\n",
              "      <td>Maria Alfonso</td>\n",
              "      <td>Medellín</td>\n",
              "      <td>5</td>\n",
              "      <td>Nequi</td>\n",
              "      <td>1</td>\n",
              "      <td>6.25184</td>\n",
              "      <td>-75.56359</td>\n",
              "    </tr>\n",
              "    <tr>\n",
              "      <th>3</th>\n",
              "      <td>Modelado predictivo</td>\n",
              "      <td>Libros</td>\n",
              "      <td>57700.0</td>\n",
              "      <td>1300.0</td>\n",
              "      <td>23/11/2021</td>\n",
              "      <td>Lucas Olivera</td>\n",
              "      <td>Medellín</td>\n",
              "      <td>3</td>\n",
              "      <td>Nequi</td>\n",
              "      <td>1</td>\n",
              "      <td>6.25184</td>\n",
              "      <td>-75.56359</td>\n",
              "    </tr>\n",
              "    <tr>\n",
              "      <th>4</th>\n",
              "      <td>Auriculares</td>\n",
              "      <td>Electrónicos</td>\n",
              "      <td>138900.0</td>\n",
              "      <td>5600.0</td>\n",
              "      <td>25/04/2022</td>\n",
              "      <td>Blanca Ramirez</td>\n",
              "      <td>Bogotá</td>\n",
              "      <td>4</td>\n",
              "      <td>Tarjeta de crédito</td>\n",
              "      <td>7</td>\n",
              "      <td>4.60971</td>\n",
              "      <td>-74.08175</td>\n",
              "    </tr>\n",
              "  </tbody>\n",
              "</table>\n",
              "</div>"
            ],
            "text/plain": [
              "              Producto Categoría del Producto     Precio  Costo de envío  \\\n",
              "0         Lavavajillas      Electrodomésticos  1084800.0         56000.0   \n",
              "1             Cama box                Muebles   473800.0         25400.0   \n",
              "2  Balón de baloncesto   Deportes y diversión    23700.0             0.0   \n",
              "3  Modelado predictivo                 Libros    57700.0          1300.0   \n",
              "4          Auriculares           Electrónicos   138900.0          5600.0   \n",
              "\n",
              "  Fecha de Compra         Vendedor Lugar de Compra  Calificación  \\\n",
              "0      11/11/2022    Rafael Acosta          Bogotá             4   \n",
              "1      03/01/2020  Izabela de León          Cúcuta             5   \n",
              "2      25/12/2022    Maria Alfonso        Medellín             5   \n",
              "3      23/11/2021    Lucas Olivera        Medellín             3   \n",
              "4      25/04/2022   Blanca Ramirez          Bogotá             4   \n",
              "\n",
              "       Método de pago  Cantidad de cuotas      lat       lon  \n",
              "0  Tarjeta de crédito                   3  4.60971 -74.08175  \n",
              "1  Tarjeta de crédito                   2  7.89391 -72.50782  \n",
              "2               Nequi                   1  6.25184 -75.56359  \n",
              "3               Nequi                   1  6.25184 -75.56359  \n",
              "4  Tarjeta de crédito                   7  4.60971 -74.08175  "
            ]
          },
          "execution_count": 20,
          "metadata": {},
          "output_type": "execute_result"
        }
      ],
      "source": [
        "print(\"\\nPrimeras filas de Tienda 4:\")\n",
        "tienda_4.head()\n"
      ]
    },
    {
      "cell_type": "code",
      "execution_count": 21,
      "metadata": {},
      "outputs": [
        {
          "name": "stdout",
          "output_type": "stream",
          "text": [
            "\n",
            "Información del DataFrame Tienda 4:\n",
            "<class 'pandas.core.frame.DataFrame'>\n",
            "RangeIndex: 2358 entries, 0 to 2357\n",
            "Data columns (total 12 columns):\n",
            " #   Column                  Non-Null Count  Dtype  \n",
            "---  ------                  --------------  -----  \n",
            " 0   Producto                2358 non-null   object \n",
            " 1   Categoría del Producto  2358 non-null   object \n",
            " 2   Precio                  2358 non-null   float64\n",
            " 3   Costo de envío          2358 non-null   float64\n",
            " 4   Fecha de Compra         2358 non-null   object \n",
            " 5   Vendedor                2358 non-null   object \n",
            " 6   Lugar de Compra         2358 non-null   object \n",
            " 7   Calificación            2358 non-null   int64  \n",
            " 8   Método de pago          2358 non-null   object \n",
            " 9   Cantidad de cuotas      2358 non-null   int64  \n",
            " 10  lat                     2358 non-null   float64\n",
            " 11  lon                     2358 non-null   float64\n",
            "dtypes: float64(4), int64(2), object(6)\n",
            "memory usage: 221.2+ KB\n"
          ]
        }
      ],
      "source": [
        "print(\"\\nInformación del DataFrame Tienda 4:\")\n",
        "tienda_4.info()"
      ]
    },
    {
      "cell_type": "markdown",
      "metadata": {},
      "source": [
        "¡Excelente! Gracias por compartir la salida de head() y info() para todas las tiendas. Esto confirma que los datos se cargaron correctamente y que todas las columnas tienen valores no nulos, lo cual es una muy buena señal para nuestro análisis.\n",
        "\n",
        "Ahora, pasemos al primer análisis requerido: calcular el ingreso total de cada tienda.\n",
        "\n",
        "Para esto, necesitamos sumar los valores de la columna 'Precio' de cada DataFrame.\n",
        "\n",
        "Aquí tienes el código con los comentarios explicativos:"
      ]
    },
    {
      "cell_type": "code",
      "execution_count": 22,
      "metadata": {},
      "outputs": [
        {
          "name": "stdout",
          "output_type": "stream",
          "text": [
            "\n",
            "--- Calculando Ingresos Totales por Tienda ---\n",
            "El ingreso total de la Tienda 1 es: $1,150,880,400.00\n",
            "El ingreso total de la Tienda 2 es: $1,116,343,500.00\n",
            "El ingreso total de la Tienda 3 es: $1,098,019,600.00\n",
            "El ingreso total de la Tienda 4 es: $1,038,375,700.00\n",
            "\n",
            "--- Ingresos Totales Calculados ---\n",
            "\n",
            "Resumen de Ingresos Totales:\n",
            "Tienda 1: $1,150,880,400.00\n",
            "Tienda 2: $1,116,343,500.00\n",
            "Tienda 3: $1,098,019,600.00\n",
            "Tienda 4: $1,038,375,700.00\n"
          ]
        }
      ],
      "source": [
        "# --- 1. Análisis de Facturación (Ingreso Total) ---\n",
        "\n",
        "print(\"\\n--- Calculando Ingresos Totales por Tienda ---\")\n",
        "\n",
        "# Calcula el ingreso total para la Tienda 1.\n",
        "# Seleccionamos la columna 'Precio' del DataFrame 'tienda_1' y usamos el método '.sum()'.\n",
        "# '.sum()' suma todos los valores numéricos de la columna seleccionada.\n",
        "ingreso_total_tienda_1 = tienda_1['Precio'].sum()\n",
        "print(f\"El ingreso total de la Tienda 1 es: ${ingreso_total_tienda_1:,.2f}\") # Imprime el resultado, formateando el número para que sea más legible con comas y 2 decimales.\n",
        "\n",
        "# Calcula el ingreso total para la Tienda 2.\n",
        "ingreso_total_tienda_2 = tienda_2['Precio'].sum()\n",
        "print(f\"El ingreso total de la Tienda 2 es: ${ingreso_total_tienda_2:,.2f}\")\n",
        "\n",
        "# Calcula el ingreso total para la Tienda 3.\n",
        "ingreso_total_tienda_3 = tienda_3['Precio'].sum()\n",
        "print(f\"El ingreso total de la Tienda 3 es: ${ingreso_total_tienda_3:,.2f}\")\n",
        "\n",
        "# Calcula el ingreso total para la Tienda 4.\n",
        "ingreso_total_tienda_4 = tienda_4['Precio'].sum()\n",
        "print(f\"El ingreso total de la Tienda 4 es: ${ingreso_total_tienda_4:,.2f}\")\n",
        "\n",
        "print(\"\\n--- Ingresos Totales Calculados ---\")\n",
        "\n",
        "# Para facilitar comparaciones posteriores, podemos guardar estos ingresos en un diccionario o una lista.\n",
        "ingresos_por_tienda = {\n",
        "    'Tienda 1': ingreso_total_tienda_1,\n",
        "    'Tienda 2': ingreso_total_tienda_2,\n",
        "    'Tienda 3': ingreso_total_tienda_3,\n",
        "    'Tienda 4': ingreso_total_tienda_4\n",
        "}\n",
        "\n",
        "# Puedes imprimir el diccionario para ver un resumen organizado.\n",
        "print(\"\\nResumen de Ingresos Totales:\")\n",
        "for tienda, ingreso in ingresos_por_tienda.items():\n",
        "    print(f\"{tienda}: ${ingreso:,.2f}\")"
      ]
    },
    {
      "cell_type": "markdown",
      "metadata": {},
      "source": [
        "## Explicación de lo que acabamos de hacer:\n",
        "\n",
        "### 1-Seleccionar la columna 'Precio':\n",
        " En cada DataFrame (tienda_1, tienda_2, etc.), la columna que contiene el valor de las ventas se llama Precio. Para acceder a ella, usamos la notación de corchetes, por ejemplo, **tienda_1['Precio']**. Esto nos devuelve una \"Serie\" de pandas, que es como una sola columna de la tabla.\n",
        "\n",
        "### 2-Sumar los valores (.sum()):\n",
        " Una vez que tenemos la columna 'Precio', simplemente aplicamos el método .sum() a esa Serie. Este método hace exactamente lo que su nombre indica: suma todos los números que contiene.\n",
        "\n",
        "### 3-Almacenar el resultado:\n",
        " Guardamos el resultado de la suma en una variable (por ejemplo, ingreso_total_tienda_1) para poder usarlo más tarde.\n",
        "\n",
        "### 4-Imprimir el resultado:\n",
        " Usamos una f-string (una forma sencilla de formatear texto con variables en Python) para mostrar el resultado de manera clara. El :,.2f dentro de la f-string es un formato especial que hace dos cosas:\n",
        ", : Agrega comas como separadores de miles para que el número sea más fácil de leer (ej. 1,234,567.89).\n",
        ".2f : Limita el número a dos decimales. Esto es útil para valores monetarios.\n",
        "\n",
        "### 5-Crear un diccionario de ingresos:\n",
        " Almacenamos todos los ingresos calculados en un diccionario de Python. Un diccionario es una colección de pares clave: valor. En este caso, la clave es el nombre de la tienda (ej. 'Tienda 1') y el valor es su ingreso total. Esto es útil para tener un resumen fácil de acceder y comparar.\n",
        "Ahora tenemos los ingresos totales de cada tienda. Esto nos da una primera idea de cuál es la tienda con mayor facturación.\n",
        "\n",
        "El siguiente paso en tu desafío es calcular la cantidad de productos vendidos por categoría en cada tienda. ¡Avísame cuando estés listo para pasar a ello!"
      ]
    },
    {
      "cell_type": "markdown",
      "metadata": {},
      "source": [
        "¡Genial! Ya tenemos los ingresos totales de cada tienda, y vemos claramente que la Tienda 1 es la que más ingresos ha generado hasta ahora.\n",
        "\n",
        "Ahora, pasemos al siguiente análisis: calcular la cantidad de productos vendidos por categoría en cada tienda. Esto nos ayudará a entender qué tipos de productos son los más populares en cada sucursal."
      ]
    },
    {
      "cell_type": "markdown",
      "metadata": {},
      "source": [
        "### Cantidad de productos vendidos por categoría\n",
        "Para lograr esto, vamos a agrupar los datos de cada tienda por la columna Categoría del Producto y luego contaremos cuántas veces aparece cada categoría.\n",
        "\n",
        "Aquí tienes el código con los comentarios para que lo sigas paso a paso:"
      ]
    },
    {
      "cell_type": "markdown",
      "metadata": {
        "id": "2V_vcAPzWZmR"
      },
      "source": [
        "# 2. Ventas por categoría"
      ]
    },
    {
      "cell_type": "code",
      "execution_count": 23,
      "metadata": {
        "id": "A34YupIuYhfF"
      },
      "outputs": [
        {
          "name": "stdout",
          "output_type": "stream",
          "text": [
            "Primeras filas de Tienda 1:\n"
          ]
        },
        {
          "data": {
            "text/html": [
              "<div>\n",
              "<style scoped>\n",
              "    .dataframe tbody tr th:only-of-type {\n",
              "        vertical-align: middle;\n",
              "    }\n",
              "\n",
              "    .dataframe tbody tr th {\n",
              "        vertical-align: top;\n",
              "    }\n",
              "\n",
              "    .dataframe thead th {\n",
              "        text-align: right;\n",
              "    }\n",
              "</style>\n",
              "<table border=\"1\" class=\"dataframe\">\n",
              "  <thead>\n",
              "    <tr style=\"text-align: right;\">\n",
              "      <th></th>\n",
              "      <th>Producto</th>\n",
              "      <th>Categoría del Producto</th>\n",
              "      <th>Precio</th>\n",
              "      <th>Costo de envío</th>\n",
              "      <th>Fecha de Compra</th>\n",
              "      <th>Vendedor</th>\n",
              "      <th>Lugar de Compra</th>\n",
              "      <th>Calificación</th>\n",
              "      <th>Método de pago</th>\n",
              "      <th>Cantidad de cuotas</th>\n",
              "      <th>lat</th>\n",
              "      <th>lon</th>\n",
              "    </tr>\n",
              "  </thead>\n",
              "  <tbody>\n",
              "    <tr>\n",
              "      <th>0</th>\n",
              "      <td>Asistente virtual</td>\n",
              "      <td>Electrónicos</td>\n",
              "      <td>164300.0</td>\n",
              "      <td>6900.0</td>\n",
              "      <td>16/01/2021</td>\n",
              "      <td>Pedro Gomez</td>\n",
              "      <td>Bogotá</td>\n",
              "      <td>4</td>\n",
              "      <td>Tarjeta de crédito</td>\n",
              "      <td>8</td>\n",
              "      <td>4.60971</td>\n",
              "      <td>-74.08175</td>\n",
              "    </tr>\n",
              "    <tr>\n",
              "      <th>1</th>\n",
              "      <td>Mesa de comedor</td>\n",
              "      <td>Muebles</td>\n",
              "      <td>192300.0</td>\n",
              "      <td>8400.0</td>\n",
              "      <td>18/05/2022</td>\n",
              "      <td>Beatriz Morales</td>\n",
              "      <td>Medellín</td>\n",
              "      <td>1</td>\n",
              "      <td>Tarjeta de crédito</td>\n",
              "      <td>4</td>\n",
              "      <td>6.25184</td>\n",
              "      <td>-75.56359</td>\n",
              "    </tr>\n",
              "  </tbody>\n",
              "</table>\n",
              "</div>"
            ],
            "text/plain": [
              "            Producto Categoría del Producto    Precio  Costo de envío  \\\n",
              "0  Asistente virtual           Electrónicos  164300.0          6900.0   \n",
              "1    Mesa de comedor                Muebles  192300.0          8400.0   \n",
              "\n",
              "  Fecha de Compra         Vendedor Lugar de Compra  Calificación  \\\n",
              "0      16/01/2021      Pedro Gomez          Bogotá             4   \n",
              "1      18/05/2022  Beatriz Morales        Medellín             1   \n",
              "\n",
              "       Método de pago  Cantidad de cuotas      lat       lon  \n",
              "0  Tarjeta de crédito                   8  4.60971 -74.08175  \n",
              "1  Tarjeta de crédito                   4  6.25184 -75.56359  "
            ]
          },
          "execution_count": 23,
          "metadata": {},
          "output_type": "execute_result"
        }
      ],
      "source": [
        "print(\"Primeras filas de Tienda 1:\")\n",
        "tienda_1.head(2)"
      ]
    },
    {
      "cell_type": "code",
      "execution_count": 25,
      "metadata": {
        "id": "yZR6cOjXYSk1"
      },
      "outputs": [
        {
          "name": "stdout",
          "output_type": "stream",
          "text": [
            "\n",
            "--- Analizando Cantidad de Productos Vendidos por Categoría ---\n",
            "\n",
            "Productos por categoría en Tienda 1:\n",
            "Categoría del Producto\n",
            "Muebles                    465\n",
            "Electrónicos               448\n",
            "Juguetes                   324\n",
            "Electrodomésticos          312\n",
            "Deportes y diversión       284\n",
            "Instrumentos musicales     182\n",
            "Libros                     173\n",
            "Artículos para el hogar    171\n",
            "Name: count, dtype: int64\n"
          ]
        }
      ],
      "source": [
        "# --- 2. Productos vendidos por Categoría ---\n",
        "\n",
        "print(\"\\n--- Analizando Cantidad de Productos Vendidos por Categoría ---\")\n",
        "\n",
        "# Para la Tienda 1:\n",
        "# Seleccionamos la columna 'Categoría del Producto' en el DataFrame 'tienda_1'.\n",
        "# Luego, usamos `.value_counts()`. Esta función cuenta cuántas veces aparece cada valor único en una columna.\n",
        "# Es perfecta para ver la distribución de las categorías.\n",
        "productos_por_categoria_tienda_1 = tienda_1['Categoría del Producto'].value_counts()\n",
        "print(\"\\nProductos por categoría en Tienda 1:\")\n",
        "print(productos_por_categoria_tienda_1) # Imprime la Serie resultante, mostrando cada categoría y su conteo.\n",
        "\n",
        "\n",
        "\n",
        "# Opcional: Si quieres ver las categorías más vendidas en una sola vista para todas las tiendas, podrías hacer algo como:\n",
        "# print(\"\\nCategorías más vendidas (Top 3) por Tienda:\")\n",
        "# print(f\"Tienda 1: {productos_por_categoria_tienda_1.head(3).index.tolist()}\")\n",
        "# print(f\"Tienda 2: {productos_por_categoria_tienda_2.head(3).index.tolist()}\")\n",
        "# print(f\"Tienda 3: {productos_por_categoria_tienda_3.head(3).index.tolist()}\")\n",
        "# print(f\"Tienda 4: {productos_por_categoria_tienda_4.head(3).index.tolist()}\")"
      ]
    },
    {
      "cell_type": "code",
      "execution_count": 26,
      "metadata": {},
      "outputs": [
        {
          "name": "stdout",
          "output_type": "stream",
          "text": [
            "\n",
            "Productos por categoría en Tienda 2:\n",
            "Categoría del Producto\n",
            "Muebles                    442\n",
            "Electrónicos               422\n",
            "Juguetes                   313\n",
            "Electrodomésticos          305\n",
            "Deportes y diversión       275\n",
            "Instrumentos musicales     224\n",
            "Libros                     197\n",
            "Artículos para el hogar    181\n",
            "Name: count, dtype: int64\n"
          ]
        }
      ],
      "source": [
        "# Para la Tienda 2:\n",
        "productos_por_categoria_tienda_2 = tienda_2['Categoría del Producto'].value_counts()\n",
        "print(\"\\nProductos por categoría en Tienda 2:\")\n",
        "print(productos_por_categoria_tienda_2)\n"
      ]
    },
    {
      "cell_type": "code",
      "execution_count": 27,
      "metadata": {},
      "outputs": [
        {
          "name": "stdout",
          "output_type": "stream",
          "text": [
            "\n",
            "Productos por categoría en Tienda 3:\n",
            "Categoría del Producto\n",
            "Muebles                    499\n",
            "Electrónicos               451\n",
            "Juguetes                   315\n",
            "Electrodomésticos          278\n",
            "Deportes y diversión       277\n",
            "Libros                     185\n",
            "Instrumentos musicales     177\n",
            "Artículos para el hogar    177\n",
            "Name: count, dtype: int64\n"
          ]
        }
      ],
      "source": [
        "# Para la Tienda 3:\n",
        "productos_por_categoria_tienda_3 = tienda_3['Categoría del Producto'].value_counts()\n",
        "print(\"\\nProductos por categoría en Tienda 3:\")\n",
        "print(productos_por_categoria_tienda_3)"
      ]
    },
    {
      "cell_type": "code",
      "execution_count": 28,
      "metadata": {},
      "outputs": [
        {
          "name": "stdout",
          "output_type": "stream",
          "text": [
            "\n",
            "Productos por categoría en Tienda 4:\n",
            "Categoría del Producto\n",
            "Muebles                    480\n",
            "Electrónicos               451\n",
            "Juguetes                   338\n",
            "Deportes y diversión       277\n",
            "Electrodomésticos          254\n",
            "Artículos para el hogar    201\n",
            "Libros                     187\n",
            "Instrumentos musicales     170\n",
            "Name: count, dtype: int64\n",
            "\n",
            "--- Análisis de Categorías Completado ---\n"
          ]
        }
      ],
      "source": [
        "# Para la Tienda 4:\n",
        "productos_por_categoria_tienda_4 = tienda_4['Categoría del Producto'].value_counts()\n",
        "print(\"\\nProductos por categoría en Tienda 4:\")\n",
        "print(productos_por_categoria_tienda_4)\n",
        "\n",
        "print(\"\\n--- Análisis de Categorías Completado ---\")"
      ]
    },
    {
      "cell_type": "markdown",
      "metadata": {},
      "source": [
        "## Explicación del paso a paso:\n",
        "\n",
        "### Seleccionar la columna de interés:\n",
        " Al igual que con el 'Precio', tomamos la columna Categoría del Producto de cada DataFrame.\n",
        "\n",
        "### Contar valores únicos (.value_counts()):\n",
        " Esta es la magia de Pandas aquí. El método .value_counts() es increíblemente útil. Recorre toda la columna y cuenta cuántas veces aparece cada valor único. Por ejemplo, si en la columna Categoría del Producto aparece \"Electrónicos\" 500 veces, .value_counts() te dirá que \"Electrónicos\" tiene un conteo de 500.\n",
        "\n",
        "### Imprimir resultados:\n",
        " Mostramos los resultados para cada tienda. Verás una lista de categorías y, al lado de cada una, el número de productos vendidos dentro de esa categoría. Los resultados se ordenan automáticamente de la categoría más frecuente a la menos frecuente.\n",
        "\n",
        "Con esta información, el Sr. Juan podrá ver rápidamente qué categorías de productos son las más populares en cada una de sus tiendas. Esto es clave para entender las preferencias de los clientes y la especialización (si la hay) de cada sucursal.\n",
        "\n",
        "¿Listo para calcular la calificación promedio de los clientes para cada tienda? ¡Así podremos ver la satisfacción del cliente!"
      ]
    },
    {
      "cell_type": "code",
      "execution_count": 29,
      "metadata": {},
      "outputs": [
        {
          "name": "stdout",
          "output_type": "stream",
          "text": [
            "\n",
            "Categorías más vendidas (Top 3) por Tienda:\n",
            "Tienda 1: ['Muebles', 'Electrónicos', 'Juguetes']\n",
            "Tienda 2: ['Muebles', 'Electrónicos', 'Juguetes']\n",
            "Tienda 3: ['Muebles', 'Electrónicos', 'Juguetes']\n",
            "Tienda 4: ['Muebles', 'Electrónicos', 'Juguetes']\n"
          ]
        }
      ],
      "source": [
        "# Opcional: Si quieres ver las categorías más vendidas en una sola vista para todas las tiendas, podrías hacer algo como:\n",
        "print(\"\\nCategorías más vendidas (Top 3) por Tienda:\")\n",
        "print(f\"Tienda 1: {productos_por_categoria_tienda_1.head(3).index.tolist()}\")\n",
        "print(f\"Tienda 2: {productos_por_categoria_tienda_2.head(3).index.tolist()}\")\n",
        "print(f\"Tienda 3: {productos_por_categoria_tienda_3.head(3).index.tolist()}\")\n",
        "print(f\"Tienda 4: {productos_por_categoria_tienda_4.head(3).index.tolist()}\")"
      ]
    },
    {
      "cell_type": "markdown",
      "metadata": {
        "id": "Rq6tU_xSY3jk"
      },
      "source": [
        "# 3. Calificación promedio de la tienda\n"
      ]
    },
    {
      "cell_type": "markdown",
      "metadata": {},
      "source": [
        "¡Perfecto! Ya tenemos los ingresos y las categorías de productos más vendidas. Ahora vamos a la calificación promedio de los clientes para cada tienda, un dato crucial para entender la satisfacción de los compradores.\n",
        "\n",
        "Calificación Promedio de los Clientes\n",
        "Para esto, nos enfocaremos en la columna Calificación y calcularemos su promedio (.mean()) para cada una de las tiendas.\n",
        "\n",
        "Aquí tienes el código con las explicaciones:"
      ]
    },
    {
      "cell_type": "code",
      "execution_count": 31,
      "metadata": {},
      "outputs": [
        {
          "data": {
            "text/html": [
              "<div>\n",
              "<style scoped>\n",
              "    .dataframe tbody tr th:only-of-type {\n",
              "        vertical-align: middle;\n",
              "    }\n",
              "\n",
              "    .dataframe tbody tr th {\n",
              "        vertical-align: top;\n",
              "    }\n",
              "\n",
              "    .dataframe thead th {\n",
              "        text-align: right;\n",
              "    }\n",
              "</style>\n",
              "<table border=\"1\" class=\"dataframe\">\n",
              "  <thead>\n",
              "    <tr style=\"text-align: right;\">\n",
              "      <th></th>\n",
              "      <th>Producto</th>\n",
              "      <th>Categoría del Producto</th>\n",
              "      <th>Precio</th>\n",
              "      <th>Costo de envío</th>\n",
              "      <th>Fecha de Compra</th>\n",
              "      <th>Vendedor</th>\n",
              "      <th>Lugar de Compra</th>\n",
              "      <th>Calificación</th>\n",
              "      <th>Método de pago</th>\n",
              "      <th>Cantidad de cuotas</th>\n",
              "      <th>lat</th>\n",
              "      <th>lon</th>\n",
              "    </tr>\n",
              "  </thead>\n",
              "  <tbody>\n",
              "    <tr>\n",
              "      <th>0</th>\n",
              "      <td>Asistente virtual</td>\n",
              "      <td>Electrónicos</td>\n",
              "      <td>164300.0</td>\n",
              "      <td>6900.0</td>\n",
              "      <td>16/01/2021</td>\n",
              "      <td>Pedro Gomez</td>\n",
              "      <td>Bogotá</td>\n",
              "      <td>4</td>\n",
              "      <td>Tarjeta de crédito</td>\n",
              "      <td>8</td>\n",
              "      <td>4.60971</td>\n",
              "      <td>-74.08175</td>\n",
              "    </tr>\n",
              "    <tr>\n",
              "      <th>1</th>\n",
              "      <td>Mesa de comedor</td>\n",
              "      <td>Muebles</td>\n",
              "      <td>192300.0</td>\n",
              "      <td>8400.0</td>\n",
              "      <td>18/05/2022</td>\n",
              "      <td>Beatriz Morales</td>\n",
              "      <td>Medellín</td>\n",
              "      <td>1</td>\n",
              "      <td>Tarjeta de crédito</td>\n",
              "      <td>4</td>\n",
              "      <td>6.25184</td>\n",
              "      <td>-75.56359</td>\n",
              "    </tr>\n",
              "  </tbody>\n",
              "</table>\n",
              "</div>"
            ],
            "text/plain": [
              "            Producto Categoría del Producto    Precio  Costo de envío  \\\n",
              "0  Asistente virtual           Electrónicos  164300.0          6900.0   \n",
              "1    Mesa de comedor                Muebles  192300.0          8400.0   \n",
              "\n",
              "  Fecha de Compra         Vendedor Lugar de Compra  Calificación  \\\n",
              "0      16/01/2021      Pedro Gomez          Bogotá             4   \n",
              "1      18/05/2022  Beatriz Morales        Medellín             1   \n",
              "\n",
              "       Método de pago  Cantidad de cuotas      lat       lon  \n",
              "0  Tarjeta de crédito                   8  4.60971 -74.08175  \n",
              "1  Tarjeta de crédito                   4  6.25184 -75.56359  "
            ]
          },
          "execution_count": 31,
          "metadata": {},
          "output_type": "execute_result"
        }
      ],
      "source": [
        "tienda_1.head(2)"
      ]
    },
    {
      "cell_type": "code",
      "execution_count": 30,
      "metadata": {
        "id": "bh3jjjJwY5MU"
      },
      "outputs": [
        {
          "name": "stdout",
          "output_type": "stream",
          "text": [
            "\n",
            "--- Calculando la Calificación Promedio de los Clientes por Tienda ---\n",
            "La calificación promedio de la Tienda 1 es: 3.98\n",
            "La calificación promedio de la Tienda 2 es: 4.04\n",
            "La calificación promedio de la Tienda 3 es: 4.05\n",
            "La calificación promedio de la Tienda 4 es: 4.00\n",
            "\n",
            "--- Calificaciones Promedio Calculadas ---\n",
            "\n",
            "Resumen de Calificaciones Promedio:\n",
            "Tienda 1: 3.98\n",
            "Tienda 2: 4.04\n",
            "Tienda 3: 4.05\n",
            "Tienda 4: 4.00\n"
          ]
        }
      ],
      "source": [
        "# --- 3. Calificación Promedio de la Tienda ---\n",
        "\n",
        "print(\"\\n--- Calculando la Calificación Promedio de los Clientes por Tienda ---\")\n",
        "\n",
        "# Para la Tienda 1:\n",
        "# Seleccionamos la columna 'Calificación' del DataFrame 'tienda_1'.\n",
        "# Usamos el método '.mean()', que calcula el promedio (la media aritmética) de todos los números en esa columna.\n",
        "calificacion_promedio_tienda_1 = tienda_1['Calificación'].mean()\n",
        "print(f\"La calificación promedio de la Tienda 1 es: {calificacion_promedio_tienda_1:.2f}\") # Imprimimos el resultado con 2 decimales para mayor claridad.\n",
        "\n",
        "# Para la Tienda 2:\n",
        "calificacion_promedio_tienda_2 = tienda_2['Calificación'].mean()\n",
        "print(f\"La calificación promedio de la Tienda 2 es: {calificacion_promedio_tienda_2:.2f}\")\n",
        "\n",
        "# Para la Tienda 3:\n",
        "calificacion_promedio_tienda_3 = tienda_3['Calificación'].mean()\n",
        "print(f\"La calificación promedio de la Tienda 3 es: {calificacion_promedio_tienda_3:.2f}\")\n",
        "\n",
        "# Para la Tienda 4:\n",
        "calificacion_promedio_tienda_4 = tienda_4['Calificación'].mean()\n",
        "print(f\"La calificación promedio de la Tienda 4 es: {calificacion_promedio_tienda_4:.2f}\")\n",
        "\n",
        "print(\"\\n--- Calificaciones Promedio Calculadas ---\")\n",
        "\n",
        "# También podemos guardar estos promedios en un diccionario para una fácil referencia.\n",
        "calificaciones_por_tienda = {\n",
        "    'Tienda 1': calificacion_promedio_tienda_1,\n",
        "    'Tienda 2': calificacion_promedio_tienda_2,\n",
        "    'Tienda 3': calificacion_promedio_tienda_3,\n",
        "    'Tienda 4': calificacion_promedio_tienda_4\n",
        "}\n",
        "\n",
        "print(\"\\nResumen de Calificaciones Promedio:\")\n",
        "for tienda, calificacion in calificaciones_por_tienda.items():\n",
        "    print(f\"{tienda}: {calificacion:.2f}\")"
      ]
    },
    {
      "cell_type": "markdown",
      "metadata": {},
      "source": [
        "## Explicación del paso a paso:\n",
        "\n",
        "### Seleccionar la columna 'Calificación':\n",
        " De manera similar a los pasos anteriores, accedemos a la columna Calificación en cada uno de nuestros DataFrames. Esta columna contiene las puntuaciones que los clientes dieron a sus compras.\n",
        "\n",
        "### Calcular el promedio (.mean()):\n",
        " El método .mean() de Pandas es perfecto para esto. Suma todos los valores en la columna Calificación y luego los divide por el número total de calificaciones, dándonos el promedio.\n",
        "\n",
        "### Imprimir y resumir:\n",
        " Mostramos la calificación promedio para cada tienda, redondeada a dos decimales (:.2f) para que sea más fácil de leer. Finalmente, recopilamos estos promedios en un diccionario para tener un resumen claro y conciso de la satisfacción del cliente por tienda.\n",
        " \n",
        "Con estos promedios, el Sr. Juan puede identificar rápidamente qué tiendas tienen clientes más satisfechos y cuáles podrían necesitar mejorar su servicio o la calidad de sus productos.\n",
        "\n",
        "¿Estás listo para el siguiente paso? Ahora vamos a identificar los productos más y menos vendidos en cada tienda. ¡Esto nos dará una visión detallada del inventario y la demanda!"
      ]
    },
    {
      "cell_type": "markdown",
      "metadata": {
        "id": "DmNp1KPBZCm-"
      },
      "source": [
        "# 4. Productos más y menos vendidos"
      ]
    },
    {
      "cell_type": "markdown",
      "metadata": {},
      "source": [
        "¡Dale! No necesito más información por ahora. Con los DataFrames cargados y la salida que me diste antes, ya tengo todo para seguir.\n",
        "\n",
        "Ahora vamos a identificar los productos más y menos vendidos en cada tienda. Esto es clave para el Sr. Juan, ya que le dará una idea muy clara de qué productos tienen éxito y cuáles no tanto.\n",
        "\n",
        "Productos Más y Menos Vendidos\n",
        "Para este análisis, vamos a contar las ocurrencias de cada Producto en la columna Producto de cada DataFrame, similar a cómo lo hicimos con las categorías. Luego, tomaremos los primeros y últimos elementos de esos conteos para identificar los más y menos vendidos.\n",
        "\n",
        "Aquí tienes el código con las explicaciones:"
      ]
    },
    {
      "cell_type": "code",
      "execution_count": 32,
      "metadata": {},
      "outputs": [
        {
          "data": {
            "text/html": [
              "<div>\n",
              "<style scoped>\n",
              "    .dataframe tbody tr th:only-of-type {\n",
              "        vertical-align: middle;\n",
              "    }\n",
              "\n",
              "    .dataframe tbody tr th {\n",
              "        vertical-align: top;\n",
              "    }\n",
              "\n",
              "    .dataframe thead th {\n",
              "        text-align: right;\n",
              "    }\n",
              "</style>\n",
              "<table border=\"1\" class=\"dataframe\">\n",
              "  <thead>\n",
              "    <tr style=\"text-align: right;\">\n",
              "      <th></th>\n",
              "      <th>Producto</th>\n",
              "      <th>Categoría del Producto</th>\n",
              "      <th>Precio</th>\n",
              "      <th>Costo de envío</th>\n",
              "      <th>Fecha de Compra</th>\n",
              "      <th>Vendedor</th>\n",
              "      <th>Lugar de Compra</th>\n",
              "      <th>Calificación</th>\n",
              "      <th>Método de pago</th>\n",
              "      <th>Cantidad de cuotas</th>\n",
              "      <th>lat</th>\n",
              "      <th>lon</th>\n",
              "    </tr>\n",
              "  </thead>\n",
              "  <tbody>\n",
              "    <tr>\n",
              "      <th>0</th>\n",
              "      <td>Asistente virtual</td>\n",
              "      <td>Electrónicos</td>\n",
              "      <td>164300.0</td>\n",
              "      <td>6900.0</td>\n",
              "      <td>16/01/2021</td>\n",
              "      <td>Pedro Gomez</td>\n",
              "      <td>Bogotá</td>\n",
              "      <td>4</td>\n",
              "      <td>Tarjeta de crédito</td>\n",
              "      <td>8</td>\n",
              "      <td>4.60971</td>\n",
              "      <td>-74.08175</td>\n",
              "    </tr>\n",
              "    <tr>\n",
              "      <th>1</th>\n",
              "      <td>Mesa de comedor</td>\n",
              "      <td>Muebles</td>\n",
              "      <td>192300.0</td>\n",
              "      <td>8400.0</td>\n",
              "      <td>18/05/2022</td>\n",
              "      <td>Beatriz Morales</td>\n",
              "      <td>Medellín</td>\n",
              "      <td>1</td>\n",
              "      <td>Tarjeta de crédito</td>\n",
              "      <td>4</td>\n",
              "      <td>6.25184</td>\n",
              "      <td>-75.56359</td>\n",
              "    </tr>\n",
              "  </tbody>\n",
              "</table>\n",
              "</div>"
            ],
            "text/plain": [
              "            Producto Categoría del Producto    Precio  Costo de envío  \\\n",
              "0  Asistente virtual           Electrónicos  164300.0          6900.0   \n",
              "1    Mesa de comedor                Muebles  192300.0          8400.0   \n",
              "\n",
              "  Fecha de Compra         Vendedor Lugar de Compra  Calificación  \\\n",
              "0      16/01/2021      Pedro Gomez          Bogotá             4   \n",
              "1      18/05/2022  Beatriz Morales        Medellín             1   \n",
              "\n",
              "       Método de pago  Cantidad de cuotas      lat       lon  \n",
              "0  Tarjeta de crédito                   8  4.60971 -74.08175  \n",
              "1  Tarjeta de crédito                   4  6.25184 -75.56359  "
            ]
          },
          "execution_count": 32,
          "metadata": {},
          "output_type": "execute_result"
        }
      ],
      "source": [
        "tienda_1.head(2)\n"
      ]
    },
    {
      "cell_type": "code",
      "execution_count": 33,
      "metadata": {
        "id": "qoyjqijQZHfF"
      },
      "outputs": [
        {
          "name": "stdout",
          "output_type": "stream",
          "text": [
            "\n",
            "--- Identificando Productos Más y Menos Vendidos por Tienda ---\n",
            "\n",
            "Top 5 Productos Más Vendidos en Tienda 1:\n",
            "Producto\n",
            "TV LED UHD 4K              60\n",
            "Armario                    60\n",
            "Microondas                 60\n",
            "Secadora de ropa           58\n",
            "Bloques de construcción    56\n",
            "Name: count, dtype: int64\n",
            "\n",
            "Top 5 Productos Menos Vendidos en Tienda 1:\n",
            "Producto\n",
            "Ciencia de datos con Python    39\n",
            "Pandereta                      36\n",
            "Olla de presión                35\n",
            "Auriculares con micrófono      33\n",
            "Celular ABXY                   33\n",
            "Name: count, dtype: int64\n"
          ]
        }
      ],
      "source": [
        "# --- 4. Productos Más y Menos Vendidos ---\n",
        "\n",
        "print(\"\\n--- Identificando Productos Más y Menos Vendidos por Tienda ---\")\n",
        "\n",
        "# Para la Tienda 1:\n",
        "# Contamos la frecuencia de cada producto.\n",
        "conteo_productos_tienda_1 = tienda_1['Producto'].value_counts()\n",
        "print(\"\\nTop 5 Productos Más Vendidos en Tienda 1:\")\n",
        "print(conteo_productos_tienda_1.head(5)) # .head(5) nos da los 5 productos con el mayor conteo.\n",
        "print(\"\\nTop 5 Productos Menos Vendidos en Tienda 1:\")\n",
        "print(conteo_productos_tienda_1.tail(5)) # .tail(5) nos da los 5 productos con el menor conteo.\n"
      ]
    },
    {
      "cell_type": "code",
      "execution_count": 34,
      "metadata": {
        "id": "0Sw3sd4IZIGW"
      },
      "outputs": [
        {
          "name": "stdout",
          "output_type": "stream",
          "text": [
            "\n",
            "Top 5 Productos Más Vendidos en Tienda 2:\n",
            "Producto\n",
            "Iniciando en programación    65\n",
            "Microondas                   62\n",
            "Batería                      61\n",
            "Guitarra acústica            58\n",
            "Pandereta                    58\n",
            "Name: count, dtype: int64\n",
            "\n",
            "Top 5 Productos Menos Vendidos en Tienda 2:\n",
            "Producto\n",
            "Auriculares        37\n",
            "Sillón             35\n",
            "Mesa de comedor    34\n",
            "Impresora          34\n",
            "Juego de mesa      32\n",
            "Name: count, dtype: int64\n"
          ]
        }
      ],
      "source": [
        "# Para la Tienda 2:\n",
        "conteo_productos_tienda_2 = tienda_2['Producto'].value_counts()\n",
        "print(\"\\nTop 5 Productos Más Vendidos en Tienda 2:\")\n",
        "print(conteo_productos_tienda_2.head(5))\n",
        "print(\"\\nTop 5 Productos Menos Vendidos en Tienda 2:\")\n",
        "print(conteo_productos_tienda_2.tail(5))\n"
      ]
    },
    {
      "cell_type": "code",
      "execution_count": 35,
      "metadata": {},
      "outputs": [
        {
          "name": "stdout",
          "output_type": "stream",
          "text": [
            "\n",
            "Top 5 Productos Más Vendidos en Tienda 3:\n",
            "Producto\n",
            "Kit de bancas      57\n",
            "Cama king          56\n",
            "Mesa de comedor    56\n",
            "Set de ollas       55\n",
            "Mesa de noche      55\n",
            "Name: count, dtype: int64\n",
            "\n",
            "Top 5 Productos Menos Vendidos en Tienda 3:\n",
            "Producto\n",
            "Guitarra eléctrica         38\n",
            "Mochila                    36\n",
            "Microondas                 36\n",
            "Set de vasos               36\n",
            "Bloques de construcción    35\n",
            "Name: count, dtype: int64\n"
          ]
        }
      ],
      "source": [
        "# Para la Tienda 3:\n",
        "conteo_productos_tienda_3 = tienda_3['Producto'].value_counts()\n",
        "print(\"\\nTop 5 Productos Más Vendidos en Tienda 3:\")\n",
        "print(conteo_productos_tienda_3.head(5))\n",
        "print(\"\\nTop 5 Productos Menos Vendidos en Tienda 3:\")\n",
        "print(conteo_productos_tienda_3.tail(5))\n"
      ]
    },
    {
      "cell_type": "code",
      "execution_count": 36,
      "metadata": {},
      "outputs": [
        {
          "name": "stdout",
          "output_type": "stream",
          "text": [
            "\n",
            "Top 5 Productos Más Vendidos en Tienda 4:\n",
            "Producto\n",
            "Cama box                   62\n",
            "Cubertería                 59\n",
            "Dashboards con Power BI    56\n",
            "Cama king                  56\n",
            "Mesa de noche              55\n",
            "Name: count, dtype: int64\n",
            "\n",
            "Top 5 Productos Menos Vendidos en Tienda 4:\n",
            "Producto\n",
            "Lavadora de ropa               38\n",
            "Ciencia de datos con Python    38\n",
            "Guitarra acústica              37\n",
            "Armario                        34\n",
            "Guitarra eléctrica             33\n",
            "Name: count, dtype: int64\n",
            "\n",
            "--- Análisis de Productos Más y Menos Vendidos Completado ---\n"
          ]
        }
      ],
      "source": [
        "# Para la Tienda 4:\n",
        "conteo_productos_tienda_4 = tienda_4['Producto'].value_counts()\n",
        "print(\"\\nTop 5 Productos Más Vendidos en Tienda 4:\")\n",
        "print(conteo_productos_tienda_4.head(5))\n",
        "print(\"\\nTop 5 Productos Menos Vendidos en Tienda 4:\")\n",
        "print(conteo_productos_tienda_4.tail(5))\n",
        "\n",
        "print(\"\\n--- Análisis de Productos Más y Menos Vendidos Completado ---\")"
      ]
    },
    {
      "cell_type": "markdown",
      "metadata": {},
      "source": [
        "## Explicación del paso a paso:\n",
        "\n",
        "### Contar la frecuencia de productos (.value_counts()):\n",
        " Al igual que con las categorías, usamos tienda_X['Producto'].value_counts(). Esto nos devuelve una lista de todos los productos y cuántas veces se vendió cada uno, ordenados de mayor a menor venta.\n",
        "\n",
        "### Identificar los más vendidos (.head(5)):\n",
        " Una vez que tenemos la lista ordenada, el método .head(5) nos permite tomar las primeras 5 filas de esa lista, que corresponden a los 5 productos más vendidos.\n",
        "\n",
        "### Identificar los menos vendidos (.tail(5)):\n",
        " De forma similar, el método .tail(5) nos da las últimas 5 filas, que son los 5 productos menos vendidos.\n",
        "Este análisis es muy valioso para el Sr. Juan, ya que le muestra qué productos tienen una alta demanda y cuáles podrían no estar funcionando bien, lo que le ayudará a tomar decisiones sobre el inventario y las posibles ofertas futuras.\n",
        "\n",
        "¿Listo para el último cálculo antes de pasar a la visualización y la recomendación final? Ahora vamos a calcular el costo de envío promedio para cada tienda."
      ]
    },
    {
      "cell_type": "markdown",
      "metadata": {
        "id": "Fl0cGi3bZKqU"
      },
      "source": [
        "# 5. Envío promedio por tienda"
      ]
    },
    {
      "cell_type": "markdown",
      "metadata": {},
      "source": [
        "¡Excelente! Vamos por el último cálculo antes de pasar a la visualización y la recomendación final. Ahora calcularemos el costo de envío promedio para cada tienda. Esto es importante para entender los gastos operativos.\n",
        "\n",
        "Costo de Envío Promedio\n",
        "Para este análisis, vamos a tomar la columna Costo de envío de cada DataFrame y calcularemos su promedio.\n",
        "\n",
        "Aquí tienes el código con las explicaciones paso a paso:"
      ]
    },
    {
      "cell_type": "code",
      "execution_count": 37,
      "metadata": {
        "id": "S2JeaCykZNy9"
      },
      "outputs": [
        {
          "data": {
            "text/html": [
              "<div>\n",
              "<style scoped>\n",
              "    .dataframe tbody tr th:only-of-type {\n",
              "        vertical-align: middle;\n",
              "    }\n",
              "\n",
              "    .dataframe tbody tr th {\n",
              "        vertical-align: top;\n",
              "    }\n",
              "\n",
              "    .dataframe thead th {\n",
              "        text-align: right;\n",
              "    }\n",
              "</style>\n",
              "<table border=\"1\" class=\"dataframe\">\n",
              "  <thead>\n",
              "    <tr style=\"text-align: right;\">\n",
              "      <th></th>\n",
              "      <th>Producto</th>\n",
              "      <th>Categoría del Producto</th>\n",
              "      <th>Precio</th>\n",
              "      <th>Costo de envío</th>\n",
              "      <th>Fecha de Compra</th>\n",
              "      <th>Vendedor</th>\n",
              "      <th>Lugar de Compra</th>\n",
              "      <th>Calificación</th>\n",
              "      <th>Método de pago</th>\n",
              "      <th>Cantidad de cuotas</th>\n",
              "      <th>lat</th>\n",
              "      <th>lon</th>\n",
              "    </tr>\n",
              "  </thead>\n",
              "  <tbody>\n",
              "    <tr>\n",
              "      <th>0</th>\n",
              "      <td>Asistente virtual</td>\n",
              "      <td>Electrónicos</td>\n",
              "      <td>164300.0</td>\n",
              "      <td>6900.0</td>\n",
              "      <td>16/01/2021</td>\n",
              "      <td>Pedro Gomez</td>\n",
              "      <td>Bogotá</td>\n",
              "      <td>4</td>\n",
              "      <td>Tarjeta de crédito</td>\n",
              "      <td>8</td>\n",
              "      <td>4.60971</td>\n",
              "      <td>-74.08175</td>\n",
              "    </tr>\n",
              "    <tr>\n",
              "      <th>1</th>\n",
              "      <td>Mesa de comedor</td>\n",
              "      <td>Muebles</td>\n",
              "      <td>192300.0</td>\n",
              "      <td>8400.0</td>\n",
              "      <td>18/05/2022</td>\n",
              "      <td>Beatriz Morales</td>\n",
              "      <td>Medellín</td>\n",
              "      <td>1</td>\n",
              "      <td>Tarjeta de crédito</td>\n",
              "      <td>4</td>\n",
              "      <td>6.25184</td>\n",
              "      <td>-75.56359</td>\n",
              "    </tr>\n",
              "  </tbody>\n",
              "</table>\n",
              "</div>"
            ],
            "text/plain": [
              "            Producto Categoría del Producto    Precio  Costo de envío  \\\n",
              "0  Asistente virtual           Electrónicos  164300.0          6900.0   \n",
              "1    Mesa de comedor                Muebles  192300.0          8400.0   \n",
              "\n",
              "  Fecha de Compra         Vendedor Lugar de Compra  Calificación  \\\n",
              "0      16/01/2021      Pedro Gomez          Bogotá             4   \n",
              "1      18/05/2022  Beatriz Morales        Medellín             1   \n",
              "\n",
              "       Método de pago  Cantidad de cuotas      lat       lon  \n",
              "0  Tarjeta de crédito                   8  4.60971 -74.08175  \n",
              "1  Tarjeta de crédito                   4  6.25184 -75.56359  "
            ]
          },
          "execution_count": 37,
          "metadata": {},
          "output_type": "execute_result"
        }
      ],
      "source": [
        "tienda_1.head(2)"
      ]
    },
    {
      "cell_type": "code",
      "execution_count": 38,
      "metadata": {
        "id": "0tSdCie9ZQlt"
      },
      "outputs": [
        {
          "name": "stdout",
          "output_type": "stream",
          "text": [
            "\n",
            "--- Calculando el Costo de Envío Promedio por Tienda ---\n",
            "El costo de envío promedio de la Tienda 1 es: $26,018.61\n"
          ]
        }
      ],
      "source": [
        "# --- 5. Costo de Envío Promedio por Tienda ---\n",
        "\n",
        "print(\"\\n--- Calculando el Costo de Envío Promedio por Tienda ---\")\n",
        "\n",
        "# Para la Tienda 1:\n",
        "# Accedemos a la columna 'Costo de envío' del DataFrame 'tienda_1'.\n",
        "# Usamos el método '.mean()' para calcular el promedio de todos los costos de envío.\n",
        "costo_envio_promedio_tienda_1 = tienda_1['Costo de envío'].mean()\n",
        "print(f\"El costo de envío promedio de la Tienda 1 es: ${costo_envio_promedio_tienda_1:,.2f}\") # Imprimimos el resultado formateado a 2 decimales.\n",
        "\n"
      ]
    },
    {
      "cell_type": "code",
      "execution_count": 39,
      "metadata": {},
      "outputs": [
        {
          "name": "stdout",
          "output_type": "stream",
          "text": [
            "El costo de envío promedio de la Tienda 2 es: $25,216.24\n"
          ]
        }
      ],
      "source": [
        "# Para la Tienda 2:\n",
        "costo_envio_promedio_tienda_2 = tienda_2['Costo de envío'].mean()\n",
        "print(f\"El costo de envío promedio de la Tienda 2 es: ${costo_envio_promedio_tienda_2:,.2f}\")\n",
        "\n"
      ]
    },
    {
      "cell_type": "code",
      "execution_count": 40,
      "metadata": {},
      "outputs": [
        {
          "name": "stdout",
          "output_type": "stream",
          "text": [
            "El costo de envío promedio de la Tienda 3 es: $24,805.68\n"
          ]
        }
      ],
      "source": [
        "# Para la Tienda 3:\n",
        "costo_envio_promedio_tienda_3 = tienda_3['Costo de envío'].mean()\n",
        "print(f\"El costo de envío promedio de la Tienda 3 es: ${costo_envio_promedio_tienda_3:,.2f}\")\n",
        "\n"
      ]
    },
    {
      "cell_type": "code",
      "execution_count": 41,
      "metadata": {},
      "outputs": [
        {
          "name": "stdout",
          "output_type": "stream",
          "text": [
            "El costo de envío promedio de la Tienda 4 es: $23,459.46\n",
            "\n",
            "--- Costos de Envío Promedio Calculados ---\n"
          ]
        }
      ],
      "source": [
        "# Para la Tienda 4:\n",
        "costo_envio_promedio_tienda_4 = tienda_4['Costo de envío'].mean()\n",
        "print(f\"El costo de envío promedio de la Tienda 4 es: ${costo_envio_promedio_tienda_4:,.2f}\")\n",
        "\n",
        "print(\"\\n--- Costos de Envío Promedio Calculados ---\")\n"
      ]
    },
    {
      "cell_type": "code",
      "execution_count": 42,
      "metadata": {},
      "outputs": [
        {
          "name": "stdout",
          "output_type": "stream",
          "text": [
            "\n",
            "Resumen de Costos de Envío Promedio:\n",
            "Tienda 1: $26,018.61\n",
            "Tienda 2: $25,216.24\n",
            "Tienda 3: $24,805.68\n",
            "Tienda 4: $23,459.46\n"
          ]
        }
      ],
      "source": [
        "# Almacenamos los resultados en un diccionario para un resumen fácil.\n",
        "costos_envio_por_tienda = {\n",
        "    'Tienda 1': costo_envio_promedio_tienda_1,\n",
        "    'Tienda 2': costo_envio_promedio_tienda_2,\n",
        "    'Tienda 3': costo_envio_promedio_tienda_3,\n",
        "    'Tienda 4': costo_envio_promedio_tienda_4\n",
        "}\n",
        "\n",
        "print(\"\\nResumen de Costos de Envío Promedio:\")\n",
        "for tienda, costo in costos_envio_por_tienda.items():\n",
        "    print(f\"{tienda}: ${costo:,.2f}\")"
      ]
    },
    {
      "cell_type": "markdown",
      "metadata": {},
      "source": [
        "## Explicación del paso a paso:\n",
        "\n",
        "### Seleccionar la columna 'Costo de envío':\n",
        " Similar a los pasos anteriores, nos enfocamos en la columna que contiene los costos de envío individuales para cada transacción.\n",
        "\n",
        "### Calcular el promedio (.mean()):\n",
        " Aplicamos el método .mean() a esta columna para obtener el costo promedio de envío por cada tienda.\n",
        "\n",
        "### Imprimir y resumir:\n",
        " Mostramos los resultados formateados para una lectura clara y los almacenamos en un diccionario para tener una vista rápida de estos gastos.\n",
        "¡Hemos completado todos los análisis numéricos! Ahora tenemos la siguiente información clave para cada tienda:\n",
        "\n",
        "* Ingresos totales\n",
        "\n",
        "* Cantidad de productos vendidos por categoría (para identificar las categorías más y menos populares) \n",
        "\n",
        "* Calificación promedio de los clientes\n",
        "\n",
        "* Productos más y menos vendidos\n",
        "\n",
        "* Costo de envío promedio\n",
        "\n",
        "El siguiente y crucial paso es crear visualizaciones (gráficos) para presentar estos resultados de forma clara y visual, y finalmente, escribir la recomendación para el Sr. Juan.\n",
        "\n",
        "¿Te gustaría que empecemos con los gráficos ahora? Recuerda que necesitamos al menos 3 tipos diferentes de gráficos."
      ]
    },
    {
      "cell_type": "markdown",
      "metadata": {},
      "source": [
        "# ¡Clarísimo! ¡Vamos a darle vida a estos datos con unos buenos gráficos!\n",
        "\n",
        "Para este desafío, la visualización es clave. Nos permitirá a nosotros y al Sr. Juan comparar rápidamente el rendimiento de cada tienda en las métricas que hemos calculado.\n",
        "\n",
        "Vamos a generar al menos 3 gráficos diferentes, que complementen nuestro análisis. Aquí tienes algunas ideas de lo que podemos graficar:\n",
        "\n",
        "### Ingresos Totales por Tienda:\n",
        " Un gráfico de barras es ideal para comparar los ingresos de cada tienda directamente.\n",
        "\n",
        "### Calificación Promedio de Clientes:\n",
        " Otro gráfico de barras o un gráfico de puntos podría mostrar la satisfacción de los clientes.\n",
        "\n",
        "### Distribución de Categorías de Productos:\n",
        " Un gráfico de barras apiladas (si queremos comparar las categorías principales entre tiendas) o gráficos circulares individuales para las categorías más vendidas en cada tienda.\n",
        "\n",
        "### Costo de Envío Promedio:\n",
        " Un gráfico de barras también funcionaría bien para comparar este gasto.\n",
        " \n",
        "Empecemos importando la librería matplotlib.pyplot que es el estándar para crear gráficos en Python, y luego haremos el primer gráfico."
      ]
    },
    {
      "cell_type": "markdown",
      "metadata": {},
      "source": [
        "Preparando los Datos para los Gráficos\n",
        "Primero, para que sea más fácil graficar, vamos a consolidar la información clave que calculamos en DataFrames o Series, y luego usaremos esas estructuras para dibujar."
      ]
    },
    {
      "cell_type": "code",
      "execution_count": 43,
      "metadata": {},
      "outputs": [
        {
          "name": "stdout",
          "output_type": "stream",
          "text": [
            "Datos listos para graficar:\n",
            "\n",
            "Ingresos Totales:\n",
            "Tienda 1    1.150880e+09\n",
            "Tienda 2    1.116344e+09\n",
            "Tienda 3    1.098020e+09\n",
            "Tienda 4    1.038376e+09\n",
            "dtype: float64\n",
            "\n",
            "Calificaciones Promedio:\n",
            "Tienda 1    3.976685\n",
            "Tienda 2    4.037304\n",
            "Tienda 3    4.048326\n",
            "Tienda 4    3.995759\n",
            "dtype: float64\n",
            "\n",
            "Costos de Envío Promedio:\n",
            "Tienda 1    26018.609580\n",
            "Tienda 2    25216.235693\n",
            "Tienda 3    24805.680373\n",
            "Tienda 4    23459.457167\n",
            "dtype: float64\n"
          ]
        }
      ],
      "source": [
        "import matplotlib.pyplot as plt # Importa la librería Matplotlib, específicamente el módulo pyplot, y le asigna el alias 'plt'. Esta es la librería principal para crear gráficos en Python.\n",
        "\n",
        "# Datos de ingresos (ya calculados y almacenados en un diccionario en el paso anterior)\n",
        "# Convertimos el diccionario 'ingresos_por_tienda' en una Serie de Pandas para facilitar el trazado.\n",
        "ingresos_totales_df = pd.Series(ingresos_por_tienda)\n",
        "\n",
        "# Datos de calificaciones (ya calculados y almacenados)\n",
        "calificaciones_promedio_df = pd.Series(calificaciones_por_tienda)\n",
        "\n",
        "# Datos de costos de envío (ya calculados y almacenados)\n",
        "costos_envio_promedio_df = pd.Series(costos_envio_por_tienda)\n",
        "\n",
        "print(\"Datos listos para graficar:\")\n",
        "print(\"\\nIngresos Totales:\")\n",
        "print(ingresos_totales_df)\n",
        "print(\"\\nCalificaciones Promedio:\")\n",
        "print(calificaciones_promedio_df)\n",
        "print(\"\\nCostos de Envío Promedio:\")\n",
        "print(costos_envio_promedio_df)"
      ]
    }
  ],
  "metadata": {
    "colab": {
      "provenance": []
    },
    "kernelspec": {
      "display_name": "api-env",
      "language": "python",
      "name": "python3"
    },
    "language_info": {
      "codemirror_mode": {
        "name": "ipython",
        "version": 3
      },
      "file_extension": ".py",
      "mimetype": "text/x-python",
      "name": "python",
      "nbconvert_exporter": "python",
      "pygments_lexer": "ipython3",
      "version": "3.10.13"
    }
  },
  "nbformat": 4,
  "nbformat_minor": 0
}
