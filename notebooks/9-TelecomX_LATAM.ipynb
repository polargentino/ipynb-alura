{
  "cells": [
    {
      "cell_type": "markdown",
      "metadata": {},
      "source": [
        "### Alumno: ***Pablo Matías Monsalvo G8-ONE***"
      ]
    },
    {
      "cell_type": "markdown",
      "metadata": {},
      "source": [
        "Gemini:  ayudame con este dasafio: Telecom X es una empresa de telecomunicaciones y has sido contratado como analista de datos para trabajar en un proyecto específico de Churn de clientes. La empresa está enfrentando un alto índice de evasión de clientes y aún no han identificado el problema de esta evasión. Para ello, te han proporcionado algunos datos en los que tendrás que buscar, tratar y realizar un análisis exploratorio para, una vez limpiados estos datos, poder proporcionárselos al equipo de ciencia de datos. De esta manera, podrán realizar un análisis predictivo y determinar de dónde proviene esta evasión de clientes. este es el cuaderno base:\n",
        "\n",
        "📌 Extracción\n",
        "\n",
        "🔧 Transformación\n",
        "\n",
        "📊 Carga y análisis\n",
        "\n",
        "📄Informe final \n",
        "\n",
        "y esto es una pequeña parte del archivo TelecomX_Data.json que tengo para relizar el dasafio: [{\"customerID\":\"0002-ORFBO\",\"Churn\":\"No\",\"customer\":{\"gender\":\"Female\",\"SeniorCitizen\":0,\"Partner\":\"Yes\",\"Dependents\":\"Yes\",\"tenure\":9},\"phone\":{\"PhoneService\":\"Yes\",\"MultipleLines\":\"No\"},\"internet\":{\"InternetService\":\"DSL\",\"OnlineSecurity\":\"No\",\"OnlineBackup\":\"Yes\",\"DeviceProtection\":\"No\",\"TechSupport\":\"Yes\",\"StreamingTV\":\"Yes\",\"StreamingMovies\":\"No\"},\"account\":{\"Contract\":\"One year\",\"PaperlessBilling\":\"Yes\",\"PaymentMethod\":\"Mailed check\",\"Charges\":{\"Monthly\":65.6,\"Total\":\"593.3\"}}},{\"customerID\":\"0003-MKNFE\",\"Churn\":\"No\",\"customer\":{\"gender\":\"Male\",\"SeniorCitizen\":0,\"Partner\":\"No\",\"Dependents\":\"No\",\"tenure\":9},\"phone\":{\"PhoneService\":\"Yes\",\"MultipleLines\":\"Yes\"},\"internet\":{\"InternetService\":\"DSL\", Vayamos paso a paso , primero con la extraccion, te voy pasando la salidas y luego seguimos con la transformacion ,carga y analisis y asi sucesivamente . Te dejo el diccionario: #### Diccionario de datos\n",
        "\n",
        "- `customerID`: número de identificación único de cada cliente\n",
        "\n",
        "- `Churn`: si el cliente dejó o no la empresa\n",
        "\n",
        "- `gender`: género (masculino y femenino)\n",
        "\n",
        "- `SeniorCitizen`: información sobre si un cliente tiene o no una edad igual o mayor a 65 años\n",
        "\n",
        "- `Partner`: si el cliente tiene o no una pareja\n",
        "\n",
        "- `Dependents`: si el cliente tiene o no dependientes\n",
        "\n",
        "- `tenure`: meses de contrato del cliente\n",
        "\n",
        "- `PhoneService`: suscripción al servicio telefónico\n",
        "\n",
        "- `MultipleLines`: suscripción a más de una línea telefónica\n",
        "\n",
        "- `InternetService`: suscripción a un proveedor de internet\n",
        "\n",
        "- `OnlineSecurity`: suscripción adicional de seguridad en línea\n",
        "\n",
        "- `OnlineBackup`: suscripción adicional de respaldo en línea\n",
        "\n",
        "- `DeviceProtection`: suscripción adicional de protección del dispositivo\n",
        "\n",
        "- `TechSupport`: suscripción adicional de soporte técnico, menor tiempo de espera\n",
        "\n",
        "- `StreamingTV`: suscripción de televisión por cable\n",
        "\n",
        "- `StreamingMovies`: suscripción de streaming de películas\n",
        "\n",
        "- `Contract`: tipo de contrato\n",
        "\n",
        "- `PaperlessBilling`: si el cliente prefiere recibir la factura en línea\n",
        "\n",
        "- `PaymentMethod`: forma de pago\n",
        "\n",
        "- `Charges.Monthly`: total de todos los servicios del cliente por mes\n",
        "\n",
        "- `Charges.Total`: total gastado por el cliente"
      ]
    },
    {
      "cell_type": "markdown",
      "metadata": {
        "id": "4foVEKhrlqcH"
      },
      "source": [
        "#📌 Extracción"
      ]
    },
    {
      "cell_type": "code",
      "execution_count": 3,
      "metadata": {
        "id": "1--uPM88l7JH"
      },
      "outputs": [
        {
          "name": "stdout",
          "output_type": "stream",
          "text": [
            "   customerID Churn                                           customer  \\\n",
            "0  0002-ORFBO    No  {'gender': 'Female', 'SeniorCitizen': 0, 'Part...   \n",
            "1  0003-MKNFE    No  {'gender': 'Male', 'SeniorCitizen': 0, 'Partne...   \n",
            "2  0004-TLHLJ   Yes  {'gender': 'Male', 'SeniorCitizen': 0, 'Partne...   \n",
            "3  0011-IGKFF   Yes  {'gender': 'Male', 'SeniorCitizen': 1, 'Partne...   \n",
            "4  0013-EXCHZ   Yes  {'gender': 'Female', 'SeniorCitizen': 1, 'Part...   \n",
            "\n",
            "                                             phone  \\\n",
            "0   {'PhoneService': 'Yes', 'MultipleLines': 'No'}   \n",
            "1  {'PhoneService': 'Yes', 'MultipleLines': 'Yes'}   \n",
            "2   {'PhoneService': 'Yes', 'MultipleLines': 'No'}   \n",
            "3   {'PhoneService': 'Yes', 'MultipleLines': 'No'}   \n",
            "4   {'PhoneService': 'Yes', 'MultipleLines': 'No'}   \n",
            "\n",
            "                                            internet  \\\n",
            "0  {'InternetService': 'DSL', 'OnlineSecurity': '...   \n",
            "1  {'InternetService': 'DSL', 'OnlineSecurity': '...   \n",
            "2  {'InternetService': 'Fiber optic', 'OnlineSecu...   \n",
            "3  {'InternetService': 'Fiber optic', 'OnlineSecu...   \n",
            "4  {'InternetService': 'Fiber optic', 'OnlineSecu...   \n",
            "\n",
            "                                             account  \n",
            "0  {'Contract': 'One year', 'PaperlessBilling': '...  \n",
            "1  {'Contract': 'Month-to-month', 'PaperlessBilli...  \n",
            "2  {'Contract': 'Month-to-month', 'PaperlessBilli...  \n",
            "3  {'Contract': 'Month-to-month', 'PaperlessBilli...  \n",
            "4  {'Contract': 'Month-to-month', 'PaperlessBilli...  \n"
          ]
        }
      ],
      "source": [
        "import pandas as pd\n",
        "import json\n",
        "\n",
        "# Especifica la ruta a tu archivo JSON\n",
        "ruta_archivo = '../data/TelecomX_Data.json'\n",
        "\n",
        "# Abre el archivo JSON y carga los datos\n",
        "with open(ruta_archivo, 'r') as f:\n",
        "    data = json.load(f)\n",
        "\n",
        "# Como el JSON que mostraste parece ser una lista de diccionarios,\n",
        "# podemos directamente crear un DataFrame a partir de esa lista.\n",
        "df = pd.DataFrame(data)\n",
        "\n",
        "# Vamos a ver las primeras filas del DataFrame para verificar la extracción\n",
        "print(df.head())"
      ]
    },
    {
      "cell_type": "markdown",
      "metadata": {},
      "source": [
        "Antes de aplanar los diccionarios, una práctica común en la Transformación es echar un vistazo a la información general del DataFrame para entender mejor su estructura y los tipos de datos de cada columna. Esto nos puede dar pistas sobre posibles problemas o la necesidad de realizar alguna conversión antes de continuar.\n",
        "\n",
        "Podríamos usar el método .info() de Pandas para obtener un resumen del DataFrame. ¿Te parece si hacemos eso primero? Así tendremos una visión general antes de meternos con los diccionarios anidados."
      ]
    },
    {
      "cell_type": "code",
      "execution_count": 4,
      "metadata": {},
      "outputs": [
        {
          "name": "stdout",
          "output_type": "stream",
          "text": [
            "<class 'pandas.core.frame.DataFrame'>\n",
            "RangeIndex: 7267 entries, 0 to 7266\n",
            "Data columns (total 6 columns):\n",
            " #   Column      Non-Null Count  Dtype \n",
            "---  ------      --------------  ----- \n",
            " 0   customerID  7267 non-null   object\n",
            " 1   Churn       7267 non-null   object\n",
            " 2   customer    7267 non-null   object\n",
            " 3   phone       7267 non-null   object\n",
            " 4   internet    7267 non-null   object\n",
            " 5   account     7267 non-null   object\n",
            "dtypes: object(6)\n",
            "memory usage: 340.8+ KB\n"
          ]
        }
      ],
      "source": [
        "df.info()"
      ]
    },
    {
      "cell_type": "markdown",
      "metadata": {},
      "source": [
        "¡Gracias por la salida!\n",
        "\n",
        "Como vemos, todas las columnas tienen el tipo de dato 'object', lo cual es esperado ya que cargamos datos desde un JSON. También vemos que no hay valores nulos en ninguna de las columnas (Non-Null Count es igual al RangeIndex).\n",
        "\n",
        "Ahora sí, podemos proceder con la transformación de las columnas que contienen diccionarios anidados. Empecemos por la columna customer.\n",
        "\n",
        "Para extraer la información del diccionario en la columna 'customer' y convertirla en columnas separadas, podemos usar el método .apply(pd.Series)."
      ]
    },
    {
      "cell_type": "markdown",
      "metadata": {
        "id": "1lSZP8zmmGZu"
      },
      "source": [
        "#🔧 Transformación"
      ]
    },
    {
      "cell_type": "code",
      "execution_count": 5,
      "metadata": {
        "id": "bsm-WTLjmHvt"
      },
      "outputs": [
        {
          "name": "stdout",
          "output_type": "stream",
          "text": [
            "   gender  SeniorCitizen Partner Dependents  tenure\n",
            "0  Female              0     Yes        Yes       9\n",
            "1    Male              0      No         No       9\n",
            "2    Male              0      No         No       4\n",
            "3    Male              1     Yes         No      13\n",
            "4  Female              1     Yes         No       3\n"
          ]
        }
      ],
      "source": [
        "df_customer = df['customer'].apply(pd.Series)\n",
        "print(df_customer.head())"
      ]
    },
    {
      "cell_type": "markdown",
      "metadata": {},
      "source": [
        "¡Exactamente! Esto ya es parte de la Transformación. Estamos tomando la información que estaba contenida dentro de la columna 'customer' (que era un diccionario para cada fila) y la estamos expandiendo a nuevas columnas en un formato más fácil de analizar.\n",
        "\n",
        "Una vez que tengamos este DataFrame df_customer, lo uniremos al DataFrame principal df y probablemente eliminaremos la columna original 'customer' para evitar redundancia.\n",
        "\n",
        "¿Viste la salida de df_customer.head()? Si la tienes, podemos continuar con la unión de los DataFrames."
      ]
    },
    {
      "cell_type": "markdown",
      "metadata": {},
      "source": [
        "¡Perfecto! Ahora tenemos la información del cliente en un DataFrame separado (df_customer). El siguiente paso es unir este DataFrame con el DataFrame principal (df) y luego eliminar la columna original 'customer' ya que la información ahora estará en columnas separadas."
      ]
    },
    {
      "cell_type": "code",
      "execution_count": 6,
      "metadata": {
        "id": "1jgUnLqTmPdd"
      },
      "outputs": [
        {
          "name": "stdout",
          "output_type": "stream",
          "text": [
            "   customerID Churn                                            phone  \\\n",
            "0  0002-ORFBO    No   {'PhoneService': 'Yes', 'MultipleLines': 'No'}   \n",
            "1  0003-MKNFE    No  {'PhoneService': 'Yes', 'MultipleLines': 'Yes'}   \n",
            "2  0004-TLHLJ   Yes   {'PhoneService': 'Yes', 'MultipleLines': 'No'}   \n",
            "3  0011-IGKFF   Yes   {'PhoneService': 'Yes', 'MultipleLines': 'No'}   \n",
            "4  0013-EXCHZ   Yes   {'PhoneService': 'Yes', 'MultipleLines': 'No'}   \n",
            "\n",
            "                                            internet  \\\n",
            "0  {'InternetService': 'DSL', 'OnlineSecurity': '...   \n",
            "1  {'InternetService': 'DSL', 'OnlineSecurity': '...   \n",
            "2  {'InternetService': 'Fiber optic', 'OnlineSecu...   \n",
            "3  {'InternetService': 'Fiber optic', 'OnlineSecu...   \n",
            "4  {'InternetService': 'Fiber optic', 'OnlineSecu...   \n",
            "\n",
            "                                             account  gender  SeniorCitizen  \\\n",
            "0  {'Contract': 'One year', 'PaperlessBilling': '...  Female              0   \n",
            "1  {'Contract': 'Month-to-month', 'PaperlessBilli...    Male              0   \n",
            "2  {'Contract': 'Month-to-month', 'PaperlessBilli...    Male              0   \n",
            "3  {'Contract': 'Month-to-month', 'PaperlessBilli...    Male              1   \n",
            "4  {'Contract': 'Month-to-month', 'PaperlessBilli...  Female              1   \n",
            "\n",
            "  Partner Dependents  tenure  \n",
            "0     Yes        Yes       9  \n",
            "1      No         No       9  \n",
            "2      No         No       4  \n",
            "3     Yes         No      13  \n",
            "4     Yes         No       3  \n"
          ]
        }
      ],
      "source": [
        "# Unir df con df_customer usando el índice como clave\n",
        "df = pd.concat([df, df_customer], axis=1)\n",
        "\n",
        "# Eliminar la columna original 'customer'\n",
        "df.drop('customer', axis=1, inplace=True)\n",
        "\n",
        "# Ver las primeras filas del DataFrame resultante\n",
        "print(df.head())"
      ]
    },
    {
      "cell_type": "markdown",
      "metadata": {},
      "source": [
        "¡Excelente! Vemos que las columnas de 'gender', 'SeniorCitizen', 'Partner', 'Dependents' y 'tenure' se han añadido correctamente al DataFrame y la columna 'customer' ha desaparecido.\n",
        "\n",
        "Ahora, el siguiente paso sería hacer lo mismo con las otras columnas que contienen diccionarios: 'phone', 'internet' y 'account'."
      ]
    },
    {
      "cell_type": "markdown",
      "metadata": {},
      "source": [
        "### Procesando la columna 'phone':"
      ]
    },
    {
      "cell_type": "code",
      "execution_count": 7,
      "metadata": {},
      "outputs": [
        {
          "name": "stdout",
          "output_type": "stream",
          "text": [
            "DataFrame después de procesar 'phone':\n",
            "   customerID Churn                                           internet  \\\n",
            "0  0002-ORFBO    No  {'InternetService': 'DSL', 'OnlineSecurity': '...   \n",
            "1  0003-MKNFE    No  {'InternetService': 'DSL', 'OnlineSecurity': '...   \n",
            "2  0004-TLHLJ   Yes  {'InternetService': 'Fiber optic', 'OnlineSecu...   \n",
            "3  0011-IGKFF   Yes  {'InternetService': 'Fiber optic', 'OnlineSecu...   \n",
            "4  0013-EXCHZ   Yes  {'InternetService': 'Fiber optic', 'OnlineSecu...   \n",
            "\n",
            "                                             account  gender  SeniorCitizen  \\\n",
            "0  {'Contract': 'One year', 'PaperlessBilling': '...  Female              0   \n",
            "1  {'Contract': 'Month-to-month', 'PaperlessBilli...    Male              0   \n",
            "2  {'Contract': 'Month-to-month', 'PaperlessBilli...    Male              0   \n",
            "3  {'Contract': 'Month-to-month', 'PaperlessBilli...    Male              1   \n",
            "4  {'Contract': 'Month-to-month', 'PaperlessBilli...  Female              1   \n",
            "\n",
            "  Partner Dependents  tenure PhoneService MultipleLines  \n",
            "0     Yes        Yes       9          Yes            No  \n",
            "1      No         No       9          Yes           Yes  \n",
            "2      No         No       4          Yes            No  \n",
            "3     Yes         No      13          Yes            No  \n",
            "4     Yes         No       3          Yes            No  \n"
          ]
        }
      ],
      "source": [
        "df_phone = df['phone'].apply(pd.Series)\n",
        "df = pd.concat([df, df_phone], axis=1)\n",
        "df.drop('phone', axis=1, inplace=True)\n",
        "print(\"DataFrame después de procesar 'phone':\")\n",
        "print(df.head())"
      ]
    },
    {
      "cell_type": "markdown",
      "metadata": {},
      "source": [
        "### Procesando la columna 'internet':"
      ]
    },
    {
      "cell_type": "code",
      "execution_count": 8,
      "metadata": {},
      "outputs": [
        {
          "name": "stdout",
          "output_type": "stream",
          "text": [
            "\n",
            "DataFrame después de procesar 'internet':\n",
            "   customerID Churn                                            account  \\\n",
            "0  0002-ORFBO    No  {'Contract': 'One year', 'PaperlessBilling': '...   \n",
            "1  0003-MKNFE    No  {'Contract': 'Month-to-month', 'PaperlessBilli...   \n",
            "2  0004-TLHLJ   Yes  {'Contract': 'Month-to-month', 'PaperlessBilli...   \n",
            "3  0011-IGKFF   Yes  {'Contract': 'Month-to-month', 'PaperlessBilli...   \n",
            "4  0013-EXCHZ   Yes  {'Contract': 'Month-to-month', 'PaperlessBilli...   \n",
            "\n",
            "   gender  SeniorCitizen Partner Dependents  tenure PhoneService  \\\n",
            "0  Female              0     Yes        Yes       9          Yes   \n",
            "1    Male              0      No         No       9          Yes   \n",
            "2    Male              0      No         No       4          Yes   \n",
            "3    Male              1     Yes         No      13          Yes   \n",
            "4  Female              1     Yes         No       3          Yes   \n",
            "\n",
            "  MultipleLines InternetService OnlineSecurity OnlineBackup DeviceProtection  \\\n",
            "0            No             DSL             No          Yes               No   \n",
            "1           Yes             DSL             No           No               No   \n",
            "2            No     Fiber optic             No           No              Yes   \n",
            "3            No     Fiber optic             No          Yes              Yes   \n",
            "4            No     Fiber optic             No           No               No   \n",
            "\n",
            "  TechSupport StreamingTV StreamingMovies  \n",
            "0         Yes         Yes              No  \n",
            "1          No          No             Yes  \n",
            "2          No          No              No  \n",
            "3          No         Yes             Yes  \n",
            "4         Yes         Yes              No  \n"
          ]
        }
      ],
      "source": [
        "df_internet = df['internet'].apply(pd.Series)\n",
        "df = pd.concat([df, df_internet], axis=1)\n",
        "df.drop('internet', axis=1, inplace=True)\n",
        "print(\"\\nDataFrame después de procesar 'internet':\")\n",
        "print(df.head())"
      ]
    },
    {
      "cell_type": "markdown",
      "metadata": {},
      "source": [
        "### Procesando la columna 'account':\n",
        "\n",
        "La columna 'account' tiene una subcolumna llamada 'Charges' que también es un diccionario. Vamos a extraer primero el contenido principal de 'account' y luego la información de 'Charges'."
      ]
    },
    {
      "cell_type": "code",
      "execution_count": 9,
      "metadata": {},
      "outputs": [
        {
          "name": "stdout",
          "output_type": "stream",
          "text": [
            "\n",
            "DataFrame después de procesar 'account' y 'Charges':\n",
            "   customerID Churn  gender  SeniorCitizen Partner Dependents  tenure  \\\n",
            "0  0002-ORFBO    No  Female              0     Yes        Yes       9   \n",
            "1  0003-MKNFE    No    Male              0      No         No       9   \n",
            "2  0004-TLHLJ   Yes    Male              0      No         No       4   \n",
            "3  0011-IGKFF   Yes    Male              1     Yes         No      13   \n",
            "4  0013-EXCHZ   Yes  Female              1     Yes         No       3   \n",
            "\n",
            "  PhoneService MultipleLines InternetService  ... OnlineBackup  \\\n",
            "0          Yes            No             DSL  ...          Yes   \n",
            "1          Yes           Yes             DSL  ...           No   \n",
            "2          Yes            No     Fiber optic  ...           No   \n",
            "3          Yes            No     Fiber optic  ...          Yes   \n",
            "4          Yes            No     Fiber optic  ...           No   \n",
            "\n",
            "  DeviceProtection TechSupport StreamingTV StreamingMovies        Contract  \\\n",
            "0               No         Yes         Yes              No        One year   \n",
            "1               No          No          No             Yes  Month-to-month   \n",
            "2              Yes          No          No              No  Month-to-month   \n",
            "3              Yes          No         Yes             Yes  Month-to-month   \n",
            "4               No         Yes         Yes              No  Month-to-month   \n",
            "\n",
            "  PaperlessBilling     PaymentMethod Monthly    Total  \n",
            "0              Yes      Mailed check    65.6    593.3  \n",
            "1               No      Mailed check    59.9    542.4  \n",
            "2              Yes  Electronic check    73.9   280.85  \n",
            "3              Yes  Electronic check    98.0  1237.85  \n",
            "4              Yes      Mailed check    83.9    267.4  \n",
            "\n",
            "[5 rows x 21 columns]\n"
          ]
        }
      ],
      "source": [
        "df_account = df['account'].apply(pd.Series)\n",
        "df = pd.concat([df, df_account], axis=1)\n",
        "df.drop('account', axis=1, inplace=True)\n",
        "\n",
        "# Ahora procesamos la subcolumna 'Charges'\n",
        "df_charges = df['Charges'].apply(pd.Series)\n",
        "df = pd.concat([df, df_charges], axis=1)\n",
        "df.drop('Charges', axis=1, inplace=True)\n",
        "\n",
        "print(\"\\nDataFrame después de procesar 'account' y 'Charges':\")\n",
        "print(df.head())"
      ]
    },
    {
      "cell_type": "markdown",
      "metadata": {},
      "source": [
        "¡Excelente! Parece que hemos aplanado con éxito las columnas 'phone', 'internet' y 'account' (incluyendo 'Charges'). Ahora tenemos muchas más columnas con información detallada sobre cada cliente.\n",
        "\n",
        "El siguiente paso importante en la Transformación suele ser verificar los tipos de datos de las columnas y realizar las conversiones necesarias. Por ejemplo, la columna 'Total' de los cargos probablemente se leyó como texto y deberíamos convertirla a un tipo numérico para poder realizar cálculos.\n",
        "\n",
        "También podríamos echar un vistazo a los valores únicos de algunas columnas categóricas para identificar posibles inconsistencias o errores de entrada.\n",
        "\n",
        "¿Qué te parece si empezamos por revisar los tipos de datos con df.info() nuevamente?"
      ]
    },
    {
      "cell_type": "code",
      "execution_count": 10,
      "metadata": {},
      "outputs": [
        {
          "name": "stdout",
          "output_type": "stream",
          "text": [
            "<class 'pandas.core.frame.DataFrame'>\n",
            "RangeIndex: 7267 entries, 0 to 7266\n",
            "Data columns (total 21 columns):\n",
            " #   Column            Non-Null Count  Dtype  \n",
            "---  ------            --------------  -----  \n",
            " 0   customerID        7267 non-null   object \n",
            " 1   Churn             7267 non-null   object \n",
            " 2   gender            7267 non-null   object \n",
            " 3   SeniorCitizen     7267 non-null   int64  \n",
            " 4   Partner           7267 non-null   object \n",
            " 5   Dependents        7267 non-null   object \n",
            " 6   tenure            7267 non-null   int64  \n",
            " 7   PhoneService      7267 non-null   object \n",
            " 8   MultipleLines     7267 non-null   object \n",
            " 9   InternetService   7267 non-null   object \n",
            " 10  OnlineSecurity    7267 non-null   object \n",
            " 11  OnlineBackup      7267 non-null   object \n",
            " 12  DeviceProtection  7267 non-null   object \n",
            " 13  TechSupport       7267 non-null   object \n",
            " 14  StreamingTV       7267 non-null   object \n",
            " 15  StreamingMovies   7267 non-null   object \n",
            " 16  Contract          7267 non-null   object \n",
            " 17  PaperlessBilling  7267 non-null   object \n",
            " 18  PaymentMethod     7267 non-null   object \n",
            " 19  Monthly           7267 non-null   float64\n",
            " 20  Total             7267 non-null   object \n",
            "dtypes: float64(1), int64(2), object(18)\n",
            "memory usage: 1.2+ MB\n"
          ]
        }
      ],
      "source": [
        "df.info()"
      ]
    },
    {
      "cell_type": "markdown",
      "metadata": {},
      "source": [
        "¡Gracias! Vemos que la mayoría de las columnas son de tipo 'object'. Las columnas 'SeniorCitizen' y 'tenure' son int64, y 'Monthly' es float64, lo cual parece correcto.\n",
        "\n",
        "La columna que definitivamente necesita transformación es 'Total', que debería ser numérica pero se detecta como 'object'. Esto suele ocurrir cuando hay valores no numéricos en la columna.\n",
        "\n",
        "Vamos a intentar convertir la columna 'Total' a numérico. Si hay algún valor que no se pueda convertir, Pandas generará un error, y tendremos que investigar esos valores."
      ]
    },
    {
      "cell_type": "code",
      "execution_count": 11,
      "metadata": {},
      "outputs": [
        {
          "name": "stdout",
          "output_type": "stream",
          "text": [
            "float64\n"
          ]
        }
      ],
      "source": [
        "df['Total'] = pd.to_numeric(df['Total'], errors='coerce')\n",
        "print(df['Total'].dtype)"
      ]
    },
    {
      "cell_type": "markdown",
      "metadata": {},
      "source": [
        "¡Excelente! El tipo de dato de la columna 'Total' ahora es float64, lo que significa que la conversión a numérico fue exitosa (o al menos, los valores problemáticos se convirtieron a NaN).\n",
        "\n",
        "Ahora sería bueno verificar si se introdujeron valores NaN durante esta conversión. Podemos hacerlo sumando la cantidad de valores nulos en la columna 'Total':"
      ]
    },
    {
      "cell_type": "code",
      "execution_count": 12,
      "metadata": {},
      "outputs": [
        {
          "name": "stdout",
          "output_type": "stream",
          "text": [
            "11\n"
          ]
        }
      ],
      "source": [
        "print(df['Total'].isnull().sum())"
      ]
    },
    {
      "cell_type": "markdown",
      "metadata": {},
      "source": [
        "De acuerdo, hay 11 valores nulos en la columna 'Total'. Esto sugiere que había 11 filas con valores no numéricos en esa columna que fueron convertidos a NaN.\n",
        "\n",
        "Para entender mejor estos casos, podríamos inspeccionar las filas donde 'Total' es nulo."
      ]
    },
    {
      "cell_type": "code",
      "execution_count": 13,
      "metadata": {},
      "outputs": [
        {
          "data": {
            "text/html": [
              "<div>\n",
              "<style scoped>\n",
              "    .dataframe tbody tr th:only-of-type {\n",
              "        vertical-align: middle;\n",
              "    }\n",
              "\n",
              "    .dataframe tbody tr th {\n",
              "        vertical-align: top;\n",
              "    }\n",
              "\n",
              "    .dataframe thead th {\n",
              "        text-align: right;\n",
              "    }\n",
              "</style>\n",
              "<table border=\"1\" class=\"dataframe\">\n",
              "  <thead>\n",
              "    <tr style=\"text-align: right;\">\n",
              "      <th></th>\n",
              "      <th>customerID</th>\n",
              "      <th>Churn</th>\n",
              "      <th>gender</th>\n",
              "      <th>SeniorCitizen</th>\n",
              "      <th>Partner</th>\n",
              "      <th>Dependents</th>\n",
              "      <th>tenure</th>\n",
              "      <th>PhoneService</th>\n",
              "      <th>MultipleLines</th>\n",
              "      <th>InternetService</th>\n",
              "      <th>...</th>\n",
              "      <th>OnlineBackup</th>\n",
              "      <th>DeviceProtection</th>\n",
              "      <th>TechSupport</th>\n",
              "      <th>StreamingTV</th>\n",
              "      <th>StreamingMovies</th>\n",
              "      <th>Contract</th>\n",
              "      <th>PaperlessBilling</th>\n",
              "      <th>PaymentMethod</th>\n",
              "      <th>Monthly</th>\n",
              "      <th>Total</th>\n",
              "    </tr>\n",
              "  </thead>\n",
              "  <tbody>\n",
              "    <tr>\n",
              "      <th>975</th>\n",
              "      <td>1371-DWPAZ</td>\n",
              "      <td>No</td>\n",
              "      <td>Female</td>\n",
              "      <td>0</td>\n",
              "      <td>Yes</td>\n",
              "      <td>Yes</td>\n",
              "      <td>0</td>\n",
              "      <td>No</td>\n",
              "      <td>No phone service</td>\n",
              "      <td>DSL</td>\n",
              "      <td>...</td>\n",
              "      <td>Yes</td>\n",
              "      <td>Yes</td>\n",
              "      <td>Yes</td>\n",
              "      <td>Yes</td>\n",
              "      <td>No</td>\n",
              "      <td>Two year</td>\n",
              "      <td>No</td>\n",
              "      <td>Credit card (automatic)</td>\n",
              "      <td>56.05</td>\n",
              "      <td>NaN</td>\n",
              "    </tr>\n",
              "    <tr>\n",
              "      <th>1775</th>\n",
              "      <td>2520-SGTTA</td>\n",
              "      <td>No</td>\n",
              "      <td>Female</td>\n",
              "      <td>0</td>\n",
              "      <td>Yes</td>\n",
              "      <td>Yes</td>\n",
              "      <td>0</td>\n",
              "      <td>Yes</td>\n",
              "      <td>No</td>\n",
              "      <td>No</td>\n",
              "      <td>...</td>\n",
              "      <td>No internet service</td>\n",
              "      <td>No internet service</td>\n",
              "      <td>No internet service</td>\n",
              "      <td>No internet service</td>\n",
              "      <td>No internet service</td>\n",
              "      <td>Two year</td>\n",
              "      <td>No</td>\n",
              "      <td>Mailed check</td>\n",
              "      <td>20.00</td>\n",
              "      <td>NaN</td>\n",
              "    </tr>\n",
              "    <tr>\n",
              "      <th>1955</th>\n",
              "      <td>2775-SEFEE</td>\n",
              "      <td>No</td>\n",
              "      <td>Male</td>\n",
              "      <td>0</td>\n",
              "      <td>No</td>\n",
              "      <td>Yes</td>\n",
              "      <td>0</td>\n",
              "      <td>Yes</td>\n",
              "      <td>Yes</td>\n",
              "      <td>DSL</td>\n",
              "      <td>...</td>\n",
              "      <td>Yes</td>\n",
              "      <td>No</td>\n",
              "      <td>Yes</td>\n",
              "      <td>No</td>\n",
              "      <td>No</td>\n",
              "      <td>Two year</td>\n",
              "      <td>Yes</td>\n",
              "      <td>Bank transfer (automatic)</td>\n",
              "      <td>61.90</td>\n",
              "      <td>NaN</td>\n",
              "    </tr>\n",
              "    <tr>\n",
              "      <th>2075</th>\n",
              "      <td>2923-ARZLG</td>\n",
              "      <td>No</td>\n",
              "      <td>Male</td>\n",
              "      <td>0</td>\n",
              "      <td>Yes</td>\n",
              "      <td>Yes</td>\n",
              "      <td>0</td>\n",
              "      <td>Yes</td>\n",
              "      <td>No</td>\n",
              "      <td>No</td>\n",
              "      <td>...</td>\n",
              "      <td>No internet service</td>\n",
              "      <td>No internet service</td>\n",
              "      <td>No internet service</td>\n",
              "      <td>No internet service</td>\n",
              "      <td>No internet service</td>\n",
              "      <td>One year</td>\n",
              "      <td>Yes</td>\n",
              "      <td>Mailed check</td>\n",
              "      <td>19.70</td>\n",
              "      <td>NaN</td>\n",
              "    </tr>\n",
              "    <tr>\n",
              "      <th>2232</th>\n",
              "      <td>3115-CZMZD</td>\n",
              "      <td>No</td>\n",
              "      <td>Male</td>\n",
              "      <td>0</td>\n",
              "      <td>No</td>\n",
              "      <td>Yes</td>\n",
              "      <td>0</td>\n",
              "      <td>Yes</td>\n",
              "      <td>No</td>\n",
              "      <td>No</td>\n",
              "      <td>...</td>\n",
              "      <td>No internet service</td>\n",
              "      <td>No internet service</td>\n",
              "      <td>No internet service</td>\n",
              "      <td>No internet service</td>\n",
              "      <td>No internet service</td>\n",
              "      <td>Two year</td>\n",
              "      <td>No</td>\n",
              "      <td>Mailed check</td>\n",
              "      <td>20.25</td>\n",
              "      <td>NaN</td>\n",
              "    </tr>\n",
              "    <tr>\n",
              "      <th>2308</th>\n",
              "      <td>3213-VVOLG</td>\n",
              "      <td>No</td>\n",
              "      <td>Male</td>\n",
              "      <td>0</td>\n",
              "      <td>Yes</td>\n",
              "      <td>Yes</td>\n",
              "      <td>0</td>\n",
              "      <td>Yes</td>\n",
              "      <td>Yes</td>\n",
              "      <td>No</td>\n",
              "      <td>...</td>\n",
              "      <td>No internet service</td>\n",
              "      <td>No internet service</td>\n",
              "      <td>No internet service</td>\n",
              "      <td>No internet service</td>\n",
              "      <td>No internet service</td>\n",
              "      <td>Two year</td>\n",
              "      <td>No</td>\n",
              "      <td>Mailed check</td>\n",
              "      <td>25.35</td>\n",
              "      <td>NaN</td>\n",
              "    </tr>\n",
              "    <tr>\n",
              "      <th>2930</th>\n",
              "      <td>4075-WKNIU</td>\n",
              "      <td>No</td>\n",
              "      <td>Female</td>\n",
              "      <td>0</td>\n",
              "      <td>Yes</td>\n",
              "      <td>Yes</td>\n",
              "      <td>0</td>\n",
              "      <td>Yes</td>\n",
              "      <td>Yes</td>\n",
              "      <td>DSL</td>\n",
              "      <td>...</td>\n",
              "      <td>Yes</td>\n",
              "      <td>Yes</td>\n",
              "      <td>Yes</td>\n",
              "      <td>Yes</td>\n",
              "      <td>No</td>\n",
              "      <td>Two year</td>\n",
              "      <td>No</td>\n",
              "      <td>Mailed check</td>\n",
              "      <td>73.35</td>\n",
              "      <td>NaN</td>\n",
              "    </tr>\n",
              "    <tr>\n",
              "      <th>3134</th>\n",
              "      <td>4367-NUYAO</td>\n",
              "      <td>No</td>\n",
              "      <td>Male</td>\n",
              "      <td>0</td>\n",
              "      <td>Yes</td>\n",
              "      <td>Yes</td>\n",
              "      <td>0</td>\n",
              "      <td>Yes</td>\n",
              "      <td>Yes</td>\n",
              "      <td>No</td>\n",
              "      <td>...</td>\n",
              "      <td>No internet service</td>\n",
              "      <td>No internet service</td>\n",
              "      <td>No internet service</td>\n",
              "      <td>No internet service</td>\n",
              "      <td>No internet service</td>\n",
              "      <td>Two year</td>\n",
              "      <td>No</td>\n",
              "      <td>Mailed check</td>\n",
              "      <td>25.75</td>\n",
              "      <td>NaN</td>\n",
              "    </tr>\n",
              "    <tr>\n",
              "      <th>3203</th>\n",
              "      <td>4472-LVYGI</td>\n",
              "      <td>No</td>\n",
              "      <td>Female</td>\n",
              "      <td>0</td>\n",
              "      <td>Yes</td>\n",
              "      <td>Yes</td>\n",
              "      <td>0</td>\n",
              "      <td>No</td>\n",
              "      <td>No phone service</td>\n",
              "      <td>DSL</td>\n",
              "      <td>...</td>\n",
              "      <td>No</td>\n",
              "      <td>Yes</td>\n",
              "      <td>Yes</td>\n",
              "      <td>Yes</td>\n",
              "      <td>No</td>\n",
              "      <td>Two year</td>\n",
              "      <td>Yes</td>\n",
              "      <td>Bank transfer (automatic)</td>\n",
              "      <td>52.55</td>\n",
              "      <td>NaN</td>\n",
              "    </tr>\n",
              "    <tr>\n",
              "      <th>4169</th>\n",
              "      <td>5709-LVOEQ</td>\n",
              "      <td>No</td>\n",
              "      <td>Female</td>\n",
              "      <td>0</td>\n",
              "      <td>Yes</td>\n",
              "      <td>Yes</td>\n",
              "      <td>0</td>\n",
              "      <td>Yes</td>\n",
              "      <td>No</td>\n",
              "      <td>DSL</td>\n",
              "      <td>...</td>\n",
              "      <td>Yes</td>\n",
              "      <td>Yes</td>\n",
              "      <td>No</td>\n",
              "      <td>Yes</td>\n",
              "      <td>Yes</td>\n",
              "      <td>Two year</td>\n",
              "      <td>No</td>\n",
              "      <td>Mailed check</td>\n",
              "      <td>80.85</td>\n",
              "      <td>NaN</td>\n",
              "    </tr>\n",
              "    <tr>\n",
              "      <th>5599</th>\n",
              "      <td>7644-OMVMY</td>\n",
              "      <td>No</td>\n",
              "      <td>Male</td>\n",
              "      <td>0</td>\n",
              "      <td>Yes</td>\n",
              "      <td>Yes</td>\n",
              "      <td>0</td>\n",
              "      <td>Yes</td>\n",
              "      <td>No</td>\n",
              "      <td>No</td>\n",
              "      <td>...</td>\n",
              "      <td>No internet service</td>\n",
              "      <td>No internet service</td>\n",
              "      <td>No internet service</td>\n",
              "      <td>No internet service</td>\n",
              "      <td>No internet service</td>\n",
              "      <td>Two year</td>\n",
              "      <td>No</td>\n",
              "      <td>Mailed check</td>\n",
              "      <td>19.85</td>\n",
              "      <td>NaN</td>\n",
              "    </tr>\n",
              "  </tbody>\n",
              "</table>\n",
              "<p>11 rows × 21 columns</p>\n",
              "</div>"
            ],
            "text/plain": [
              "      customerID Churn  gender  SeniorCitizen Partner Dependents  tenure  \\\n",
              "975   1371-DWPAZ    No  Female              0     Yes        Yes       0   \n",
              "1775  2520-SGTTA    No  Female              0     Yes        Yes       0   \n",
              "1955  2775-SEFEE    No    Male              0      No        Yes       0   \n",
              "2075  2923-ARZLG    No    Male              0     Yes        Yes       0   \n",
              "2232  3115-CZMZD    No    Male              0      No        Yes       0   \n",
              "2308  3213-VVOLG    No    Male              0     Yes        Yes       0   \n",
              "2930  4075-WKNIU    No  Female              0     Yes        Yes       0   \n",
              "3134  4367-NUYAO    No    Male              0     Yes        Yes       0   \n",
              "3203  4472-LVYGI    No  Female              0     Yes        Yes       0   \n",
              "4169  5709-LVOEQ    No  Female              0     Yes        Yes       0   \n",
              "5599  7644-OMVMY    No    Male              0     Yes        Yes       0   \n",
              "\n",
              "     PhoneService     MultipleLines InternetService  ...         OnlineBackup  \\\n",
              "975            No  No phone service             DSL  ...                  Yes   \n",
              "1775          Yes                No              No  ...  No internet service   \n",
              "1955          Yes               Yes             DSL  ...                  Yes   \n",
              "2075          Yes                No              No  ...  No internet service   \n",
              "2232          Yes                No              No  ...  No internet service   \n",
              "2308          Yes               Yes              No  ...  No internet service   \n",
              "2930          Yes               Yes             DSL  ...                  Yes   \n",
              "3134          Yes               Yes              No  ...  No internet service   \n",
              "3203           No  No phone service             DSL  ...                   No   \n",
              "4169          Yes                No             DSL  ...                  Yes   \n",
              "5599          Yes                No              No  ...  No internet service   \n",
              "\n",
              "         DeviceProtection          TechSupport          StreamingTV  \\\n",
              "975                   Yes                  Yes                  Yes   \n",
              "1775  No internet service  No internet service  No internet service   \n",
              "1955                   No                  Yes                   No   \n",
              "2075  No internet service  No internet service  No internet service   \n",
              "2232  No internet service  No internet service  No internet service   \n",
              "2308  No internet service  No internet service  No internet service   \n",
              "2930                  Yes                  Yes                  Yes   \n",
              "3134  No internet service  No internet service  No internet service   \n",
              "3203                  Yes                  Yes                  Yes   \n",
              "4169                  Yes                   No                  Yes   \n",
              "5599  No internet service  No internet service  No internet service   \n",
              "\n",
              "          StreamingMovies  Contract PaperlessBilling  \\\n",
              "975                    No  Two year               No   \n",
              "1775  No internet service  Two year               No   \n",
              "1955                   No  Two year              Yes   \n",
              "2075  No internet service  One year              Yes   \n",
              "2232  No internet service  Two year               No   \n",
              "2308  No internet service  Two year               No   \n",
              "2930                   No  Two year               No   \n",
              "3134  No internet service  Two year               No   \n",
              "3203                   No  Two year              Yes   \n",
              "4169                  Yes  Two year               No   \n",
              "5599  No internet service  Two year               No   \n",
              "\n",
              "                  PaymentMethod Monthly  Total  \n",
              "975     Credit card (automatic)   56.05    NaN  \n",
              "1775               Mailed check   20.00    NaN  \n",
              "1955  Bank transfer (automatic)   61.90    NaN  \n",
              "2075               Mailed check   19.70    NaN  \n",
              "2232               Mailed check   20.25    NaN  \n",
              "2308               Mailed check   25.35    NaN  \n",
              "2930               Mailed check   73.35    NaN  \n",
              "3134               Mailed check   25.75    NaN  \n",
              "3203  Bank transfer (automatic)   52.55    NaN  \n",
              "4169               Mailed check   80.85    NaN  \n",
              "5599               Mailed check   19.85    NaN  \n",
              "\n",
              "[11 rows x 21 columns]"
            ]
          },
          "execution_count": 13,
          "metadata": {},
          "output_type": "execute_result"
        }
      ],
      "source": [
        "df[df['Total'].isnull()]"
      ]
    },
    {
      "cell_type": "markdown",
      "metadata": {},
      "source": [
        "¡Gracias! Al observar estas filas donde 'Total' es NaN, notamos algo en común: la columna 'tenure' es 0 para todas ellas.\n",
        "\n",
        "Esto sugiere que estos clientes tienen un contrato de cero meses. Si un cliente tiene un contrato de cero meses, es lógico que el cargo total sea también cero o nulo.\n",
        "\n",
        "Podríamos imputar estos valores NaN en la columna 'Total' con 0, ya que parece la interpretación más coherente para los clientes con una antigüedad de 0 meses.\n",
        "\n",
        "Ejecuta el siguiente código para reemplazar los NaN en 'Total' donde 'tenure' es 0:"
      ]
    },
    {
      "cell_type": "code",
      "execution_count": 14,
      "metadata": {},
      "outputs": [],
      "source": [
        "df.loc[df['tenure'] == 0, 'Total'] = 0"
      ]
    },
    {
      "cell_type": "markdown",
      "metadata": {},
      "source": [
        "Después de esto, vamos a verificar nuevamente la cantidad de valores nulos en 'Total':"
      ]
    },
    {
      "cell_type": "code",
      "execution_count": 15,
      "metadata": {},
      "outputs": [
        {
          "name": "stdout",
          "output_type": "stream",
          "text": [
            "0\n"
          ]
        }
      ],
      "source": [
        "print(df['Total'].isnull().sum())"
      ]
    },
    {
      "cell_type": "markdown",
      "metadata": {},
      "source": [
        "¡Excelente! La cantidad de valores nulos en la columna 'Total' ahora es 0. Esto significa que hemos manejado con éxito los casos donde la antigüedad era cero y el total era NaN.\n",
        "\n",
        "En este punto de la Transformación, hemos:\n",
        "\n",
        "Aplanado las columnas anidadas ('customer', 'phone', 'internet', 'account' y 'Charges').\n",
        "Convertido la columna 'Total' a un tipo numérico y manejado los valores nulos basados en la columna 'tenure'.\n",
        "¿Qué te parece si ahora pasamos a la siguiente etapa: Carga y Análisis? En esta fase, podríamos empezar a explorar los datos limpios para buscar patrones o tendencias relevantes para la evasión de clientes (Churn)."
      ]
    },
    {
      "cell_type": "markdown",
      "metadata": {},
      "source": [
        "#📊 Carga y análisis"
      ]
    },
    {
      "cell_type": "markdown",
      "metadata": {},
      "source": [
        "\n",
        "¡Perfecto! Ahora estamos en la fase de Carga y Análisis. Ya tenemos un DataFrame limpio y transformado (df). Podemos empezar a explorar los datos para entender mejor el fenómeno del Churn.\n",
        "\n",
        "Una de las primeras cosas que podríamos hacer es observar la distribución de la variable objetivo, 'Churn'. ¿Cuántos clientes se fueron y cuántos se quedaron? Esto nos dará una idea de la proporción de Churn en nuestro conjunto de datos."
      ]
    },
    {
      "cell_type": "markdown",
      "metadata": {},
      "source": [
        "Esto nos mostrará cuántos clientes tienen 'Yes' (se fueron) y cuántos tienen 'No' (se quedaron). ¿Qué proporción observas?"
      ]
    },
    {
      "cell_type": "code",
      "execution_count": 16,
      "metadata": {},
      "outputs": [
        {
          "name": "stdout",
          "output_type": "stream",
          "text": [
            "Churn\n",
            "No     5174\n",
            "Yes    1869\n",
            "        224\n",
            "Name: count, dtype: int64\n"
          ]
        }
      ],
      "source": [
        "print(df['Churn'].value_counts())"
      ]
    },
    {
      "cell_type": "markdown",
      "metadata": {},
      "source": [
        "¡Gracias! Vemos que hay 5174 clientes que no se fueron ('No'), 1869 que sí se fueron ('Yes') y, curiosamente, 224 entradas con un valor que no es ni 'Yes' ni 'No'.\n",
        "\n",
        "Esto nos indica que hay inconsistencias en la columna 'Churn' que necesitamos tratar. Antes de continuar con el análisis de Churn, deberíamos investigar y limpiar estas 224 entradas.\n",
        "\n",
        "¿Te gustaría que veamos cuáles son esos valores diferentes a 'Yes' y 'No' en la columna 'Churn'? Podemos usar el método .unique() para encontrarlos. Ejecuta este código:"
      ]
    },
    {
      "cell_type": "code",
      "execution_count": 17,
      "metadata": {},
      "outputs": [
        {
          "name": "stdout",
          "output_type": "stream",
          "text": [
            "['No' 'Yes' '']\n"
          ]
        }
      ],
      "source": [
        "print(df['Churn'].unique())"
      ]
    },
    {
      "cell_type": "markdown",
      "metadata": {},
      "source": [
        "¡Excelente! Vemos que el valor inesperado en la columna 'Churn' es una cadena vacía ('').\n",
        "\n",
        "Para poder realizar un análisis de Churn significativo, necesitamos decidir cómo manejar estas entradas. Una opción podría ser eliminarlas, ya que no tenemos información clara sobre si estos clientes hicieron Churn o no. Otra opción, si tuviéramos más contexto sobre cómo se recopilaron estos datos, podría ser intentar imputar un valor.\n",
        "\n",
        "Dado que no tenemos esa información adicional, y estas representan una porción relativamente pequeña del dataset (224 de 7267), podríamos optar por eliminarlas para enfocarnos en los casos claros de 'Yes' y 'No'.\n",
        "\n",
        "¿Estás de acuerdo con eliminar estas filas con la cadena vacía en la columna 'Churn'? Si es así, podemos proceder con ese paso."
      ]
    },
    {
      "cell_type": "markdown",
      "metadata": {},
      "source": [
        "¡Entendido! Como instructor en este caso, y considerando que tenemos una cantidad no despreciable de filas con información ambigua en nuestra variable objetivo ('Churn'), recomiendo eliminarlas. Esto nos permitirá enfocarnos en los casos donde la información sobre el churn es clara para el análisis exploratorio inicial. Más adelante, si fuera necesario, podríamos reconsiderar cómo tratar este tipo de datos faltantes o ambiguos."
      ]
    },
    {
      "cell_type": "code",
      "execution_count": 18,
      "metadata": {},
      "outputs": [
        {
          "name": "stdout",
          "output_type": "stream",
          "text": [
            "['No' 'Yes']\n",
            "\n",
            "Número de filas después de eliminar las entradas vacías en 'Churn': 7043\n"
          ]
        }
      ],
      "source": [
        "df = df[df['Churn'] != '']\n",
        "\n",
        "# Verificamos cuántos valores únicos quedan en la columna 'Churn'\n",
        "print(df['Churn'].unique())\n",
        "\n",
        "# También verificamos la nueva cantidad de filas\n",
        "print(f\"\\nNúmero de filas después de eliminar las entradas vacías en 'Churn': {len(df)}\")"
      ]
    },
    {
      "cell_type": "markdown",
      "metadata": {},
      "source": [
        "¡Excelente! Vemos que ahora la columna 'Churn' solo contiene los valores 'No' y 'Yes', y el número de filas se ha reducido a 7043, lo cual es lógico ya que eliminamos las 224 filas con la cadena vacía.\n",
        "\n",
        "Ahora sí, con una variable objetivo limpia, podemos comenzar un análisis exploratorio más enfocado en entender las diferencias entre los clientes que hicieron Churn y los que no.\n",
        "\n",
        "¿Qué tipo de análisis te gustaría realizar primero? Algunas ideas podrían ser:\n",
        "\n",
        "* Comparar la distribución de características demográficas (género, ser ciudadano mayor, tener pareja o dependientes) entre los grupos de Churn.\n",
        "\n",
        "* Analizar la relación entre la antigüedad del contrato ('tenure') y el Churn.\n",
        "\n",
        "* Examinar cómo los diferentes servicios (telefonía, internet, servicios adicionales) se relacionan con el Churn.\n",
        "\n",
        "* Comparar los cargos mensuales y totales entre los clientes con y sin Churn.\n",
        "\n",
        "¿Alguna de estas ideas te parece un buen punto de partida, o tienes alguna otra en mente?"
      ]
    },
    {
      "cell_type": "markdown",
      "metadata": {},
      "source": [
        "recordemos la consigna: Telecom X es una empresa de telecomunicaciones y has sido contratado como analista de datos para trabajar en un proyecto específico de Churn de clientes. La empresa está enfrentando un alto índice de evasión de clientes y aún no han identificado el problema de esta evasión. Para ello, te han proporcionado algunos datos en los que tendrás que buscar, tratar y realizar un análisis exploratorio para, una vez limpiados estos datos, poder proporcionárselos al equipo de ciencia de datos. De esta manera, podrán realizar un análisis predictivo y determinar de dónde proviene esta evasión de clientes. DIME TU POR DONDE IR...."
      ]
    },
    {
      "cell_type": "markdown",
      "metadata": {},
      "source": [
        "¡Tienes razón! El objetivo final es proporcionar datos limpios y un análisis exploratorio inicial al equipo de ciencia de datos para que ellos puedan construir modelos predictivos sobre el Churn.\n",
        "\n",
        "Dado esto, creo que un buen punto de partida para el análisis exploratorio sería comparar las características de los clientes que hicieron Churn con los que no lo hicieron. Esto nos puede dar algunas pistas iniciales sobre qué factores podrían estar asociados con una mayor probabilidad de abandono.\n",
        "\n",
        "Podríamos empezar analizando las variables categóricas y viendo si la proporción de Churn es diferente entre las distintas categorías. Por ejemplo, podríamos ver el Churn por género, por si son o no ciudadanos mayores, si tienen o no pareja o dependientes, etc.\n",
        "\n",
        "¿Te parece si empezamos por analizar la relación entre 'Churn' y la variable 'Partner'? Podemos ver la proporción de Churn para los clientes que tienen pareja y para los que no."
      ]
    },
    {
      "cell_type": "markdown",
      "metadata": {},
      "source": [
        "Este código agrupará los datos por la columna 'Partner', calculará la proporción de 'Churn' ('Yes' y 'No') dentro de cada grupo y luego lo mostrará de forma más legible. ¿Qué observas en la salida?"
      ]
    },
    {
      "cell_type": "code",
      "execution_count": 19,
      "metadata": {},
      "outputs": [
        {
          "name": "stdout",
          "output_type": "stream",
          "text": [
            "Churn          No       Yes\n",
            "Partner                    \n",
            "No       0.670420  0.329580\n",
            "Yes      0.803351  0.196649\n"
          ]
        }
      ],
      "source": [
        "churn_por_partner = df.groupby('Partner')['Churn'].value_counts(normalize=True).unstack()\n",
        "print(churn_por_partner)"
      ]
    },
    {
      "cell_type": "markdown",
      "metadata": {},
      "source": [
        "¡Interesante! Vemos las proporciones de Churn para clientes con y sin pareja:\n",
        "\n",
        "Sin pareja ('No'): Aproximadamente el 33% de los clientes sin pareja hicieron Churn.\n",
        "Con pareja ('Yes'): Aproximadamente el 20% de los clientes con pareja hicieron Churn.\n",
        "Esto sugiere que los clientes sin pareja tienen una proporción de Churn notablemente mayor que los clientes con pareja. Esta podría ser una de las primeras pistas para el equipo de ciencia de datos."
      ]
    },
    {
      "cell_type": "markdown",
      "metadata": {},
      "source": [
        "¡Entendido! Vamos a analizar varias de las variables que mencionamos para intentar llegar a algunas conclusiones iniciales.\n",
        "\n",
        "### 1. Churn por Dependientes:"
      ]
    },
    {
      "cell_type": "code",
      "execution_count": 20,
      "metadata": {},
      "outputs": [
        {
          "name": "stdout",
          "output_type": "stream",
          "text": [
            "\n",
            "Churn por Dependientes:\n",
            "Churn             No       Yes\n",
            "Dependents                    \n",
            "No          0.687209  0.312791\n",
            "Yes         0.845498  0.154502\n"
          ]
        }
      ],
      "source": [
        "churn_por_dependientes = df.groupby('Dependents')['Churn'].value_counts(normalize=True).unstack()\n",
        "print(\"\\nChurn por Dependientes:\")\n",
        "print(churn_por_dependientes)"
      ]
    },
    {
      "cell_type": "markdown",
      "metadata": {},
      "source": [
        "### 2. Churn por Ser Ciudadano Mayor:\n",
        "\n"
      ]
    },
    {
      "cell_type": "code",
      "execution_count": 21,
      "metadata": {},
      "outputs": [
        {
          "name": "stdout",
          "output_type": "stream",
          "text": [
            "\n",
            "Churn por Ciudadano Mayor:\n",
            "Churn                No       Yes\n",
            "SeniorCitizen                    \n",
            "0              0.763938  0.236062\n",
            "1              0.583187  0.416813\n"
          ]
        }
      ],
      "source": [
        "churn_por_senior = df.groupby('SeniorCitizen')['Churn'].value_counts(normalize=True).unstack()\n",
        "print(\"\\nChurn por Ciudadano Mayor:\")\n",
        "print(churn_por_senior)"
      ]
    },
    {
      "cell_type": "markdown",
      "metadata": {},
      "source": [
        "### 3. Churn por Servicio de Internet:\n",
        "\n"
      ]
    },
    {
      "cell_type": "code",
      "execution_count": 22,
      "metadata": {},
      "outputs": [
        {
          "name": "stdout",
          "output_type": "stream",
          "text": [
            "\n",
            "Churn por Servicio de Internet:\n",
            "Churn                  No       Yes\n",
            "InternetService                    \n",
            "DSL              0.810409  0.189591\n",
            "Fiber optic      0.581072  0.418928\n",
            "No               0.925950  0.074050\n"
          ]
        }
      ],
      "source": [
        "churn_por_internet = df.groupby('InternetService')['Churn'].value_counts(normalize=True).unstack()\n",
        "print(\"\\nChurn por Servicio de Internet:\")\n",
        "print(churn_por_internet)"
      ]
    },
    {
      "cell_type": "markdown",
      "metadata": {},
      "source": [
        "### 4. Churn por Tipo de Contrato:"
      ]
    },
    {
      "cell_type": "code",
      "execution_count": 23,
      "metadata": {},
      "outputs": [
        {
          "name": "stdout",
          "output_type": "stream",
          "text": [
            "\n",
            "Churn por Tipo de Contrato:\n",
            "Churn                 No       Yes\n",
            "Contract                          \n",
            "Month-to-month  0.572903  0.427097\n",
            "One year        0.887305  0.112695\n",
            "Two year        0.971681  0.028319\n"
          ]
        }
      ],
      "source": [
        "churn_por_contrato = df.groupby('Contract')['Churn'].value_counts(normalize=True).unstack()\n",
        "print(\"\\nChurn por Tipo de Contrato:\")\n",
        "print(churn_por_contrato)"
      ]
    },
    {
      "cell_type": "markdown",
      "metadata": {},
      "source": [
        "¡Excelente información! Analicemos lo que encontramos:\n",
        "\n",
        "Dependientes: Los clientes sin dependientes tienen una tasa de Churn significativamente mayor (31.3%) que aquellos con dependientes (15.5%).\n",
        "Ciudadano Mayor: Los ciudadanos mayores muestran una tasa de Churn mucho más alta (41.7%) en comparación con los que no lo son (23.6%).\n",
        "Servicio de Internet: Los clientes con Fibra óptica tienen la tasa de Churn más alta (41.9%), seguidos por los que tienen DSL (19.0%). Los clientes sin servicio de internet tienen una tasa de Churn muy baja (7.4%). Esto podría indicar que la calidad o el tipo de conexión a internet influyen en la decisión de abandonar.\n",
        "Tipo de Contrato: Los clientes con contratos mes a mes tienen una tasa de Churn muy alta (42.7%). Esta tasa disminuye drásticamente para los contratos de un año (11.3%) y es aún menor para los contratos de dos años (2.8%). Esto sugiere que la duración del contrato es un factor clave en la retención de clientes.\n",
        "Conclusiones iniciales para el equipo de ciencia de datos:\n",
        "\n",
        "Basándonos en este análisis exploratorio inicial, podemos destacar los siguientes puntos que podrían estar asociados con una mayor probabilidad de Churn:\n",
        "\n",
        "No tener pareja.\n",
        "No tener dependientes.\n",
        "Ser un ciudadano mayor.\n",
        "Tener un servicio de internet de Fibra óptica.\n",
        "Tener un contrato de mes a mes.\n",
        "Estos hallazgos sugieren que las características demográficas, el tipo de servicio de internet y, especialmente, el tipo de contrato podrían ser predictores importantes del Churn.\n",
        "\n",
        "¿Te gustaría que exploremos alguna otra variable, como los cargos mensuales o la antigüedad del contrato ('tenure')? O, ¿crees que con esto ya tenemos una buena base para proporcionar al equipo de ciencia de datos?"
      ]
    },
    {
      "cell_type": "markdown",
      "metadata": {},
      "source": [
        "¡Me gusta esa actitud! Si queremos ser \"pro\", podríamos analizar la relación entre las variables numéricas ('tenure', 'Monthly', 'Total') y el Churn. Una forma de hacerlo es observar las estadísticas descriptivas de estas variables para los clientes que hicieron Churn y los que no."
      ]
    },
    {
      "cell_type": "markdown",
      "metadata": {},
      "source": [
        "Este código nos mostrará la media, la desviación estándar, los cuartiles, etc., de estas variables numéricas para los dos grupos de Churn ('No' y 'Yes'). ¿Qué patrones podemos identificar aquí?\n"
      ]
    },
    {
      "cell_type": "code",
      "execution_count": 24,
      "metadata": {},
      "outputs": [
        {
          "name": "stdout",
          "output_type": "stream",
          "text": [
            "\n",
            "Estadísticas de 'tenure' por Churn:\n",
            "        count       mean        std  min   25%   50%   75%   max\n",
            "Churn                                                           \n",
            "No     5174.0  37.569965  24.113777  0.0  15.0  38.0  61.0  72.0\n",
            "Yes    1869.0  17.979133  19.531123  1.0   2.0  10.0  29.0  72.0\n",
            "\n",
            "Estadísticas de 'Monthly' por Churn:\n"
          ]
        },
        {
          "name": "stdout",
          "output_type": "stream",
          "text": [
            "        count       mean        std    min    25%     50%   75%     max\n",
            "Churn                                                                  \n",
            "No     5174.0  61.265124  31.092648  18.25  25.10  64.425  88.4  118.75\n",
            "Yes    1869.0  74.441332  24.666053  18.85  56.15  79.650  94.2  118.35\n",
            "\n",
            "Estadísticas de 'Total' por Churn:\n",
            "        count         mean          std    min    25%       50%      75%  \\\n",
            "Churn                                                                      \n",
            "No     5174.0  2549.911442  2329.954215   0.00  572.9  1679.525  4262.85   \n",
            "Yes    1869.0  1531.796094  1890.822994  18.85  134.5   703.550  2331.30   \n",
            "\n",
            "           max  \n",
            "Churn           \n",
            "No     8672.45  \n",
            "Yes    8684.80  \n"
          ]
        }
      ],
      "source": [
        "print(\"\\nEstadísticas de 'tenure' por Churn:\")\n",
        "print(df.groupby('Churn')['tenure'].describe())\n",
        "\n",
        "print(\"\\nEstadísticas de 'Monthly' por Churn:\")\n",
        "print(df.groupby('Churn')['Monthly'].describe())\n",
        "\n",
        "print(\"\\nEstadísticas de 'Total' por Churn:\")\n",
        "print(df.groupby('Churn')['Total'].describe())"
      ]
    },
    {
      "cell_type": "markdown",
      "metadata": {},
      "source": [
        "¡Excelente análisis! Veamos qué podemos extraer de estas estadísticas:\n",
        "\n",
        "Tenure (Antigüedad del contrato): La media de la antigüedad para los clientes que no hicieron Churn es significativamente mayor (aproximadamente 37.6 meses) en comparación con los que sí hicieron Churn (aproximadamente 18.0 meses). Esto sugiere que los clientes que llevan menos tiempo con la empresa son más propensos a irse.\n",
        "\n",
        "Monthly Charges (Cargos Mensuales): Los clientes que hicieron Churn tienen una media de cargos mensuales más alta (aproximadamente 74.4) que los que no hicieron Churn (aproximadamente 61.3). Esto podría indicar que los precios más altos están relacionados con una mayor probabilidad de abandono.\n",
        "\n",
        "Total Charges (Cargos Totales): La media de los cargos totales es mayor para los clientes que no hicieron Churn (aproximadamente 2549.9) en comparación con los que sí hicieron Churn (aproximadamente 1531.8). Sin embargo, esto podría estar influenciado por la menor antigüedad de los clientes que hicieron Churn.\n",
        "\n",
        "Conclusiones \"pro\" para el equipo de ciencia de datos:\n",
        "\n",
        "Profundizando en nuestro análisis, además de las conclusiones sobre las variables categóricas, podemos añadir:\n",
        "\n",
        "Menor antigüedad del contrato ('tenure') se asocia con una mayor probabilidad de Churn.\n",
        "Cargos mensuales más altos también parecen estar relacionados con una mayor probabilidad de Churn.\n",
        "Aunque los cargos totales son menores para los clientes con Churn, esto probablemente se debe a su menor tiempo de permanencia.\n",
        "Con esta información combinada (hallazgos de variables categóricas y numéricas), tenemos una base sólida para entregar al equipo de ciencia de datos. Ellos podrán utilizar estas señales para construir modelos predictivos más precisos.\n",
        "\n",
        "¿Te gustaría que generemos un breve resumen de nuestros hallazgos para el equipo de ciencia de datos?"
      ]
    },
    {
      "cell_type": "markdown",
      "metadata": {},
      "source": [
        "Considerando el análisis exploratorio que hemos realizado, creo que tenemos un conjunto de hallazgos iniciales valiosos para el equipo de ciencia de datos. Hemos identificado varias características que parecen estar relacionadas con el Churn, tanto categóricas como numéricas.\n",
        "\n",
        "Un informe final conciso que resuma estos puntos sería un buen entregable. Podríamos incluir:\n",
        "\n",
        "Una breve descripción del objetivo del análisis.\n",
        "Los principales hallazgos de las variables categóricas (pareja, dependientes, ser ciudadano mayor, servicio de internet, tipo de contrato).\n",
        "Los principales hallazgos de las variables numéricas (antigüedad del contrato, cargos mensuales).\n",
        "Una breve nota sobre la limpieza de datos que realizamos (manejo de nulos en 'Total' y eliminación de valores vacíos en 'Churn').\n",
        "¿Te gustaría que redacte un borrador de este informe final para que lo revises?"
      ]
    },
    {
      "cell_type": "markdown",
      "metadata": {},
      "source": [
        "¡Me parece una idea excelente! Un gráfico interactivo y visualmente atractivo con Plotly puede complementar muy bien nuestro informe y facilitar la comprensión de los patrones de Churn.\n",
        "\n",
        "¿Qué tipo de gráfico te gustaría crear? Podríamos visualizar:\n",
        "\n",
        "La proporción de Churn por alguna de las variables categóricas que encontramos relevantes (por ejemplo, tipo de contrato, servicio de internet). Un gráfico de barras apiladas o agrupadas podría ser útil aquí.\n",
        "La distribución de una variable numérica (como 'tenure' o 'MonthlyCharges') separada por la categoría de Churn. Un histograma o un gráfico de caja (boxplot) podrían funcionar bien.\n",
        "Dado que encontramos una relación fuerte entre el tipo de contrato y el Churn, ¿qué te parece si creamos un gráfico de barras que muest"
      ]
    },
    {
      "cell_type": "code",
      "execution_count": null,
      "metadata": {},
      "outputs": [],
      "source": [
        "pip install plotly"
      ]
    },
    {
      "cell_type": "code",
      "execution_count": null,
      "metadata": {},
      "outputs": [],
      "source": [
        "pip install \"nbformat>=4.2.0\""
      ]
    },
    {
      "cell_type": "code",
      "execution_count": null,
      "metadata": {},
      "outputs": [],
      "source": [
        "pip show nbformat"
      ]
    },
    {
      "cell_type": "code",
      "execution_count": null,
      "metadata": {},
      "outputs": [],
      "source": [
        " pip install ipython"
      ]
    },
    {
      "cell_type": "code",
      "execution_count": 30,
      "metadata": {},
      "outputs": [
        {
          "data": {
            "application/vnd.plotly.v1+json": {
              "config": {
                "plotlyServerURL": "https://plot.ly"
              },
              "data": [
                {
                  "marker": {
                    "color": "lightskyblue"
                  },
                  "name": "No Churn",
                  "type": "bar",
                  "x": [
                    "Month-to-month",
                    "One year",
                    "Two year"
                  ],
                  "y": {
                    "bdata": "VZJTJTlV4j8rhvwTzWTsPzqA8Z8DGO8/",
                    "dtype": "f8"
                  }
                },
                {
                  "marker": {
                    "color": "indianred"
                  },
                  "name": "Churn",
                  "type": "bar",
                  "x": [
                    "Month-to-month",
                    "One year",
                    "Two year"
                  ],
                  "y": {
                    "bdata": "VttYtY1V2z+kzhtgl9m8P8D4zwGM/5w/",
                    "dtype": "f8"
                  }
                }
              ],
              "layout": {
                "barmode": "group",
                "template": {
                  "data": {
                    "bar": [
                      {
                        "error_x": {
                          "color": "#2a3f5f"
                        },
                        "error_y": {
                          "color": "#2a3f5f"
                        },
                        "marker": {
                          "line": {
                            "color": "#E5ECF6",
                            "width": 0.5
                          },
                          "pattern": {
                            "fillmode": "overlay",
                            "size": 10,
                            "solidity": 0.2
                          }
                        },
                        "type": "bar"
                      }
                    ],
                    "barpolar": [
                      {
                        "marker": {
                          "line": {
                            "color": "#E5ECF6",
                            "width": 0.5
                          },
                          "pattern": {
                            "fillmode": "overlay",
                            "size": 10,
                            "solidity": 0.2
                          }
                        },
                        "type": "barpolar"
                      }
                    ],
                    "carpet": [
                      {
                        "aaxis": {
                          "endlinecolor": "#2a3f5f",
                          "gridcolor": "white",
                          "linecolor": "white",
                          "minorgridcolor": "white",
                          "startlinecolor": "#2a3f5f"
                        },
                        "baxis": {
                          "endlinecolor": "#2a3f5f",
                          "gridcolor": "white",
                          "linecolor": "white",
                          "minorgridcolor": "white",
                          "startlinecolor": "#2a3f5f"
                        },
                        "type": "carpet"
                      }
                    ],
                    "choropleth": [
                      {
                        "colorbar": {
                          "outlinewidth": 0,
                          "ticks": ""
                        },
                        "type": "choropleth"
                      }
                    ],
                    "contour": [
                      {
                        "colorbar": {
                          "outlinewidth": 0,
                          "ticks": ""
                        },
                        "colorscale": [
                          [
                            0,
                            "#0d0887"
                          ],
                          [
                            0.1111111111111111,
                            "#46039f"
                          ],
                          [
                            0.2222222222222222,
                            "#7201a8"
                          ],
                          [
                            0.3333333333333333,
                            "#9c179e"
                          ],
                          [
                            0.4444444444444444,
                            "#bd3786"
                          ],
                          [
                            0.5555555555555556,
                            "#d8576b"
                          ],
                          [
                            0.6666666666666666,
                            "#ed7953"
                          ],
                          [
                            0.7777777777777778,
                            "#fb9f3a"
                          ],
                          [
                            0.8888888888888888,
                            "#fdca26"
                          ],
                          [
                            1,
                            "#f0f921"
                          ]
                        ],
                        "type": "contour"
                      }
                    ],
                    "contourcarpet": [
                      {
                        "colorbar": {
                          "outlinewidth": 0,
                          "ticks": ""
                        },
                        "type": "contourcarpet"
                      }
                    ],
                    "heatmap": [
                      {
                        "colorbar": {
                          "outlinewidth": 0,
                          "ticks": ""
                        },
                        "colorscale": [
                          [
                            0,
                            "#0d0887"
                          ],
                          [
                            0.1111111111111111,
                            "#46039f"
                          ],
                          [
                            0.2222222222222222,
                            "#7201a8"
                          ],
                          [
                            0.3333333333333333,
                            "#9c179e"
                          ],
                          [
                            0.4444444444444444,
                            "#bd3786"
                          ],
                          [
                            0.5555555555555556,
                            "#d8576b"
                          ],
                          [
                            0.6666666666666666,
                            "#ed7953"
                          ],
                          [
                            0.7777777777777778,
                            "#fb9f3a"
                          ],
                          [
                            0.8888888888888888,
                            "#fdca26"
                          ],
                          [
                            1,
                            "#f0f921"
                          ]
                        ],
                        "type": "heatmap"
                      }
                    ],
                    "histogram": [
                      {
                        "marker": {
                          "pattern": {
                            "fillmode": "overlay",
                            "size": 10,
                            "solidity": 0.2
                          }
                        },
                        "type": "histogram"
                      }
                    ],
                    "histogram2d": [
                      {
                        "colorbar": {
                          "outlinewidth": 0,
                          "ticks": ""
                        },
                        "colorscale": [
                          [
                            0,
                            "#0d0887"
                          ],
                          [
                            0.1111111111111111,
                            "#46039f"
                          ],
                          [
                            0.2222222222222222,
                            "#7201a8"
                          ],
                          [
                            0.3333333333333333,
                            "#9c179e"
                          ],
                          [
                            0.4444444444444444,
                            "#bd3786"
                          ],
                          [
                            0.5555555555555556,
                            "#d8576b"
                          ],
                          [
                            0.6666666666666666,
                            "#ed7953"
                          ],
                          [
                            0.7777777777777778,
                            "#fb9f3a"
                          ],
                          [
                            0.8888888888888888,
                            "#fdca26"
                          ],
                          [
                            1,
                            "#f0f921"
                          ]
                        ],
                        "type": "histogram2d"
                      }
                    ],
                    "histogram2dcontour": [
                      {
                        "colorbar": {
                          "outlinewidth": 0,
                          "ticks": ""
                        },
                        "colorscale": [
                          [
                            0,
                            "#0d0887"
                          ],
                          [
                            0.1111111111111111,
                            "#46039f"
                          ],
                          [
                            0.2222222222222222,
                            "#7201a8"
                          ],
                          [
                            0.3333333333333333,
                            "#9c179e"
                          ],
                          [
                            0.4444444444444444,
                            "#bd3786"
                          ],
                          [
                            0.5555555555555556,
                            "#d8576b"
                          ],
                          [
                            0.6666666666666666,
                            "#ed7953"
                          ],
                          [
                            0.7777777777777778,
                            "#fb9f3a"
                          ],
                          [
                            0.8888888888888888,
                            "#fdca26"
                          ],
                          [
                            1,
                            "#f0f921"
                          ]
                        ],
                        "type": "histogram2dcontour"
                      }
                    ],
                    "mesh3d": [
                      {
                        "colorbar": {
                          "outlinewidth": 0,
                          "ticks": ""
                        },
                        "type": "mesh3d"
                      }
                    ],
                    "parcoords": [
                      {
                        "line": {
                          "colorbar": {
                            "outlinewidth": 0,
                            "ticks": ""
                          }
                        },
                        "type": "parcoords"
                      }
                    ],
                    "pie": [
                      {
                        "automargin": true,
                        "type": "pie"
                      }
                    ],
                    "scatter": [
                      {
                        "fillpattern": {
                          "fillmode": "overlay",
                          "size": 10,
                          "solidity": 0.2
                        },
                        "type": "scatter"
                      }
                    ],
                    "scatter3d": [
                      {
                        "line": {
                          "colorbar": {
                            "outlinewidth": 0,
                            "ticks": ""
                          }
                        },
                        "marker": {
                          "colorbar": {
                            "outlinewidth": 0,
                            "ticks": ""
                          }
                        },
                        "type": "scatter3d"
                      }
                    ],
                    "scattercarpet": [
                      {
                        "marker": {
                          "colorbar": {
                            "outlinewidth": 0,
                            "ticks": ""
                          }
                        },
                        "type": "scattercarpet"
                      }
                    ],
                    "scattergeo": [
                      {
                        "marker": {
                          "colorbar": {
                            "outlinewidth": 0,
                            "ticks": ""
                          }
                        },
                        "type": "scattergeo"
                      }
                    ],
                    "scattergl": [
                      {
                        "marker": {
                          "colorbar": {
                            "outlinewidth": 0,
                            "ticks": ""
                          }
                        },
                        "type": "scattergl"
                      }
                    ],
                    "scattermap": [
                      {
                        "marker": {
                          "colorbar": {
                            "outlinewidth": 0,
                            "ticks": ""
                          }
                        },
                        "type": "scattermap"
                      }
                    ],
                    "scattermapbox": [
                      {
                        "marker": {
                          "colorbar": {
                            "outlinewidth": 0,
                            "ticks": ""
                          }
                        },
                        "type": "scattermapbox"
                      }
                    ],
                    "scatterpolar": [
                      {
                        "marker": {
                          "colorbar": {
                            "outlinewidth": 0,
                            "ticks": ""
                          }
                        },
                        "type": "scatterpolar"
                      }
                    ],
                    "scatterpolargl": [
                      {
                        "marker": {
                          "colorbar": {
                            "outlinewidth": 0,
                            "ticks": ""
                          }
                        },
                        "type": "scatterpolargl"
                      }
                    ],
                    "scatterternary": [
                      {
                        "marker": {
                          "colorbar": {
                            "outlinewidth": 0,
                            "ticks": ""
                          }
                        },
                        "type": "scatterternary"
                      }
                    ],
                    "surface": [
                      {
                        "colorbar": {
                          "outlinewidth": 0,
                          "ticks": ""
                        },
                        "colorscale": [
                          [
                            0,
                            "#0d0887"
                          ],
                          [
                            0.1111111111111111,
                            "#46039f"
                          ],
                          [
                            0.2222222222222222,
                            "#7201a8"
                          ],
                          [
                            0.3333333333333333,
                            "#9c179e"
                          ],
                          [
                            0.4444444444444444,
                            "#bd3786"
                          ],
                          [
                            0.5555555555555556,
                            "#d8576b"
                          ],
                          [
                            0.6666666666666666,
                            "#ed7953"
                          ],
                          [
                            0.7777777777777778,
                            "#fb9f3a"
                          ],
                          [
                            0.8888888888888888,
                            "#fdca26"
                          ],
                          [
                            1,
                            "#f0f921"
                          ]
                        ],
                        "type": "surface"
                      }
                    ],
                    "table": [
                      {
                        "cells": {
                          "fill": {
                            "color": "#EBF0F8"
                          },
                          "line": {
                            "color": "white"
                          }
                        },
                        "header": {
                          "fill": {
                            "color": "#C8D4E3"
                          },
                          "line": {
                            "color": "white"
                          }
                        },
                        "type": "table"
                      }
                    ]
                  },
                  "layout": {
                    "annotationdefaults": {
                      "arrowcolor": "#2a3f5f",
                      "arrowhead": 0,
                      "arrowwidth": 1
                    },
                    "autotypenumbers": "strict",
                    "coloraxis": {
                      "colorbar": {
                        "outlinewidth": 0,
                        "ticks": ""
                      }
                    },
                    "colorscale": {
                      "diverging": [
                        [
                          0,
                          "#8e0152"
                        ],
                        [
                          0.1,
                          "#c51b7d"
                        ],
                        [
                          0.2,
                          "#de77ae"
                        ],
                        [
                          0.3,
                          "#f1b6da"
                        ],
                        [
                          0.4,
                          "#fde0ef"
                        ],
                        [
                          0.5,
                          "#f7f7f7"
                        ],
                        [
                          0.6,
                          "#e6f5d0"
                        ],
                        [
                          0.7,
                          "#b8e186"
                        ],
                        [
                          0.8,
                          "#7fbc41"
                        ],
                        [
                          0.9,
                          "#4d9221"
                        ],
                        [
                          1,
                          "#276419"
                        ]
                      ],
                      "sequential": [
                        [
                          0,
                          "#0d0887"
                        ],
                        [
                          0.1111111111111111,
                          "#46039f"
                        ],
                        [
                          0.2222222222222222,
                          "#7201a8"
                        ],
                        [
                          0.3333333333333333,
                          "#9c179e"
                        ],
                        [
                          0.4444444444444444,
                          "#bd3786"
                        ],
                        [
                          0.5555555555555556,
                          "#d8576b"
                        ],
                        [
                          0.6666666666666666,
                          "#ed7953"
                        ],
                        [
                          0.7777777777777778,
                          "#fb9f3a"
                        ],
                        [
                          0.8888888888888888,
                          "#fdca26"
                        ],
                        [
                          1,
                          "#f0f921"
                        ]
                      ],
                      "sequentialminus": [
                        [
                          0,
                          "#0d0887"
                        ],
                        [
                          0.1111111111111111,
                          "#46039f"
                        ],
                        [
                          0.2222222222222222,
                          "#7201a8"
                        ],
                        [
                          0.3333333333333333,
                          "#9c179e"
                        ],
                        [
                          0.4444444444444444,
                          "#bd3786"
                        ],
                        [
                          0.5555555555555556,
                          "#d8576b"
                        ],
                        [
                          0.6666666666666666,
                          "#ed7953"
                        ],
                        [
                          0.7777777777777778,
                          "#fb9f3a"
                        ],
                        [
                          0.8888888888888888,
                          "#fdca26"
                        ],
                        [
                          1,
                          "#f0f921"
                        ]
                      ]
                    },
                    "colorway": [
                      "#636efa",
                      "#EF553B",
                      "#00cc96",
                      "#ab63fa",
                      "#FFA15A",
                      "#19d3f3",
                      "#FF6692",
                      "#B6E880",
                      "#FF97FF",
                      "#FECB52"
                    ],
                    "font": {
                      "color": "#2a3f5f"
                    },
                    "geo": {
                      "bgcolor": "white",
                      "lakecolor": "white",
                      "landcolor": "#E5ECF6",
                      "showlakes": true,
                      "showland": true,
                      "subunitcolor": "white"
                    },
                    "hoverlabel": {
                      "align": "left"
                    },
                    "hovermode": "closest",
                    "mapbox": {
                      "style": "light"
                    },
                    "paper_bgcolor": "white",
                    "plot_bgcolor": "#E5ECF6",
                    "polar": {
                      "angularaxis": {
                        "gridcolor": "white",
                        "linecolor": "white",
                        "ticks": ""
                      },
                      "bgcolor": "#E5ECF6",
                      "radialaxis": {
                        "gridcolor": "white",
                        "linecolor": "white",
                        "ticks": ""
                      }
                    },
                    "scene": {
                      "xaxis": {
                        "backgroundcolor": "#E5ECF6",
                        "gridcolor": "white",
                        "gridwidth": 2,
                        "linecolor": "white",
                        "showbackground": true,
                        "ticks": "",
                        "zerolinecolor": "white"
                      },
                      "yaxis": {
                        "backgroundcolor": "#E5ECF6",
                        "gridcolor": "white",
                        "gridwidth": 2,
                        "linecolor": "white",
                        "showbackground": true,
                        "ticks": "",
                        "zerolinecolor": "white"
                      },
                      "zaxis": {
                        "backgroundcolor": "#E5ECF6",
                        "gridcolor": "white",
                        "gridwidth": 2,
                        "linecolor": "white",
                        "showbackground": true,
                        "ticks": "",
                        "zerolinecolor": "white"
                      }
                    },
                    "shapedefaults": {
                      "line": {
                        "color": "#2a3f5f"
                      }
                    },
                    "ternary": {
                      "aaxis": {
                        "gridcolor": "white",
                        "linecolor": "white",
                        "ticks": ""
                      },
                      "baxis": {
                        "gridcolor": "white",
                        "linecolor": "white",
                        "ticks": ""
                      },
                      "bgcolor": "#E5ECF6",
                      "caxis": {
                        "gridcolor": "white",
                        "linecolor": "white",
                        "ticks": ""
                      }
                    },
                    "title": {
                      "x": 0.05
                    },
                    "xaxis": {
                      "automargin": true,
                      "gridcolor": "white",
                      "linecolor": "white",
                      "ticks": "",
                      "title": {
                        "standoff": 15
                      },
                      "zerolinecolor": "white",
                      "zerolinewidth": 2
                    },
                    "yaxis": {
                      "automargin": true,
                      "gridcolor": "white",
                      "linecolor": "white",
                      "ticks": "",
                      "title": {
                        "standoff": 15
                      },
                      "zerolinecolor": "white",
                      "zerolinewidth": 2
                    }
                  }
                },
                "title": {
                  "text": "Proporción de Churn por Tipo de Contrato por Pablo Monsalvo G8-ONE"
                },
                "xaxis": {
                  "title": {
                    "text": "Tipo de Contrato"
                  }
                },
                "yaxis": {
                  "title": {
                    "text": "Proporción"
                  }
                }
              }
            }
          },
          "metadata": {},
          "output_type": "display_data"
        }
      ],
      "source": [
        "import plotly.graph_objects as go\n",
        "from plotly.subplots import make_subplots\n",
        "\n",
        "# Calcular la proporción de Churn por tipo de contrato (usando los resultados que ya obtuvimos)\n",
        "churn_por_contrato = df.groupby('Contract')['Churn'].value_counts(normalize=True).unstack().reset_index()\n",
        "\n",
        "# Crear el gráfico de barras apiladas con Plotly\n",
        "fig = go.Figure(data=[\n",
        "    go.Bar(name='No Churn', x=churn_por_contrato['Contract'], y=churn_por_contrato['No'],\n",
        "           marker_color='lightskyblue'),\n",
        "    go.Bar(name='Churn', x=churn_por_contrato['Contract'], y=churn_por_contrato['Yes'],\n",
        "           marker_color='indianred')\n",
        "])\n",
        "\n",
        "# Actualizar el layout para un mejor formato\n",
        "fig.update_layout(barmode='group', title='Proporción de Churn por Tipo de Contrato por Pablo Monsalvo G8-ONE',\n",
        "                  xaxis_title='Tipo de Contrato', yaxis_title='Proporción')\n",
        "fig.show()"
      ]
    },
    {
      "cell_type": "markdown",
      "metadata": {},
      "source": [
        "¡Perfecto! ¡Ahí está el gráfico! Se ve muy bien. Podemos observar claramente cómo la proporción de Churn disminuye drásticamente a medida que la duración del contrato aumenta. Los contratos mes a mes tienen una tasa de Churn muy alta, mientras que los contratos de dos años tienen una tasa muy baja.\n",
        "\n",
        "Este gráfico visualmente refuerza una de nuestras conclusiones clave.\n",
        "\n",
        "Ahora que tenemos este gráfico bonito, ¿te gustaría que pasemos a redactar ese informe final para el equipo de ciencia de datos? Podemos incluir este gráfico en el informe o mencionarlo como un resultado visual clave de nuestro análisis exploratorio."
      ]
    },
    {
      "cell_type": "markdown",
      "metadata": {},
      "source": [
        "### Gráfico con Matplotlib para que se visualice en GitHub"
      ]
    },
    {
      "cell_type": "code",
      "execution_count": 31,
      "metadata": {},
      "outputs": [
        {
          "data": {
            "image/png": "[encoded data removed]",
            "text/plain": [
              "<Figure size 640x480 with 1 Axes>"
            ]
          },
          "metadata": {},
          "output_type": "display_data"
        }
      ],
      "source": [
        "import matplotlib.pyplot as plt\n",
        "import numpy as np\n",
        "\n",
        "# Calcular la proporción de Churn por tipo de contrato (usando los resultados que ya obtuvimos)\n",
        "churn_por_contrato = df.groupby('Contract')['Churn'].value_counts(normalize=True).unstack().reset_index()\n",
        "\n",
        "contratos = churn_por_contrato['Contract']\n",
        "no_churn = churn_por_contrato['No']\n",
        "yes_churn = churn_por_contrato['Yes']\n",
        "\n",
        "x = np.arange(len(contratos))  # La ubicación de las etiquetas\n",
        "width = 0.35  # El ancho de las barras\n",
        "\n",
        "fig, ax = plt.subplots()\n",
        "rects1 = ax.bar(x - width/2, no_churn, width, label='No Churn', color='lightskyblue')\n",
        "rects2 = ax.bar(x + width/2, yes_churn, width, label='Churn', color='indianred')\n",
        "\n",
        "# Añadir etiquetas, título y ticks personalizados del eje x, etc.\n",
        "ax.set_ylabel('Proporción')\n",
        "ax.set_xlabel('Tipo de Contrato')\n",
        "ax.set_title('Proporción de Churn por Tipo de Contrato')\n",
        "ax.set_xticks(x)\n",
        "ax.set_xticklabels(contratos)\n",
        "ax.legend()\n",
        "\n",
        "fig.tight_layout()\n",
        "\n",
        "plt.show()"
      ]
    },
    {
      "cell_type": "markdown",
      "metadata": {
        "id": "v-WzfSvTmaw9"
      },
      "source": [
        "#📄Informe final"
      ]
    },
    {
      "cell_type": "markdown",
      "metadata": {},
      "source": [
        "### Informe Preliminar: Análisis Exploratorio de Churn de Clientes en Telecom X\n",
        "\n",
        "## Fecha: 2 de junio de 2025\n",
        "\n",
        "Propósito: Este informe presenta los hallazgos iniciales de un análisis exploratorio realizado sobre los datos de Churn de clientes proporcionados por Telecom X. El objetivo es identificar patrones y características que puedan estar asociados con la evasión de clientes, para así informar los esfuerzos futuros de modelado predictivo.\n",
        "\n",
        "# Limpieza de Datos:\n",
        "\n",
        "* Se manejaron valores nulos en la columna 'Total' imputando con 0 aquellas filas donde la antigüedad del contrato ('tenure') era de 0 meses.\n",
        "* Se eliminaron 224 filas donde la columna 'Churn' contenía valores vacíos, lo que resultó en un conjunto de datos limpio de 7043 registros para el análisis.\n",
        "\n",
        "# Hallazgos Clave del Análisis Exploratorio:\n",
        "\n",
        "# Relación con Variables Demográficas y de Contrato:\n",
        "\n",
        "* Clientes sin pareja y sin dependientes mostraron una mayor propensión al Churn.\n",
        "* Los ciudadanos mayores presentaron una tasa de Churn significativamente más alta.\n",
        "* El tipo de contrato demostró ser un factor crítico: los contratos mes a mes tienen una tasa de Churn mucho más elevada en comparación con los contratos de uno y dos años.\n",
        "\n",
        "# Relación con Servicios:\n",
        "\n",
        "* Los clientes con servicio de internet de Fibra óptica tuvieron la tasa de Churn más alta, lo que podría indicar problemas específicos con este tipo de servicio o con los clientes que lo eligen.\n",
        "\n",
        "# Relación con Variables Numéricas:\n",
        "\n",
        "* Una menor antigüedad del contrato ('tenure') se correlaciona con una mayor probabilidad de Churn.\n",
        "* Los clientes que hicieron Churn tendieron a tener cargos mensuales más altos.\n",
        "\n",
        "# Visualización:\n",
        "\n",
        "* Un gráfico de barras (ver Figura 1) ilustra claramente la marcada diferencia en la proporción de Churn según el tipo de contrato, destacando la alta tasa de abandono en los contratos mes a mes.\n",
        "\n",
        "# Próximos Pasos:\n",
        "\n",
        "Estos hallazgos proporcionan información valiosa que puede guiar el desarrollo de modelos predictivos de Churn. Se recomienda al equipo de ciencia de datos considerar las variables identificadas como predictores potenciales clave."
      ]
    },
    {
      "cell_type": "markdown",
      "metadata": {},
      "source": [
        "### Informe con recomendaciones"
      ]
    },
    {
      "cell_type": "markdown",
      "metadata": {},
      "source": [
        "¡Excelente idea! Podemos añadir recomendaciones basadas en el tipo de contrato y el servicio de fibra óptica. Aquí tienes una versión actualizada del informe:\n",
        "\n",
        "Informe Preliminar: Análisis Exploratorio de Churn de Clientes en Telecom X\n",
        "\n",
        "Fecha: 2 de junio de 2025\n",
        "\n",
        "Propósito: Este informe presenta los hallazgos iniciales de un análisis exploratorio realizado sobre los datos de Churn de clientes proporcionados por Telecom X. El objetivo es identificar patrones y características que puedan estar asociados con la evasión de clientes, para así informar los esfuerzos futuros de modelado predictivo.\n",
        "\n",
        "Limpieza de Datos:\n",
        "\n",
        "Se manejaron valores nulos en la columna 'Total' imputando con 0 aquellas filas donde la antigüedad del contrato ('tenure') era de 0 meses.\n",
        "Se eliminaron 224 filas donde la columna 'Churn' contenía valores vacíos, lo que resultó en un conjunto de datos limpio de 7043 registros para el análisis.\n",
        "Hallazgos Clave del Análisis Exploratorio:\n",
        "\n",
        "Relación con Variables Demográficas y de Contrato:\n",
        "\n",
        "Clientes sin pareja y sin dependientes mostraron una mayor propensión al Churn.\n",
        "Los ciudadanos mayores presentaron una tasa de Churn significativamente más alta.\n",
        "El tipo de contrato demostró ser un factor crítico: los contratos mes a mes tienen una tasa de Churn mucho más elevada en comparación con los contratos de uno y dos años (ver Figura 1).\n",
        "Relación con Servicios:\n",
        "\n",
        "Los clientes con servicio de internet de Fibra óptica tuvieron la tasa de Churn más alta, lo que podría indicar problemas específicos con este tipo de servicio o con los clientes que lo eligen.\n",
        "Relación con Variables Numéricas:\n",
        "\n",
        "Una menor antigüedad del contrato ('tenure') se correlaciona con una mayor probabilidad de Churn.\n",
        "Los clientes que hicieron Churn tendieron a tener cargos mensuales más altos.\n",
        "Recomendaciones Iniciales:\n",
        "\n",
        "Contratos Mes a Mes: Dada la alta tasa de Churn entre los clientes con contratos mes a mes, se recomienda investigar estrategias para incentivar la migración a contratos de mayor duración (anuales o bianuales). Esto podría incluir descuentos o beneficios exclusivos para estos clientes.\n",
        "\n",
        "Servicio de Fibra Óptica: La alta tasa de Churn entre los usuarios de fibra óptica sugiere la necesidad de una investigación más profunda. Podría haber problemas relacionados con la calidad del servicio, la atención al cliente específica para este tipo de conexión, o la competencia en áreas donde se ofrece fibra óptica.\n",
        "\n",
        "Próximos Pasos:\n",
        "\n",
        "Estos hallazgos y recomendaciones proporcionan información valiosa que puede guiar el desarrollo de modelos predictivos de Churn y estrategias de retención de clientes. Se recomienda al equipo de ciencia de datos considerar las variables identificadas como predictores potenciales clave."
      ]
    }
  ],
  "metadata": {
    "colab": {
      "provenance": []
    },
    "kernelspec": {
      "display_name": "api-env",
      "language": "python",
      "name": "python3"
    },
    "language_info": {
      "codemirror_mode": {
        "name": "ipython",
        "version": 3
      },
      "file_extension": ".py",
      "mimetype": "text/x-python",
      "name": "python",
      "nbconvert_exporter": "python",
      "pygments_lexer": "ipython3",
      "version": "3.10.13"
    }
  },
  "nbformat": 4,
  "nbformat_minor": 0
}
