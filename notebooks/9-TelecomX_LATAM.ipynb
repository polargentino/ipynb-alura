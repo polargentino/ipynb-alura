{
  "cells": [
    {
      "cell_type": "markdown",
      "metadata": {},
      "source": [
        "Gemini:  ayudame con este dasafio: Telecom X es una empresa de telecomunicaciones y has sido contratado como analista de datos para trabajar en un proyecto específico de Churn de clientes. La empresa está enfrentando un alto índice de evasión de clientes y aún no han identificado el problema de esta evasión. Para ello, te han proporcionado algunos datos en los que tendrás que buscar, tratar y realizar un análisis exploratorio para, una vez limpiados estos datos, poder proporcionárselos al equipo de ciencia de datos. De esta manera, podrán realizar un análisis predictivo y determinar de dónde proviene esta evasión de clientes. este es el cuaderno base:\n",
        " 📌 Extracción\n",
        "\n",
        "🔧 Transformación\n",
        "\n",
        "📊 Carga y análisis\n",
        "\n",
        "📄Informe final \n",
        "y esto es una pequeña parte del archivo TelecomX_Data.json que tengo para relizar el dasafio: [{\"customerID\":\"0002-ORFBO\",\"Churn\":\"No\",\"customer\":{\"gender\":\"Female\",\"SeniorCitizen\":0,\"Partner\":\"Yes\",\"Dependents\":\"Yes\",\"tenure\":9},\"phone\":{\"PhoneService\":\"Yes\",\"MultipleLines\":\"No\"},\"internet\":{\"InternetService\":\"DSL\",\"OnlineSecurity\":\"No\",\"OnlineBackup\":\"Yes\",\"DeviceProtection\":\"No\",\"TechSupport\":\"Yes\",\"StreamingTV\":\"Yes\",\"StreamingMovies\":\"No\"},\"account\":{\"Contract\":\"One year\",\"PaperlessBilling\":\"Yes\",\"PaymentMethod\":\"Mailed check\",\"Charges\":{\"Monthly\":65.6,\"Total\":\"593.3\"}}},{\"customerID\":\"0003-MKNFE\",\"Churn\":\"No\",\"customer\":{\"gender\":\"Male\",\"SeniorCitizen\":0,\"Partner\":\"No\",\"Dependents\":\"No\",\"tenure\":9},\"phone\":{\"PhoneService\":\"Yes\",\"MultipleLines\":\"Yes\"},\"internet\":{\"InternetService\":\"DSL\", Vayamos paso a paso , primero con la extraccion, te voy pasando la salidas y luego seguimos con la transformacion ,carga y analisis y asi sucesivamente . Te dejo el diccionario: #### Diccionario de datos\n",
        "\n",
        "- `customerID`: número de identificación único de cada cliente\n",
        "\n",
        "- `Churn`: si el cliente dejó o no la empresa\n",
        "\n",
        "- `gender`: género (masculino y femenino)\n",
        "\n",
        "- `SeniorCitizen`: información sobre si un cliente tiene o no una edad igual o mayor a 65 años\n",
        "\n",
        "- `Partner`: si el cliente tiene o no una pareja\n",
        "\n",
        "- `Dependents`: si el cliente tiene o no dependientes\n",
        "\n",
        "- `tenure`: meses de contrato del cliente\n",
        "\n",
        "- `PhoneService`: suscripción al servicio telefónico\n",
        "\n",
        "- `MultipleLines`: suscripción a más de una línea telefónica\n",
        "\n",
        "- `InternetService`: suscripción a un proveedor de internet\n",
        "\n",
        "- `OnlineSecurity`: suscripción adicional de seguridad en línea\n",
        "\n",
        "- `OnlineBackup`: suscripción adicional de respaldo en línea\n",
        "\n",
        "- `DeviceProtection`: suscripción adicional de protección del dispositivo\n",
        "\n",
        "- `TechSupport`: suscripción adicional de soporte técnico, menor tiempo de espera\n",
        "\n",
        "- `StreamingTV`: suscripción de televisión por cable\n",
        "\n",
        "- `StreamingMovies`: suscripción de streaming de películas\n",
        "\n",
        "- `Contract`: tipo de contrato\n",
        "\n",
        "- `PaperlessBilling`: si el cliente prefiere recibir la factura en línea\n",
        "\n",
        "- `PaymentMethod`: forma de pago\n",
        "\n",
        "- `Charges.Monthly`: total de todos los servicios del cliente por mes\n",
        "\n",
        "- `Charges.Total`: total gastado por el cliente"
      ]
    },
    {
      "cell_type": "markdown",
      "metadata": {
        "id": "4foVEKhrlqcH"
      },
      "source": [
        "#📌 Extracción"
      ]
    },
    {
      "cell_type": "code",
      "execution_count": 4,
      "metadata": {
        "id": "1--uPM88l7JH"
      },
      "outputs": [
        {
          "name": "stdout",
          "output_type": "stream",
          "text": [
            "   customerID Churn                                           customer  \\\n",
            "0  0002-ORFBO    No  {'gender': 'Female', 'SeniorCitizen': 0, 'Part...   \n",
            "1  0003-MKNFE    No  {'gender': 'Male', 'SeniorCitizen': 0, 'Partne...   \n",
            "2  0004-TLHLJ   Yes  {'gender': 'Male', 'SeniorCitizen': 0, 'Partne...   \n",
            "3  0011-IGKFF   Yes  {'gender': 'Male', 'SeniorCitizen': 1, 'Partne...   \n",
            "4  0013-EXCHZ   Yes  {'gender': 'Female', 'SeniorCitizen': 1, 'Part...   \n",
            "\n",
            "                                             phone  \\\n",
            "0   {'PhoneService': 'Yes', 'MultipleLines': 'No'}   \n",
            "1  {'PhoneService': 'Yes', 'MultipleLines': 'Yes'}   \n",
            "2   {'PhoneService': 'Yes', 'MultipleLines': 'No'}   \n",
            "3   {'PhoneService': 'Yes', 'MultipleLines': 'No'}   \n",
            "4   {'PhoneService': 'Yes', 'MultipleLines': 'No'}   \n",
            "\n",
            "                                            internet  \\\n",
            "0  {'InternetService': 'DSL', 'OnlineSecurity': '...   \n",
            "1  {'InternetService': 'DSL', 'OnlineSecurity': '...   \n",
            "2  {'InternetService': 'Fiber optic', 'OnlineSecu...   \n",
            "3  {'InternetService': 'Fiber optic', 'OnlineSecu...   \n",
            "4  {'InternetService': 'Fiber optic', 'OnlineSecu...   \n",
            "\n",
            "                                             account  \n",
            "0  {'Contract': 'One year', 'PaperlessBilling': '...  \n",
            "1  {'Contract': 'Month-to-month', 'PaperlessBilli...  \n",
            "2  {'Contract': 'Month-to-month', 'PaperlessBilli...  \n",
            "3  {'Contract': 'Month-to-month', 'PaperlessBilli...  \n",
            "4  {'Contract': 'Month-to-month', 'PaperlessBilli...  \n"
          ]
        }
      ],
      "source": [
        "import pandas as pd\n",
        "import json\n",
        "\n",
        "# Especifica la ruta a tu archivo JSON\n",
        "ruta_archivo = '../data/TelecomX_Data.json'\n",
        "\n",
        "# Abre el archivo JSON y carga los datos\n",
        "with open(ruta_archivo, 'r') as f:\n",
        "    data = json.load(f)\n",
        "\n",
        "# Como el JSON que mostraste parece ser una lista de diccionarios,\n",
        "# podemos directamente crear un DataFrame a partir de esa lista.\n",
        "df = pd.DataFrame(data)\n",
        "\n",
        "# Vamos a ver las primeras filas del DataFrame para verificar la extracción\n",
        "print(df.head())"
      ]
    },
    {
      "cell_type": "markdown",
      "metadata": {},
      "source": [
        "Antes de aplanar los diccionarios, una práctica común en la Transformación es echar un vistazo a la información general del DataFrame para entender mejor su estructura y los tipos de datos de cada columna. Esto nos puede dar pistas sobre posibles problemas o la necesidad de realizar alguna conversión antes de continuar.\n",
        "\n",
        "Podríamos usar el método .info() de Pandas para obtener un resumen del DataFrame. ¿Te parece si hacemos eso primero? Así tendremos una visión general antes de meternos con los diccionarios anidados."
      ]
    },
    {
      "cell_type": "code",
      "execution_count": 5,
      "metadata": {},
      "outputs": [
        {
          "name": "stdout",
          "output_type": "stream",
          "text": [
            "<class 'pandas.core.frame.DataFrame'>\n",
            "RangeIndex: 7267 entries, 0 to 7266\n",
            "Data columns (total 6 columns):\n",
            " #   Column      Non-Null Count  Dtype \n",
            "---  ------      --------------  ----- \n",
            " 0   customerID  7267 non-null   object\n",
            " 1   Churn       7267 non-null   object\n",
            " 2   customer    7267 non-null   object\n",
            " 3   phone       7267 non-null   object\n",
            " 4   internet    7267 non-null   object\n",
            " 5   account     7267 non-null   object\n",
            "dtypes: object(6)\n",
            "memory usage: 340.8+ KB\n"
          ]
        }
      ],
      "source": [
        "df.info()"
      ]
    },
    {
      "cell_type": "markdown",
      "metadata": {},
      "source": [
        "¡Gracias por la salida!\n",
        "\n",
        "Como vemos, todas las columnas tienen el tipo de dato 'object', lo cual es esperado ya que cargamos datos desde un JSON. También vemos que no hay valores nulos en ninguna de las columnas (Non-Null Count es igual al RangeIndex).\n",
        "\n",
        "Ahora sí, podemos proceder con la transformación de las columnas que contienen diccionarios anidados. Empecemos por la columna customer.\n",
        "\n",
        "Para extraer la información del diccionario en la columna 'customer' y convertirla en columnas separadas, podemos usar el método .apply(pd.Series)."
      ]
    },
    {
      "cell_type": "markdown",
      "metadata": {
        "id": "1lSZP8zmmGZu"
      },
      "source": [
        "#🔧 Transformación"
      ]
    },
    {
      "cell_type": "code",
      "execution_count": 6,
      "metadata": {
        "id": "bsm-WTLjmHvt"
      },
      "outputs": [
        {
          "name": "stdout",
          "output_type": "stream",
          "text": [
            "   gender  SeniorCitizen Partner Dependents  tenure\n",
            "0  Female              0     Yes        Yes       9\n",
            "1    Male              0      No         No       9\n",
            "2    Male              0      No         No       4\n",
            "3    Male              1     Yes         No      13\n",
            "4  Female              1     Yes         No       3\n"
          ]
        }
      ],
      "source": [
        "df_customer = df['customer'].apply(pd.Series)\n",
        "print(df_customer.head())"
      ]
    },
    {
      "cell_type": "markdown",
      "metadata": {},
      "source": [
        "¡Exactamente! Esto ya es parte de la Transformación. Estamos tomando la información que estaba contenida dentro de la columna 'customer' (que era un diccionario para cada fila) y la estamos expandiendo a nuevas columnas en un formato más fácil de analizar.\n",
        "\n",
        "Una vez que tengamos este DataFrame df_customer, lo uniremos al DataFrame principal df y probablemente eliminaremos la columna original 'customer' para evitar redundancia.\n",
        "\n",
        "¿Viste la salida de df_customer.head()? Si la tienes, podemos continuar con la unión de los DataFrames."
      ]
    },
    {
      "cell_type": "markdown",
      "metadata": {},
      "source": [
        "¡Perfecto! Ahora tenemos la información del cliente en un DataFrame separado (df_customer). El siguiente paso es unir este DataFrame con el DataFrame principal (df) y luego eliminar la columna original 'customer' ya que la información ahora estará en columnas separadas."
      ]
    },
    {
      "cell_type": "code",
      "execution_count": 7,
      "metadata": {
        "id": "1jgUnLqTmPdd"
      },
      "outputs": [
        {
          "name": "stdout",
          "output_type": "stream",
          "text": [
            "   customerID Churn                                            phone  \\\n",
            "0  0002-ORFBO    No   {'PhoneService': 'Yes', 'MultipleLines': 'No'}   \n",
            "1  0003-MKNFE    No  {'PhoneService': 'Yes', 'MultipleLines': 'Yes'}   \n",
            "2  0004-TLHLJ   Yes   {'PhoneService': 'Yes', 'MultipleLines': 'No'}   \n",
            "3  0011-IGKFF   Yes   {'PhoneService': 'Yes', 'MultipleLines': 'No'}   \n",
            "4  0013-EXCHZ   Yes   {'PhoneService': 'Yes', 'MultipleLines': 'No'}   \n",
            "\n",
            "                                            internet  \\\n",
            "0  {'InternetService': 'DSL', 'OnlineSecurity': '...   \n",
            "1  {'InternetService': 'DSL', 'OnlineSecurity': '...   \n",
            "2  {'InternetService': 'Fiber optic', 'OnlineSecu...   \n",
            "3  {'InternetService': 'Fiber optic', 'OnlineSecu...   \n",
            "4  {'InternetService': 'Fiber optic', 'OnlineSecu...   \n",
            "\n",
            "                                             account  gender  SeniorCitizen  \\\n",
            "0  {'Contract': 'One year', 'PaperlessBilling': '...  Female              0   \n",
            "1  {'Contract': 'Month-to-month', 'PaperlessBilli...    Male              0   \n",
            "2  {'Contract': 'Month-to-month', 'PaperlessBilli...    Male              0   \n",
            "3  {'Contract': 'Month-to-month', 'PaperlessBilli...    Male              1   \n",
            "4  {'Contract': 'Month-to-month', 'PaperlessBilli...  Female              1   \n",
            "\n",
            "  Partner Dependents  tenure  \n",
            "0     Yes        Yes       9  \n",
            "1      No         No       9  \n",
            "2      No         No       4  \n",
            "3     Yes         No      13  \n",
            "4     Yes         No       3  \n"
          ]
        }
      ],
      "source": [
        "# Unir df con df_customer usando el índice como clave\n",
        "df = pd.concat([df, df_customer], axis=1)\n",
        "\n",
        "# Eliminar la columna original 'customer'\n",
        "df.drop('customer', axis=1, inplace=True)\n",
        "\n",
        "# Ver las primeras filas del DataFrame resultante\n",
        "print(df.head())"
      ]
    },
    {
      "cell_type": "markdown",
      "metadata": {},
      "source": [
        "¡Excelente! Vemos que las columnas de 'gender', 'SeniorCitizen', 'Partner', 'Dependents' y 'tenure' se han añadido correctamente al DataFrame y la columna 'customer' ha desaparecido.\n",
        "\n",
        "Ahora, el siguiente paso sería hacer lo mismo con las otras columnas que contienen diccionarios: 'phone', 'internet' y 'account'."
      ]
    },
    {
      "cell_type": "markdown",
      "metadata": {},
      "source": [
        "### Procesando la columna 'phone':"
      ]
    },
    {
      "cell_type": "code",
      "execution_count": 8,
      "metadata": {},
      "outputs": [
        {
          "name": "stdout",
          "output_type": "stream",
          "text": [
            "DataFrame después de procesar 'phone':\n",
            "   customerID Churn                                           internet  \\\n",
            "0  0002-ORFBO    No  {'InternetService': 'DSL', 'OnlineSecurity': '...   \n",
            "1  0003-MKNFE    No  {'InternetService': 'DSL', 'OnlineSecurity': '...   \n",
            "2  0004-TLHLJ   Yes  {'InternetService': 'Fiber optic', 'OnlineSecu...   \n",
            "3  0011-IGKFF   Yes  {'InternetService': 'Fiber optic', 'OnlineSecu...   \n",
            "4  0013-EXCHZ   Yes  {'InternetService': 'Fiber optic', 'OnlineSecu...   \n",
            "\n",
            "                                             account  gender  SeniorCitizen  \\\n",
            "0  {'Contract': 'One year', 'PaperlessBilling': '...  Female              0   \n",
            "1  {'Contract': 'Month-to-month', 'PaperlessBilli...    Male              0   \n",
            "2  {'Contract': 'Month-to-month', 'PaperlessBilli...    Male              0   \n",
            "3  {'Contract': 'Month-to-month', 'PaperlessBilli...    Male              1   \n",
            "4  {'Contract': 'Month-to-month', 'PaperlessBilli...  Female              1   \n",
            "\n",
            "  Partner Dependents  tenure PhoneService MultipleLines  \n",
            "0     Yes        Yes       9          Yes            No  \n",
            "1      No         No       9          Yes           Yes  \n",
            "2      No         No       4          Yes            No  \n",
            "3     Yes         No      13          Yes            No  \n",
            "4     Yes         No       3          Yes            No  \n"
          ]
        }
      ],
      "source": [
        "df_phone = df['phone'].apply(pd.Series)\n",
        "df = pd.concat([df, df_phone], axis=1)\n",
        "df.drop('phone', axis=1, inplace=True)\n",
        "print(\"DataFrame después de procesar 'phone':\")\n",
        "print(df.head())"
      ]
    },
    {
      "cell_type": "markdown",
      "metadata": {},
      "source": [
        "### Procesando la columna 'internet':"
      ]
    },
    {
      "cell_type": "code",
      "execution_count": 9,
      "metadata": {},
      "outputs": [
        {
          "name": "stdout",
          "output_type": "stream",
          "text": [
            "\n",
            "DataFrame después de procesar 'internet':\n",
            "   customerID Churn                                            account  \\\n",
            "0  0002-ORFBO    No  {'Contract': 'One year', 'PaperlessBilling': '...   \n",
            "1  0003-MKNFE    No  {'Contract': 'Month-to-month', 'PaperlessBilli...   \n",
            "2  0004-TLHLJ   Yes  {'Contract': 'Month-to-month', 'PaperlessBilli...   \n",
            "3  0011-IGKFF   Yes  {'Contract': 'Month-to-month', 'PaperlessBilli...   \n",
            "4  0013-EXCHZ   Yes  {'Contract': 'Month-to-month', 'PaperlessBilli...   \n",
            "\n",
            "   gender  SeniorCitizen Partner Dependents  tenure PhoneService  \\\n",
            "0  Female              0     Yes        Yes       9          Yes   \n",
            "1    Male              0      No         No       9          Yes   \n",
            "2    Male              0      No         No       4          Yes   \n",
            "3    Male              1     Yes         No      13          Yes   \n",
            "4  Female              1     Yes         No       3          Yes   \n",
            "\n",
            "  MultipleLines InternetService OnlineSecurity OnlineBackup DeviceProtection  \\\n",
            "0            No             DSL             No          Yes               No   \n",
            "1           Yes             DSL             No           No               No   \n",
            "2            No     Fiber optic             No           No              Yes   \n",
            "3            No     Fiber optic             No          Yes              Yes   \n",
            "4            No     Fiber optic             No           No               No   \n",
            "\n",
            "  TechSupport StreamingTV StreamingMovies  \n",
            "0         Yes         Yes              No  \n",
            "1          No          No             Yes  \n",
            "2          No          No              No  \n",
            "3          No         Yes             Yes  \n",
            "4         Yes         Yes              No  \n"
          ]
        }
      ],
      "source": [
        "df_internet = df['internet'].apply(pd.Series)\n",
        "df = pd.concat([df, df_internet], axis=1)\n",
        "df.drop('internet', axis=1, inplace=True)\n",
        "print(\"\\nDataFrame después de procesar 'internet':\")\n",
        "print(df.head())"
      ]
    },
    {
      "cell_type": "markdown",
      "metadata": {},
      "source": [
        "### Procesando la columna 'account':\n",
        "\n",
        "La columna 'account' tiene una subcolumna llamada 'Charges' que también es un diccionario. Vamos a extraer primero el contenido principal de 'account' y luego la información de 'Charges'."
      ]
    },
    {
      "cell_type": "code",
      "execution_count": 10,
      "metadata": {},
      "outputs": [
        {
          "name": "stdout",
          "output_type": "stream",
          "text": [
            "\n",
            "DataFrame después de procesar 'account' y 'Charges':\n",
            "   customerID Churn  gender  SeniorCitizen Partner Dependents  tenure  \\\n",
            "0  0002-ORFBO    No  Female              0     Yes        Yes       9   \n",
            "1  0003-MKNFE    No    Male              0      No         No       9   \n",
            "2  0004-TLHLJ   Yes    Male              0      No         No       4   \n",
            "3  0011-IGKFF   Yes    Male              1     Yes         No      13   \n",
            "4  0013-EXCHZ   Yes  Female              1     Yes         No       3   \n",
            "\n",
            "  PhoneService MultipleLines InternetService  ... OnlineBackup  \\\n",
            "0          Yes            No             DSL  ...          Yes   \n",
            "1          Yes           Yes             DSL  ...           No   \n",
            "2          Yes            No     Fiber optic  ...           No   \n",
            "3          Yes            No     Fiber optic  ...          Yes   \n",
            "4          Yes            No     Fiber optic  ...           No   \n",
            "\n",
            "  DeviceProtection TechSupport StreamingTV StreamingMovies        Contract  \\\n",
            "0               No         Yes         Yes              No        One year   \n",
            "1               No          No          No             Yes  Month-to-month   \n",
            "2              Yes          No          No              No  Month-to-month   \n",
            "3              Yes          No         Yes             Yes  Month-to-month   \n",
            "4               No         Yes         Yes              No  Month-to-month   \n",
            "\n",
            "  PaperlessBilling     PaymentMethod Monthly    Total  \n",
            "0              Yes      Mailed check    65.6    593.3  \n",
            "1               No      Mailed check    59.9    542.4  \n",
            "2              Yes  Electronic check    73.9   280.85  \n",
            "3              Yes  Electronic check    98.0  1237.85  \n",
            "4              Yes      Mailed check    83.9    267.4  \n",
            "\n",
            "[5 rows x 21 columns]\n"
          ]
        }
      ],
      "source": [
        "df_account = df['account'].apply(pd.Series)\n",
        "df = pd.concat([df, df_account], axis=1)\n",
        "df.drop('account', axis=1, inplace=True)\n",
        "\n",
        "# Ahora procesamos la subcolumna 'Charges'\n",
        "df_charges = df['Charges'].apply(pd.Series)\n",
        "df = pd.concat([df, df_charges], axis=1)\n",
        "df.drop('Charges', axis=1, inplace=True)\n",
        "\n",
        "print(\"\\nDataFrame después de procesar 'account' y 'Charges':\")\n",
        "print(df.head())"
      ]
    },
    {
      "cell_type": "markdown",
      "metadata": {},
      "source": [
        "¡Excelente! Parece que hemos aplanado con éxito las columnas 'phone', 'internet' y 'account' (incluyendo 'Charges'). Ahora tenemos muchas más columnas con información detallada sobre cada cliente.\n",
        "\n",
        "El siguiente paso importante en la Transformación suele ser verificar los tipos de datos de las columnas y realizar las conversiones necesarias. Por ejemplo, la columna 'Total' de los cargos probablemente se leyó como texto y deberíamos convertirla a un tipo numérico para poder realizar cálculos.\n",
        "\n",
        "También podríamos echar un vistazo a los valores únicos de algunas columnas categóricas para identificar posibles inconsistencias o errores de entrada.\n",
        "\n",
        "¿Qué te parece si empezamos por revisar los tipos de datos con df.info() nuevamente?"
      ]
    },
    {
      "cell_type": "code",
      "execution_count": 11,
      "metadata": {},
      "outputs": [
        {
          "name": "stdout",
          "output_type": "stream",
          "text": [
            "<class 'pandas.core.frame.DataFrame'>\n",
            "RangeIndex: 7267 entries, 0 to 7266\n",
            "Data columns (total 21 columns):\n",
            " #   Column            Non-Null Count  Dtype  \n",
            "---  ------            --------------  -----  \n",
            " 0   customerID        7267 non-null   object \n",
            " 1   Churn             7267 non-null   object \n",
            " 2   gender            7267 non-null   object \n",
            " 3   SeniorCitizen     7267 non-null   int64  \n",
            " 4   Partner           7267 non-null   object \n",
            " 5   Dependents        7267 non-null   object \n",
            " 6   tenure            7267 non-null   int64  \n",
            " 7   PhoneService      7267 non-null   object \n",
            " 8   MultipleLines     7267 non-null   object \n",
            " 9   InternetService   7267 non-null   object \n",
            " 10  OnlineSecurity    7267 non-null   object \n",
            " 11  OnlineBackup      7267 non-null   object \n",
            " 12  DeviceProtection  7267 non-null   object \n",
            " 13  TechSupport       7267 non-null   object \n",
            " 14  StreamingTV       7267 non-null   object \n",
            " 15  StreamingMovies   7267 non-null   object \n",
            " 16  Contract          7267 non-null   object \n",
            " 17  PaperlessBilling  7267 non-null   object \n",
            " 18  PaymentMethod     7267 non-null   object \n",
            " 19  Monthly           7267 non-null   float64\n",
            " 20  Total             7267 non-null   object \n",
            "dtypes: float64(1), int64(2), object(18)\n",
            "memory usage: 1.2+ MB\n"
          ]
        }
      ],
      "source": [
        "df.info()"
      ]
    },
    {
      "cell_type": "markdown",
      "metadata": {},
      "source": [
        "¡Gracias! Vemos que la mayoría de las columnas son de tipo 'object'. Las columnas 'SeniorCitizen' y 'tenure' son int64, y 'Monthly' es float64, lo cual parece correcto.\n",
        "\n",
        "La columna que definitivamente necesita transformación es 'Total', que debería ser numérica pero se detecta como 'object'. Esto suele ocurrir cuando hay valores no numéricos en la columna.\n",
        "\n",
        "Vamos a intentar convertir la columna 'Total' a numérico. Si hay algún valor que no se pueda convertir, Pandas generará un error, y tendremos que investigar esos valores."
      ]
    },
    {
      "cell_type": "code",
      "execution_count": 12,
      "metadata": {},
      "outputs": [
        {
          "name": "stdout",
          "output_type": "stream",
          "text": [
            "float64\n"
          ]
        }
      ],
      "source": [
        "df['Total'] = pd.to_numeric(df['Total'], errors='coerce')\n",
        "print(df['Total'].dtype)"
      ]
    },
    {
      "cell_type": "markdown",
      "metadata": {},
      "source": [
        "¡Excelente! El tipo de dato de la columna 'Total' ahora es float64, lo que significa que la conversión a numérico fue exitosa (o al menos, los valores problemáticos se convirtieron a NaN).\n",
        "\n",
        "Ahora sería bueno verificar si se introdujeron valores NaN durante esta conversión. Podemos hacerlo sumando la cantidad de valores nulos en la columna 'Total':"
      ]
    },
    {
      "cell_type": "code",
      "execution_count": 13,
      "metadata": {},
      "outputs": [
        {
          "name": "stdout",
          "output_type": "stream",
          "text": [
            "11\n"
          ]
        }
      ],
      "source": [
        "print(df['Total'].isnull().sum())"
      ]
    },
    {
      "cell_type": "markdown",
      "metadata": {},
      "source": [
        "De acuerdo, hay 11 valores nulos en la columna 'Total'. Esto sugiere que había 11 filas con valores no numéricos en esa columna que fueron convertidos a NaN.\n",
        "\n",
        "Para entender mejor estos casos, podríamos inspeccionar las filas donde 'Total' es nulo."
      ]
    },
    {
      "cell_type": "code",
      "execution_count": 14,
      "metadata": {},
      "outputs": [
        {
          "data": {
            "text/html": [
              "<div>\n",
              "<style scoped>\n",
              "    .dataframe tbody tr th:only-of-type {\n",
              "        vertical-align: middle;\n",
              "    }\n",
              "\n",
              "    .dataframe tbody tr th {\n",
              "        vertical-align: top;\n",
              "    }\n",
              "\n",
              "    .dataframe thead th {\n",
              "        text-align: right;\n",
              "    }\n",
              "</style>\n",
              "<table border=\"1\" class=\"dataframe\">\n",
              "  <thead>\n",
              "    <tr style=\"text-align: right;\">\n",
              "      <th></th>\n",
              "      <th>customerID</th>\n",
              "      <th>Churn</th>\n",
              "      <th>gender</th>\n",
              "      <th>SeniorCitizen</th>\n",
              "      <th>Partner</th>\n",
              "      <th>Dependents</th>\n",
              "      <th>tenure</th>\n",
              "      <th>PhoneService</th>\n",
              "      <th>MultipleLines</th>\n",
              "      <th>InternetService</th>\n",
              "      <th>...</th>\n",
              "      <th>OnlineBackup</th>\n",
              "      <th>DeviceProtection</th>\n",
              "      <th>TechSupport</th>\n",
              "      <th>StreamingTV</th>\n",
              "      <th>StreamingMovies</th>\n",
              "      <th>Contract</th>\n",
              "      <th>PaperlessBilling</th>\n",
              "      <th>PaymentMethod</th>\n",
              "      <th>Monthly</th>\n",
              "      <th>Total</th>\n",
              "    </tr>\n",
              "  </thead>\n",
              "  <tbody>\n",
              "    <tr>\n",
              "      <th>975</th>\n",
              "      <td>1371-DWPAZ</td>\n",
              "      <td>No</td>\n",
              "      <td>Female</td>\n",
              "      <td>0</td>\n",
              "      <td>Yes</td>\n",
              "      <td>Yes</td>\n",
              "      <td>0</td>\n",
              "      <td>No</td>\n",
              "      <td>No phone service</td>\n",
              "      <td>DSL</td>\n",
              "      <td>...</td>\n",
              "      <td>Yes</td>\n",
              "      <td>Yes</td>\n",
              "      <td>Yes</td>\n",
              "      <td>Yes</td>\n",
              "      <td>No</td>\n",
              "      <td>Two year</td>\n",
              "      <td>No</td>\n",
              "      <td>Credit card (automatic)</td>\n",
              "      <td>56.05</td>\n",
              "      <td>NaN</td>\n",
              "    </tr>\n",
              "    <tr>\n",
              "      <th>1775</th>\n",
              "      <td>2520-SGTTA</td>\n",
              "      <td>No</td>\n",
              "      <td>Female</td>\n",
              "      <td>0</td>\n",
              "      <td>Yes</td>\n",
              "      <td>Yes</td>\n",
              "      <td>0</td>\n",
              "      <td>Yes</td>\n",
              "      <td>No</td>\n",
              "      <td>No</td>\n",
              "      <td>...</td>\n",
              "      <td>No internet service</td>\n",
              "      <td>No internet service</td>\n",
              "      <td>No internet service</td>\n",
              "      <td>No internet service</td>\n",
              "      <td>No internet service</td>\n",
              "      <td>Two year</td>\n",
              "      <td>No</td>\n",
              "      <td>Mailed check</td>\n",
              "      <td>20.00</td>\n",
              "      <td>NaN</td>\n",
              "    </tr>\n",
              "    <tr>\n",
              "      <th>1955</th>\n",
              "      <td>2775-SEFEE</td>\n",
              "      <td>No</td>\n",
              "      <td>Male</td>\n",
              "      <td>0</td>\n",
              "      <td>No</td>\n",
              "      <td>Yes</td>\n",
              "      <td>0</td>\n",
              "      <td>Yes</td>\n",
              "      <td>Yes</td>\n",
              "      <td>DSL</td>\n",
              "      <td>...</td>\n",
              "      <td>Yes</td>\n",
              "      <td>No</td>\n",
              "      <td>Yes</td>\n",
              "      <td>No</td>\n",
              "      <td>No</td>\n",
              "      <td>Two year</td>\n",
              "      <td>Yes</td>\n",
              "      <td>Bank transfer (automatic)</td>\n",
              "      <td>61.90</td>\n",
              "      <td>NaN</td>\n",
              "    </tr>\n",
              "    <tr>\n",
              "      <th>2075</th>\n",
              "      <td>2923-ARZLG</td>\n",
              "      <td>No</td>\n",
              "      <td>Male</td>\n",
              "      <td>0</td>\n",
              "      <td>Yes</td>\n",
              "      <td>Yes</td>\n",
              "      <td>0</td>\n",
              "      <td>Yes</td>\n",
              "      <td>No</td>\n",
              "      <td>No</td>\n",
              "      <td>...</td>\n",
              "      <td>No internet service</td>\n",
              "      <td>No internet service</td>\n",
              "      <td>No internet service</td>\n",
              "      <td>No internet service</td>\n",
              "      <td>No internet service</td>\n",
              "      <td>One year</td>\n",
              "      <td>Yes</td>\n",
              "      <td>Mailed check</td>\n",
              "      <td>19.70</td>\n",
              "      <td>NaN</td>\n",
              "    </tr>\n",
              "    <tr>\n",
              "      <th>2232</th>\n",
              "      <td>3115-CZMZD</td>\n",
              "      <td>No</td>\n",
              "      <td>Male</td>\n",
              "      <td>0</td>\n",
              "      <td>No</td>\n",
              "      <td>Yes</td>\n",
              "      <td>0</td>\n",
              "      <td>Yes</td>\n",
              "      <td>No</td>\n",
              "      <td>No</td>\n",
              "      <td>...</td>\n",
              "      <td>No internet service</td>\n",
              "      <td>No internet service</td>\n",
              "      <td>No internet service</td>\n",
              "      <td>No internet service</td>\n",
              "      <td>No internet service</td>\n",
              "      <td>Two year</td>\n",
              "      <td>No</td>\n",
              "      <td>Mailed check</td>\n",
              "      <td>20.25</td>\n",
              "      <td>NaN</td>\n",
              "    </tr>\n",
              "    <tr>\n",
              "      <th>2308</th>\n",
              "      <td>3213-VVOLG</td>\n",
              "      <td>No</td>\n",
              "      <td>Male</td>\n",
              "      <td>0</td>\n",
              "      <td>Yes</td>\n",
              "      <td>Yes</td>\n",
              "      <td>0</td>\n",
              "      <td>Yes</td>\n",
              "      <td>Yes</td>\n",
              "      <td>No</td>\n",
              "      <td>...</td>\n",
              "      <td>No internet service</td>\n",
              "      <td>No internet service</td>\n",
              "      <td>No internet service</td>\n",
              "      <td>No internet service</td>\n",
              "      <td>No internet service</td>\n",
              "      <td>Two year</td>\n",
              "      <td>No</td>\n",
              "      <td>Mailed check</td>\n",
              "      <td>25.35</td>\n",
              "      <td>NaN</td>\n",
              "    </tr>\n",
              "    <tr>\n",
              "      <th>2930</th>\n",
              "      <td>4075-WKNIU</td>\n",
              "      <td>No</td>\n",
              "      <td>Female</td>\n",
              "      <td>0</td>\n",
              "      <td>Yes</td>\n",
              "      <td>Yes</td>\n",
              "      <td>0</td>\n",
              "      <td>Yes</td>\n",
              "      <td>Yes</td>\n",
              "      <td>DSL</td>\n",
              "      <td>...</td>\n",
              "      <td>Yes</td>\n",
              "      <td>Yes</td>\n",
              "      <td>Yes</td>\n",
              "      <td>Yes</td>\n",
              "      <td>No</td>\n",
              "      <td>Two year</td>\n",
              "      <td>No</td>\n",
              "      <td>Mailed check</td>\n",
              "      <td>73.35</td>\n",
              "      <td>NaN</td>\n",
              "    </tr>\n",
              "    <tr>\n",
              "      <th>3134</th>\n",
              "      <td>4367-NUYAO</td>\n",
              "      <td>No</td>\n",
              "      <td>Male</td>\n",
              "      <td>0</td>\n",
              "      <td>Yes</td>\n",
              "      <td>Yes</td>\n",
              "      <td>0</td>\n",
              "      <td>Yes</td>\n",
              "      <td>Yes</td>\n",
              "      <td>No</td>\n",
              "      <td>...</td>\n",
              "      <td>No internet service</td>\n",
              "      <td>No internet service</td>\n",
              "      <td>No internet service</td>\n",
              "      <td>No internet service</td>\n",
              "      <td>No internet service</td>\n",
              "      <td>Two year</td>\n",
              "      <td>No</td>\n",
              "      <td>Mailed check</td>\n",
              "      <td>25.75</td>\n",
              "      <td>NaN</td>\n",
              "    </tr>\n",
              "    <tr>\n",
              "      <th>3203</th>\n",
              "      <td>4472-LVYGI</td>\n",
              "      <td>No</td>\n",
              "      <td>Female</td>\n",
              "      <td>0</td>\n",
              "      <td>Yes</td>\n",
              "      <td>Yes</td>\n",
              "      <td>0</td>\n",
              "      <td>No</td>\n",
              "      <td>No phone service</td>\n",
              "      <td>DSL</td>\n",
              "      <td>...</td>\n",
              "      <td>No</td>\n",
              "      <td>Yes</td>\n",
              "      <td>Yes</td>\n",
              "      <td>Yes</td>\n",
              "      <td>No</td>\n",
              "      <td>Two year</td>\n",
              "      <td>Yes</td>\n",
              "      <td>Bank transfer (automatic)</td>\n",
              "      <td>52.55</td>\n",
              "      <td>NaN</td>\n",
              "    </tr>\n",
              "    <tr>\n",
              "      <th>4169</th>\n",
              "      <td>5709-LVOEQ</td>\n",
              "      <td>No</td>\n",
              "      <td>Female</td>\n",
              "      <td>0</td>\n",
              "      <td>Yes</td>\n",
              "      <td>Yes</td>\n",
              "      <td>0</td>\n",
              "      <td>Yes</td>\n",
              "      <td>No</td>\n",
              "      <td>DSL</td>\n",
              "      <td>...</td>\n",
              "      <td>Yes</td>\n",
              "      <td>Yes</td>\n",
              "      <td>No</td>\n",
              "      <td>Yes</td>\n",
              "      <td>Yes</td>\n",
              "      <td>Two year</td>\n",
              "      <td>No</td>\n",
              "      <td>Mailed check</td>\n",
              "      <td>80.85</td>\n",
              "      <td>NaN</td>\n",
              "    </tr>\n",
              "    <tr>\n",
              "      <th>5599</th>\n",
              "      <td>7644-OMVMY</td>\n",
              "      <td>No</td>\n",
              "      <td>Male</td>\n",
              "      <td>0</td>\n",
              "      <td>Yes</td>\n",
              "      <td>Yes</td>\n",
              "      <td>0</td>\n",
              "      <td>Yes</td>\n",
              "      <td>No</td>\n",
              "      <td>No</td>\n",
              "      <td>...</td>\n",
              "      <td>No internet service</td>\n",
              "      <td>No internet service</td>\n",
              "      <td>No internet service</td>\n",
              "      <td>No internet service</td>\n",
              "      <td>No internet service</td>\n",
              "      <td>Two year</td>\n",
              "      <td>No</td>\n",
              "      <td>Mailed check</td>\n",
              "      <td>19.85</td>\n",
              "      <td>NaN</td>\n",
              "    </tr>\n",
              "  </tbody>\n",
              "</table>\n",
              "<p>11 rows × 21 columns</p>\n",
              "</div>"
            ],
            "text/plain": [
              "      customerID Churn  gender  SeniorCitizen Partner Dependents  tenure  \\\n",
              "975   1371-DWPAZ    No  Female              0     Yes        Yes       0   \n",
              "1775  2520-SGTTA    No  Female              0     Yes        Yes       0   \n",
              "1955  2775-SEFEE    No    Male              0      No        Yes       0   \n",
              "2075  2923-ARZLG    No    Male              0     Yes        Yes       0   \n",
              "2232  3115-CZMZD    No    Male              0      No        Yes       0   \n",
              "2308  3213-VVOLG    No    Male              0     Yes        Yes       0   \n",
              "2930  4075-WKNIU    No  Female              0     Yes        Yes       0   \n",
              "3134  4367-NUYAO    No    Male              0     Yes        Yes       0   \n",
              "3203  4472-LVYGI    No  Female              0     Yes        Yes       0   \n",
              "4169  5709-LVOEQ    No  Female              0     Yes        Yes       0   \n",
              "5599  7644-OMVMY    No    Male              0     Yes        Yes       0   \n",
              "\n",
              "     PhoneService     MultipleLines InternetService  ...         OnlineBackup  \\\n",
              "975            No  No phone service             DSL  ...                  Yes   \n",
              "1775          Yes                No              No  ...  No internet service   \n",
              "1955          Yes               Yes             DSL  ...                  Yes   \n",
              "2075          Yes                No              No  ...  No internet service   \n",
              "2232          Yes                No              No  ...  No internet service   \n",
              "2308          Yes               Yes              No  ...  No internet service   \n",
              "2930          Yes               Yes             DSL  ...                  Yes   \n",
              "3134          Yes               Yes              No  ...  No internet service   \n",
              "3203           No  No phone service             DSL  ...                   No   \n",
              "4169          Yes                No             DSL  ...                  Yes   \n",
              "5599          Yes                No              No  ...  No internet service   \n",
              "\n",
              "         DeviceProtection          TechSupport          StreamingTV  \\\n",
              "975                   Yes                  Yes                  Yes   \n",
              "1775  No internet service  No internet service  No internet service   \n",
              "1955                   No                  Yes                   No   \n",
              "2075  No internet service  No internet service  No internet service   \n",
              "2232  No internet service  No internet service  No internet service   \n",
              "2308  No internet service  No internet service  No internet service   \n",
              "2930                  Yes                  Yes                  Yes   \n",
              "3134  No internet service  No internet service  No internet service   \n",
              "3203                  Yes                  Yes                  Yes   \n",
              "4169                  Yes                   No                  Yes   \n",
              "5599  No internet service  No internet service  No internet service   \n",
              "\n",
              "          StreamingMovies  Contract PaperlessBilling  \\\n",
              "975                    No  Two year               No   \n",
              "1775  No internet service  Two year               No   \n",
              "1955                   No  Two year              Yes   \n",
              "2075  No internet service  One year              Yes   \n",
              "2232  No internet service  Two year               No   \n",
              "2308  No internet service  Two year               No   \n",
              "2930                   No  Two year               No   \n",
              "3134  No internet service  Two year               No   \n",
              "3203                   No  Two year              Yes   \n",
              "4169                  Yes  Two year               No   \n",
              "5599  No internet service  Two year               No   \n",
              "\n",
              "                  PaymentMethod Monthly  Total  \n",
              "975     Credit card (automatic)   56.05    NaN  \n",
              "1775               Mailed check   20.00    NaN  \n",
              "1955  Bank transfer (automatic)   61.90    NaN  \n",
              "2075               Mailed check   19.70    NaN  \n",
              "2232               Mailed check   20.25    NaN  \n",
              "2308               Mailed check   25.35    NaN  \n",
              "2930               Mailed check   73.35    NaN  \n",
              "3134               Mailed check   25.75    NaN  \n",
              "3203  Bank transfer (automatic)   52.55    NaN  \n",
              "4169               Mailed check   80.85    NaN  \n",
              "5599               Mailed check   19.85    NaN  \n",
              "\n",
              "[11 rows x 21 columns]"
            ]
          },
          "execution_count": 14,
          "metadata": {},
          "output_type": "execute_result"
        }
      ],
      "source": [
        "df[df['Total'].isnull()]"
      ]
    },
    {
      "cell_type": "markdown",
      "metadata": {},
      "source": [
        "¡Gracias! Al observar estas filas donde 'Total' es NaN, notamos algo en común: la columna 'tenure' es 0 para todas ellas.\n",
        "\n",
        "Esto sugiere que estos clientes tienen un contrato de cero meses. Si un cliente tiene un contrato de cero meses, es lógico que el cargo total sea también cero o nulo.\n",
        "\n",
        "Podríamos imputar estos valores NaN en la columna 'Total' con 0, ya que parece la interpretación más coherente para los clientes con una antigüedad de 0 meses.\n",
        "\n",
        "Ejecuta el siguiente código para reemplazar los NaN en 'Total' donde 'tenure' es 0:"
      ]
    },
    {
      "cell_type": "code",
      "execution_count": 15,
      "metadata": {},
      "outputs": [],
      "source": [
        "df.loc[df['tenure'] == 0, 'Total'] = 0"
      ]
    },
    {
      "cell_type": "markdown",
      "metadata": {},
      "source": [
        "Después de esto, vamos a verificar nuevamente la cantidad de valores nulos en 'Total':"
      ]
    },
    {
      "cell_type": "code",
      "execution_count": 16,
      "metadata": {},
      "outputs": [
        {
          "name": "stdout",
          "output_type": "stream",
          "text": [
            "0\n"
          ]
        }
      ],
      "source": [
        "print(df['Total'].isnull().sum())"
      ]
    },
    {
      "cell_type": "markdown",
      "metadata": {},
      "source": [
        "¡Excelente! La cantidad de valores nulos en la columna 'Total' ahora es 0. Esto significa que hemos manejado con éxito los casos donde la antigüedad era cero y el total era NaN.\n",
        "\n",
        "En este punto de la Transformación, hemos:\n",
        "\n",
        "Aplanado las columnas anidadas ('customer', 'phone', 'internet', 'account' y 'Charges').\n",
        "Convertido la columna 'Total' a un tipo numérico y manejado los valores nulos basados en la columna 'tenure'.\n",
        "¿Qué te parece si ahora pasamos a la siguiente etapa: Carga y Análisis? En esta fase, podríamos empezar a explorar los datos limpios para buscar patrones o tendencias relevantes para la evasión de clientes (Churn)."
      ]
    },
    {
      "cell_type": "markdown",
      "metadata": {},
      "source": [
        "#📊 Carga y análisis"
      ]
    },
    {
      "cell_type": "markdown",
      "metadata": {
        "id": "v-WzfSvTmaw9"
      },
      "source": [
        "#📄Informe final"
      ]
    },
    {
      "cell_type": "code",
      "execution_count": null,
      "metadata": {
        "id": "XMTac0YJmeK9"
      },
      "outputs": [],
      "source": []
    }
  ],
  "metadata": {
    "colab": {
      "provenance": []
    },
    "kernelspec": {
      "display_name": "api-env",
      "language": "python",
      "name": "python3"
    },
    "language_info": {
      "codemirror_mode": {
        "name": "ipython",
        "version": 3
      },
      "file_extension": ".py",
      "mimetype": "text/x-python",
      "name": "python",
      "nbconvert_exporter": "python",
      "pygments_lexer": "ipython3",
      "version": "3.10.13"
    }
  },
  "nbformat": 4,
  "nbformat_minor": 0
}
