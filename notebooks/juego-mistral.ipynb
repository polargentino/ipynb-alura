{
 "cells": [
  {
   "cell_type": "code",
   "execution_count": null,
   "id": "1991811a",
   "metadata": {},
   "outputs": [],
   "source": [
    "!pip install ipywidgets\n"
   ]
  },
  {
   "cell_type": "code",
   "execution_count": null,
   "id": "f656118b",
   "metadata": {},
   "outputs": [],
   "source": [
    "!pip show ipywidgets\n"
   ]
  },
  {
   "cell_type": "code",
   "execution_count": 3,
   "id": "527fdd22",
   "metadata": {},
   "outputs": [
    {
     "data": {
      "application/vnd.jupyter.widget-view+json": {
       "model_id": "cae579746e644455ae8fb27971e7436c",
       "version_major": 2,
       "version_minor": 0
      },
      "text/plain": [
       "Textarea(value='', disabled=True)"
      ]
     },
     "metadata": {},
     "output_type": "display_data"
    },
    {
     "data": {
      "application/vnd.jupyter.widget-view+json": {
       "model_id": "192f5f99ded54c47aa19ccde2b96e6b7",
       "version_major": 2,
       "version_minor": 0
      },
      "text/plain": [
       "Text(value='', description='Tu elección:')"
      ]
     },
     "metadata": {},
     "output_type": "display_data"
    },
    {
     "data": {
      "application/vnd.jupyter.widget-view+json": {
       "model_id": "dedc1da8afa84cc48c00e7878f98b3ab",
       "version_major": 2,
       "version_minor": 0
      },
      "text/plain": [
       "Button(description='Enviar', style=ButtonStyle())"
      ]
     },
     "metadata": {},
     "output_type": "display_data"
    },
    {
     "data": {
      "application/vnd.jupyter.widget-view+json": {
       "model_id": "e5df3f360d0345b8a842f0158512dfbf",
       "version_major": 2,
       "version_minor": 0
      },
      "text/plain": [
       "Output()"
      ]
     },
     "metadata": {},
     "output_type": "display_data"
    }
   ],
   "source": [
    "import ipywidgets as widgets\n",
    "from IPython.display import display, clear_output\n",
    "\n",
    "# Crear widgets para la interfaz\n",
    "output = widgets.Output()\n",
    "story_text = widgets.Textarea(disabled=True)\n",
    "user_input = widgets.Text(description=\"Tu elección:\")\n",
    "button = widgets.Button(description=\"Enviar\")\n",
    "\n",
    "# Mostrar widgets\n",
    "display(story_text, user_input, button, output)\n",
    "\n",
    "# Historia inicial\n",
    "story = [\n",
    "    \"Bienvenido al mundo de Eldoria. Eres un valiente aventurero en busca del legendario Tesoro del Dragón.\",\n",
    "    \"Te encuentras en un bosque oscuro. Hay dos caminos frente a ti: uno a la izquierda y otro a la derecha.\",\n",
    "    \"¿Qué camino eliges? (izquierda/derecha)\"\n",
    "]\n",
    "\n",
    "story_text.value = \"\\n\".join(story)\n",
    "\n",
    "# Función para manejar la entrada del usuario\n",
    "def on_button_click(b):\n",
    "    with output:\n",
    "        clear_output()\n",
    "        user_choice = user_input.value.lower()\n",
    "\n",
    "        if \"izquierda\" in user_choice:\n",
    "            story_text.value = \"Has elegido el camino de la izquierda. Te adentras en el bosque y encuentras un río.\\nHay un puente viejo y un bote. ¿Qué eliges? (puente/bote)\"\n",
    "        elif \"derecha\" in user_choice:\n",
    "            story_text.value = \"Has elegido el camino de la derecha. Llegas a una cueva oscura.\\nHay dos entradas: una arriba y otra abajo. ¿Qué eliges? (arriba/abajo)\"\n",
    "        elif \"puente\" in user_choice:\n",
    "            story_text.value = \"Cruzas el puente y encuentras un cofre con un mapa del tesoro. ¡Ganas!\"\n",
    "        elif \"bote\" in user_choice:\n",
    "            story_text.value = \"Tomas el bote y navegas por el río, pero una tormenta te arrastra. Pierdes.\"\n",
    "        elif \"arriba\" in user_choice:\n",
    "            story_text.value = \"Subes por la entrada de arriba y encuentras al dragón custodiando su tesoro. ¡Pierdes!\"\n",
    "        elif \"abajo\" in user_choice:\n",
    "            story_text.value = \"Bajas por la entrada de abajo y encuentras una salida secreta con el tesoro. ¡Ganas!\"\n",
    "        else:\n",
    "            story_text.value = \"Por favor, elige una opción válida: izquierda, derecha, puente, bote, arriba o abajo.\"\n",
    "\n",
    "button.on_click(on_button_click)\n",
    "\n"
   ]
  },
  {
   "cell_type": "code",
   "execution_count": null,
   "id": "4aa0db99",
   "metadata": {},
   "outputs": [],
   "source": []
  }
 ],
 "metadata": {
  "kernelspec": {
   "display_name": "api-env",
   "language": "python",
   "name": "python3"
  },
  "language_info": {
   "codemirror_mode": {
    "name": "ipython",
    "version": 3
   },
   "file_extension": ".py",
   "mimetype": "text/x-python",
   "name": "python",
   "nbconvert_exporter": "python",
   "pygments_lexer": "ipython3",
   "version": "3.10.13"
  }
 },
 "nbformat": 4,
 "nbformat_minor": 5
}
