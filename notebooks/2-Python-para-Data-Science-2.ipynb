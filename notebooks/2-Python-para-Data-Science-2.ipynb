{
 "cells": [
  {
   "cell_type": "markdown",
   "metadata": {},
   "source": [
    "# Pythonpara data science - 2\n",
    "## Alumno: `Pablo Matías Monsalvo`G8-ONE"
   ]
  },
  {
   "cell_type": "markdown",
   "metadata": {
    "id": "n01_TSQH8ZfL"
   },
   "source": [
    "# 1.1 Instalación e importación de bibliotecas\n",
    "En el lenguaje Python se utiliza bastante el concepto de bibliotecas como un conjunto de módulos y funciones útiles para el usuario. Estas favorecen la reducción del uso de códigos en el proyecto, manteniendo únicamente los recursos necesarios para la tarea que deseamos realizar.\n",
    "\n",
    "Instalando una biblioteca\n",
    "Para instalar o actualizar una biblioteca en Python, podemos acudir a pip que es un gestor de bibliotecas en Python.\n",
    "\n",
    "Existe también PYPI que es un repositorio de bibliotecas Python que contiene las bibliotecas más utilizadas por la comunidad junto a su respectiva documentación.\n",
    "\n",
    "PYPI (https://pypi.org/)"
   ]
  },
  {
   "cell_type": "code",
   "execution_count": 1,
   "metadata": {
    "colab": {
     "base_uri": "https://localhost:8080/"
    },
    "executionInfo": {
     "elapsed": 2925,
     "status": "ok",
     "timestamp": 1748436700677,
     "user": {
      "displayName": "Pol Argentino",
      "userId": "02817779166023488471"
     },
     "user_tz": 180
    },
    "id": "QVnhtTBi8e6A",
    "outputId": "77d22b5e-a857-4839-e0a2-040dbd6e0f04"
   },
   "outputs": [
    {
     "name": "stdout",
     "output_type": "stream",
     "text": [
      "Requirement already satisfied: matplotlib in /home/pol/.pyenv/versions/3.10.13/envs/api-env/lib/python3.10/site-packages (3.10.3)\n",
      "Requirement already satisfied: contourpy>=1.0.1 in /home/pol/.pyenv/versions/3.10.13/envs/api-env/lib/python3.10/site-packages (from matplotlib) (1.3.2)\n",
      "Requirement already satisfied: cycler>=0.10 in /home/pol/.pyenv/versions/3.10.13/envs/api-env/lib/python3.10/site-packages (from matplotlib) (0.12.1)\n",
      "Requirement already satisfied: fonttools>=4.22.0 in /home/pol/.pyenv/versions/3.10.13/envs/api-env/lib/python3.10/site-packages (from matplotlib) (4.58.1)\n",
      "Requirement already satisfied: kiwisolver>=1.3.1 in /home/pol/.pyenv/versions/3.10.13/envs/api-env/lib/python3.10/site-packages (from matplotlib) (1.4.8)\n",
      "Requirement already satisfied: numpy>=1.23 in /home/pol/.pyenv/versions/3.10.13/envs/api-env/lib/python3.10/site-packages (from matplotlib) (2.2.6)\n",
      "Requirement already satisfied: packaging>=20.0 in /home/pol/.pyenv/versions/3.10.13/envs/api-env/lib/python3.10/site-packages (from matplotlib) (25.0)\n",
      "Requirement already satisfied: pillow>=8 in /home/pol/.pyenv/versions/3.10.13/envs/api-env/lib/python3.10/site-packages (from matplotlib) (11.2.1)\n",
      "Requirement already satisfied: pyparsing>=2.3.1 in /home/pol/.pyenv/versions/3.10.13/envs/api-env/lib/python3.10/site-packages (from matplotlib) (3.2.3)\n",
      "Requirement already satisfied: python-dateutil>=2.7 in /home/pol/.pyenv/versions/3.10.13/envs/api-env/lib/python3.10/site-packages (from matplotlib) (2.9.0.post0)\n",
      "Requirement already satisfied: six>=1.5 in /home/pol/.pyenv/versions/3.10.13/envs/api-env/lib/python3.10/site-packages (from python-dateutil>=2.7->matplotlib) (1.17.0)\n",
      "Note: you may need to restart the kernel to use updated packages.\n"
     ]
    }
   ],
   "source": [
    "\n",
    "pip install matplotlib"
   ]
  },
  {
   "cell_type": "code",
   "execution_count": 2,
   "metadata": {
    "colab": {
     "base_uri": "https://localhost:8080/",
     "height": 35
    },
    "executionInfo": {
     "elapsed": 97,
     "status": "ok",
     "timestamp": 1748436761482,
     "user": {
      "displayName": "Pol Argentino",
      "userId": "02817779166023488471"
     },
     "user_tz": 180
    },
    "id": "rznvdql-8pUo",
    "outputId": "5c43e2a4-b4d1-44c5-884e-9a5f78d5c7d6"
   },
   "outputs": [
    {
     "data": {
      "text/plain": [
       "'3.10.3'"
      ]
     },
     "execution_count": 2,
     "metadata": {},
     "output_type": "execute_result"
    }
   ],
   "source": [
    "import matplotlib\n",
    "matplotlib.__version__"
   ]
  },
  {
   "cell_type": "markdown",
   "metadata": {
    "id": "wPEibZ3I9DLF"
   },
   "source": [
    "# Importando una biblioteca"
   ]
  },
  {
   "cell_type": "code",
   "execution_count": 3,
   "metadata": {
    "executionInfo": {
     "elapsed": 91,
     "status": "ok",
     "timestamp": 1748436836276,
     "user": {
      "displayName": "Pol Argentino",
      "userId": "02817779166023488471"
     },
     "user_tz": 180
    },
    "id": "n4EYR72L9GW6"
   },
   "outputs": [],
   "source": [
    "import matplotlib\n"
   ]
  },
  {
   "cell_type": "code",
   "execution_count": 7,
   "metadata": {
    "executionInfo": {
     "elapsed": 16,
     "status": "ok",
     "timestamp": 1748436837206,
     "user": {
      "displayName": "Pol Argentino",
      "userId": "02817779166023488471"
     },
     "user_tz": 180
    },
    "id": "NBqWynqf9Inc"
   },
   "outputs": [],
   "source": [
    "# !pip install matplotlib==3.8.1"
   ]
  },
  {
   "cell_type": "code",
   "execution_count": 4,
   "metadata": {
    "executionInfo": {
     "elapsed": 31,
     "status": "ok",
     "timestamp": 1748436849498,
     "user": {
      "displayName": "Pol Argentino",
      "userId": "02817779166023488471"
     },
     "user_tz": 180
    },
    "id": "8nsEu03T9O6D"
   },
   "outputs": [],
   "source": [
    "import matplotlib.pyplot as plt"
   ]
  },
  {
   "cell_type": "code",
   "execution_count": 5,
   "metadata": {
    "executionInfo": {
     "elapsed": 14,
     "status": "ok",
     "timestamp": 1748436859122,
     "user": {
      "displayName": "Pol Argentino",
      "userId": "02817779166023488471"
     },
     "user_tz": 180
    },
    "id": "dD5eKzal9Req"
   },
   "outputs": [],
   "source": [
    "plt.show()"
   ]
  },
  {
   "cell_type": "markdown",
   "metadata": {},
   "source": [
    "##  04 - Para saber más: Pip y PyPI\n",
    "\n",
    "El PIP es un administrador de paquetes para Python. A través de él, tenemos acceso a las bibliotecas ya instaladas en nuestra aplicación junto con la versión de cada una de ellas. Desde las líneas de comandos, podemos instalar, actualizar y eliminar paquetes de Python. Con pip, podemos instalar fácilmente paquetes de terceros en proyectos de Python.\n",
    "\n",
    "Para acceder a todos los paquetes instalados en nuestro Jupyter Notebook en Colab, podemos escribir el siguiente código:\n",
    "\n",
    "### Imprimir todos los paquetes instalados en el entorno y sus versiones\n",
    "\n",
    "`!pip list`\n",
    "\n",
    "pip funciona conectándose al Python Package Index (PyPI), que es el repositorio centralizado más grande para paquetes de Python con miles de bibliotecas disponibles para la instalación. Podemos buscar en PyPI para encontrar paquetes que satisfagan nuestras necesidades y luego usar pip para instalarlos en nuestros proyectos.\n",
    "\n",
    "PyPI es mantenido por la Python Software Foundation y contiene una amplia variedad de paquetes de Python. En él, se publican paquetes de Python para que otros desarrolladores puedan usarlos. Por lo tanto, pip y PyPI son dos herramientas importantes en Python."
   ]
  },
  {
   "cell_type": "markdown",
   "metadata": {},
   "source": [
    "## 05 - Versiones de las bibliotecas\n",
    "\n",
    "Aprendemos que las bibliotecas tienen versiones. Así que selecciona la alternativa que describe una razón por la cual alguien podría querer instalar una versión específica de una biblioteca y demuestra un ejemplo, con su sintaxis, utilizando el administrador de paquetes pip en el entorno de Google Colab.\n",
    "\n",
    "La instalación de una versión específica de la biblioteca puede deberse a la necesidad de utilizar recursos específicos para proyectos o tareas particulares a ser ejecutadas.\n",
    "\n",
    "`!pip install pandas==1.5.0`\n",
    "\n",
    "\n"
   ]
  },
  {
   "cell_type": "markdown",
   "metadata": {
    "id": "m0DAjKZk9YKc"
   },
   "source": [
    "## 06 - Utilizando bibliotecas o módulos\n",
    "\n",
    "Documentación de Python (https://docs.python.org/es/3/)\n",
    "Ejemplo 1: Vamos a probar la biblioteca Matplotlib para un ejemplo sobre el cálculo de los promedios de notas de los estudiantes de una clase.\n",
    "(https://matplotlib.org/stable/tutorials/introductory/pyplot.html)"
   ]
  },
  {
   "cell_type": "code",
   "execution_count": 6,
   "metadata": {
    "executionInfo": {
     "elapsed": 31,
     "status": "ok",
     "timestamp": 1748436905957,
     "user": {
      "displayName": "Pol Argentino",
      "userId": "02817779166023488471"
     },
     "user_tz": 180
    },
    "id": "CTGKz7zO9d6K"
   },
   "outputs": [],
   "source": [
    "from matplotlib import pyplot as plt"
   ]
  },
  {
   "cell_type": "code",
   "execution_count": 8,
   "metadata": {
    "executionInfo": {
     "elapsed": 47,
     "status": "ok",
     "timestamp": 1748436916469,
     "user": {
      "displayName": "Pol Argentino",
      "userId": "02817779166023488471"
     },
     "user_tz": 180
    },
    "id": "-MKe5rWi9hBK"
   },
   "outputs": [],
   "source": [
    "estudiantes = ['Pablo','María','José']\n",
    "notas = [9,8.5,6.5]\n"
   ]
  },
  {
   "cell_type": "code",
   "execution_count": 9,
   "metadata": {
    "colab": {
     "base_uri": "https://localhost:8080/",
     "height": 430
    },
    "executionInfo": {
     "elapsed": 441,
     "status": "ok",
     "timestamp": 1748436927242,
     "user": {
      "displayName": "Pol Argentino",
      "userId": "02817779166023488471"
     },
     "user_tz": 180
    },
    "id": "W0K_m_jB9iZU",
    "outputId": "878d9607-1610-4e69-b6b9-d94e7358d5b8"
   },
   "outputs": [
    {
     "data": {
      "image/png": "[encoded data removed]",
      "text/plain": [
       "<Figure size 640x480 with 1 Axes>"
      ]
     },
     "metadata": {},
     "output_type": "display_data"
    }
   ],
   "source": [
    "\n",
    "plt.bar(x= estudiantes, height=notas)\n",
    "plt.show()"
   ]
  },
  {
   "cell_type": "markdown",
   "metadata": {
    "id": "ahz2ij8M9m8a"
   },
   "source": [
    "# Ejemplo 2:\n",
    "Vamos a seleccionar aleatoriamente a un alumno para presentar su trabajo de ciencia de datos usando la biblioteca random.\n",
    "(https://docs.python.org/es/3/library/random.html)"
   ]
  },
  {
   "cell_type": "code",
   "execution_count": 10,
   "metadata": {
    "executionInfo": {
     "elapsed": 123,
     "status": "ok",
     "timestamp": 1748436969225,
     "user": {
      "displayName": "Pol Argentino",
      "userId": "02817779166023488471"
     },
     "user_tz": 180
    },
    "id": "BSXZyj7T9tqb"
   },
   "outputs": [],
   "source": [
    "\n",
    "estudiantes_2 = ['Juan','María','José','Érica']"
   ]
  },
  {
   "cell_type": "code",
   "execution_count": 11,
   "metadata": {
    "executionInfo": {
     "elapsed": 90,
     "status": "ok",
     "timestamp": 1748436979669,
     "user": {
      "displayName": "Pol Argentino",
      "userId": "02817779166023488471"
     },
     "user_tz": 180
    },
    "id": "4yHP2ABD9wIt"
   },
   "outputs": [],
   "source": [
    "\n",
    "import random"
   ]
  },
  {
   "cell_type": "markdown",
   "metadata": {
    "id": "OJViuref93Gk"
   },
   "source": [
    "# Tip:\n",
    "Podrás notar a medida que avanzas en los ejercicios la importancia de acudir a la documentación para aprender cómo utilizar un método de algún módulo en el lenguaje Python.\n",
    "\n",
    "El método help(), por ejemplo, retorna una descripción sobre una variable, método o clase.\n",
    "\n",
    "https://docs.python.org/es/3/library/functions.html?#help"
   ]
  },
  {
   "cell_type": "code",
   "execution_count": 12,
   "metadata": {
    "executionInfo": {
     "elapsed": 10,
     "status": "ok",
     "timestamp": 1748437033081,
     "user": {
      "displayName": "Pol Argentino",
      "userId": "02817779166023488471"
     },
     "user_tz": 180
    },
    "id": "ECRXQsYW99Wa"
   },
   "outputs": [],
   "source": [
    "from random import choice"
   ]
  },
  {
   "cell_type": "code",
   "execution_count": 13,
   "metadata": {
    "colab": {
     "base_uri": "https://localhost:8080/",
     "height": 35
    },
    "executionInfo": {
     "elapsed": 15,
     "status": "ok",
     "timestamp": 1748437059019,
     "user": {
      "displayName": "Pol Argentino",
      "userId": "02817779166023488471"
     },
     "user_tz": 180
    },
    "id": "yYai-pKu-Afn",
    "outputId": "4d037b2a-85fc-47ad-d810-16a6ce988fb6"
   },
   "outputs": [
    {
     "data": {
      "text/plain": [
       "'José'"
      ]
     },
     "execution_count": 13,
     "metadata": {},
     "output_type": "execute_result"
    }
   ],
   "source": [
    "estudiante = choice(estudiantes_2)\n",
    "estudiante"
   ]
  },
  {
   "cell_type": "code",
   "execution_count": 14,
   "metadata": {
    "colab": {
     "base_uri": "https://localhost:8080/"
    },
    "executionInfo": {
     "elapsed": 57,
     "status": "ok",
     "timestamp": 1748437071903,
     "user": {
      "displayName": "Pol Argentino",
      "userId": "02817779166023488471"
     },
     "user_tz": 180
    },
    "id": "XyjG6WDJ-GwF",
    "outputId": "9dc505b1-2ccc-4f11-e813-20e4dbb4198b"
   },
   "outputs": [
    {
     "name": "stdout",
     "output_type": "stream",
     "text": [
      "Help on method choice in module random:\n",
      "\n",
      "choice(seq) method of random.Random instance\n",
      "    Choose a random element from a non-empty sequence.\n",
      "\n"
     ]
    }
   ],
   "source": [
    "\n",
    "help(choice)"
   ]
  },
  {
   "cell_type": "markdown",
   "metadata": {},
   "source": [
    "## 07 - Para saber más: otras formas de importación\n",
    "\n",
    "Ya hemos trabajado con dos formas de importar paquetes: import nombre_biblioteca para todo el paquete y from nombre_biblioteca import metodo para solo un método de una biblioteca dada.\n",
    "\n",
    "La importación de métodos específicos de una biblioteca puede tener algunas ventajas para nuestro proyecto, como:\n",
    "\n",
    "* `1-Economía de memoria:` cuando importamos una biblioteca completa, todo su código se carga en la memoria, incluso si no utilizamos todos sus métodos. Importar solo los métodos que necesitamos puede ahorrar memoria, especialmente en programas con grandes bibliotecas.\n",
    "\n",
    "* `2-Mayor claridad en el código:` importar solo los métodos que vamos a usar hace que el código sea más claro y fácil de entender.\n",
    "\n",
    "* `3-Reducción de conflictos de nombres:` al importar una biblioteca completa, podríamos tener conflictos de nombres con otras variables o funciones en nuestro código.\n",
    "\n",
    "* `4-Reducción en el tiempo de ejecución:` como no se importa toda la biblioteca, el tiempo de ejecución del programa puede ser más rápido, ya que se carga y se interpreta menos código en la memoria por el intérprete de Python.\n",
    "Además de las formas vistas anteriormente, podemos mencionar dos ejemplos que podríamos encontrar en sus prácticas y estudios del lenguaje Python:\n",
    "\n"
   ]
  },
  {
   "cell_type": "code",
   "execution_count": null,
   "metadata": {},
   "outputs": [],
   "source": [
    "from nombre_biblioteca import met_1, met_2"
   ]
  },
  {
   "cell_type": "markdown",
   "metadata": {},
   "source": [
    "Este código resulta en la importación de 2 o más métodos de una biblioteca, evitando repetir la importación cada vez que se desee un método. Por ejemplo, podríamos importar 2 métodos de la biblioteca random para tomar una muestra de 5 valores de una lista de 20 valores generada aleatoriamente con números del 0 al 99."
   ]
  },
  {
   "cell_type": "code",
   "execution_count": 15,
   "metadata": {},
   "outputs": [
    {
     "data": {
      "text/plain": [
       "[64, 10, 28, 97, 28]"
      ]
     },
     "execution_count": 15,
     "metadata": {},
     "output_type": "execute_result"
    }
   ],
   "source": [
    "from random import randrange, sample\n",
    "\n",
    "lista = []\n",
    "\n",
    "for i in range(0, 20):\n",
    "  lista.append(randrange(100))\n",
    "\n",
    "sample(lista, 5)"
   ]
  },
  {
   "cell_type": "code",
   "execution_count": null,
   "metadata": {},
   "outputs": [],
   "source": [
    "from nombre_biblioteca import *"
   ]
  },
  {
   "cell_type": "markdown",
   "metadata": {},
   "source": [
    "Esta forma se utiliza para importar todos los métodos de una biblioteca dada. La diferencia con import nombre_biblioteca es que, en este caso, no necesitamos usar el nombre de la biblioteca para llamar a un método. Podemos pasar solo su nombre. Por ejemplo, si vamos a calcular la raíz cuadrada de un cierto número, podríamos seguir una de las dos formas:\n",
    "\n",
    "Usando import nombre_biblioteca:"
   ]
  },
  {
   "cell_type": "code",
   "execution_count": 17,
   "metadata": {},
   "outputs": [
    {
     "name": "stdout",
     "output_type": "stream",
     "text": [
      "\n",
      "LA raiz quadrada de 7 é igual a 2.6457513110645907\n"
     ]
    }
   ],
   "source": [
    "import math \n",
    "\n",
    "n = int(input(\"Digite um número positivo para calcular sua raiz quadrada:\"))\n",
    "print(f\"\\nLA raiz quadrada de {n} é igual a {math.sqrt(n)}\")"
   ]
  },
  {
   "cell_type": "markdown",
   "metadata": {},
   "source": [
    "Usando from nombre_biblioteca import *:"
   ]
  },
  {
   "cell_type": "code",
   "execution_count": 18,
   "metadata": {},
   "outputs": [
    {
     "name": "stdout",
     "output_type": "stream",
     "text": [
      "\n",
      "LA raiz quadrada de 6 é igual a 2.449489742783178\n"
     ]
    }
   ],
   "source": [
    "from math import * \n",
    "\n",
    "n = int(input(\"Digite um número positivo para calcular sua raiz quadrada:\"))\n",
    "print(f\"\\nLA raiz quadrada de {n} é igual a {sqrt(n)}\")"
   ]
  },
  {
   "cell_type": "markdown",
   "metadata": {},
   "source": [
    "Observa que, en el segundo ejemplo, hemos omitido el nombre math utilizando el método deseado y escribiendo el código con menos caracteres.\n",
    "\n",
    "`Nota`: La importación en este sentido requiere ciertos cuidados:\n",
    "\n",
    "* Podríamos tener conflictos de nombres entre las variables. Por ejemplo, si tenemos una función llamada sqrt antes de importar la de la biblioteca math.\n",
    "* Podríamos reducir la eficiencia de la ejecución si el número de funciones importadas es grande.\n",
    "* No queda explícito de dónde proviene esa variable, método o clase."
   ]
  },
  {
   "cell_type": "markdown",
   "metadata": {},
   "source": [
    "##  08 - ¿Cuánto se vendió?\n",
    "\n",
    "Una empresa quiere calcular el número de artículos vendidos a partir de los ingresos de la venta y el valor unitario del producto. Además, necesita redondear hacia arriba la cantidad de artículos vendidos en caso de que el valor no sea un número entero.\n",
    "\n",
    "Supongamos que los ingresos fueron de 1000 dolares y la unidad del producto se vende a 15 dolares. ¿Cuál son los códigos a continuación utiliza el método ceil de la biblioteca math para realizar este redondeo?\n",
    "\n",
    "Puedes consultar la documentación del método ceil.(https://docs.python.org/es/3/library/math.html#math.ceil)"
   ]
  },
  {
   "cell_type": "code",
   "execution_count": 19,
   "metadata": {},
   "outputs": [
    {
     "name": "stdout",
     "output_type": "stream",
     "text": [
      "La empresa vendió aproximadamente 67 unidades\n"
     ]
    }
   ],
   "source": [
    "\n",
    "from math import ceil\n",
    "\n",
    "receita = 1000\n",
    "unidade = 15\n",
    "\n",
    "print(f\"La empresa vendió aproximadamente {ceil(receita/unidade)} unidades\")"
   ]
  },
  {
   "cell_type": "markdown",
   "metadata": {},
   "source": [
    "Esta es una forma correcta de utilizar un método de una biblioteca específica. Al importar solo un método específico de la biblioteca math, para usar ceil, lo escribimos sin necesidad de hacer referencia a la biblioteca de la cual proviene."
   ]
  },
  {
   "cell_type": "code",
   "execution_count": 20,
   "metadata": {},
   "outputs": [
    {
     "name": "stdout",
     "output_type": "stream",
     "text": [
      "La empresa vendió aproximadamente 67 unidades\n"
     ]
    }
   ],
   "source": [
    "import math\n",
    "\n",
    "receita = 1000\n",
    "unidade = 15\n",
    "\n",
    "print(f\"La empresa vendió aproximadamente {math.ceil(receita/unidade)} unidades\")"
   ]
  },
  {
   "cell_type": "markdown",
   "metadata": {},
   "source": [
    "Esta es otra forma correcta de utilizar un método de una biblioteca. Como importamos la biblioteca math completa, para llamar a ceil escribimos el nombre del paquete seguido de un punto (.) y el método que deseamos."
   ]
  },
  {
   "cell_type": "markdown",
   "metadata": {},
   "source": [
    "## 09 - Desafío: hora de practicar\n",
    "\n",
    "Vamos a practicar lo que hemos aprendido hasta ahora resolviendo los problemas propuestos en código.\n",
    "\n",
    "### Calentamiento\n",
    "\n",
    "* 1 - Escribe un código para instalar la versión 3.7.1 de la biblioteca matplotlib.\n",
    "\n",
    "* 2 - Escribe un código para importar la biblioteca numpy con el alias np.\n",
    "\n",
    "* 3 - Crea un programa que lea la siguiente lista de números y elija uno al azar.\n",
    "\n"
   ]
  },
  {
   "cell_type": "code",
   "execution_count": 21,
   "metadata": {},
   "outputs": [],
   "source": [
    "lista = [8, 12, 54, 23, 43, 1, 90, 87, 105, 77]"
   ]
  },
  {
   "cell_type": "markdown",
   "metadata": {},
   "source": [
    "* 4 - Crea un programa que genere aleatoriamente un número entero menor que 100.\n",
    "\n",
    "* 5 - Crea un programa que solicite a la persona usuaria ingresar dos números enteros y calcule la potencia del primer número elevado al segundo.\n",
    "\n",
    "### Aplicando a proyectos\n",
    "\n",
    "* 6 - Se debe escribir un programa para sortear a un seguidor de una red social para ganar un premio. La lista de participantes está numerada y debemos elegir aleatoriamente un número según la cantidad de participantes. Pide a la persona usuaria que proporcione el número de participantes del sorteo y devuelve el número sorteado.\n",
    "\n",
    "* 7 - Has recibido una solicitud para generar números de token para acceder a la aplicación de una empresa. El token debe ser par y variar de 1000 a 9998. Escribe un código que solicite el nombre de la persona usuaria y muestre un mensaje junto a este token generado aleatoriamente.\n",
    "\n"
   ]
  },
  {
   "cell_type": "code",
   "execution_count": null,
   "metadata": {},
   "outputs": [],
   "source": [
    "print(f\"Hola, {nombre_usuario}, tu token de acceso es {token_generado} ¡Bienvenido/a!\")"
   ]
  },
  {
   "cell_type": "markdown",
   "metadata": {},
   "source": [
    "* 8 - Para diversificar y atraer nuevos clientes, una lanchonete creó un ítem misterioso en su menú llamado \"ensalada de frutas sorpresa\". En este ítem, se eligen aleatoriamente 3 frutas de una lista de 12 para componer la ensalada de frutas del cliente. Crea el código que realice esta selección aleatoria según la lista dada."
   ]
  },
  {
   "cell_type": "code",
   "execution_count": 22,
   "metadata": {},
   "outputs": [],
   "source": [
    "frutas = [\"manzana\", \"banana\", \"uva\", \"pera\", \"mango\", \"coco\", \"sandia\", \"fresa\", \"naranja\", \"maracuya\", \"kiwi\", \"cereza\"]"
   ]
  },
  {
   "cell_type": "markdown",
   "metadata": {},
   "source": [
    "* 9 - Has recibido un desafío para calcular la raíz cuadrada de una lista de números, identificando cuáles resultan en un número entero. La lista es la siguiente:"
   ]
  },
  {
   "cell_type": "code",
   "execution_count": 23,
   "metadata": {},
   "outputs": [],
   "source": [
    "numeros = [2, 8, 15, 23, 91, 112, 256]"
   ]
  },
  {
   "cell_type": "markdown",
   "metadata": {},
   "source": [
    "* 10 - Haz un programa para una tienda que vende césped para jardines. Esta tienda trabaja con jardines circulares y el precio del metro cuadrado de césped es de R$ 25,00. Pide a la persona usuaria el radio del área circular y devuelve el valor en reales de cuánto tendrá que pagar."
   ]
  },
  {
   "cell_type": "markdown",
   "metadata": {},
   "source": [
    "## Opinión del instructor\n",
    "\n",
    "A continuación presentamos las posibles respuestas al desafío propuesto:\n",
    "\n",
    "### 1 - Escribe un código para instalar la versión 3.7.1 de la biblioteca matplotlib.\n",
    "\n"
   ]
  },
  {
   "cell_type": "code",
   "execution_count": 24,
   "metadata": {},
   "outputs": [
    {
     "name": "stdout",
     "output_type": "stream",
     "text": [
      "Collecting matplotlib==3.7.1\n",
      "  Downloading matplotlib-3.7.1-cp310-cp310-manylinux_2_17_x86_64.manylinux2014_x86_64.whl.metadata (5.6 kB)\n",
      "Requirement already satisfied: contourpy>=1.0.1 in /home/pol/.pyenv/versions/3.10.13/envs/api-env/lib/python3.10/site-packages (from matplotlib==3.7.1) (1.3.2)\n",
      "Requirement already satisfied: cycler>=0.10 in /home/pol/.pyenv/versions/3.10.13/envs/api-env/lib/python3.10/site-packages (from matplotlib==3.7.1) (0.12.1)\n",
      "Requirement already satisfied: fonttools>=4.22.0 in /home/pol/.pyenv/versions/3.10.13/envs/api-env/lib/python3.10/site-packages (from matplotlib==3.7.1) (4.58.1)\n",
      "Requirement already satisfied: kiwisolver>=1.0.1 in /home/pol/.pyenv/versions/3.10.13/envs/api-env/lib/python3.10/site-packages (from matplotlib==3.7.1) (1.4.8)\n",
      "Requirement already satisfied: numpy>=1.20 in /home/pol/.pyenv/versions/3.10.13/envs/api-env/lib/python3.10/site-packages (from matplotlib==3.7.1) (2.2.6)\n",
      "Requirement already satisfied: packaging>=20.0 in /home/pol/.pyenv/versions/3.10.13/envs/api-env/lib/python3.10/site-packages (from matplotlib==3.7.1) (25.0)\n",
      "Requirement already satisfied: pillow>=6.2.0 in /home/pol/.pyenv/versions/3.10.13/envs/api-env/lib/python3.10/site-packages (from matplotlib==3.7.1) (11.2.1)\n",
      "Requirement already satisfied: pyparsing>=2.3.1 in /home/pol/.pyenv/versions/3.10.13/envs/api-env/lib/python3.10/site-packages (from matplotlib==3.7.1) (3.2.3)\n",
      "Requirement already satisfied: python-dateutil>=2.7 in /home/pol/.pyenv/versions/3.10.13/envs/api-env/lib/python3.10/site-packages (from matplotlib==3.7.1) (2.9.0.post0)\n",
      "Requirement already satisfied: six>=1.5 in /home/pol/.pyenv/versions/3.10.13/envs/api-env/lib/python3.10/site-packages (from python-dateutil>=2.7->matplotlib==3.7.1) (1.17.0)\n",
      "Downloading matplotlib-3.7.1-cp310-cp310-manylinux_2_17_x86_64.manylinux2014_x86_64.whl (11.6 MB)\n",
      "\u001b[2K   \u001b[90m━━━━━━━━━━━━━━━━━━━━━━━━━━━━━━━━━━━━━━━━\u001b[0m \u001b[32m11.6/11.6 MB\u001b[0m \u001b[31m578.1 kB/s\u001b[0m eta \u001b[36m0:00:00\u001b[0m00:01\u001b[0m00:01\u001b[0m\n",
      "\u001b[?25hInstalling collected packages: matplotlib\n",
      "  Attempting uninstall: matplotlib\n",
      "    Found existing installation: matplotlib 3.10.3\n",
      "    Uninstalling matplotlib-3.10.3:\n",
      "      Successfully uninstalled matplotlib-3.10.3\n",
      "Successfully installed matplotlib-3.7.1\n",
      "Note: you may need to restart the kernel to use updated packages.\n"
     ]
    }
   ],
   "source": [
    "pip install matplotlib==3.7.1"
   ]
  },
  {
   "cell_type": "markdown",
   "metadata": {},
   "source": [
    "* 2 - Escribe un código para importar la biblioteca numpy con el alias np.\n",
    "\n"
   ]
  },
  {
   "cell_type": "code",
   "execution_count": null,
   "metadata": {},
   "outputs": [],
   "source": [
    "import numpy as np"
   ]
  },
  {
   "cell_type": "markdown",
   "metadata": {},
   "source": [
    "* 3 - Crea un programa que lea la siguiente lista de números y elija uno al azar.\n",
    "\n"
   ]
  },
  {
   "cell_type": "code",
   "execution_count": 25,
   "metadata": {},
   "outputs": [
    {
     "name": "stdout",
     "output_type": "stream",
     "text": [
      "1\n"
     ]
    }
   ],
   "source": [
    "import random\n",
    "\n",
    "lista = [8, 12, 54, 23, 43, 1, 90, 87, 105, 77]\n",
    "numero_aleatorio = random.choice(lista)\n",
    "print(numero_aleatorio)"
   ]
  },
  {
   "cell_type": "markdown",
   "metadata": {},
   "source": [
    "* 4 - Crea un programa que genere aleatoriamente un número entero menor que 100.\n",
    "\n"
   ]
  },
  {
   "cell_type": "code",
   "execution_count": 26,
   "metadata": {},
   "outputs": [
    {
     "name": "stdout",
     "output_type": "stream",
     "text": [
      "85\n"
     ]
    }
   ],
   "source": [
    "import random\n",
    "numero_aleatorio = random.randrange(100)\n",
    "print(numero_aleatorio)"
   ]
  },
  {
   "cell_type": "markdown",
   "metadata": {},
   "source": [
    "* 5 - Crea un programa que solicite a la persona usuaria ingresar dos números enteros y calcule la potencia del primer número elevado al segundo."
   ]
  },
  {
   "cell_type": "code",
   "execution_count": 27,
   "metadata": {},
   "outputs": [
    {
     "name": "stdout",
     "output_type": "stream",
     "text": [
      "La potencia de 2 elevado a 3 es 8.0\n"
     ]
    }
   ],
   "source": [
    "import math\n",
    "num1 = int(input(\"Ingrese el primer número entero: \"))\n",
    "num2 = int(input(\"Ingrese el segundo número entero: \"))\n",
    "resultado = math.pow(num1, num2)\n",
    "print(f\"La potencia de {num1} elevado a {num2} es {resultado}\")"
   ]
  },
  {
   "cell_type": "markdown",
   "metadata": {},
   "source": [
    "* 6 - Se debe escribir un programa para sortear a un seguidor de una red social para ganar un premio. La lista de participantes está numerada y debemos elegir aleatoriamente un número según la cantidad de participantes. Pide a la persona usuaria que proporcione el número de participantes del sorteo y devuelve el número sorteado."
   ]
  },
  {
   "cell_type": "code",
   "execution_count": 28,
   "metadata": {},
   "outputs": [
    {
     "name": "stdout",
     "output_type": "stream",
     "text": [
      "El número sorteado es: 1\n"
     ]
    }
   ],
   "source": [
    "import random\n",
    "\n",
    "cantidad_participantes = int(input(\"Ingrese la cantidad de participantes: \"))\n",
    "numero_sorteado = random.randint(1, cantidad_participantes)\n",
    "print(f\"El número sorteado es: {numero_sorteado}\")"
   ]
  },
  {
   "cell_type": "markdown",
   "metadata": {},
   "source": [
    "* 7 - Has recibido una solicitud para generar números de token para acceder a la aplicación de una empresa. El token debe ser par y variar de 1000 a 9998. Escribe un código que solicite el nombre de la persona usuaria y muestre un mensaje junto a este token generado aleatoriamente."
   ]
  },
  {
   "cell_type": "code",
   "execution_count": 29,
   "metadata": {},
   "outputs": [
    {
     "name": "stdout",
     "output_type": "stream",
     "text": [
      "Hola, pol, tu token de acceso es 7936 ¡Bienvenido/a!\n"
     ]
    }
   ],
   "source": [
    "import random\n",
    "\n",
    "nombre_usuario = input(\"Ingrese su nombre: \")\n",
    "token_generado = random.randrange(1000, 9999, 2)\n",
    "print(f\"Hola, {nombre_usuario}, tu token de acceso es {token_generado} ¡Bienvenido/a!\")"
   ]
  },
  {
   "cell_type": "markdown",
   "metadata": {},
   "source": [
    "* 8 - Para diversificar y atraer nuevos clientes, una lanchonete creó un ítem misterioso en su menú llamado \"ensalada de frutas sorpresa\". En este ítem, se eligen aleatoriamente 3 frutas de una lista de 12 para componer la ensalada de frutas del cliente. Crea el código que realice esta selección aleatoria según la lista dada."
   ]
  },
  {
   "cell_type": "code",
   "execution_count": 30,
   "metadata": {},
   "outputs": [
    {
     "name": "stdout",
     "output_type": "stream",
     "text": [
      "Ensalada de frutas sorpresa: ['coco', 'naranja', 'sandia']\n"
     ]
    }
   ],
   "source": [
    "import random\n",
    "\n",
    "frutas = [\"manzana\", \"banana\", \"uva\", \"pera\", \"mango\", \"coco\", \"sandia\", \"fresa\", \"naranja\", \"maracuya\", \"kiwi\", \"cereza\"]\n",
    "seleccion_frutas = random.sample(frutas, 3)\n",
    "print(\"Ensalada de frutas sorpresa:\", seleccion_frutas)"
   ]
  },
  {
   "cell_type": "markdown",
   "metadata": {},
   "source": [
    "* 9 - Has recibido un desafío para calcular la raíz cuadrada de una lista de números, identificando cuáles resultan en un número entero. La lista es la siguiente:\n",
    "\n"
   ]
  },
  {
   "cell_type": "code",
   "execution_count": 31,
   "metadata": {},
   "outputs": [
    {
     "name": "stdout",
     "output_type": "stream",
     "text": [
      "Números con raíces enteras: [256]\n"
     ]
    }
   ],
   "source": [
    "import math\n",
    "\n",
    "numeros = [2, 8, 15, 23, 91, 112, 256]\n",
    "raices_enteras = [num for num in numeros if math.sqrt(num) % 1 == 0]\n",
    "print(\"Números con raíces enteras:\", raices_enteras)"
   ]
  },
  {
   "cell_type": "markdown",
   "metadata": {},
   "source": [
    "* 10 - Haz un programa para una tienda que vende césped para jardines. Esta tienda trabaja con jardines circulares y el precio del metro cuadrado de césped es de R$ 25,00. Pide a la persona usuaria el radio del área circular y devuelve el valor en reales de cuánto tendrá que pagar.\n",
    "\n"
   ]
  },
  {
   "cell_type": "code",
   "execution_count": 32,
   "metadata": {},
   "outputs": [
    {
     "name": "stdout",
     "output_type": "stream",
     "text": [
      "El costo total es de R$ 85529.86\n"
     ]
    }
   ],
   "source": [
    "import math\n",
    "\n",
    "precio_metro_cuadrado = 25.00\n",
    "radio = float(input(\"Ingrese el radio del área circular en metros: \"))\n",
    "area = math.pi * math.pow(radio, 2)\n",
    "costo_total = precio_metro_cuadrado * area\n",
    "\n",
    "print(f\"El costo total es de R$ {round(costo_total,2)}\")"
   ]
  },
  {
   "cell_type": "markdown",
   "metadata": {},
   "source": [
    "## 10 - Lo que aprendimos\n",
    "\n",
    "Lo que aprendimos en esta aula:\n",
    "\n",
    "* Instalar e importar una biblioteca.\n",
    "* Instalar una versión específica de una biblioteca.\n",
    "* Verificar la versión de una biblioteca.\n",
    "* Utilizar paquetes/bibliotecas e importar métodos específicos de estas.\n"
   ]
  },
  {
   "cell_type": "markdown",
   "metadata": {
    "id": "ZowqUui4-K95"
   },
   "source": [
    "# 02. FUNCIONES\n",
    "En Python, las funciones son secuencias de instrucciones que ejecutan tareas específicas, permitiendo su reutilización en diferentes partes del código. Estas pueden recibir parámetros de entrada (que también los conocemos como inputs) y también retornar resultados.\n",
    "\n",
    "# 2.1 Built-in function (Función Incorporada)\n",
    "El interpretador de Python contiene una serie de funciones incorporadas que pueden ser invocadas es cualquier momento. Algunas que vamos a utilizar a lo largo de este curso son: type(), print(), list(), zip(), sum(), map(), etc.\n",
    "\n",
    "Documentación: https://docs.python.org/es/3/library/functions.html\n",
    "\n",
    "# Situación 1:\n",
    "La institución educativa para la cual nos encontramos trabajando compartió los datos de las notas de un estudiante para que pudiesemos calcular su promedio con una casilla decimal.\n",
    "\n",
    "Los datos recibidos corresponden a un diccionario cuyas llaves indican el trimestre en cuestión y sus valores corresponden a las notas de cada trimestre del estudiante en una respectiva materia."
   ]
  },
  {
   "cell_type": "code",
   "execution_count": 19,
   "metadata": {
    "executionInfo": {
     "elapsed": 82,
     "status": "ok",
     "timestamp": 1748437197266,
     "user": {
      "displayName": "Pol Argentino",
      "userId": "02817779166023488471"
     },
     "user_tz": 180
    },
    "id": "_hQYRsDi-iv8"
   },
   "outputs": [],
   "source": [
    "notas = {'1º Trimestre': 9.5, '2º Trimestre': 8, '3º Trimestre': 7}\n"
   ]
  },
  {
   "cell_type": "code",
   "execution_count": 20,
   "metadata": {
    "colab": {
     "base_uri": "https://localhost:8080/"
    },
    "executionInfo": {
     "elapsed": 31,
     "status": "ok",
     "timestamp": 1748437226794,
     "user": {
      "displayName": "Pol Argentino",
      "userId": "02817779166023488471"
     },
     "user_tz": 180
    },
    "id": "B1EFnBh8-rNj",
    "outputId": "ac09fa7f-a330-4fa3-c4e2-a382ee968a82"
   },
   "outputs": [
    {
     "name": "stdout",
     "output_type": "stream",
     "text": [
      "24.5\n"
     ]
    }
   ],
   "source": [
    "suma = 0\n",
    "\n",
    "for s in notas.values():\n",
    "  suma += s\n",
    "\n",
    "print(suma)"
   ]
  },
  {
   "cell_type": "code",
   "execution_count": 21,
   "metadata": {
    "colab": {
     "base_uri": "https://localhost:8080/"
    },
    "executionInfo": {
     "elapsed": 44,
     "status": "ok",
     "timestamp": 1748437265052,
     "user": {
      "displayName": "Pol Argentino",
      "userId": "02817779166023488471"
     },
     "user_tz": 180
    },
    "id": "VIGjEhyS-17j",
    "outputId": "f06b9960-72b5-495d-941d-7a3a87cf3d5c"
   },
   "outputs": [
    {
     "data": {
      "text/plain": [
       "8.166666666666666"
      ]
     },
     "execution_count": 21,
     "metadata": {},
     "output_type": "execute_result"
    }
   ],
   "source": [
    "promedio = sum(notas.values()) / len(notas)\n",
    "\n",
    "promedio"
   ]
  },
  {
   "cell_type": "markdown",
   "metadata": {
    "id": "v4SyjYym-8f6"
   },
   "source": [
    "# Redondear el promedio usando round():\n",
    "\n",
    "https://docs.python.org/es/3/library/functions.html#round"
   ]
  },
  {
   "cell_type": "code",
   "execution_count": 22,
   "metadata": {
    "colab": {
     "base_uri": "https://localhost:8080/"
    },
    "executionInfo": {
     "elapsed": 54,
     "status": "ok",
     "timestamp": 1748437310653,
     "user": {
      "displayName": "Pol Argentino",
      "userId": "02817779166023488471"
     },
     "user_tz": 180
    },
    "id": "wYGvfWq1-_vA",
    "outputId": "24a87833-569d-43b7-9749-6aeccc622962"
   },
   "outputs": [
    {
     "name": "stdout",
     "output_type": "stream",
     "text": [
      "Help on built-in function round in module builtins:\n",
      "\n",
      "round(number, ndigits=None)\n",
      "    Round a number to a given precision in decimal digits.\n",
      "    \n",
      "    The return value is an integer if ndigits is omitted or None.  Otherwise\n",
      "    the return value has the same type as the number.  ndigits may be negative.\n",
      "\n"
     ]
    }
   ],
   "source": [
    "help(round)"
   ]
  },
  {
   "cell_type": "code",
   "execution_count": 23,
   "metadata": {
    "colab": {
     "base_uri": "https://localhost:8080/"
    },
    "executionInfo": {
     "elapsed": 30,
     "status": "ok",
     "timestamp": 1748437329765,
     "user": {
      "displayName": "Pol Argentino",
      "userId": "02817779166023488471"
     },
     "user_tz": 180
    },
    "id": "DpPvy17B_FQI",
    "outputId": "a30a616b-51f9-497d-aec2-f155a39e59cc"
   },
   "outputs": [
    {
     "data": {
      "text/plain": [
       "8.2"
      ]
     },
     "execution_count": 23,
     "metadata": {},
     "output_type": "execute_result"
    }
   ],
   "source": [
    "\n",
    "promedio = round(promedio,1)\n",
    "promedio\n"
   ]
  },
  {
   "cell_type": "markdown",
   "metadata": {
    "id": "jDB_Tk8p_OTh"
   },
   "source": [
    "# 2.2 Creando funciones\n",
    "Tras explorar las funciones incorporadas y aprender cómo utilizar algunas de ellas, es posible que tengas la necesidad de resolver un problema específico y estas no sean suficientes.\n",
    "\n",
    "Por este motivo, necesitaremos crear nuestras propias funciones, y aún más, si necesitamos aplicarlas en varias partes de nuestros códigos.\n",
    "\n",
    "Funciones sin parámetros\n",
    "Formato estándar:\n",
    "def <nombre>():\n",
    "  <instrucciones>"
   ]
  },
  {
   "cell_type": "code",
   "execution_count": 24,
   "metadata": {
    "executionInfo": {
     "elapsed": 50,
     "status": "ok",
     "timestamp": 1748437428011,
     "user": {
      "displayName": "Pol Argentino",
      "userId": "02817779166023488471"
     },
     "user_tz": 180
    },
    "id": "8vMXDVmM_cg4"
   },
   "outputs": [],
   "source": [
    "def promedio():\n",
    "  calculo = (10+9+7)/3\n",
    "  print(calculo)"
   ]
  },
  {
   "cell_type": "code",
   "execution_count": 25,
   "metadata": {
    "colab": {
     "base_uri": "https://localhost:8080/"
    },
    "executionInfo": {
     "elapsed": 21,
     "status": "ok",
     "timestamp": 1748437439390,
     "user": {
      "displayName": "Pol Argentino",
      "userId": "02817779166023488471"
     },
     "user_tz": 180
    },
    "id": "5opQA-SX_gcD",
    "outputId": "b5010825-c90a-4187-f0a9-127c8decedda"
   },
   "outputs": [
    {
     "name": "stdout",
     "output_type": "stream",
     "text": [
      "8.666666666666666\n"
     ]
    }
   ],
   "source": [
    "promedio()"
   ]
  },
  {
   "cell_type": "markdown",
   "metadata": {
    "id": "9_0EIat3_j0B"
   },
   "source": [
    "# Funciones con parámetros\n",
    "Formato estándar:\n",
    "def nombre(param_1, param_2, ..., param_n):\\\n",
    "  instrucciones"
   ]
  },
  {
   "cell_type": "code",
   "execution_count": 27,
   "metadata": {
    "executionInfo": {
     "elapsed": 43,
     "status": "ok",
     "timestamp": 1748437660174,
     "user": {
      "displayName": "Pol Argentino",
      "userId": "02817779166023488471"
     },
     "user_tz": 180
    },
    "id": "o-AqqiQYAExW"
   },
   "outputs": [],
   "source": [
    "def promedio(nota_1,nota_2,nota_3):\n",
    "  calculo = (nota_1+nota_2+nota_3)/3\n",
    "  print(calculo)"
   ]
  },
  {
   "cell_type": "code",
   "execution_count": 28,
   "metadata": {
    "colab": {
     "base_uri": "https://localhost:8080/"
    },
    "executionInfo": {
     "elapsed": 31,
     "status": "ok",
     "timestamp": 1748437670358,
     "user": {
      "displayName": "Pol Argentino",
      "userId": "02817779166023488471"
     },
     "user_tz": 180
    },
    "id": "rRNeHIjFAY7b",
    "outputId": "05525969-ecb0-4113-fa7c-200e340ed1b0"
   },
   "outputs": [
    {
     "name": "stdout",
     "output_type": "stream",
     "text": [
      "8.666666666666666\n"
     ]
    }
   ],
   "source": [
    "promedio(10,9,7)"
   ]
  },
  {
   "cell_type": "code",
   "execution_count": 29,
   "metadata": {
    "colab": {
     "base_uri": "https://localhost:8080/"
    },
    "executionInfo": {
     "elapsed": 75,
     "status": "ok",
     "timestamp": 1748437737400,
     "user": {
      "displayName": "Pol Argentino",
      "userId": "02817779166023488471"
     },
     "user_tz": 180
    },
    "id": "4PcOM5cEApQO",
    "outputId": "d146725f-f5ee-47b6-e9cb-7af3f2a78114"
   },
   "outputs": [
    {
     "name": "stdout",
     "output_type": "stream",
     "text": [
      "8.666666666666666\n"
     ]
    }
   ],
   "source": [
    "promedio(nota_1=10,nota_2=9,nota_3=7)"
   ]
  },
  {
   "cell_type": "markdown",
   "metadata": {
    "id": "t-CsQynkAvT4"
   },
   "source": [
    "# Situación 2:\n",
    "Recibimos una solicitud para crear una función que calcule el promedio de notas de un estudiante a partir de una lista; que permita alterar la cantidad de notas, y que no implique tener que modificar la función.\n",
    "\n",
    "Los datos recibidos, en esta ocasión, corresponden a una lista que contiene las notas de un mismo estudiante en una determinada materia.\n",
    "\n",
    "# notas = 8.5, 9.0, 6.0, 10.0\n",
    "\n",
    "¿Vamos a resolver este desafío?\n",
    "\n",
    "Para facilitar nuestra comprensión del proceso, vamos a aplicar las notas de un único estudiante; sin embargo, puedes probar otros casos para practicar."
   ]
  },
  {
   "cell_type": "code",
   "execution_count": 36,
   "metadata": {
    "executionInfo": {
     "elapsed": 83,
     "status": "ok",
     "timestamp": 1748437929023,
     "user": {
      "displayName": "Pol Argentino",
      "userId": "02817779166023488471"
     },
     "user_tz": 180
    },
    "id": "K8rB2ATXA8Lo"
   },
   "outputs": [],
   "source": [
    "notas = [8.5, 9.0, 6.0, 10.0,]"
   ]
  },
  {
   "cell_type": "code",
   "execution_count": 34,
   "metadata": {
    "executionInfo": {
     "elapsed": 46,
     "status": "ok",
     "timestamp": 1748437919255,
     "user": {
      "displayName": "Pol Argentino",
      "userId": "02817779166023488471"
     },
     "user_tz": 180
    },
    "id": "1WNqkvYxBAVa"
   },
   "outputs": [],
   "source": [
    "def promedio(lista):\n",
    "  calculo = sum(lista)/len(lista)\n",
    "  print(calculo)"
   ]
  },
  {
   "cell_type": "code",
   "execution_count": 37,
   "metadata": {
    "colab": {
     "base_uri": "https://localhost:8080/"
    },
    "executionInfo": {
     "elapsed": 23,
     "status": "ok",
     "timestamp": 1748437930861,
     "user": {
      "displayName": "Pol Argentino",
      "userId": "02817779166023488471"
     },
     "user_tz": 180
    },
    "id": "9mf12c3SBMyI",
    "outputId": "90a1738e-5c31-4b04-c1dd-fce250086647"
   },
   "outputs": [
    {
     "name": "stdout",
     "output_type": "stream",
     "text": [
      "8.375\n"
     ]
    }
   ],
   "source": [
    "promedio(notas)"
   ]
  },
  {
   "cell_type": "code",
   "execution_count": 40,
   "metadata": {
    "colab": {
     "base_uri": "https://localhost:8080/"
    },
    "executionInfo": {
     "elapsed": 60,
     "status": "ok",
     "timestamp": 1748438066669,
     "user": {
      "displayName": "Pol Argentino",
      "userId": "02817779166023488471"
     },
     "user_tz": 180
    },
    "id": "CIfcqRWSBeKl",
    "outputId": "28813234-2fc5-4831-f5f7-89b08584f0aa"
   },
   "outputs": [
    {
     "name": "stdout",
     "output_type": "stream",
     "text": [
      "8.375\n"
     ]
    },
    {
     "data": {
      "text/plain": [
       "function"
      ]
     },
     "execution_count": 40,
     "metadata": {},
     "output_type": "execute_result"
    }
   ],
   "source": [
    "\n",
    "media = promedio(notas)\n",
    "type(promedio)"
   ]
  },
  {
   "cell_type": "code",
   "execution_count": 39,
   "metadata": {
    "colab": {
     "base_uri": "https://localhost:8080/"
    },
    "executionInfo": {
     "elapsed": 97,
     "status": "ok",
     "timestamp": 1748437974409,
     "user": {
      "displayName": "Pol Argentino",
      "userId": "02817779166023488471"
     },
     "user_tz": 180
    },
    "id": "HEk6bf_vBjTE",
    "outputId": "e3b4f5e5-b858-408e-d6cd-466ab7e2e7a7"
   },
   "outputs": [
    {
     "data": {
      "text/plain": [
       "NoneType"
      ]
     },
     "execution_count": 39,
     "metadata": {},
     "output_type": "execute_result"
    }
   ],
   "source": [
    "type(media)\n"
   ]
  },
  {
   "cell_type": "markdown",
   "metadata": {
    "id": "COIQpDq7BshN"
   },
   "source": [
    "# Atención!:\n",
    " Cuando utilizamos funciones, necesitamos prestar atención a una propiedad llamada Alcance de una función. Esta propiedad determina dónde una variable puede ser utilizada dentro del código. Por ejemplo, una variable creada dentro de una función existirá únicamente dentro de esta función. O sea, cuando finaliza la ejecución de una función, la variable no estará disponible para el usuario en el resto del código."
   ]
  },
  {
   "cell_type": "code",
   "execution_count": 41,
   "metadata": {
    "colab": {
     "base_uri": "https://localhost:8080/",
     "height": 141
    },
    "executionInfo": {
     "elapsed": 81,
     "status": "error",
     "timestamp": 1748438094205,
     "user": {
      "displayName": "Pol Argentino",
      "userId": "02817779166023488471"
     },
     "user_tz": 180
    },
    "id": "3xmaN1lfCAUv",
    "outputId": "1890a50c-a34b-4a7f-cef3-9df2154293e6"
   },
   "outputs": [
    {
     "ename": "NameError",
     "evalue": "name 'calculo' is not defined",
     "output_type": "error",
     "traceback": [
      "\u001b[0;31m---------------------------------------------------------------------------\u001b[0m",
      "\u001b[0;31mNameError\u001b[0m                                 Traceback (most recent call last)",
      "\u001b[0;32m<ipython-input-41-358730cc7909>\u001b[0m in \u001b[0;36m<cell line: 0>\u001b[0;34m()\u001b[0m\n\u001b[0;32m----> 1\u001b[0;31m \u001b[0mcalculo\u001b[0m\u001b[0;34m\u001b[0m\u001b[0;34m\u001b[0m\u001b[0m\n\u001b[0m",
      "\u001b[0;31mNameError\u001b[0m: name 'calculo' is not defined"
     ]
    }
   ],
   "source": [
    "\n",
    "calculo"
   ]
  },
  {
   "cell_type": "markdown",
   "metadata": {
    "id": "jpU0iRhmCGiR"
   },
   "source": [
    "# 2.3 Funciones que retornan valores\n",
    "Formato estándar:\n",
    "def nombre(param_1, param_2, ..., param_n):\\\n",
    "  instrucciones\\\n",
    "  return resultado\n",
    "* Retomando la actividad anterior, podemos retornar y guardar el valor del promedio de la siguiente forma:"
   ]
  },
  {
   "cell_type": "code",
   "execution_count": 42,
   "metadata": {
    "executionInfo": {
     "elapsed": 63,
     "status": "ok",
     "timestamp": 1748438335031,
     "user": {
      "displayName": "Pol Argentino",
      "userId": "02817779166023488471"
     },
     "user_tz": 180
    },
    "id": "tW2YTQbgC6ot"
   },
   "outputs": [],
   "source": [
    "# Notas del estudiante\n",
    "notas = [8.5, 9.0, 6.0, 10.0]"
   ]
  },
  {
   "cell_type": "code",
   "execution_count": 43,
   "metadata": {
    "executionInfo": {
     "elapsed": 70,
     "status": "ok",
     "timestamp": 1748438373899,
     "user": {
      "displayName": "Pol Argentino",
      "userId": "02817779166023488471"
     },
     "user_tz": 180
    },
    "id": "zOegI2TMDCZq"
   },
   "outputs": [],
   "source": [
    "\n",
    "def promedio(lista):\n",
    "  resultado = sum(lista)/len(lista)\n",
    "  return resultado"
   ]
  },
  {
   "cell_type": "code",
   "execution_count": 44,
   "metadata": {
    "colab": {
     "base_uri": "https://localhost:8080/"
    },
    "executionInfo": {
     "elapsed": 75,
     "status": "ok",
     "timestamp": 1748438389343,
     "user": {
      "displayName": "Pol Argentino",
      "userId": "02817779166023488471"
     },
     "user_tz": 180
    },
    "id": "DrET8JGxDIKG",
    "outputId": "5501786c-e375-4e82-beff-a4b88e726327"
   },
   "outputs": [
    {
     "data": {
      "text/plain": [
       "8.375"
      ]
     },
     "execution_count": 44,
     "metadata": {},
     "output_type": "execute_result"
    }
   ],
   "source": [
    "promedio(notas)\n"
   ]
  },
  {
   "cell_type": "code",
   "execution_count": 45,
   "metadata": {
    "executionInfo": {
     "elapsed": 15,
     "status": "ok",
     "timestamp": 1748438448594,
     "user": {
      "displayName": "Pol Argentino",
      "userId": "02817779166023488471"
     },
     "user_tz": 180
    },
    "id": "8lBOk5CRDWdt"
   },
   "outputs": [],
   "source": [
    "resultado = promedio(notas)"
   ]
  },
  {
   "cell_type": "code",
   "execution_count": 46,
   "metadata": {
    "colab": {
     "base_uri": "https://localhost:8080/"
    },
    "executionInfo": {
     "elapsed": 61,
     "status": "ok",
     "timestamp": 1748438476887,
     "user": {
      "displayName": "Pol Argentino",
      "userId": "02817779166023488471"
     },
     "user_tz": 180
    },
    "id": "-B3RuEhwDb50",
    "outputId": "b92a4be7-e9ab-4693-f49a-fe39ff21d20b"
   },
   "outputs": [
    {
     "data": {
      "text/plain": [
       "float"
      ]
     },
     "execution_count": 46,
     "metadata": {},
     "output_type": "execute_result"
    }
   ],
   "source": [
    "type(resultado)"
   ]
  },
  {
   "cell_type": "code",
   "execution_count": 47,
   "metadata": {
    "colab": {
     "base_uri": "https://localhost:8080/"
    },
    "executionInfo": {
     "elapsed": 34,
     "status": "ok",
     "timestamp": 1748438494515,
     "user": {
      "displayName": "Pol Argentino",
      "userId": "02817779166023488471"
     },
     "user_tz": 180
    },
    "id": "0o_p0KaPDhur",
    "outputId": "d5830a70-cdbb-4f7d-a771-e637aed0d0d3"
   },
   "outputs": [
    {
     "data": {
      "text/plain": [
       "8.375"
      ]
     },
     "execution_count": 47,
     "metadata": {},
     "output_type": "execute_result"
    }
   ],
   "source": [
    "\n",
    "resultado\n"
   ]
  },
  {
   "cell_type": "markdown",
   "metadata": {
    "id": "Kc1fQvEODnKk"
   },
   "source": [
    "# Situación 3:\n",
    "Recibimos una nueva solicitud. Debemos calcular el promedio de un estudiante a partir de una lista y retornar tanto el promedio como la situación del estudiante (\"Aprobado(a)\" si la nota es mayor o igual a 7.0, en caso contrario, será \"Reprobado(a)\").\n",
    "\n",
    "Además de ello, necesitamos exhibir un pequeño texto para indicar el promedio del estudiante y cuál es su situación. Los datos recibidos corresponden a una lista que contiene apenas las notas de un estudiante en una materia determinada.\n",
    "\n",
    "¿Vamos a resolver este desafío?\n",
    "\n",
    "Para facilitar nuestra comprensión del proceso, vamos a aplicar las notas de un único estudiante; sin embargo, puedes probar otros casos para practicar."
   ]
  },
  {
   "cell_type": "code",
   "execution_count": 48,
   "metadata": {
    "executionInfo": {
     "elapsed": 92,
     "status": "ok",
     "timestamp": 1748438636438,
     "user": {
      "displayName": "Pol Argentino",
      "userId": "02817779166023488471"
     },
     "user_tz": 180
    },
    "id": "zBVuxdWlEC0x"
   },
   "outputs": [],
   "source": [
    "# Notas del estudiante\n",
    "notas = [8.5, 9.0, 6.0, 10.0]"
   ]
  },
  {
   "cell_type": "code",
   "execution_count": 49,
   "metadata": {
    "executionInfo": {
     "elapsed": 121,
     "status": "ok",
     "timestamp": 1748438679141,
     "user": {
      "displayName": "Pol Argentino",
      "userId": "02817779166023488471"
     },
     "user_tz": 180
    },
    "id": "bNF8BSsKEPM7"
   },
   "outputs": [],
   "source": [
    "def boletin(lista):\n",
    "  resultado = sum(lista)/len(lista)\n",
    "  if resultado >= 7:\n",
    "    situacion ='Aprobado(a)'\n",
    "  else:\n",
    "    situacion ='Reprobado(a)'\n",
    "  return (resultado,situacion)"
   ]
  },
  {
   "cell_type": "code",
   "execution_count": 50,
   "metadata": {
    "colab": {
     "base_uri": "https://localhost:8080/"
    },
    "executionInfo": {
     "elapsed": 22,
     "status": "ok",
     "timestamp": 1748438694073,
     "user": {
      "displayName": "Pol Argentino",
      "userId": "02817779166023488471"
     },
     "user_tz": 180
    },
    "id": "fSm1pIplESdw",
    "outputId": "4f5bd8f9-a124-4ae3-d410-ed039400a3f8"
   },
   "outputs": [
    {
     "data": {
      "text/plain": [
       "(8.375, 'Aprobado(a)')"
      ]
     },
     "execution_count": 50,
     "metadata": {},
     "output_type": "execute_result"
    }
   ],
   "source": [
    "boletin(notas)"
   ]
  },
  {
   "cell_type": "code",
   "execution_count": 51,
   "metadata": {
    "executionInfo": {
     "elapsed": 10,
     "status": "ok",
     "timestamp": 1748438746140,
     "user": {
      "displayName": "Pol Argentino",
      "userId": "02817779166023488471"
     },
     "user_tz": 180
    },
    "id": "hukOBwqpEd5J"
   },
   "outputs": [],
   "source": [
    "resultado, situacion = boletin(notas)"
   ]
  },
  {
   "cell_type": "code",
   "execution_count": 52,
   "metadata": {
    "colab": {
     "base_uri": "https://localhost:8080/"
    },
    "executionInfo": {
     "elapsed": 39,
     "status": "ok",
     "timestamp": 1748438796348,
     "user": {
      "displayName": "Pol Argentino",
      "userId": "02817779166023488471"
     },
     "user_tz": 180
    },
    "id": "FCC_E15DEqA3",
    "outputId": "a8470923-ac55-4350-8bf4-e29724c1c1a6"
   },
   "outputs": [
    {
     "name": "stdout",
     "output_type": "stream",
     "text": [
      "El/la estudiante obtuvo un puntaje de: 8.375 y su situación es: Aprobado(a).\n"
     ]
    }
   ],
   "source": [
    "print(f'El/la estudiante obtuvo un puntaje de: {resultado} y su situación es: {situacion}.')\n"
   ]
  },
  {
   "cell_type": "code",
   "execution_count": 53,
   "metadata": {
    "executionInfo": {
     "elapsed": 43,
     "status": "ok",
     "timestamp": 1748438855328,
     "user": {
      "displayName": "Pol Argentino",
      "userId": "02817779166023488471"
     },
     "user_tz": 180
    },
    "id": "PdrQar74E3Bo"
   },
   "outputs": [],
   "source": [
    "\n",
    "def boletin(lista):\n",
    "  resultado = sum(lista)/len(lista)\n",
    "  if resultado >= 7:\n",
    "    situacion ='Aprobado(a)'\n",
    "  else:\n",
    "    situacion ='Reprobado(a)'\n",
    "  return f'El/la estudiante obtuvo un puntaje de: {resultado} y su situación es: {situacion}.'"
   ]
  },
  {
   "cell_type": "code",
   "execution_count": 54,
   "metadata": {
    "executionInfo": {
     "elapsed": 63,
     "status": "ok",
     "timestamp": 1748438878321,
     "user": {
      "displayName": "Pol Argentino",
      "userId": "02817779166023488471"
     },
     "user_tz": 180
    },
    "id": "Tj7ziYhZE_9F"
   },
   "outputs": [],
   "source": [
    "notas_2 = [7.5, 4.0, 3.0, 10.0]"
   ]
  },
  {
   "cell_type": "code",
   "execution_count": 55,
   "metadata": {
    "colab": {
     "base_uri": "https://localhost:8080/",
     "height": 35
    },
    "executionInfo": {
     "elapsed": 32,
     "status": "ok",
     "timestamp": 1748438891736,
     "user": {
      "displayName": "Pol Argentino",
      "userId": "02817779166023488471"
     },
     "user_tz": 180
    },
    "id": "DqjjNu5bFBzk",
    "outputId": "f916b06d-167c-46f1-d933-aca0888f6002"
   },
   "outputs": [
    {
     "data": {
      "application/vnd.google.colaboratory.intrinsic+json": {
       "type": "string"
      },
      "text/plain": [
       "'El/la estudiante obtuvo un puntaje de: 6.125 y su situación es: Reprobado(a).'"
      ]
     },
     "execution_count": 55,
     "metadata": {},
     "output_type": "execute_result"
    }
   ],
   "source": [
    "boletin(notas_2)\n"
   ]
  },
  {
   "cell_type": "markdown",
   "metadata": {
    "id": "VFSu3rBlFMa9"
   },
   "source": [
    "# 2.4 Funciones lambda\n",
    "También se conocen como funciones anónimas, son funciones que no necesitan ser definidas, o sea, no poseen un nombre, y describen en una única fila los comandos que deseamos aplicar.\n",
    "\n",
    "https://docs.python.org/es/3/reference/expressions.html?#lambda\n",
    "\n",
    "Formato estándar:\n",
    "lambda variable: expresion"
   ]
  },
  {
   "cell_type": "code",
   "execution_count": 56,
   "metadata": {
    "colab": {
     "base_uri": "https://localhost:8080/"
    },
    "executionInfo": {
     "elapsed": 13160,
     "status": "ok",
     "timestamp": 1748438992344,
     "user": {
      "displayName": "Pol Argentino",
      "userId": "02817779166023488471"
     },
     "user_tz": 180
    },
    "id": "xfiKJN0MFXTN",
    "outputId": "32054015-9c6a-480c-a7e8-4860c7f98ed6"
   },
   "outputs": [
    {
     "name": "stdout",
     "output_type": "stream",
     "text": [
      "Digite una nota: 7.7\n"
     ]
    },
    {
     "data": {
      "text/plain": [
       "8.2"
      ]
     },
     "execution_count": 56,
     "metadata": {},
     "output_type": "execute_result"
    }
   ],
   "source": [
    "nota_ = float(input('Digite una nota: '))\n",
    "\n",
    "def cualitativa(nota):\n",
    "  return nota + 0.5\n",
    "\n",
    "cualitativa(nota_)"
   ]
  },
  {
   "cell_type": "code",
   "execution_count": 57,
   "metadata": {
    "colab": {
     "base_uri": "https://localhost:8080/"
    },
    "executionInfo": {
     "elapsed": 4006,
     "status": "ok",
     "timestamp": 1748439064180,
     "user": {
      "displayName": "Pol Argentino",
      "userId": "02817779166023488471"
     },
     "user_tz": 180
    },
    "id": "u2AkElsWFnf6",
    "outputId": "32afb4f5-e6fa-46bd-c1ed-fb7f1a31d948"
   },
   "outputs": [
    {
     "name": "stdout",
     "output_type": "stream",
     "text": [
      "Digite una nota: 7.7\n"
     ]
    },
    {
     "data": {
      "text/plain": [
       "8.2"
      ]
     },
     "execution_count": 57,
     "metadata": {},
     "output_type": "execute_result"
    }
   ],
   "source": [
    "nota_ = float(input('Digite una nota: '))\n",
    "\n",
    "cualitativa = lambda x: x + 0.5\n",
    "\n",
    "cualitativa(nota_)"
   ]
  },
  {
   "cell_type": "markdown",
   "metadata": {
    "id": "k0O7ZILeF2cK"
   },
   "source": [
    "# Situación 4:\n",
    "En esta nueva solicitud, necesitamos crear una calculadora simple para obtener el promedio ponderado de notas de una materia determinada. Vamos a pedir que el usuario introduzca 3 notas (N1, N2, N3) del estudiante y devuelva el promedio ponderado de este estudiante. Los pesos de las notas son de, respectivamente 3, 2 y 5.\n",
    "\n",
    "Necesitamos exhibir un pequeño texto para poder indicar el promedio del estudiante. ¿Vamos a resolver este desafío?\n",
    "\n",
    "Resolviendo nuestro problema:"
   ]
  },
  {
   "cell_type": "code",
   "execution_count": 60,
   "metadata": {
    "colab": {
     "base_uri": "https://localhost:8080/"
    },
    "executionInfo": {
     "elapsed": 16695,
     "status": "ok",
     "timestamp": 1748439467224,
     "user": {
      "displayName": "Pol Argentino",
      "userId": "02817779166023488471"
     },
     "user_tz": 180
    },
    "id": "VUUr-qURF_Tv",
    "outputId": "4f29cfad-8ee1-472c-f54b-17c84ac1fe32"
   },
   "outputs": [
    {
     "name": "stdout",
     "output_type": "stream",
     "text": [
      "Digite la primera nota: 7\n",
      "Digite la segunda nota: 8\n",
      "Digite la tercera nota: 9\n"
     ]
    }
   ],
   "source": [
    "n1 = float(input('Digite la primera nota: '))\n",
    "n2 = float(input('Digite la segunda nota: '))\n",
    "n3 = float(input('Digite la tercera nota: '))\n",
    "\n",
    "ponderado = lambda x,y,z: (x*3+y*2+z*5)/10\n",
    "\n",
    "nota_final = ponderado(n1,n2,n3)"
   ]
  },
  {
   "cell_type": "code",
   "execution_count": 61,
   "metadata": {
    "colab": {
     "base_uri": "https://localhost:8080/"
    },
    "executionInfo": {
     "elapsed": 180,
     "status": "ok",
     "timestamp": 1748439469953,
     "user": {
      "displayName": "Pol Argentino",
      "userId": "02817779166023488471"
     },
     "user_tz": 180
    },
    "id": "TxPkGESQGVDV",
    "outputId": "ca9e8fc7-089c-4215-8bff-5586d7e7c3a1"
   },
   "outputs": [
    {
     "name": "stdout",
     "output_type": "stream",
     "text": [
      "El promedio ponderado del estudiante es: 8.2.\n"
     ]
    }
   ],
   "source": [
    "\n",
    "print(f'El promedio ponderado del estudiante es: {nota_final}.')"
   ]
  },
  {
   "cell_type": "markdown",
   "metadata": {
    "id": "-p1iNOUvHYnN"
   },
   "source": [
    "# Situación 5:\n",
    "Ahora, debemos crear una pequeña función que permita dar una nota cualitativa (puntaje extra) a las notas del trimestre de los estudiantes del grupo que ganó el concurso de programación realizado en la institución. Cada estudiante recibirá el cualitativo de 0.5 añadido al promedio.\n",
    "\n",
    "Los datos recibidos corresponden a una lista que contiene las notas de algunos estudiantes y una variable con el cualitativo recibido.\n",
    "\n",
    "¿Vamos a resolver este desafío?\n",
    "\n",
    "Para facilitar nuestra comprensión del proceso, vamos a aplicar las notas de 5 estudiantes; sin embargo, puedes probar otros casos para practicar."
   ]
  },
  {
   "cell_type": "code",
   "execution_count": 62,
   "metadata": {
    "executionInfo": {
     "elapsed": 47,
     "status": "ok",
     "timestamp": 1748439560955,
     "user": {
      "displayName": "Pol Argentino",
      "userId": "02817779166023488471"
     },
     "user_tz": 180
    },
    "id": "Rsj3HrbuHmZx"
   },
   "outputs": [],
   "source": [
    "# Notas del estudiante\n",
    "notas = [6.0, 7.0, 9.0, 5.5, 8.0]\n",
    "cualitativo = 0.5"
   ]
  },
  {
   "cell_type": "code",
   "execution_count": 63,
   "metadata": {
    "executionInfo": {
     "elapsed": 40,
     "status": "ok",
     "timestamp": 1748439576817,
     "user": {
      "displayName": "Pol Argentino",
      "userId": "02817779166023488471"
     },
     "user_tz": 180
    },
    "id": "aOYUh_c-Hqgf"
   },
   "outputs": [],
   "source": [
    "notas_actualizadas = lambda x: x + 0.5"
   ]
  },
  {
   "cell_type": "code",
   "execution_count": 64,
   "metadata": {
    "colab": {
     "base_uri": "https://localhost:8080/",
     "height": 193
    },
    "executionInfo": {
     "elapsed": 109,
     "status": "error",
     "timestamp": 1748439589407,
     "user": {
      "displayName": "Pol Argentino",
      "userId": "02817779166023488471"
     },
     "user_tz": 180
    },
    "id": "stcUwB_OHruy",
    "outputId": "0c5cd593-aa6e-4447-cfdf-e6937062e24a"
   },
   "outputs": [
    {
     "ename": "TypeError",
     "evalue": "can only concatenate list (not \"float\") to list",
     "output_type": "error",
     "traceback": [
      "\u001b[0;31m---------------------------------------------------------------------------\u001b[0m",
      "\u001b[0;31mTypeError\u001b[0m                                 Traceback (most recent call last)",
      "\u001b[0;32m<ipython-input-64-de6832024cbc>\u001b[0m in \u001b[0;36m<cell line: 0>\u001b[0;34m()\u001b[0m\n\u001b[0;32m----> 1\u001b[0;31m \u001b[0mnotas_actualizadas\u001b[0m\u001b[0;34m(\u001b[0m\u001b[0mnotas\u001b[0m\u001b[0;34m)\u001b[0m\u001b[0;34m\u001b[0m\u001b[0;34m\u001b[0m\u001b[0m\n\u001b[0m",
      "\u001b[0;32m<ipython-input-63-c53acd501e9d>\u001b[0m in \u001b[0;36m<lambda>\u001b[0;34m(x)\u001b[0m\n\u001b[0;32m----> 1\u001b[0;31m \u001b[0mnotas_actualizadas\u001b[0m \u001b[0;34m=\u001b[0m \u001b[0;32mlambda\u001b[0m \u001b[0mx\u001b[0m\u001b[0;34m:\u001b[0m \u001b[0mx\u001b[0m \u001b[0;34m+\u001b[0m \u001b[0;36m0.5\u001b[0m\u001b[0;34m\u001b[0m\u001b[0;34m\u001b[0m\u001b[0m\n\u001b[0m",
      "\u001b[0;31mTypeError\u001b[0m: can only concatenate list (not \"float\") to list"
     ]
    }
   ],
   "source": [
    "notas_actualizadas(notas)"
   ]
  },
  {
   "cell_type": "markdown",
   "metadata": {
    "id": "3dwLC95DIW80"
   },
   "source": [
    "# GPT:\n",
    "El error que estás viendo ocurre porque estás intentando sumar 0.5 a una lista completa (notas), y Python no sabe cómo sumar un número flotante a una lista directamente:\n",
    "\n",
    "# ✅ Solución corregida:\n",
    "Tienes que sumar 0.5 a cada nota individualmente. Puedes usar map para aplicar la función a todos los elementos de la lista:"
   ]
  },
  {
   "cell_type": "code",
   "execution_count": 65,
   "metadata": {
    "colab": {
     "base_uri": "https://localhost:8080/"
    },
    "executionInfo": {
     "elapsed": 73,
     "status": "ok",
     "timestamp": 1748439842116,
     "user": {
      "displayName": "Pol Argentino",
      "userId": "02817779166023488471"
     },
     "user_tz": 180
    },
    "id": "BoSYzeK5Ingj",
    "outputId": "ac59a051-e805-4d6e-b834-8c6164afae1f"
   },
   "outputs": [
    {
     "name": "stdout",
     "output_type": "stream",
     "text": [
      "Notas originales: [6.0, 7.0, 9.0, 5.5, 8.0]\n",
      "Notas actualizadas: [6.5, 7.5, 9.5, 6.0, 8.5]\n"
     ]
    }
   ],
   "source": [
    "notas = [6.0, 7.0, 9.0, 5.5, 8.0]\n",
    "cualitativo = 0.5\n",
    "\n",
    "# Usamos lambda + map para sumar el cualitativo a cada nota\n",
    "notas_actualizadas = list(map(lambda x: x + cualitativo, notas))\n",
    "\n",
    "print(\"Notas originales:\", notas)\n",
    "print(\"Notas actualizadas:\", notas_actualizadas)"
   ]
  },
  {
   "cell_type": "markdown",
   "metadata": {
    "id": "QD13aU1JI1pJ"
   },
   "source": [
    "# Mapeando valores\n",
    "Formato estándar:\n",
    "map(lambda function, iterador)"
   ]
  },
  {
   "cell_type": "code",
   "execution_count": 66,
   "metadata": {
    "executionInfo": {
     "elapsed": 10,
     "status": "ok",
     "timestamp": 1748439931485,
     "user": {
      "displayName": "Pol Argentino",
      "userId": "02817779166023488471"
     },
     "user_tz": 180
    },
    "id": "bhR9-fK_I_bB"
   },
   "outputs": [],
   "source": [
    "\n",
    "notas_actualizadas = map(lambda x: x + 0.5, notas)"
   ]
  },
  {
   "cell_type": "code",
   "execution_count": 67,
   "metadata": {
    "colab": {
     "base_uri": "https://localhost:8080/"
    },
    "executionInfo": {
     "elapsed": 85,
     "status": "ok",
     "timestamp": 1748439951127,
     "user": {
      "displayName": "Pol Argentino",
      "userId": "02817779166023488471"
     },
     "user_tz": 180
    },
    "id": "CJ5SssuvJF4R",
    "outputId": "5ab01278-1026-4707-fe7a-bbca37241593"
   },
   "outputs": [
    {
     "data": {
      "text/plain": [
       "<map at 0x7893cdcf57b0>"
      ]
     },
     "execution_count": 67,
     "metadata": {},
     "output_type": "execute_result"
    }
   ],
   "source": [
    "notas_actualizadas"
   ]
  },
  {
   "cell_type": "code",
   "execution_count": 68,
   "metadata": {
    "colab": {
     "base_uri": "https://localhost:8080/"
    },
    "executionInfo": {
     "elapsed": 96,
     "status": "ok",
     "timestamp": 1748439976566,
     "user": {
      "displayName": "Pol Argentino",
      "userId": "02817779166023488471"
     },
     "user_tz": 180
    },
    "id": "5PNCWoYwJJRB",
    "outputId": "4c62ab2e-3d81-4686-9bcc-7968ff9a2fc1"
   },
   "outputs": [
    {
     "name": "stdout",
     "output_type": "stream",
     "text": [
      "[6.5, 7.5, 9.5, 6.0, 8.5]\n",
      "[6.0, 7.0, 9.0, 5.5, 8.0]\n"
     ]
    }
   ],
   "source": [
    "notas_actualizadas = list(notas_actualizadas)\n",
    "print(notas_actualizadas)\n",
    "print(notas)"
   ]
  },
  {
   "cell_type": "markdown",
   "metadata": {
    "id": "Jds9wLWxJb9W"
   },
   "source": [
    "# 3. ESTRUCTURAS DE DATOS COMPUESTAS\n",
    "# 3.1 Estructuras anidadas\n",
    "Previamente, aprendimos a manipular las listas, tuplas y diccionarios para trabajar con una secuencia o colección de valores sean numéricos, categóricos, etc. En esta aula, vamos a profundizar en otra situación común para la persona científica de datos que es trabajar con estos tipos de estructuras anidadas, o sea, cuando, por ejemplo, tenemos listas dentro de una lista.\n",
    "\n",
    "# Lista de listas\n",
    "* Formato estándar:\n",
    "## [[a1, a2,...,an], [b1, b2,...,bn], ..., [n1, n2,...,nn]]\n",
    "# Situación 6:\n",
    "Recibimos la demanda de transformar una lista con el nombre y las notas de tres trimestres de algunos estudiantes en una lista simple, con los nombres separados de las notas, y una lista de listas con las tres notas de cada estudiante separadas entre sí. Los datos recibidos corresponden a una lista con los nombres y las respectivas notas de cada estudiante.\n",
    "\n",
    "¿Vamos a resolver este desafío?\n",
    "\n",
    "Para facilitar nuestra comprensión del proceso, vamos a trabajar con un grupo de 5 estudiantes; sin embargo, puedes probar otros casos para practicar."
   ]
  },
  {
   "cell_type": "code",
   "execution_count": 69,
   "metadata": {
    "executionInfo": {
     "elapsed": 32,
     "status": "ok",
     "timestamp": 1748440168868,
     "user": {
      "displayName": "Pol Argentino",
      "userId": "02817779166023488471"
     },
     "user_tz": 180
    },
    "id": "RA2cwQe4J46E"
   },
   "outputs": [],
   "source": [
    "notas_grupo = ['Juan', 8.0, 9.0, 10.0, 'Maria', 9.0, 7.0, 6.0, 'José', 3.4, 7.0, 7.0, 'Claudia', 5.5, 6.6, 8.0, 'Ana', 6.0, 10.0, 9.5]\n"
   ]
  },
  {
   "cell_type": "code",
   "execution_count": 70,
   "metadata": {
    "executionInfo": {
     "elapsed": 17,
     "status": "ok",
     "timestamp": 1748440211864,
     "user": {
      "displayName": "Pol Argentino",
      "userId": "02817779166023488471"
     },
     "user_tz": 180
    },
    "id": "AVm_iGlQJ-Nw"
   },
   "outputs": [],
   "source": [
    "nombres = []\n",
    "notas = []\n",
    "\n",
    "for i in range(len(notas_grupo)):\n",
    "  if i % 4 == 0:                   # Usa % 4 para identificar los índices de los nombres.\n",
    "    nombres.append(notas_grupo[i]) # cada 4 posiciones hay un nombre\n",
    "  else:\n",
    "    notas.append(notas_grupo[i]) # los demás son notas\n",
    "\n",
    "\n",
    "\n",
    "# Cada grupo de 4 elementos tiene:\n",
    "\n",
    "# 1 nombre (índice divisible por 4)\n",
    "\n",
    "# 3 notas (índices que no lo son)"
   ]
  },
  {
   "cell_type": "code",
   "execution_count": 71,
   "metadata": {
    "colab": {
     "base_uri": "https://localhost:8080/"
    },
    "executionInfo": {
     "elapsed": 107,
     "status": "ok",
     "timestamp": 1748440253136,
     "user": {
      "displayName": "Pol Argentino",
      "userId": "02817779166023488471"
     },
     "user_tz": 180
    },
    "id": "-0NUk4RZKPnU",
    "outputId": "dc7c28c8-1dc5-42aa-a90a-0060bd9df4c3"
   },
   "outputs": [
    {
     "data": {
      "text/plain": [
       "['Juan', 'Maria', 'José', 'Claudia', 'Ana']"
      ]
     },
     "execution_count": 71,
     "metadata": {},
     "output_type": "execute_result"
    }
   ],
   "source": [
    "nombres"
   ]
  },
  {
   "cell_type": "code",
   "execution_count": 72,
   "metadata": {
    "colab": {
     "base_uri": "https://localhost:8080/"
    },
    "executionInfo": {
     "elapsed": 26,
     "status": "ok",
     "timestamp": 1748440263983,
     "user": {
      "displayName": "Pol Argentino",
      "userId": "02817779166023488471"
     },
     "user_tz": 180
    },
    "id": "mpOZyEpTKRwU",
    "outputId": "a553c25a-354c-4f1d-df7a-823350c62b4e"
   },
   "outputs": [
    {
     "data": {
      "text/plain": [
       "[8.0, 9.0, 10.0, 9.0, 7.0, 6.0, 3.4, 7.0, 7.0, 5.5, 6.6, 8.0, 6.0, 10.0, 9.5]"
      ]
     },
     "execution_count": 72,
     "metadata": {},
     "output_type": "execute_result"
    }
   ],
   "source": [
    "notas"
   ]
  },
  {
   "cell_type": "code",
   "execution_count": 73,
   "metadata": {
    "executionInfo": {
     "elapsed": 53,
     "status": "ok",
     "timestamp": 1748440287894,
     "user": {
      "displayName": "Pol Argentino",
      "userId": "02817779166023488471"
     },
     "user_tz": 180
    },
    "id": "90oeVfsdKVrq"
   },
   "outputs": [],
   "source": [
    "notas_separadas = []\n",
    "\n",
    "for i in range(0, len(notas),3):\n",
    "  notas_separadas.append([notas[i],notas[i+1], notas[i+2]])\n",
    "\n",
    "# Se recorren las notas de 3 en 3 para agruparlas.\n",
    "\n",
    "# Resultado: una lista con listas de 3 notas por estudiante."
   ]
  },
  {
   "cell_type": "code",
   "execution_count": 74,
   "metadata": {
    "colab": {
     "base_uri": "https://localhost:8080/"
    },
    "executionInfo": {
     "elapsed": 114,
     "status": "ok",
     "timestamp": 1748440305594,
     "user": {
      "displayName": "Pol Argentino",
      "userId": "02817779166023488471"
     },
     "user_tz": 180
    },
    "id": "uLJwm7t3KcTD",
    "outputId": "2a086e9a-072d-420d-818a-da0369947ae4"
   },
   "outputs": [
    {
     "data": {
      "text/plain": [
       "[[8.0, 9.0, 10.0],\n",
       " [9.0, 7.0, 6.0],\n",
       " [3.4, 7.0, 7.0],\n",
       " [5.5, 6.6, 8.0],\n",
       " [6.0, 10.0, 9.5]]"
      ]
     },
     "execution_count": 74,
     "metadata": {},
     "output_type": "execute_result"
    }
   ],
   "source": [
    "notas_separadas"
   ]
  },
  {
   "cell_type": "markdown",
   "metadata": {
    "id": "AUKq1KFBM6iE"
   },
   "source": [
    "# Lista de tuplas\n",
    "\n",
    "### Formato estándar:\n",
    "## [(a1, a2,...,an), (b1, b2,...,bn), ..., (n1, n2,...,nn)]\n",
    "\n",
    "# Situación 7:\n",
    "Necesitamos generar una lista de tuplas con los nombres de los estudiantes y el código ID de cada uno de ellos para la plataforma de análisis de datos. La creación del código consiste en concatenar la primera letra del nombre del estudiante con un número aleatorio de 0 a 999. Los datos recibidos corresponden a una lista con los nombres de cada estudiante.\n",
    "\n",
    "¿Vamos a resolver este desafío?\n",
    "\n",
    "Para facilitar nuestra comprensión del proceso, vamos a trabajar con un grupo de 5 estudiantes; sin embargo, puedes probar otros casos para practicar."
   ]
  },
  {
   "cell_type": "code",
   "execution_count": 82,
   "metadata": {
    "colab": {
     "base_uri": "https://localhost:8080/"
    },
    "executionInfo": {
     "elapsed": 105,
     "status": "ok",
     "timestamp": 1748441771592,
     "user": {
      "displayName": "Pol Argentino",
      "userId": "02817779166023488471"
     },
     "user_tz": 180
    },
    "id": "kQqhbWDoNe_e",
    "outputId": "87b3d0aa-5ad8-47b0-cdc3-cefa7946a007"
   },
   "outputs": [
    {
     "data": {
      "text/plain": [
       "['Juan', 'Maria', 'José', 'Claudia', 'Ana']"
      ]
     },
     "execution_count": 82,
     "metadata": {},
     "output_type": "execute_result"
    }
   ],
   "source": [
    "nombres\n",
    "# nombres = ['Juan', 'Maria', 'José', 'Claudia', 'Ana']\n"
   ]
  },
  {
   "cell_type": "code",
   "execution_count": 81,
   "metadata": {
    "executionInfo": {
     "elapsed": 97,
     "status": "ok",
     "timestamp": 1748441738219,
     "user": {
      "displayName": "Pol Argentino",
      "userId": "02817779166023488471"
     },
     "user_tz": 180
    },
    "id": "H7F9FOLrNiJG"
   },
   "outputs": [],
   "source": [
    "from random import randint # Se importa randint para generar un número entero aleatorio entre 0 y 999\n",
    "\n",
    "def genera_numero(): # La función genera_numero() devuelve un número al azar cada vez que se llama.\n",
    "\n",
    "  return randint(0,999)"
   ]
  },
  {
   "cell_type": "code",
   "execution_count": 77,
   "metadata": {
    "colab": {
     "base_uri": "https://localhost:8080/"
    },
    "executionInfo": {
     "elapsed": 70,
     "status": "ok",
     "timestamp": 1748441289234,
     "user": {
      "displayName": "Pol Argentino",
      "userId": "02817779166023488471"
     },
     "user_tz": 180
    },
    "id": "QAgenD3-OLdR",
    "outputId": "75b5f86d-c0a0-423c-8c44-757ce6d18f55"
   },
   "outputs": [
    {
     "data": {
      "text/plain": [
       "390"
      ]
     },
     "execution_count": 77,
     "metadata": {},
     "output_type": "execute_result"
    }
   ],
   "source": [
    "genera_numero()"
   ]
  },
  {
   "cell_type": "code",
   "execution_count": 83,
   "metadata": {
    "colab": {
     "base_uri": "https://localhost:8080/",
     "height": 35
    },
    "executionInfo": {
     "elapsed": 92,
     "status": "ok",
     "timestamp": 1748442076564,
     "user": {
      "displayName": "Pol Argentino",
      "userId": "02817779166023488471"
     },
     "user_tz": 180
    },
    "id": "DbyCXl5GRJyh",
    "outputId": "23dad50d-bbe4-4edd-dcba-9770a9c50786"
   },
   "outputs": [
    {
     "data": {
      "application/vnd.google.colaboratory.intrinsic+json": {
       "type": "string"
      },
      "text/plain": [
       "'Ana'"
      ]
     },
     "execution_count": 83,
     "metadata": {},
     "output_type": "execute_result"
    }
   ],
   "source": [
    "nombres[i]"
   ]
  },
  {
   "cell_type": "code",
   "execution_count": 78,
   "metadata": {
    "colab": {
     "base_uri": "https://localhost:8080/",
     "height": 35
    },
    "executionInfo": {
     "elapsed": 48,
     "status": "ok",
     "timestamp": 1748441315495,
     "user": {
      "displayName": "Pol Argentino",
      "userId": "02817779166023488471"
     },
     "user_tz": 180
    },
    "id": "H-iobfvYOShA",
    "outputId": "cd5592eb-5322-4dfe-c7f7-6871f04bd747"
   },
   "outputs": [
    {
     "data": {
      "application/vnd.google.colaboratory.intrinsic+json": {
       "type": "string"
      },
      "text/plain": [
       "'J'"
      ]
     },
     "execution_count": 78,
     "metadata": {},
     "output_type": "execute_result"
    }
   ],
   "source": [
    "nombres[0][0]"
   ]
  },
  {
   "cell_type": "code",
   "execution_count": 79,
   "metadata": {
    "executionInfo": {
     "elapsed": 28,
     "status": "ok",
     "timestamp": 1748441394972,
     "user": {
      "displayName": "Pol Argentino",
      "userId": "02817779166023488471"
     },
     "user_tz": 180
    },
    "id": "57AyoAoQOdas"
   },
   "outputs": [],
   "source": [
    "# 🔄 3. Generar códigos únicos\n",
    "codigo_estudiantes = []\n",
    "\n",
    "for i in range(len(nombres)):\n",
    "  codigo_estudiantes.append((nombres[i],nombres[i][0]+str(genera_numero())))\n",
    "\n",
    "# Aquí está lo interesante:\n",
    "# ------------------------\n",
    "\n",
    "# nombre[i]: obtiene los nombres\n",
    "# nombres[i][0]: obtiene la primera letra del nombre, por ejemplo 'J' de 'Juan'.\n",
    "# str(genera_numero()): genera un número aleatorio y lo convierte en texto.\n",
    "# Se concatena la letra con el número: 'J345', 'M021', etc.\n",
    "# Se guarda como una tupla (nombre, código)."
   ]
  },
  {
   "cell_type": "code",
   "execution_count": 80,
   "metadata": {
    "colab": {
     "base_uri": "https://localhost:8080/"
    },
    "executionInfo": {
     "elapsed": 113,
     "status": "ok",
     "timestamp": 1748441411247,
     "user": {
      "displayName": "Pol Argentino",
      "userId": "02817779166023488471"
     },
     "user_tz": 180
    },
    "id": "_QPAR1qdOqNg",
    "outputId": "6bed1bb7-283e-4750-f444-32a06e86822f"
   },
   "outputs": [
    {
     "data": {
      "text/plain": [
       "[('Juan', 'J958'),\n",
       " ('Maria', 'M847'),\n",
       " ('José', 'J925'),\n",
       " ('Claudia', 'C331'),\n",
       " ('Ana', 'A741')]"
      ]
     },
     "execution_count": 80,
     "metadata": {},
     "output_type": "execute_result"
    }
   ],
   "source": [
    "\n",
    "codigo_estudiantes"
   ]
  },
  {
   "cell_type": "markdown",
   "metadata": {
    "id": "1DLK37dFRXcY"
   },
   "source": [
    "# 3.2 List comprehension\n",
    "Es una forma simple y concisa de crear una lista. Podemos aplicar condicionales y lazos para crear diversos tipos de listas a partir de patrones que deseamos para nuestra estructura de datos.\n",
    "\n",
    "https://docs.python.org/es/3/tutorial/datastructures.html?#list-comprehensions\n",
    "\n",
    "### Formato estándar:\n",
    "* [expresion for item in lista]\n",
    "\n",
    "# Situación 8:\n",
    "Recibimos la demanda de crear una lista con el promedio de los estudiantes de la lista de listas que creamos en la Situación 6, redondeando el promedio a una casilla decimal. Recordando que cada lista de la lista de listas contiene las tres notas de cada estudiante.\n",
    "\n",
    "¿Vamos a resolver este desafío?\n",
    "\n",
    "# Tip:\n",
    " Utiliza el formato:\n",
    "\n",
    "## [expresion for item in lista]"
   ]
  },
  {
   "cell_type": "code",
   "execution_count": 84,
   "metadata": {
    "executionInfo": {
     "elapsed": 55,
     "status": "ok",
     "timestamp": 1748442258566,
     "user": {
      "displayName": "Pol Argentino",
      "userId": "02817779166023488471"
     },
     "user_tz": 180
    },
    "id": "Ny1_8uZQRykS"
   },
   "outputs": [],
   "source": [
    "def promedio(lista: list=[0]) -> float:\n",
    "  ''' Función para calcular el promedio de notas en una lista\n",
    "\n",
    "  lista: list, default [0]\n",
    "    Lista con las notas para calcular el promedio\n",
    "  return = calculo: float\n",
    "    Promedio calculado\n",
    "  '''\n",
    "\n",
    "  calculo = sum(lista) / len(lista)\n",
    "\n",
    "  return calculo\n"
   ]
  },
  {
   "cell_type": "code",
   "execution_count": 85,
   "metadata": {
    "executionInfo": {
     "elapsed": 62,
     "status": "ok",
     "timestamp": 1748442270489,
     "user": {
      "displayName": "Pol Argentino",
      "userId": "02817779166023488471"
     },
     "user_tz": 180
    },
    "id": "bkc-FxVHR7-e"
   },
   "outputs": [],
   "source": [
    "notas = [[8.0, 9.0, 10.0], [9.0, 7.0, 6.0], [3.4, 7.0, 7.0], [5.5, 6.6, 8.0], [6.0, 10.0, 9.5]]\n"
   ]
  },
  {
   "cell_type": "code",
   "execution_count": 86,
   "metadata": {
    "colab": {
     "base_uri": "https://localhost:8080/"
    },
    "executionInfo": {
     "elapsed": 64,
     "status": "ok",
     "timestamp": 1748442284164,
     "user": {
      "displayName": "Pol Argentino",
      "userId": "02817779166023488471"
     },
     "user_tz": 180
    },
    "id": "liXBtmcGR_YN",
    "outputId": "46860648-f6fa-4f2d-8b20-657b5d7e693d"
   },
   "outputs": [
    {
     "data": {
      "text/plain": [
       "[9.0, 7.3, 5.8, 6.7, 8.5]"
      ]
     },
     "execution_count": 86,
     "metadata": {},
     "output_type": "execute_result"
    }
   ],
   "source": [
    "promedios = [round(promedio(nota),1) for nota in notas]\n",
    "promedios"
   ]
  },
  {
   "cell_type": "markdown",
   "metadata": {
    "id": "2MJBQtLoSO5k"
   },
   "source": [
    "# Situación 9:\n",
    "Ahora, necesitamos utilizar los promedios calculados en el ejemplo anterior, y agruparlos con el nombre de los respectivos estudiantes. Esto será necesario para generar una lista que seleccione a aquellos estudiantes que posean un promedio final mayor o igual a 8 para concursar por una beca de estudios para el próximo año lectivo. Los datos recibidos corresponden a una lista de tuplas con los nombres y los códigos de los estudiantes junto a la lista de promedios calculados previamente.\n",
    "\n",
    "Nota: El número de código será diferente cada vez que se ejecute la celda que los genera, por lo tanto, es completamente normal que estos códigos sean diferentes.\n",
    "\n",
    "¿Vamos a resolver este desafío?\n",
    "\n",
    "Para facilitar nuestra comprensión del proceso vamos a trabajar con un grupo de 5 estudiantes.\n",
    "\n",
    "# Tip:\n",
    " Utiliza el formato:\n",
    "\n",
    "## [expresion for item in lista if condicion]"
   ]
  },
  {
   "cell_type": "code",
   "execution_count": 87,
   "metadata": {
    "executionInfo": {
     "elapsed": 17,
     "status": "ok",
     "timestamp": 1748442451971,
     "user": {
      "displayName": "Pol Argentino",
      "userId": "02817779166023488471"
     },
     "user_tz": 180
    },
    "id": "KtJSKtZRSmnE"
   },
   "outputs": [],
   "source": [
    "\n",
    "nombres = [('Juan', 'J63'), ('Maria', 'M469'), ('José', 'J985'), ('Claudia', 'C546'), ('Ana', 'A272')]\n",
    "promedios = [9.0, 7.3, 5.8, 6.7, 8.5]"
   ]
  },
  {
   "cell_type": "code",
   "execution_count": 88,
   "metadata": {
    "colab": {
     "base_uri": "https://localhost:8080/"
    },
    "executionInfo": {
     "elapsed": 77,
     "status": "ok",
     "timestamp": 1748442502267,
     "user": {
      "displayName": "Pol Argentino",
      "userId": "02817779166023488471"
     },
     "user_tz": 180
    },
    "id": "JK_EUqslS0lD",
    "outputId": "523cb25d-2f33-48c9-8037-0edc8ffb00af"
   },
   "outputs": [
    {
     "data": {
      "text/plain": [
       "['Juan', 'Maria', 'José', 'Claudia', 'Ana']"
      ]
     },
     "execution_count": 88,
     "metadata": {},
     "output_type": "execute_result"
    }
   ],
   "source": [
    "nombres = [nombre[0] for nombre in nombres]\n",
    "nombres"
   ]
  },
  {
   "cell_type": "markdown",
   "metadata": {
    "id": "MipaLVWAS3_j"
   },
   "source": [
    "#Tip:\n",
    " Para lograr parear los promedios y los nombres fácilmente, podemos acudir a otra built-in function: zip()\n",
    "\n",
    "Esta recibe uno o más iterables (lista, string, dict, etc.) y los retorna como un iterador de tuplas donde cada elemento de los iterables es pareado."
   ]
  },
  {
   "cell_type": "code",
   "execution_count": 89,
   "metadata": {
    "colab": {
     "base_uri": "https://localhost:8080/"
    },
    "executionInfo": {
     "elapsed": 44,
     "status": "ok",
     "timestamp": 1748442560481,
     "user": {
      "displayName": "Pol Argentino",
      "userId": "02817779166023488471"
     },
     "user_tz": 180
    },
    "id": "-e0yEnDoTCK2",
    "outputId": "716e909e-fa16-44f0-a3f5-82e319a0956b"
   },
   "outputs": [
    {
     "data": {
      "text/plain": [
       "[('Juan', 9.0), ('Maria', 7.3), ('José', 5.8), ('Claudia', 6.7), ('Ana', 8.5)]"
      ]
     },
     "execution_count": 89,
     "metadata": {},
     "output_type": "execute_result"
    }
   ],
   "source": [
    "estudiantes = list(zip(nombres,promedios))\n",
    "estudiantes"
   ]
  },
  {
   "cell_type": "code",
   "execution_count": 90,
   "metadata": {
    "colab": {
     "base_uri": "https://localhost:8080/"
    },
    "executionInfo": {
     "elapsed": 161,
     "status": "ok",
     "timestamp": 1748442713521,
     "user": {
      "displayName": "Pol Argentino",
      "userId": "02817779166023488471"
     },
     "user_tz": 180
    },
    "id": "qJBY_Li2TnzF",
    "outputId": "7f0e9911-da41-40ce-a087-cae18f72b235"
   },
   "outputs": [
    {
     "data": {
      "text/plain": [
       "['Juan', 'Ana']"
      ]
     },
     "execution_count": 90,
     "metadata": {},
     "output_type": "execute_result"
    }
   ],
   "source": [
    "\n",
    "candidatos = [estudiante[0] for estudiante in estudiantes if estudiante[1] >= 8]\n",
    "candidatos"
   ]
  },
  {
   "cell_type": "markdown",
   "metadata": {
    "id": "TpQ8lG70Txss"
   },
   "source": [
    "# Situación 10:\n",
    "Recibimos dos demandas sobre este proyecto con las notas de los estudiantes:\n",
    "\n",
    "Crear una lista de la situación de los estudiantes considerando los siguientes casos: Si su promedio es mayor o igual a 7, recibirá el valor \"Aprobado\" y en caso contrario recibirá el valor \"Reprobado\".\n",
    "Generar una lista de listas con:\n",
    "Lista de tuplas con el nombre de los estudiantes y sus códigos\n",
    "Lista de listas con las notas de cada estudiante\n",
    "Lista con los promedios de cada estudiante\n",
    "Lista de la situación de los estudiantes de acuerdo con los promedios\n",
    "Los datos que utilizaremos son los mismos que generamos en las situaciones anteriores (nombres, notas, promedios).\n",
    "\n",
    "¿Vamos a resolver este desafío?\n",
    "\n",
    "Para avanzar en el proceso, vamos a dejar escritas las estructuras de datos que ya produjimos.\n",
    "\n",
    "# Tip:\n",
    " Para la lista de las situaciones utiliza el formato:\n",
    "\n",
    "## [resultado_if if condicion else resultado_else for item in lista]"
   ]
  },
  {
   "cell_type": "code",
   "execution_count": 91,
   "metadata": {
    "executionInfo": {
     "elapsed": 95,
     "status": "ok",
     "timestamp": 1748442913474,
     "user": {
      "displayName": "Pol Argentino",
      "userId": "02817779166023488471"
     },
     "user_tz": 180
    },
    "id": "B0aMfG8eUYmy"
   },
   "outputs": [],
   "source": [
    "nombres = [('Juan', 'J63'), ('Maria', 'M469'), ('José', 'J985'), ('Claudia', 'C546'), ('Ana', 'A272')]\n",
    "notas = [[8.0, 9.0, 10.0], [9.0, 7.0, 6.0], [3.4, 7.0, 7.0], [5.5, 6.6, 8.0], [6.0, 10.0, 9.5]]\n",
    "promedios = [9.0, 7.3, 5.8, 6.7, 8.5]"
   ]
  },
  {
   "cell_type": "code",
   "execution_count": 92,
   "metadata": {
    "colab": {
     "base_uri": "https://localhost:8080/"
    },
    "executionInfo": {
     "elapsed": 92,
     "status": "ok",
     "timestamp": 1748443073370,
     "user": {
      "displayName": "Pol Argentino",
      "userId": "02817779166023488471"
     },
     "user_tz": 180
    },
    "id": "AaPZywO-U9x9",
    "outputId": "02893830-bfae-4ded-830b-d6ba145bcbec"
   },
   "outputs": [
    {
     "data": {
      "text/plain": [
       "['Aprobado(a)', 'Aprobado(a)', 'Reprobado(a)', 'Reprobado(a)', 'Aprobado(a)']"
      ]
     },
     "execution_count": 92,
     "metadata": {},
     "output_type": "execute_result"
    }
   ],
   "source": [
    "situacion = ['Aprobado(a)' if promedio >= 7 else 'Reprobado(a)' for promedio in promedios]\n",
    "situacion"
   ]
  },
  {
   "cell_type": "markdown",
   "metadata": {
    "id": "AZrMPBe3VN3z"
   },
   "source": [
    "# Tip:\n",
    " Para generar la lista de listas del enunciado podemos utilizar el siguiente formato:\n",
    "\n",
    "## [expresion for item in lista de listas]"
   ]
  },
  {
   "cell_type": "code",
   "execution_count": 93,
   "metadata": {
    "colab": {
     "base_uri": "https://localhost:8080/"
    },
    "executionInfo": {
     "elapsed": 55,
     "status": "ok",
     "timestamp": 1748443167472,
     "user": {
      "displayName": "Pol Argentino",
      "userId": "02817779166023488471"
     },
     "user_tz": 180
    },
    "id": "7PMrcXxIVVsy",
    "outputId": "18b87aa1-3075-4084-da6b-dd553904e9bd"
   },
   "outputs": [
    {
     "data": {
      "text/plain": [
       "[[('Juan', 'J63'),\n",
       "  ('Maria', 'M469'),\n",
       "  ('José', 'J985'),\n",
       "  ('Claudia', 'C546'),\n",
       "  ('Ana', 'A272')],\n",
       " [[8.0, 9.0, 10.0],\n",
       "  [9.0, 7.0, 6.0],\n",
       "  [3.4, 7.0, 7.0],\n",
       "  [5.5, 6.6, 8.0],\n",
       "  [6.0, 10.0, 9.5]],\n",
       " [9.0, 7.3, 5.8, 6.7, 8.5],\n",
       " ['Aprobado(a)', 'Aprobado(a)', 'Reprobado(a)', 'Reprobado(a)', 'Aprobado(a)']]"
      ]
     },
     "execution_count": 93,
     "metadata": {},
     "output_type": "execute_result"
    }
   ],
   "source": [
    "registros = [x for x in [nombres, notas, promedios, situacion]]\n",
    "registros"
   ]
  },
  {
   "cell_type": "markdown",
   "metadata": {
    "id": "5k3hSJ-FVi1r"
   },
   "source": [
    "# Tip:\n",
    " Podemos acudir a la forma más simple de generación de lista de listas con el uso directo de los corchetes sin la necesidad de utilizar las expresiones y el lazo for que se emplea en la comprensión de listas."
   ]
  },
  {
   "cell_type": "code",
   "execution_count": 94,
   "metadata": {
    "colab": {
     "base_uri": "https://localhost:8080/"
    },
    "executionInfo": {
     "elapsed": 63,
     "status": "ok",
     "timestamp": 1748443245785,
     "user": {
      "displayName": "Pol Argentino",
      "userId": "02817779166023488471"
     },
     "user_tz": 180
    },
    "id": "YqWpSoh_VqET",
    "outputId": "c55d2002-bc31-4ade-ed1e-c8764bc971b9"
   },
   "outputs": [
    {
     "data": {
      "text/plain": [
       "[[('Juan', 'J63'),\n",
       "  ('Maria', 'M469'),\n",
       "  ('José', 'J985'),\n",
       "  ('Claudia', 'C546'),\n",
       "  ('Ana', 'A272')],\n",
       " [[8.0, 9.0, 10.0],\n",
       "  [9.0, 7.0, 6.0],\n",
       "  [3.4, 7.0, 7.0],\n",
       "  [5.5, 6.6, 8.0],\n",
       "  [6.0, 10.0, 9.5]],\n",
       " [9.0, 7.3, 5.8, 6.7, 8.5],\n",
       " ['Aprobado(a)', 'Aprobado(a)', 'Reprobado(a)', 'Reprobado(a)', 'Aprobado(a)']]"
      ]
     },
     "execution_count": 94,
     "metadata": {},
     "output_type": "execute_result"
    }
   ],
   "source": [
    "lista_completa = [nombres,notas,promedios,situacion]\n",
    "lista_completa\n"
   ]
  },
  {
   "cell_type": "markdown",
   "metadata": {
    "id": "k0ESIp_OVwc0"
   },
   "source": [
    "# 3.3 Dict comprehension\n",
    "Es una forma simple y concisa de crear o modificar un diccionario. Podemos aplicar condicionales y lazos para crear diversos tipos de diccionarios a partir de los patrones que buscamos para nuestra estructura de datos y con el soporte de iterables como listas o sets.\n",
    "\n",
    "https://peps.python.org/pep-0274/\n",
    "\n",
    "# Formato estándar:\n",
    "* {llave: valor for item in lista}\n",
    "#Situación 11:\n",
    "Ahora, nuestra demanda consiste en generar un diccionario a partir de la lista de listas que creamos en la Situación 10 para entregar a la persona responsable por construir las tablas para el análisis de los datos.\n",
    "\n",
    "Las llaves de nuestro diccionario serán las columnas identificando el tipo de dato\n",
    "Los valores serán las listas con los datos correspondientes a aquella llave.\n",
    "¿Vamos a resolver este desafío?\n",
    "\n",
    "Para facilitar nuestra comprensión del proceso vamos a trabajar con un grupo de 5 estudiantes.\n",
    "\n",
    "# Tip:\n",
    " Utiliza el formato\n",
    "\n",
    "# {llave: valor for item in lista}"
   ]
  },
  {
   "cell_type": "code",
   "execution_count": 95,
   "metadata": {
    "executionInfo": {
     "elapsed": 66,
     "status": "ok",
     "timestamp": 1748443575156,
     "user": {
      "displayName": "Pol Argentino",
      "userId": "02817779166023488471"
     },
     "user_tz": 180
    },
    "id": "eXbmA9ZbW6Xa"
   },
   "outputs": [],
   "source": [
    "\n",
    "lista_completa = [[('Juan', 'J63'),  ('Maria', 'M469'),  ('José', 'J985'),  ('Claudia', 'C546'),  ('Ana', 'A272')],\n",
    "                  [[8.0, 9.0, 10.0],  [9.0, 7.0, 6.0],  [3.4, 7.0, 7.0], [5.5, 6.6, 8.0],  [6.0, 10.0, 9.5]],\n",
    "                  [9.0, 7.3, 5.8, 6.7, 8.5],\n",
    "                  ['Aprobado(a)', 'Aprobado(a)', 'Reprobado(a)', 'Reprobado(a)', 'Aprobado(a)']]"
   ]
  },
  {
   "cell_type": "code",
   "execution_count": 97,
   "metadata": {
    "colab": {
     "base_uri": "https://localhost:8080/"
    },
    "executionInfo": {
     "elapsed": 137,
     "status": "ok",
     "timestamp": 1748443635396,
     "user": {
      "displayName": "Pol Argentino",
      "userId": "02817779166023488471"
     },
     "user_tz": 180
    },
    "id": "zeaNnEc_XA0E",
    "outputId": "81d7cd66-808f-47c7-f373-e174a7c475df"
   },
   "outputs": [
    {
     "data": {
      "text/plain": [
       "{'Notas': [[8.0, 9.0, 10.0],\n",
       "  [9.0, 7.0, 6.0],\n",
       "  [3.4, 7.0, 7.0],\n",
       "  [5.5, 6.6, 8.0],\n",
       "  [6.0, 10.0, 9.5]],\n",
       " 'Promedio Final': [9.0, 7.3, 5.8, 6.7, 8.5],\n",
       " 'Situación': ['Aprobado(a)',\n",
       "  'Aprobado(a)',\n",
       "  'Reprobado(a)',\n",
       "  'Reprobado(a)',\n",
       "  'Aprobado(a)']}"
      ]
     },
     "execution_count": 97,
     "metadata": {},
     "output_type": "execute_result"
    }
   ],
   "source": [
    "columnas = ['Notas','Promedio Final','Situación']\n",
    "\n",
    "registro = {columnas[i]:lista_completa[i+1] for i in range(len(columnas))}\n",
    "registro\n"
   ]
  },
  {
   "cell_type": "code",
   "execution_count": 98,
   "metadata": {
    "colab": {
     "base_uri": "https://localhost:8080/"
    },
    "executionInfo": {
     "elapsed": 49,
     "status": "ok",
     "timestamp": 1748443691577,
     "user": {
      "displayName": "Pol Argentino",
      "userId": "02817779166023488471"
     },
     "user_tz": 180
    },
    "id": "-epRVMt6XW8p",
    "outputId": "1a3a5473-4e06-477f-9edc-78e00389c56a"
   },
   "outputs": [
    {
     "data": {
      "text/plain": [
       "{'Notas': [[8.0, 9.0, 10.0],\n",
       "  [9.0, 7.0, 6.0],\n",
       "  [3.4, 7.0, 7.0],\n",
       "  [5.5, 6.6, 8.0],\n",
       "  [6.0, 10.0, 9.5]],\n",
       " 'Promedio Final': [9.0, 7.3, 5.8, 6.7, 8.5],\n",
       " 'Situación': ['Aprobado(a)',\n",
       "  'Aprobado(a)',\n",
       "  'Reprobado(a)',\n",
       "  'Reprobado(a)',\n",
       "  'Aprobado(a)'],\n",
       " 'Estudiante': ['Juan', 'Maria', 'José', 'Claudia', 'Ana']}"
      ]
     },
     "execution_count": 98,
     "metadata": {},
     "output_type": "execute_result"
    }
   ],
   "source": [
    "\n",
    "registro['Estudiante'] = [lista_completa[0][i][0] for i in range(len(lista_completa[0]))]\n",
    "registro"
   ]
  },
  {
   "cell_type": "markdown",
   "metadata": {
    "id": "EF5L7pMpXgk5"
   },
   "source": [
    "# 4. LIDIANDO CON EXCEPCIONES\n",
    "Hemos podido evidenciar hasta aquí la existencia de algunos errores y excepciones en la ejecución de algún comando. Como científico/a de datos o programador, necesitarás estar atento a estas situaciones para evitar bugs o problemas en tus códigos y análisis que puedan afectar la experiencia tanto del usuario como la eficiencia de su análisis.\n",
    "\n",
    "Existen básicamente dos formas distintas de errores: Los errores de sintáxis y las excepciones.\n",
    "\n",
    "Las excepciones son errores detectados durante la ejecución e interrumpen el flujo del programa cerrándolo en caso de que no sean tratadas.\n",
    "\n",
    "Vamos a aprender a identificar y tratar algunas de las excepciones aquí, pero es siempre importante consultar la documentación para investigar y verificar cuáles se ajustan a sus proyectos.\n",
    "\n",
    "* Documentación sobre errores y excepciones: https://docs.python.org/es/3/tutorial/errors.html\n",
    "\n",
    "# 4.1 Tratando las Excepciones\n",
    "El tratamiento de las excepciones contribuye a establecer un flujo alternativo para la ejecución del código evitando la interrupción de los procesos inesperadamente.\n",
    "\n",
    "Existe una serie de excepciones, y a partir del comportamiento que queremos, y de los errores que queremos tratar, es posible construir un camino para el usuario, o también, proveer más detalles sobre aquella excepción.\n",
    "\n",
    "* Jerarquía de las excepciones (https://docs.python.org/es/3/library/exceptions.html#exception-hierarchy)\n",
    "Try ... Except\n",
    "try:\n",
    "  # código que será ejecutado. En caso de que surja una excepción, para inmediatamente\n",
    "except <nombre_de_la_excepcion as e>:\n",
    "  # Si surje una excepción en el try, ejecuta este código, si no, salta esta etapa\n",
    "# Situación 12:\n",
    "Creaste un código que lee un diccionario con las notas de los estudiantes y querías retornar la lista de notas de un estudiante.\n",
    "\n",
    "En caso que el/la estudiante no esté matriculado(a) en el grupo debemos tratar la excepción para presentar el mensaje \"Estudiante no matriculado(a) en el grupo\".\n",
    "\n",
    "Vamos a trabajar en este ejemplo con la excepción Key Error que interrumpirá el processo de este trecho de código.\n",
    "\n",
    "¿Vamos a probar este primer tratamiento?"
   ]
  },
  {
   "cell_type": "code",
   "execution_count": 99,
   "metadata": {
    "executionInfo": {
     "elapsed": 162,
     "status": "ok",
     "timestamp": 1748443932564,
     "user": {
      "displayName": "Pol Argentino",
      "userId": "02817779166023488471"
     },
     "user_tz": 180
    },
    "id": "rp6k8A14YMRn"
   },
   "outputs": [],
   "source": [
    "notas = {'Juan': [8.0, 9.0, 10.0], 'Maria': [9.0, 7.0, 6.0], 'José': [3.4, 7.0, 8.0], 'Claudia': [5.5, 6.6, 8.0],\n",
    "         'Ana': [6.0, 10.0, 9.5], 'Jorge': [5.5, 7.5, 9.0], 'Julia': [6.0, 8.0, 7.0], 'Pedro': [3.0, 4.0, 6.0]}"
   ]
  },
  {
   "cell_type": "code",
   "execution_count": 100,
   "metadata": {
    "colab": {
     "base_uri": "https://localhost:8080/",
     "height": 193
    },
    "executionInfo": {
     "elapsed": 5955,
     "status": "error",
     "timestamp": 1748443966144,
     "user": {
      "displayName": "Pol Argentino",
      "userId": "02817779166023488471"
     },
     "user_tz": 180
    },
    "id": "G2MqLoNIYXMn",
    "outputId": "a4c45ed3-db02-469c-d9ef-fbb4bb3d8284"
   },
   "outputs": [
    {
     "name": "stdout",
     "output_type": "stream",
     "text": [
      "Digitar el nombre del/de la estudiante: Pablo\n"
     ]
    },
    {
     "ename": "KeyError",
     "evalue": "'Pablo'",
     "output_type": "error",
     "traceback": [
      "\u001b[0;31m---------------------------------------------------------------------------\u001b[0m",
      "\u001b[0;31mKeyError\u001b[0m                                  Traceback (most recent call last)",
      "\u001b[0;32m<ipython-input-100-77f5a4eb025d>\u001b[0m in \u001b[0;36m<cell line: 0>\u001b[0;34m()\u001b[0m\n\u001b[1;32m      1\u001b[0m \u001b[0mnombre\u001b[0m \u001b[0;34m=\u001b[0m \u001b[0minput\u001b[0m\u001b[0;34m(\u001b[0m\u001b[0;34m'Digitar el nombre del/de la estudiante: '\u001b[0m\u001b[0;34m)\u001b[0m\u001b[0;34m\u001b[0m\u001b[0;34m\u001b[0m\u001b[0m\n\u001b[0;32m----> 2\u001b[0;31m \u001b[0mresultado\u001b[0m \u001b[0;34m=\u001b[0m \u001b[0mnotas\u001b[0m\u001b[0;34m[\u001b[0m\u001b[0mnombre\u001b[0m\u001b[0;34m]\u001b[0m\u001b[0;34m\u001b[0m\u001b[0;34m\u001b[0m\u001b[0m\n\u001b[0m\u001b[1;32m      3\u001b[0m \u001b[0mresultado\u001b[0m\u001b[0;34m\u001b[0m\u001b[0;34m\u001b[0m\u001b[0m\n",
      "\u001b[0;31mKeyError\u001b[0m: 'Pablo'"
     ]
    }
   ],
   "source": [
    "nombre = input('Digitar el nombre del/de la estudiante: ')\n",
    "resultado = notas[nombre]\n",
    "resultado"
   ]
  },
  {
   "cell_type": "code",
   "execution_count": 101,
   "metadata": {
    "colab": {
     "base_uri": "https://localhost:8080/"
    },
    "executionInfo": {
     "elapsed": 9958,
     "status": "ok",
     "timestamp": 1748444005813,
     "user": {
      "displayName": "Pol Argentino",
      "userId": "02817779166023488471"
     },
     "user_tz": 180
    },
    "id": "81Ii8vrCYfZ3",
    "outputId": "8b080059-e0c8-43bf-83f8-4107faf54cb4"
   },
   "outputs": [
    {
     "name": "stdout",
     "output_type": "stream",
     "text": [
      "Digitar el nombre del/de la estudiante: Pablo\n",
      "<class 'KeyError'> 'Pablo'\n"
     ]
    }
   ],
   "source": [
    "\n",
    "try:\n",
    "  nombre = input('Digitar el nombre del/de la estudiante: ')\n",
    "  resultado = notas[nombre]\n",
    "except Exception as e:\n",
    "  print(type(e), e)"
   ]
  },
  {
   "cell_type": "code",
   "execution_count": 102,
   "metadata": {
    "colab": {
     "base_uri": "https://localhost:8080/"
    },
    "executionInfo": {
     "elapsed": 3966,
     "status": "ok",
     "timestamp": 1748444061230,
     "user": {
      "displayName": "Pol Argentino",
      "userId": "02817779166023488471"
     },
     "user_tz": 180
    },
    "id": "EKrTHxFPYwMq",
    "outputId": "9b97906f-f7b5-4f88-d754-b7f3df1c54be"
   },
   "outputs": [
    {
     "name": "stdout",
     "output_type": "stream",
     "text": [
      "Digitar el nombre del/de la estudiante: Pablo\n",
      "Estudiante no matriculado(a) en el grupo.\n"
     ]
    }
   ],
   "source": [
    "try:\n",
    "  nombre = input('Digitar el nombre del/de la estudiante: ')\n",
    "  resultado = notas[nombre]\n",
    "except KeyError:\n",
    "  print('Estudiante no matriculado(a) en el grupo.')"
   ]
  },
  {
   "cell_type": "markdown",
   "metadata": {
    "id": "ftITbr1aY7LB"
   },
   "source": [
    "# Agregando la cláusula Else\n",
    "try:\n",
    "  # código que será ejecutado. En caso de que surja una excepción, para inmediatamente\n",
    "except:\n",
    "  # Si surje una excepción en el try, ejecuta este código, si no, salta esta etapa\n",
    "else:\n",
    "  # Si no surjen excepciones, ejecuta esta parte del código\n",
    "# Situación 13:\n",
    "Creaste un código que lee un diccionario con las notas de los estudiantes y querías retornar la lista de notas de un estudiante.\n",
    "\n",
    "En caso de que el/la estudiante no esté matriculado(a) en la clase, debe aparecer el siguiente mensaje: \"Estudiante no matriculado(a) en el grupo\" y, si no surje la excepción, debemos exhibir la lista con las notas del(la) estudiante.\n",
    "\n",
    "Vamos a trabajar en este ejemplo con la excepción Key Error que interrumpirá el proceso de este trecho de código.\n",
    "\n",
    "¿Vamos a probar este tratamiento?"
   ]
  },
  {
   "cell_type": "code",
   "execution_count": 105,
   "metadata": {
    "colab": {
     "base_uri": "https://localhost:8080/"
    },
    "executionInfo": {
     "elapsed": 3490,
     "status": "ok",
     "timestamp": 1748444237255,
     "user": {
      "displayName": "Pol Argentino",
      "userId": "02817779166023488471"
     },
     "user_tz": 180
    },
    "id": "i_lymsvcZLV7",
    "outputId": "982a1e6b-f29c-4f41-fc57-c6dff642ba5e"
   },
   "outputs": [
    {
     "name": "stdout",
     "output_type": "stream",
     "text": [
      "Digitar el nombre del/de la estudiante: Pablo\n",
      "Estudiante no matriculado(a) en el grupo.\n"
     ]
    }
   ],
   "source": [
    "try:\n",
    "  nombre = input('Digitar el nombre del/de la estudiante: ')\n",
    "  resultado = notas[nombre]\n",
    "except KeyError:\n",
    "  print('Estudiante no matriculado(a) en el grupo.')\n",
    "else:\n",
    "  print(resultado)"
   ]
  },
  {
   "cell_type": "code",
   "execution_count": 106,
   "metadata": {
    "colab": {
     "base_uri": "https://localhost:8080/"
    },
    "executionInfo": {
     "elapsed": 3827,
     "status": "ok",
     "timestamp": 1748444259513,
     "user": {
      "displayName": "Pol Argentino",
      "userId": "02817779166023488471"
     },
     "user_tz": 180
    },
    "id": "s3pX3S1jZeG3",
    "outputId": "7a8f53a7-cde7-4887-b822-5d6ec546731f"
   },
   "outputs": [
    {
     "name": "stdout",
     "output_type": "stream",
     "text": [
      "Digitar el nombre del/de la estudiante: Juan\n",
      "Las notas del/de la estudiante son: [8.0, 9.0, 10.0].\n"
     ]
    }
   ],
   "source": [
    "try:\n",
    "  nombre = input('Digitar el nombre del/de la estudiante: ')\n",
    "  resultado = notas[nombre]\n",
    "except KeyError:\n",
    "  print('Estudiante no matriculado(a) en el grupo.')\n",
    "else:\n",
    "  print(f'Las notas del/de la estudiante son: {resultado}.')"
   ]
  },
  {
   "cell_type": "markdown",
   "metadata": {
    "id": "WwKlIxA8ZmdY"
   },
   "source": [
    "# Añadiendo la cláusula finally\n",
    "try:\n",
    "  # código que será ejecutado. En caso de que surja una excepción, para inmediatamente\n",
    "except:\n",
    "  # Si surje una excepción en el try, ejecuta este código, si no, salta esta etapa\n",
    "else:\n",
    "  # Si no surjen excepciones, ejecuta esta parte del código\n",
    "finally:\n",
    "  # Ejecuta este trecho (con o sin excepción)\n",
    "# Situación 14:\n",
    "Creaste un código que lee un diccionario con las notas de los estudiantes y querías retornar la lista de notas de un estudiante.\n",
    "\n",
    "En caso de que el/la estudiante no esté matriculado(a) en la clase, debe aparecer el siguiente mensaje: \"Estudiante no matriculado(a) en el grupo\" y, si no surje la excepción, debemos exhibir la lista con las notas del(la) estudiante. Un texto avisando que \"La consulta ha concluído.\" debe ser mostrado independientemente de si surgió o no alguna excepción.\n",
    "\n",
    "Vamos a trabajar en este ejemplo con la excepción Key Error que interrumpirá el proceso de este trecho del código.\n",
    "\n",
    "¿Vamos a probar este tratamiento?"
   ]
  },
  {
   "cell_type": "code",
   "execution_count": 109,
   "metadata": {
    "colab": {
     "base_uri": "https://localhost:8080/"
    },
    "executionInfo": {
     "elapsed": 5700,
     "status": "ok",
     "timestamp": 1748444427623,
     "user": {
      "displayName": "Pol Argentino",
      "userId": "02817779166023488471"
     },
     "user_tz": 180
    },
    "id": "nLtJPCMLZ4eA",
    "outputId": "32d3812b-2030-4950-8ebb-8954f482d9ed"
   },
   "outputs": [
    {
     "name": "stdout",
     "output_type": "stream",
     "text": [
      "Digitar el nombre del/de la estudiante: Juan\n",
      "Las notas del/de la estudiante son: [8.0, 9.0, 10.0].\n",
      "La consulta ha concluído, nos vemos en Disney!\n"
     ]
    }
   ],
   "source": [
    "try:\n",
    "  nombre = input('Digitar el nombre del/de la estudiante: ')\n",
    "  resultado = notas[nombre]\n",
    "except KeyError:\n",
    "  print('Estudiante no matriculado(a) en el grupo.')\n",
    "else:\n",
    "  print(f'Las notas del/de la estudiante son: {resultado}.')\n",
    "finally:\n",
    "  print('La consulta ha concluído, nos vemos en Disney!')"
   ]
  },
  {
   "cell_type": "markdown",
   "metadata": {
    "id": "GSMrUizeaQtN"
   },
   "source": [
    "# 4.2 Raise\n",
    "Otra forma de trabajar con las excepciones en tu código, es generando tus propias excepciones para determinados comportamientos que deseas en tu código.\n",
    "\n",
    "Para ello, utilizamos la palabra clave raise junto al tipo de excepción que se desea mostrar y el mensaje que será exhibido.\n",
    "\n",
    "* raise NombreDelError(\"Mensaje deseado.\")\n",
    "# Situación 15:\n",
    "Creaste una función para calcular el promedio de un estudiante en una determinada materia pasando en una lista las notas de este estudiante.\n",
    "\n",
    "* Pretendes tratar 2 situaciones:\n",
    "\n",
    "\n",
    "Si la lista posee un valor no numérico el cálculo de promedio no será ejecutado y un mensaje de \"No fue posible calcular el promedio del(la) estudiante. Solo se admiten valores numéricos!\" será exhibido.\n",
    "\n",
    "En caso que la lista tenga más de 4 notas, surgirá una excepción del tipo ValueError informando que \"La lista no puede poseer más de 4 notas.\"\n",
    "\n",
    "Un texto avisando que \"La consulta ha concluído.\" debe ser mostrado independientemente de si surgió o no alguna excepción.\n",
    "\n",
    "¿Vamos a resolver este desafío?"
   ]
  },
  {
   "cell_type": "code",
   "execution_count": 110,
   "metadata": {
    "executionInfo": {
     "elapsed": 44,
     "status": "ok",
     "timestamp": 1748444670587,
     "user": {
      "displayName": "Pol Argentino",
      "userId": "02817779166023488471"
     },
     "user_tz": 180
    },
    "id": "IhKFa3fXaveC"
   },
   "outputs": [],
   "source": [
    "def promedio(lista: list=[0]) -> float:\n",
    "  ''' Función para calcular el promedio de notas en una lista\n",
    "\n",
    "  lista: list, default [0]\n",
    "    Lista con las notas para calcular el promedio\n",
    "  return = calculo: float\n",
    "    Promedio calculado\n",
    "  '''\n",
    "\n",
    "  calculo = sum(lista) / len(lista)\n",
    "\n",
    "  if len(lista) > 4:\n",
    "    raise ValueError('La lista no puede poseer más de 4 notas.')\n",
    "\n",
    "  return calculo"
   ]
  },
  {
   "cell_type": "code",
   "execution_count": 113,
   "metadata": {
    "colab": {
     "base_uri": "https://localhost:8080/",
     "height": 297
    },
    "executionInfo": {
     "elapsed": 115,
     "status": "error",
     "timestamp": 1748444718326,
     "user": {
      "displayName": "Pol Argentino",
      "userId": "02817779166023488471"
     },
     "user_tz": 180
    },
    "id": "I8C5dkgfbKvC",
    "outputId": "e2b19454-0ea7-4952-dd6d-9e056f55945d"
   },
   "outputs": [
    {
     "ename": "ValueError",
     "evalue": "La lista no puede poseer más de 4 notas.",
     "output_type": "error",
     "traceback": [
      "\u001b[0;31m---------------------------------------------------------------------------\u001b[0m",
      "\u001b[0;31mValueError\u001b[0m                                Traceback (most recent call last)",
      "\u001b[0;32m<ipython-input-113-c3481d293dec>\u001b[0m in \u001b[0;36m<cell line: 0>\u001b[0;34m()\u001b[0m\n\u001b[1;32m      1\u001b[0m \u001b[0mnotas\u001b[0m \u001b[0;34m=\u001b[0m \u001b[0;34m[\u001b[0m\u001b[0;36m6\u001b[0m\u001b[0;34m,\u001b[0m\u001b[0;36m7\u001b[0m\u001b[0;34m,\u001b[0m\u001b[0;36m8\u001b[0m\u001b[0;34m,\u001b[0m\u001b[0;36m9\u001b[0m\u001b[0;34m,\u001b[0m\u001b[0;36m10\u001b[0m\u001b[0;34m]\u001b[0m\u001b[0;34m\u001b[0m\u001b[0;34m\u001b[0m\u001b[0m\n\u001b[0;32m----> 2\u001b[0;31m \u001b[0mresultado\u001b[0m \u001b[0;34m=\u001b[0m  \u001b[0mpromedio\u001b[0m\u001b[0;34m(\u001b[0m\u001b[0mnotas\u001b[0m\u001b[0;34m)\u001b[0m\u001b[0;34m\u001b[0m\u001b[0;34m\u001b[0m\u001b[0m\n\u001b[0m\u001b[1;32m      3\u001b[0m \u001b[0mresultado\u001b[0m\u001b[0;34m\u001b[0m\u001b[0;34m\u001b[0m\u001b[0m\n",
      "\u001b[0;32m<ipython-input-110-1874a1e8fa6b>\u001b[0m in \u001b[0;36mpromedio\u001b[0;34m(lista)\u001b[0m\n\u001b[1;32m     11\u001b[0m \u001b[0;34m\u001b[0m\u001b[0m\n\u001b[1;32m     12\u001b[0m   \u001b[0;32mif\u001b[0m \u001b[0mlen\u001b[0m\u001b[0;34m(\u001b[0m\u001b[0mlista\u001b[0m\u001b[0;34m)\u001b[0m \u001b[0;34m>\u001b[0m \u001b[0;36m4\u001b[0m\u001b[0;34m:\u001b[0m\u001b[0;34m\u001b[0m\u001b[0;34m\u001b[0m\u001b[0m\n\u001b[0;32m---> 13\u001b[0;31m     \u001b[0;32mraise\u001b[0m \u001b[0mValueError\u001b[0m\u001b[0;34m(\u001b[0m\u001b[0;34m'La lista no puede poseer más de 4 notas.'\u001b[0m\u001b[0;34m)\u001b[0m\u001b[0;34m\u001b[0m\u001b[0;34m\u001b[0m\u001b[0m\n\u001b[0m\u001b[1;32m     14\u001b[0m \u001b[0;34m\u001b[0m\u001b[0m\n\u001b[1;32m     15\u001b[0m   \u001b[0;32mreturn\u001b[0m \u001b[0mcalculo\u001b[0m\u001b[0;34m\u001b[0m\u001b[0;34m\u001b[0m\u001b[0m\n",
      "\u001b[0;31mValueError\u001b[0m: La lista no puede poseer más de 4 notas."
     ]
    }
   ],
   "source": [
    "notas = [6,7,8,9,10]\n",
    "resultado =  promedio(notas)\n",
    "resultado"
   ]
  },
  {
   "cell_type": "code",
   "execution_count": 114,
   "metadata": {
    "colab": {
     "base_uri": "https://localhost:8080/",
     "height": 297
    },
    "executionInfo": {
     "elapsed": 128,
     "status": "error",
     "timestamp": 1748444813644,
     "user": {
      "displayName": "Pol Argentino",
      "userId": "02817779166023488471"
     },
     "user_tz": 180
    },
    "id": "3AD28fCsborb",
    "outputId": "499e95a6-1acf-4f99-c4ee-a656482944be"
   },
   "outputs": [
    {
     "ename": "TypeError",
     "evalue": "unsupported operand type(s) for +: 'int' and 'str'",
     "output_type": "error",
     "traceback": [
      "\u001b[0;31m---------------------------------------------------------------------------\u001b[0m",
      "\u001b[0;31mTypeError\u001b[0m                                 Traceback (most recent call last)",
      "\u001b[0;32m<ipython-input-114-57670803c714>\u001b[0m in \u001b[0;36m<cell line: 0>\u001b[0;34m()\u001b[0m\n\u001b[1;32m      1\u001b[0m \u001b[0mnotas\u001b[0m \u001b[0;34m=\u001b[0m \u001b[0;34m[\u001b[0m\u001b[0;36m6\u001b[0m\u001b[0;34m,\u001b[0m\u001b[0;36m7\u001b[0m\u001b[0;34m,\u001b[0m\u001b[0;36m8\u001b[0m\u001b[0;34m,\u001b[0m\u001b[0;36m9\u001b[0m\u001b[0;34m,\u001b[0m\u001b[0;34m'10'\u001b[0m\u001b[0;34m]\u001b[0m\u001b[0;34m\u001b[0m\u001b[0;34m\u001b[0m\u001b[0m\n\u001b[0;32m----> 2\u001b[0;31m \u001b[0mresultado\u001b[0m \u001b[0;34m=\u001b[0m  \u001b[0mpromedio\u001b[0m\u001b[0;34m(\u001b[0m\u001b[0mnotas\u001b[0m\u001b[0;34m)\u001b[0m\u001b[0;34m\u001b[0m\u001b[0;34m\u001b[0m\u001b[0m\n\u001b[0m\u001b[1;32m      3\u001b[0m \u001b[0mresultado\u001b[0m\u001b[0;34m\u001b[0m\u001b[0;34m\u001b[0m\u001b[0m\n",
      "\u001b[0;32m<ipython-input-110-1874a1e8fa6b>\u001b[0m in \u001b[0;36mpromedio\u001b[0;34m(lista)\u001b[0m\n\u001b[1;32m      8\u001b[0m   '''\n\u001b[1;32m      9\u001b[0m \u001b[0;34m\u001b[0m\u001b[0m\n\u001b[0;32m---> 10\u001b[0;31m   \u001b[0mcalculo\u001b[0m \u001b[0;34m=\u001b[0m \u001b[0msum\u001b[0m\u001b[0;34m(\u001b[0m\u001b[0mlista\u001b[0m\u001b[0;34m)\u001b[0m \u001b[0;34m/\u001b[0m \u001b[0mlen\u001b[0m\u001b[0;34m(\u001b[0m\u001b[0mlista\u001b[0m\u001b[0;34m)\u001b[0m\u001b[0;34m\u001b[0m\u001b[0;34m\u001b[0m\u001b[0m\n\u001b[0m\u001b[1;32m     11\u001b[0m \u001b[0;34m\u001b[0m\u001b[0m\n\u001b[1;32m     12\u001b[0m   \u001b[0;32mif\u001b[0m \u001b[0mlen\u001b[0m\u001b[0;34m(\u001b[0m\u001b[0mlista\u001b[0m\u001b[0;34m)\u001b[0m \u001b[0;34m>\u001b[0m \u001b[0;36m4\u001b[0m\u001b[0;34m:\u001b[0m\u001b[0;34m\u001b[0m\u001b[0;34m\u001b[0m\u001b[0m\n",
      "\u001b[0;31mTypeError\u001b[0m: unsupported operand type(s) for +: 'int' and 'str'"
     ]
    }
   ],
   "source": [
    "notas = [6,7,8,9,'10']\n",
    "resultado =  promedio(notas)\n",
    "resultado"
   ]
  },
  {
   "cell_type": "code",
   "execution_count": 115,
   "metadata": {
    "colab": {
     "base_uri": "https://localhost:8080/"
    },
    "executionInfo": {
     "elapsed": 62,
     "status": "ok",
     "timestamp": 1748444846681,
     "user": {
      "displayName": "Pol Argentino",
      "userId": "02817779166023488471"
     },
     "user_tz": 180
    },
    "id": "oKks_a42buP1",
    "outputId": "c5a015cb-41a1-47d1-d4f5-73c2ebcd5031"
   },
   "outputs": [
    {
     "name": "stdout",
     "output_type": "stream",
     "text": [
      "No fue posible calcular el promedio del(la) estudiante. Solo se admiten valores numéricos!\n",
      "La consulta ha concluído.\n"
     ]
    }
   ],
   "source": [
    "\n",
    "try:\n",
    "  notas = [6,7,8,9,6,'10']\n",
    "  resultado =  promedio(notas)\n",
    "except TypeError:\n",
    "  print('No fue posible calcular el promedio del(la) estudiante. Solo se admiten valores numéricos!')\n",
    "except ValueError as e:\n",
    "  print(e)\n",
    "else:\n",
    "  print(f'Las notas del/de la estudiante son: {resultado}.')\n",
    "finally:\n",
    "  print('La consulta ha concluído.')"
   ]
  },
  {
   "cell_type": "code",
   "execution_count": 116,
   "metadata": {
    "colab": {
     "base_uri": "https://localhost:8080/"
    },
    "executionInfo": {
     "elapsed": 72,
     "status": "ok",
     "timestamp": 1748444874261,
     "user": {
      "displayName": "Pol Argentino",
      "userId": "02817779166023488471"
     },
     "user_tz": 180
    },
    "id": "sYaxg1x5b1bU",
    "outputId": "c5d20f5b-e2c3-4986-f166-6efa1f8e3ff0"
   },
   "outputs": [
    {
     "name": "stdout",
     "output_type": "stream",
     "text": [
      "No fue posible calcular el promedio del(la) estudiante. Solo se admiten valores numéricos!\n",
      "La consulta ha concluído.\n"
     ]
    }
   ],
   "source": [
    "try:\n",
    "  notas = [6,7,8,9,6,'10']\n",
    "  resultado =  promedio(notas)\n",
    "except ValueError as e:\n",
    "  print(e)\n",
    "except TypeError:\n",
    "  print('No fue posible calcular el promedio del(la) estudiante. Solo se admiten valores numéricos!')\n",
    "else:\n",
    "  print(f'Las notas del/de la estudiante son: {resultado}.')\n",
    "finally:\n",
    "  print('La consulta ha concluído.')"
   ]
  },
  {
   "cell_type": "code",
   "execution_count": 117,
   "metadata": {
    "colab": {
     "base_uri": "https://localhost:8080/"
    },
    "executionInfo": {
     "elapsed": 81,
     "status": "ok",
     "timestamp": 1748444943277,
     "user": {
      "displayName": "Pol Argentino",
      "userId": "02817779166023488471"
     },
     "user_tz": 180
    },
    "id": "BEo8ogFQcGii",
    "outputId": "7be14a35-596e-4899-f6d6-2559317d8c00"
   },
   "outputs": [
    {
     "name": "stdout",
     "output_type": "stream",
     "text": [
      "La lista no puede poseer más de 4 notas.\n",
      "La consulta ha concluído.\n"
     ]
    }
   ],
   "source": [
    "\n",
    "try:\n",
    "  notas = [6,7,8,9,6]\n",
    "  resultado =  promedio(notas)\n",
    "except ValueError as e:\n",
    "  print(e)\n",
    "except TypeError:\n",
    "  print('No fue posible calcular el promedio del(la) estudiante. Solo se admiten valores numéricos!')\n",
    "else:\n",
    "  print(f'Las notas del/de la estudiante son: {resultado}.')\n",
    "finally:\n",
    "  print('La consulta ha concluído.')"
   ]
  },
  {
   "cell_type": "code",
   "execution_count": 118,
   "metadata": {
    "colab": {
     "base_uri": "https://localhost:8080/"
    },
    "executionInfo": {
     "elapsed": 79,
     "status": "ok",
     "timestamp": 1748444966329,
     "user": {
      "displayName": "Pol Argentino",
      "userId": "02817779166023488471"
     },
     "user_tz": 180
    },
    "id": "EJLBpoyOcNn1",
    "outputId": "bf2cbbbe-b054-49d9-d99e-2ad86d5b74d8"
   },
   "outputs": [
    {
     "name": "stdout",
     "output_type": "stream",
     "text": [
      "Las notas del/de la estudiante son: 7.5.\n",
      "La consulta ha concluído.\n"
     ]
    }
   ],
   "source": [
    "\n",
    "try:\n",
    "  notas = [6,7,8,9]\n",
    "  resultado =  promedio(notas)\n",
    "except ValueError as e:\n",
    "  print(e)\n",
    "except TypeError:\n",
    "  print('No fue posible calcular el promedio del(la) estudiante. Solo se admiten valores numéricos!')\n",
    "else:\n",
    "  print(f'Las notas del/de la estudiante son: {resultado}.')\n",
    "finally:\n",
    "  print('La consulta ha concluído.')"
   ]
  },
  {
   "cell_type": "markdown",
   "metadata": {
    "id": "ixyVqHP1cRFt"
   },
   "source": [
    "# VAMOS POL!!!!"
   ]
  }
 ],
 "metadata": {
  "colab": {
   "authorship_tag": "ABX9TyMtKSSkCd67Es6lZHqZj5YL",
   "provenance": []
  },
  "kernelspec": {
   "display_name": "api-env",
   "language": "python",
   "name": "python3"
  },
  "language_info": {
   "codemirror_mode": {
    "name": "ipython",
    "version": 3
   },
   "file_extension": ".py",
   "mimetype": "text/x-python",
   "name": "python",
   "nbconvert_exporter": "python",
   "pygments_lexer": "ipython3",
   "version": "3.10.13"
  }
 },
 "nbformat": 4,
 "nbformat_minor": 0
}
