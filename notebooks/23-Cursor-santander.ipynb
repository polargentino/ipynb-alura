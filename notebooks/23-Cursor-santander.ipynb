{
 "cells": [
  {
   "cell_type": "markdown",
   "id": "bab94916",
   "metadata": {},
   "source": [
    "# Fundamentos y masterclass\n",
    "\n",
    "## Cursor con Python: desarrollo inteligente con IA, con Alberto Matilla\n",
    "## Alumno: Pablo Matías Monsalvo - 16/07/2025"
   ]
  },
  {
   "cell_type": "markdown",
   "id": "dd367ee9",
   "metadata": {},
   "source": [
    "### Introducción\n",
    "\n",
    "En los últimos años, los entornos de desarrollo han evolucionado desde simples editores de texto hasta completos IDE inteligentes. Con la irrupción de la inteligencia artificial, ahora es posible contar con asistentes de código integrados que ayudan a escribir, comprender y mejorar programas. Cursor es un editor de código potenciado por IA que ejemplifica esta nueva generación de herramientas. Este manual pedagógico cubrirá en profundidad el uso de Cursor enfocado en el desarrollo en Python, orientado a alumnos principiantes en programación asistida por IA. A lo largo de sus módulos, aprenderás desde los fundamentos de Cursor, su instalación y funciones básicas, hasta flujos de trabajo avanzados, comparación con otros entornos (VS Code, PyCharm, Jupyter) y el desarrollo de proyectos completos empleando esta herramienta. \n",
    "\n"
   ]
  },
  {
   "cell_type": "markdown",
   "id": "26873530",
   "metadata": {},
   "source": [
    "\n",
    "### Índice de contenidos\n",
    "### Fundamentos y masterclass\n",
    "\n",
    "* Introducción a Cursor\n",
    "* Explorando la interfaz y funcionalidades clave\n",
    "* Desarrollo con Python en Cursor\n",
    "* Flujo de trabajo avanzado\n",
    "* Implementación y despliegue\n",
    "* Casos de uso"
   ]
  },
  {
   "cell_type": "markdown",
   "id": "6ae46e9e",
   "metadata": {},
   "source": [
    "Objetivos de aprendizaje\n",
    "SOA_CE_iconocomunicar.png\n",
    "\n",
    "Dominar Cursor en el desarrollo con Python.\n",
    "\n",
    "SOA_CE_iconocodefición_1-1.png\n",
    "\n",
    "Crear, ejecutar y depurar código Python con la ayuda de Cursor.\n",
    "\n",
    "\n",
    "SOA_CE_iconocomunicaciónfluida.png\n",
    "\n",
    "Probar, compartir y desplegar tus proyectos desarrollados en Cursor. "
   ]
  },
  {
   "cell_type": "markdown",
   "id": "231991a6",
   "metadata": {},
   "source": [
    "# 1. Introducción a Cursor\n",
    "\n",
    "En este módulo conoceremos los fundamentos de Cursor: qué lo hace especial, cómo instalarlo en tu ordenador y cómo realizar la configuración inicial para aprovechar sus características. Al final del módulo habrás instalado Cursor, importado configuraciones si usabas otro editor, y realizado tu primera interacción básica con la IA del editor.\n",
    "\n",
    "## ¿Qué ofrece un entorno de desarrollo asistido por IA?\n",
    "Antes de profundizar en Cursor, conviene entender el contexto de los entornos de desarrollo asistidos por inteligencia artificial. Tradicionalmente, un IDE o editor de código ofrece ayudas como el resaltado de sintaxis, la auto-completación básica de código, el depurador, etc. Un IDE asistido por IA lleva esto mucho más lejos: integra modelos de lenguaje avanzados que comprenden el contexto de tu proyecto y permiten interacción en lenguaje natural. En la práctica, esto significa que puedes hacer cosas como:\n",
    "\n",
    "![2a.png](/home/pol/Escritorio/ipynb-alura/assets/2a.png)\n",
    "\n",
    "Dicho con otras palabras, un IDE con IA como Cursor actúa como un pair programmer (compañero de programación) que siempre está disponible. Te permite programar \"a la velocidad del pensamiento\", convirtiendo ideas en código de forma más directa. Por supuesto, no es infalible: puede cometer errores o malinterpretar instrucciones muy ambiguas. Por ello, el desarrollador sigue teniendo el control final. Aun así, la promesa es acelerar el proceso y elevar la productividad significativamente. Muchos usuarios reportan que se sienten el doble de productivos con Cursor en comparación con herramientas tradicionales o con solo GitHub Copilot.\n",
    "\n",
    "# Cursor: origen y características principales\n",
    "Cursor fue creado por la startup AnysphereLinks(https://anysphere.inc/) to an external site. a partir de 2022-2023 con la visión de reinventar la forma de escribir código. Entre sus fundadores están Michael Truell, Sualeh Asif, Arvid Lunnemark y Aman Sanger, y obtuvieron financiación semilla (incluyendo apoyo del OpenAI Startup Fund) para impulsar el proyecto. La primera versión pública de Cursor se lanzó en 2023 y rápidamente ganó atención entre desarrolladores por su integración elegante de IA en un entorno familiar (Visual Studio Code). A fecha de 2025, Cursor se ha vuelto un proyecto de código abierto con miles de estrellas en GitHub, y es utilizado en empresas punteras (OpenAI, Shopify, Samsung, etc.) y por desarrolladores de todo el mundo.\n",
    "\n",
    "Algunas de las características principales de Cursor son:\n",
    "\n",
    "![2b.png](/home/pol/Escritorio/ipynb-alura/assets/2b.png)\n",
    "\n",
    "# Basado en VS Code\n",
    "Cursor es un fork de Visual Studio Code, lo que significa que se comporta casi igual que VS Code en cuanto a interfaz, soporte de múltiples lenguajes y extensiones. Puedes importar tus extensiones, temas y atajos de VS Code con un clic, haciendo la transición muy sencilla. Si has usado VS Code, te sentirás como en casa. \n",
    "\n",
    "# Modelos de IA integrados\n",
    "Cursor utiliza modelos de lenguaje de última generación. En su versión Pro, ofrece modelos como GPT-4, Claude y un modelo propio optimizado llamado \"cursor-small\" para respuestas rápidas. También soporta GPT-3.5 (denominado a veces cloud-3.5-sonnet en la interfaz) y permite cambiar de modelo según tus necesidades. La interacción con la IA se realiza localmente en el editor, pero las consultas se procesan en la nube (por eso requiere conexión a internet). No necesitas claves de API aparte: al iniciar sesión, Cursor ya dispone de acceso a sus modelos, aunque también es posible configurar claves de OpenAI u otros si quieres usar las tuyas. \n",
    "\n",
    "# Completado por pestañas (Tab)\n",
    "Al escribir código, Cursor te sugiere automáticamente continuaciones inteligentes. Estas sugerencias pueden abarcar varias líneas, no solo el token siguiente. Se activan al pulsar la tecla Tabulador (Tab). Usuarios destacan que \"pulsa Tab más que cualquier otra tecla\" porque el editor a menudo anticipa correctamente lo que quieren hacer. Este completado tiene en cuenta el contexto reciente y se siente como un Copilot potenciado. \n",
    "\n",
    "# Chat contextual\n",
    "Cursor incluye un panel de chat donde puedes mantener una conversación con la IA, la cual siempre “ve” tu código actual. Puedes preguntarle sobre el código, pedirle que lo modifique, o incluso solicitar ayuda general de programación. Lo potente es que entiende el proyecto: puede referenciar funciones o archivos de tu base de código para dar respuestas precisas. Además, cuenta con funciones especiales para incorporar información extra en la conversación, como incluir fragmentos de archivos (@archivo) o realizar búsquedas web (@Web) si necesitas datos externos.\n",
    "\n",
    "# Edición en lenguaje natural (Cmd/Ctrl+K)\n",
    "Esta función te permite seleccionar código y describir en texto libre qué cambio deseas. Por ejemplo, \"convertir este bucle en una comprensión de listas\". Al presionar Ctrl+K (en Windows/Linux) o Cmd+K (en Mac), aparece un cuadro de prompt inline donde ingresas la instrucción. La IA propondrá un parche que, al aplicarlo, modifica tu código mostrando las diferencias (líneas removidas en rojo y añadidas en verde). Si no seleccionas nada y pulsas Ctrl+K, el prompt sirve para generar código nuevo en la posición actual del cursor. Es una manera rápida de escribir código por descripción sin abrir el chat completo. \n",
    "\n",
    "# Comprensión del código base completa\n",
    "Cursor indexa tu proyecto para poder responder preguntas globales. Tiene un modo \"Codebase\" para buscar en todo el repositorio. Por ejemplo, puedes preguntarle \"¿Dónde se define la clase Usuario? \"y te indicará el archivo y fragmento correspondiente. Internamente, utiliza modelos de retrieval (búsqueda semántica) para encontrar piezas relevantes, reduciendo la necesidad de abrir manualmente muchos archivos. \n",
    "\n",
    "# Ejecución asistida de comandos\n",
    "De forma experimental, Cursor también puede ayudar con comandos de terminal. Si abres un terminal integrado, puedes pulsar Ctrl+K allí para escribir en lenguaje natural la acción que quieres, y Cursor la traducirá a un comando de shell. Por ejemplo, escribir \"inicializa un proyecto Django\" podría sugerir django-admin startproject <nombre>. Estos comandos no se ejecutan sin tu confirmación, añadiendo seguridad. \n",
    "\n",
    "# Privacidad y seguridad\n",
    "Aunque Cursor envía tu código al servicio de IA para obtener respuestas, incluye un Modo Privado opcional en el que tu código no se almacena remotamente en ningún momento. Además, la empresa es certificada SOC 2, lo que implica buenas prácticas de seguridad de datos. En entornos empresariales, ofrecen opciones de auto-alojar el modelo o tener más control sobre la privacidad. Para un usuario individual, en general el código pasa cifrado a los servidores de Cursor/OpenAI para las consultas y no se comparte con terceros. \n",
    "\n",
    "# Licencia y precio\n",
    "Cursor es gratuito en la mayoría de sus funcionalidades. Existe un plan Pro de pago (~20 USD/mes) que ofrece uso ilimitado de los mejores modelos (como GPT-4) y algunas ventajas de velocidad. Sin embargo, incluso con la versión gratuita tienes completado básico e interacciones limitadas con IA (similar a usar GPT-3.5). Todos los nuevos usuarios obtienen una prueba gratuita de 14 días del plan Pro al crear una cuenta, para que puedas probar las capacidades completas desde el inicio. (A fecha de 2025, estas condiciones pueden variar). \n",
    "\n",
    "En conjunto, estas características hacen que Cursor funcione como \"tu compañero programador impulsado por IA dentro de un IDE\". Ahora que sabemos qué puede hacer, pasemos a la parte práctica: instalar y configurar Cursor en tu sistema.\n",
    "\n"
   ]
  },
  {
   "cell_type": "markdown",
   "id": "7a7c6c11",
   "metadata": {},
   "source": [
    "# Nota\n",
    "## Requisitos\n",
    "1. Crear una cuenta en cursor.com y logearse ([cursor.com](https://docs.cursor.com/welcome)).\n",
    "2. Instalar Python. \n",
    "Se va a usar Windows para este curso. Esté atento a los cambios en las teclas y otras características en sistemas operativos con Linux y MacOS y siga la documentación oficialLinks to an external site.. "
   ]
  },
  {
   "cell_type": "markdown",
   "id": "c969b9e4",
   "metadata": {},
   "source": [
    "# 1.1. Instalación de Cursor\n",
    "Cursor es compatible con Windows 10/11, macOS y Linux. Los pasos generales de instalación son: \n",
    "\n",
    "### Descarga del instalador\n",
    "Ve a la página oficial de CursorLinks to an external site. y accede a la sección de \"Downloads\". Allí encontrarás instaladores para cada plataforma (un ejecutable .exe para Windows, un paquete .dmg para macOS, y un archivo AppImage para Linux). Descarga el apropiado para tu sistema. Cursor se actualiza con frecuencia, así que es buena idea descargar la versión más reciente disponible. \n",
    "\n",
    "### Ejecuta el instalador\n",
    "En Windows y macOS, ábrelo y sigue las instrucciones en pantalla. Es un instalador típico; puedes dejar las opciones por defecto. En macOS puede que solo tengas que arrastrar el programa a tu carpeta de Aplicaciones. En Linux, el AppImage requiere un paso adicional: dale permisos de ejecución (`chmod +x nombre_de_archivo.AppImage` en la terminal) y luego lánzalo (`./nombre_de_archivo.AppImage`). Esto abrirá Cursor sin necesidad de instalación tradicional (los AppImage son aplicaciones portables). \n",
    "\n",
    "### Primer lanzamiento y registro\n",
    "Al abrir Cursor por primera vez, se te pedirá que inicies sesión o te registres. Crea una cuenta gratuita usando tu email y una contraseña. No se necesita tarjeta de crédito para la prueba Pro de 14 días. Una vez registrado, inicia sesión; esto conecta tu editor con los servicios en la nube de Cursor para la IA. \n",
    "\n",
    "### Configuración inicial\n",
    "Tras iniciar sesión, Cursor mostrará una pantalla de configuración inicial con algunas opciones. Aquí puedes encontrar (según la versión): \n",
    "\n",
    "#### Atajos de teclado (\"Keyboard\")\n",
    "Te permitirá elegir el esquema de atajos. Por defecto viene el de VS Code (recomendado, especialmente si ya conoces VS Code). También podrías seleccionar atajos estilo Vim, Sublime Text u otros, pero en este manual asumiremos que usas los predeterminados de VS Code.\n",
    "\n",
    "#### Idioma para la IA\n",
    "Puedes seleccionar el idioma en que quieres comunicarte con la IA. Por defecto es inglés, pero puedes elegir español u otro. Esto hará que la IA intente responder en ese idioma. Ten en cuenta que su conocimiento técnico suele estar en inglés, pero es capaz de explicar código en español bastante bien.\n",
    "\n",
    "#### Contexto de todo el código (\"Codebase-wide\")\n",
    "Es una opción para habilitar que la IA tenga en cuenta todo el repositorio/proyecto en sus sugerencias. Si lo activas, Cursor indexará todos los archivos para dar respuestas más contextuales. Suele ser útil, aunque en proyectos muy grandes puede consumir más memoria. Recomendamos habilitarlo para empezar, ya que una de las ventajas de Cursor es precisamente “conocer” tu base de código. \n",
    "\n",
    "#### Comando de terminal\n",
    "En Windows puede ofrecer añadir un comando en el PATH para lanzar Cursor desde la terminal (por ejemplo, escribiendo cursor. para abrir la carpeta actual en Cursor). Esto es opcional, pero conveniente si trabajas mucho con la línea de comandos. \n",
    "\n",
    "#### Importar configuración de VS Code\n",
    "Si tenías Visual Studio Code instalado, Cursor detectará esa configuración y te propondrá importarla (extensiones, temas, atajos personalizados). Aceptar esto puede ahorrarte tiempo y hacer que Cursor luzca y se comporte igual que tu VS Code anterior. Si no tenías VS Code, puedes saltar este paso. \n",
    "\n",
    "#### Modo claro u oscuro\n",
    "Posiblemente, te pregunte qué tema de color quieres, claro u oscuro, como suele hacer VS Code (esto también puedes cambiarlo después en ajustes). \n",
    "\n",
    "Ajusta todo según tu preferencia y procede. Estas configuraciones iniciales siempre se pueden modificar posteriormente en la sección de \"Settings\" de Cursor.\n",
    "\n",
    "#### Conexión a internet\n",
    "Asegúrate de que dispones de una conexión estable. Cursor necesita internet para todas las funciones de IA (completado, chat, etc.), ya que las solicitudes se procesan en servidores remotos. Si por alguna razón no tienes internet, el editor funcionará como un VS Code normal sin IA. \n",
    "\n",
    " \n",
    "\n",
    "Una vez completada la configuración, se abrirá la ventana principal de Cursor. ¡Ya estás listo para usarlo! Para confirmar que todo funciona, puedes observar que en la interfaz aparece algún indicador de la IA (por ejemplo, un panel de chat o un icono de Cursor). En la esquina inferior derecha, a veces muestra el estado de conexión al servicio de IA. Si hubiera algún problema (por ejemplo, firewall bloqueando), podrías revisar la sección de ayuda o la comunidad en el foro oficial. \n",
    "\n",
    "## Consejo\n",
    "Si encuentras algún obstáculo al instalar (especialmente en Linux, con permisos, dependencias, etc.), consulta la documentación oficial de instalación o el foro. La comunidad de Cursor es muy activa y suele ayudar con problemas comunes. En la documentación (Get Started > Installation) se detallan soluciones a posibles incidencias en cada OS, por ejemplo, cómo autorizar la ejecución del AppImage en distintas distribuciones de Linux.\n",
    "\n"
   ]
  },
  {
   "cell_type": "markdown",
   "id": "6ac06c67",
   "metadata": {},
   "source": [
    "# 1.2. Primer vistazo y prueba rápida\n",
    "El usuario debe tener instalado en su ordenador Python.\n",
    "\n",
    "Sitio web oficial de Python (sección de descargas):\n",
    "\n",
    "Python DownloadsLinks to an external site.: aquí encontrarás los instaladores para Windows, macOS y el código fuente para Linux y otros sistemas operativos.\n",
    "Documentación oficial de Python (sección de instalación y uso):\n",
    "\n",
    "Python Setup and UsageLinks to an external site.: esta es la documentación oficial que cubre la instalación en diferentes plataformas, la línea de comandos y otras configuraciones importantes.\n",
    "Installing Python ModulesLinks to an external site.: aunque se centra en la instalación de módulos (paquetes) con pip, también menciona aspectos importantes de la instalación base de Python.\n",
    "Guías de la comunidad y otros recursos útiles:\n",
    "\n",
    "Real Python - Installing PythonLinks to an external site.: una guía detallada y fácil de seguir para instalar Python en Windows, macOS y Linux.\n",
    "The Hitchhiker's Guide to Python - Properly Installing PythonLinks to an external site.: una guía más extensa con recomendaciones sobre las mejores prácticas para la instalación de Python.\n",
    "Windows requiere reiniciar el ordenador."
   ]
  },
  {
   "cell_type": "markdown",
   "id": "37842ce3",
   "metadata": {},
   "source": [
    "###  Con Cursor instalado y abierto, haz una primera comprobación rápida de sus capacidades:\n",
    "\n",
    "Interfaz familiar: verás que la ventana se parece a VS Code: a la izquierda la barra lateral con iconos (Explorador de archivos, Búsqueda, Control de fuente, Extensiones, etc.), a la derecha un área grande de editor de texto, y posiblemente un panel de bienvenida o instrucciones. En la barra lateral podría haber un nuevo icono de Chat (un símbolo de Cursor) indicando el panel de la IA.\n",
    "Crear un archivo Python: vamos a probar un \"Hola Mundo\". Crea un archivo nuevo: ve a File > New File (Archivo > Nuevo archivo) o simplemente pulsa Ctrl+N. Escribe un breve código Python, por ejemplo:"
   ]
  },
  {
   "cell_type": "code",
   "execution_count": null,
   "id": "ea5d8dc2",
   "metadata": {
    "vscode": {
     "languageId": "plaintext"
    }
   },
   "outputs": [],
   "source": [
    "print(\"Hola, Cursor\")\n"
   ]
  },
  {
   "cell_type": "markdown",
   "id": "e7e711fb",
   "metadata": {},
   "source": [
    "Guarda el archivo con extensión .py (por ejemplo, prueba.py).\n",
    "\n",
    "Ejecutar el código: abre una terminal integrada seleccionando View > Terminal (o con atajo Ctrl+` que es Ctrl+tecla de tilde). Debería abrirse un panel abajo. Allí escribe python prueba.py y pulsa Enter. Deberías ver la salida Hola, Cursor en la consola. ¡Tu primer programa ejecutado en Cursor! (Esto confirma que Cursor está funcionando como editor y que Python está correctamente instalado en tu sistema).\n",
    "Probar autocompletado de IA: edita el archivo e inicia una segunda línea, por ejemplo empieza a escribir:"
   ]
  },
  {
   "cell_type": "code",
   "execution_count": null,
   "id": "c0d7a8a4",
   "metadata": {
    "vscode": {
     "languageId": "plaintext"
    }
   },
   "outputs": [],
   "source": [
    "for i in range(5):\n",
    "\n",
    "print(i)"
   ]
  },
  {
   "cell_type": "markdown",
   "id": "87a860a9",
   "metadata": {},
   "source": [
    "Mientras escribes, fíjate si aparece algún texto atenuado sugerido automáticamente. Cursor puede que sugiera completar partes de la sintaxis. Si en algún momento ves una sugerencia gris que te parece correcta, presiona “Tab” para aceptarla. En un ejemplo tan simple quizás no haya mucho que predecir, pero si escribes algo más complejo, notarás la IA trabajando.\n",
    "\n",
    "### Interacción básica con el chat\n",
    "#### Explorar la documentación integrada\n",
    "* Cerrar y abrir proyectos\n",
    "* Ahora probemos la función estrella: pedir algo en lenguaje natural. `Selecciona el bucle que acabas de escribir con el ratón`. Luego pulsa `Ctrl+K`. Aparecerá un mini-cuadro de entrada. `Escribe`: \"**Añade un comentario encima explicando qué hace este bucle**\" (puedes hacerlo en español mismo) y confirma. En un par de segundos, Cursor debería mostrar un cambio: probablemente insertará una línea de comentario sobre el for, algo como **# Este bucle imprime los números del 0 al 4** (en español o inglés según la configuración de idioma de IA que escogiste). Verás el resultado en modo `diff`: una línea verde añadida (comentario). Pulsa el botón de Apply (Aplicar) o `Accept` para aceptar ese cambio. ¡Genial! Acabas de \"pedirle\" a tu editor que documente tu código por ti.\n",
    "\n",
    "Con esta breve toma de contacto, deberías sentir que Cursor combina la potencia de VS Code (estructura de proyectos, soporte de Python, etc.) con el añadido de IA siempre disponible. En los siguientes módulos profundizaremos en cada área. Por ahora, asegúrate de tener tu entorno listo: Cursor instalado y funcionando con Python.\n",
    "\n"
   ]
  },
  {
   "cell_type": "markdown",
   "id": "259010d8",
   "metadata": {},
   "source": [
    "# 2. Explorar la interfaz y funcionalidades clave\n",
    "En este módulo examinaremos en detalle la interfaz de usuario de Cursor y sus funcionalidades fundamentales. Aprenderás a ubicar cada panel y a utilizar las características asistidas por IA como el autocompletado, el chat integrado y la edición en lenguaje natural. Gran parte de la interfaz de Cursor será familiar si conoces VS Code, por lo que nos centraremos en las novedades y en cómo aprovecharlas.\n",
    "\n",
    "La interfaz principal de Cursor. A la izquierda se ven los paneles de Explorador de archivos y terminal integrado (abajo), y a la derecha el editor de código. En este ejemplo (tomado de un video demo) se muestra un archivo Python abierto en el editor, el panel \"COMPOSER\" a la derecha con instrucciones para la IA, y la consola de salida abajo con el resultado de un proyecto para procesar archivos PDF.\n",
    "\n",
    "Al abrir Cursor, la ventana principal se divide en varias secciones:\n",
    "\n",
    "Barra lateral (\"Sidebar\"): Por defecto, aparece a la izquierda. Como en VS Code, esta barra lateral es configurable y puede ocultarse o cambiar de lado. Contiene varios iconos verticales u horizontales para cambiar de vista:\n",
    "Imagen5.png\n",
    "\n",
    "El icono de \"Documentos/explorador\" (dos archivos) muestra el Explorador de archivos del proyecto abierto.\n",
    "La lupa es la búsqueda global en el proyecto.\n",
    "El icono de \"Ramificación\" corresponde al control de versiones (Git) integrado.\n",
    "El icono de \"Pestaña/paquete\" es para las extensiones instaladas y el marketplace de extensiones.\n",
    "\n",
    "Puede haber un icono con el logo de Cursor o un símbolo de chat, que abre el panel de chat de IA (si no, este panel también puede estar acoplado en otro lado, lo veremos más adelante).\n",
    "\n",
    "* Panel \"Explorador de archivos\": Es la vista típica donde ves la estructura de tu proyecto (archivos y carpetas). Desde aquí puedes crear archivos nuevos (clic derecho > Nuevo archivo), crear carpetas, renombrar, arrastrar para mover, etc. Si no has abierto ninguna carpeta, puede que aparezca un botón central para Open Folder (Abrir carpeta) o Open File.\n",
    "\n",
    "* Área del Editor: Ocupa la porción central grande. Aquí se muestran las pestañas de archivos abiertos y su contenido. Puedes tener varios archivos abiertos en simultáneo en pestañas (incluso dividir la vista en columnas o filas para ver más de uno lado a lado). Cuando editas texto en esta área, Cursor aplica resaltado de sintaxis según el lenguaje. Al igual que VS Code, tiene numeración de líneas, sangrías automáticas, y todas las funciones de edición de texto (multiples cursores, buscar y reemplazar, etc.). Notarás una diferencia: conforme escribes código, a veces aparecerá texto sombreado en gris a continuación del cursor; eso es Cursor sugiriendo una autocompletación con IA. Puedes ignorarla y seguir escribiendo, o pulsar Tab para aceptarla. Sobre este autocompletado volveremos en breve.\n",
    "\n",
    "* Panel de Chat/Composer (barra derecha): En la derecha es probable que veas un panel ocultable donde vive la interfaz de conversación con la IA. En versiones recientes, Cursor ha unificado el chat y otras funciones en un panel llamado Composer (Compositor). Este panel se puede mostrar/ocultar con Ctrl+I (o Cmd+I en Mac) según la documentación, o con el icono correspondiente. El Composer te permite escribir peticiones más largas, desglosar tareas en pasos y llevar una conversación amplia con la IA sobre tu código. Piensa en ello como una mezcla de chat y espacio de trabajo para AI. Si prefieres el modo chat simple, también lo puedes usar: ingresas consultas y obtienes respuestas encadenadas en ese panel.\n",
    "\n",
    "* Barra de estado (inferior): Abajo de todo, una franja con información contextual. Ahí suele indicar la rama de Git actual, la configuración de espacios/tabs, el lenguaje detectado del archivo abierto (por ejemplo \"Python\"), y a veces la conexión al servidor de Cursor. También se muestra aquí si hay alguna notificación o alerta (por ejemplo, \"Applying edit...\" mientras la IA aplica un cambio).\n",
    "Imagen8.png\n",
    "\n",
    "Panel de Terminal/Salida/Problemas (inferior): similar a VS Code, puedes abrir un panel en la parte inferior que contiene:\n",
    "* Terminal integrado: donde puedes ejecutar comandos de sistema o programas (importante para correr y probar tu código sin salir del editor).\n",
    "Consola de depuración (Debug console): aparece al depurar para mostrar mensajes.\n",
    "Panel de problemas: lista de errores de compilación o linter.\n",
    "Salida: muestra la salida de algunas extensiones.\n",
    "\n",
    "* Puedes alternar entre estos sub-paneles con las pestañas que aparecen cuando están activos. Por ejemplo, si corres un script Python, verás la salida en la Terminal. Si la IA autocompleta código y hay un error de sintaxis, podría aparecer en Problemas.\n",
    "\n",
    "En general, la interfaz es altamente personalizable. Puedes arrastrar paneles, cambiar el tema de colores, reconfigurar atajos, etc., igual que en VS Code. Pero nuestro foco será entender cómo usar los elementos relacionados con la IA.\n",
    "\n",
    "\n"
   ]
  },
  {
   "cell_type": "markdown",
   "id": "9fe31f8b",
   "metadata": {},
   "source": [
    "# 2.1. Explorador de archivos y gestión de proyectos\n",
    "Cursor maneja proyectos del mismo modo que VS Code: abriendo carpetas o áreas de trabajo. Un flujo típico es:\n",
    "\n",
    "## Abrir una carpeta existente\n",
    "Archivo (File) > Abrir Carpeta...(open file) (o arrastrar una carpeta desde el explorador de Windows/Finder al área del editor). Esto establece esa carpeta como la raíz del proyecto. Verás en la barra lateral sus subdirectorios y archivos. Cursor indexará esos archivos para sus funciones de contexto global.\n",
    "\n",
    "## Crear un proyecto nuevo\n",
    "Simplemente, abre una carpeta vacía o crea una nueva desde Archivo > Abrir Carpeta eligiendo una ubicación nueva. Luego podrás crear archivos dentro. No hay un \"crear proyecto\" wizard específico (igual que VS Code); se basa en el sistema de archivos.\n",
    "\n",
    "## Espacios de trabajo multi-carpeta\n",
    "Al igual que VS Code, puedes tener un workspace con varias carpetas raíz, pero como principiante probablemente no lo necesites. Mencionarlo por completitud: Archivo > Agregar carpeta al espacio de trabajo te permitiría tener múltiples raíces.\n",
    "\n",
    "## Operaciones comunes\n",
    "En el panel del explorador, con clic derecho sobre archivos y carpetas, puedes crear, borrar, renombrar, copiar rutas, etc. Todo esto no cambia en Cursor.\n",
    "\n",
    "* **Un punto importante**: el Explorador no muestra archivos ocultos o ignorados por defecto (por ejemplo, los listados en .gitignore pueden aparecer atenuados o no listarse, según config). Puedes ajustar eso en opciones. Pero tenlo en cuenta, sobre todo en proyectos Python donde __pycache__ u otros están ocultos."
   ]
  },
  {
   "cell_type": "markdown",
   "id": "2a5579ab",
   "metadata": {},
   "source": [
    "# 2.2. El editor de código y sus capacidades\n",
    "El editor de texto en Cursor hereda las potentes características de VS Code, incluyendo:\n",
    "\n",
    "* Resaltado de sintaxis para cientos de lenguajes.\n",
    "* Sangrado automático al abrir bloques (por ejemplo, después de if: en Python).\n",
    "* Formato de código con herramientas externas (si instalas, por ejemplo, un formateador como Black o usas Alt+Shift+F con la extensión de Python).\n",
    "* Múltiples cursores y edición múltiple (selección de varias ocurrencias, edición en columnas con Alt+Click, etc.).\n",
    "* IntelliSense básico: para Python, la extensión de Python provee completado de variables, métodos, mostrando sugerencias mientras escribes (aparte de la IA). Por ejemplo, escribir os.pa puede sugerir os.path incluso sin IA, gracias a la indexación estática. Esto convive con la IA.\n",
    "* Información en hover: si pasas el ratón sobre una función o variable, la extensión de Python mostrará su tipo o docstring (si disponible). También se integran herramientas de linting que subrayan errores en rojo conforme escribes (por ejemplo, un SyntaxError obvio lo verás subrayado antes incluso de ejecutar).\n",
    "Ahora, lo interesante viene con las capacidades específicas de Cursor:\n",
    "\n",
    "## Autocompletado con Tab\n",
    "Mientras escribes código, Cursor puede autocompletar frases enteras usando IA. Esto se distingue del completado tradicional en que:\n",
    "\n",
    "Las sugerencias aparecen en gris y a veces incluyen palabras que no están simplemente en tu entorno sino que son generadas dinámicamente según contexto.\n",
    "Puede predecir múltiples líneas. Por ejemplo, si comienzas a definir una función def sumar(a, b):, quizá te sugiera return a + b automáticamente en la siguiente línea sin que lo hayas tecleado.\n",
    "Para aceptar la sugerencia mostrada, pulsa Tab. Si hay varias opciones (menos frecuente), a veces Ctrl+Alt+] o algún atajo cicla entre ellas (similar a Copilot). Pero usualmente es una principal.\n",
    "Si ignoras la sugerencia y sigues escribiendo código diferente, la sugerencia desaparecerá o ajustará.\n",
    "Puedes forzar que la IA sugiera completado en cualquier momento presionando Ctrl+Enter en medio de una línea vacía, lo cual le indica que intente completar considerando todo el código hasta ahora (esto se usa más en el chat, lo explicaremos en 2.7).\n",
    "Este completado es contextual: tiene en cuenta tu código, comentarios e incluso otros archivos abiertos. Por ejemplo, si definiste antes una variable llamada total_suma, y empiezas a escribir tot, seguramente te sugiera completarlo a total_suma. A diferencia de VS Code normal que sugiere basándose en coincidencia textual, Cursor \"entiende\" que probablemente quieras reutilizar esa variable. Muchos desarrolladores experimentados indican que ~25% de las veces Cursor acierta exactamente lo que querían escribir a continuación, lo cual \"parece magia\".\n",
    "\n",
    "## Edición en lenguaje natural (Inline con Ctrl+K)\n",
    "Como ya probamos antes, puedes seleccionar código y con Ctrl+K abrir una ventanita para describir un cambio. Repasemos sus opciones:\n",
    "\n",
    "Al seleccionar código y pulsar Ctrl+K, verás opciones como Ask (Preguntar), Edit (Editar), Refactor, etc., dependiendo de la versión. En versiones más nuevas, pueden simplificar a simplemente un campo de texto.\n",
    "Si eliges Edit o simplemente escribes la instrucción de cambio, la IA interpretará tu orden como una modificación a aplicar en el bloque seleccionado. Te mostrará el diff resultante: líneas en rojo (a eliminar) y en verde (a añadir). Puedes revisar el diff y si te convence, haces click en Apply Changes (Aplicar cambios). Si no, puedes descartarlo.\n",
    "Si eliges Ask (o Quick Question) tras seleccionar código, estarás haciendo una pregunta sobre ese código. Por ejemplo, seleccionas una función y preguntas \"¿Qué hace esta función?\". La respuesta aparecerá posiblemente como un comentario o en el panel de chat. En modo Quick Question, la respuesta suele mostrarse momentáneamente en un pop-up. Este es un atajo para no tener que abrir manualmente el chat y copiar el código allí.\n",
    "Si no seleccionas nada y pulsas Ctrl+K, estarás en modo generación: básicamente pides a la IA que genere código nuevo en la posición actual. Tras escribir tu prompt (ej. \"Crea una lista de números primos menores de 100\"), al aceptar, insertará directamente el código generado en el editor. Este método es útil para completar secciones enteras a partir de descripción sin cambiar de contexto.\n",
    "Combina estas capacidades para desarrollo rápido: por ejemplo, puedes escribir en pseudocódigo en comentarios lo que quieres hacer y luego pedir a Cursor que lo implemente. O bien, escribir código manualmente y usar la edición IA solo para las partes complejas.\n",
    "\n",
    "## Panel de Chat (AI Chat Sidebar)\n",
    "Este panel es el corazón de la interacción conversacional. Se abre con Ctrl+L (Cmd+L en Mac). Sus elementos:\n",
    "\n",
    "Un área de texto donde escribes tu pregunta o instrucción. Soporta múltiples líneas (puedes redactar prompts largos).\n",
    "Botones o sugerencias de acciones: dependiendo del contexto, puede haber atajos como \"Ask\", \"Edit\", \"Run Agent\". En versiones actuales, hay modos como Ask (preguntar/explicar), Edit (darle trozos de código y modificarlos) y Agent (delegar tarea completa) (Cursor – IntroductionLinks to an external site.). Normalmente, simplemente con escribir tu consulta y Enter, la IA responderá en el mismo chat.\n",
    "El chat conserva el historial dentro de esa sesión de conversación. Es decir, puedes hacer una pregunta, luego repreguntar sobre la respuesta. Ejemplo:\n",
    "* Tú: \"¿Cómo leo un archivo CSV en Python?\"\n",
    "* IA: (te responde explicando pandas read_csv, etc.)\n",
    "* Tú: \"¿Puedes mostrarme un ejemplo con la librería pandas?\"\n",
    "* IA: (te da un código de ejemplo usando pandas)\n",
    "* Tú: \"Ahora, ¿y sin usar pandas, solo con csv o estándar?\"\n",
    "* IA: (te muestra otra solución con módulo csv)\n",
    "Como ves, es una charla. La IA recuerda lo que ya dijo en esta secuencia. Ojo: Si quieres empezar de cero un tema, quizás conviene limpiar el contexto (tal vez cerrando y reabriendo el panel, o borrando el hilo).\n",
    "\n",
    "El chat \"ve\" tu código abierto: La IA siempre tiene en contexto el archivo actualmente activo en el editor y la porción visible de código. Por eso, si preguntas \"¿Este código tiene algún bug?\" sin más, la IA asumirá que te refieres al código del archivo que estás editando en ese momento. Además, si seleccionas texto antes de abrir el chat o mientras está abierto, muchas veces lo toma como referencia (lo verás incluido en la entrada como algo citado).\n",
    "También puede tener consciencia de todo el proyecto, especialmente si usas la función especial @codebase. Esto lo explicaremos más adelante.\n",
    "\n",
    "## Terminal y ejecuciones con IA\n",
    "Cuando trabajas en la terminal integrada, el modelo puede ayudarte a formar comandos:\n",
    "\n",
    "Escribe Ctrl+K mientras estás en la terminal (con el cursor en la terminal, no en el editor) para describir en natural un comando. Por ejemplo: \"crear un entorno virtual en Python llamado .venv\". Cursor podría responder con el comando apropiado: python -m venv .venv. Te pedirá confirmación para ejecutarlo, evitando que se lance nada no deseado automáticamente.\n",
    "Además, la IA puede detectar errores recurrentes. Si corres un programa y en la salida aparece un traceback de error, puedes copiar ese error y preguntarle a la IA en el chat \"¿Cómo puedo solucionar este error?\". Te suele dar pistas o la causa probable. Incluso hay integración experimental para que tras fallar un test o linter, la IA sugiera fixes (lo llaman Loops on Errors en las notas de versión, corrigiendo errores de lint automáticamente).\n",
    "Sin embargo, ten cuidado: la IA ejecutando comandos puede ser riesgosa si no revisas qué va a hacer. Siempre lee el comando sugerido antes de confirmarlo. Cursor por seguridad no ejecuta nada sin tu visto bueno explícito.\n",
    "\n",
    "En los siguientes apartados profundizaremos en algunas de ellas.\n",
    "\n"
   ]
  },
  {
   "cell_type": "markdown",
   "id": "ee6e14a5",
   "metadata": {},
   "source": [
    "# 2.2.1. Completado inteligente con Tab\n",
    "Detengámonos en una de las funciones más apreciadas: el completado con Tab. Ya la describimos conceptualmente, pero veamos consejos para usarla eficazmente:\n",
    "\n",
    "* Escritura fluida: Mientras escribes código, no intentes adivinar constantemente qué va a sugerir la IA. Es mejor que escribas de forma natural, y cuando notes que la sugerencia gris coincide con lo que quieres, aceptarla. Si te obsesionas con que la IA haga todo, podrías acabar dando muchas vueltas. Combina tu conocimiento con la ayuda de la IA.\n",
    "* Comentarios como guía: Si quieres que la IA genere un bloque de código completo, una táctica útil es escribir un comentario descriptivo y luego presionar Enter. Por ejemplo:\n",
    "\n"
   ]
  },
  {
   "cell_type": "code",
   "execution_count": null,
   "id": "49edbbe2",
   "metadata": {
    "vscode": {
     "languageId": "plaintext"
    }
   },
   "outputs": [],
   "source": [
    "# Calcular el factorial de un número dado\n",
    "\n",
    "def factorial(n):\n",
    "\n",
    "Si n es 0 o 1, devolver 1 (caso base)\n",
    "\n",
    "En otro caso, devolver n * factorial(n-1)"
   ]
  },
  {
   "cell_type": "markdown",
   "id": "369f1bb5",
   "metadata": {},
   "source": [
    "En este punto, Cursor muy posiblemente sugiera el código para el caso base y la recursión. Lo escribirá en gris. Puedes simplemente dar Tab y lo completará tal como lo dedujo. Este método es potente: la IA entiende comentarios y a menudo los convierte en código. Así que puedes esbozar la lógica en tu lenguaje (o en pseudocódigo) y dejar que Cursor la implemente.\n",
    "\n",
    "* Patrones conocidos: Cursor reconoce patrones de código típicos. Si empiezas a escribir un bucle doble anidado, como for i in range(len(lista)): seguido de un Enter, puede que sugiera automáticamente otro bucle interno for j in range(i+1, len(lista)): etc., si deduce que quieres parejas, o cosas por el estilo. Otro ejemplo: escribes la firma de una función def suma_lista(lista: list) -> int: y pulsas Enter, quizás proponga un cuerpo como:"
   ]
  },
  {
   "cell_type": "code",
   "execution_count": null,
   "id": "1f7eace2",
   "metadata": {
    "vscode": {
     "languageId": "plaintext"
    }
   },
   "outputs": [],
   "source": [
    " total = 0\n",
    "\n",
    " for elemento in lista:\n",
    "\n",
    " total += elemento\n",
    "\n",
    " return total\n"
   ]
  },
  {
   "cell_type": "markdown",
   "id": "082d9f74",
   "metadata": {},
   "source": [
    "Son patrones comunes que tiene muy aprendidos. Saber esto te ayuda a ahorrar tiempo en código rutinario.\n",
    "\n",
    "* Atajos de rechazo: Si aparece una sugerencia, pero no quieres aceptarla (porque vas a escribir algo distinto), simplemente continúa escribiendo diferente. La sugerencia desaparecerá. También puedes presionar Esc para descartarla explícitamente.\n",
    "\n",
    "* Completado de docstrings/test: Si usas triple comillas \"\"\" debajo de una función para escribir un docstring, y añades una breve descripción, a veces Cursor completará toda la documentación incluyendo parámetros y returns automáticamente. Igualmente, si escribes def test_algo(): en un contexto de pruebas unitarias (por ejemplo con pytest), puede intuir que quieres un caso de prueba y ayudarte a rellenarlo.\n",
    "\n",
    "* Soporte multi-idioma: Aunque nos centramos en Python, cabe señalar que el completado con IA funciona con cualquier lenguaje o incluso con texto plano. Cursor no está limitado a Python; el modelo detecta el lenguaje según la extensión del archivo. Esto significa que si estás editando HTML, te sugiere completado de etiquetas; en JavaScript, te sugiere código JS, etc. Para Python, es especialmente bueno cuando combinas con librerías conocidas (puede incluso sugerir importaciones necesarias).\n",
    "\n",
    "* Limitaciones: El completado se realiza dentro del tamaño de ventana de contexto que tenga el modelo (varía según GPT-3.5 o GPT-4). En archivos muy grandes, quizás no recuerde todo si estás muy abajo en el código. Pero Cursor mitiga esto con su indexación del codebase. Aun así, a veces verás que la sugerencia es incorrecta o no deseada: siempre revisa lo que aceptas, especialmente en trozos largos.\n",
    "\n",
    "* Autocompletar desde comentario en línea: Un truco: escribe # TODO: seguido de alguna indicación en un comentario, luego en la siguiente línea comienza a escribir el código y espera sugerencia. Muchas veces completará lo que pediste en el TODO automáticamente.\n",
    "\n",
    "El completado inteligente es tu aliado para escribir menos tecleando más rápido. No reemplaza entender lo que haces (tú debes validar que lo sugerido es correcto), pero acelera las tareas triviales y reduce errores tipográficos. Como ejercicio, podrías intentar escribir una pequeña función totalmente aceptando sugerencias de Cursor a ver qué tan bien resuelve la tarea.\n",
    "\n",
    "## Ponlo en práctica\n",
    "Crea un nuevo archivo Python `ejercicio_autocompletar.py`. Sin pensarlo demasiado, escribe la siguiente línea:\n",
    "# Crear una lista con los cuadrados de los n primeros números naturales \n",
    "Pulsa Enter, y en la siguiente línea empieza escribiendo:\n",
    "def cuadrados(n): \n",
    "Acepta cualquier sugerencia que aparezca tras esto (Tab). Sigue las sugerencias hasta que la función esté completa o hasta que notes que ya no sugiere más. Luego, analiza el código generado. ¿Es correcto? Prueba la función manualmente con algunos valores. Este ejercicio te ayudará a confiar (y desconfiar cuando corresponda) del completado de Cursor.\n",
    "\n",
    "--------\n"
   ]
  },
  {
   "cell_type": "markdown",
   "id": "a4417da9",
   "metadata": {},
   "source": [
    "# 2.2.2. Panel de Chat: tu asistente programador\n",
    "El Chat de Cursor es donde brilla la experiencia de tener un \"asistente programador\". Ya hemos descrito su interfaz básica; profundicemos en cómo usarlo efectivamente:\n",
    "\n",
    "### Conversaciones de preguntas y respuestas\n",
    "Puedes preguntar prácticamente cualquier duda relacionada con programación:\n",
    "\n",
    "* \"¿Qué significa el error X?\": La IA explicará el error (por ejemplo, un IndexError o un traceback).\n",
    "* \"¿Cómo se usa la función sorted de Python?\": Te dará la explicación y ejemplos de uso.\n",
    "* \"¿Qué es una lista por comprensión?\": Obtendrás una definición y ejemplo de list comprehension.\n",
    "* Incluso preguntas teóricas: \"¿Cuál es la diferencia entre un proceso y un hilo?\" y obtendrás una breve respuesta educativa.\n",
    "**La clave es formular bien las preguntas**. Aunque puedes escribir tal cual se lo preguntarías a un profesor humano, conviene ser específico si buscas una respuesta precisa. `Ejemplo no óptimo`: \"haz un juego\". `Ejemplo mejor`: \"Crear un juego de adivinar número en Python donde el usuario tenga que adivinar un número del 1 al 100, y el programa dé pistas 'mayor' o 'menor'.\" La segunda indicación es clara y producirá un mejor resultado.\n",
    "\n",
    "### Obtener ayuda con tu código actual\n",
    "Dado que el chat conoce tu archivo abierto:\n",
    "\n",
    "Si tienes un error en tu código, puedes simplemente preguntar \"¿Por qué falla este código?\" justo después de ejecutarlo y ver el error. La IA ya habrá visto la traza de error si estaba visible, o puedes copiarla/pegarla en la pregunta. Obtendrás posibles causas y soluciones.\n",
    "Si no entiendes una función que tienes abierta, puedes preguntar \"¿Me puedes explicar esta función paso a paso?\". La respuesta enumerará qué hace cada línea o bloque.\n",
    "Para mejorar un código, puedes indicar \"Optimiza el código anterior\". Por ejemplo, tras pegar un algoritmo poco eficiente, pides optimización y la IA puede proponer uno mejor (ten cuidado y verifica siempre los resultados y complejidad).\n",
    "\n",
    "## Truco\n",
    "Si la IA no ve cierto código que quieres discutir (porque está en otro archivo no abierto), puedes copiarlo en la conversación o usar la funcionalidad de referencia con @ (lo veremos más adelante) para incluirlo.\n",
    "\n",
    "## Ediciones grandes mediante el chat\n",
    "Además de la edición inline con Ctrl+K, puedes hacer ediciones complejas conversando:\n",
    "\n",
    "* Puedes pegar un bloque de código en el chat y decir \"Refactoriza este código para usar programación orientada a objetos\". Te devolverá una versión refactorizada que tú manualmente integrarás.\n",
    "* O \"Separa esta función en dos porque es muy larga\".\n",
    "\n",
    "Cursor tiene una función \"`Instant Apply`\" para aplicar cambios sugeridos desde el chat directamente al archivo, mediante un botón de aplicar que aparece encima de fragmentos de código en la respuesta. Así, si la IA te da una solución en el chat, puedes insertarla en tu código con un clic en lugar de copiar/pegar.\n",
    "* Conversación con contexto extenso\n",
    "A veces querrás mantener un diálogo largo para llegar a la solución:\n",
    "\n",
    "**Ejemplo**:\n",
    "* \"Quiero crear un juego básico. ¿Qué me recomiendas?\" → IA sugiere uno simple como adivinar número → \"Vale, hagámoslo. ¿Cómo empiezo?\" → IA te guía a crear la estructura → \"Ya tengo esto, ¿cómo añado un contador de intentos?\" → IA indica cambios → ... y así hasta terminar el juego.\n",
    "\n",
    "* Este estilo paso a paso es genial para aprender. La IA actúa casi como un tutor que te va orientando y corrigiendo.\n",
    "\n",
    "### Limitaciones del chat\n",
    "\n",
    "* Ten en cuenta que la IA puede dar respuestas incorrectas o incompletas. No asumas que todo lo que dice es cierto sin razonarlo. Por ejemplo, puede olvidar un caso rincón en su explicación, o su código sugerido puede tener un bug. Úsalo con espíritu crítico.\n",
    "\n",
    "* La IA no tiene memoria permanente de una sesión a otra. Si cierras Cursor (o el chat) y lo vuelves a abrir, no recordará conversaciones pasadas. Si hay algo importante, guárdalo manualmente.\n",
    "\n",
    "* No uses el chat para preguntas completamente ajenas a programación o tu código, especialmente en la versión gratuita, ya que hay límite de cuotas. Aunque técnicamente podrías preguntarle sobre historia o cocinar, es mejor reservarlo para su objetivo principal: programar.\n",
    "\n",
    "* Evita también exponer información sensible o privada en el chat (código propietario, contraseñas, datos personales). Aunque la empresa promete privacidad, como práctica de seguridad nunca compartas credenciales en ninguna herramienta de terceros. Si necesitas que la IA analice tu código confidencial, usa el Modo Privado.\n",
    "\n",
    "## Consejo\n",
    "Trata al chat de Cursor como un mentor: hazle preguntas cuando no entiendas algo, pídele que revise tu código, o incluso que te tome una pequeña \"prueba\" (¡sí, podrías pedirle que te pregunte 5 cosas de Python para autoevaluarte!). Esto puede hacer el aprendizaje más interactivo y ameno.\n",
    "\n"
   ]
  },
  {
   "cell_type": "markdown",
   "id": "3691eeb7",
   "metadata": {},
   "source": [
    "# 2.3. El modo Composer y el Agente de Cursor\n",
    "Además del chat estándar, Cursor introdujo un concepto llamado `Composer` y `Agent`. Estas son funciones más avanzadas que quizás no utilices de inmediato, pero vale saber qué son:\n",
    "\n",
    "* Composer: Es un panel especial donde puedes dividir una tarea grande en pasos y dejar que la IA te ayude en cada paso. Por ejemplo, imagina que quieres \"Desarrollar un juego de cartas simplificado\". Podrías escribir en el Composer:\n",
    "\n",
    "1. Crear la clase Card con palo y valor.\n",
    "2. Crear la clase Deck que genera 52 cartas y puede repartir.\n",
    "3. Lógica de juego para repartir 2 cartas a cada jugador y determinar ganador según valor.\n",
    "\n",
    "\n",
    "* Entonces, puedes pedir al Composer (quizá usando el modo Agent) que implemente paso 1, luego paso 2, etc., verificando en cada paso. Es una forma de planificar y ejecutar con la IA sin perder la visión general.\n",
    "\n",
    "* Agente (Agent mode): Es como un \"modo automático\" donde delegas en la IA un objetivo de alto nivel. Según la documentación de Cursor, el modo agente puede \"completar tareas de punta a punta, manteniendo al programador en el bucle\". En la práctica, esto significa que si le dices: \"Crea por completo la funcionalidad X\", el agente intentará generar varios cambios en archivos, incluso crear nuevos, para lograrlo. Siempre te mostrará los cambios antes de aplicarlos, claro. Aún es experimental. Para usarlo, a veces se elige Agent en lugar de Edit al hacer una solicitud. Un ejemplo: \"Agregar autenticación de usuario básica al proyecto (registro e inicio de sesión)\". El agente podría crear un archivo auth.py con funciones de registro/login, modificar tu app.py para integrarlo, etc., todo en un solo comando (con tu confirmación en cada paso). Impresionante, pero hay que revisarlo cuidadosamente.\n",
    " \n",
    "\n",
    "### ¿Cuándo usar uno u otro?\n",
    "\n",
    "Si la tarea es difusa o afecta a muchos archivos, Agent puede ser útil, pero es recomendable empezar con proyectos pequeños. Para tareas localizadas (refactorizar una función, arreglar un bug puntual) es mejor usar Chat normal o Edit inline.\n",
    "\n",
    "Piensa en el `Composer/Agent` como funciones para usuarios avanzados. En este manual, en los primeros proyectos, nos centraremos en usar el chat y las ediciones directas. Más adelante, en flujos avanzados, retomaremos cómo sacarle jugo a estas herramientas en proyectos más grandes."
   ]
  },
  {
   "cell_type": "markdown",
   "id": "1e36431b",
   "metadata": {},
   "source": [
    "------"
   ]
  },
  {
   "cell_type": "markdown",
   "id": "4b716479",
   "metadata": {},
   "source": [
    "# 2.4. Menciones @: contexto global, web y documentación"
   ]
  }
 ],
 "metadata": {
  "language_info": {
   "name": "python"
  }
 },
 "nbformat": 4,
 "nbformat_minor": 5
}
