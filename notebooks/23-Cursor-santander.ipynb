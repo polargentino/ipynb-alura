{
 "cells": [
  {
   "cell_type": "markdown",
   "id": "bab94916",
   "metadata": {},
   "source": [
    "# Fundamentos y masterclass\n",
    "\n",
    "## Cursor con Python: desarrollo inteligente con IA, con Alberto Matilla\n",
    "## Alumno: Pablo Matías Monsalvo - 16/07/2025"
   ]
  },
  {
   "cell_type": "markdown",
   "id": "dd367ee9",
   "metadata": {},
   "source": [
    "### Introducción\n",
    "\n",
    "En los últimos años, los entornos de desarrollo han evolucionado desde simples editores de texto hasta completos IDE inteligentes. Con la irrupción de la inteligencia artificial, ahora es posible contar con asistentes de código integrados que ayudan a escribir, comprender y mejorar programas. Cursor es un editor de código potenciado por IA que ejemplifica esta nueva generación de herramientas. Este manual pedagógico cubrirá en profundidad el uso de Cursor enfocado en el desarrollo en Python, orientado a alumnos principiantes en programación asistida por IA. A lo largo de sus módulos, aprenderás desde los fundamentos de Cursor, su instalación y funciones básicas, hasta flujos de trabajo avanzados, comparación con otros entornos (VS Code, PyCharm, Jupyter) y el desarrollo de proyectos completos empleando esta herramienta. \n",
    "\n"
   ]
  },
  {
   "cell_type": "markdown",
   "id": "26873530",
   "metadata": {},
   "source": [
    "\n",
    "### Índice de contenidos\n",
    "### Fundamentos y masterclass\n",
    "\n",
    "* Introducción a Cursor\n",
    "* Explorando la interfaz y funcionalidades clave\n",
    "* Desarrollo con Python en Cursor\n",
    "* Flujo de trabajo avanzado\n",
    "* Implementación y despliegue\n",
    "* Casos de uso"
   ]
  },
  {
   "cell_type": "markdown",
   "id": "6ae46e9e",
   "metadata": {},
   "source": [
    "Objetivos de aprendizaje\n",
    "SOA_CE_iconocomunicar.png\n",
    "\n",
    "Dominar Cursor en el desarrollo con Python.\n",
    "\n",
    "SOA_CE_iconocodefición_1-1.png\n",
    "\n",
    "Crear, ejecutar y depurar código Python con la ayuda de Cursor.\n",
    "\n",
    "\n",
    "SOA_CE_iconocomunicaciónfluida.png\n",
    "\n",
    "Probar, compartir y desplegar tus proyectos desarrollados en Cursor. "
   ]
  },
  {
   "cell_type": "markdown",
   "id": "231991a6",
   "metadata": {},
   "source": [
    "# 1. Introducción a Cursor\n",
    "\n",
    "En este módulo conoceremos los fundamentos de Cursor: qué lo hace especial, cómo instalarlo en tu ordenador y cómo realizar la configuración inicial para aprovechar sus características. Al final del módulo habrás instalado Cursor, importado configuraciones si usabas otro editor, y realizado tu primera interacción básica con la IA del editor.\n",
    "\n",
    "## ¿Qué ofrece un entorno de desarrollo asistido por IA?\n",
    "Antes de profundizar en Cursor, conviene entender el contexto de los entornos de desarrollo asistidos por inteligencia artificial. Tradicionalmente, un IDE o editor de código ofrece ayudas como el resaltado de sintaxis, la auto-completación básica de código, el depurador, etc. Un IDE asistido por IA lleva esto mucho más lejos: integra modelos de lenguaje avanzados que comprenden el contexto de tu proyecto y permiten interacción en lenguaje natural. En la práctica, esto significa que puedes hacer cosas como:\n",
    "\n",
    "![2a.png](/home/pol/Escritorio/ipynb-alura/assets/2a.png)\n",
    "\n",
    "Dicho con otras palabras, un IDE con IA como Cursor actúa como un pair programmer (compañero de programación) que siempre está disponible. Te permite programar \"a la velocidad del pensamiento\", convirtiendo ideas en código de forma más directa. Por supuesto, no es infalible: puede cometer errores o malinterpretar instrucciones muy ambiguas. Por ello, el desarrollador sigue teniendo el control final. Aun así, la promesa es acelerar el proceso y elevar la productividad significativamente. Muchos usuarios reportan que se sienten el doble de productivos con Cursor en comparación con herramientas tradicionales o con solo GitHub Copilot.\n",
    "\n",
    "# Cursor: origen y características principales\n",
    "Cursor fue creado por la startup AnysphereLinks(https://anysphere.inc/) to an external site. a partir de 2022-2023 con la visión de reinventar la forma de escribir código. Entre sus fundadores están Michael Truell, Sualeh Asif, Arvid Lunnemark y Aman Sanger, y obtuvieron financiación semilla (incluyendo apoyo del OpenAI Startup Fund) para impulsar el proyecto. La primera versión pública de Cursor se lanzó en 2023 y rápidamente ganó atención entre desarrolladores por su integración elegante de IA en un entorno familiar (Visual Studio Code). A fecha de 2025, Cursor se ha vuelto un proyecto de código abierto con miles de estrellas en GitHub, y es utilizado en empresas punteras (OpenAI, Shopify, Samsung, etc.) y por desarrolladores de todo el mundo.\n",
    "\n",
    "Algunas de las características principales de Cursor son:\n",
    "\n",
    "![2b.png](/home/pol/Escritorio/ipynb-alura/assets/2b.png)\n",
    "\n",
    "# Basado en VS Code\n",
    "Cursor es un fork de Visual Studio Code, lo que significa que se comporta casi igual que VS Code en cuanto a interfaz, soporte de múltiples lenguajes y extensiones. Puedes importar tus extensiones, temas y atajos de VS Code con un clic, haciendo la transición muy sencilla. Si has usado VS Code, te sentirás como en casa. \n",
    "\n",
    "# Modelos de IA integrados\n",
    "Cursor utiliza modelos de lenguaje de última generación. En su versión Pro, ofrece modelos como GPT-4, Claude y un modelo propio optimizado llamado \"cursor-small\" para respuestas rápidas. También soporta GPT-3.5 (denominado a veces cloud-3.5-sonnet en la interfaz) y permite cambiar de modelo según tus necesidades. La interacción con la IA se realiza localmente en el editor, pero las consultas se procesan en la nube (por eso requiere conexión a internet). No necesitas claves de API aparte: al iniciar sesión, Cursor ya dispone de acceso a sus modelos, aunque también es posible configurar claves de OpenAI u otros si quieres usar las tuyas. \n",
    "\n",
    "# Completado por pestañas (Tab)\n",
    "Al escribir código, Cursor te sugiere automáticamente continuaciones inteligentes. Estas sugerencias pueden abarcar varias líneas, no solo el token siguiente. Se activan al pulsar la tecla Tabulador (Tab). Usuarios destacan que \"pulsa Tab más que cualquier otra tecla\" porque el editor a menudo anticipa correctamente lo que quieren hacer. Este completado tiene en cuenta el contexto reciente y se siente como un Copilot potenciado. \n",
    "\n",
    "# Chat contextual\n",
    "Cursor incluye un panel de chat donde puedes mantener una conversación con la IA, la cual siempre “ve” tu código actual. Puedes preguntarle sobre el código, pedirle que lo modifique, o incluso solicitar ayuda general de programación. Lo potente es que entiende el proyecto: puede referenciar funciones o archivos de tu base de código para dar respuestas precisas. Además, cuenta con funciones especiales para incorporar información extra en la conversación, como incluir fragmentos de archivos (@archivo) o realizar búsquedas web (@Web) si necesitas datos externos.\n",
    "\n",
    "# Edición en lenguaje natural (Cmd/Ctrl+K)\n",
    "Esta función te permite seleccionar código y describir en texto libre qué cambio deseas. Por ejemplo, \"convertir este bucle en una comprensión de listas\". Al presionar Ctrl+K (en Windows/Linux) o Cmd+K (en Mac), aparece un cuadro de prompt inline donde ingresas la instrucción. La IA propondrá un parche que, al aplicarlo, modifica tu código mostrando las diferencias (líneas removidas en rojo y añadidas en verde). Si no seleccionas nada y pulsas Ctrl+K, el prompt sirve para generar código nuevo en la posición actual del cursor. Es una manera rápida de escribir código por descripción sin abrir el chat completo. \n",
    "\n",
    "# Comprensión del código base completa\n",
    "Cursor indexa tu proyecto para poder responder preguntas globales. Tiene un modo \"Codebase\" para buscar en todo el repositorio. Por ejemplo, puedes preguntarle \"¿Dónde se define la clase Usuario? \"y te indicará el archivo y fragmento correspondiente. Internamente, utiliza modelos de retrieval (búsqueda semántica) para encontrar piezas relevantes, reduciendo la necesidad de abrir manualmente muchos archivos. \n",
    "\n",
    "# Ejecución asistida de comandos\n",
    "De forma experimental, Cursor también puede ayudar con comandos de terminal. Si abres un terminal integrado, puedes pulsar Ctrl+K allí para escribir en lenguaje natural la acción que quieres, y Cursor la traducirá a un comando de shell. Por ejemplo, escribir \"inicializa un proyecto Django\" podría sugerir django-admin startproject <nombre>. Estos comandos no se ejecutan sin tu confirmación, añadiendo seguridad. \n",
    "\n",
    "# Privacidad y seguridad\n",
    "Aunque Cursor envía tu código al servicio de IA para obtener respuestas, incluye un Modo Privado opcional en el que tu código no se almacena remotamente en ningún momento. Además, la empresa es certificada SOC 2, lo que implica buenas prácticas de seguridad de datos. En entornos empresariales, ofrecen opciones de auto-alojar el modelo o tener más control sobre la privacidad. Para un usuario individual, en general el código pasa cifrado a los servidores de Cursor/OpenAI para las consultas y no se comparte con terceros. \n",
    "\n",
    "# Licencia y precio\n",
    "Cursor es gratuito en la mayoría de sus funcionalidades. Existe un plan Pro de pago (~20 USD/mes) que ofrece uso ilimitado de los mejores modelos (como GPT-4) y algunas ventajas de velocidad. Sin embargo, incluso con la versión gratuita tienes completado básico e interacciones limitadas con IA (similar a usar GPT-3.5). Todos los nuevos usuarios obtienen una prueba gratuita de 14 días del plan Pro al crear una cuenta, para que puedas probar las capacidades completas desde el inicio. (A fecha de 2025, estas condiciones pueden variar). \n",
    "\n",
    "En conjunto, estas características hacen que Cursor funcione como \"tu compañero programador impulsado por IA dentro de un IDE\". Ahora que sabemos qué puede hacer, pasemos a la parte práctica: instalar y configurar Cursor en tu sistema.\n",
    "\n"
   ]
  },
  {
   "cell_type": "markdown",
   "id": "7a7c6c11",
   "metadata": {},
   "source": [
    "# Nota\n",
    "## Requisitos\n",
    "1. Crear una cuenta en cursor.com y logearse ([cursor.com](https://docs.cursor.com/welcome)).\n",
    "2. Instalar Python. \n",
    "Se va a usar Windows para este curso. Esté atento a los cambios en las teclas y otras características en sistemas operativos con Linux y MacOS y siga la documentación oficialLinks to an external site.. "
   ]
  },
  {
   "cell_type": "markdown",
   "id": "c969b9e4",
   "metadata": {},
   "source": [
    "# 1.1. Instalación de Cursor\n",
    "Cursor es compatible con Windows 10/11, macOS y Linux. Los pasos generales de instalación son: \n",
    "\n",
    "### Descarga del instalador\n",
    "Ve a la página oficial de CursorLinks to an external site. y accede a la sección de \"Downloads\". Allí encontrarás instaladores para cada plataforma (un ejecutable .exe para Windows, un paquete .dmg para macOS, y un archivo AppImage para Linux). Descarga el apropiado para tu sistema. Cursor se actualiza con frecuencia, así que es buena idea descargar la versión más reciente disponible. \n",
    "\n",
    "### Ejecuta el instalador\n",
    "En Windows y macOS, ábrelo y sigue las instrucciones en pantalla. Es un instalador típico; puedes dejar las opciones por defecto. En macOS puede que solo tengas que arrastrar el programa a tu carpeta de Aplicaciones. En Linux, el AppImage requiere un paso adicional: dale permisos de ejecución (`chmod +x nombre_de_archivo.AppImage` en la terminal) y luego lánzalo (`./nombre_de_archivo.AppImage`). Esto abrirá Cursor sin necesidad de instalación tradicional (los AppImage son aplicaciones portables). \n",
    "\n",
    "### Primer lanzamiento y registro\n",
    "Al abrir Cursor por primera vez, se te pedirá que inicies sesión o te registres. Crea una cuenta gratuita usando tu email y una contraseña. No se necesita tarjeta de crédito para la prueba Pro de 14 días. Una vez registrado, inicia sesión; esto conecta tu editor con los servicios en la nube de Cursor para la IA. \n",
    "\n",
    "### Configuración inicial\n",
    "Tras iniciar sesión, Cursor mostrará una pantalla de configuración inicial con algunas opciones. Aquí puedes encontrar (según la versión): \n",
    "\n",
    "#### Atajos de teclado (\"Keyboard\")\n",
    "Te permitirá elegir el esquema de atajos. Por defecto viene el de VS Code (recomendado, especialmente si ya conoces VS Code). También podrías seleccionar atajos estilo Vim, Sublime Text u otros, pero en este manual asumiremos que usas los predeterminados de VS Code.\n",
    "\n",
    "#### Idioma para la IA\n",
    "Puedes seleccionar el idioma en que quieres comunicarte con la IA. Por defecto es inglés, pero puedes elegir español u otro. Esto hará que la IA intente responder en ese idioma. Ten en cuenta que su conocimiento técnico suele estar en inglés, pero es capaz de explicar código en español bastante bien.\n",
    "\n",
    "#### Contexto de todo el código (\"Codebase-wide\")\n",
    "Es una opción para habilitar que la IA tenga en cuenta todo el repositorio/proyecto en sus sugerencias. Si lo activas, Cursor indexará todos los archivos para dar respuestas más contextuales. Suele ser útil, aunque en proyectos muy grandes puede consumir más memoria. Recomendamos habilitarlo para empezar, ya que una de las ventajas de Cursor es precisamente “conocer” tu base de código. \n",
    "\n",
    "#### Comando de terminal\n",
    "En Windows puede ofrecer añadir un comando en el PATH para lanzar Cursor desde la terminal (por ejemplo, escribiendo cursor. para abrir la carpeta actual en Cursor). Esto es opcional, pero conveniente si trabajas mucho con la línea de comandos. \n",
    "\n",
    "#### Importar configuración de VS Code\n",
    "Si tenías Visual Studio Code instalado, Cursor detectará esa configuración y te propondrá importarla (extensiones, temas, atajos personalizados). Aceptar esto puede ahorrarte tiempo y hacer que Cursor luzca y se comporte igual que tu VS Code anterior. Si no tenías VS Code, puedes saltar este paso. \n",
    "\n",
    "#### Modo claro u oscuro\n",
    "Posiblemente, te pregunte qué tema de color quieres, claro u oscuro, como suele hacer VS Code (esto también puedes cambiarlo después en ajustes). \n",
    "\n",
    "Ajusta todo según tu preferencia y procede. Estas configuraciones iniciales siempre se pueden modificar posteriormente en la sección de \"Settings\" de Cursor.\n",
    "\n",
    "#### Conexión a internet\n",
    "Asegúrate de que dispones de una conexión estable. Cursor necesita internet para todas las funciones de IA (completado, chat, etc.), ya que las solicitudes se procesan en servidores remotos. Si por alguna razón no tienes internet, el editor funcionará como un VS Code normal sin IA. \n",
    "\n",
    " \n",
    "\n",
    "Una vez completada la configuración, se abrirá la ventana principal de Cursor. ¡Ya estás listo para usarlo! Para confirmar que todo funciona, puedes observar que en la interfaz aparece algún indicador de la IA (por ejemplo, un panel de chat o un icono de Cursor). En la esquina inferior derecha, a veces muestra el estado de conexión al servicio de IA. Si hubiera algún problema (por ejemplo, firewall bloqueando), podrías revisar la sección de ayuda o la comunidad en el foro oficial. \n",
    "\n",
    "## Consejo\n",
    "Si encuentras algún obstáculo al instalar (especialmente en Linux, con permisos, dependencias, etc.), consulta la documentación oficial de instalación o el foro. La comunidad de Cursor es muy activa y suele ayudar con problemas comunes. En la documentación (Get Started > Installation) se detallan soluciones a posibles incidencias en cada OS, por ejemplo, cómo autorizar la ejecución del AppImage en distintas distribuciones de Linux.\n",
    "\n"
   ]
  }
 ],
 "metadata": {
  "language_info": {
   "name": "python"
  }
 },
 "nbformat": 4,
 "nbformat_minor": 5
}
