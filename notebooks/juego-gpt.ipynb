{
 "cells": [
  {
   "cell_type": "code",
   "execution_count": 1,
   "id": "ab881cee",
   "metadata": {},
   "outputs": [
    {
     "name": "stdout",
     "output_type": "stream",
     "text": [
      "Collecting pygame\n",
      "  Downloading pygame-2.6.1-cp310-cp310-manylinux_2_17_x86_64.manylinux2014_x86_64.whl.metadata (12 kB)\n",
      "Downloading pygame-2.6.1-cp310-cp310-manylinux_2_17_x86_64.manylinux2014_x86_64.whl (14.0 MB)\n",
      "\u001b[2K   \u001b[90m━━━━━━━━━━━━━━━━━━━━━━━━━━━━━━━━━━━━━━━━\u001b[0m \u001b[32m14.0/14.0 MB\u001b[0m \u001b[31m925.2 kB/s\u001b[0m eta \u001b[36m0:00:00\u001b[0m00:01\u001b[0m00:02\u001b[0m\n",
      "\u001b[?25hInstalling collected packages: pygame\n",
      "Successfully installed pygame-2.6.1\n"
     ]
    }
   ],
   "source": [
    "!pip install pygame\n"
   ]
  },
  {
   "cell_type": "code",
   "execution_count": 2,
   "id": "fb43cdaa",
   "metadata": {},
   "outputs": [
    {
     "name": "stdout",
     "output_type": "stream",
     "text": [
      "pygame 2.6.1 (SDL 2.28.4, Python 3.10.13)\n",
      "Hello from the pygame community. https://www.pygame.org/contribute.html\n"
     ]
    },
    {
     "ename": "SystemExit",
     "evalue": "",
     "output_type": "error",
     "traceback": [
      "An exception has occurred, use %tb to see the full traceback.\n",
      "\u001b[0;31mSystemExit\u001b[0m\n"
     ]
    },
    {
     "name": "stderr",
     "output_type": "stream",
     "text": [
      "/home/pol/.pyenv/versions/3.10.13/envs/api-env/lib/python3.10/site-packages/IPython/core/interactiveshell.py:3587: UserWarning: To exit: use 'exit', 'quit', or Ctrl-D.\n",
      "  warn(\"To exit: use 'exit', 'quit', or Ctrl-D.\", stacklevel=1)\n"
     ]
    }
   ],
   "source": [
    "import pygame\n",
    "import sys\n",
    "\n",
    "# Inicializar pygame\n",
    "pygame.init()\n",
    "\n",
    "# Configurar la pantalla\n",
    "WIDTH, HEIGHT = 640, 480\n",
    "screen = pygame.display.set_mode((WIDTH, HEIGHT))\n",
    "pygame.display.set_caption(\"¡Explorando Pygame!\")\n",
    "\n",
    "# Colores\n",
    "WHITE = (255, 255, 255)\n",
    "RED = (255, 0, 0)\n",
    "\n",
    "# Posición inicial del círculo\n",
    "x, y = WIDTH // 2, HEIGHT // 2\n",
    "radius = 30\n",
    "speed = 5\n",
    "\n",
    "# Bucle principal del juego\n",
    "running = True\n",
    "while running:\n",
    "    screen.fill(WHITE)  # Pintar el fondo\n",
    "\n",
    "    # Manejar eventos\n",
    "    for event in pygame.event.get():\n",
    "        if event.type == pygame.QUIT:\n",
    "            running = False\n",
    "\n",
    "    # Detectar teclas presionadas\n",
    "    keys = pygame.key.get_pressed()\n",
    "    if keys[pygame.K_LEFT]:\n",
    "        x -= speed\n",
    "    if keys[pygame.K_RIGHT]:\n",
    "        x += speed\n",
    "    if keys[pygame.K_UP]:\n",
    "        y -= speed\n",
    "    if keys[pygame.K_DOWN]:\n",
    "        y += speed\n",
    "\n",
    "    # Dibujar el círculo\n",
    "    pygame.draw.circle(screen, RED, (x, y), radius)\n",
    "\n",
    "    # Actualizar la pantalla\n",
    "    pygame.display.flip()\n",
    "    pygame.time.Clock().tick(60)\n",
    "\n",
    "# Finalizar pygame\n",
    "pygame.quit()\n",
    "sys.exit()\n"
   ]
  },
  {
   "cell_type": "code",
   "execution_count": 1,
   "id": "fd46a6d9",
   "metadata": {},
   "outputs": [
    {
     "name": "stdout",
     "output_type": "stream",
     "text": [
      "pygame 2.6.1 (SDL 2.28.4, Python 3.10.13)\n",
      "Hello from the pygame community. https://www.pygame.org/contribute.html\n"
     ]
    },
    {
     "ename": "SystemExit",
     "evalue": "",
     "output_type": "error",
     "traceback": [
      "An exception has occurred, use %tb to see the full traceback.\n",
      "\u001b[0;31mSystemExit\u001b[0m\n"
     ]
    },
    {
     "name": "stderr",
     "output_type": "stream",
     "text": [
      "/home/pol/.pyenv/versions/3.10.13/envs/api-env/lib/python3.10/site-packages/IPython/core/interactiveshell.py:3587: UserWarning: To exit: use 'exit', 'quit', or Ctrl-D.\n",
      "  warn(\"To exit: use 'exit', 'quit', or Ctrl-D.\", stacklevel=1)\n"
     ]
    }
   ],
   "source": [
    "import pygame\n",
    "import random\n",
    "import sys\n",
    "\n",
    "# Inicialización\n",
    "pygame.init()\n",
    "\n",
    "# Configuración de pantalla\n",
    "WIDTH, HEIGHT = 600, 400\n",
    "CELL_SIZE = 20\n",
    "screen = pygame.display.set_mode((WIDTH, HEIGHT))\n",
    "pygame.display.set_caption(\"Snake Clásico 🐍 - Estilo Nokia\")\n",
    "\n",
    "# Colores\n",
    "BLACK = (0, 0, 0)\n",
    "GREEN = (0, 255, 0)\n",
    "DARK_GREEN = (0, 100, 0)\n",
    "RED = (255, 0, 0)\n",
    "WHITE = (255, 255, 255)\n",
    "\n",
    "# Fuente\n",
    "font = pygame.font.SysFont(\"consolas\", 24)\n",
    "\n",
    "# Reloj\n",
    "clock = pygame.time.Clock()\n",
    "\n",
    "# Función para mostrar puntaje\n",
    "def draw_score(score):\n",
    "    score_text = font.render(f\"Puntaje: {score}\", True, WHITE)\n",
    "    screen.blit(score_text, [10, 10])\n",
    "\n",
    "# Crear comida\n",
    "def spawn_food(snake):\n",
    "    while True:\n",
    "        food = [\n",
    "            random.randint(0, (WIDTH - CELL_SIZE) // CELL_SIZE) * CELL_SIZE,\n",
    "            random.randint(0, (HEIGHT - CELL_SIZE) // CELL_SIZE) * CELL_SIZE\n",
    "        ]\n",
    "        if food not in snake:\n",
    "            return food\n",
    "\n",
    "# Función principal\n",
    "def main():\n",
    "    snake = [[100, 100], [80, 100], [60, 100]]\n",
    "    direction = \"RIGHT\"\n",
    "    food = spawn_food(snake)\n",
    "    score = 0\n",
    "    game_over = False\n",
    "\n",
    "    while not game_over:\n",
    "        screen.fill(BLACK)\n",
    "\n",
    "        for event in pygame.event.get():\n",
    "            if event.type == pygame.QUIT:\n",
    "                game_over = True\n",
    "            elif event.type == pygame.KEYDOWN:\n",
    "                if event.key == pygame.K_UP and direction != \"DOWN\":\n",
    "                    direction = \"UP\"\n",
    "                elif event.key == pygame.K_DOWN and direction != \"UP\":\n",
    "                    direction = \"DOWN\"\n",
    "                elif event.key == pygame.K_LEFT and direction != \"RIGHT\":\n",
    "                    direction = \"LEFT\"\n",
    "                elif event.key == pygame.K_RIGHT and direction != \"LEFT\":\n",
    "                    direction = \"RIGHT\"\n",
    "\n",
    "        # Mover la serpiente\n",
    "        head = list(snake[0])\n",
    "        if direction == \"UP\":\n",
    "            head[1] -= CELL_SIZE\n",
    "        elif direction == \"DOWN\":\n",
    "            head[1] += CELL_SIZE\n",
    "        elif direction == \"LEFT\":\n",
    "            head[0] -= CELL_SIZE\n",
    "        elif direction == \"RIGHT\":\n",
    "            head[0] += CELL_SIZE\n",
    "\n",
    "        # Pantalla envolvente\n",
    "        head[0] %= WIDTH\n",
    "        head[1] %= HEIGHT\n",
    "\n",
    "        # Agregar nueva cabeza\n",
    "        snake.insert(0, head)\n",
    "\n",
    "        # Colisión consigo misma\n",
    "        if head in snake[1:]:\n",
    "            game_over = True\n",
    "            break\n",
    "\n",
    "        # Comer comida\n",
    "        if head == food:\n",
    "            score += 1\n",
    "            food = spawn_food(snake)\n",
    "        else:\n",
    "            snake.pop()\n",
    "\n",
    "        # Dibujar comida\n",
    "        pygame.draw.rect(screen, RED, pygame.Rect(food[0], food[1], CELL_SIZE, CELL_SIZE))\n",
    "\n",
    "        # Dibujar serpiente\n",
    "        for i, segment in enumerate(snake):\n",
    "            color = GREEN if i == 0 else DARK_GREEN\n",
    "            pygame.draw.rect(screen, color, pygame.Rect(segment[0], segment[1], CELL_SIZE, CELL_SIZE))\n",
    "\n",
    "        draw_score(score)\n",
    "        pygame.display.flip()\n",
    "        clock.tick(10)\n",
    "\n",
    "    # Game Over\n",
    "    screen.fill(BLACK)\n",
    "    msg = font.render(\"¡Game Over! Puntaje: \" + str(score), True, RED)\n",
    "    screen.blit(msg, [WIDTH // 2 - 150, HEIGHT // 2])\n",
    "    pygame.display.flip()\n",
    "    pygame.time.wait(3000)\n",
    "    pygame.quit()\n",
    "    sys.exit()\n",
    "\n",
    "# Ejecutar el juego\n",
    "main()\n",
    "\n"
   ]
  }
 ],
 "metadata": {
  "kernelspec": {
   "display_name": "api-env",
   "language": "python",
   "name": "python3"
  },
  "language_info": {
   "codemirror_mode": {
    "name": "ipython",
    "version": 3
   },
   "file_extension": ".py",
   "mimetype": "text/x-python",
   "name": "python",
   "nbconvert_exporter": "python",
   "pygments_lexer": "ipython3",
   "version": "3.10.13"
  }
 },
 "nbformat": 4,
 "nbformat_minor": 5
}
