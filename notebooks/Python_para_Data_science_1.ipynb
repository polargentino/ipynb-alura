{
 "cells": [
  {
   "cell_type": "markdown",
   "metadata": {
    "id": "MdJiAVxEGiwg"
   },
   "source": [
    "#  Hola mundo soy pol"
   ]
  },
  {
   "cell_type": "code",
   "execution_count": 1,
   "metadata": {
    "colab": {
     "base_uri": "https://localhost:8080/"
    },
    "executionInfo": {
     "elapsed": 77,
     "status": "ok",
     "timestamp": 1743670004720,
     "user": {
      "displayName": "Pol Argentino",
      "userId": "02817779166023488471"
     },
     "user_tz": 180
    },
    "id": "6XQP00T404Xe",
    "outputId": "982fa8ff-2d12-40aa-e36f-81708a72ade4"
   },
   "outputs": [
    {
     "name": "stdout",
     "output_type": "stream",
     "text": [
      "hola mundo soy pol Monsalvo\n"
     ]
    }
   ],
   "source": [
    "print('hola mundo soy pol Monsalvo')"
   ]
  },
  {
   "cell_type": "code",
   "execution_count": 2,
   "metadata": {
    "colab": {
     "base_uri": "https://localhost:8080/"
    },
    "executionInfo": {
     "elapsed": 63,
     "status": "ok",
     "timestamp": 1747928894002,
     "user": {
      "displayName": "Pol Argentino",
      "userId": "02817779166023488471"
     },
     "user_tz": 180
    },
    "id": "8wXnQz8Ord4U",
    "outputId": "6685d4de-78a6-4e45-8eb0-26721b82ec88"
   },
   "outputs": [
    {
     "name": "stdout",
     "output_type": "stream",
     "text": [
      "Mi nombre es Pablo y tengo 44 años y me encanta la ciencia de datos.\n"
     ]
    }
   ],
   "source": [
    "print('Mi nombre es Pablo y tengo 44 años y me encanta la ciencia de datos.')\n"
   ]
  },
  {
   "cell_type": "code",
   "execution_count": null,
   "metadata": {
    "colab": {
     "base_uri": "https://localhost:8080/"
    },
    "executionInfo": {
     "elapsed": 174,
     "status": "ok",
     "timestamp": 1748288635397,
     "user": {
      "displayName": "Pol Argentino",
      "userId": "02817779166023488471"
     },
     "user_tz": 180
    },
    "id": "p4Y4Tf2frloH",
    "outputId": "399b8128-34c1-4616-d7c5-1b956574a5bb"
   },
   "outputs": [
    {
     "data": {
      "text/plain": [
       "85"
      ]
     },
     "execution_count": 1,
     "metadata": {},
     "output_type": "execute_result"
    }
   ],
   "source": [
    "85"
   ]
  },
  {
   "cell_type": "markdown",
   "metadata": {
    "id": "8tS5iJ4ZJGdV"
   },
   "source": [
    "# Manipulando los datos\n",
    "Vamos a aprender sobre las variables en Python, cómo declararlas y utilizarlas además de conocer otros comandos de este lenguaje. :D\n",
    "\n",
    "# Variables"
   ]
  },
  {
   "cell_type": "code",
   "execution_count": null,
   "metadata": {
    "colab": {
     "base_uri": "https://localhost:8080/"
    },
    "executionInfo": {
     "elapsed": 154,
     "status": "ok",
     "timestamp": 1748289084726,
     "user": {
      "displayName": "Pol Argentino",
      "userId": "02817779166023488471"
     },
     "user_tz": 180
    },
    "id": "H3e_C7C2Jkjb",
    "outputId": "3758e28f-41c2-4416-8cfa-0572d551e947"
   },
   "outputs": [
    {
     "data": {
      "text/plain": [
       "7"
      ]
     },
     "execution_count": 2,
     "metadata": {},
     "output_type": "execute_result"
    }
   ],
   "source": [
    "7"
   ]
  },
  {
   "cell_type": "code",
   "execution_count": null,
   "metadata": {
    "colab": {
     "base_uri": "https://localhost:8080/"
    },
    "executionInfo": {
     "elapsed": 16,
     "status": "ok",
     "timestamp": 1747929133524,
     "user": {
      "displayName": "Pol Argentino",
      "userId": "02817779166023488471"
     },
     "user_tz": 180
    },
    "id": "INBKOm_orvJY",
    "outputId": "144d8e67-1f32-4fec-b1ae-a2887cb8532a"
   },
   "outputs": [
    {
     "data": {
      "text/plain": [
       "10751048"
      ]
     },
     "execution_count": 12,
     "metadata": {},
     "output_type": "execute_result"
    }
   ],
   "source": [
    "id(7)"
   ]
  },
  {
   "cell_type": "code",
   "execution_count": null,
   "metadata": {
    "id": "Vr32iqgRrzzy"
   },
   "outputs": [],
   "source": [
    "edad = 7"
   ]
  },
  {
   "cell_type": "code",
   "execution_count": null,
   "metadata": {
    "colab": {
     "base_uri": "https://localhost:8080/"
    },
    "executionInfo": {
     "elapsed": 83,
     "status": "ok",
     "timestamp": 1748289188515,
     "user": {
      "displayName": "Pol Argentino",
      "userId": "02817779166023488471"
     },
     "user_tz": 180
    },
    "id": "2066s0lir3Wm",
    "outputId": "3d01efc1-2841-4019-91c0-2cf9d443c2f3"
   },
   "outputs": [
    {
     "name": "stdout",
     "output_type": "stream",
     "text": [
      "10751048\n",
      "10751048\n"
     ]
    }
   ],
   "source": [
    "\n",
    "\n",
    "print(id(edad))\n",
    "print(id(7))"
   ]
  },
  {
   "cell_type": "code",
   "execution_count": null,
   "metadata": {
    "colab": {
     "base_uri": "https://localhost:8080/"
    },
    "executionInfo": {
     "elapsed": 40,
     "status": "ok",
     "timestamp": 1747929119812,
     "user": {
      "displayName": "Pol Argentino",
      "userId": "02817779166023488471"
     },
     "user_tz": 180
    },
    "id": "2FtmTsoosEap",
    "outputId": "736de871-f127-4743-b79c-5e70c2b06567"
   },
   "outputs": [
    {
     "data": {
      "text/plain": [
       "10751048"
      ]
     },
     "execution_count": 11,
     "metadata": {},
     "output_type": "execute_result"
    }
   ],
   "source": [
    "numerosiete = 7\n",
    "id(numerosiete)"
   ]
  },
  {
   "cell_type": "code",
   "execution_count": null,
   "metadata": {
    "colab": {
     "base_uri": "https://localhost:8080/"
    },
    "executionInfo": {
     "elapsed": 18,
     "status": "ok",
     "timestamp": 1747929249294,
     "user": {
      "displayName": "Pol Argentino",
      "userId": "02817779166023488471"
     },
     "user_tz": 180
    },
    "id": "gqD_LcCgsiyK",
    "outputId": "f4ec1dbb-6b96-4079-d409-e86df37751f9"
   },
   "outputs": [
    {
     "data": {
      "text/plain": [
       "134374334023792"
      ]
     },
     "execution_count": 15,
     "metadata": {},
     "output_type": "execute_result"
    }
   ],
   "source": [
    "nombre = 'Pablo'\n",
    "id('Pablo')\n"
   ]
  },
  {
   "cell_type": "code",
   "execution_count": null,
   "metadata": {
    "colab": {
     "base_uri": "https://localhost:8080/"
    },
    "executionInfo": {
     "elapsed": 67,
     "status": "ok",
     "timestamp": 1747929261242,
     "user": {
      "displayName": "Pol Argentino",
      "userId": "02817779166023488471"
     },
     "user_tz": 180
    },
    "id": "Y6So0wLMs8Cv",
    "outputId": "5124f448-106c-4148-ee4e-c15bb7506912"
   },
   "outputs": [
    {
     "data": {
      "text/plain": [
       "134374334023792"
      ]
     },
     "execution_count": 16,
     "metadata": {},
     "output_type": "execute_result"
    }
   ],
   "source": [
    "id(nombre)"
   ]
  },
  {
   "cell_type": "markdown",
   "metadata": {
    "id": "qXXh20ZWtJEh"
   },
   "source": [
    "# Existen algunos tipos de nombres que no podemos definir para las variables:\n",
    "\n",
    "* Nombres que comiencen con números\n",
    "* Ejemplos: 10_notas, 2_nombre_casa, etc.\n",
    "* Palabras separadas por espacio\n",
    "* Ejemplos: Nombre escuela, notas estudiantes, etc.\n",
    "* Nombres de funciones de Python\n",
    "* Ejemplos: print, type, etc."
   ]
  },
  {
   "cell_type": "code",
   "execution_count": null,
   "metadata": {
    "colab": {
     "base_uri": "https://localhost:8080/"
    },
    "executionInfo": {
     "elapsed": 22,
     "status": "ok",
     "timestamp": 1747929349817,
     "user": {
      "displayName": "Pol Argentino",
      "userId": "02817779166023488471"
     },
     "user_tz": 180
    },
    "id": "uGiLD-6CtKGp",
    "outputId": "539515b9-3675-47fc-b85a-2886cb73df4e"
   },
   "outputs": [
    {
     "name": "stdout",
     "output_type": "stream",
     "text": [
      "1 2 3 4 5\n"
     ]
    }
   ],
   "source": [
    "edad = 1\n",
    "Edad = 2\n",
    "EDAD = 3\n",
    "_edad = 4\n",
    "_edad_ = 5\n",
    "print(edad, Edad, EDAD, _edad, _edad_)\n"
   ]
  },
  {
   "cell_type": "code",
   "execution_count": null,
   "metadata": {
    "colab": {
     "base_uri": "https://localhost:8080/"
    },
    "executionInfo": {
     "elapsed": 22,
     "status": "ok",
     "timestamp": 1747929398308,
     "user": {
      "displayName": "Pol Argentino",
      "userId": "02817779166023488471"
     },
     "user_tz": 180
    },
    "id": "lHZJ1X7BtWFh",
    "outputId": "5d6c84ad-f4d1-4a93-9db6-2d1dcd49b674"
   },
   "outputs": [
    {
     "data": {
      "text/plain": [
       "int"
      ]
     },
     "execution_count": 18,
     "metadata": {},
     "output_type": "execute_result"
    }
   ],
   "source": [
    "edad = 7\n",
    "type(edad)"
   ]
  },
  {
   "cell_type": "code",
   "execution_count": null,
   "metadata": {
    "colab": {
     "base_uri": "https://localhost:8080/"
    },
    "executionInfo": {
     "elapsed": 27,
     "status": "ok",
     "timestamp": 1747929423425,
     "user": {
      "displayName": "Pol Argentino",
      "userId": "02817779166023488471"
     },
     "user_tz": 180
    },
    "id": "iI7FbmBWthhI",
    "outputId": "67074756-c6c0-472d-9c97-41da480c34a5"
   },
   "outputs": [
    {
     "data": {
      "text/plain": [
       "float"
      ]
     },
     "execution_count": 19,
     "metadata": {},
     "output_type": "execute_result"
    }
   ],
   "source": [
    "promedio = 9.7\n",
    "type(promedio)"
   ]
  },
  {
   "cell_type": "code",
   "execution_count": null,
   "metadata": {
    "colab": {
     "base_uri": "https://localhost:8080/"
    },
    "executionInfo": {
     "elapsed": 24,
     "status": "ok",
     "timestamp": 1747929448105,
     "user": {
      "displayName": "Pol Argentino",
      "userId": "02817779166023488471"
     },
     "user_tz": 180
    },
    "id": "CET6z4-Ytne1",
    "outputId": "a2ad563f-bfab-407a-df48-4af77bd76aab"
   },
   "outputs": [
    {
     "data": {
      "text/plain": [
       "str"
      ]
     },
     "execution_count": 20,
     "metadata": {},
     "output_type": "execute_result"
    }
   ],
   "source": [
    "nombre = \"Pablo\"\n",
    "type(nombre)"
   ]
  },
  {
   "cell_type": "code",
   "execution_count": null,
   "metadata": {
    "colab": {
     "base_uri": "https://localhost:8080/"
    },
    "executionInfo": {
     "elapsed": 117,
     "status": "ok",
     "timestamp": 1748290007085,
     "user": {
      "displayName": "Pol Argentino",
      "userId": "02817779166023488471"
     },
     "user_tz": 180
    },
    "id": "mjomRezSuKvJ",
    "outputId": "9ae71236-fd42-48ae-a07a-4a9958980ca0"
   },
   "outputs": [
    {
     "data": {
      "text/plain": [
       "bool"
      ]
     },
     "execution_count": 7,
     "metadata": {},
     "output_type": "execute_result"
    }
   ],
   "source": [
    "\n",
    "v = True\n",
    "type(v)"
   ]
  },
  {
   "cell_type": "markdown",
   "metadata": {
    "id": "nOqvV8RUNOEn"
   },
   "source": [
    "En un conjunto de datos escolares podemos tener varios tipos de informaciones. Supongamos que tenemos acceso a la ficha de datos del alumno Pablo Monsalvo, cómo transformamos este nombre en variables de Python?\n",
    "\n",
    "Ficha:\n",
    "* Nombre: Pablo Monsalvo\n",
    "* Edad: 44 años\n",
    "* Promedio del semestre: 9,75\n",
    "* Situación de aprobación: Verdadera (aprobado)"
   ]
  },
  {
   "cell_type": "code",
   "execution_count": null,
   "metadata": {
    "colab": {
     "base_uri": "https://localhost:8080/"
    },
    "executionInfo": {
     "elapsed": 92,
     "status": "ok",
     "timestamp": 1748290213410,
     "user": {
      "displayName": "Pol Argentino",
      "userId": "02817779166023488471"
     },
     "user_tz": 180
    },
    "id": "v9nwzBEFNsBU",
    "outputId": "dfb74e04-ce66-4e4c-ece0-6a84a49ffe38"
   },
   "outputs": [
    {
     "name": "stdout",
     "output_type": "stream",
     "text": [
      "Pablo Monsalvo 44 9.75 True\n",
      "<class 'str'> <class 'int'> <class 'float'> <class 'bool'>\n"
     ]
    }
   ],
   "source": [
    "nombre_estudiante = 'Pablo Monsalvo'\n",
    "edad_estudiante = 44\n",
    "promedio_estudiante = 9.75\n",
    "aprobado = True\n",
    "\n",
    "print(nombre_estudiante,edad_estudiante,promedio_estudiante,aprobado)\n",
    "print(type(nombre_estudiante),type(edad_estudiante),type(promedio_estudiante),type(aprobado))"
   ]
  },
  {
   "cell_type": "markdown",
   "metadata": {
    "id": "361qxvjrN_Ne"
   },
   "source": [
    "# Variables numéricas\n",
    "\n",
    "Entre los tipos de datos numéricos vamos a enfocarnos en los tipos entero y float.\n",
    "\n",
    "Tenemos una tabla de información sobre los diversos cargos, cantidad de personas empleadas y el salario correspondiente:"
   ]
  },
  {
   "cell_type": "markdown",
   "metadata": {
    "id": "3Gj8URWsOQy2"
   },
   "source": [
    "* Cargo\t     Cantidad  \tSalario\n",
    "* Vigilante\t    5\t       300\n",
    "* Docente\t      16\t     500\n",
    "* Coordinador\t  2\t       600\n",
    "* Necesitamos trabajar con estos datos para obtener:\n",
    "\n",
    "* La cantidad total de empleados;\n",
    "* La diferencia entre el salario más bajo y más alto; y\n",
    "* El promedio ponderado de los salarios de los empleados de la escuela.\n"
   ]
  },
  {
   "cell_type": "code",
   "execution_count": null,
   "metadata": {
    "id": "-7QX4Mb4Ol_a"
   },
   "outputs": [],
   "source": [
    "\n",
    "c_vigilante = 5\n",
    "s_vigilante = 300\n",
    "\n",
    "c_docente = 16\n",
    "s_docente = 500\n",
    "\n",
    "c_coordinador = 2\n",
    "s_coordinador = 600"
   ]
  },
  {
   "cell_type": "code",
   "execution_count": null,
   "metadata": {
    "colab": {
     "base_uri": "https://localhost:8080/"
    },
    "executionInfo": {
     "elapsed": 22,
     "status": "ok",
     "timestamp": 1748304280801,
     "user": {
      "displayName": "Pol Argentino",
      "userId": "02817779166023488471"
     },
     "user_tz": 180
    },
    "id": "5wlobChkPcom",
    "outputId": "380ea6dd-d117-4920-cd3d-3b6fcb6ca63b"
   },
   "outputs": [
    {
     "data": {
      "text/plain": [
       "23"
      ]
     },
     "execution_count": 4,
     "metadata": {},
     "output_type": "execute_result"
    }
   ],
   "source": [
    "\n",
    "total_empleados = c_vigilante + c_docente + c_coordinador\n",
    "total_empleados"
   ]
  },
  {
   "cell_type": "code",
   "execution_count": null,
   "metadata": {
    "colab": {
     "base_uri": "https://localhost:8080/"
    },
    "executionInfo": {
     "elapsed": 22,
     "status": "ok",
     "timestamp": 1748304311523,
     "user": {
      "displayName": "Pol Argentino",
      "userId": "02817779166023488471"
     },
     "user_tz": 180
    },
    "id": "6uguIsmPPsEe",
    "outputId": "a1364ba1-8b59-4e82-bbc6-52f0210512e9"
   },
   "outputs": [
    {
     "data": {
      "text/plain": [
       "300"
      ]
     },
     "execution_count": 6,
     "metadata": {},
     "output_type": "execute_result"
    }
   ],
   "source": [
    "diferencia_salario = s_coordinador - s_vigilante\n",
    "diferencia_salario\n"
   ]
  },
  {
   "cell_type": "code",
   "execution_count": null,
   "metadata": {
    "colab": {
     "base_uri": "https://localhost:8080/"
    },
    "executionInfo": {
     "elapsed": 42,
     "status": "ok",
     "timestamp": 1748304331645,
     "user": {
      "displayName": "Pol Argentino",
      "userId": "02817779166023488471"
     },
     "user_tz": 180
    },
    "id": "iNPCvjdEDtgK",
    "outputId": "47402785-8382-402f-ed87-9b8df11da1fe"
   },
   "outputs": [
    {
     "data": {
      "text/plain": [
       "int"
      ]
     },
     "execution_count": 7,
     "metadata": {},
     "output_type": "execute_result"
    }
   ],
   "source": [
    "type(diferencia_salario)"
   ]
  },
  {
   "cell_type": "code",
   "execution_count": null,
   "metadata": {
    "colab": {
     "base_uri": "https://localhost:8080/"
    },
    "executionInfo": {
     "elapsed": 115,
     "status": "ok",
     "timestamp": 1748290756542,
     "user": {
      "displayName": "Pol Argentino",
      "userId": "02817779166023488471"
     },
     "user_tz": 180
    },
    "id": "tRLuU2MEP4uL",
    "outputId": "d1aa2097-effd-4cd7-c606-67335e1c05dd"
   },
   "outputs": [
    {
     "data": {
      "text/plain": [
       "465.2173913043478"
      ]
     },
     "execution_count": 12,
     "metadata": {},
     "output_type": "execute_result"
    }
   ],
   "source": [
    "promedio_salarios = (c_vigilante * s_vigilante + c_docente * s_docente\n",
    "                     + c_coordinador * s_coordinador) / total_empleados\n",
    "promedio_salarios"
   ]
  },
  {
   "cell_type": "code",
   "execution_count": null,
   "metadata": {
    "colab": {
     "base_uri": "https://localhost:8080/"
    },
    "executionInfo": {
     "elapsed": 370,
     "status": "ok",
     "timestamp": 1748290863421,
     "user": {
      "displayName": "Pol Argentino",
      "userId": "02817779166023488471"
     },
     "user_tz": 180
    },
    "id": "9zdwVkqBQXEj",
    "outputId": "47d561f2-d1ab-44b3-f36d-53587f5052f2"
   },
   "outputs": [
    {
     "data": {
      "text/plain": [
       "float"
      ]
     },
     "execution_count": 13,
     "metadata": {},
     "output_type": "execute_result"
    }
   ],
   "source": [
    "type(promedio_salarios)"
   ]
  },
  {
   "cell_type": "markdown",
   "metadata": {
    "id": "ejJZdv0SSO0-"
   },
   "source": [
    "# Strings\n",
    "Strings hace referencia a un conjunto de caracteres formando un texto.\n",
    "\n",
    "Podemos crear Strings cuando atribuimos un dato a una variable entre comillas sencillas (') o comillas dobles (\")."
   ]
  },
  {
   "cell_type": "code",
   "execution_count": null,
   "metadata": {
    "colab": {
     "base_uri": "https://localhost:8080/"
    },
    "executionInfo": {
     "elapsed": 159,
     "status": "ok",
     "timestamp": 1748292222876,
     "user": {
      "displayName": "Pol Argentino",
      "userId": "02817779166023488471"
     },
     "user_tz": 180
    },
    "id": "3FGgM7TCVVva",
    "outputId": "ea13194e-b7b6-4331-e224-02f1b4ac3b38"
   },
   "outputs": [
    {
     "data": {
      "text/plain": [
       "str"
      ]
     },
     "execution_count": 14,
     "metadata": {},
     "output_type": "execute_result"
    }
   ],
   "source": [
    "t = 'Alura'\n",
    "type(t)\n"
   ]
  },
  {
   "cell_type": "markdown",
   "metadata": {
    "id": "60KAXzcPVtv2"
   },
   "source": [
    "Las variables textuales son objetos que poseen métodos que nos ayudan a formatear strings. Los métodos los podemos ejecutar al definir un objeto de acuerdo con la siguiente estructura:\n",
    "\n",
    "# objeto.metodo()\n",
    "Existen métodos que no necesitan los (), siempre es una buena práctica verificar la documentación para cada caso."
   ]
  },
  {
   "cell_type": "markdown",
   "metadata": {
    "id": "5C90nt6Uc2CH"
   },
   "source": [
    "# Situación:\n",
    "\n",
    "Recibimos una variable con el nombre de un profesor de la escuela para añadirla a los registros. Sin embargo, necesitamos darle un tratamiento a este texto antes de insertarlo al sistema."
   ]
  },
  {
   "cell_type": "code",
   "execution_count": null,
   "metadata": {
    "colab": {
     "base_uri": "https://localhost:8080/"
    },
    "executionInfo": {
     "elapsed": 43,
     "status": "ok",
     "timestamp": 1748304595949,
     "user": {
      "displayName": "Pol Argentino",
      "userId": "02817779166023488471"
     },
     "user_tz": 180
    },
    "id": "lgIOMdD-dHsP",
    "outputId": "57577ebe-85cb-4423-84ae-4ddf93088218"
   },
   "outputs": [
    {
     "data": {
      "text/plain": [
       "132467538970864"
      ]
     },
     "execution_count": 12,
     "metadata": {},
     "output_type": "execute_result"
    }
   ],
   "source": [
    "texto = ' Pablo Matías Monsalvo '\n",
    "id(texto)"
   ]
  },
  {
   "cell_type": "markdown",
   "metadata": {
    "id": "AvY8yaS2dXBj"
   },
   "source": [
    "El objetivo final es que el nombre aparezca de la siguiente forma:\n",
    "\n",
    "'PABLO MATIAS MONSLVO'"
   ]
  },
  {
   "cell_type": "markdown",
   "metadata": {
    "id": "6ZZgGuJMEQQZ"
   },
   "source": [
    "# Convierte una string a mayúsculas."
   ]
  },
  {
   "cell_type": "code",
   "execution_count": null,
   "metadata": {
    "colab": {
     "base_uri": "https://localhost:8080/",
     "height": 35
    },
    "executionInfo": {
     "elapsed": 32,
     "status": "ok",
     "timestamp": 1748304601452,
     "user": {
      "displayName": "Pol Argentino",
      "userId": "02817779166023488471"
     },
     "user_tz": 180
    },
    "id": "M_v2EZCQdoo6",
    "outputId": "50fad47c-9b97-492d-e71a-7680c45c360b"
   },
   "outputs": [
    {
     "data": {
      "application/vnd.google.colaboratory.intrinsic+json": {
       "type": "string"
      },
      "text/plain": [
       "' PABLO MATÍAS MONSALVO '"
      ]
     },
     "execution_count": 13,
     "metadata": {},
     "output_type": "execute_result"
    }
   ],
   "source": [
    "texto.upper()"
   ]
  },
  {
   "cell_type": "markdown",
   "metadata": {
    "id": "GIh6AmdUETW_"
   },
   "source": [
    "# Convierte una string a minúsculas."
   ]
  },
  {
   "cell_type": "code",
   "execution_count": null,
   "metadata": {
    "colab": {
     "base_uri": "https://localhost:8080/",
     "height": 35
    },
    "executionInfo": {
     "elapsed": 16,
     "status": "ok",
     "timestamp": 1748304604375,
     "user": {
      "displayName": "Pol Argentino",
      "userId": "02817779166023488471"
     },
     "user_tz": 180
    },
    "id": "cayPXiJtD7zk",
    "outputId": "cefe3670-0e21-4a78-95c1-482ec7c9d8d7"
   },
   "outputs": [
    {
     "data": {
      "application/vnd.google.colaboratory.intrinsic+json": {
       "type": "string"
      },
      "text/plain": [
       "' pablo matías monsalvo '"
      ]
     },
     "execution_count": 14,
     "metadata": {},
     "output_type": "execute_result"
    }
   ],
   "source": [
    "texto.lower()"
   ]
  },
  {
   "cell_type": "markdown",
   "metadata": {
    "id": "VvMu4SfjEgZe"
   },
   "source": [
    "# Elimina los espacios en blanco al inicio y al final de una string."
   ]
  },
  {
   "cell_type": "code",
   "execution_count": null,
   "metadata": {
    "colab": {
     "base_uri": "https://localhost:8080/",
     "height": 35
    },
    "executionInfo": {
     "elapsed": 80,
     "status": "ok",
     "timestamp": 1748304619059,
     "user": {
      "displayName": "Pol Argentino",
      "userId": "02817779166023488471"
     },
     "user_tz": 180
    },
    "id": "gcrNmGM9Es8A",
    "outputId": "59db3e6a-f7b4-412a-b9d4-b5bf30221581"
   },
   "outputs": [
    {
     "data": {
      "application/vnd.google.colaboratory.intrinsic+json": {
       "type": "string"
      },
      "text/plain": [
       "'Pablo Matías Monsalvo'"
      ]
     },
     "execution_count": 15,
     "metadata": {},
     "output_type": "execute_result"
    }
   ],
   "source": [
    "texto.strip()"
   ]
  },
  {
   "cell_type": "markdown",
   "metadata": {
    "id": "fYZnOqdDE3Ya"
   },
   "source": [
    "# Sustituye todas las ocurrencias del texto \"antiguo\" en la string por el \"nuevo\"."
   ]
  },
  {
   "cell_type": "code",
   "execution_count": null,
   "metadata": {
    "colab": {
     "base_uri": "https://localhost:8080/",
     "height": 35
    },
    "executionInfo": {
     "elapsed": 82,
     "status": "ok",
     "timestamp": 1748304731145,
     "user": {
      "displayName": "Pol Argentino",
      "userId": "02817779166023488471"
     },
     "user_tz": 180
    },
    "id": "ea5NXqFgFGsC",
    "outputId": "a772fca5-f7c0-4594-960f-45012d39e8a0"
   },
   "outputs": [
    {
     "data": {
      "application/vnd.google.colaboratory.intrinsic+json": {
       "type": "string"
      },
      "text/plain": [
       "' Pablo Matíaz Monzalvo '"
      ]
     },
     "execution_count": 17,
     "metadata": {},
     "output_type": "execute_result"
    }
   ],
   "source": [
    "texto.replace('s','z')"
   ]
  },
  {
   "cell_type": "markdown",
   "metadata": {
    "id": "n-BBG2ozFTUp"
   },
   "source": [
    "# Observaciones\n",
    "Los métodos devuelven una tranformación, no son ejecutados directamente sobre la variable donde está almacenado el texto.\n",
    "\n",
    "Adicionalmente, podemos acumular la ejecución de los métodos."
   ]
  },
  {
   "cell_type": "code",
   "execution_count": null,
   "metadata": {
    "colab": {
     "base_uri": "https://localhost:8080/",
     "height": 35
    },
    "executionInfo": {
     "elapsed": 24,
     "status": "ok",
     "timestamp": 1748304810906,
     "user": {
      "displayName": "Pol Argentino",
      "userId": "02817779166023488471"
     },
     "user_tz": 180
    },
    "id": "5lWpnGhGFhMi",
    "outputId": "aeb3f665-428c-4be8-fd23-bc36b3da75a3"
   },
   "outputs": [
    {
     "data": {
      "application/vnd.google.colaboratory.intrinsic+json": {
       "type": "string"
      },
      "text/plain": [
       "' Pablo Matías Monsalvo '"
      ]
     },
     "execution_count": 18,
     "metadata": {},
     "output_type": "execute_result"
    }
   ],
   "source": [
    "texto"
   ]
  },
  {
   "cell_type": "code",
   "execution_count": null,
   "metadata": {
    "colab": {
     "base_uri": "https://localhost:8080/"
    },
    "executionInfo": {
     "elapsed": 19,
     "status": "ok",
     "timestamp": 1748304830756,
     "user": {
      "displayName": "Pol Argentino",
      "userId": "02817779166023488471"
     },
     "user_tz": 180
    },
    "id": "OxQDVVHLFoSD",
    "outputId": "3f7fe402-ed0a-4e0e-b4f3-056c04c69c51"
   },
   "outputs": [
    {
     "data": {
      "text/plain": [
       "132467538970864"
      ]
     },
     "execution_count": 19,
     "metadata": {},
     "output_type": "execute_result"
    }
   ],
   "source": [
    "id(texto)"
   ]
  },
  {
   "cell_type": "markdown",
   "metadata": {
    "id": "aB2QNOXcFzF2"
   },
   "source": [
    "# Para que la transformación se pueda ejecutar debemos atribuir la salida de las transformaciones a las variables"
   ]
  },
  {
   "cell_type": "code",
   "execution_count": null,
   "metadata": {
    "colab": {
     "base_uri": "https://localhost:8080/"
    },
    "executionInfo": {
     "elapsed": 26,
     "status": "ok",
     "timestamp": 1748304927093,
     "user": {
      "displayName": "Pol Argentino",
      "userId": "02817779166023488471"
     },
     "user_tz": 180
    },
    "id": "8Q21SylNF34j",
    "outputId": "4cf1fca1-8c71-4ec2-88e2-af2aa13df26c"
   },
   "outputs": [
    {
     "name": "stdout",
     "output_type": "stream",
     "text": [
      "PABLO MATÍAZ MONZALVO\n",
      "132467538970864 132466718546544\n"
     ]
    }
   ],
   "source": [
    "nuevo_texto = texto.strip().replace('s','z').upper()\n",
    "print(nuevo_texto)\n",
    "print(id(texto), id(nuevo_texto))"
   ]
  },
  {
   "cell_type": "code",
   "execution_count": null,
   "metadata": {
    "colab": {
     "base_uri": "https://localhost:8080/"
    },
    "executionInfo": {
     "elapsed": 41,
     "status": "ok",
     "timestamp": 1748304994633,
     "user": {
      "displayName": "Pol Argentino",
      "userId": "02817779166023488471"
     },
     "user_tz": 180
    },
    "id": "OhvFyx4oGOjZ",
    "outputId": "04b832e7-a297-4f59-ef2a-38004c1dc87a"
   },
   "outputs": [
    {
     "name": "stdout",
     "output_type": "stream",
     "text": [
      "PABLO MATÍAZ MONZALVO\n",
      "132466718546832 132466718546544\n"
     ]
    }
   ],
   "source": [
    "texto = texto.strip().replace('s','z').upper()\n",
    "print(texto)\n",
    "print(id(texto), id(nuevo_texto))"
   ]
  },
  {
   "cell_type": "markdown",
   "metadata": {
    "id": "g-j7PzzrGcP4"
   },
   "source": [
    "# Capturando datos\n",
    "En algunas aplicaciones necesitamos capturar los valores del usuario de nuestro proyecto. En python, logramos capturar los datos del usuario a través del comando input().\n",
    "\n",
    "Para ejecutar la captura debemos atribuir el resultado de esta función a una variable."
   ]
  },
  {
   "cell_type": "code",
   "execution_count": null,
   "metadata": {
    "colab": {
     "base_uri": "https://localhost:8080/"
    },
    "executionInfo": {
     "elapsed": 6369,
     "status": "ok",
     "timestamp": 1748432166730,
     "user": {
      "displayName": "Pol Argentino",
      "userId": "02817779166023488471"
     },
     "user_tz": 180
    },
    "id": "VKlIwfW4Gors",
    "outputId": "524b6c54-86c2-4683-9580-98a07defa897"
   },
   "outputs": [
    {
     "name": "stdout",
     "output_type": "stream",
     "text": [
      "Escribe tu nombre: polito\n"
     ]
    }
   ],
   "source": [
    "nombre = input(\"Escribe tu nombre: \")"
   ]
  },
  {
   "cell_type": "code",
   "execution_count": null,
   "metadata": {
    "colab": {
     "base_uri": "https://localhost:8080/"
    },
    "executionInfo": {
     "elapsed": 125,
     "status": "ok",
     "timestamp": 1748432133962,
     "user": {
      "displayName": "Pol Argentino",
      "userId": "02817779166023488471"
     },
     "user_tz": 180
    },
    "id": "l5-7Ch3MGwJn",
    "outputId": "a4b0593f-bf05-4277-8bdd-f98e7cafaa5f"
   },
   "outputs": [
    {
     "data": {
      "text/plain": [
       "str"
      ]
     },
     "execution_count": 2,
     "metadata": {},
     "output_type": "execute_result"
    }
   ],
   "source": [
    "type(nombre)"
   ]
  },
  {
   "cell_type": "markdown",
   "metadata": {
    "id": "w_pKHdURG9KN"
   },
   "source": [
    "La salida de este comando siempre será una string. Esto quiere decir que aunque capturemos un valor de variable numérica, este será de tipo string.\n",
    "\n",
    "Entonces, será necesario convertir el resultado cuando no se desea utilizar el valor como tipo string.\n",
    "\n",
    "Existen funciones para la conversión de valores:\n",
    "\n",
    "* Enteros: int(dato_para_conversion)\n",
    "* Coma flotante: float(dato_para_conversion)\n",
    "* String: str(dato_para_conversion)\n",
    "* Booleano: bool(dato_para_conversion)"
   ]
  },
  {
   "cell_type": "code",
   "execution_count": null,
   "metadata": {
    "colab": {
     "base_uri": "https://localhost:8080/"
    },
    "executionInfo": {
     "elapsed": 7205,
     "status": "ok",
     "timestamp": 1748305252564,
     "user": {
      "displayName": "Pol Argentino",
      "userId": "02817779166023488471"
     },
     "user_tz": 180
    },
    "id": "1GjywfbvHIAl",
    "outputId": "a1769589-dc49-4f4f-e6bf-dc35303f4f8a"
   },
   "outputs": [
    {
     "name": "stdout",
     "output_type": "stream",
     "text": [
      "Digita el año de admisión: 2025\n"
     ]
    }
   ],
   "source": [
    "\n",
    "año_admision = int(input('Digita el año de admisión: '))"
   ]
  },
  {
   "cell_type": "code",
   "execution_count": null,
   "metadata": {
    "colab": {
     "base_uri": "https://localhost:8080/"
    },
    "executionInfo": {
     "elapsed": 76,
     "status": "ok",
     "timestamp": 1748305280033,
     "user": {
      "displayName": "Pol Argentino",
      "userId": "02817779166023488471"
     },
     "user_tz": 180
    },
    "id": "BYd3BQteHVkM",
    "outputId": "a5c83257-7214-4c1b-e25d-a33be647735f"
   },
   "outputs": [
    {
     "data": {
      "text/plain": [
       "int"
      ]
     },
     "execution_count": 27,
     "metadata": {},
     "output_type": "execute_result"
    }
   ],
   "source": [
    "type(año_admision)\n"
   ]
  },
  {
   "cell_type": "code",
   "execution_count": null,
   "metadata": {
    "colab": {
     "base_uri": "https://localhost:8080/"
    },
    "executionInfo": {
     "elapsed": 5556,
     "status": "ok",
     "timestamp": 1748307926763,
     "user": {
      "displayName": "Pol Argentino",
      "userId": "02817779166023488471"
     },
     "user_tz": 180
    },
    "id": "jp13DPkpRba5",
    "outputId": "cd83d931-656c-4528-8978-09b9ce4c62ad"
   },
   "outputs": [
    {
     "name": "stdout",
     "output_type": "stream",
     "text": [
      "Digita la nota de admisión: 9.9\n"
     ]
    }
   ],
   "source": [
    "nota_admision = float(input('Digita la nota de admisión: '))\n"
   ]
  },
  {
   "cell_type": "code",
   "execution_count": null,
   "metadata": {
    "colab": {
     "base_uri": "https://localhost:8080/"
    },
    "executionInfo": {
     "elapsed": 85,
     "status": "ok",
     "timestamp": 1748307952952,
     "user": {
      "displayName": "Pol Argentino",
      "userId": "02817779166023488471"
     },
     "user_tz": 180
    },
    "id": "hNF9F1LpRjST",
    "outputId": "2ff32e1b-7a26-4d7b-c647-35eba7571242"
   },
   "outputs": [
    {
     "data": {
      "text/plain": [
       "float"
      ]
     },
     "execution_count": 29,
     "metadata": {},
     "output_type": "execute_result"
    }
   ],
   "source": [
    "type(nota_admision)"
   ]
  },
  {
   "cell_type": "markdown",
   "metadata": {
    "id": "oNRBtbRiRqgS"
   },
   "source": [
    "Trataremos de representar mejor ahora el resultado de la transformación que obtuvimos. Nosotros podemos formatear y presentar nuestro resultado mezclando strings con valores no textuales.\n",
    "\n",
    "Para ello utilizamos la estructura de formatación f con strings."
   ]
  },
  {
   "cell_type": "code",
   "execution_count": null,
   "metadata": {
    "colab": {
     "base_uri": "https://localhost:8080/"
    },
    "executionInfo": {
     "elapsed": 45,
     "status": "ok",
     "timestamp": 1748308013536,
     "user": {
      "displayName": "Pol Argentino",
      "userId": "02817779166023488471"
     },
     "user_tz": 180
    },
    "id": "LPGnm7cqRtR0",
    "outputId": "cfe051e7-0d79-4283-e7c1-75096a371982"
   },
   "outputs": [
    {
     "name": "stdout",
     "output_type": "stream",
     "text": [
      "\tEl año de admisión fue: 2025 \n",
      "\tLa nota de admisión fue: 9.9\n"
     ]
    }
   ],
   "source": [
    "print(f'\\tEl año de admisión fue: {año_admision} \\n\\tLa nota de admisión fue: {nota_admision}')\n"
   ]
  },
  {
   "cell_type": "markdown",
   "metadata": {
    "id": "Q3drXJIFSMJ2"
   },
   "source": [
    "# Estructuras condicionales"
   ]
  },
  {
   "cell_type": "code",
   "execution_count": null,
   "metadata": {
    "colab": {
     "base_uri": "https://localhost:8080/",
     "height": 35
    },
    "executionInfo": {
     "elapsed": 107,
     "status": "ok",
     "timestamp": 1748308148315,
     "user": {
      "displayName": "Pol Argentino",
      "userId": "02817779166023488471"
     },
     "user_tz": 180
    },
    "id": "pjzLN2q8SQe4",
    "outputId": "1e9f6eb7-e997-465e-d070-b880c857ca99"
   },
   "outputs": [
    {
     "data": {
      "application/vnd.google.colaboratory.intrinsic+json": {
       "type": "string"
      },
      "text/plain": [
       "'\\nSi la nota es mayor o igual a 7 entonces el estudiante aprueba\\nSi no, entonces el estudiante reprueba\\n'"
      ]
     },
     "execution_count": 31,
     "metadata": {},
     "output_type": "execute_result"
    }
   ],
   "source": [
    "# Nota de aprobación entre 7 y 10 == nota de aprobación >= 7\n",
    "# Nota de reprobación es menor a 7 == nota de reprobación < 7\n",
    "\n",
    "\"\"\"\n",
    "Si la nota es mayor o igual a 7 entonces el estudiante aprueba\n",
    "Si no, entonces el estudiante reprueba\n",
    "\"\"\""
   ]
  },
  {
   "cell_type": "markdown",
   "metadata": {
    "id": "T_BODIfsSX1f"
   },
   "source": [
    "# IF y ELSE\n",
    "\n",
    "Los comandos if y else son dos estructuras condicionales. El comando if ejecutará el bloque de comandos en caso de que la condición citada sea verdadera. El comando else ejecutará el bloque de comandos en el caso de que la condicional de if sea falsa.\n",
    "\n",
    "El comando if es una palabra clave en Python que significa \"si\". Este se emplea para conformar la estructura condicional, que te permite verificar si una determinada condición es verdadera o falsa e, inmediatamente después, ejecute un bloque de código específico dependiendo del resultado de la verificación. La sintaxis para usar el comando if es:\n",
    "\n",
    "if condicion:\n",
    "    # Realiza algo"
   ]
  },
  {
   "cell_type": "code",
   "execution_count": null,
   "metadata": {
    "colab": {
     "base_uri": "https://localhost:8080/"
    },
    "executionInfo": {
     "elapsed": 70,
     "status": "ok",
     "timestamp": 1748308333736,
     "user": {
      "displayName": "Pol Argentino",
      "userId": "02817779166023488471"
     },
     "user_tz": 180
    },
    "id": "qr793PmqSg6U",
    "outputId": "ed3bcf16-cf6e-4342-f627-08f1cef7e0dd"
   },
   "outputs": [
    {
     "name": "stdout",
     "output_type": "stream",
     "text": [
      "La condición es verdadera.\n"
     ]
    }
   ],
   "source": [
    "if 2 < 7:\n",
    "  print('La condición es verdadera.')"
   ]
  },
  {
   "cell_type": "code",
   "execution_count": null,
   "metadata": {
    "colab": {
     "base_uri": "https://localhost:8080/"
    },
    "executionInfo": {
     "elapsed": 43,
     "status": "ok",
     "timestamp": 1748308369263,
     "user": {
      "displayName": "Pol Argentino",
      "userId": "02817779166023488471"
     },
     "user_tz": 180
    },
    "id": "rcLgiEhcTIL5",
    "outputId": "55fc0f7a-33eb-4051-91aa-4ecc58551d11"
   },
   "outputs": [
    {
     "name": "stdout",
     "output_type": "stream",
     "text": [
      "Fin de la consulta.\n"
     ]
    }
   ],
   "source": [
    "if 2 > 7:\n",
    "  print('La condición es verdadera.')\n",
    "print('Fin de la consulta.')\n"
   ]
  },
  {
   "cell_type": "markdown",
   "metadata": {
    "id": "2ihOgE_-TTZg"
   },
   "source": [
    "Ya el comando else en Python se usa en junción con la palabra clave if para formar una estructura condicional. la sintaxis para usar el else es:\n",
    "\n",
    "if condicion:\n",
    "  # codigo en caso de que sea verdad\n",
    "else:\n",
    "  # codigo en caso de que sea falso\n",
    "el comando else se ejecuta cuando la condición verificada por el if es evaluada como False."
   ]
  },
  {
   "cell_type": "code",
   "execution_count": null,
   "metadata": {
    "colab": {
     "base_uri": "https://localhost:8080/"
    },
    "executionInfo": {
     "elapsed": 23,
     "status": "ok",
     "timestamp": 1748308443187,
     "user": {
      "displayName": "Pol Argentino",
      "userId": "02817779166023488471"
     },
     "user_tz": 180
    },
    "id": "77sSbFmZTWO6",
    "outputId": "bbee8882-5543-4382-9ac2-e58acb02edd6"
   },
   "outputs": [
    {
     "name": "stdout",
     "output_type": "stream",
     "text": [
      "La condición es falsa.\n",
      "Fin de la consulta.\n"
     ]
    }
   ],
   "source": [
    "if 2 > 7:\n",
    "  print('La condición es verdadera.')\n",
    "else:\n",
    "  print('La condición es falsa.')\n",
    "print('Fin de la consulta.')"
   ]
  },
  {
   "cell_type": "markdown",
   "metadata": {
    "id": "nTfJEVDKTgfG"
   },
   "source": [
    "# Situación:\n",
    "\n",
    "Recibiremos el promedio de la nota de los estudiantes y necesitamos de un algoritmo que ejecute el análisis y determine si el estudiante fue Aprobado o Reprobado, mostrando un mensaje del resultado. Para ser aprobado, el promedio necesita ser igual o superior a 7.0."
   ]
  },
  {
   "cell_type": "code",
   "execution_count": null,
   "metadata": {
    "colab": {
     "base_uri": "https://localhost:8080/"
    },
    "executionInfo": {
     "elapsed": 7474,
     "status": "ok",
     "timestamp": 1748308526548,
     "user": {
      "displayName": "Pol Argentino",
      "userId": "02817779166023488471"
     },
     "user_tz": 180
    },
    "id": "4uJzT2g3TolV",
    "outputId": "fdc2f289-533e-4b52-d7f6-6dcfebdf33e7"
   },
   "outputs": [
    {
     "name": "stdout",
     "output_type": "stream",
     "text": [
      "Digita la nota: 5.5\n",
      "Reprobó.\n"
     ]
    }
   ],
   "source": [
    "nota = float(input('Digita la nota: '))\n",
    "\n",
    "if nota >= 7:\n",
    "  print('Aprobó.')\n",
    "else:\n",
    "  print('Reprobó.')"
   ]
  },
  {
   "cell_type": "markdown",
   "metadata": {
    "id": "SqpXGRKtT3sO"
   },
   "source": [
    "Ahora, nuestra institución educativa estableció que las personas que tengan el promedio entre 5.0 y 7.0 pueden participar del curso de Recuperación durante las vacaciones para lograr aprobar.\n",
    "\n",
    "Entonces podemos apoyarnos en un conjunto de ifs para poder estructurar esta nueva condición."
   ]
  },
  {
   "cell_type": "code",
   "execution_count": null,
   "metadata": {
    "colab": {
     "base_uri": "https://localhost:8080/"
    },
    "executionInfo": {
     "elapsed": 5182,
     "status": "ok",
     "timestamp": 1748308679898,
     "user": {
      "displayName": "Pol Argentino",
      "userId": "02817779166023488471"
     },
     "user_tz": 180
    },
    "id": "15G6AGsaT441",
    "outputId": "f434e30b-592a-492f-eeb6-1510abff7d12"
   },
   "outputs": [
    {
     "name": "stdout",
     "output_type": "stream",
     "text": [
      "Digita la nota: 9\n",
      "Aprobó.\n"
     ]
    }
   ],
   "source": [
    "nota = float(input('Digita la nota: '))\n",
    "\n",
    "if nota >= 7:\n",
    "  print('Aprobó.')\n",
    "if 7 > nota >= 5:\n",
    "  print('Recuperación.')\n",
    "if nota < 5:\n",
    "  print('Reprobó.')\n"
   ]
  },
  {
   "cell_type": "markdown",
   "metadata": {
    "id": "WdfpCRrYUeZL"
   },
   "source": [
    "Observa que en casos con 3 situaciones como este necesitamos definir bien nuestras condiciones. Pues, si realizamos una condición con else al final, este irá a considerar solamente la condición if inmediatamente anterior para generar la salida en caso de que el resultado de su operación lógica sea falso dando como resultado, dos o más ejecuciones.\n",
    "\n",
    "Por ejemplo:"
   ]
  },
  {
   "cell_type": "code",
   "execution_count": null,
   "metadata": {
    "colab": {
     "base_uri": "https://localhost:8080/"
    },
    "executionInfo": {
     "elapsed": 2099,
     "status": "ok",
     "timestamp": 1748308785104,
     "user": {
      "displayName": "Pol Argentino",
      "userId": "02817779166023488471"
     },
     "user_tz": 180
    },
    "id": "nt5DqSAnUi-4",
    "outputId": "1e6b9000-0d32-4ef1-e698-884e641fad15"
   },
   "outputs": [
    {
     "name": "stdout",
     "output_type": "stream",
     "text": [
      "Digita la nota: 9\n",
      "Aprobó.\n",
      "Reprobó.\n"
     ]
    }
   ],
   "source": [
    "nota = float(input('Digita la nota: '))\n",
    "\n",
    "if nota >= 7:\n",
    "  print('Aprobó.')\n",
    "if 7 > nota >= 5:\n",
    "  print('Recuperación.')\n",
    "else:\n",
    "  print('Reprobó.')"
   ]
  },
  {
   "cell_type": "markdown",
   "metadata": {
    "id": "h__3JxcAU9e-"
   },
   "source": [
    "# ELIF\n",
    "El comando elif es una palabra clave en Python que significa \"si no, si\" y lo podemos considerar una contracción entre else e if. Se utiliza en conjunto con la palabra clave if para formar una estructura condicional en cadena.\n",
    "\n",
    "la sintaxis para utilizar el comando elif es:\n",
    "\n",
    "if condicion1:\n",
    "    # Realiza algo\n",
    "elif condicion2:\n",
    "    # Realiza otra cosa\n",
    "elif condicion3:\n",
    "    # Realiza otra cosa\n",
    "else:\n",
    "    # Realiza algo diferente\n",
    "\n",
    "El comando elif permite que puedas verificar varias condiciones en cadena, economizando espacio en tu código. Si la primera condición se evalúa como False, el interpretador de Python evaluará la próxima condición con el elif. Ello continuará hasta que una condición sea evaluada como True o hasta que el else sea alcazado. Si ninguna de las condiciones es evaluada como True, la ejecución del código del comando else será iniciada.\n",
    "\n",
    "Vamos a emplear el mismo caso anterior:"
   ]
  },
  {
   "cell_type": "code",
   "execution_count": null,
   "metadata": {
    "colab": {
     "base_uri": "https://localhost:8080/"
    },
    "executionInfo": {
     "elapsed": 2419,
     "status": "ok",
     "timestamp": 1748309016029,
     "user": {
      "displayName": "Pol Argentino",
      "userId": "02817779166023488471"
     },
     "user_tz": 180
    },
    "id": "_wyaX0x1U_UW",
    "outputId": "771a9593-5dce-4dcc-c5dd-3ed7dfaa67cf"
   },
   "outputs": [
    {
     "name": "stdout",
     "output_type": "stream",
     "text": [
      "Digita la nota: 8.9\n",
      "Aprobó.\n"
     ]
    }
   ],
   "source": [
    "\n",
    "nota = float(input('Digita la nota: '))\n",
    "\n",
    "if nota >= 7:\n",
    "  print('Aprobó.')\n",
    "elif 7 > nota >= 5:\n",
    "  print('Recuperación.')\n",
    "else:\n",
    "  print('Reprobó.')"
   ]
  },
  {
   "cell_type": "markdown",
   "metadata": {
    "id": "BInsyP79VwWS"
   },
   "source": [
    "# Operadores\n",
    "Durante la construcción de comandos a veces necesitamos de una elaboración mayor de la expresión condicional, necesitando que algunos operadores lógicos se encuentren integrados.\n",
    "\n",
    "# AND, OR, NOT\n",
    "Los operadores lógicos and, or y not son usados para combinar expresiones lógicas en Python. Ellos son usados frecuentemente en conjunto con el comando if para crear estructuras condicionales más complejas.\n",
    "\n",
    "* AND es usado para verificar si dos condiciones son verdaderas. La expresión lógica¹ x and y se evalúa como True tan solo si ambas condiciones x y y son verdaderas, y como False en caso contrario.\n",
    "\n",
    "* OR es usado para verificar si al menos una de las condiciones es verdadera. La expresión lógica x or y se evalúa como True si al menos una de las condiciones x o y es verdadera, y como False si ambas condiciones son falsas.\n",
    "\n",
    "* NOT es usado para negar una condición. La expresión lógica not x es evaluada como True si la condición x es falsa, y como False si la condición x es verdadera.\n",
    "\n",
    "¹ Una expresión lógica es una declaración que puede ser evaluada como verdadera o falsa. Ella se compone por operandos lógicos² y por operadores lógicos³, que son usados ​​para combinar varias expresiones lógicas en una única expresión.\n",
    "\n",
    "² Los operandos lógicos son los elementos que son comparados o evaluados en una expresión lógica. Ellos son generalmente valores verdaderos o falsos, pero también pueden ser expresiones lógicas más complejas. En Python, los operandos lógicos son los valores True y False.\n",
    "\n",
    "³ Los operadores lógicos son ls símbolos o palabras clave que son usados ​​para combinar varias expresiones lógicas en una única expresión. En Python, los operadores lógicos son and, or y not, bien como las palabras clave if, elif e else.\n",
    "\n",
    "Operadores lógicos más comunes\n",
    "\n",
    "a\tb\tAND\tOR\tNOT\n",
    "|0|0|0|0|1 |0|1|0|1|- |1|0|0|1|- |1|1|1|1|0"
   ]
  },
  {
   "cell_type": "code",
   "execution_count": null,
   "metadata": {
    "id": "5vStXEklWsDD"
   },
   "outputs": [],
   "source": [
    "\n",
    "v = True\n",
    "f = False"
   ]
  },
  {
   "cell_type": "code",
   "execution_count": null,
   "metadata": {
    "colab": {
     "base_uri": "https://localhost:8080/"
    },
    "executionInfo": {
     "elapsed": 44,
     "status": "ok",
     "timestamp": 1748309505944,
     "user": {
      "displayName": "Pol Argentino",
      "userId": "02817779166023488471"
     },
     "user_tz": 180
    },
    "id": "yy1Hhg-9Wu-h",
    "outputId": "8448f67d-f27b-4503-c480-9323f14bc67b"
   },
   "outputs": [
    {
     "name": "stdout",
     "output_type": "stream",
     "text": [
      "La condición es falsa.\n"
     ]
    }
   ],
   "source": [
    "if f and f:\n",
    "  print('La condición es verdadera.')\n",
    "else:\n",
    "  print('La condición es falsa.')"
   ]
  },
  {
   "cell_type": "code",
   "execution_count": null,
   "metadata": {
    "colab": {
     "base_uri": "https://localhost:8080/"
    },
    "executionInfo": {
     "elapsed": 28,
     "status": "ok",
     "timestamp": 1748309531456,
     "user": {
      "displayName": "Pol Argentino",
      "userId": "02817779166023488471"
     },
     "user_tz": 180
    },
    "id": "T5O8mgpOXkqh",
    "outputId": "aa087c28-05f0-4984-807a-50fe92e79444"
   },
   "outputs": [
    {
     "name": "stdout",
     "output_type": "stream",
     "text": [
      "La condición es verdadera.\n"
     ]
    }
   ],
   "source": [
    "if v or v:\n",
    "  print('La condición es verdadera.')\n",
    "else:\n",
    "  print('La condición es falsa.')\n"
   ]
  },
  {
   "cell_type": "code",
   "execution_count": null,
   "metadata": {
    "colab": {
     "base_uri": "https://localhost:8080/"
    },
    "executionInfo": {
     "elapsed": 131,
     "status": "ok",
     "timestamp": 1748309564855,
     "user": {
      "displayName": "Pol Argentino",
      "userId": "02817779166023488471"
     },
     "user_tz": 180
    },
    "id": "dpBXdHI3XsIo",
    "outputId": "e2c3572c-6ea4-46c3-f9ee-5d00bc0078f6"
   },
   "outputs": [
    {
     "name": "stdout",
     "output_type": "stream",
     "text": [
      "La condición es verdadera.\n"
     ]
    }
   ],
   "source": [
    "\n",
    "if not f:\n",
    "  print('La condición es verdadera.')\n",
    "else:\n",
    "  print('La condición es falsa.')\n"
   ]
  },
  {
   "cell_type": "markdown",
   "metadata": {
    "id": "lYqGukUbX52E"
   },
   "source": [
    "# IN\n",
    "Es usado para verificar si un elemento está presente en una lista, tupla u otra colección de conjunto. La expresión x in y se evalúa como True si el elemento x esta presente  la variable de conjunto y, y como False en caso contrario.\n",
    "\n",
    "Podemos verificarlo con variables de texto.\n",
    "\n"
   ]
  },
  {
   "cell_type": "markdown",
   "metadata": {
    "id": "b10lGZtnYURx"
   },
   "source": [
    "# Situación:\n",
    "\n",
    "En la escuela nos entregaron una lista con nombres de estudiantes que fueron aprobados según el promedio del semestre, pero es necesario verificar si algunos nombres están en esa lista para confirmar que los datos estén correctos.\n",
    "\n",
    "La lista distribuida puede ser observada a continuación:\n",
    "\n",
    "lista = 'Juan Pérez, María González, Pedro Rodríguez, Ana López, Carlos Martínez,\n",
    "    Laura Sánchez, José García, Elena Fernández, Luis Morales, Carmen Torres,\n",
    "    David Ruiz, Isabel Ramírez, Javier Díaz, Sara Herrera, Miguel Castro,\n",
    "    Patricia Ortega, Francisco Vargas, Marta Jiménez, Manuel Medina, Rosa Molina,\n",
    "    Alejandro Silva, Silvia Ruiz, Andrés Torres, Natalia Soto, Diego Guerrero,\n",
    "    Paula Ríos, Ricardo Navarro, Alicia Cordero, Carlos Vidal, Lorena Gómez'\n",
    "Los nombres que necesitas verificar son los siguientes:\n",
    "\n",
    "nombre_1 = 'Miguel Castro'\n",
    "nombre_2 = 'Marcelo Noguera"
   ]
  },
  {
   "cell_type": "code",
   "execution_count": null,
   "metadata": {
    "id": "qujXgokgZA9m"
   },
   "outputs": [],
   "source": [
    "lista = 'Juan Pérez, María González, Pedro Rodríguez,Ana López, Carlos Martínez,Laura Sánchez, José García, Elena Fernández, Luis Morales, Carmen Torres,David Ruiz, Isabel Ramírez, Javier Díaz, Sara Herrera, Miguel Castro,Patricia Ortega, Francisco Vargas, Marta Jiménez, Manuel Medina, Rosa Molina,Alejandro Silva, Silvia Ruiz, Andrés Torres, Natalia Soto, Diego Guerrero,Paula Ríos, Ricardo Navarro, Alicia Cordero, Carlos Vidal, Lorena Gómez'\n"
   ]
  },
  {
   "cell_type": "code",
   "execution_count": null,
   "metadata": {
    "id": "2svso9gKZKTo"
   },
   "outputs": [],
   "source": [
    "nombre_1 = 'Miguel Castro'\n",
    "nombre_2 = 'Marcelo Noguera'\n"
   ]
  },
  {
   "cell_type": "code",
   "execution_count": null,
   "metadata": {
    "colab": {
     "base_uri": "https://localhost:8080/"
    },
    "executionInfo": {
     "elapsed": 22,
     "status": "ok",
     "timestamp": 1748309973889,
     "user": {
      "displayName": "Pol Argentino",
      "userId": "02817779166023488471"
     },
     "user_tz": 180
    },
    "id": "svK41G8IZPKr",
    "outputId": "87f0107b-9464-430f-9178-64f4cd440b20"
   },
   "outputs": [
    {
     "name": "stdout",
     "output_type": "stream",
     "text": [
      "El estudiante aprobó.\n"
     ]
    }
   ],
   "source": [
    "if nombre_1 in lista:\n",
    "  print('El estudiante aprobó.')\n",
    "else:\n",
    "  print('El estudiante reprobó.')"
   ]
  },
  {
   "cell_type": "code",
   "execution_count": null,
   "metadata": {
    "colab": {
     "base_uri": "https://localhost:8080/"
    },
    "executionInfo": {
     "elapsed": 365,
     "status": "ok",
     "timestamp": 1748310111025,
     "user": {
      "displayName": "Pol Argentino",
      "userId": "02817779166023488471"
     },
     "user_tz": 180
    },
    "id": "e7XcRVvSZvoI",
    "outputId": "6440fada-33ff-4f43-c402-b7f024d31a64"
   },
   "outputs": [
    {
     "name": "stdout",
     "output_type": "stream",
     "text": [
      "El estudiante reprobó.\n"
     ]
    }
   ],
   "source": [
    "\n",
    "if nombre_2 in lista:\n",
    "  print('El estudiante aprobó.')\n",
    "else:\n",
    "  print('El estudiante reprobó.')"
   ]
  },
  {
   "cell_type": "markdown",
   "metadata": {
    "id": "YfhMesDvZ35_"
   },
   "source": [
    "# Estructuras de repetición\n",
    "Cuando tenemos que ejecutar un mismo bloque de comandos durante varias ocasiones no es nada práctico hacerlo a mano.\n",
    "\n",
    "Situación: Nos fue solicitado obtener e imprimir el promedio de 2 notas de 3 estudantes:"
   ]
  },
  {
   "cell_type": "code",
   "execution_count": null,
   "metadata": {
    "colab": {
     "base_uri": "https://localhost:8080/"
    },
    "executionInfo": {
     "elapsed": 28654,
     "status": "ok",
     "timestamp": 1748310241658,
     "user": {
      "displayName": "Pol Argentino",
      "userId": "02817779166023488471"
     },
     "user_tz": 180
    },
    "id": "ywUljVwqaHwi",
    "outputId": "2a33ece4-8040-46c6-c935-f83be0308eb2"
   },
   "outputs": [
    {
     "name": "stdout",
     "output_type": "stream",
     "text": [
      "Digita la primera nota: 4\n",
      "Digita la segunda nota: 5\n",
      "El promedio del estudiante 1 es: 4.5\n",
      "Digita la primera nota: 9\n",
      "Digita la segunda nota: 8\n",
      "El promedio del estudiante 2 es: 8.5\n",
      "Digita la primera nota: 6\n",
      "Digita la segunda nota: 6\n",
      "El promedio del estudiante 3 es: 6.0\n"
     ]
    }
   ],
   "source": [
    "\n",
    "nota_1 = float(input('Digita la primera nota: '))\n",
    "nota_2 = float(input('Digita la segunda nota: '))\n",
    "print(f'El promedio del estudiante 1 es: {(nota_1+nota_2)/2}')\n",
    "\n",
    "nota_1 = float(input('Digita la primera nota: '))\n",
    "nota_2 = float(input('Digita la segunda nota: '))\n",
    "print(f'El promedio del estudiante 2 es: {(nota_1+nota_2)/2}')\n",
    "\n",
    "nota_1 = float(input('Digita la primera nota: '))\n",
    "nota_2 = float(input('Digita la segunda nota: '))\n",
    "print(f'El promedio del estudiante 3 es: {(nota_1+nota_2)/2}')\n"
   ]
  },
  {
   "cell_type": "markdown",
   "metadata": {
    "id": "y8qIykNTac4c"
   },
   "source": [
    "Ahora imaginemos una situación en que no son tan solo 3 estudiantes, sino 100 estudiantes. No sería nada interesante repetir el mismo código 100 veces, sino ejecutar el mismo código 100 veces.\n",
    "\n",
    "¡Esta estructura la logramos construir con lazos de repetición!"
   ]
  },
  {
   "cell_type": "markdown",
   "metadata": {
    "id": "ew57MpbUamHj"
   },
   "source": [
    "# WHILE\n",
    "El lazo while es una estructura de control de repetición en Python que permite ejecutar un bloque de código repetidamente mientras que una determinada condición sea verdadera. Su estructura es:\n",
    "\n",
    "while condicion:\n",
    "    # bloque de codigo\n",
    "Vamos a construir un ejemplo con un contador de 1 hasta 10."
   ]
  },
  {
   "cell_type": "code",
   "execution_count": null,
   "metadata": {
    "colab": {
     "base_uri": "https://localhost:8080/"
    },
    "executionInfo": {
     "elapsed": 87,
     "status": "ok",
     "timestamp": 1748310357136,
     "user": {
      "displayName": "Pol Argentino",
      "userId": "02817779166023488471"
     },
     "user_tz": 180
    },
    "id": "f3o2uruzauV0",
    "outputId": "234f246d-6026-465a-eaa6-91728874ba01"
   },
   "outputs": [
    {
     "name": "stdout",
     "output_type": "stream",
     "text": [
      "1\n",
      "2\n",
      "3\n",
      "4\n",
      "5\n",
      "6\n",
      "7\n",
      "8\n",
      "9\n",
      "10\n"
     ]
    }
   ],
   "source": [
    "contador = 1\n",
    "while contador <= 10:\n",
    "  print(contador)\n",
    "  # contador = contador + 1\n",
    "  contador += 1"
   ]
  },
  {
   "cell_type": "markdown",
   "metadata": {
    "id": "mpK3r66za0Dz"
   },
   "source": [
    "Ahora vamos a colectar las notas y promedios de cada alumno dentro del lazo while. Haremos un ejemplo con 3 promedios."
   ]
  },
  {
   "cell_type": "code",
   "execution_count": null,
   "metadata": {
    "colab": {
     "base_uri": "https://localhost:8080/"
    },
    "executionInfo": {
     "elapsed": 21627,
     "status": "ok",
     "timestamp": 1748310430578,
     "user": {
      "displayName": "Pol Argentino",
      "userId": "02817779166023488471"
     },
     "user_tz": 180
    },
    "id": "qoaU2mWPa2ig",
    "outputId": "d8b29223-401c-4b31-8512-6d278468e2fd"
   },
   "outputs": [
    {
     "name": "stdout",
     "output_type": "stream",
     "text": [
      "Digita la primera nota: 4\n",
      "Digita la segunda nota: 5\n",
      "El promedio del estudiante 1 es: 4.5\n",
      "Digita la primera nota: 6\n",
      "Digita la segunda nota: 6\n",
      "El promedio del estudiante 1 es: 6.0\n",
      "Digita la primera nota: 8\n",
      "Digita la segunda nota: 9\n",
      "El promedio del estudiante 1 es: 8.5\n"
     ]
    }
   ],
   "source": [
    "contador = 1\n",
    "while contador <= 3:\n",
    "  nota_1 = float(input('Digita la primera nota: '))\n",
    "  nota_2 = float(input('Digita la segunda nota: '))\n",
    "  print(f'El promedio del estudiante 1 es: {(nota_1+nota_2)/2}')\n",
    "  contador += 1"
   ]
  },
  {
   "cell_type": "markdown",
   "metadata": {
    "id": "PQUT12khbLOn"
   },
   "source": [
    "# FOR\n",
    "El lazo for es un tipo de estructura de control de flujo en Python que permite iterar sobre un conjunto de elementos. Su estructura es:\n",
    "\n",
    "for elemento in conjunto:\n",
    "    # codigo a ser ejecutado para cada elemento\n",
    "El lazo for itera sobre cada elemento del conjunto especificado y ejecuta el bloque de código dentro del lazo para cada elemento. Cuando el lazo llega al final del conjunto, este se interrumpe y el programa continúa la ejecución después del lazo.\n",
    "\n",
    "El conjunto lo podemos generar con la función incorporada range(). Se trata de una función capaz de generar una secuencia de números enteros. La estructura de esta función es:\n",
    "\n",
    "range(inicio, fin, paso)\n",
    "Según la documentación, range() genera una secuencia de números enteros a partir del valor del parámetro inicio hasta el valor del parámetro fin, de acuerdo con el valor del parámetro paso. Si inicio no es especificado, el valor por defecto es 0. Si paso no es especificado, el valor por defecto es 1.\n",
    "\n",
    "Vamos a recrear el mismo contador while con el lazo for."
   ]
  },
  {
   "cell_type": "code",
   "execution_count": null,
   "metadata": {
    "colab": {
     "base_uri": "https://localhost:8080/"
    },
    "executionInfo": {
     "elapsed": 72,
     "status": "ok",
     "timestamp": 1748310637178,
     "user": {
      "displayName": "Pol Argentino",
      "userId": "02817779166023488471"
     },
     "user_tz": 180
    },
    "id": "xqpRMQbGbyWG",
    "outputId": "8c0d5136-5b9b-42ec-abc0-12c0c583c8ff"
   },
   "outputs": [
    {
     "name": "stdout",
     "output_type": "stream",
     "text": [
      "1\n",
      "2\n",
      "3\n",
      "4\n",
      "5\n",
      "6\n",
      "7\n",
      "8\n",
      "9\n",
      "10\n"
     ]
    }
   ],
   "source": [
    "\n",
    "for n in range(1,11):\n",
    "  print(n)"
   ]
  },
  {
   "cell_type": "code",
   "execution_count": null,
   "metadata": {
    "colab": {
     "base_uri": "https://localhost:8080/"
    },
    "executionInfo": {
     "elapsed": 17634,
     "status": "ok",
     "timestamp": 1748310681518,
     "user": {
      "displayName": "Pol Argentino",
      "userId": "02817779166023488471"
     },
     "user_tz": 180
    },
    "id": "VnsMctWcb4L8",
    "outputId": "9bbb494f-f8e2-4190-bdfe-344515687e8e"
   },
   "outputs": [
    {
     "name": "stdout",
     "output_type": "stream",
     "text": [
      "Digita la primera nota: 4\n",
      "Digita la segunda nota: 5\n",
      "El promedio del estudiante 1 es: 4.5\n",
      "Digita la primera nota: 6\n",
      "Digita la segunda nota: 6\n",
      "El promedio del estudiante 1 es: 6.0\n",
      "Digita la primera nota: 8\n",
      "Digita la segunda nota: 9\n",
      "El promedio del estudiante 1 es: 8.5\n"
     ]
    }
   ],
   "source": [
    "for e in range(1,4):\n",
    "  nota_1 = float(input('Digita la primera nota: '))\n",
    "  nota_2 = float(input('Digita la segunda nota: '))\n",
    "  print(f'El promedio del estudiante 1 es: {(nota_1+nota_2)/2}')"
   ]
  },
  {
   "cell_type": "markdown",
   "metadata": {
    "id": "GwtSOVdUcCru"
   },
   "source": [
    "# Estructuras de datos\n",
    "Un conjunto de elementos es una colección de items, que son almacenados juntos de manera organizada. Algunos ejemplos de conjuntos de elementos en Python son las listas, los strings y los diccionarios.\n",
    "\n",
    "# Listas\n",
    "Las listas pueden almacenar una colección de items en orden. Ellas son delimitadas por corchetes [] y sus elementos son separados por comas.\n",
    "\n",
    "Estas pueden almacenar cualquier tipo de items, incluyendo números, strings, objetos, otras listas, entre otros. También nos permiten almacenar items de tipos de datos diferentes juntos en una única lista."
   ]
  },
  {
   "cell_type": "code",
   "execution_count": null,
   "metadata": {
    "colab": {
     "base_uri": "https://localhost:8080/"
    },
    "executionInfo": {
     "elapsed": 70,
     "status": "ok",
     "timestamp": 1748432448885,
     "user": {
      "displayName": "Pol Argentino",
      "userId": "02817779166023488471"
     },
     "user_tz": 180
    },
    "id": "ZB_tur6lcRSW",
    "outputId": "20efd60c-1b3e-4837-bfea-1e6e5d14bcf3"
   },
   "outputs": [
    {
     "data": {
      "text/plain": [
       "['Pablo Monsalvo', 9.5, 9.0, 9.7, True]"
      ]
     },
     "execution_count": 5,
     "metadata": {},
     "output_type": "execute_result"
    }
   ],
   "source": [
    "lista = ['Pablo Monsalvo',9.5,9.0,9.7,True]\n",
    "lista"
   ]
  },
  {
   "cell_type": "markdown",
   "metadata": {
    "id": "6yjA5_gLcbQj"
   },
   "source": [
    "Las listas son organizadas en Python porque cada elemento de la lista tiene un índice que indica su posición al interior de la lista. Los índices comienzan en 0 van hasta el tamaño de la lista menos 1.\n",
    "\n",
    "Tenemos entonces 5 elementos con índices que varían de 0 a 4, ordenadamente:\n",
    "\n",
    "#             [0]           [1]   [2]   [3]    [4]\n",
    "lista = ['Pablo Monsalvo', 9.5 , 9.0 , 9.7 , True]\n",
    "En Python tenemos también los índices negativos que se inician en el último elemento con el valor de -1 y avanzan en el universo de los negativos hasta llegar al 1° elemento:\n",
    "\n",
    "#             [-5]         [-4]  [-3]  [-2]   [-1]\n",
    "lista = ['Pablo Monsalvo', 9.5 , 9.0 , 9.7 , True]\n",
    "Logramos seleccionar separadamente cada elemento a través de sus respectivos índices. Colocando el nombre de la lista y en seguida el índice que será seleccionado."
   ]
  },
  {
   "cell_type": "code",
   "execution_count": null,
   "metadata": {
    "colab": {
     "base_uri": "https://localhost:8080/"
    },
    "executionInfo": {
     "elapsed": 55,
     "status": "ok",
     "timestamp": 1748432572019,
     "user": {
      "displayName": "Pol Argentino",
      "userId": "02817779166023488471"
     },
     "user_tz": 180
    },
    "id": "7m6ZOgaYc5pW",
    "outputId": "c050c5d2-aeaf-451c-ce4a-b5f62b7b2237"
   },
   "outputs": [
    {
     "data": {
      "text/plain": [
       "str"
      ]
     },
     "execution_count": 6,
     "metadata": {},
     "output_type": "execute_result"
    }
   ],
   "source": [
    "type(lista[0])\n"
   ]
  },
  {
   "cell_type": "code",
   "execution_count": null,
   "metadata": {
    "colab": {
     "base_uri": "https://localhost:8080/"
    },
    "executionInfo": {
     "elapsed": 53,
     "status": "ok",
     "timestamp": 1748432594042,
     "user": {
      "displayName": "Pol Argentino",
      "userId": "02817779166023488471"
     },
     "user_tz": 180
    },
    "id": "hql-fClrc6f0",
    "outputId": "aadfb206-16f7-4a54-e856-e89ab86096c1"
   },
   "outputs": [
    {
     "data": {
      "text/plain": [
       "float"
      ]
     },
     "execution_count": 7,
     "metadata": {},
     "output_type": "execute_result"
    }
   ],
   "source": [
    "type(lista[1])\n"
   ]
  },
  {
   "cell_type": "code",
   "execution_count": null,
   "metadata": {
    "colab": {
     "base_uri": "https://localhost:8080/"
    },
    "executionInfo": {
     "elapsed": 44,
     "status": "ok",
     "timestamp": 1748432624449,
     "user": {
      "displayName": "Pol Argentino",
      "userId": "02817779166023488471"
     },
     "user_tz": 180
    },
    "id": "NFRv2_HttIwp",
    "outputId": "c0eae72a-d4a6-410a-df33-0be467854d33"
   },
   "outputs": [
    {
     "data": {
      "text/plain": [
       "bool"
      ]
     },
     "execution_count": 8,
     "metadata": {},
     "output_type": "execute_result"
    }
   ],
   "source": [
    "type(lista[-1])\n"
   ]
  },
  {
   "cell_type": "markdown",
   "metadata": {
    "id": "UIL4eEBlc7Hj"
   },
   "source": [
    "Una forma más dinámica de trabajar item a item en una lista es utilizando un lazo for para leer un elemento a la vez."
   ]
  },
  {
   "cell_type": "code",
   "execution_count": null,
   "metadata": {
    "colab": {
     "base_uri": "https://localhost:8080/"
    },
    "executionInfo": {
     "elapsed": 40,
     "status": "ok",
     "timestamp": 1748432742338,
     "user": {
      "displayName": "Pol Argentino",
      "userId": "02817779166023488471"
     },
     "user_tz": 180
    },
    "id": "RLK910K2c8eQ",
    "outputId": "c2515946-13ad-45a8-e6a7-ad9f2aa5db62"
   },
   "outputs": [
    {
     "name": "stdout",
     "output_type": "stream",
     "text": [
      "Pablo Monsalvo\n",
      "9.5\n",
      "9.0\n",
      "9.7\n",
      "True\n"
     ]
    }
   ],
   "source": [
    "for elemento in lista:\n",
    "  print(elemento)\n"
   ]
  },
  {
   "cell_type": "markdown",
   "metadata": {
    "id": "C2QZv5Tbc_ep"
   },
   "source": [
    "Situación: La nota 9.0 de Pablo necesita ser ajustada pues ganó 1 punto en su última nota por participación en clase. Entonces es necesario realizar un cambio en el índice 2 de 9.0 a 10.0"
   ]
  },
  {
   "cell_type": "code",
   "execution_count": null,
   "metadata": {
    "id": "rW2RLCaodDRI"
   },
   "outputs": [],
   "source": [
    "lista[2] = 10.0\n"
   ]
  },
  {
   "cell_type": "code",
   "execution_count": null,
   "metadata": {
    "colab": {
     "base_uri": "https://localhost:8080/"
    },
    "executionInfo": {
     "elapsed": 65,
     "status": "ok",
     "timestamp": 1748432816054,
     "user": {
      "displayName": "Pol Argentino",
      "userId": "02817779166023488471"
     },
     "user_tz": 180
    },
    "id": "KTC658tJdDun",
    "outputId": "da791a91-450f-49d2-96dd-0ae3adbe4788"
   },
   "outputs": [
    {
     "data": {
      "text/plain": [
       "['Pablo Monsalvo', 9.5, 10.0, 9.7, True]"
      ]
     },
     "execution_count": 14,
     "metadata": {},
     "output_type": "execute_result"
    }
   ],
   "source": [
    "lista"
   ]
  },
  {
   "cell_type": "markdown",
   "metadata": {
    "id": "NvQfpasSdEXq"
   },
   "source": [
    "También podemos calcular el promedio del estudiante a partir de los datos que tenemos.\n",
    "\n",
    "\n"
   ]
  },
  {
   "cell_type": "code",
   "execution_count": null,
   "metadata": {
    "colab": {
     "base_uri": "https://localhost:8080/"
    },
    "executionInfo": {
     "elapsed": 25,
     "status": "ok",
     "timestamp": 1748433748046,
     "user": {
      "displayName": "Pol Argentino",
      "userId": "02817779166023488471"
     },
     "user_tz": 180
    },
    "id": "xHt1VY_NdK91",
    "outputId": "a3b28bd1-25cb-466f-a976-fa0a0aedfebf"
   },
   "outputs": [
    {
     "data": {
      "text/plain": [
       "9.733333333333333"
      ]
     },
     "execution_count": 54,
     "metadata": {},
     "output_type": "execute_result"
    }
   ],
   "source": [
    "promedio = (lista[1]+lista[2]+lista[3])/3\n",
    "promedio"
   ]
  },
  {
   "cell_type": "markdown",
   "metadata": {
    "id": "QjxQU2iNdQnw"
   },
   "source": [
    "# Manipulación de listas\n",
    "Las listas son muy útiles en Python porque nos permiten almacenar y acceder a una colección de items de manera organizada y rápida. Estas también ofrecen muchos métodos útiles para manipular los itens almacenados, como adicionar, remover, clasificar y buscar elementos.\n",
    "\n",
    "# Cantidad de elementos\n",
    "Usamos la función len() para descubrir la cantidad de elementos de un conjunto."
   ]
  },
  {
   "cell_type": "code",
   "execution_count": null,
   "metadata": {
    "colab": {
     "base_uri": "https://localhost:8080/"
    },
    "executionInfo": {
     "elapsed": 24,
     "status": "ok",
     "timestamp": 1748432966409,
     "user": {
      "displayName": "Pol Argentino",
      "userId": "02817779166023488471"
     },
     "user_tz": 180
    },
    "id": "3D5cOuqMdbHE",
    "outputId": "f48f7d06-1527-4fac-a312-4c02cd73e5cc"
   },
   "outputs": [
    {
     "data": {
      "text/plain": [
       "5"
      ]
     },
     "execution_count": 16,
     "metadata": {},
     "output_type": "execute_result"
    }
   ],
   "source": [
    "\n",
    "len(lista)"
   ]
  },
  {
   "cell_type": "markdown",
   "metadata": {
    "id": "lt0AaMKIdfhG"
   },
   "source": [
    "# Partición\n",
    "La partición de listas por indexación en Python es una técnica muy útil para seleccionar un subconjunto de elementos de una lista. Esta se realiza usando la sintaxis lista[inicio:fin], donde inicio es el índice del primer elemento que será incluído en la partición fin es el índice del primer elemento que será excluído de la partición."
   ]
  },
  {
   "cell_type": "code",
   "execution_count": null,
   "metadata": {
    "colab": {
     "base_uri": "https://localhost:8080/"
    },
    "executionInfo": {
     "elapsed": 67,
     "status": "ok",
     "timestamp": 1748433132750,
     "user": {
      "displayName": "Pol Argentino",
      "userId": "02817779166023488471"
     },
     "user_tz": 180
    },
    "id": "f0oeSg8juoGE",
    "outputId": "293fae69-80ba-4d76-d1e3-466017e7f738"
   },
   "outputs": [
    {
     "data": {
      "text/plain": [
       "['Pablo Monsalvo', 9.5]"
      ]
     },
     "execution_count": 25,
     "metadata": {},
     "output_type": "execute_result"
    }
   ],
   "source": [
    "lista[0:2]\n"
   ]
  },
  {
   "cell_type": "code",
   "execution_count": null,
   "metadata": {
    "colab": {
     "base_uri": "https://localhost:8080/"
    },
    "executionInfo": {
     "elapsed": 30,
     "status": "ok",
     "timestamp": 1748433220689,
     "user": {
      "displayName": "Pol Argentino",
      "userId": "02817779166023488471"
     },
     "user_tz": 180
    },
    "id": "_3tTcAVcvOKF",
    "outputId": "cadc1a4e-7c94-4687-d9df-eb884c4d0e72"
   },
   "outputs": [
    {
     "data": {
      "text/plain": [
       "['Pablo Monsalvo', 9.5]"
      ]
     },
     "execution_count": 28,
     "metadata": {},
     "output_type": "execute_result"
    }
   ],
   "source": [
    "lista[:2]\n"
   ]
  },
  {
   "cell_type": "code",
   "execution_count": null,
   "metadata": {
    "colab": {
     "base_uri": "https://localhost:8080/"
    },
    "executionInfo": {
     "elapsed": 21,
     "status": "ok",
     "timestamp": 1748433338707,
     "user": {
      "displayName": "Pol Argentino",
      "userId": "02817779166023488471"
     },
     "user_tz": 180
    },
    "id": "elvDQcKhvePR",
    "outputId": "a2205918-2ee7-49df-c81d-1f1cc8ebfca6"
   },
   "outputs": [
    {
     "data": {
      "text/plain": [
       "[9.7, True]"
      ]
     },
     "execution_count": 38,
     "metadata": {},
     "output_type": "execute_result"
    }
   ],
   "source": [
    "lista[3:]"
   ]
  },
  {
   "cell_type": "code",
   "execution_count": null,
   "metadata": {
    "colab": {
     "base_uri": "https://localhost:8080/"
    },
    "executionInfo": {
     "elapsed": 26,
     "status": "ok",
     "timestamp": 1748433359338,
     "user": {
      "displayName": "Pol Argentino",
      "userId": "02817779166023488471"
     },
     "user_tz": 180
    },
    "id": "pE1nhkPCv7G9",
    "outputId": "0e4c3449-78cd-4083-ec21-9fe49600a8d2"
   },
   "outputs": [
    {
     "data": {
      "text/plain": [
       "['Pablo Monsalvo', 9.5, 10.0, 9.7, True]"
      ]
     },
     "execution_count": 39,
     "metadata": {},
     "output_type": "execute_result"
    }
   ],
   "source": [
    "lista[:]"
   ]
  },
  {
   "cell_type": "markdown",
   "metadata": {
    "id": "F99Tmj76wHTD"
   },
   "source": [
    "# Añade un elemento al final de la lista."
   ]
  },
  {
   "cell_type": "code",
   "execution_count": null,
   "metadata": {
    "id": "AtVhfO1kxFIM"
   },
   "outputs": [],
   "source": [
    "lista.append(promedio)\n"
   ]
  },
  {
   "cell_type": "code",
   "execution_count": null,
   "metadata": {
    "id": "WP8KGKvoxITG"
   },
   "outputs": [],
   "source": [
    "lista"
   ]
  },
  {
   "cell_type": "markdown",
   "metadata": {
    "id": "wMjPZYYfy5Ld"
   },
   "source": [
    "['Pablo Monsalvo', 9.5, 10.0, 9.7, True, 9.733333333333333]"
   ]
  },
  {
   "cell_type": "markdown",
   "metadata": {
    "id": "6rmQK8ysxtFC"
   },
   "source": [
    "# extend()\n",
    "Añade varios elementos al final de la lista.\n",
    "\n",
    "Añadiremos las notas [10.0,8.0,9.0] En la lista de Pablo Monsalvo."
   ]
  },
  {
   "cell_type": "code",
   "execution_count": null,
   "metadata": {
    "id": "KVQtw6PBx1UB"
   },
   "outputs": [],
   "source": [
    "lista.extend([10.0,8.0,9.0])\n"
   ]
  },
  {
   "cell_type": "code",
   "execution_count": null,
   "metadata": {
    "id": "5fVEpWtix6VS"
   },
   "outputs": [],
   "source": [
    "lista"
   ]
  },
  {
   "cell_type": "markdown",
   "metadata": {
    "id": "wci60v82zLIK"
   },
   "source": [
    "['Pablo Monsalvo', 9.5, 10.0, 9.7, True, 9.733333333333333, 10.0, 8.0, 9.0]"
   ]
  },
  {
   "cell_type": "markdown",
   "metadata": {
    "id": "XsaLtl-ZySSI"
   },
   "source": [
    "A continuación te mostraremos lo que NO SE PUEDE realizarse con append."
   ]
  },
  {
   "cell_type": "code",
   "execution_count": null,
   "metadata": {
    "id": "acXQCv1xyUFp"
   },
   "outputs": [],
   "source": [
    "\n",
    "lista.append([10.0,8.0,9.0])"
   ]
  },
  {
   "cell_type": "code",
   "execution_count": null,
   "metadata": {
    "id": "nnGVAZ-0yXuI"
   },
   "outputs": [],
   "source": [
    "lista"
   ]
  },
  {
   "cell_type": "markdown",
   "metadata": {
    "id": "9kP3HFWHzhip"
   },
   "source": [
    "['Pablo Monsalvo',\n",
    " 9.5,\n",
    " 10.0,\n",
    " 9.7,\n",
    " True,\n",
    " 9.733333333333333,\n",
    " 10.0,\n",
    " 8.0,\n",
    " 9.0,\n",
    " [10.0, 8.0, 9.0]]"
   ]
  },
  {
   "cell_type": "markdown",
   "metadata": {
    "id": "VhSorEUzyel5"
   },
   "source": [
    "# Remueve un elemento específico de la lista.\n",
    "\n"
   ]
  },
  {
   "cell_type": "code",
   "execution_count": null,
   "metadata": {
    "id": "zl64-ZHIyhtP"
   },
   "outputs": [],
   "source": [
    "lista.remove([10.0, 8.0, 9.0])"
   ]
  },
  {
   "cell_type": "code",
   "execution_count": null,
   "metadata": {
    "id": "uf6lYEAIyler"
   },
   "outputs": [],
   "source": [
    "lista"
   ]
  },
  {
   "cell_type": "markdown",
   "metadata": {
    "id": "-kYoZV9czvV5"
   },
   "source": [
    "['Pablo Monsalvo', 9.5, 10.0, 9.7, True, 9.733333333333333, 10.0, 8.0, 9.0]"
   ]
  },
  {
   "cell_type": "markdown",
   "metadata": {
    "id": "AflmG5971S_f"
   },
   "source": [
    "# Diccionario\n",
    "Los diccionarios son un tipo de estructura de datos que almacenan pares de llave-valor. Estos son delimitados por llaves {} y los pares llave-valor son separados por comas.\n",
    "\n",
    "diccionario = {llave: valor}\n",
    "La llave es un elemento único que identifica a un valor en el diccionario, mientras que el valor es el item que será almacenado para la llave. Las llaves y sus respectivos valores se pueden emplear para cualquier tipo de dato.\n",
    "\n",
    "Los diccionarios son útiles para almacenar y acceder a los datos de manera organizada y rápida. Se trata de un tipo de conjunto de elementos en Python, pues almacenan una colección de items."
   ]
  },
  {
   "cell_type": "code",
   "execution_count": null,
   "metadata": {
    "colab": {
     "base_uri": "https://localhost:8080/"
    },
    "executionInfo": {
     "elapsed": 44,
     "status": "ok",
     "timestamp": 1748434799718,
     "user": {
      "displayName": "Pol Argentino",
      "userId": "02817779166023488471"
     },
     "user_tz": 180
    },
    "id": "ksZ8g4er1cDH",
    "outputId": "ac9e3bb4-03bc-4642-f72e-64f573d81ef5"
   },
   "outputs": [
    {
     "data": {
      "text/plain": [
       "{'llave_1': 1, 'llave_2': 2}"
      ]
     },
     "execution_count": 72,
     "metadata": {},
     "output_type": "execute_result"
    }
   ],
   "source": [
    "diccionario = {'llave_1':1,\n",
    "               'llave_2':2}\n",
    "\n",
    "diccionario\n"
   ]
  },
  {
   "cell_type": "code",
   "execution_count": null,
   "metadata": {
    "colab": {
     "base_uri": "https://localhost:8080/"
    },
    "executionInfo": {
     "elapsed": 51,
     "status": "ok",
     "timestamp": 1748434817135,
     "user": {
      "displayName": "Pol Argentino",
      "userId": "02817779166023488471"
     },
     "user_tz": 180
    },
    "id": "g8H_qX0Z1gXV",
    "outputId": "d3b6207a-7028-43fa-d638-143d46df9c8f"
   },
   "outputs": [
    {
     "data": {
      "text/plain": [
       "dict"
      ]
     },
     "execution_count": 73,
     "metadata": {},
     "output_type": "execute_result"
    }
   ],
   "source": [
    "type(diccionario)"
   ]
  },
  {
   "cell_type": "markdown",
   "metadata": {
    "id": "yJ95-JHI1j5G"
   },
   "source": [
    "# Situación:\n",
    "\n",
    "Vamos a crear un conjunto de datos con las informaciones de matrícula de un estudiante. Los datos son los siguientes:\n",
    "\n",
    "matrícula: 2000168933\n",
    "día de registro: 25\n",
    "mes de registro: 10\n",
    "grupo: 2E"
   ]
  },
  {
   "cell_type": "code",
   "execution_count": null,
   "metadata": {
    "colab": {
     "base_uri": "https://localhost:8080/"
    },
    "executionInfo": {
     "elapsed": 121,
     "status": "ok",
     "timestamp": 1748434854987,
     "user": {
      "displayName": "Pol Argentino",
      "userId": "02817779166023488471"
     },
     "user_tz": 180
    },
    "id": "xHC8NGGP1nvh",
    "outputId": "5568dedb-c80b-4f1f-d702-849c4d5c1288"
   },
   "outputs": [
    {
     "data": {
      "text/plain": [
       "{'matricula': 2000168933,\n",
       " 'dia_registro': 25,\n",
       " 'mes_registro': 10,\n",
       " 'grupo': '2E'}"
      ]
     },
     "execution_count": 74,
     "metadata": {},
     "output_type": "execute_result"
    }
   ],
   "source": [
    "estudiante = {\n",
    "              'matricula': 2000168933,\n",
    "              'dia_registro': 25,\n",
    "              'mes_registro': 10,\n",
    "              'grupo': '2E'\n",
    "              }\n",
    "\n",
    "estudiante"
   ]
  },
  {
   "cell_type": "code",
   "execution_count": null,
   "metadata": {
    "colab": {
     "base_uri": "https://localhost:8080/"
    },
    "executionInfo": {
     "elapsed": 56,
     "status": "ok",
     "timestamp": 1748434877068,
     "user": {
      "displayName": "Pol Argentino",
      "userId": "02817779166023488471"
     },
     "user_tz": 180
    },
    "id": "mHahPEM61u9M",
    "outputId": "b409ffc9-5266-49d1-ba8e-2077b8a5c893"
   },
   "outputs": [
    {
     "data": {
      "text/plain": [
       "2000168933"
      ]
     },
     "execution_count": 75,
     "metadata": {},
     "output_type": "execute_result"
    }
   ],
   "source": [
    "estudiante['matricula']"
   ]
  },
  {
   "cell_type": "code",
   "execution_count": null,
   "metadata": {
    "colab": {
     "base_uri": "https://localhost:8080/",
     "height": 35
    },
    "executionInfo": {
     "elapsed": 78,
     "status": "ok",
     "timestamp": 1748434889880,
     "user": {
      "displayName": "Pol Argentino",
      "userId": "02817779166023488471"
     },
     "user_tz": 180
    },
    "id": "6HW0kjhc1wG5",
    "outputId": "c229ee1f-ced9-4a48-ce18-83ff55ebefae"
   },
   "outputs": [
    {
     "data": {
      "application/vnd.google.colaboratory.intrinsic+json": {
       "type": "string"
      },
      "text/plain": [
       "'2E'"
      ]
     },
     "execution_count": 76,
     "metadata": {},
     "output_type": "execute_result"
    }
   ],
   "source": [
    "\n",
    "estudiante['grupo']"
   ]
  },
  {
   "cell_type": "markdown",
   "metadata": {
    "id": "Er10UHjU13GY"
   },
   "source": [
    "Es posible sustituir los valores dentro de una llave. Por ejemplo, recibimos la información de que el grupo del estudiante que registramos cambio a '2G' y ahora necesitamos cambiar el valor de la llave 'grupo'"
   ]
  },
  {
   "cell_type": "code",
   "execution_count": null,
   "metadata": {
    "id": "j7qDPs6K180c"
   },
   "outputs": [],
   "source": [
    "estudiante['grupo'] = '2G'"
   ]
  },
  {
   "cell_type": "code",
   "execution_count": null,
   "metadata": {
    "colab": {
     "base_uri": "https://localhost:8080/"
    },
    "executionInfo": {
     "elapsed": 69,
     "status": "ok",
     "timestamp": 1748434950618,
     "user": {
      "displayName": "Pol Argentino",
      "userId": "02817779166023488471"
     },
     "user_tz": 180
    },
    "id": "2RFfD4h_2A1r",
    "outputId": "e0aebecf-84da-4d17-e878-5084fa5ad97a"
   },
   "outputs": [
    {
     "data": {
      "text/plain": [
       "{'matricula': 2000168933,\n",
       " 'dia_registro': 25,\n",
       " 'mes_registro': 10,\n",
       " 'grupo': '2G'}"
      ]
     },
     "execution_count": 78,
     "metadata": {},
     "output_type": "execute_result"
    }
   ],
   "source": [
    "estudiante"
   ]
  },
  {
   "cell_type": "markdown",
   "metadata": {
    "id": "3i21K_4v2Gpe"
   },
   "source": [
    "También podemos añadir otros datos al diccionario. Vamos a añadir la información sobre la modalidad de estudio, nuestro estudiante estudiará inicialemente en la modalidad EAD.\n",
    "\n",
    "Definiremos una llave llamada 'modalidad' con el valor 'EAD'."
   ]
  },
  {
   "cell_type": "code",
   "execution_count": null,
   "metadata": {
    "id": "OoJGJBzc2Kzu"
   },
   "outputs": [],
   "source": [
    "estudiante['modalidad'] = 'EAD'"
   ]
  },
  {
   "cell_type": "code",
   "execution_count": null,
   "metadata": {
    "colab": {
     "base_uri": "https://localhost:8080/"
    },
    "executionInfo": {
     "elapsed": 68,
     "status": "ok",
     "timestamp": 1748435111223,
     "user": {
      "displayName": "Pol Argentino",
      "userId": "02817779166023488471"
     },
     "user_tz": 180
    },
    "id": "xe-DUSKi2XaZ",
    "outputId": "82f4605e-5d91-48e8-a0bf-1985b5dd5dfa"
   },
   "outputs": [
    {
     "data": {
      "text/plain": [
       "{'matricula': 2000168933,\n",
       " 'dia_registro': 25,\n",
       " 'mes_registro': 10,\n",
       " 'grupo': '2G',\n",
       " 'modalidad': 'EAD'}"
      ]
     },
     "execution_count": 82,
     "metadata": {},
     "output_type": "execute_result"
    }
   ],
   "source": [
    "\n",
    "estudiante"
   ]
  },
  {
   "cell_type": "code",
   "execution_count": null,
   "metadata": {
    "colab": {
     "base_uri": "https://localhost:8080/"
    },
    "executionInfo": {
     "elapsed": 20,
     "status": "ok",
     "timestamp": 1748435112963,
     "user": {
      "displayName": "Pol Argentino",
      "userId": "02817779166023488471"
     },
     "user_tz": 180
    },
    "id": "-Z6_7kI82eby",
    "outputId": "9a2a9a20-c9ca-4008-84ad-3fd83cf21bc1"
   },
   "outputs": [
    {
     "data": {
      "text/plain": [
       "5"
      ]
     },
     "execution_count": 83,
     "metadata": {},
     "output_type": "execute_result"
    }
   ],
   "source": [
    "\n",
    "len(estudiante)"
   ]
  },
  {
   "cell_type": "markdown",
   "metadata": {
    "id": "mqW4Os2T29n7"
   },
   "source": [
    "# Profundizando en diccionarios\n",
    "# pop()\n",
    "Remueve un item de un diccionario y lo representa en la salida."
   ]
  },
  {
   "cell_type": "code",
   "execution_count": null,
   "metadata": {
    "colab": {
     "base_uri": "https://localhost:8080/",
     "height": 35
    },
    "executionInfo": {
     "elapsed": 103,
     "status": "ok",
     "timestamp": 1748435228681,
     "user": {
      "displayName": "Pol Argentino",
      "userId": "02817779166023488471"
     },
     "user_tz": 180
    },
    "id": "d1li463-3CHa",
    "outputId": "4a72cf87-ff64-463d-e20a-8d609470b04f"
   },
   "outputs": [
    {
     "data": {
      "application/vnd.google.colaboratory.intrinsic+json": {
       "type": "string"
      },
      "text/plain": [
       "'2G'"
      ]
     },
     "execution_count": 84,
     "metadata": {},
     "output_type": "execute_result"
    }
   ],
   "source": [
    "estudiante.pop('grupo')"
   ]
  },
  {
   "cell_type": "code",
   "execution_count": null,
   "metadata": {
    "colab": {
     "base_uri": "https://localhost:8080/"
    },
    "executionInfo": {
     "elapsed": 41,
     "status": "ok",
     "timestamp": 1748435248974,
     "user": {
      "displayName": "Pol Argentino",
      "userId": "02817779166023488471"
     },
     "user_tz": 180
    },
    "id": "iUgeZSnW3J1O",
    "outputId": "8b1d9b15-af0c-49d8-f1d3-ef289a4bde44"
   },
   "outputs": [
    {
     "data": {
      "text/plain": [
       "{'matricula': 2000168933,\n",
       " 'dia_registro': 25,\n",
       " 'mes_registro': 10,\n",
       " 'modalidad': 'EAD'}"
      ]
     },
     "execution_count": 85,
     "metadata": {},
     "output_type": "execute_result"
    }
   ],
   "source": [
    "estudiante"
   ]
  },
  {
   "cell_type": "code",
   "execution_count": null,
   "metadata": {
    "colab": {
     "base_uri": "https://localhost:8080/"
    },
    "executionInfo": {
     "elapsed": 138,
     "status": "ok",
     "timestamp": 1748435265894,
     "user": {
      "displayName": "Pol Argentino",
      "userId": "02817779166023488471"
     },
     "user_tz": 180
    },
    "id": "uh7mRZIg3LLN",
    "outputId": "4f994947-375c-4a3b-e81d-1e7dbf2117d8"
   },
   "outputs": [
    {
     "data": {
      "text/plain": [
       "4"
      ]
     },
     "execution_count": 86,
     "metadata": {},
     "output_type": "execute_result"
    }
   ],
   "source": [
    "len(estudiante)"
   ]
  },
  {
   "cell_type": "markdown",
   "metadata": {
    "id": "qzX5qMqB3V6t"
   },
   "source": [
    "# items()\n",
    "Retorna una lista de pares llave-valor del diccionario."
   ]
  },
  {
   "cell_type": "code",
   "execution_count": null,
   "metadata": {
    "colab": {
     "base_uri": "https://localhost:8080/"
    },
    "executionInfo": {
     "elapsed": 53,
     "status": "ok",
     "timestamp": 1748435319438,
     "user": {
      "displayName": "Pol Argentino",
      "userId": "02817779166023488471"
     },
     "user_tz": 180
    },
    "id": "dVUNor8t3YoZ",
    "outputId": "98ce5be7-9820-4eb1-9663-7e9428b14186"
   },
   "outputs": [
    {
     "data": {
      "text/plain": [
       "dict_items([('matricula', 2000168933), ('dia_registro', 25), ('mes_registro', 10), ('modalidad', 'EAD')])"
      ]
     },
     "execution_count": 87,
     "metadata": {},
     "output_type": "execute_result"
    }
   ],
   "source": [
    "estudiante.items()\n"
   ]
  },
  {
   "cell_type": "markdown",
   "metadata": {
    "id": "HzFnxsih3fW-"
   },
   "source": [
    "# keys()\n",
    "Retorna una lista de las llaves del diccionario."
   ]
  },
  {
   "cell_type": "code",
   "execution_count": null,
   "metadata": {
    "colab": {
     "base_uri": "https://localhost:8080/"
    },
    "executionInfo": {
     "elapsed": 88,
     "status": "ok",
     "timestamp": 1748435365966,
     "user": {
      "displayName": "Pol Argentino",
      "userId": "02817779166023488471"
     },
     "user_tz": 180
    },
    "id": "hjJwbb3_3i88",
    "outputId": "1e8bddd3-2c54-485f-a580-356e33a8a432"
   },
   "outputs": [
    {
     "data": {
      "text/plain": [
       "dict_keys(['matricula', 'dia_registro', 'mes_registro', 'modalidad'])"
      ]
     },
     "execution_count": 88,
     "metadata": {},
     "output_type": "execute_result"
    }
   ],
   "source": [
    "estudiante.keys()"
   ]
  },
  {
   "cell_type": "markdown",
   "metadata": {
    "id": "h2cR3Ztk3slO"
   },
   "source": [
    "# values()\n",
    "Retorna una lista de los valores del diccionario."
   ]
  },
  {
   "cell_type": "code",
   "execution_count": null,
   "metadata": {
    "colab": {
     "base_uri": "https://localhost:8080/"
    },
    "executionInfo": {
     "elapsed": 66,
     "status": "ok",
     "timestamp": 1748435410042,
     "user": {
      "displayName": "Pol Argentino",
      "userId": "02817779166023488471"
     },
     "user_tz": 180
    },
    "id": "iJpe6vnA3vgx",
    "outputId": "4ced788f-4048-4715-a8bd-5afbc923e4dd"
   },
   "outputs": [
    {
     "data": {
      "text/plain": [
       "dict_values([2000168933, 25, 10, 'EAD'])"
      ]
     },
     "execution_count": 89,
     "metadata": {},
     "output_type": "execute_result"
    }
   ],
   "source": [
    "estudiante.values()"
   ]
  },
  {
   "cell_type": "markdown",
   "metadata": {
    "id": "1jyPRqdg34dR"
   },
   "source": [
    "# Lectura de valores con el lazo for"
   ]
  },
  {
   "cell_type": "code",
   "execution_count": null,
   "metadata": {
    "colab": {
     "base_uri": "https://localhost:8080/"
    },
    "executionInfo": {
     "elapsed": 56,
     "status": "ok",
     "timestamp": 1748435460685,
     "user": {
      "displayName": "Pol Argentino",
      "userId": "02817779166023488471"
     },
     "user_tz": 180
    },
    "id": "KYpmzsUy36jr",
    "outputId": "ad5e9224-cf9a-46f9-f5ac-83ba38148b69"
   },
   "outputs": [
    {
     "name": "stdout",
     "output_type": "stream",
     "text": [
      "matricula\n",
      "dia_registro\n",
      "mes_registro\n",
      "modalidad\n"
     ]
    }
   ],
   "source": [
    "for llave in estudiante.keys():\n",
    "  print(llave)"
   ]
  },
  {
   "cell_type": "code",
   "execution_count": null,
   "metadata": {
    "colab": {
     "base_uri": "https://localhost:8080/"
    },
    "executionInfo": {
     "elapsed": 28,
     "status": "ok",
     "timestamp": 1748435519018,
     "user": {
      "displayName": "Pol Argentino",
      "userId": "02817779166023488471"
     },
     "user_tz": 180
    },
    "id": "EYWL8NQR4LfC",
    "outputId": "8d674864-bd3e-423e-d226-e5d452051620"
   },
   "outputs": [
    {
     "name": "stdout",
     "output_type": "stream",
     "text": [
      "matricula  -->  2000168933\n",
      "dia_registro  -->  25\n",
      "mes_registro  -->  10\n",
      "modalidad  -->  EAD\n"
     ]
    }
   ],
   "source": [
    "for llave,valor in estudiante.items():\n",
    "  print(llave,' --> ', valor)"
   ]
  },
  {
   "cell_type": "markdown",
   "metadata": {
    "id": "-gB2Mqz2dGvE"
   },
   "source": [
    "# VAMOS POL!!!"
   ]
  }
 ],
 "metadata": {
  "colab": {
   "authorship_tag": "ABX9TyPmZAVThfBiDl5HCsMdVgaC",
   "provenance": []
  },
  "kernelspec": {
   "display_name": "api-env",
   "language": "python",
   "name": "python3"
  },
  "language_info": {
   "codemirror_mode": {
    "name": "ipython",
    "version": 3
   },
   "file_extension": ".py",
   "mimetype": "text/x-python",
   "name": "python",
   "nbconvert_exporter": "python",
   "pygments_lexer": "ipython3",
   "version": "3.10.13"
  }
 },
 "nbformat": 4,
 "nbformat_minor": 0
}
