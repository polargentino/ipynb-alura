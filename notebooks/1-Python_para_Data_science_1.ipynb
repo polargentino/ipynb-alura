{
 "cells": [
  {
   "cell_type": "markdown",
   "metadata": {
    "id": "MdJiAVxEGiwg"
   },
   "source": [
    "# 01 - Python para Data science -1\n",
    "\n",
    "## Alumno: `Pablo Matías Monsalvo` `G8-ONE`\n",
    "\n",
    "\n"
   ]
  },
  {
   "cell_type": "markdown",
   "metadata": {},
   "source": [
    "###  02 Para saber más: ¿Qué es Python?\n",
    "\n",
    "Python es un lenguaje de programación de alto nivel, interpretado y orientado a objetos. Fue creado a finales de 1989 por el programador holandés Guido van Rossum. El nombre \"Python\" se inspiró en la serie de televisión británica Monty Python's Flying Circus y tiene como símbolo la imagen que se muestra a continuación:\n",
    "\n",
    "![python.webp](/home/pol/Escritorio/ipynb-alura/assets/python.webp)"
   ]
  },
  {
   "cell_type": "markdown",
   "metadata": {},
   "source": [
    "Python se utiliza en diversas áreas, como el desarrollo de aplicaciones web, la ciencia de datos, el aprendizaje automático, la automatización de tareas, el análisis de datos y muchas otras. Es un lenguaje de programación versátil que se puede utilizar para crear prácticamente cualquier tipo de programa.\n",
    "\n",
    "Debido a su sintaxis simple y fácil de leer, se convierte en una buena elección para principiantes en la programación. Además, Python es uno de los lenguajes más utilizados en el mundo, con una gran comunidad activa y muchas bibliotecas y frameworks disponibles, lo que facilita la realización de diversas tareas.\n",
    "\n",
    "Es compatible con varios sistemas operativos, como Windows, Linux y macOS. Como es un lenguaje popular y en constante evolución, Python se utiliza en muchas empresas y organizaciones en todo el mundo. También se utiliza ampliamente en aplicaciones científicas debido a su capacidad para manejar grandes conjuntos de datos y operaciones matemáticas complejas.\n",
    "\n",
    "La información y la documentación sobre Python se pueden encontrar en el sitio web oficial python.org."
   ]
  },
  {
   "cell_type": "markdown",
   "metadata": {},
   "source": [
    "## 03 - Preparando el ambiente\n",
    "\n",
    "Vamos a acceder al notebook que será utilizado durante el curso directamente desde github. Una vez accedes al github has clic sobre el siguiente botón para que lo puedas abrir directamente en tu cuenta de Colab:\n",
    "\n",
    "1.jpg\n",
    "\n",
    "Como lo acabamos de mencionar, nuestro ambiente de trabajo será Google Colaboratory. Para lograr acceder a este, es necesario tener una cuenta en Gmail, dado que el notebook quedará almacenado en Google Drive."
   ]
  },
  {
   "cell_type": "markdown",
   "metadata": {},
   "source": [
    "## 04 - Google Colaboratory\n",
    "\n",
    "¡Hola! En esta clase, se introduce Python como un lenguaje de programación multiparadigma, creado por Guido Van Roosum en los 90. Se explica la diferencia entre lenguajes interpretados (como Python) y compilados, utilizando una analogía de una receta en japonés.\n",
    "\n",
    "Además, se destaca la idoneidad de Python para Data Science debido a su sintaxis simple y la gran comunidad que ha desarrollado herramientas como IPython. Se presenta Google Colab como una plataforma en línea para trabajar con notebooks de IPython, facilitando la experimentación y el aprendizaje de Python sin necesidad de instalación local.\n",
    "\n",
    "Finalmente, se explora la interfaz de Google Colab, incluyendo la creación de celdas de código y texto, el uso de Markdown para formatear texto, y atajos de teclado para una edición más eficiente."
   ]
  },
  {
   "cell_type": "markdown",
   "metadata": {},
   "source": [
    "##  05 - Para saber más: ¿Qué es Google Colaboratory?\n",
    "\n",
    "Google Colab es una herramienta que permite escribir y ejecutar código en Python a través de un navegador, sin necesidad de instalar ningún software adicional. Funciona mediante el uso de una máquina virtual, que es esencialmente un sistema virtual que simula una computadora.\n",
    "\n",
    "Cuando creamos, cargamos o subimos un nuevo documento en Colab, estamos creando una máquina virtual que se ejecuta en uno de los servidores de Google. Esta máquina virtual tiene acceso a una serie de recursos, como CPU, memoria y almacenamiento, que se utilizan para ejecutar el código.\n",
    "\n",
    "Es importante destacar que esta máquina virtual es temporal, lo que significa que se crea cuando abrimos Colab y se cierra cuando lo cerramos o cuando expira el tiempo de ejecución de la máquina. Esto significa que cualquier dato que carguemos en la máquina virtual se perderá cuando se cierre.\n",
    "\n",
    "Puedes darte cuenta de que tu máquina virtual se ha cerrado cuando el indicador de conexión en la esquina superior derecha está en espera para conectarse, como se muestra en la imagen a continuación:\n",
    "\n",
    "![google-colab.jpg](/home/pol/Escritorio/ipynb-alura/assets/google-colab.jpg)"
   ]
  },
  {
   "cell_type": "markdown",
   "metadata": {},
   "source": [
    "Para volver a conectar la máquina, simplemente haz clic en el botón \"Conectar\" y espera a que se establezca una nueva conexión. También es necesario ejecutar todas las celdas de creación y manipulación de variables que se crearon y ejecutaron antes de que la máquina virtual se cerrara, para que puedan ser utilizadas."
   ]
  },
  {
   "cell_type": "markdown",
   "metadata": {},
   "source": [
    "## 06 - Hola mundo\n",
    "\n",
    "¡Hola! En esta clase, se exploran los primeros pasos con Python en el entorno de Colab.\n",
    "\n",
    "Aquí tienes un resumen de los puntos clave:\n",
    "\n",
    "Ejecución de celdas: Se explica cómo ejecutar celdas de código con Shift + Enter (ejecuta y añade una nueva celda) y Ctrl + Enter (ejecuta sin añadir una nueva celda).\n",
    "* Hola Mundo: Se introduce el comando print(\"Hola, Mundo\") como una convención para empezar a programar en cualquier lenguaje, destacando la simplicidad de Python en comparación con otros lenguajes como Java.\n",
    "* Función print(): Se explora la función print() como una función incorporada de Python que permite mostrar texto u otros valores en la salida. Se menciona la documentación de Python y las Built-in Functions para facilitar el aprendizaje y la utilización del lenguaje.\n",
    "* Impresión de texto y valores: Se muestra cómo imprimir texto utilizando paréntesis simples o dobles y cómo imprimir valores numéricos directamente.\n",
    "* Ejecución línea por línea: Se explica cómo Python interpreta el código línea por línea, lo que permite ver la salida de cada comando de forma inmediata."
   ]
  },
  {
   "cell_type": "code",
   "execution_count": 31,
   "metadata": {
    "colab": {
     "base_uri": "https://localhost:8080/"
    },
    "executionInfo": {
     "elapsed": 77,
     "status": "ok",
     "timestamp": 1743670004720,
     "user": {
      "displayName": "Pol Argentino",
      "userId": "02817779166023488471"
     },
     "user_tz": 180
    },
    "id": "6XQP00T404Xe",
    "outputId": "982fa8ff-2d12-40aa-e36f-81708a72ade4"
   },
   "outputs": [
    {
     "name": "stdout",
     "output_type": "stream",
     "text": [
      "hola mundo soy pol Monsalvo\n"
     ]
    }
   ],
   "source": [
    "print('hola mundo soy pol Monsalvo')"
   ]
  },
  {
   "cell_type": "markdown",
   "metadata": {},
   "source": [
    "## 07 - ¿Qué hace la función print()?\n",
    "\n",
    "Aprendimos sobre una de las funciones de Python: La función print(). Selecciona la alternativa que describe lo que esta función hace y muestra un ejemplo usando su sintaxis.\n",
    "\n",
    "La función print se utiliza para mostrar información en la pantalla, es decir, imprime o muestra el contenido pasado como argumento. Un ejemplo de uso de esta función es el siguiente código: print('¡Hola, mundo!')\n",
    "\n",
    "\n",
    "La función print es una de las más útiles en el desarrollo de programas en Python, ya que permite ver lo que está sucediendo en su programa y ayuda a encontrar errores. Su sintaxis es simple: escribimos print seguido de paréntesis () y dentro de ellos ponemos lo que deseamos imprimir, como se muestra en la alternativa."
   ]
  },
  {
   "cell_type": "markdown",
   "metadata": {},
   "source": [
    "## 08 - Desafío: ¡Es hora de practicar!\n",
    "\n",
    "Vamos a practicar el uso de la función print con algunas actividades. Para ello, resuelve los problemas propuestos en código:\n",
    "\n",
    "* 1 - Imprime la frase \"Escuela de Datos de Alura\".\n",
    "\n",
    "* 2 - Imprime tu nombre y tu apellido siguiendo la estructura a continuación:\n",
    "\n",
    "Nombre: [tu nombre]\n",
    "Apellido: [tu apellido]\n",
    "\n",
    "* 3 - Imprime tu primer nombre letra por letra. Por ejemplo, si mi nombre es Álvaro, la salida sería:\n",
    "\n",
    "Á\n",
    "L\n",
    "V\n",
    "A\n",
    "R\n",
    "O\n",
    "\n",
    "* 4 - Imprime tu fecha de nacimiento en formato día mes año. Recuerda que los valores de día y año no deben estar entre comillas. Suponiendo una fecha de cumpleaños el 28 de febrero de 2003, el formato debe ser como el siguiente:\n",
    "\n",
    "28 febrero 2003\n",
    "\n",
    "* 5 - Imprime, en una sola instrucción print, el año actual en el que estás realizando este curso. El valor del año debe ser un dato numérico, y la salida de print debe ser la siguiente:\n",
    "\n",
    "Año actual: [año]\n",
    "\n",
    "Si necesitas ayuda, las soluciones a las actividades están disponibles en la sección \"Opinión del instructor\".\n",
    "\n",
    "### Opinión del instructor\n",
    "\n",
    "Pueden existir varias formas de resolver los problemas propuestos, y algunas de ellas se presentan a continuación.\n",
    "\n",
    "Para imprimir la frase \"Escuela de Datos de Alura\", usamos la función print y colocamos el texto entre comillas simples dentro de los paréntesis:"
   ]
  },
  {
   "cell_type": "code",
   "execution_count": 32,
   "metadata": {},
   "outputs": [
    {
     "name": "stdout",
     "output_type": "stream",
     "text": [
      "Escuela de Datos de Alura\n"
     ]
    }
   ],
   "source": [
    "print('Escuela de Datos de Alura')"
   ]
  },
  {
   "cell_type": "markdown",
   "metadata": {},
   "source": [
    "Cuando colocamos dos impresiones (print) en secuencia (una debajo de la otra), podemos obtener un salto de línea. Por lo tanto, el resultado esperado se puede obtener de la siguiente manera:\n",
    "\n",
    "print('Nombre: <tu nombre>')\n",
    "print('Apellido: <tu apellido>')\n",
    "Siguiendo la misma lógica del ejercicio anterior, podemos separar líneas utilizando varias impresiones (print):"
   ]
  },
  {
   "cell_type": "code",
   "execution_count": 33,
   "metadata": {},
   "outputs": [
    {
     "name": "stdout",
     "output_type": "stream",
     "text": [
      "Nombre: Pablo\n",
      "Apellido: Monsalvo\n"
     ]
    }
   ],
   "source": [
    "print('Nombre: Pablo')\n",
    "print('Apellido: Monsalvo')\n"
   ]
  },
  {
   "cell_type": "code",
   "execution_count": 34,
   "metadata": {},
   "outputs": [
    {
     "name": "stdout",
     "output_type": "stream",
     "text": [
      "P\n",
      "a\n",
      "b\n",
      "l\n",
      "o\n"
     ]
    }
   ],
   "source": [
    "print('P')\n",
    "print('a')\n",
    "print('b')\n",
    "print('l')\n",
    "print('o')\n"
   ]
  },
  {
   "cell_type": "markdown",
   "metadata": {},
   "source": [
    "Podemos combinar datos numéricos y textuales separándolos por comas. Así, podemos imprimir el día 28, seguido de una coma, luego el mes entre comillas 'febrero', otra coma y, finalmente, el año en formato numérico 2003:"
   ]
  },
  {
   "cell_type": "code",
   "execution_count": 35,
   "metadata": {},
   "outputs": [
    {
     "name": "stdout",
     "output_type": "stream",
     "text": [
      "7 junio 2025\n"
     ]
    }
   ],
   "source": [
    "print(7, 'junio', 2025)"
   ]
  },
  {
   "cell_type": "markdown",
   "metadata": {},
   "source": [
    "Con el mismo razonamiento que en la pregunta anterior, es posible imprimir datos numéricos y textuales separándolos por comas. De esta manera, podemos imprimir la frase 'Año actual:' y el año actual dentro de la función print, separándolos por una coma. Suponiendo que estemos tomando este curso en el año 2023, la solución sería la siguiente:"
   ]
  },
  {
   "cell_type": "code",
   "execution_count": 36,
   "metadata": {},
   "outputs": [
    {
     "name": "stdout",
     "output_type": "stream",
     "text": [
      "Año actual:  2025\n"
     ]
    }
   ],
   "source": [
    "print('Año actual: ', 2025)"
   ]
  },
  {
   "cell_type": "markdown",
   "metadata": {},
   "source": [
    "Es importante practicar para consolidar el contenido, desarrollar habilidades de codificación, identificar puntos que aún no se comprenden, prepararse para desafíos futuros y desarrollar el pensamiento lógico y la resolución de problemas.\n",
    "\n",
    "Por lo tanto, es importante realizar muchos ejercicios cuando se está aprendiendo un nuevo lenguaje de programación. Así que busca practicar a través de los ejercicios propuestos y observa cómo te pueden ayudar a mejorar tus habilidades de codificación.\n",
    "\n"
   ]
  },
  {
   "cell_type": "markdown",
   "metadata": {},
   "source": [
    "## 09 - Lo que aprendimos\n",
    "\n",
    "\n",
    "Lo que aprendimos en esta aula:\n",
    "\n",
    "* Utilizar Google Colab para proyectos en Python.\n",
    "* Aplicar la función print para imprimir resultados en la pantalla.\n",
    "* Comprender qué es Python y conocer su historia.\n",
    "\n",
    "-------------"
   ]
  },
  {
   "cell_type": "markdown",
   "metadata": {},
   "source": [
    "## 02 - Manipulando datos en Python"
   ]
  },
  {
   "cell_type": "markdown",
   "metadata": {},
   "source": [
    "### 02 - Variables\n",
    "\n",
    "¡Hola! ¡Claro que sí!\n",
    "\n",
    "En esta lección, se exploran los siguientes temas:\n",
    "\n",
    "Entorno de Ejecución en Colab: Se explica cómo Colab asigna recursos de una máquina virtual para ejecutar Python y la importancia de mantener activo el entorno de ejecución.\n",
    "Variables en Python: Se introduce el concepto de variables como nombres asociados a valores en la memoria. Se explica cómo Python asigna dinámicamente valores a variables y cómo la función id() revela la dirección de un objeto en la memoria.\n",
    "Asignación de Variables: Se demuestra cómo asignar valores a variables utilizando el signo igual (=) y cómo esto crea una referencia al espacio de memoria donde se almacena el valor.\n",
    "Tipos de Nombres de Variables: Se mencionan algunas restricciones para nombrar variables, como no comenzar con números, no usar espacios y evitar palabras reservadas de Python.\n",
    "¿Te gustaría que profundicemos en alguno de estos temas o tienes alguna pregunta específica?"
   ]
  },
  {
   "cell_type": "code",
   "execution_count": 37,
   "metadata": {
    "colab": {
     "base_uri": "https://localhost:8080/"
    },
    "executionInfo": {
     "elapsed": 63,
     "status": "ok",
     "timestamp": 1747928894002,
     "user": {
      "displayName": "Pol Argentino",
      "userId": "02817779166023488471"
     },
     "user_tz": 180
    },
    "id": "8wXnQz8Ord4U",
    "outputId": "6685d4de-78a6-4e45-8eb0-26721b82ec88"
   },
   "outputs": [
    {
     "name": "stdout",
     "output_type": "stream",
     "text": [
      "Mi nombre es Pablo y tengo 44 años y me encanta la ciencia de datos.\n"
     ]
    }
   ],
   "source": [
    "print('Mi nombre es Pablo y tengo 44 años y me encanta la ciencia de datos.')\n"
   ]
  },
  {
   "cell_type": "code",
   "execution_count": 38,
   "metadata": {
    "colab": {
     "base_uri": "https://localhost:8080/"
    },
    "executionInfo": {
     "elapsed": 174,
     "status": "ok",
     "timestamp": 1748288635397,
     "user": {
      "displayName": "Pol Argentino",
      "userId": "02817779166023488471"
     },
     "user_tz": 180
    },
    "id": "p4Y4Tf2frloH",
    "outputId": "399b8128-34c1-4616-d7c5-1b956574a5bb"
   },
   "outputs": [
    {
     "data": {
      "text/plain": [
       "85"
      ]
     },
     "execution_count": 38,
     "metadata": {},
     "output_type": "execute_result"
    }
   ],
   "source": [
    "85"
   ]
  },
  {
   "cell_type": "code",
   "execution_count": 39,
   "metadata": {},
   "outputs": [
    {
     "data": {
      "text/plain": [
       "140101310008176"
      ]
     },
     "execution_count": 39,
     "metadata": {},
     "output_type": "execute_result"
    }
   ],
   "source": [
    "id(85)"
   ]
  },
  {
   "cell_type": "code",
   "execution_count": 1,
   "metadata": {},
   "outputs": [
    {
     "data": {
      "text/plain": [
       "5"
      ]
     },
     "execution_count": 1,
     "metadata": {},
     "output_type": "execute_result"
    }
   ],
   "source": [
    "5"
   ]
  },
  {
   "cell_type": "code",
   "execution_count": 2,
   "metadata": {},
   "outputs": [
    {
     "data": {
      "text/plain": [
       "140678064505200"
      ]
     },
     "execution_count": 2,
     "metadata": {},
     "output_type": "execute_result"
    }
   ],
   "source": [
    "id(5)"
   ]
  },
  {
   "cell_type": "code",
   "execution_count": 3,
   "metadata": {},
   "outputs": [],
   "source": [
    "edad = 5"
   ]
  },
  {
   "cell_type": "code",
   "execution_count": 4,
   "metadata": {},
   "outputs": [
    {
     "name": "stdout",
     "output_type": "stream",
     "text": [
      "140678064505200\n",
      "140678064505200\n"
     ]
    }
   ],
   "source": [
    "print(id(edad))\n",
    "print(id(5))"
   ]
  },
  {
   "cell_type": "code",
   "execution_count": 5,
   "metadata": {},
   "outputs": [],
   "source": [
    "numerocinco = 5"
   ]
  },
  {
   "cell_type": "code",
   "execution_count": 6,
   "metadata": {},
   "outputs": [
    {
     "data": {
      "text/plain": [
       "140678064505200"
      ]
     },
     "execution_count": 6,
     "metadata": {},
     "output_type": "execute_result"
    }
   ],
   "source": [
    "id(numerocinco)"
   ]
  },
  {
   "cell_type": "code",
   "execution_count": 7,
   "metadata": {},
   "outputs": [],
   "source": [
    "nombre = 'Gabriel'"
   ]
  },
  {
   "cell_type": "code",
   "execution_count": 8,
   "metadata": {},
   "outputs": [
    {
     "data": {
      "text/plain": [
       "140677736270512"
      ]
     },
     "execution_count": 8,
     "metadata": {},
     "output_type": "execute_result"
    }
   ],
   "source": [
    "id('Gabriel')"
   ]
  },
  {
   "cell_type": "code",
   "execution_count": 9,
   "metadata": {},
   "outputs": [
    {
     "data": {
      "text/plain": [
       "140677736270512"
      ]
     },
     "execution_count": 9,
     "metadata": {},
     "output_type": "execute_result"
    }
   ],
   "source": [
    "id(nombre)"
   ]
  },
  {
   "cell_type": "markdown",
   "metadata": {},
   "source": [
    "Existen algunos tipos de nomes que **no** podemos definir para las variables:\n",
    "\n",
    "- **Nombres que comiencen con números**\n",
    "  - Ejemplos: `10_notas`, `2_nombre_casa`, etc.\n",
    "- **Palabras separadas por espacio**\n",
    "  - Ejemplos: `Nombre escuela`, `notas estudiantes`, etc.\n",
    "- **Nombres de funciones de Python**\n",
    "  - Ejemplos: `print`, `type`, etc."
   ]
  },
  {
   "cell_type": "markdown",
   "metadata": {},
   "source": [
    "> Las letras mayúsculas y minúsculas generarán diferentes variables. La variable `edad` es diferente de `Edad` que a su vez es diferente de `EDAD`:\n",
    "``` Python\n",
    "edad = 1\n",
    "Edad = 2\n",
    "EDAD = 3\n",
    "_edad = 4\n",
    "_edad_ = 5\n",
    "print(edad, Edad, EDAD, _edad, _edad_)\n",
    "1 2 3 4 5\n",
    "```"
   ]
  },
  {
   "cell_type": "markdown",
   "metadata": {},
   "source": [
    "## 03 - Para saber más: comentarios\n",
    "\n",
    "A veces, cuando estamos programando, necesitamos describir alguna etapa, función o estructura dentro del propio código. Esta descripción debe darse como una anotación y, por lo tanto, no se considera código que se interprete en el entorno. Para estas situaciones, existen los comentarios.\n",
    "\n",
    "Los comentarios son líneas de texto que se pueden colocar dentro del código y que son ignoradas por el intérprete. Por eso, sirven para explicar el funcionamiento del código a otras personas o incluso a la persona que programa. Son importantes para documentar el código, describiendo lo que hace y para qué sirve cada función, estructura o método. Esto puede hacer que el código sea más legible y fácil de entender.\n",
    "\n",
    "Podemos construir dos tipos de comentarios en Python, de una y varias líneas.\n",
    "\n",
    "### Comentarios de una línea:\n",
    "\n",
    "Estos comentarios se hacen agregando un símbolo de almohadilla/numeral (#) al principio de una línea de código. Todo lo que venga después del símbolo # en una línea se considerará un comentario, como se puede ver en el código a continuación:"
   ]
  },
  {
   "cell_type": "code",
   "execution_count": 40,
   "metadata": {},
   "outputs": [
    {
     "name": "stdout",
     "output_type": "stream",
     "text": [
      "10\n"
     ]
    }
   ],
   "source": [
    "# Este es un comentario de una línea\n",
    "print(10) # Podemos colocar otro comentario en una línea después de un código"
   ]
  },
  {
   "cell_type": "markdown",
   "metadata": {},
   "source": [
    "Puedes ejecutar el código anterior en tu cuaderno y verás que todo el texto después del símbolo # se ignora durante la ejecución.\n",
    "\n",
    "### Comentarios de varias líneas:\n",
    "\n",
    "Los comentarios de varias líneas se hacen usando un conjunto de comillas triples: ''' o \"\"\". Todo lo que esté entre estas comillas triples se considerará un comentario, incluso si abarca varias líneas. Por ejemplo:"
   ]
  },
  {
   "cell_type": "code",
   "execution_count": 41,
   "metadata": {},
   "outputs": [
    {
     "data": {
      "text/plain": [
       "'\\nEste es un comentario\\nde varias líneas.\\n'"
      ]
     },
     "execution_count": 41,
     "metadata": {},
     "output_type": "execute_result"
    }
   ],
   "source": [
    "'''\n",
    "Este es un comentario\n",
    "de varias líneas.\n",
    "'''"
   ]
  },
  {
   "cell_type": "markdown",
   "metadata": {},
   "source": [
    "Mientras el texto esté dentro de las comillas, se ignorará durante la ejecución, ya sea en una línea de código o en cualquier otro texto. A pesar de estas formas de comentar el código, cuando trabajamos con un cuaderno de Python, tenemos la opción de crear celdas de texto en formato markdown.\n",
    "\n",
    "### Markdown:\n",
    "\n",
    "Markdown es una forma de formato de texto que permite escribir de manera simple y fácil de leer. Permite agregar formato al texto sin necesidad de escribir código HTML u otro lenguaje de formato más complejo.\n",
    "\n",
    "Con markdown, podemos formatear el texto para agregar negritas, cursivas, listas, encabezados, etc. Además, es una excelente opción para documentar el código describiendo lo que hemos hecho, analizando los resultados y proporcionando pasos futuros. En Ciencia de Datos, se hace un amplio uso de textos en markdown, ya que facilita en gran medida la documentación en cuadernos.\n",
    "\n",
    "Para crear una celda de texto en Google Colab, puedes hacer clic en el botón + Texto debajo de la barra superior de botones de Colab, como se muestra en la imagen a continuación:"
   ]
  },
  {
   "cell_type": "markdown",
   "metadata": {},
   "source": [
    "![google-colab-2.jpg](/home/pol/Escritorio/ipynb-alura/assets/google-colab-2.jpg)"
   ]
  },
  {
   "cell_type": "markdown",
   "metadata": {},
   "source": [
    "Al crear la celda de texto, puedes agregar el contenido que desees. El cuaderno de este curso está lleno de celdas de texto que explican varios aspectos de la programación en Python, todas formateadas con markdown. A continuación, te damos algunos consejos para construir texto con markdown:\n",
    "\n",
    "### Encabezados:\n",
    "\n",
    "Para construir encabezados, puedes usar el símbolo # antes del texto. Cuantos más símbolos # uses, menor será el nivel del encabezado. Por ejemplo:\n",
    "\n"
   ]
  },
  {
   "cell_type": "code",
   "execution_count": 42,
   "metadata": {},
   "outputs": [],
   "source": [
    "# Encabezado de nivel 1\n",
    "## Encabezado de nivel 2\n",
    "### Encabezado de nivel 3"
   ]
  },
  {
   "cell_type": "markdown",
   "metadata": {},
   "source": [
    "# Encabezado de nivel 1\n",
    "## Encabezado de nivel 2\n",
    "### Encabezado de nivel 3"
   ]
  },
  {
   "cell_type": "markdown",
   "metadata": {},
   "source": [
    "### Negritas e itálicas:\n",
    "\n",
    "Para formatear el texto en negritas, puedes usar ** antes y después del texto, como en el ejemplo:\n",
    "\n",
    " ** Texto en negrita ** \n",
    "\n",
    " **Texto en negrita**\n",
    "\n"
   ]
  },
  {
   "cell_type": "markdown",
   "metadata": {},
   "source": [
    "Para formatear el texto en cursiva, utiliza * antes y después del texto. Por ejemplo:\n",
    "\n",
    "*Texto en cursiva *\n",
    "\n",
    "*Texto en cursiva*"
   ]
  },
  {
   "cell_type": "markdown",
   "metadata": {},
   "source": [
    "También puedes combinar ambas formas de escritura agrupando las dos estructuras con ** y *. Por ejemplo:\n",
    "\n",
    "*** Texto en negritas y cursiva ***\n",
    "\n",
    "***Texto en negrita y cursiva***"
   ]
  },
  {
   "cell_type": "markdown",
   "metadata": {},
   "source": [
    "### Listas:\n",
    "\n",
    "Para crear listas no numeradas (con viñetas), coloca * y luego un espacio * antes del elemento, como en el ejemplo:\n",
    "\n",
    "* Elemento 1\n",
    "* Elemento 2\n",
    "* Elemento 3"
   ]
  },
  {
   "cell_type": "markdown",
   "metadata": {},
   "source": [
    "Para crear listas numeradas, puedes usar un número seguido de un punto y un espacio 1. antes del elemento, como en el ejemplo:\n",
    "\n",
    "1. Elemento 1\n",
    "2. Elemento 2\n",
    "3. Elemento 3"
   ]
  },
  {
   "cell_type": "markdown",
   "metadata": {},
   "source": [
    "### Enlaces:\n",
    "\n",
    "Para crear enlaces, a continuación, tienes un ejemplo con el enlace al sitio web de Alura:\n",
    "\n",
    "[Página de Alura](https://www.aluracursos.com/)\n",
    "\n",
    "Estos son ejemplos más comunes de uso de markdown, pero existen muchas otras formas y recursos disponibles para que domines el lenguaje de marcación."
   ]
  },
  {
   "cell_type": "markdown",
   "metadata": {},
   "source": [
    "## 04 - Tipos de variables\n",
    "\n",
    "¡Hola! En esta clase, aprendimos sobre los diferentes tipos de variables en Python:\n",
    "\n",
    "* Enteros (int): Números enteros como 5 o 11.\n",
    "* Flotantes (float): Números decimales como 9.5 o 9.75.\n",
    "* Cadenas (string): Textos como \"Penelope Camacho\".\n",
    "* Booleanos (bool): Valores de verdad como True o False.\n",
    "También aprendimos a declarar variables en Python y a usar la función type() para verificar el tipo de una variable.\n",
    "\n",
    "Finalmente, vimos cómo usar estos tipos de variables para guardar información de un estudiante, como su nombre, edad, promedio y situación académica.\n",
    "\n",
    "¿Te gustaría que repasemos algún punto en particular o que veamos algunos ejemplos adicionales?\n"
   ]
  },
  {
   "cell_type": "code",
   "execution_count": 10,
   "metadata": {},
   "outputs": [],
   "source": [
    "edad = 5"
   ]
  },
  {
   "cell_type": "code",
   "execution_count": 11,
   "metadata": {},
   "outputs": [
    {
     "data": {
      "text/plain": [
       "int"
      ]
     },
     "execution_count": 11,
     "metadata": {},
     "output_type": "execute_result"
    }
   ],
   "source": [
    "type(edad)"
   ]
  },
  {
   "cell_type": "code",
   "execution_count": 12,
   "metadata": {},
   "outputs": [
    {
     "data": {
      "text/plain": [
       "float"
      ]
     },
     "execution_count": 12,
     "metadata": {},
     "output_type": "execute_result"
    }
   ],
   "source": [
    "promedio = 9.5\n",
    "type(promedio)"
   ]
  },
  {
   "cell_type": "code",
   "execution_count": 13,
   "metadata": {},
   "outputs": [
    {
     "data": {
      "text/plain": [
       "str"
      ]
     },
     "execution_count": 13,
     "metadata": {},
     "output_type": "execute_result"
    }
   ],
   "source": [
    "nombre = \"Álvaro\"\n",
    "type('Álvaro')"
   ]
  },
  {
   "cell_type": "code",
   "execution_count": 14,
   "metadata": {},
   "outputs": [
    {
     "data": {
      "text/plain": [
       "bool"
      ]
     },
     "execution_count": 14,
     "metadata": {},
     "output_type": "execute_result"
    }
   ],
   "source": [
    "v = True\n",
    "type(v)"
   ]
  },
  {
   "cell_type": "markdown",
   "metadata": {},
   "source": [
    "En un conjunto de datos escolares podemos tener varios tipos de informaciones. Supongamos que tenemos acceso a la ficha de datos del alumno *Penélope Camacho*, cómo transformamos este nombre en variables de Python?\n",
    "\n",
    "#### Ficha:\n",
    "\n",
    "- Nombre: Penélope Camacho\n",
    "- Edad: 11 años\n",
    "- Promedio del semestre: 9,75\n",
    "- Situación de aprobación: Verdadera (aprobado)"
   ]
  },
  {
   "cell_type": "code",
   "execution_count": 15,
   "metadata": {},
   "outputs": [
    {
     "name": "stdout",
     "output_type": "stream",
     "text": [
      "Penélope Camacho 11 9.75 True\n",
      "<class 'str'> <class 'int'> <class 'float'> <class 'bool'>\n"
     ]
    }
   ],
   "source": [
    "nombre_estudiante = 'Penélope Camacho'\n",
    "edad_estudiante = 11\n",
    "promedio_estudiante = 9.75\n",
    "aprobado = True\n",
    "\n",
    "print(nombre_estudiante,edad_estudiante,promedio_estudiante,aprobado)\n",
    "print(type(nombre_estudiante),type(edad_estudiante),type(promedio_estudiante),type(aprobado))"
   ]
  },
  {
   "cell_type": "markdown",
   "metadata": {},
   "source": [
    "## 05 - Variables numéricas\n",
    "\n",
    "Entre los tipos de datos numéricos vamos a enfocarnos en los tipos `entero` y `float`.\n",
    "\n",
    "\n"
   ]
  },
  {
   "cell_type": "markdown",
   "metadata": {},
   "source": [
    "Tenemos una tabla de información sobre los diversos cargos, cantidad de personas empleadas y el salario correspondiente:\n",
    "\n",
    "|Cargo | Cantidad | Salario|\n",
    "|---|---|---|\n",
    "|Vigilante | 5 | 300 |\n",
    "|Docente | 16| 500|\n",
    "|Coordinador| 2 |600|\n",
    "\n",
    "Necesitamos trabajar con estos datos para obtener:\n",
    "\n",
    "- La cantidad total de empleados;\n",
    "- La diferencia entre el salario más bajo y más alto; y\n",
    "- El promedio ponderado de los salarios de los empleados de la escuela."
   ]
  },
  {
   "cell_type": "code",
   "execution_count": 19,
   "metadata": {},
   "outputs": [],
   "source": [
    "c_vigilante = 5\n",
    "s_vigilante = 300\n",
    "\n",
    "c_docente = 16\n",
    "s_docente = 500\n",
    "\n",
    "c_coordinador = 2\n",
    "s_coordinador = 600\n"
   ]
  },
  {
   "cell_type": "code",
   "execution_count": 17,
   "metadata": {},
   "outputs": [
    {
     "data": {
      "text/plain": [
       "23"
      ]
     },
     "execution_count": 17,
     "metadata": {},
     "output_type": "execute_result"
    }
   ],
   "source": [
    "total_empleados = c_vigilante + c_docente + c_coordinador\n",
    "total_empleados"
   ]
  },
  {
   "cell_type": "code",
   "execution_count": 21,
   "metadata": {},
   "outputs": [
    {
     "data": {
      "text/plain": [
       "300"
      ]
     },
     "execution_count": 21,
     "metadata": {},
     "output_type": "execute_result"
    }
   ],
   "source": [
    "diferencia_salario = s_coordinador - s_vigilante\n",
    "diferencia_salario"
   ]
  },
  {
   "cell_type": "code",
   "execution_count": 22,
   "metadata": {},
   "outputs": [
    {
     "data": {
      "text/plain": [
       "465.2173913043478"
      ]
     },
     "execution_count": 22,
     "metadata": {},
     "output_type": "execute_result"
    }
   ],
   "source": [
    "promedio_salarios = (c_vigilante * s_vigilante + c_docente * s_docente\n",
    "                     + c_coordinador * s_coordinador) / total_empleados\n",
    "promedio_salarios"
   ]
  },
  {
   "cell_type": "code",
   "execution_count": 23,
   "metadata": {},
   "outputs": [
    {
     "data": {
      "text/plain": [
       "float"
      ]
     },
     "execution_count": 23,
     "metadata": {},
     "output_type": "execute_result"
    }
   ],
   "source": [
    "type(promedio_salarios)"
   ]
  },
  {
   "cell_type": "markdown",
   "metadata": {},
   "source": [
    "##  06 Para saber más: ¿Qué es la documentación?\n",
    "\n",
    "La documentación de cualquier lenguaje funciona como un conjunto de guías escritas para ayudar a los desarrolladores a comprender y utilizar un lenguaje de programación. Pueden encontrarse en sitios web creados por el equipo que desarrolló ese lenguaje. Como se mencionó en clase, podemos encontrar la documentación de Python en (https://www.python.org)\n",
    "\n",
    "Estas documentaciones suelen incluir información sobre sintaxis y estructuras, bibliotecas y herramientas disponibles, funciones, ejemplos de código y otros puntos útiles para ayudar a escribir código eficiente y correcto. Se trata de un recurso valioso tanto para quienes están aprendiendo un nuevo lenguaje de programación como para personas experimentadas que buscan información específica para su código.\n",
    "\n",
    "Un detalle a tener en cuenta es que la mayoría de las documentaciones están escritas en inglés, lo que puede dificultar para alguien que no tiene un gran conocimiento de ese idioma. Sin embargo, normalmente hay soporte para la traducción al español a través del traductor del navegador.\n",
    "\n",
    "\n"
   ]
  },
  {
   "cell_type": "markdown",
   "metadata": {},
   "source": [
    "##  07 ¿Para qué usar la función type()?\n",
    "\n",
    "La función type() de Python se puede utilizar para verificar los tipos de datos de una variable, lo que puede ser muy útil en Data Science para asegurarse de que los datos se procesen correctamente y para identificar posibles errores. Sabiendo esto, marca la alternativa que indica un ejemplo de uso de la función type.\n",
    "\n",
    "La función type() puede ser útil para verificar el tipo de dato de una variable y determinar la mejor forma de manipular o procesar los datos. Para trabajar con estadísticas en datos financieros, por ejemplo, podemos verificar si los datos que tenemos son valores numéricos utilizando type.\n",
    "\n",
    "\n",
    "Esta función devuelve una clase que representa el tipo del objeto pasado como argumento. De esta manera, podemos usar type para comprender el tipo de dato que tenemos y ajustarlo según las necesidades de un análisis."
   ]
  },
  {
   "cell_type": "markdown",
   "metadata": {},
   "source": [
    "## 08 Variables de texto\n",
    "\n",
    "¡Hola! En esta clase, aprendimos sobre la manipulación de cadenas de texto (strings) en Python. Aquí tienes un resumen de los puntos clave:\n",
    "\n",
    "* 1-Creación de strings: Las strings se crean asignando un texto a una variable utilizando comillas simples o dobles.\n",
    "* 2-Métodos de strings: Los objetos string tienen métodos que permiten manipular y cambiar el formato del texto. La sintaxis para usar estos métodos es objeto.método().\n",
    "* 3-Métodos comunes:\n",
    "* .upper(): Convierte la string a mayúsculas.\n",
    "* .lower(): Convierte la string a minúsculas.\n",
    "* .strip(): Elimina los espacios en blanco al principio y al final de la string.\n",
    "* .replace(valor_antiguo, valor_nuevo): Sustituye todas las ocurrencias del texto antiguo por el nuevo.\n",
    "\n",
    "* 4-Almacenamiento de cambios: Es importante almacenar las transformaciones en una variable para que los cambios se guarden. Si no se hace, el texto original permanece inalterado.\n",
    "* 5-IDs de variables: Cada variable ocupa un espacio de memoria con un ID único. Al modificar una variable y reasignarla, puede que ocupe un nuevo espacio de memoria.\n",
    "* 6-Recolector de basura: Python tiene un recolector de basura que libera la memoria que ya no se está utilizando.\n",
    "Espero que este resumen te sea útil. ¿Hay algo más en lo que te pueda ayudar o alguna otra pregunta que tengas sobre este tema?"
   ]
  },
  {
   "cell_type": "markdown",
   "metadata": {},
   "source": [
    "## 09 - Strings\n",
    "\n",
    "Strings hace referencia a un conjunto de caracteres formando un texto.\n",
    "\n",
    "Podemos crear Strings cuando atribuimos un dato a una variable entre comillas sencillas (`'`) o comillas dobles (`\"`)."
   ]
  },
  {
   "cell_type": "code",
   "execution_count": 24,
   "metadata": {},
   "outputs": [
    {
     "data": {
      "text/plain": [
       "str"
      ]
     },
     "execution_count": 24,
     "metadata": {},
     "output_type": "execute_result"
    }
   ],
   "source": [
    "t = 'Alura'\n",
    "type(t)"
   ]
  },
  {
   "cell_type": "markdown",
   "metadata": {},
   "source": [
    "Las variables textuales son objetos que poseen métodos que nos ayudan a formatear strings. Los métodos los podemos ejecutar al definir un objeto de acuerdo con la siguiente estructura:\n",
    "\n",
    "```\n",
    "objeto.metodo()\n",
    "```\n",
    "\n",
    "Existen métodos que no necesitan los `()`, siempre es una buena práctica verificar la documentación para cada caso.\n",
    "\n",
    "----"
   ]
  },
  {
   "cell_type": "markdown",
   "metadata": {},
   "source": [
    "**Situación:**\n",
    "\n",
    "Recibimos una variable con el nombre de una profesora de la escuela para añadirla a los registros. Sin embargo, necesitamos darle un tratamiento a este texto antes de insertarlo al sistema."
   ]
  },
  {
   "cell_type": "code",
   "execution_count": 25,
   "metadata": {},
   "outputs": [
    {
     "data": {
      "text/plain": [
       "140678019964864"
      ]
     },
     "execution_count": 25,
     "metadata": {},
     "output_type": "execute_result"
    }
   ],
   "source": [
    "texto = '  Micaela de los Sanyos '\n",
    "id(texto)"
   ]
  },
  {
   "cell_type": "markdown",
   "metadata": {},
   "source": [
    "El objetivo final es que el nombre aparezca de la siguiente forma:\n",
    "\n",
    "```\n",
    "'MICAELA DE LOS SANTOS'"
   ]
  },
  {
   "cell_type": "markdown",
   "metadata": {},
   "source": [
    "### [`str.upper()` ](https://docs.python.org/3/library/stdtypes.html#str.upper)\n",
    "Convierte una string a mayúsculas."
   ]
  },
  {
   "cell_type": "code",
   "execution_count": 26,
   "metadata": {},
   "outputs": [
    {
     "data": {
      "text/plain": [
       "'  MICAELA DE LOS SANYOS '"
      ]
     },
     "execution_count": 26,
     "metadata": {},
     "output_type": "execute_result"
    }
   ],
   "source": [
    "texto.upper()"
   ]
  },
  {
   "cell_type": "markdown",
   "metadata": {},
   "source": [
    "### [`str.lower()`](https://docs.python.org/3/library/stdtypes.html#str.lower)\n",
    "Convierte una string a minúsculas."
   ]
  },
  {
   "cell_type": "code",
   "execution_count": 27,
   "metadata": {},
   "outputs": [
    {
     "data": {
      "text/plain": [
       "'  micaela de los sanyos '"
      ]
     },
     "execution_count": 27,
     "metadata": {},
     "output_type": "execute_result"
    }
   ],
   "source": [
    "texto.lower()"
   ]
  },
  {
   "cell_type": "markdown",
   "metadata": {},
   "source": [
    "### [`str.strip()`](https://docs.python.org/3/library/stdtypes.html#str.strip)\n",
    "Elimina los espacios en blanco al inicio y al final de una string."
   ]
  },
  {
   "cell_type": "code",
   "execution_count": 28,
   "metadata": {},
   "outputs": [
    {
     "data": {
      "text/plain": [
       "'Micaela de los Sanyos'"
      ]
     },
     "execution_count": 28,
     "metadata": {},
     "output_type": "execute_result"
    }
   ],
   "source": [
    "texto.strip()"
   ]
  },
  {
   "cell_type": "markdown",
   "metadata": {},
   "source": [
    "### [`str.replace(antiguo, nuevo)`](https://docs.python.org/3/library/stdtypes.html#str.replace)\n",
    "\n",
    "Sustituye todas las ocurrencias del texto \"antiguo\" en la string por el  \"nuevo\"."
   ]
  },
  {
   "cell_type": "code",
   "execution_count": 29,
   "metadata": {},
   "outputs": [
    {
     "data": {
      "text/plain": [
       "'  Micaela de los Santos '"
      ]
     },
     "execution_count": 29,
     "metadata": {},
     "output_type": "execute_result"
    }
   ],
   "source": [
    "texto.replace('y','t')"
   ]
  },
  {
   "cell_type": "markdown",
   "metadata": {},
   "source": [
    "### Observaciones\n",
    "\n",
    "1. Los métodos devuelven una **tranformación**, no son ejecutados directamente sobre la variable donde está almacenado el texto.\n",
    "\n",
    "2. Adicionalmente, podemos acumular la ejecución de los métodos."
   ]
  },
  {
   "cell_type": "code",
   "execution_count": 30,
   "metadata": {},
   "outputs": [
    {
     "data": {
      "text/plain": [
       "'  Micaela de los Sanyos '"
      ]
     },
     "execution_count": 30,
     "metadata": {},
     "output_type": "execute_result"
    }
   ],
   "source": [
    "texto"
   ]
  },
  {
   "cell_type": "code",
   "execution_count": 31,
   "metadata": {},
   "outputs": [
    {
     "data": {
      "text/plain": [
       "140678019964864"
      ]
     },
     "execution_count": 31,
     "metadata": {},
     "output_type": "execute_result"
    }
   ],
   "source": [
    "id(texto)"
   ]
  },
  {
   "cell_type": "markdown",
   "metadata": {},
   "source": [
    "Para que la transformación se pueda ejecutar debemos atribuir la salida de las transformaciones a las variables"
   ]
  },
  {
   "cell_type": "code",
   "execution_count": 32,
   "metadata": {},
   "outputs": [
    {
     "name": "stdout",
     "output_type": "stream",
     "text": [
      "MICAELA DE LOS SANTOS\n",
      "140678019964864 140677721897072\n"
     ]
    }
   ],
   "source": [
    "nuevo_texto = texto.strip().replace('y','t').upper()\n",
    "print(nuevo_texto)\n",
    "print(id(texto), id(nuevo_texto))"
   ]
  },
  {
   "cell_type": "code",
   "execution_count": 33,
   "metadata": {},
   "outputs": [
    {
     "name": "stdout",
     "output_type": "stream",
     "text": [
      "MICAELA DE LOS SANTOS\n",
      "140677721897472 140677721897072\n"
     ]
    }
   ],
   "source": [
    "texto = texto.strip().replace('y','t').upper()\n",
    "print(texto)\n",
    "print(id(texto), id(nuevo_texto))"
   ]
  },
  {
   "cell_type": "markdown",
   "metadata": {},
   "source": [
    "## 10 - Capturando datos\n",
    "\n",
    "En algunas aplicaciones necesitamos capturar los valores del usuario de nuestro proyecto. En python, logramos capturar los datos del usuario a través del comando [`input()`](https://docs.python.org/3/library/functions.html#input).\n",
    "\n",
    "Para ejecutar la captura debemos atribuir el resultado de esta función a una variable."
   ]
  },
  {
   "cell_type": "code",
   "execution_count": 48,
   "metadata": {},
   "outputs": [],
   "source": [
    "nombre = input(\"Escribe tu nombre: \")"
   ]
  },
  {
   "cell_type": "code",
   "execution_count": 49,
   "metadata": {},
   "outputs": [
    {
     "data": {
      "text/plain": [
       "'pol'"
      ]
     },
     "execution_count": 49,
     "metadata": {},
     "output_type": "execute_result"
    }
   ],
   "source": [
    "nombre"
   ]
  },
  {
   "cell_type": "code",
   "execution_count": 40,
   "metadata": {},
   "outputs": [
    {
     "data": {
      "text/plain": [
       "str"
      ]
     },
     "execution_count": 40,
     "metadata": {},
     "output_type": "execute_result"
    }
   ],
   "source": [
    "type(nombre)"
   ]
  },
  {
   "cell_type": "markdown",
   "metadata": {},
   "source": [
    "La salida de este comando siempre será una *string*. Esto quiere decir que aunque capturemos un valor de variable numérica, este será de tipo string.\n",
    "\n",
    "Entonces, será necesario **convertir el resultado cuando no se desea utilizar el valor como tipo string**."
   ]
  },
  {
   "cell_type": "markdown",
   "metadata": {},
   "source": [
    "Existen funciones para la conversión de valores:\n",
    "\n",
    "- Enteros: [`int(dato_para_conversion)`](https://docs.python.org/3/library/functions.html#int)\n",
    "- Coma flotante: [`float(dato_para_conversion)`](https://docs.python.org/3/library/functions.html#float)\n",
    "- String: [`str(dato_para_conversion)`](https://docs.python.org/3/library/functions.html#func-str)\n",
    "- Booleano: [`bool(dato_para_conversion)`](https://docs.python.org/3/library/functions.html#bool)"
   ]
  },
  {
   "cell_type": "code",
   "execution_count": 41,
   "metadata": {},
   "outputs": [],
   "source": [
    "año_admision = int(input('Digita el año de admisión: '))"
   ]
  },
  {
   "cell_type": "code",
   "execution_count": 42,
   "metadata": {},
   "outputs": [
    {
     "data": {
      "text/plain": [
       "1981"
      ]
     },
     "execution_count": 42,
     "metadata": {},
     "output_type": "execute_result"
    }
   ],
   "source": [
    "año_admision"
   ]
  },
  {
   "cell_type": "code",
   "execution_count": 43,
   "metadata": {},
   "outputs": [
    {
     "data": {
      "text/plain": [
       "int"
      ]
     },
     "execution_count": 43,
     "metadata": {},
     "output_type": "execute_result"
    }
   ],
   "source": [
    "type(año_admision)"
   ]
  },
  {
   "cell_type": "code",
   "execution_count": 44,
   "metadata": {},
   "outputs": [],
   "source": [
    "nota_admision = float(input('Digita la nota de admisión: '))"
   ]
  },
  {
   "cell_type": "code",
   "execution_count": 45,
   "metadata": {},
   "outputs": [
    {
     "data": {
      "text/plain": [
       "9.9999"
      ]
     },
     "execution_count": 45,
     "metadata": {},
     "output_type": "execute_result"
    }
   ],
   "source": [
    "nota_admision"
   ]
  },
  {
   "cell_type": "code",
   "execution_count": 46,
   "metadata": {},
   "outputs": [
    {
     "data": {
      "text/plain": [
       "float"
      ]
     },
     "execution_count": 46,
     "metadata": {},
     "output_type": "execute_result"
    }
   ],
   "source": [
    "type(nota_admision)"
   ]
  },
  {
   "cell_type": "markdown",
   "metadata": {},
   "source": [
    "Trataremos de representar mejor ahora el resultado de la transformación que obtuvimos. Nosotros podemos formatear y presentar nuestro resultado mezclando strings con valores no textuales.\n",
    "\n",
    "Para ello utilizamos la estructura de formatación `f` con strings."
   ]
  },
  {
   "cell_type": "code",
   "execution_count": 47,
   "metadata": {},
   "outputs": [
    {
     "name": "stdout",
     "output_type": "stream",
     "text": [
      "\tEl año de admisión fue: 1981 \n",
      "\tLa nota de admisión fue: 9.9999\n"
     ]
    }
   ],
   "source": [
    "print(f'\\tEl año de admisión fue: {año_admision} \\n\\tLa nota de admisión fue: {nota_admision}')"
   ]
  },
  {
   "cell_type": "markdown",
   "metadata": {},
   "source": [
    "## 11 - Para saber más: otros operadores\n",
    "\n",
    "Durante las clases, aprendimos a sumar, restar, multiplicar y dividir variables numéricas en Python. Pero también existen otros cálculos matemáticos que se pueden realizar mediante operadores aritméticos, como la exponenciación, el módulo y la división entera.\n",
    "\n",
    "### Exponenciación (**)\n",
    "\n",
    "Podemos elevar un número a una potencia específica utilizando el operador **. Para obtener este resultado, definimos un valor a la izquierda del operador y la potencia deseada del número a la derecha. Por ejemplo, sabemos que 2 elevado a la 3 es igual a 8 (2 * 2 * 2 = 8). Para realizar este cálculo, escribimos:"
   ]
  },
  {
   "cell_type": "code",
   "execution_count": 43,
   "metadata": {},
   "outputs": [
    {
     "data": {
      "text/plain": [
       "8"
      ]
     },
     "execution_count": 43,
     "metadata": {},
     "output_type": "execute_result"
    }
   ],
   "source": [
    "2**3"
   ]
  },
  {
   "cell_type": "markdown",
   "metadata": {},
   "source": [
    "El mismo ejemplo se puede hacer con variables:"
   ]
  },
  {
   "cell_type": "code",
   "execution_count": 44,
   "metadata": {},
   "outputs": [
    {
     "data": {
      "text/plain": [
       "8"
      ]
     },
     "execution_count": 44,
     "metadata": {},
     "output_type": "execute_result"
    }
   ],
   "source": [
    "operador = 2\n",
    "potencia = 3\n",
    "operador ** potencia"
   ]
  },
  {
   "cell_type": "markdown",
   "metadata": {},
   "source": [
    "### Módulo (%)\n",
    "\n",
    "El operador de módulo % puede devolver el residuo de una división entera entre dos números. Recuerda que el residuo de una división es el número que queda cuando la división no es exacta.\n",
    "\n",
    "Para calcular el módulo de una división, colocamos el dividendo a la izquierda del operador % y el divisor a la derecha. Por ejemplo, para encontrar el residuo de la división de 7 entre 3, podemos ejecutar los siguientes códigos:"
   ]
  },
  {
   "cell_type": "code",
   "execution_count": 45,
   "metadata": {},
   "outputs": [
    {
     "data": {
      "text/plain": [
       "1"
      ]
     },
     "execution_count": 45,
     "metadata": {},
     "output_type": "execute_result"
    }
   ],
   "source": [
    "7%3"
   ]
  },
  {
   "cell_type": "markdown",
   "metadata": {},
   "source": [
    "O con variables:"
   ]
  },
  {
   "cell_type": "code",
   "execution_count": 46,
   "metadata": {},
   "outputs": [
    {
     "data": {
      "text/plain": [
       "1"
      ]
     },
     "execution_count": 46,
     "metadata": {},
     "output_type": "execute_result"
    }
   ],
   "source": [
    "dividendo = 7\n",
    "divisor = 3\n",
    "dividendo % divisor"
   ]
  },
  {
   "cell_type": "markdown",
   "metadata": {},
   "source": [
    "### División entera (//)\n",
    "\n",
    "Esta operación devuelve el resultado de la división entera entre dos números, es decir, solo devuelve la parte entera de una división. Por ejemplo, sabemos que la división exacta de 7 por 3 (7/3) resulta en el valor 2.333333.... Si esta fuera una división entera, el resultado sería simplemente 2. La sintaxis consiste en colocar el valor del numerador, el operador // y luego el denominador, como se muestra a continuación:"
   ]
  },
  {
   "cell_type": "code",
   "execution_count": 47,
   "metadata": {},
   "outputs": [
    {
     "data": {
      "text/plain": [
       "2"
      ]
     },
     "execution_count": 47,
     "metadata": {},
     "output_type": "execute_result"
    }
   ],
   "source": [
    "7 // 3"
   ]
  },
  {
   "cell_type": "markdown",
   "metadata": {},
   "source": [
    "El mismo ejemplo se puede hacer con variables:"
   ]
  },
  {
   "cell_type": "code",
   "execution_count": 48,
   "metadata": {},
   "outputs": [
    {
     "data": {
      "text/plain": [
       "2"
      ]
     },
     "execution_count": 48,
     "metadata": {},
     "output_type": "execute_result"
    }
   ],
   "source": [
    "numerador = 7\n",
    "denominador = 3\n",
    "numerador // denominador"
   ]
  },
  {
   "cell_type": "markdown",
   "metadata": {},
   "source": [
    "##  12 - Para saber más: tabla unicode\n",
    "\n",
    "Python es un lenguaje de programación caracterizado por el uso del estándar Unicode de caracteres. Este estándar permite que desarrolladores de todo el mundo trabajen con textos y caracteres en diferentes idiomas de manera muy sencilla, sin preocuparse por problemas de compatibilidad.\n",
    "\n",
    "Esto fue posible gracias al desarrollo de la tabla Unicode, una tabla de codificación de caracteres que asocia códigos numéricos con caracteres específicos. Su objetivo era incluir caracteres de todos los idiomas y sistemas de escritura existentes en el mundo. Hasta la versión 15.0, el estándar ya agrupa más de 140,000 caracteres, que incluyen letras, números, símbolos y emojis. Puedes ver las estadísticas de cada versión y la cantidad de caracteres por versión en este enlace.(https://www.unicode.org/versions/stats/)\n",
    "\n",
    "Además, Unicode surgió como una alternativa a otras tablas de caracteres, como ASCII, que solo admite caracteres del alfabeto inglés y algunos símbolos. Por lo tanto, es muy importante ya que permite la representación de caracteres de diferentes idiomas (como la \"ç\" en portugués, la \"ñ\" en español o la \"П\" en ruso) y scripts de manera consistente e independiente del dispositivo o plataforma, lo que es fundamental para la globalización y la representación precisa de textos en diferentes idiomas.\n",
    "\n",
    "Es importante recordar que la tabla Unicode se actualiza y se expande constantemente, incluyendo nuevos caracteres y scripts. Esto asegura que siga siendo relevante y útil para admitir la representación de todos los idiomas y sistemas de escritura del mundo. Puedes seguir las actualizaciones en el sitio unicode.org y acceder a las codificaciones de cada carácter de este estándar en la Wikipedia o en documentos oficiales en PDF.\n",
    "\n",
    "Podemos imprimir un elemento de la tabla Unicode en nuestro cuaderno utilizando la función chr, que devuelve una cadena con el carácter especificado. Su sintaxis es la siguiente: chr(número_del_carácter). Por ejemplo, vamos a imprimir el carácter \"@\" con chr(). Según la tabla, sabemos que \"@\" corresponde al número 64, así que lo reprodujimos:"
   ]
  },
  {
   "cell_type": "markdown",
   "metadata": {},
   "source": [
    "Puedes probar todos los ejemplos en tu cuaderno, verificar sus resultados y realizar pruebas modificando los valores."
   ]
  },
  {
   "cell_type": "code",
   "execution_count": 49,
   "metadata": {},
   "outputs": [
    {
     "data": {
      "text/plain": [
       "'@'"
      ]
     },
     "execution_count": 49,
     "metadata": {},
     "output_type": "execute_result"
    }
   ],
   "source": [
    "chr(64)"
   ]
  },
  {
   "cell_type": "markdown",
   "metadata": {},
   "source": [
    "Se pueden probar y observar varias combinaciones de números en las salidas. Siéntete libre de probar varias combinaciones e incluso crear frases.\n",
    "\n",
    "También es posible concatenar cadenas con el operador \"+\". Sabiendo esto, si unimos varios caracteres, podemos formar una palabra. Por ejemplo, vamos a construir la palabra \"Hola\" ('H' + 'o' + 'l' + 'a'):"
   ]
  },
  {
   "cell_type": "code",
   "execution_count": 50,
   "metadata": {},
   "outputs": [
    {
     "data": {
      "text/plain": [
       "'Hola'"
      ]
     },
     "execution_count": 50,
     "metadata": {},
     "output_type": "execute_result"
    }
   ],
   "source": [
    "chr(72) + chr(111) +  chr(108) + chr(97)"
   ]
  },
  {
   "cell_type": "markdown",
   "metadata": {},
   "source": [
    "##  13 - Para saber más: diversos formatos de print()\n",
    "\n",
    "Podemos visualizar el resultado de variables dentro de cadenas de texto, así como imprimir el texto final con un print. Durante la lección, aprendimos a utilizar la f-string (formateo de cadena), en la que colocamos una f antes de crear la cadena y las variables se colocan entre llaves {}. Ejemplo:\n",
    "\n"
   ]
  },
  {
   "cell_type": "code",
   "execution_count": 50,
   "metadata": {},
   "outputs": [
    {
     "name": "stdout",
     "output_type": "stream",
     "text": [
      "El nombre de la alumna es Ana María y su edad es 17 años.\n"
     ]
    }
   ],
   "source": [
    "nombre = \"Ana María\"\n",
    "edad = 17\n",
    "print(f\"El nombre de la alumna es {nombre} y su edad es {edad} años.\")"
   ]
  },
  {
   "cell_type": "markdown",
   "metadata": {},
   "source": [
    "Pero existen otros métodos de formateo, como el uso del operador de formateo de cadena o la función .format().\n",
    "\n",
    "Operador de Formateo:\n",
    "\n",
    "Este operador de formateo permite la inserción de variables en puntos específicos en la cadena de texto utilizando el operador %. Este operador funciona como un marcador, indicando dónde se expondrá el valor de la variable en la cadena.\n",
    "\n",
    "El % debe ir acompañado de una palabra clave para cada tipo de variable que se desee agregar. De acuerdo con la tabla siguiente:"
   ]
  },
  {
   "cell_type": "markdown",
   "metadata": {},
   "source": [
    "* Tipo de Variable\tPalabra Clave\n",
    "* Cadena de texto\t`%s`\n",
    "* Entero\t`%d`\n",
    "* Punto flotante\t`%f`\n",
    "* Caractér\t`%c`\n"
   ]
  },
  {
   "cell_type": "markdown",
   "metadata": {},
   "source": [
    "De esta manera, para insertar una variable, puedes agregar el operador en la cadena en el punto deseado. Luego del final de la cadena, agrega nuevamente el %, especificando la variable entre paréntesis. Podemos ver esta estructura en el ejemplo siguiente:\n",
    "\n"
   ]
  },
  {
   "cell_type": "code",
   "execution_count": 51,
   "metadata": {},
   "outputs": [
    {
     "name": "stdout",
     "output_type": "stream",
     "text": [
      "Nombre del alumno: Penélope Camacho\n"
     ]
    }
   ],
   "source": [
    "nombre_alumno = 'Penélope Camacho'\n",
    "print('Nombre del alumno: %s' %(nombre_alumno))"
   ]
  },
  {
   "cell_type": "markdown",
   "metadata": {},
   "source": [
    "Si tienes más de una variable, debes ordenarlas según su aparición en el texto y separarlas por comas. Por ejemplo:"
   ]
  },
  {
   "cell_type": "code",
   "execution_count": 52,
   "metadata": {},
   "outputs": [
    {
     "name": "stdout",
     "output_type": "stream",
     "text": [
      "Nombre del alumno es Penélope Camacho, tiene 11 años y su media es 9.950000.\n"
     ]
    }
   ],
   "source": [
    "nombre_alumno = 'Penélope Camacho'\n",
    "edad_alumno = 11\n",
    "media_alumno = 9.95\n",
    "print('Nombre del alumno es %s, tiene %d años y su media es %f.' %(nombre_alumno, edad_alumno, media_alumno))"
   ]
  },
  {
   "cell_type": "markdown",
   "metadata": {},
   "source": [
    "Cuando trabajamos con números de coma flotante (float), podemos determinar la cantidad de decimales después del punto utilizando la sintaxis %.xf, donde x es el número de decimales deseados. Utilizando las mismas variables del ejemplo anterior, el código con %.xf se vería así:"
   ]
  },
  {
   "cell_type": "code",
   "execution_count": 53,
   "metadata": {},
   "outputs": [
    {
     "name": "stdout",
     "output_type": "stream",
     "text": [
      "Nombre del alumno es Penélope Camacho, tiene 11 años y su media es 9.95.\n"
     ]
    }
   ],
   "source": [
    "print('Nombre del alumno es %s, tiene %d años y su media es %.2f.' %(nombre_alumno, edad_alumno, media_alumno))"
   ]
  },
  {
   "cell_type": "markdown",
   "metadata": {},
   "source": [
    "Un detalle importante es que los operadores de formateo de cadena con % no funcionan directamente con valores booleanos. Una forma de manejarlo es convirtiendo el valor booleano en una cadena antes de utilizarlo en el formateo con la función str(). Por ejemplo:\n",
    "\n"
   ]
  },
  {
   "cell_type": "code",
   "execution_count": 55,
   "metadata": {},
   "outputs": [
    {
     "name": "stdout",
     "output_type": "stream",
     "text": [
      "Valor de x: True\n"
     ]
    }
   ],
   "source": [
    "x = True\n",
    "print(\"Valor de x: %s\" % str(x))"
   ]
  },
  {
   "cell_type": "markdown",
   "metadata": {},
   "source": [
    "Esto no es un problema con las f-strings o .format.\n",
    "\n",
    "Método .format():\n",
    "\n",
    "También es posible utilizar el método .format() para formatear cadenas. Es más flexible y permite pasar las variables directamente dentro de la cadena, sin necesidad de operadores %. Los marcadores son simplemente {}. Por ejemplo:"
   ]
  },
  {
   "cell_type": "code",
   "execution_count": 56,
   "metadata": {},
   "outputs": [
    {
     "name": "stdout",
     "output_type": "stream",
     "text": [
      "Nombre del alumno: Penélope Camacho\n"
     ]
    }
   ],
   "source": [
    "nombre_alumno = 'Penélope Camacho'\n",
    "print('Nombre del alumno: {}'.format(nombre_alumno))"
   ]
  },
  {
   "cell_type": "markdown",
   "metadata": {},
   "source": [
    "Del mismo modo que se hace con el operador, puedes usarlo con varias variables:"
   ]
  },
  {
   "cell_type": "code",
   "execution_count": 57,
   "metadata": {},
   "outputs": [
    {
     "name": "stdout",
     "output_type": "stream",
     "text": [
      "Nombre del alumno es Fabricio Daniel, tiene 15 años y su media es 9.95.\n"
     ]
    }
   ],
   "source": [
    "nombre_alumno = 'Fabricio Daniel'\n",
    "edad_alumno = 15\n",
    "media_alumno = 9.95\n",
    "print('Nombre del alumno es {}, tiene {} años y su media es {}.' .format(nombre_alumno, edad_alumno, media_alumno))"
   ]
  },
  {
   "cell_type": "markdown",
   "metadata": {},
   "source": [
    "Nota que con .format(), no tienes el problema de los decimales de coma flotante. Tampoco tienes este problema con las f-strings.\n",
    "\n",
    "En resumen, cada uno de estos métodos tiene sus ventajas y desventajas. Se recomienda utilizar f-strings, ya que son más legibles y fáciles de usar. Sin embargo, cada desarrollador puede elegir el método que le parezca más apropiado.\n",
    "\n",
    "* Caracteres Especiales:\n",
    "\n",
    "Además de la formateo de inserción de variables en una cadena, también existen caracteres especiales. Se utilizan para representar acciones especiales o caracteres que no se pueden escribir directamente, como el “Enter” y la tabulación. A continuación, presentamos algunos de ellos. Intenta replicar todos los ejemplos y observa el resultado final.\n",
    "\n",
    "\\n es el carácter de nueva línea y se usa para saltar una línea en el texto (similar a la función \"Enter\"). Ejemplo:"
   ]
  },
  {
   "cell_type": "code",
   "execution_count": 58,
   "metadata": {},
   "outputs": [
    {
     "name": "stdout",
     "output_type": "stream",
     "text": [
      "Estudiar es un esfuerzo constante,\n",
      "Es como cultivar una planta,\n",
      "Necesitamos dedicación y paciencia,\n",
      "Para ver madurar el fruto.\n"
     ]
    }
   ],
   "source": [
    "print(\"Estudiar es un esfuerzo constante,\\nEs como cultivar una planta,\\nNecesitamos dedicación y paciencia,\\nPara ver madurar el fruto.\")"
   ]
  },
  {
   "cell_type": "markdown",
   "metadata": {},
   "source": [
    "\\t es el carácter de tabulación y se utiliza para agregar un espacio de tabulación en el texto. Ejemplo:"
   ]
  },
  {
   "cell_type": "code",
   "execution_count": 59,
   "metadata": {},
   "outputs": [
    {
     "name": "stdout",
     "output_type": "stream",
     "text": [
      "Cantidad\tCalidad\n",
      "5 muestras\tAlta\n",
      "3 muestras\tBaja\n"
     ]
    }
   ],
   "source": [
    "print('Cantidad\\tCalidad\\n5 muestras\\tAlta\\n3 muestras\\tBaja')"
   ]
  },
  {
   "cell_type": "markdown",
   "metadata": {},
   "source": [
    "\\ \\ se usa para imprimir una sola barra invertida. Si no se utiliza una doble barra invertida, el código podría generar un error o un resultado inesperado, ya que Python considera \\ como un carácter especial. Usamos esta sintaxis para garantizar que no ocurran errores. Ejemplo:"
   ]
  },
  {
   "cell_type": "code",
   "execution_count": 60,
   "metadata": {},
   "outputs": [
    {
     "name": "stdout",
     "output_type": "stream",
     "text": [
      "Ruta del archivo: C:\\archivos\\documento.csv\n"
     ]
    }
   ],
   "source": [
    "print(\"Ruta del archivo: C:\\\\archivos\\\\documento.csv\")"
   ]
  },
  {
   "cell_type": "markdown",
   "metadata": {},
   "source": [
    "\\ \" se utiliza para imprimir comillas dobles cuando estamos trabajando con una cadena creada con comillas dobles \" en el interior. Sin embargo, esto no es necesario si la cadena se crea con comillas simples '. Ejemplo:"
   ]
  },
  {
   "cell_type": "code",
   "execution_count": 61,
   "metadata": {},
   "outputs": [
    {
     "name": "stdout",
     "output_type": "stream",
     "text": [
      "Una vez oí: \"Los frutos del conocimiento son los más dulces y duraderos de todos.\"\n"
     ]
    }
   ],
   "source": [
    "print(\"Una vez oí: \\\"Los frutos del conocimiento son los más dulces y duraderos de todos.\\\"\")"
   ]
  },
  {
   "cell_type": "markdown",
   "metadata": {},
   "source": [
    "\\ ' se utiliza para imprimir comillas simples cuando estamos trabajando con una cadena creada con comillas simples '. Si la cadena se crea con comillas dobles \", esto no es necesario. Ejemplo:"
   ]
  },
  {
   "cell_type": "code",
   "execution_count": 62,
   "metadata": {},
   "outputs": [
    {
     "name": "stdout",
     "output_type": "stream",
     "text": [
      "Mi profesora una vez dijo: 'Estudiar es la clave del éxito.'\n"
     ]
    }
   ],
   "source": [
    "print('Mi profesora una vez dijo: \\'Estudiar es la clave del éxito.\\'')"
   ]
  },
  {
   "cell_type": "markdown",
   "metadata": {},
   "source": [
    "## 14 - ¿Qué hace la función input()?\n",
    "\n",
    "Aprendemos otra función de Python llamada input(). Selecciona la alternativa que describe lo que hace esta función y proporciona un ejemplo con su sintaxis.\n",
    "\n",
    "La función input se utiliza para leer las entradas del usuario en formato de cadena (string) y devolver el valor leído. Un ejemplo de uso de esta función es el siguiente código:\n",
    "\n",
    "nombre = input('¿Cuál es tu nombre? ')\n",
    "\n",
    "La función input permite que el usuario introduzca datos en el programa. Su sintaxis es sencilla, ya que escribimos \"input\" seguido de paréntesis (). Dentro de ellos, podemos colocar texto que aparecerá antes de la lectura. Al ejecutar el código de la alternativa, el programa imprimirá el mensaje \"¿Cuál es tu nombre?\" y esperará la entrada del usuario. Cuando el usuario escriba su nombre y presione la tecla Enter, el programa almacenará la entrada en una variable llamada \"nombre\"."
   ]
  },
  {
   "cell_type": "markdown",
   "metadata": {},
   "source": [
    "##  15 - Desafío: ¡Es hora de practicar!\n",
    "\n",
    "Vamos a practicar el uso de varios tipos de variables y la función input a través de algunas actividades. Resuelve los problemas propuestos en código.\n",
    "\n",
    "### Recopilación y muestra de datos\n",
    "\n",
    "* 1 - Crea un programa que solicite al usuario que escriba su nombre y luego imprima \"Hola, [nombre].\"\n",
    "\n",
    "\n",
    "* 2 - Crea un programa que solicite al usuario que escriba su nombre y edad, y luego imprima \"Hola, [nombre], tienes [edad] años.\"\n",
    "\n",
    "* 3 - Crea un programa que solicite al usuario que escriba su nombre, edad y altura en metros, y luego imprima \"Hola, [nombre], tienes [edad] años y mides [altura] metros.\"\n",
    "\n",
    "### Calculadora con operadores\n",
    "\n",
    "* 4 - Crea un programa que solicite dos valores numéricos al usuario y luego imprima la suma de ambos valores.\n",
    "\n",
    "* 5 - Crea un programa que solicite tres valores numéricos al usuario y luego imprima la suma de los tres valores.\n",
    "\n",
    "* 6 - Crea un programa que solicite dos valores numéricos al usuario y luego imprima la resta del primero menos el segundo valor.\n",
    "\n",
    "* 7 - Crea un programa que solicite dos valores numéricos al usuario y luego imprima la multiplicación de los dos valores.\n",
    "\n",
    "* 8 - Crea un programa que solicite dos valores numéricos, un numerador y un denominador, y realice la división entre los dos valores. Asegúrate de que el valor del denominador no sea igual a 0.\n",
    "\n",
    "* 9 - Crea un programa que solicite dos valores numéricos, un operador y una potencia, y realice la exponenciación entre estos dos valores.\n",
    "\n",
    "* 10 - Crea un programa que solicite dos valores numéricos, un numerador y un denominador, y realice la división entera entre los dos valores. Asegúrate de que el valor del denominador no sea igual a 0.\n",
    "\n",
    "* 11 - Crea un programa que solicite dos valores numéricos, un numerador y un denominador, y devuelva el resto de la división entre los dos valores. Asegúrate de que el valor del denominador no sea igual a 0.\n",
    "\n",
    "* 12 - Crea un código que solicite las 3 notas de un estudiante e imprima el promedio de las notas.\n",
    "\n",
    "* 13 - Crea un código que calcule e imprima el promedio ponderado de los números 5, 12, 20 y 15 con pesos respectivamente iguales a 1, 2, 3 y 4.\n",
    "\n",
    "Editando textos\n",
    "\n",
    "* 14 - Crea una variable llamada \"frase\" y asígnale una cadena de texto de tu elección. Luego, imprime la frase en pantalla.\n",
    "\n",
    "* 15 - Crea un código que solicite una frase y luego imprima la frase en pantalla.\n",
    "\n",
    "* 16 - Crea un código que solicite una frase al usuario y luego imprima la misma frase ingresada pero en mayúsculas.\n",
    "\n",
    "* 17 - Crea un código que solicite una frase al usuario y luego imprima la misma frase ingresada pero en minúsculas.\n",
    "\n",
    "* 18 - Crea una variable llamada \"frase\" y asígnale una cadena de texto de tu elección. Luego, imprime la frase sin espacios en blanco al principio y al final.\n",
    "\n",
    "* 19 - Crea un código que solicite una frase al usuario y luego imprima la misma frase sin espacios en blanco al principio y al final.\n",
    "\n",
    "* 20 - Crea un código que solicite una frase al usuario y luego imprima la misma frase sin espacios en blanco al principio y al final, además de convertirla a minúsculas.\n",
    "\n",
    "* 21 - Crea un código que solicite una frase al usuario y luego imprima la misma frase con todas las vocales \"e\" reemplazadas por la letra \"f\".\n",
    "\n",
    "* 22 - Crea un código que solicite una frase al usuario y luego imprima la misma frase con todas las vocales \"a\" reemplazadas por el carácter \"@\".\n",
    "\n",
    "* 23 - Crea un código que solicite una frase al usuario y luego imprima la misma frase con todas las consonantes \"s\" reemplazadas por el carácter \"$\".\n",
    "\n",
    "Si necesitas ayuda, las opciones de solución a las actividades estarán disponibles en la sección \"Opinión del instructor\".\n",
    "\n"
   ]
  },
  {
   "cell_type": "markdown",
   "metadata": {},
   "source": [
    "## Opinión del instructor\n",
    "\n",
    "Pueden existir diversas formas de resolver una cuestión. A continuación, presentaré cómo resolví los problemas, lo que no significa que sean las mejores soluciones, pero son una opción de solución.\n",
    "\n",
    "### Recopilación y muestreo de datos\n",
    "\n",
    "* 1 - Podemos solicitar el nombre con la función input y asignar el resultado de la salida a una variable. A continuación, podemos imprimir el resultado de la variable en la función print usando la formatación f-string."
   ]
  },
  {
   "cell_type": "code",
   "execution_count": 54,
   "metadata": {},
   "outputs": [
    {
     "name": "stdout",
     "output_type": "stream",
     "text": [
      "¡Hola, polito!\n"
     ]
    }
   ],
   "source": [
    "nombre = input('Ingrese su nombre: ')\n",
    "print(f'¡Hola, {nombre}!')"
   ]
  },
  {
   "cell_type": "markdown",
   "metadata": {},
   "source": [
    "* 2 - Podemos solicitar el nombre y la edad con la función input y asignar el resultado de la salida a una variable. En el caso de la edad, es necesaria una conversión de la salida de input a un valor entero con la función int(). A continuación, podemos imprimir el resultado de las recopilaciones en la función print usando la formateación f-string."
   ]
  },
  {
   "cell_type": "code",
   "execution_count": 2,
   "metadata": {},
   "outputs": [
    {
     "name": "stdout",
     "output_type": "stream",
     "text": [
      "¡Hola, pol, tienes 90 años!\n"
     ]
    }
   ],
   "source": [
    "nombre = input('Ingrese su nombre: ')\n",
    "edad = int(input('Ingrese su edad: '))\n",
    "print(f'¡Hola, {nombre}, tienes {edad} años!')"
   ]
  },
  {
   "cell_type": "markdown",
   "metadata": {},
   "source": [
    "* 3 - Podemos solicitar el nombre, la edad y la altura con la función input y asignar el resultado de la salida a una variable. En el caso de la edad, es necesaria una conversión de la salida de input a un valor entero con la función int(). Para la altura, es necesario realizar una conversión al tipo de valor flotante con la función float(). A continuación, podemos imprimir el resultado de las recopilaciones en la función print usando la formateación f-string."
   ]
  },
  {
   "cell_type": "code",
   "execution_count": 65,
   "metadata": {},
   "outputs": [
    {
     "name": "stdout",
     "output_type": "stream",
     "text": [
      "¡Hola, pol, tienes 99 años y mides 1.8 metros!\n"
     ]
    }
   ],
   "source": [
    "nombre = input('Ingrese su nombre: ')\n",
    "edad = int(input('Ingrese su edad: '))\n",
    "altura = float(input('Ingrese su altura: '))\n",
    "print(f'¡Hola, {nombre}, tienes {edad} años y mides {altura} metros!')"
   ]
  },
  {
   "cell_type": "markdown",
   "metadata": {},
   "source": [
    "### Calculadora con operadores\n",
    "\n",
    "* 4 - Podemos recopilar los dos valores con input y convertir la salida a un número entero con la función int(). Luego, podemos mostrar el resultado de la suma entre las dos entradas con +.\n",
    "\n"
   ]
  },
  {
   "cell_type": "code",
   "execution_count": 3,
   "metadata": {},
   "outputs": [
    {
     "name": "stdout",
     "output_type": "stream",
     "text": [
      "17\n"
     ]
    }
   ],
   "source": [
    "a = int(input('Ingrese el primer valor: '))\n",
    "b = int(input('Ingrese el segundo valor: '))\n",
    "print(a + b)"
   ]
  },
  {
   "cell_type": "markdown",
   "metadata": {},
   "source": [
    "* 5 - Usando la misma lógica que en la pregunta anterior, podemos recopilar los tres valores con input y convertir la salida a números enteros con la función int(). Luego, podemos mostrar el resultado de la suma de los tres valores con +."
   ]
  },
  {
   "cell_type": "code",
   "execution_count": 67,
   "metadata": {},
   "outputs": [
    {
     "name": "stdout",
     "output_type": "stream",
     "text": [
      "22\n"
     ]
    }
   ],
   "source": [
    "a = int(input('Ingrese el primer valor: '))\n",
    "b = int(input('Ingrese el segundo valor: '))\n",
    "c = int(input('Ingrese el tercer valor: '))\n",
    "print(a + b + c)"
   ]
  },
  {
   "cell_type": "markdown",
   "metadata": {},
   "source": [
    "* 6 - Podemos recopilar los dos valores con input y convertir la salida a números enteros con la función int(). Luego, podemos mostrar el resultado de la resta del primer valor menos el segundo valor con -."
   ]
  },
  {
   "cell_type": "code",
   "execution_count": 68,
   "metadata": {},
   "outputs": [
    {
     "name": "stdout",
     "output_type": "stream",
     "text": [
      "-9\n"
     ]
    }
   ],
   "source": [
    "a = int(input('Ingrese el primer valor: '))\n",
    "b = int(input('Ingrese el segundo valor: '))\n",
    "print(a - b)"
   ]
  },
  {
   "cell_type": "markdown",
   "metadata": {},
   "source": [
    "* 7 - Podemos recopilar los dos valores con input y convertir la salida a números enteros con la función int(). Luego, podemos mostrar el resultado de la multiplicación de los dos valores con *."
   ]
  },
  {
   "cell_type": "code",
   "execution_count": 69,
   "metadata": {},
   "outputs": [
    {
     "name": "stdout",
     "output_type": "stream",
     "text": [
      "5829\n"
     ]
    }
   ],
   "source": [
    "a = int(input('Ingrese el primer valor: '))\n",
    "b = int(input('Ingrese el segundo valor: '))\n",
    "print(a * b)"
   ]
  },
  {
   "cell_type": "markdown",
   "metadata": {},
   "source": [
    "* 8 - Podemos recopilar el numerador y denominador con input y convertir la salida a números enteros con la función int(). Luego, podemos mostrar el resultado de la división entre los dos valores con /.\n",
    "\n"
   ]
  },
  {
   "cell_type": "code",
   "execution_count": 70,
   "metadata": {},
   "outputs": [
    {
     "name": "stdout",
     "output_type": "stream",
     "text": [
      "0.09210526315789473\n"
     ]
    }
   ],
   "source": [
    "numerador = int(input('Ingrese el numerador: '))\n",
    "denominador = int(input('Ingrese el denominador (OBS: el valor no puede ser nulo): '))\n",
    "print(numerador / denominador)"
   ]
  },
  {
   "cell_type": "markdown",
   "metadata": {},
   "source": [
    "* 9 - Podemos recopilar el operador y potencia con input y convertir la salida a números enteros con la función int(). Luego, podemos mostrar el resultado de la exponenciación entre estos dos valores con **."
   ]
  },
  {
   "cell_type": "code",
   "execution_count": 71,
   "metadata": {},
   "outputs": [
    {
     "name": "stdout",
     "output_type": "stream",
     "text": [
      "387420489\n"
     ]
    }
   ],
   "source": [
    "operador = int(input('Ingrese el valor del operador: '))\n",
    "potencia = int(input('Ingrese el valor de la potencia: '))\n",
    "print(operador ** potencia)"
   ]
  },
  {
   "cell_type": "markdown",
   "metadata": {},
   "source": [
    "* 10 - Podemos recopilar el numerador y denominador con input y convertir la salida a números enteros con la función int(). Luego, podemos mostrar el resultado de la división entera entre los dos valores con //."
   ]
  },
  {
   "cell_type": "code",
   "execution_count": 55,
   "metadata": {},
   "outputs": [
    {
     "name": "stdout",
     "output_type": "stream",
     "text": [
      "6\n"
     ]
    }
   ],
   "source": [
    "numerador = int(input('Ingrese el numerador: '))\n",
    "denominador = int(input('Ingrese el denominador (OBS: el valor no puede ser nulo): '))\n",
    "print(numerador // denominador)"
   ]
  },
  {
   "cell_type": "markdown",
   "metadata": {},
   "source": [
    "* 11 - Podemos recopilar el numerador y denominador con input y convertir la salida a números enteros con la función int(). Luego, podemos mostrar el resultado del resto de la división entre los dos valores con %."
   ]
  },
  {
   "cell_type": "code",
   "execution_count": 73,
   "metadata": {},
   "outputs": [
    {
     "name": "stdout",
     "output_type": "stream",
     "text": [
      "1\n"
     ]
    }
   ],
   "source": [
    "numerador = int(input('Ingrese el numerador: '))\n",
    "denominador = int(input('Ingrese el denominador (OBS: el valor no puede ser nulo): '))\n",
    "print(numerador % denominador)"
   ]
  },
  {
   "cell_type": "markdown",
   "metadata": {},
   "source": [
    "* 12 - Podemos recopilar las tres notas con input y convertir la salida a números con decimales utilizando la función float(). Luego, podemos mostrar el resultado del promedio entre las tres variables sumando las notas con + y dividiendo la suma entre 3."
   ]
  },
  {
   "cell_type": "code",
   "execution_count": 56,
   "metadata": {},
   "outputs": [
    {
     "name": "stdout",
     "output_type": "stream",
     "text": [
      "Media 7.0.\n"
     ]
    }
   ],
   "source": [
    "nota_1 = float(input('Ingrese la 1° nota: '))\n",
    "nota_2 = float(input('Ingrese la 2° nota: '))\n",
    "nota_3 = float(input('Ingrese la 3° nota: '))\n",
    "print(f'Media {(nota_1+nota_2+nota_3)/3}.')"
   ]
  },
  {
   "cell_type": "markdown",
   "metadata": {},
   "source": [
    "* 13 - Calculamos la media ponderada multiplicando los pesos por sus respectivos valores y sumando el resultado de cada multiplicación. El valor de estas sumas se divide entre la suma total de los pesos. Con el comando print, imprimimos el resultado del cálculo de la media."
   ]
  },
  {
   "cell_type": "code",
   "execution_count": 75,
   "metadata": {},
   "outputs": [
    {
     "name": "stdout",
     "output_type": "stream",
     "text": [
      "Media 14.9.\n"
     ]
    }
   ],
   "source": [
    "media_ponderada = (5*1 + 12*2 + 20*3 + 15*4) / (1+2+3+4)\n",
    "print(f'Media {media_ponderada}.')"
   ]
  },
  {
   "cell_type": "markdown",
   "metadata": {},
   "source": [
    "### Editando textos\n",
    "\n",
    "* 14 - Definimos una frase arbitraria entre comillas simples y la imprimimos insertando la variable en un comando print."
   ]
  },
  {
   "cell_type": "code",
   "execution_count": 76,
   "metadata": {},
   "outputs": [
    {
     "name": "stdout",
     "output_type": "stream",
     "text": [
      "¡Hola Python!\n"
     ]
    }
   ],
   "source": [
    "frase = '¡Hola Python!'\n",
    "print(frase)"
   ]
  },
  {
   "cell_type": "markdown",
   "metadata": {},
   "source": [
    "* 15 - Recopilamos una frase utilizando la función input y luego imprimimos el resultado con el comando print."
   ]
  },
  {
   "cell_type": "code",
   "execution_count": 77,
   "metadata": {},
   "outputs": [
    {
     "name": "stdout",
     "output_type": "stream",
     "text": [
      "vamos pol\n"
     ]
    }
   ],
   "source": [
    "frase = input('Escribe una frase: ')\n",
    "print(frase)"
   ]
  },
  {
   "cell_type": "markdown",
   "metadata": {},
   "source": [
    "* 16 - Recopilamos una frase utilizando la función input y luego mostramos su valor en mayúsculas utilizando el método upper. Podemos mostrar la salida de esto en un comando print."
   ]
  },
  {
   "cell_type": "code",
   "execution_count": 78,
   "metadata": {},
   "outputs": [
    {
     "name": "stdout",
     "output_type": "stream",
     "text": [
      "POLITO ES COOL\n"
     ]
    }
   ],
   "source": [
    "frase = input('Escribe una frase: ')\n",
    "print(frase.upper())"
   ]
  },
  {
   "cell_type": "markdown",
   "metadata": {},
   "source": [
    "* 17 - Recopilamos una frase utilizando la función input y luego mostramos su valor en minúsculas utilizando el método lower. Podemos mostrar la salida de esto en un comando print."
   ]
  },
  {
   "cell_type": "code",
   "execution_count": 57,
   "metadata": {},
   "outputs": [
    {
     "name": "stdout",
     "output_type": "stream",
     "text": [
      "polito es lo mas\n"
     ]
    }
   ],
   "source": [
    "frase = input('Escribe una frase: ')\n",
    "print(frase.lower())"
   ]
  },
  {
   "cell_type": "markdown",
   "metadata": {},
   "source": [
    "* 18 - Para este ejemplo, es interesante definir una frase con espacios al principio y al final de la frase. Una vez hecho esto, podemos eliminar estos espacios utilizando el método strip y mostrar el resultado en un comando print."
   ]
  },
  {
   "cell_type": "code",
   "execution_count": 80,
   "metadata": {},
   "outputs": [
    {
     "name": "stdout",
     "output_type": "stream",
     "text": [
      "¡Hola Python!\n"
     ]
    }
   ],
   "source": [
    "frase = ' ¡Hola Python! '\n",
    "print(frase.strip())"
   ]
  },
  {
   "cell_type": "markdown",
   "metadata": {},
   "source": [
    "* 19 - Recopilamos una frase utilizando la función input, incluso si no estamos seguros de si tendrá espacios al principio y al final de la frase. Luego, podemos eliminar estos espacios utilizando el método strip. El resultado se puede mostrar en un comando print."
   ]
  },
  {
   "cell_type": "code",
   "execution_count": 59,
   "metadata": {},
   "outputs": [
    {
     "name": "stdout",
     "output_type": "stream",
     "text": [
      "pol lo más\n"
     ]
    }
   ],
   "source": [
    "frase = input('Escribe una frase: ')\n",
    "print(frase.strip())"
   ]
  },
  {
   "cell_type": "markdown",
   "metadata": {},
   "source": [
    "* 20 - Recopilamos una frase utilizando la función input, incluso si no estamos seguros de si tendrá espacios al principio y al final de la frase. Luego, eliminamos estos espacios utilizando el método strip y también usamos el método lower junto con strip. El resultado se puede mostrar en un comando print."
   ]
  },
  {
   "cell_type": "code",
   "execution_count": 82,
   "metadata": {},
   "outputs": [
    {
     "name": "stdout",
     "output_type": "stream",
     "text": [
      "pol es genial\n"
     ]
    }
   ],
   "source": [
    "frase = input('Escribe una frase: ')\n",
    "print(frase.strip().lower())"
   ]
  },
  {
   "cell_type": "markdown",
   "metadata": {},
   "source": [
    "* 21 - Recopilamos una frase utilizando la función input. Para asegurarnos de que los caracteres no estén en mayúsculas, convertimos toda la frase a minúsculas utilizando el método lower y luego aplicamos el método replace, definiendo el valor a reemplazar como 'e' y el nuevo valor como 'f'. El resultado se muestra en un comando print."
   ]
  },
  {
   "cell_type": "code",
   "execution_count": 83,
   "metadata": {},
   "outputs": [
    {
     "name": "stdout",
     "output_type": "stream",
     "text": [
      "polito fs cool\n"
     ]
    }
   ],
   "source": [
    "frase = input('Escribe una frase: ')\n",
    "print(frase.lower().replace('e','f'))"
   ]
  },
  {
   "cell_type": "markdown",
   "metadata": {},
   "source": [
    "* 22 - Recopilamos una frase utilizando la función input. Para asegurarnos de que los caracteres no estén en mayúsculas, convertimos toda la frase a minúsculas utilizando el método lower y luego aplicamos el método replace, definiendo el valor a reemplazar como 'a' y el nuevo valor como el carácter 64 según la tabla Unicode, que corresponde al carácter @. El resultado se muestra en un comando print.\n",
    "\n"
   ]
  },
  {
   "cell_type": "code",
   "execution_count": 60,
   "metadata": {},
   "outputs": [
    {
     "name": "stdout",
     "output_type": "stream",
     "text": [
      "p@blo m@tí@s\n"
     ]
    }
   ],
   "source": [
    "frase = input('Escribe una frase: ')\n",
    "print(frase.lower().replace('a',chr(64)))"
   ]
  },
  {
   "cell_type": "markdown",
   "metadata": {},
   "source": [
    "* 23 - Recopilamos una frase utilizando la función input. Para asegurarnos de que los caracteres no estén en mayúsculas, convertimos toda la frase a minúsculas utilizando el método lower y luego aplicamos el método replace, definiendo el valor a reemplazar como 's' y el nuevo valor como el carácter 36 según la tabla Unicode, que corresponde al símbolo $. El resultado se muestra en un comando print.\n",
    "\n"
   ]
  },
  {
   "cell_type": "code",
   "execution_count": 61,
   "metadata": {},
   "outputs": [
    {
     "name": "stdout",
     "output_type": "stream",
     "text": [
      "vamo$ pol a$i e$ $iempre ganaremo$$$$$\n"
     ]
    }
   ],
   "source": [
    "frase = input('Escribe una frase: ')\n",
    "print(frase.lower().replace('s',chr(36)))"
   ]
  },
  {
   "cell_type": "markdown",
   "metadata": {},
   "source": [
    "Ejercitarse es importante para consolidar el contenido, desarrollar habilidades de codificación, identificar puntos que aún no se han comprendido, prepararse para desafíos futuros, desarrollar el pensamiento lógico y la resolución de problemas.\n",
    "\n",
    "Teniendo esto en cuenta, es interesante realizar muchos ejercicios cuando se está aprendiendo un nuevo lenguaje de programación. Por lo tanto, busca completar los ejercicios propuestos y observa cómo te ayudan a progresar en tus habilidades de codificación.\n",
    "\n",
    "Si tienes alguna pregunta, puedes comunicarte en el foro."
   ]
  },
  {
   "cell_type": "markdown",
   "metadata": {},
   "source": [
    "##  16 -  Lo que aprendimos\n",
    "\n",
    "Lo que aprendimos en esta aula:\n",
    "\n",
    "* Crear variables en Python.\n",
    "* Distinguir entre los diferentes tipos de datos.\n",
    "* Realizar operaciones con variables numéricas.\n",
    "* Manipular variables de texto (cadenas de caracteres).\n",
    "* Recolectar datos de un usuario utilizando la función input().\n"
   ]
  },
  {
   "cell_type": "markdown",
   "metadata": {
    "id": "Q3drXJIFSMJ2"
   },
   "source": [
    "# Estructuras condicionales"
   ]
  },
  {
   "cell_type": "code",
   "execution_count": 122,
   "metadata": {
    "colab": {
     "base_uri": "https://localhost:8080/",
     "height": 35
    },
    "executionInfo": {
     "elapsed": 107,
     "status": "ok",
     "timestamp": 1748308148315,
     "user": {
      "displayName": "Pol Argentino",
      "userId": "02817779166023488471"
     },
     "user_tz": 180
    },
    "id": "pjzLN2q8SQe4",
    "outputId": "1e9f6eb7-e997-465e-d070-b880c857ca99"
   },
   "outputs": [
    {
     "data": {
      "text/plain": [
       "'\\nSi la nota es mayor o igual a 7 entonces el estudiante aprueba\\nSi no, entonces el estudiante reprueba\\n'"
      ]
     },
     "execution_count": 122,
     "metadata": {},
     "output_type": "execute_result"
    }
   ],
   "source": [
    "# Nota de aprobación entre 7 y 10 == nota de aprobación >= 7\n",
    "# Nota de reprobación es menor a 7 == nota de reprobación < 7\n",
    "\n",
    "\"\"\"\n",
    "Si la nota es mayor o igual a 7 entonces el estudiante aprueba\n",
    "Si no, entonces el estudiante reprueba\n",
    "\"\"\""
   ]
  },
  {
   "cell_type": "markdown",
   "metadata": {},
   "source": [
    "##  04 ¿Dónde aplicar los condicionales?\n",
    "La declaración condicional \"if\" es una estructura que permite la ejecución de un bloque de código solo si cierta condición es verdadera, y se puede utilizar en diversas aplicaciones en la ciencia de datos, como la filtración de datos basada en una condición.\n",
    "\n",
    "Por lo tanto, marca la alternativa que contenga una aplicación en Ciencia de Datos en la que tenga sentido utilizar una declaración condicional.\n",
    "\n",
    "Alternativa correta\n",
    "\n",
    "Con una declaración condicional, podemos verificar si un conjunto de datos contiene valores faltantes o nulos que pueden afectar negativamente el análisis.\n",
    "\n",
    "\n",
    "Una expresión condicional puede verificar si los datos son nulos o faltantes, lo que permite el tratamiento de los mismos. Este tipo de valores es común en un conjunto de datos. La identificación de datos faltantes o nulos permitirá, por ejemplo, reemplazar o eliminar estos valores para evitar errores o resultados incorrectos en el análisis."
   ]
  },
  {
   "cell_type": "markdown",
   "metadata": {},
   "source": [
    "##  05 Para saber más: operadores relacionales\n",
    "Una condición no es más que una comparación entre datos a partir de la cual podemos obtener el resultado verdadero o falso de una condición. La comparación puede realizarse mediante operadores relacionales cuya misión es comparar valores y determinar si una expresión es verdadera o falsa. A continuación, conoceremos los operadores lógicos y cómo utilizarlos.\n",
    "\n",
    "`Mayor que (>)`\n",
    "\n",
    "Devuelve verdadero si el valor a la izquierda del símbolo es mayor que el de la derecha. Su sintaxis, valor_1 > valor_2, representa una comparación que solo será verdadera si valor_1 es mayor que valor_2. Con este operador relacional, podemos verificar si una persona es mayor que otra al comparar sus edades, como se muestra en el siguiente ejemplo:"
   ]
  },
  {
   "cell_type": "code",
   "execution_count": null,
   "metadata": {},
   "outputs": [],
   "source": [
    "edad_maria = int(input('Ingrese la edad de María: '))\n",
    "edad_beatriz = int(input('Ingrese la edad de Beatriz: '))\n",
    "\n",
    "if edad_maria > edad_beatriz:\n",
    "  print('María es mayor que Beatriz.')"
   ]
  },
  {
   "cell_type": "markdown",
   "metadata": {},
   "source": [
    "El operador mayor que (>) devuelve un valor falso si los valores comparados son iguales o si el valor a la izquierda del símbolo es inferior al de la derecha.\n",
    "\n",
    "`Menor que (<)`\n",
    "\n",
    "Devuelve verdadero si el valor a la izquierda del símbolo es menor que el de la derecha. Su sintaxis es valor_1 < valor_2. Esta comparación solo será verdadera si valor_1 es menor que valor_2. Con este operador relacional, también podemos verificar si una persona es menor que otra al comparar sus edades, como se muestra a continuación:\n",
    "\n"
   ]
  },
  {
   "cell_type": "code",
   "execution_count": null,
   "metadata": {},
   "outputs": [],
   "source": [
    "edad_maria = int(input('Ingrese la edad de María: '))\n",
    "edad_beatriz = int(input('Ingrese la edad de Beatriz: '))\n",
    "\n",
    "if edad_maria < edad_beatriz:\n",
    "  print('María es menor que Beatriz.')"
   ]
  },
  {
   "cell_type": "markdown",
   "metadata": {},
   "source": [
    "Este operador también devuelve un valor falso si los valores comparados son iguales o si el valor a la izquierda del símbolo es superior al de la derecha.\n",
    "\n",
    "`Mayor o igual a (>=)`\n",
    "\n",
    "Devuelve verdadero si el valor a la izquierda del símbolo es mayor o igual al valor a la derecha. Su sintaxis es valor_1 >= valor_2. Esta comparación solo será verdadera si valor_1 es mayor o igual a valor_2. Con este operador relacional, podemos verificar, por ejemplo, si una empresa tiene una cantidad mayor o igual a la de otra, como se muestra a continuación:"
   ]
  },
  {
   "cell_type": "code",
   "execution_count": null,
   "metadata": {},
   "outputs": [],
   "source": [
    "empleados_empresa_1 = int(input('Ingrese la cantidad de empleados de la empresa 1: '))\n",
    "empleados_empresa_2 = int(input('Ingrese la cantidad de empleados de la empresa 2: '))\n",
    "\n",
    "if empleados_empresa_1 >= empleados_empresa_2:\n",
    "  print('La empresa 1 tiene una cantidad de empleados mayor o igual a la empresa 2.')"
   ]
  },
  {
   "cell_type": "markdown",
   "metadata": {},
   "source": [
    "`Menor o igual a (<=)`\n",
    "\n",
    "Devuelve verdadero si el valor a la izquierda del símbolo es menor o igual al valor de la derecha. Su sintaxis es valor_1 <= valor_2. Esta comparación solo será verdadera si valor_1 es menor o igual a valor_2. Con este operador relacional, podemos verificar si una empresa tiene una cantidad menor o igual a otra, como se muestra a continuación:"
   ]
  },
  {
   "cell_type": "code",
   "execution_count": null,
   "metadata": {},
   "outputs": [],
   "source": [
    "empleados_empresa_1 = int(input('Ingrese la cantidad de empleados de la empresa 1: '))\n",
    "empleados_empresa_2 = int(input('Ingrese la cantidad de empleados de la empresa 2: '))\n",
    "\n",
    "if empleados_empresa_1 <= empleados_empresa_2:\n",
    "  print('La empresa 1 tiene una cantidad de empleados menor o igual a la empresa 2.')"
   ]
  },
  {
   "cell_type": "markdown",
   "metadata": {},
   "source": [
    "`Igual a (==)`\n",
    "\n",
    "Devuelve verdadero si el valor a la izquierda del símbolo es igual al valor de la derecha. Su sintaxis, valor_1 == valor_2, representa una comparación que solo será verdadera si valor_1 es igual a valor_2. Con este operador relacional, podemos verificar si dos libros tienen el mismo título mediante una comparación de cadenas, como se muestra en el siguiente ejemplo:"
   ]
  },
  {
   "cell_type": "code",
   "execution_count": null,
   "metadata": {},
   "outputs": [],
   "source": [
    "libro_1 = input('Ingrese el título del 1° libro: ')\n",
    "libro_2 = input('Ingrese el título del 2° libro: ')\n",
    "\n",
    "if libro_1 == libro_2:\n",
    "  print('Los libros tienen el mismo título.')"
   ]
  },
  {
   "cell_type": "markdown",
   "metadata": {},
   "source": [
    "También es posible realizar esta comparación con valores numéricos.\n",
    "\n",
    "`Diferente de (!=)`\n",
    "\n",
    "Devuelve verdadero si el valor a la izquierda del símbolo es diferente del valor a la derecha. Su sintaxis, valor_1 != valor_2, representa una comparación que solo será verdadera si valor_1 es diferente de valor_2. Este operador es el inverso de ==. Con él, podemos verificar si dos libros tienen títulos diferentes mediante una comparación de cadenas, como se muestra a continuación:"
   ]
  },
  {
   "cell_type": "code",
   "execution_count": null,
   "metadata": {},
   "outputs": [],
   "source": [
    "libro_1 = input('Ingrese el título del 1° libro: ')\n",
    "libro_2 = input('Ingrese el título del 2° libro: ')\n",
    "\n",
    "if libro_1 != libro_2:\n",
    "  print('Los libros tienen títulos diferentes.')"
   ]
  },
  {
   "cell_type": "markdown",
   "metadata": {
    "id": "T_BODIfsSX1f"
   },
   "source": [
    "## `IF` y `ELSE`\n",
    "\n",
    "Los comandos `if` y `else` son dos estructuras condicionales. El comando `if` ejecutará el bloque de comandos en caso de que la condición citada sea  **verdadera**. El comando `else` ejecutará el bloque de comandos en el caso de que la condicional de `if` sea **falsa**."
   ]
  },
  {
   "cell_type": "markdown",
   "metadata": {},
   "source": [
    "El comando `if` es una palabra clave en Python que significa \"si\". Este se emplea para conformar la estructura condicional, que te permite verificar si una determinada condición es verdadera o falsa e, inmediatamente después, ejecute un bloque de código específico dependiendo del resultado de la verificación. La sintaxis para usar el comando `if` es:\n",
    "\n",
    "\n",
    "\n",
    "```\n",
    "if condicion:\n",
    "    # Realiza algo\n",
    "```"
   ]
  },
  {
   "cell_type": "code",
   "execution_count": 62,
   "metadata": {
    "colab": {
     "base_uri": "https://localhost:8080/"
    },
    "executionInfo": {
     "elapsed": 70,
     "status": "ok",
     "timestamp": 1748308333736,
     "user": {
      "displayName": "Pol Argentino",
      "userId": "02817779166023488471"
     },
     "user_tz": 180
    },
    "id": "qr793PmqSg6U",
    "outputId": "ed3bcf16-cf6e-4342-f627-08f1cef7e0dd"
   },
   "outputs": [
    {
     "name": "stdout",
     "output_type": "stream",
     "text": [
      "La condición es verdadera.\n"
     ]
    }
   ],
   "source": [
    "if 2 < 7:\n",
    "  print('La condición es verdadera.')"
   ]
  },
  {
   "cell_type": "code",
   "execution_count": 63,
   "metadata": {
    "colab": {
     "base_uri": "https://localhost:8080/"
    },
    "executionInfo": {
     "elapsed": 43,
     "status": "ok",
     "timestamp": 1748308369263,
     "user": {
      "displayName": "Pol Argentino",
      "userId": "02817779166023488471"
     },
     "user_tz": 180
    },
    "id": "rcLgiEhcTIL5",
    "outputId": "55fc0f7a-33eb-4051-91aa-4ecc58551d11"
   },
   "outputs": [
    {
     "name": "stdout",
     "output_type": "stream",
     "text": [
      "Fin de la consulta.\n"
     ]
    }
   ],
   "source": [
    "if 2 > 7:\n",
    "  print('La condición es verdadera.')\n",
    "print('Fin de la consulta.')\n"
   ]
  },
  {
   "cell_type": "markdown",
   "metadata": {
    "id": "2ihOgE_-TTZg"
   },
   "source": [
    "Ya el comando `else` en Python se usa en junción con la palabra clave `if` para formar una estructura condicional. la sintaxis para usar el `else` es:\n",
    "\n",
    "```\n",
    "if condicion:\n",
    "  # codigo en caso de que sea verdad\n",
    "else:\n",
    "  # codigo en caso de que sea falso\n",
    "```\n",
    "\n",
    "el comando `else` se ejecuta cuando la condición verificada por el `if` es evaluada como `False`."
   ]
  },
  {
   "cell_type": "code",
   "execution_count": 64,
   "metadata": {
    "colab": {
     "base_uri": "https://localhost:8080/"
    },
    "executionInfo": {
     "elapsed": 23,
     "status": "ok",
     "timestamp": 1748308443187,
     "user": {
      "displayName": "Pol Argentino",
      "userId": "02817779166023488471"
     },
     "user_tz": 180
    },
    "id": "77sSbFmZTWO6",
    "outputId": "bbee8882-5543-4382-9ac2-e58acb02edd6"
   },
   "outputs": [
    {
     "name": "stdout",
     "output_type": "stream",
     "text": [
      "La condición es falsa.\n",
      "Fin de la consulta.\n"
     ]
    }
   ],
   "source": [
    "if 2 > 7:\n",
    "  print('La condición es verdadera.')\n",
    "else:\n",
    "  print('La condición es falsa.')\n",
    "print('Fin de la consulta.')"
   ]
  },
  {
   "cell_type": "markdown",
   "metadata": {
    "id": "nTfJEVDKTgfG"
   },
   "source": [
    "# Situación:\n",
    "\n",
    "Recibiremos el promedio de la nota de los estudiantes y necesitamos de un algoritmo que ejecute el análisis y determine si el estudiante fue **Aprobado** o **Reprobado**, mostrando un mensaje del resultado. Para ser aprobado, el promedio necesita ser igual o superior a 7.0."
   ]
  },
  {
   "cell_type": "code",
   "execution_count": 65,
   "metadata": {
    "colab": {
     "base_uri": "https://localhost:8080/"
    },
    "executionInfo": {
     "elapsed": 7474,
     "status": "ok",
     "timestamp": 1748308526548,
     "user": {
      "displayName": "Pol Argentino",
      "userId": "02817779166023488471"
     },
     "user_tz": 180
    },
    "id": "4uJzT2g3TolV",
    "outputId": "fdc2f289-533e-4b52-d7f6-6dcfebdf33e7"
   },
   "outputs": [
    {
     "name": "stdout",
     "output_type": "stream",
     "text": [
      "Aprobó.\n"
     ]
    }
   ],
   "source": [
    "nota = float(input('Digita la nota: '))\n",
    "\n",
    "if nota >= 7:\n",
    "  print('Aprobó.')\n",
    "else:\n",
    "  print('Reprobó.')"
   ]
  },
  {
   "cell_type": "markdown",
   "metadata": {
    "id": "SqpXGRKtT3sO"
   },
   "source": [
    "Ahora, nuestra institución educativa estableció que las personas que tengan el promedio entre 5.0 y 7.0 pueden participar del curso de **Recuperación** durante las vacaciones para lograr aprobar.\n",
    "\n",
    "Entonces podemos apoyarnos en un conjunto de `if`s para poder estructurar esta nueva condición."
   ]
  },
  {
   "cell_type": "code",
   "execution_count": 66,
   "metadata": {
    "colab": {
     "base_uri": "https://localhost:8080/"
    },
    "executionInfo": {
     "elapsed": 5182,
     "status": "ok",
     "timestamp": 1748308679898,
     "user": {
      "displayName": "Pol Argentino",
      "userId": "02817779166023488471"
     },
     "user_tz": 180
    },
    "id": "15G6AGsaT441",
    "outputId": "f434e30b-592a-492f-eeb6-1510abff7d12"
   },
   "outputs": [
    {
     "name": "stdout",
     "output_type": "stream",
     "text": [
      "Aprobó.\n"
     ]
    }
   ],
   "source": [
    "nota = float(input('Digita la nota: '))\n",
    "\n",
    "if nota >= 7:\n",
    "  print('Aprobó.')\n",
    "if 7 > nota >= 5:\n",
    "  print('Recuperación.')\n",
    "if nota < 5:\n",
    "  print('Reprobó.')\n"
   ]
  },
  {
   "cell_type": "markdown",
   "metadata": {
    "id": "WdfpCRrYUeZL"
   },
   "source": [
    "Observa que en casos con 3 situaciones como este necesitamos definir bien nuestras condiciones. Pues, si realizamos una condición con `else` al final, este irá a considerar solamente la condición `if` inmediatamente anterior para generar la salida en caso de que el resultado de su operación lógica sea **falso** dando como resultado, dos o más ejecuciones.\n",
    "\n",
    "Por ejemplo:"
   ]
  },
  {
   "cell_type": "code",
   "execution_count": 128,
   "metadata": {
    "colab": {
     "base_uri": "https://localhost:8080/"
    },
    "executionInfo": {
     "elapsed": 2099,
     "status": "ok",
     "timestamp": 1748308785104,
     "user": {
      "displayName": "Pol Argentino",
      "userId": "02817779166023488471"
     },
     "user_tz": 180
    },
    "id": "nt5DqSAnUi-4",
    "outputId": "1e6b9000-0d32-4ef1-e698-884e641fad15"
   },
   "outputs": [
    {
     "name": "stdout",
     "output_type": "stream",
     "text": [
      "Aprobó.\n",
      "Reprobó.\n"
     ]
    }
   ],
   "source": [
    "nota = float(input('Digita la nota: '))\n",
    "\n",
    "if nota >= 7:\n",
    "  print('Aprobó.')\n",
    "if 7 > nota >= 5:\n",
    "  print('Recuperación.')\n",
    "else:\n",
    "  print('Reprobó.')"
   ]
  },
  {
   "cell_type": "markdown",
   "metadata": {},
   "source": [
    "##  07 ¿Qué es la cláusula else?\n",
    "Aprendimos una estructura condicional llamada \"else\". Selecciona la opción que describe lo que hace \"else\" y proporciona un ejemplo de su estructura.\n",
    "\n"
   ]
  },
  {
   "cell_type": "markdown",
   "metadata": {},
   "source": [
    "El \"else\" es una estructura condicional opcional vinculada al \"if\". Se ejecuta cuando la condición especificada en la estructura condicional anterior no es verdadera. La sintaxis de su estructura se puede ejemplificar mediante una declaración condicional simple. Para verificar si la primera calificación de un estudiante es mayor o igual que su segunda calificación en la misma materia, hacemos:\n",
    "\n"
   ]
  },
  {
   "cell_type": "code",
   "execution_count": null,
   "metadata": {},
   "outputs": [],
   "source": [
    "if nota_1 >= nota_2:\n",
    "  print('La 2° nota es menor o igual a la 1°.')\n",
    "else:\n",
    "  print('La 2° nota es mayor que la 1°.')"
   ]
  },
  {
   "cell_type": "markdown",
   "metadata": {},
   "source": [
    "Si la condición en el \"if\" (nota_1 >= nota_2) es falsa, el código dentro del bloque \"if\" se ignorará y el programa ejecutará el código dentro del bloque \"else\". Por lo tanto, se utiliza de manera que, si la condición no es verdadera, se tome una acción alternativa, lo que garantiza un control sobre todos los procesos del código.\n",
    "\n"
   ]
  },
  {
   "cell_type": "markdown",
   "metadata": {},
   "source": [
    "##  09 ¿Qué es la cláusula elif?\n",
    "La cláusula elif es una estructura condicional muy útil. Selecciona la alternativa que mejor describe su funcionamiento y da un ejemplo.\n",
    "\n"
   ]
  },
  {
   "cell_type": "markdown",
   "metadata": {},
   "source": [
    "El \"elif\" es una estructura condicional opcional vinculada al \"if\". Permite verificar múltiples condiciones de manera encadenada, de modo que solo se ejecutará si la condición anterior no se cumple. Podemos ejemplificar esto mediante una declaración condicional para clasificar los precios de una propiedad vendida en el mercado inmobiliario, como se muestra en el código siguiente:"
   ]
  },
  {
   "cell_type": "code",
   "execution_count": null,
   "metadata": {},
   "outputs": [],
   "source": [
    "if valor_inmueble < 100000:\n",
    "    print('Propiedad de entrada')\n",
    "elif valor_inmueble >= 100000 and valor_inmueble < 500000:\n",
    "    print('Propiedad de valor medio')\n",
    "elif valor_inmueble >= 500000:\n",
    "    print('Propiedad de alto valor')"
   ]
  },
  {
   "cell_type": "markdown",
   "metadata": {},
   "source": [
    "El \"elif\" permite agregar múltiples condiciones a un código y se ejecuta solo si las condiciones del \"if\" o de todos los \"elif\" anteriores son falsas. Por lo tanto, el \"elif\" proporciona una manera de verificar varias condiciones diferentes sin necesidad de utilizar varias declaraciones \"if\". En el ejemplo, el \"elif\" se utiliza para verificar si el valor de la propiedad está entre 100,000 y 500,000 y también si el valor es igual o superior a 500,000, pero esta verificación solo se realiza si la condición anterior es falsa."
   ]
  },
  {
   "cell_type": "markdown",
   "metadata": {
    "id": "h__3JxcAU9e-"
   },
   "source": [
    "## `ELIF`\n",
    "\n",
    "El comando `elif` es una palabra clave en Python que significa \"si no, si\" y lo podemos considerar una *contracción* entre `else` e `if`. Se utiliza en conjunto con la palabra clave `if` para formar una estructura condicional en cadena.\n",
    "\n"
   ]
  },
  {
   "cell_type": "markdown",
   "metadata": {},
   "source": [
    "la sintaxis para utilizar el comando `elif` es:\n",
    "\n",
    "```\n",
    "if condicion1:\n",
    "    # Realiza algo\n",
    "elif condicion2:\n",
    "    # Realiza otra cosa\n",
    "elif condicion3:\n",
    "    # Realiza otra cosa\n",
    "else:\n",
    "    # Realiza algo diferente\n",
    "```\n",
    "\n",
    "El comando `elif` permite que puedas verificar varias condiciones en cadena, economizando espacio en tu código. Si la primera condición se evalúa como `False`, el interpretador de Python evaluará la próxima condición con el `elif`. Ello continuará hasta que una condición sea evaluada como `True` o hasta que el `else` sea alcazado. Si ninguna de las condiciones es evaluada como `True`, la ejecución del código del comando `else` será iniciada."
   ]
  },
  {
   "cell_type": "markdown",
   "metadata": {},
   "source": [
    "Vamos a emplear el mismo caso anterior:"
   ]
  },
  {
   "cell_type": "code",
   "execution_count": 68,
   "metadata": {
    "colab": {
     "base_uri": "https://localhost:8080/"
    },
    "executionInfo": {
     "elapsed": 2419,
     "status": "ok",
     "timestamp": 1748309016029,
     "user": {
      "displayName": "Pol Argentino",
      "userId": "02817779166023488471"
     },
     "user_tz": 180
    },
    "id": "_wyaX0x1U_UW",
    "outputId": "771a9593-5dce-4dcc-c5dd-3ed7dfaa67cf"
   },
   "outputs": [
    {
     "name": "stdout",
     "output_type": "stream",
     "text": [
      "Aprobó.\n"
     ]
    }
   ],
   "source": [
    "\n",
    "nota = float(input('Digita la nota: '))\n",
    "\n",
    "if nota >= 7:\n",
    "  print('Aprobó.')\n",
    "elif 7 > nota >= 5:\n",
    "  print('Recuperación.')\n",
    "else:\n",
    "  print('Reprobó.')"
   ]
  },
  {
   "cell_type": "markdown",
   "metadata": {
    "id": "BInsyP79VwWS"
   },
   "source": [
    "##  10 Operadores lógicos\n",
    "\n",
    "\n",
    "Durante la construcción de comandos a veces necesitamos de una elaboración mayor de la expresión condicional, necesitando que algunos operadores lógicos se encuentren integrados.\n",
    "\n"
   ]
  },
  {
   "cell_type": "markdown",
   "metadata": {},
   "source": [
    "### `AND`, `OR`, `NOT`\n",
    "\n",
    "Los operadores lógicos `and`, `or` y `not` son usados para combinar expresiones lógicas en Python. Ellos son usados frecuentemente en conjunto con el comando `if` para crear estructuras condicionales más complejas."
   ]
  },
  {
   "cell_type": "markdown",
   "metadata": {},
   "source": [
    "- `AND` es usado para verificar si dos condiciones son verdaderas. La expresión lógica¹ `x and y` se evalúa como `True` tan solo si **ambas condiciones `x` y `y` son verdaderas**, y como `False` en caso contrario.\n",
    "\n",
    "- `OR` es usado para verificar si al menos una de las condiciones es verdadera. La expresión lógica `x or y` se evalúa como `True` **si al menos una de las condiciones `x` o `y` es verdadera**, y como `False` si ambas condiciones son falsas.\n",
    "\n",
    "- `NOT` es usado para **negar una condición**. La expresión lógica `not x` es evaluada como `True` si la condición x es falsa, y como `False` si la condición x es verdadera.\n",
    "\n",
    "¹ Una expresión lógica es una declaración que puede ser evaluada como verdadera o falsa. Ella se compone por operandos lógicos² y por operadores lógicos³, que son usados ​​para combinar varias expresiones lógicas en una única expresión.\n",
    "\n",
    "² Los operandos lógicos son los elementos que son comparados o evaluados en una expresión lógica. Ellos son generalmente valores verdaderos o falsos, pero también pueden ser expresiones lógicas más complejas. En Python, los operandos lógicos son los valores `True` y `False`.\n",
    "\n",
    "³ Los operadores lógicos son ls símbolos o palabras clave que son usados ​​para combinar varias expresiones lógicas en una única expresión. En Python, los operadores lógicos son `and`, `or` y `not`, bien como las palabras clave `if`, `elif` e `else`."
   ]
  },
  {
   "cell_type": "markdown",
   "metadata": {},
   "source": [
    "> Operadores lógicos más comunes\n",
    "\n",
    "|a|b|AND|OR|NOT|\n",
    "|-|-|-|-|-|\n",
    "|0|0|0|0|1\n",
    "|0|1|0|1|-\n",
    "|1|0|0|1|-\n",
    "|1|1|1|1|0\n"
   ]
  },
  {
   "cell_type": "code",
   "execution_count": 69,
   "metadata": {
    "id": "5vStXEklWsDD"
   },
   "outputs": [],
   "source": [
    "\n",
    "v = True\n",
    "f = False"
   ]
  },
  {
   "cell_type": "code",
   "execution_count": 70,
   "metadata": {
    "colab": {
     "base_uri": "https://localhost:8080/"
    },
    "executionInfo": {
     "elapsed": 44,
     "status": "ok",
     "timestamp": 1748309505944,
     "user": {
      "displayName": "Pol Argentino",
      "userId": "02817779166023488471"
     },
     "user_tz": 180
    },
    "id": "yy1Hhg-9Wu-h",
    "outputId": "8448f67d-f27b-4503-c480-9323f14bc67b"
   },
   "outputs": [
    {
     "name": "stdout",
     "output_type": "stream",
     "text": [
      "La condición es falsa.\n"
     ]
    }
   ],
   "source": [
    "if f and f:\n",
    "  print('La condición es verdadera.')\n",
    "else:\n",
    "  print('La condición es falsa.')"
   ]
  },
  {
   "cell_type": "code",
   "execution_count": 71,
   "metadata": {
    "colab": {
     "base_uri": "https://localhost:8080/"
    },
    "executionInfo": {
     "elapsed": 28,
     "status": "ok",
     "timestamp": 1748309531456,
     "user": {
      "displayName": "Pol Argentino",
      "userId": "02817779166023488471"
     },
     "user_tz": 180
    },
    "id": "T5O8mgpOXkqh",
    "outputId": "aa087c28-05f0-4984-807a-50fe92e79444"
   },
   "outputs": [
    {
     "name": "stdout",
     "output_type": "stream",
     "text": [
      "La condición es verdadera.\n"
     ]
    }
   ],
   "source": [
    "if v or v:\n",
    "  print('La condición es verdadera.')\n",
    "else:\n",
    "  print('La condición es falsa.')\n"
   ]
  },
  {
   "cell_type": "code",
   "execution_count": 72,
   "metadata": {
    "colab": {
     "base_uri": "https://localhost:8080/"
    },
    "executionInfo": {
     "elapsed": 131,
     "status": "ok",
     "timestamp": 1748309564855,
     "user": {
      "displayName": "Pol Argentino",
      "userId": "02817779166023488471"
     },
     "user_tz": 180
    },
    "id": "dpBXdHI3XsIo",
    "outputId": "e2c3572c-6ea4-46c3-f9ee-5d00bc0078f6"
   },
   "outputs": [
    {
     "name": "stdout",
     "output_type": "stream",
     "text": [
      "La condición es verdadera.\n"
     ]
    }
   ],
   "source": [
    "\n",
    "if not f:\n",
    "  print('La condición es verdadera.')\n",
    "else:\n",
    "  print('La condición es falsa.')\n"
   ]
  },
  {
   "cell_type": "markdown",
   "metadata": {},
   "source": [
    "## 11 Para saber más: tabla de la verdad\n",
    "Cuando deseamos crear una expresión lógica con operadores lógicos, es necesario comprender cómo funciona la tabla de verdad de cada uno de ellos para poder construir un código que produzca el resultado deseado. Estas tablas ayudan a comprender y analizar expresiones lógicas, como las que se encuentran en algoritmos de programación y a verificar la validez de una expresión lógica dada. La tabla de verdad ayuda a verificar los resultados para todas las posibles combinaciones de valores lógicos de una expresión lógica dada.\n",
    "\n",
    "Vamos a conocer la tabla de verdad de los operadores lógicos and, or y not.\n",
    "\n",
    "### Operador and\n",
    "\n",
    "La tabla de verdad del operador and muestra que la salida solo es Verdadero (True) si ambos operandos son Verdaderos. De lo contrario, devuelve Falso (False), como se muestra en la siguiente tabla:"
   ]
  },
  {
   "cell_type": "markdown",
   "metadata": {},
   "source": [
    "![tabla.png](/home/pol/Escritorio/ipynb-alura/assets/tabla.png)"
   ]
  },
  {
   "cell_type": "markdown",
   "metadata": {},
   "source": [
    "### Operador or\n",
    "\n",
    "La tabla de verdad del operador or muestra que la salida solo es Falso (False) si ambos operandos son Falsos; de lo contrario, devuelve Verdadero (True). Es decir, se devuelve True si al menos uno de los operandos es True, como se muestra a continuación:"
   ]
  },
  {
   "cell_type": "markdown",
   "metadata": {},
   "source": [
    "![tabla-1.png](/home/pol/Escritorio/ipynb-alura/assets/tabla-1.png)"
   ]
  },
  {
   "cell_type": "markdown",
   "metadata": {},
   "source": [
    "### Operador not\n",
    "\n",
    "El operador not tiene una tabla de verdad más simple, ya que simplemente invierte el valor del operando. Si el operando es Verdadero, devuelve Falso; si es Falso, devuelve Verdadero."
   ]
  },
  {
   "cell_type": "markdown",
   "metadata": {},
   "source": [
    "![tabla-2.png](/home/pol/Escritorio/ipynb-alura/assets/tabla-2.png)"
   ]
  },
  {
   "cell_type": "markdown",
   "metadata": {},
   "source": [
    "##  12 Desafio: ¡Es hora de practicar!\n",
    "\n",
    "Vamos practicar el uso de estructuras condicionales como el if, else y elif a través de algunas actividades. Ahora que estamos avanzando en los contenidos, podemos hacer los desafíos más interesantes: ¡trabajaremos en proyectos de código! Resuelve los problemas iniciales para prepararte para los proyectos:\n",
    "\n",
    "### Entrenando la programación\n",
    "\n",
    "* 1 - Escribe un programa que pida a la persona usuaria que proporcione dos números y muestre el número más grande.\n",
    "\n",
    "* 2 - Escribe un programa que solicite el porcentaje de crecimiento de producción de una empresa e informe si hubo un crecimiento (porcentaje positivo) o una disminución (porcentaje negativo).\n",
    "\n",
    "* 3 - Escribe un programa que determine si una letra proporcionada por la persona usuaria es una vocal o una consonante.\n",
    "\n",
    "* 4 - Escribe un programa que lea valores promedio de precios de un modelo de automóvil durante 3 años consecutivos y muestre el valor más alto y más bajo entre esos tres años.\n",
    "\n",
    "* 5 - Escribe un programa que pregunte sobre el precio de tres productos e indique cuál es el producto más barato para comprar.\n",
    "\n",
    "* 6 - Escribe un programa que lea tres números y los muestre en orden descendente.\n",
    "\n",
    "* 7 -Escribe un programa que pregunte en qué turno estudia la persona usuaria (\"mañana\", \"tarde\" o \"noche\") y muestre el mensaje \"¡Buenos Días!\", \"¡Buenas Tardes!\", \"¡Buenas Noches!\" o \"Valor Inválido!\", según el caso.\n",
    "\n",
    "* 8 - Escribe un programa que solicite un número entero a la persona usuaria y determine si es par o impar. Pista: Puedes usar el operador módulo (%).\n",
    "\n",
    "* 9 - Escribe un programa que pida un número a la persona usuaria y le informe si es entero o decimal.\n",
    "\n",
    "### Momento de los proyectos\n",
    "\n",
    "* 10 - Un programa debe ser escrito para leer dos números y luego preguntar a la persona usuaria qué operación desea realizar. El resultado de la operación debe incluir información sobre el número, si es par o impar, positivo o negativo, e entero o decimal.\n",
    "\n",
    "* 11 - Escribe un programa que pida a la persona usuaria tres números que representan los lados de un triángulo. El programa debe informar si los valores pueden utilizarse para formar un triángulo y, en caso afirmativo, si es equilátero, isósceles o escaleno. Ten en cuenta algunas sugerencias:\n",
    "\n",
    "* Tres lados forman un triángulo cuando la suma de cualesquiera dos lados es mayor que el tercero;\n",
    "* Triángulo Equilátero: tres lados iguales;\n",
    "* Triángulo Isósceles: dos lados iguales;\n",
    "* Triángulo Escaleno: tres lados diferentes.\n",
    "\n",
    "* 12 - Un establecimiento está vendiendo combustibles con descuentos variables. Para el etanol, si la cantidad comprada es de hasta 15 litros, el descuento será del 2% por litro. En caso contrario, será del 4% por litro. Para el diésel, si la cantidad comprada es de hasta 15 litros, el descuento será del 3% por litro. En caso contrario, será del 5% por litro. El precio por litro de diésel es de R$ 2,00 y el precio por litro de etanol es de R$ 1,70. Escribe un programa que lea la cantidad de litros vendidos y el tipo de combustible (E para etanol y D para diésel) y calcule el valor a pagar por el cliente. Ten en cuenta algunas sugerencias:\n",
    "\n",
    "El valor del descuento será el producto del precio por litro, la cantidad de litros y el valor del descuento.\n",
    "El valor a pagar por un cliente será el resultado de la multiplicación del precio por litro por la cantidad de litros menos el valor del descuento resultante del cálculo.\n",
    "\n",
    "* 13 - En una empresa de venta de bienes raíces, debes crear un código que analice los datos de ventas anuales para ayudar a la dirección en la toma de decisiones. El código debe recopilar los datos de cantidad de ventas durante los años 2022 y 2023 y calcular la variación porcentual. A partir del valor de la variación, se deben proporcionar las siguientes sugerencias:\n",
    "\n",
    "* Para una variación superior al 20%: bonificación para el equipo de ventas.\n",
    "* Para una variación entre el 2% y el 20%: pequeña bonificación para el equipo de ventas.\n",
    "* Para una variación entre el 2% y el -10%: planificación de políticas de incentivo a las ventas.\n",
    "* Para bonificaciones inferiores al -10%: recorte de gastos.\n",
    "Si necesitas ayuda, las opciones de solución para las actividades estarán disponibles en la sección \"Opinión del instructor\"."
   ]
  },
  {
   "cell_type": "markdown",
   "metadata": {},
   "source": [
    "## Opinión del instructor\n",
    "\n",
    "Pueden existir diversas formas de resolver un problema. Presentaré cómo resolví estos problemas, lo cual no significa que sean las mejores soluciones, pero son una opción de solución.\n",
    "\n",
    "* 1 -"
   ]
  },
  {
   "cell_type": "code",
   "execution_count": 117,
   "metadata": {},
   "outputs": [
    {
     "name": "stdout",
     "output_type": "stream",
     "text": [
      "El segundo número es mayor: 9.8\n"
     ]
    }
   ],
   "source": [
    "# Recolectamos los números\n",
    "num1 = float(input('Ingrese el primer número: '))\n",
    "num2 = float(input('Ingrese el segundo número: '))\n",
    "# Comparamos ambos números y determinamos cuál es el mayor\n",
    "if num1 > num2:\n",
    "    print(f'El primer número es mayor: {num1}')\n",
    "elif num2 > num1:\n",
    "    print(f'El segundo número es mayor: {num2}')\n",
    "else: # En caso de que los números sean iguales\n",
    "    print('Ambos números son iguales.')"
   ]
  },
  {
   "cell_type": "markdown",
   "metadata": {},
   "source": [
    "* 2 -"
   ]
  },
  {
   "cell_type": "code",
   "execution_count": 118,
   "metadata": {},
   "outputs": [
    {
     "ename": "SyntaxError",
     "evalue": "invalid syntax (3276154008.py, line 5)",
     "output_type": "error",
     "traceback": [
      "\u001b[0;36m  Cell \u001b[0;32mIn[118], line 5\u001b[0;36m\u001b[0m\n\u001b[0;31m    if variación > 0:\u001b[0m\n\u001b[0m                    ^\u001b[0m\n\u001b[0;31mSyntaxError\u001b[0m\u001b[0;31m:\u001b[0m invalid syntax\n"
     ]
    }
   ],
   "source": [
    "# Recolectamos el porcentaje\n",
    "variación = float(input('Ingrese el porcentaje de crecimiento: ')\n",
    "# Verificamos si el valor es positivo o negativo con una comparación para ver si el número\n",
    "# es mayor o menor que 0\n",
    "if variación > 0:\n",
    "    print(f'Hubo un crecimiento del {variación}%')\n",
    "elif variación < 0:\n",
    "    print(f'Hubo un decrecimiento del {variación}%')\n",
    "else:\n",
    "    print('No hubo crecimiento ni decrecimiento.'))"
   ]
  },
  {
   "cell_type": "markdown",
   "metadata": {},
   "source": [
    "* 3 - Podemos verificar si una letra es una vocal o una consonante al comprobar si el carácter está contenido en una cadena de vocales utilizando el operador in."
   ]
  },
  {
   "cell_type": "code",
   "execution_count": 120,
   "metadata": {},
   "outputs": [
    {
     "name": "stdout",
     "output_type": "stream",
     "text": [
      "La letra es una vocal.\n"
     ]
    }
   ],
   "source": [
    "# Recolectamos la letra del usuario en minúsculas\n",
    "letra = input('Ingrese una letra: ').lower()\n",
    "vocales = 'aeiou' # cadena que contiene todas las vocales\n",
    "# Verificamos si la letra está en las vocales con `in`\n",
    "if letra in vocales:\n",
    "    print('La letra es una vocal.')\n",
    "else:\n",
    "    print('La letra es una consonante.')"
   ]
  },
  {
   "cell_type": "markdown",
   "metadata": {},
   "source": [
    "* 4 - Comparamos cada valor con los otros dos valores correspondientes a los otros dos años y determinamos el valor más alto y el más bajo. Lo hacemos asignando inicialmente el valor de precio_ano1 como el valor máximo y, si encontramos un valor mayor, actualizamos la variable mayor. Utilizamos una lógica similar para encontrar el valor mínimo."
   ]
  },
  {
   "cell_type": "code",
   "execution_count": 121,
   "metadata": {},
   "outputs": [
    {
     "name": "stdout",
     "output_type": "stream",
     "text": [
      "El precio más alto fue de R$ 6000.0.\n",
      "El precio más bajo fue de R$ 9.0.\n"
     ]
    }
   ],
   "source": [
    "# Recolectamos los precios de los 3 años\n",
    "precio_ano1 = float(input('Ingrese el precio promedio del automóvil en el primer año: '))\n",
    "precio_ano2 = float(input('Ingrese el precio promedio del automóvil en el segundo año: '))\n",
    "precio_ano3 = float(input('Ingrese el precio promedio del automóvil en el tercer año: '))\n",
    "# Determinamos el valor más alto mediante comparaciones\n",
    "mayor = precio_ano1\n",
    "if precio_ano2 > mayor:\n",
    "  mayor = precio_ano2\n",
    "if precio_ano3 > mayor:\n",
    "  mayor = precio_ano3\n",
    "# Determinamos el valor más bajo mediante comparaciones\n",
    "menor = precio_ano1\n",
    "if precio_ano2 < menor:\n",
    "  menor = precio_ano2\n",
    "if precio_ano3 < menor:\n",
    "  menor = precio_ano3\n",
    "# Mostramos los resultados\n",
    "print(f'El precio más alto fue de R$ {mayor}.')\n",
    "print(f'El precio más bajo fue de R$ {menor}.')\n"
   ]
  },
  {
   "cell_type": "markdown",
   "metadata": {},
   "source": [
    "* 5 -"
   ]
  },
  {
   "cell_type": "code",
   "execution_count": 122,
   "metadata": {},
   "outputs": [
    {
     "name": "stdout",
     "output_type": "stream",
     "text": [
      "El tercer producto es el más barato.\n"
     ]
    }
   ],
   "source": [
    "# Recolectamos el precio de tres productos\n",
    "producto1 = float(input('Ingrese el precio del primer producto: '))\n",
    "producto2 = float(input('Ingrese el precio del segundo producto: '))\n",
    "producto3 = float(input('Ingrese el precio del tercer producto: '))\n",
    "\n",
    "# Usamos el operador lógico `and` para determinar cuál es el precio más bajo entre los 3 productos\n",
    "# ya que esto nos permite hacer una comparación de 3 entradas\n",
    "if producto1 < producto2 and producto1 < producto3:\n",
    "    print('El primer producto es el más barato.')\n",
    "elif producto2 < producto1 and producto2 < producto3:\n",
    "    print('El segundo producto es el más barato.')\n",
    "else:\n",
    "    print('El tercer producto es el más barato.')"
   ]
  },
  {
   "cell_type": "markdown",
   "metadata": {},
   "source": [
    "* 6 - Después de recolectar los 3 números, realizamos comparaciones siguiendo una lógica similar a la pregunta anterior. Utilizamos el operador lógico and para determinar cuál es el número más grande entre los 3 datos de productos, luego verificamos entre los dos más pequeños y finalmente utilizamos print para mostrar los números en orden descendente mediante varias declaraciones condicionales anidadas."
   ]
  },
  {
   "cell_type": "code",
   "execution_count": 123,
   "metadata": {},
   "outputs": [
    {
     "name": "stdout",
     "output_type": "stream",
     "text": [
      "9\n",
      "8\n",
      "5\n"
     ]
    }
   ],
   "source": [
    "# Recolectamos los 3 números\n",
    "num1 = int(input('Ingrese el primer número: '))\n",
    "num2 = int(input('Ingrese el segundo número: '))\n",
    "num3 = int(input('Ingrese el tercer número: '))\n",
    "\n",
    "# Comparación entre los 3 números\n",
    "if (num1 >= num2) and (num1 >= num3):\n",
    "    print(num1)\n",
    "    if num2 >= num3:\n",
    "        print(num2)\n",
    "        print(num3)\n",
    "    else:\n",
    "        print(num3)\n",
    "        print(num2)\n",
    "elif (num2 >= num1) and (num2 >= num3):\n",
    "    print(num2)\n",
    "    if num1 >= num3:\n",
    "        print(num1)\n",
    "        print(num3)\n",
    "    else:\n",
    "        print(num3)\n",
    "        print(num1)\n",
    "else:\n",
    "    print(num3)\n",
    "    if num1 >= num2:\n",
    "        print(num1)\n",
    "        print(num2)\n",
    "    else:\n",
    "        print(num2)\n",
    "        print(num1)"
   ]
  },
  {
   "cell_type": "markdown",
   "metadata": {},
   "source": [
    "* 7 -"
   ]
  },
  {
   "cell_type": "code",
   "execution_count": 124,
   "metadata": {},
   "outputs": [
    {
     "name": "stdout",
     "output_type": "stream",
     "text": [
      "¡Buenas Tardes!\n"
     ]
    }
   ],
   "source": [
    "# Recolectamos el turno de estudio\n",
    "turno = input('Ingresa en qué turno estudias (mañana, tarde o noche): ')\n",
    "\n",
    "# Comparamos la entrada con todas las opciones y mostramos el resultado.\n",
    "if turno == 'mañana':\n",
    "  print('¡Buenos Días!')\n",
    "elif turno == 'tarde':\n",
    "  print('¡Buenas Tardes!')\n",
    "elif turno == 'noche':\n",
    "  print('¡Buenas Noches!')\n",
    "else:\n",
    "  print('¡Valor Inválido!')"
   ]
  },
  {
   "cell_type": "markdown",
   "metadata": {},
   "source": [
    "* 8 - Podemos usar el operador de módulo % para determinar si un número es par o impar. Si la división entera de un número entre 2 da como resultado 0, entonces es par. Si no, es impar. Esto se debe a que todos los números pares son divisibles por 2, por lo que no tienen un residuo en la división."
   ]
  },
  {
   "cell_type": "code",
   "execution_count": 125,
   "metadata": {},
   "outputs": [
    {
     "name": "stdout",
     "output_type": "stream",
     "text": [
      "El número es impar.\n"
     ]
    }
   ],
   "source": [
    "# Recolectamos los datos\n",
    "num = int(input('Ingresa un número: '))\n",
    "\n",
    "# Verificamos si el número es par según el resultado del módulo\n",
    "if num % 2 == 0:\n",
    "    print('El número es par.')\n",
    "else:\n",
    "    print('El número es impar.')"
   ]
  },
  {
   "cell_type": "markdown",
   "metadata": {},
   "source": [
    "* 9 - Podemos usar el operador de módulo % para determinar si un número es entero o decimal. Si el operador de módulo % devuelve cero en la división entera de un número entre 1, entonces es un número entero. De lo contrario, es un número decimal."
   ]
  },
  {
   "cell_type": "code",
   "execution_count": 127,
   "metadata": {},
   "outputs": [
    {
     "name": "stdout",
     "output_type": "stream",
     "text": [
      "El número es decimal.\n"
     ]
    }
   ],
   "source": [
    "# Recolectamos los datos\n",
    "num = float(input('Ingresa un número: '))\n",
    "# Verificamos si el número es entero o decimal según el resultado del módulo\n",
    "if num % 1 == 0:\n",
    "    print('El número es entero.')\n",
    "else:\n",
    "    print('El número es decimal.')"
   ]
  },
  {
   "cell_type": "markdown",
   "metadata": {},
   "source": [
    "* 10 -"
   ]
  },
  {
   "cell_type": "code",
   "execution_count": 128,
   "metadata": {},
   "outputs": [
    {
     "name": "stdout",
     "output_type": "stream",
     "text": [
      "El resultado es un número entero.\n",
      "El resultado es positivo.\n",
      "El resultado es un número impar.\n"
     ]
    }
   ],
   "source": [
    "# Recolectamos los números a operar y solicitamos la operación deseada por el usuario\n",
    "num1 = float(input('Ingrese el primer número: '))\n",
    "num2 = float(input('Ingrese el segundo número: '))\n",
    "operación = input('Ingrese la operación deseada (+, -, *, /): ')\n",
    "\n",
    "# Verificamos la operación seleccionada y realizamos la operación matemática según la elección\n",
    "if operación == '+':\n",
    "    resultado = num1 + num2\n",
    "elif operación == '-':\n",
    "    resultado = num1 - num2\n",
    "elif operación == '*':\n",
    "    resultado = num1 * num2\n",
    "elif operación == '/':\n",
    "    resultado = num1 / num2\n",
    "else: # Especificamos un resultado en caso de que el usuario no ingrese una de las operaciones correctamente.\n",
    "    print('Operación no válida, el resultado de la operación será 0')\n",
    "    resultado = 0 \n",
    "\n",
    "# Realizamos las mismas verificaciones que en preguntas anteriores para generar el informe del cálculo entre números\n",
    "if resultado % 1 == 0:\n",
    "    print('El resultado es un número entero.')\n",
    "else:\n",
    "    print('El resultado es un número decimal.')\n",
    "\n",
    "if resultado > 0:\n",
    "    print('El resultado es positivo.')\n",
    "else:\n",
    "    print('El resultado es negativo.')\n",
    "\n",
    "if resultado % 2 == 0:\n",
    "    print('El resultado es un número par.')\n",
    "else:\n",
    "    print('El resultado es un número impar.')"
   ]
  },
  {
   "cell_type": "markdown",
   "metadata": {},
   "source": [
    "* 11 - Después de recolectar los valores de los 3 lados de un triángulo, debemos verificar si realmente pueden formar un triángulo siguiendo el consejo \"Tres lados forman un triángulo cuando la suma de cualquier par de lados es mayor que el tercer lado\". Esta verificación se puede realizar con el operador \"and\". Luego, podemos verificar si todos los lados son iguales, lo que forma un triángulo equilátero, o si todos los lados son diferentes, lo que forma un triángulo escaleno. Estas verificaciones se pueden realizar con el operador \"and\" y los operadores \"== y \"! =\". Finalmente, utilizamos \"else\" para el caso de un triángulo isósceles."
   ]
  },
  {
   "cell_type": "code",
   "execution_count": 130,
   "metadata": {},
   "outputs": [
    {
     "name": "stdout",
     "output_type": "stream",
     "text": [
      "Estamos recopilando los lados de un triángulo.\n"
     ]
    },
    {
     "name": "stdout",
     "output_type": "stream",
     "text": [
      "¡Los valores pueden formar un triángulo!\n",
      "El triángulo es equilátero.\n"
     ]
    }
   ],
   "source": [
    "# Recolectamos los lados de un triángulo\n",
    "print('Estamos recopilando los lados de un triángulo.')\n",
    "lado1 = float(input('Ingresa la longitud del primer lado: '))\n",
    "lado2 = float(input('Ingresa la longitud del segundo lado: '))\n",
    "lado3 = float(input('Ingresa la longitud del tercer lado: '))\n",
    "\n",
    "# Verificamos si los lados pueden formar un triángulo\n",
    "if (lado1 + lado2 > lado3) and (lado2 + lado3 > lado1) and (lado1 + lado3 > lado2):\n",
    "    print('¡Los valores pueden formar un triángulo!')\n",
    "    # Comparamos los lados para determinar el tipo de triángulo\n",
    "    if (lado1 == lado2) and (lado2 == lado3):\n",
    "        print('El triángulo es equilátero.')\n",
    "    elif (lado1 != lado2) and (lado2 != lado3) and (lado1 != lado3):\n",
    "        print('El triángulo es escaleno.')\n",
    "    else:\n",
    "        print('El triángulo es isósceles.')\n",
    "else:\n",
    "    print('¡Los valores no pueden formar un triángulo!')"
   ]
  },
  {
   "cell_type": "markdown",
   "metadata": {},
   "source": [
    "* 12 -"
   ]
  },
  {
   "cell_type": "code",
   "execution_count": 131,
   "metadata": {},
   "outputs": [
    {
     "name": "stdout",
     "output_type": "stream",
     "text": [
      "Valor a pagar por el cliente: R$ 125.664\n"
     ]
    }
   ],
   "source": [
    "# Recolectamos la cantidad de litros y el tipo de combustible,\n",
    "# convirtiendo el carácter en mayúsculas para facilitar nuestro análisis\n",
    "cantidad_litros = float(input('Ingrese la cantidad de litros vendidos: '))\n",
    "tipo_combustible = input('Ingrese el tipo de combustible (E para etanol y D para diésel): ').upper()\n",
    "\n",
    "# Verificamos primero el tipo de combustible\n",
    "if tipo_combustible == 'E':\n",
    "  # Establecemos el precio por litro de etanol\n",
    "  precio_litro = 1.70\n",
    "  # Según la cantidad de litros, establecemos el descuento correspondiente\n",
    "  if cantidad_litros <= 15:\n",
    "    descuento = 0.02\n",
    "  else:\n",
    "    descuento = 0.04\n",
    "elif tipo_combustible == 'D':\n",
    "  # Establecemos el precio por litro de diésel\n",
    "  precio_litro = 2.00\n",
    "  # Según la cantidad de litros, establecemos el descuento correspondiente\n",
    "  if cantidad_litros <= 15:\n",
    "    descuento = 0.03\n",
    "  else:\n",
    "    descuento = 0.05\n",
    "# En caso de error en la especificación del tipo de combustible,\n",
    "# consideramos las entradas como no válidas y establecemos los precios y descuentos en 0\n",
    "else:\n",
    "    print('Entradas no válidas!')\n",
    "    precio_litro = 0\n",
    "    descuento = 0\n",
    "\n",
    "# Calculamos el valor del descuento, seguido del cálculo del precio descontado\n",
    "valor_descuento = precio_litro * cantidad_litros * descuento\n",
    "valor_pagado = precio_litro * cantidad_litros - valor_descuento\n",
    "\n",
    "# Resultado\n",
    "print(f'Valor a pagar por el cliente: R$ {valor_pagado}')"
   ]
  },
  {
   "cell_type": "markdown",
   "metadata": {},
   "source": [
    "* 13 -"
   ]
  },
  {
   "cell_type": "code",
   "execution_count": 132,
   "metadata": {},
   "outputs": [
    {
     "name": "stdout",
     "output_type": "stream",
     "text": [
      "Bonificación para el equipo de ventas.\n"
     ]
    }
   ],
   "source": [
    "# Recolectamos las ventas de los dos años\n",
    "venta_2022 = float(input('Ingrese la cantidad de ventas en 2022: '))\n",
    "venta_2023 = float(input('Ingrese la cantidad de ventas en 2023: '))\n",
    "\n",
    "# Calculamos la variación porcentual entre las ventas de los años 2022 y 2023\n",
    "var_porcentual = 100 * (venta_2023 - venta_2022) / (venta_2022)\n",
    "\n",
    "# Análisis condicional de la variación porcentual para determinar la sugerencia a enviar\n",
    "if var_porcentual > 20:\n",
    "    print('Bonificación para el equipo de ventas.')\n",
    "elif 2 <= var_porcentual <= 20:\n",
    "    print('Pequeña bonificación para el equipo de ventas.')\n",
    "elif -10 <= var_porcentual < 2:\n",
    "    print('Planificación de políticas de incentivo a las ventas.')\n",
    "else:\n",
    "    print('Recorte de gastos.')"
   ]
  },
  {
   "cell_type": "markdown",
   "metadata": {},
   "source": [
    "Ejercitarse es importante para consolidar el contenido, desarrollar habilidades de codificación, identificar puntos que aún no se han comprendido, prepararse para desafíos futuros, desarrollar el pensamiento lógico y la resolución de problemas.\n",
    "\n",
    "Teniendo esto en cuenta, es interesante realizar muchos ejercicios cuando se está aprendiendo un nuevo lenguaje de programación. Por lo tanto, busca completar los ejercicios propuestos y observa cómo te ayudan a progresar en tus habilidades de codificación."
   ]
  },
  {
   "cell_type": "markdown",
   "metadata": {},
   "source": [
    "## 13 - Lo que aprendimos\n",
    "\n",
    "\n",
    "Lo que aprendimos en esta aula:\n",
    "\n",
    "* Construir estructuras condicionales con if, else y elif.\n",
    "* Diferenciar las estructuras condicionales.\n",
    "* Seleccionar la estructura condicional que mejor se adapte al problema.\n",
    "* Utilizar diferentes operadores para crear expresiones condicionales."
   ]
  },
  {
   "cell_type": "markdown",
   "metadata": {
    "id": "lYqGukUbX52E"
   },
   "source": [
    "### `IN`\n",
    "\n",
    "Es usado para verificar si un elemento está presente en una lista, tupla u otra colección de conjunto. La expresión `x in y` se evalúa como `True` si el elemento `x` esta presente na variávelen la variable de conjunto `y`, y como `False` en caso contrario.\n",
    "\n",
    "\n",
    "\n"
   ]
  },
  {
   "cell_type": "markdown",
   "metadata": {},
   "source": [
    "Podemos verificarlo con variables de texto.\n",
    "\n",
    "---\n",
    "\n",
    "**Situación:**\n",
    "\n",
    "En la escuela nos entregaron una lista con nombres de estudiantes que fueron aprobados según el promedio del semestre, pero es necesario verificar si algunos nombres están en esa lista para confirmar que los datos estén correctos.\n",
    "\n",
    "La lista distribuida puede ser observada a continuación:\n",
    "\n",
    "```\n",
    "lista = 'Juan Pérez, María González, Pedro Rodríguez, Ana López, Carlos Martínez,\n",
    "    Laura Sánchez, José García, Elena Fernández, Luis Morales, Carmen Torres,\n",
    "    David Ruiz, Isabel Ramírez, Javier Díaz, Sara Herrera, Miguel Castro,\n",
    "    Patricia Ortega, Francisco Vargas, Marta Jiménez, Manuel Medina, Rosa Molina,\n",
    "    Alejandro Silva, Silvia Ruiz, Andrés Torres, Natalia Soto, Diego Guerrero,\n",
    "    Paula Ríos, Ricardo Navarro, Alicia Cordero, Carlos Vidal, Lorena Gómez'\n",
    "```\n",
    "\n",
    "Los nombres que necesitas verificar son los siguientes:\n",
    "\n",
    "```\n",
    "nombre_1 = 'Miguel Castro'\n",
    "nombre_2 = 'Marcelo Noguera'\n",
    "```"
   ]
  },
  {
   "cell_type": "code",
   "execution_count": 73,
   "metadata": {
    "id": "qujXgokgZA9m"
   },
   "outputs": [],
   "source": [
    "lista = 'Juan Pérez, María González, Pedro Rodríguez,Ana López, Carlos Martínez,Laura Sánchez, José García, Elena Fernández, Luis Morales, Carmen Torres,David Ruiz, Isabel Ramírez, Javier Díaz, Sara Herrera, Miguel Castro,Patricia Ortega, Francisco Vargas, Marta Jiménez, Manuel Medina, Rosa Molina,Alejandro Silva, Silvia Ruiz, Andrés Torres, Natalia Soto, Diego Guerrero,Paula Ríos, Ricardo Navarro, Alicia Cordero, Carlos Vidal, Lorena Gómez'\n"
   ]
  },
  {
   "cell_type": "code",
   "execution_count": 74,
   "metadata": {
    "id": "2svso9gKZKTo"
   },
   "outputs": [],
   "source": [
    "nombre_1 = 'Miguel Castro'\n",
    "nombre_2 = 'Marcelo Noguera'\n"
   ]
  },
  {
   "cell_type": "code",
   "execution_count": 75,
   "metadata": {
    "colab": {
     "base_uri": "https://localhost:8080/"
    },
    "executionInfo": {
     "elapsed": 22,
     "status": "ok",
     "timestamp": 1748309973889,
     "user": {
      "displayName": "Pol Argentino",
      "userId": "02817779166023488471"
     },
     "user_tz": 180
    },
    "id": "svK41G8IZPKr",
    "outputId": "87f0107b-9464-430f-9178-64f4cd440b20"
   },
   "outputs": [
    {
     "name": "stdout",
     "output_type": "stream",
     "text": [
      "El estudiante aprobó.\n"
     ]
    }
   ],
   "source": [
    "if nombre_1 in lista:\n",
    "  print('El estudiante aprobó.')\n",
    "else:\n",
    "  print('El estudiante reprobó.')"
   ]
  },
  {
   "cell_type": "code",
   "execution_count": 76,
   "metadata": {
    "colab": {
     "base_uri": "https://localhost:8080/"
    },
    "executionInfo": {
     "elapsed": 365,
     "status": "ok",
     "timestamp": 1748310111025,
     "user": {
      "displayName": "Pol Argentino",
      "userId": "02817779166023488471"
     },
     "user_tz": 180
    },
    "id": "e7XcRVvSZvoI",
    "outputId": "6440fada-33ff-4f43-c402-b7f024d31a64"
   },
   "outputs": [
    {
     "name": "stdout",
     "output_type": "stream",
     "text": [
      "El estudiante reprobó.\n"
     ]
    }
   ],
   "source": [
    "\n",
    "if nombre_2 in lista:\n",
    "  print('El estudiante aprobó.')\n",
    "else:\n",
    "  print('El estudiante reprobó.')"
   ]
  },
  {
   "cell_type": "markdown",
   "metadata": {
    "id": "YfhMesDvZ35_"
   },
   "source": [
    "## Estructuras de repetición\n"
   ]
  },
  {
   "cell_type": "markdown",
   "metadata": {},
   "source": [
    "Cuando tenemos que ejecutar un mismo bloque de comandos durante varias ocasiones no es nada práctico hacerlo a mano.\n",
    "\n",
    "**Situación**: Nos fue solicitado obtener e imprimir el promedio de 2 notas de **3 estudantes**:"
   ]
  },
  {
   "cell_type": "code",
   "execution_count": 77,
   "metadata": {
    "colab": {
     "base_uri": "https://localhost:8080/"
    },
    "executionInfo": {
     "elapsed": 28654,
     "status": "ok",
     "timestamp": 1748310241658,
     "user": {
      "displayName": "Pol Argentino",
      "userId": "02817779166023488471"
     },
     "user_tz": 180
    },
    "id": "ywUljVwqaHwi",
    "outputId": "2a33ece4-8040-46c6-c935-f83be0308eb2"
   },
   "outputs": [
    {
     "name": "stdout",
     "output_type": "stream",
     "text": [
      "El promedio del estudiante 1 es: 8.5\n",
      "El promedio del estudiante 2 es: 6.5\n",
      "El promedio del estudiante 3 es: 6.0\n"
     ]
    }
   ],
   "source": [
    "\n",
    "nota_1 = float(input('Digita la primera nota: '))\n",
    "nota_2 = float(input('Digita la segunda nota: '))\n",
    "print(f'El promedio del estudiante 1 es: {(nota_1+nota_2)/2}')\n",
    "\n",
    "nota_1 = float(input('Digita la primera nota: '))\n",
    "nota_2 = float(input('Digita la segunda nota: '))\n",
    "print(f'El promedio del estudiante 2 es: {(nota_1+nota_2)/2}')\n",
    "\n",
    "nota_1 = float(input('Digita la primera nota: '))\n",
    "nota_2 = float(input('Digita la segunda nota: '))\n",
    "print(f'El promedio del estudiante 3 es: {(nota_1+nota_2)/2}')\n"
   ]
  },
  {
   "cell_type": "markdown",
   "metadata": {
    "id": "y8qIykNTac4c"
   },
   "source": [
    "Ahora imaginemos una situación en que no son tan solo 3 estudiantes, sino 100 estudiantes. No sería nada interesante repetir el mismo código 100 veces, sino **ejecutar el mismo código 100 veces**.\n",
    "\n",
    "¡Esta estructura la logramos construir con lazos de repetición!"
   ]
  },
  {
   "cell_type": "markdown",
   "metadata": {
    "id": "ew57MpbUamHj"
   },
   "source": [
    "## `WHILE`"
   ]
  },
  {
   "cell_type": "markdown",
   "metadata": {},
   "source": [
    "El lazo `while` es una estructura de control de repetición en Python que permite ejecutar un bloque de código repetidamente mientras que una determinada condición sea verdadera. Su estructura es:\n",
    "\n",
    "\n",
    "\n",
    "```\n",
    "while condicion:\n",
    "    # bloque de codigo\n",
    "```\n",
    "\n",
    "Vamos a construir un ejemplo con un contador de 1 hasta 10."
   ]
  },
  {
   "cell_type": "code",
   "execution_count": 78,
   "metadata": {
    "colab": {
     "base_uri": "https://localhost:8080/"
    },
    "executionInfo": {
     "elapsed": 87,
     "status": "ok",
     "timestamp": 1748310357136,
     "user": {
      "displayName": "Pol Argentino",
      "userId": "02817779166023488471"
     },
     "user_tz": 180
    },
    "id": "f3o2uruzauV0",
    "outputId": "234f246d-6026-465a-eaa6-91728874ba01"
   },
   "outputs": [
    {
     "name": "stdout",
     "output_type": "stream",
     "text": [
      "1\n",
      "2\n",
      "3\n",
      "4\n",
      "5\n",
      "6\n",
      "7\n",
      "8\n",
      "9\n",
      "10\n"
     ]
    }
   ],
   "source": [
    "contador = 1\n",
    "while contador <= 10:\n",
    "  print(contador)\n",
    "  # contador = contador + 1\n",
    "  contador += 1"
   ]
  },
  {
   "cell_type": "markdown",
   "metadata": {
    "id": "mpK3r66za0Dz"
   },
   "source": [
    "Ahora vamos a colectar las notas y promedios de cada alumno dentro del lazo `while`. Haremos un ejemplo con 3 promedios."
   ]
  },
  {
   "cell_type": "code",
   "execution_count": 79,
   "metadata": {
    "colab": {
     "base_uri": "https://localhost:8080/"
    },
    "executionInfo": {
     "elapsed": 21627,
     "status": "ok",
     "timestamp": 1748310430578,
     "user": {
      "displayName": "Pol Argentino",
      "userId": "02817779166023488471"
     },
     "user_tz": 180
    },
    "id": "qoaU2mWPa2ig",
    "outputId": "d8b29223-401c-4b31-8512-6d278468e2fd"
   },
   "outputs": [
    {
     "name": "stdout",
     "output_type": "stream",
     "text": [
      "El promedio del estudiante 1 es: 5.5\n",
      "El promedio del estudiante 1 es: 6.5\n",
      "El promedio del estudiante 1 es: 8.5\n"
     ]
    }
   ],
   "source": [
    "contador = 1\n",
    "while contador <= 3:\n",
    "  nota_1 = float(input('Digita la primera nota: '))\n",
    "  nota_2 = float(input('Digita la segunda nota: '))\n",
    "  print(f'El promedio del estudiante 1 es: {(nota_1+nota_2)/2}')\n",
    "  contador += 1"
   ]
  },
  {
   "cell_type": "code",
   "execution_count": null,
   "metadata": {},
   "outputs": [],
   "source": [
    "precio = 2.00\n",
    "precio += 3\n",
    "print(precio)"
   ]
  },
  {
   "cell_type": "markdown",
   "metadata": {},
   "source": [
    "Además de estos, existen otros operadores de asignación que permiten modificar los valores de las variables. Puede encontrar información sobre los operadores, su descripción y ejemplos en la siguiente tabla:"
   ]
  },
  {
   "cell_type": "markdown",
   "metadata": {},
   "source": [
    "![operador.png](/home/pol/Escritorio/ipynb-alura/assets/operador.png)"
   ]
  },
  {
   "cell_type": "markdown",
   "metadata": {},
   "source": [
    "##  05 ¿Para qué sirven los lazos?\n",
    "\n",
    "Estructuras de repetición, como el \"while,\" permiten la ejecución repetida de un bloque de comandos. Para el \"while,\" el bloque se repite mientras una cierta condición sea verdadera. En el contexto de Ciencia de Datos, los bucles pueden contribuir significativamente a un estudio basado en datos. Con esto en mente, elija la alternativa que contiene una aplicación en Ciencia de Datos que tenga sentido utilizar una estructura de repetición."
   ]
  },
  {
   "cell_type": "markdown",
   "metadata": {},
   "source": [
    "El bucle se puede utilizar para leer y manipular un conjunto pequeño de datos. Por ejemplo, al recibir un conjunto de datos relacionados con las ventas anuales de una empresa, se puede utilizar el bucle para leer el conjunto elemento por elemento y realizar un análisis sobre cómo calcular el promedio de ventas en cada mes.\n",
    "\n",
    "\n",
    "Con un bucle, podemos iterar sobre un conjunto de datos y realizar alguna operación en cada elemento. Esto es muy útil porque a veces los datos que estamos analizando necesitan ser limpiados o formateados antes de ser utilizados. Por lo tanto, un bucle que permita realizar este proceso de manera automática y rápida es muy útil y tiene mucho sentido."
   ]
  },
  {
   "cell_type": "markdown",
   "metadata": {},
   "source": [
    "##  06 Lazo For\n"
   ]
  },
  {
   "cell_type": "markdown",
   "metadata": {
    "id": "PQUT12khbLOn"
   },
   "source": [
    "## `FOR`\n"
   ]
  },
  {
   "cell_type": "markdown",
   "metadata": {},
   "source": [
    "El lazo `for` es un tipo de estructura de control de flujo en Python que permite iterar sobre un conjunto de elementos. Su estructura es:\n",
    "\n",
    "\n",
    "\n",
    "```\n",
    "for elemento in conjunto:\n",
    "    # codigo a ser ejecutado para cada elemento\n",
    "```\n",
    "\n",
    "El lazo `for` itera sobre cada elemento del conjunto especificado y ejecuta el bloque de código dentro del lazo para cada elemento. Cuando el lazo llega al final del conjunto, este se interrumpe y el programa continúa la ejecución después del lazo."
   ]
  },
  {
   "cell_type": "markdown",
   "metadata": {},
   "source": [
    "El conjunto lo podemos generar con la función incorporada [`range()`](https://docs.python.org/3/library/functions.html#func-range). Se trata de una función capaz de generar una secuencia de números enteros. La estructura de esta función es:\n",
    "\n",
    "```\n",
    "range(inicio, fin, paso)\n",
    "```\n",
    "\n",
    "Según la documentación, `range()` genera una secuencia de números enteros a partir del valor del parámetro `inicio` hasta el valor del parámetro `fin`, de acuerdo con el valor del parámetro `paso`. Si `inicio` no es especificado, el valor por defecto es `0`. Si `paso` no es especificado, el valor por defecto es `1`."
   ]
  },
  {
   "cell_type": "markdown",
   "metadata": {},
   "source": [
    "Vamos a recrear el mismo contador `while` con el lazo `for`."
   ]
  },
  {
   "cell_type": "code",
   "execution_count": 81,
   "metadata": {
    "colab": {
     "base_uri": "https://localhost:8080/"
    },
    "executionInfo": {
     "elapsed": 72,
     "status": "ok",
     "timestamp": 1748310637178,
     "user": {
      "displayName": "Pol Argentino",
      "userId": "02817779166023488471"
     },
     "user_tz": 180
    },
    "id": "xqpRMQbGbyWG",
    "outputId": "8c0d5136-5b9b-42ec-abc0-12c0c583c8ff"
   },
   "outputs": [
    {
     "name": "stdout",
     "output_type": "stream",
     "text": [
      "1\n",
      "2\n",
      "3\n",
      "4\n",
      "5\n",
      "6\n",
      "7\n",
      "8\n",
      "9\n",
      "10\n"
     ]
    }
   ],
   "source": [
    "for n in range(1,11):\n",
    "  print(n)"
   ]
  },
  {
   "cell_type": "code",
   "execution_count": 82,
   "metadata": {
    "colab": {
     "base_uri": "https://localhost:8080/"
    },
    "executionInfo": {
     "elapsed": 17634,
     "status": "ok",
     "timestamp": 1748310681518,
     "user": {
      "displayName": "Pol Argentino",
      "userId": "02817779166023488471"
     },
     "user_tz": 180
    },
    "id": "VnsMctWcb4L8",
    "outputId": "9bbb494f-f8e2-4190-bdfe-344515687e8e"
   },
   "outputs": [
    {
     "name": "stdout",
     "output_type": "stream",
     "text": [
      "El promedio del estudiante 1 es: 7.0\n",
      "El promedio del estudiante 1 es: 8.0\n",
      "El promedio del estudiante 1 es: 9.0\n"
     ]
    }
   ],
   "source": [
    "for e in range(1,4):\n",
    "  nota_1 = float(input('Digita la primera nota: '))\n",
    "  nota_2 = float(input('Digita la segunda nota: '))\n",
    "  print(f'El promedio del estudiante 1 es: {(nota_1+nota_2)/2}')"
   ]
  },
  {
   "cell_type": "markdown",
   "metadata": {},
   "source": [
    "##  07 ¿Qué es el lazo for?\n",
    "\n",
    "Aprendimos sobre la estructura de repetición \"for\" en clase. Elige la alternativa que describa qué hace el \"for\" y muestra un ejemplo con su estructura.\n",
    "\n",
    "El \"for\" es una estructura de repetición que permite iterar sobre un conjunto de elementos. Para nuestro ejemplo, podemos crear un código que permite descubrir la cantidad total de propiedades construidas entre los años 2017 y 2022 por una inmobiliaria."
   ]
  },
  {
   "cell_type": "code",
   "execution_count": null,
   "metadata": {},
   "outputs": [],
   "source": [
    "total_propiedades = 0\n",
    "\n",
    "for año in range(2017, 2023):\n",
    "cantidad_propiedades = float(input(f'Digite la cantidad de propiedades en el año {año}: '))\n",
    "total_propiedades += cantidad_propiedades\n",
    "\n",
    "print(f'Total de propiedades construidas: {total_propiedades} propiedades')"
   ]
  },
  {
   "cell_type": "markdown",
   "metadata": {},
   "source": [
    "El \"for\" itera sobre cada elemento del conjunto especificado y ejecuta el bloque de código dentro del bucle para cada elemento. Cuando el bucle llega al final del conjunto, se detiene. En el ejemplo, el conjunto iterado es el rango que funciona como un contador de 2017 a 2022, recopilando la cantidad de propiedades y sumándolas al total en cada iteración. Cuando se han recorrido todos los elementos en la secuencia del rango, el bucle se detiene."
   ]
  },
  {
   "cell_type": "markdown",
   "metadata": {},
   "source": [
    "##  08 Para saber más: comandos de control\n",
    "\n",
    "Cuando trabajamos con bucles, podemos controlar el flujo de ejecución dentro del bloque de código, lo que nos permite manipular la ejecución de los bucles. continue y break son los comandos de control que podemos usar con los bucles for y while.\n",
    "\n",
    "continue interrumpe la iteración actual del bucle y salta a la siguiente, es decir, regresa al inicio del código. Como ejemplo, aquí hay un código que cuenta del 1 al 5 con un bucle for:"
   ]
  },
  {
   "cell_type": "code",
   "execution_count": 133,
   "metadata": {},
   "outputs": [
    {
     "name": "stdout",
     "output_type": "stream",
     "text": [
      "1\n",
      "2\n",
      "3\n",
      "5\n"
     ]
    }
   ],
   "source": [
    "for i in range(1, 6):\n",
    "    if i == 4:\n",
    "        continue\n",
    "    print(i)"
   ]
  },
  {
   "cell_type": "markdown",
   "metadata": {},
   "source": [
    "Este código imprime todos los números del 1 al 5, excepto el 4. Cuando el valor de i es 4, continue salta a la siguiente iteración, omitiendo la instrucción print después de la condición en la iteración actual.\n",
    "\n",
    "Por otro lado, break detiene por completo la ejecución del bucle, saliendo del bloque de código. Utilicemos el mismo ejemplo de conteo, pero esta vez con break:"
   ]
  },
  {
   "cell_type": "code",
   "execution_count": 134,
   "metadata": {},
   "outputs": [
    {
     "name": "stdout",
     "output_type": "stream",
     "text": [
      "1\n",
      "2\n",
      "3\n"
     ]
    }
   ],
   "source": [
    "for i in range(1, 6):\n",
    "    if i == 4:\n",
    "        break\n",
    "    print(i)"
   ]
  },
  {
   "cell_type": "markdown",
   "metadata": {},
   "source": [
    "En este caso, el código imprime todos los números del 1 al 3. Cuando el valor de i es 4, break interrumpe por completo la ejecución del bucle y sale de él, ignorando cualquier otra iteración que esté dentro de la estructura.\n",
    "\n"
   ]
  },
  {
   "cell_type": "markdown",
   "metadata": {},
   "source": [
    "##  09 Desafío: ¡Es hora de practicar!\n",
    "\n",
    "Vamos practicar el uso de estructuras de repetición como el \"while\" y el \"for\" a partir de algunas actividades. Ahora que estamos avanzando en el contenido, podemos hacer los desafíos más interesantes. ¡Para ello, trabajaremos en proyectos de código!\n",
    "\n",
    "Comencemos resolviendo algunos problemas para calentar y prepararnos para los proyectos.\n",
    "\n",
    "### Entrenando la programación\n",
    "\n",
    "* 1 - Escribe un programa que solicite dos números enteros e imprima todos los números enteros entre ellos.\n",
    "\n",
    "* 2 - Escribe un programa para calcular cuántos días tomará que la colonia de una bacteria A supere o iguale a la colonia de una bacteria B, basado en tasas de crecimiento del 3% y 1.5%, respectivamente. Supón que la colonia A comienza con 4 elementos y B con 10.\n",
    "\n",
    "* 3 - Para procesar una cantidad de 15 datos de evaluaciones de usuarios de un servicio de la empresa, necesitamos verificar si las calificaciones son válidas. Por lo tanto, escribe un programa que recibirá calificaciones del 0 al 5 y verificará si son valores válidos. Si se ingresa una calificación superior a 5 o inferior a 0, se repetirá hasta que el usuario ingrese un valor válido.\n",
    "\n",
    "* 4 - Desarrolla un programa que lea un conjunto indefinido de temperaturas en grados Celsius y calcule su promedio. La lectura debe detenerse al ingresar el valor -273°C.\n",
    "\n",
    "* 5 - Escribe un programa que calcule el factorial de un número entero proporcionado por el usuario. Recuerda que el factorial de un número entero es el producto de ese número por todos sus antecesores hasta llegar al número 1. Por ejemplo, el factorial de 5 es 5 x 4 x 3 x 2 x 1 = 120.\n",
    "\n",
    "### Momento de los proyectos\n",
    "\n",
    "* 6 - Escribe un programa que genere la tabla de multiplicar de un número entero del 1 al 10, según la elección del usuario. Como ejemplo, para el número 2, la tabla de multiplicar debe mostrarse en el siguiente formato:"
   ]
  },
  {
   "cell_type": "code",
   "execution_count": null,
   "metadata": {},
   "outputs": [],
   "source": [
    "Tabla de multiplicar del 2:\n",
    "2 x 1 = 2\n",
    "2 x 2 = 4\n",
    "[...]\n",
    "2 x 10 = 20"
   ]
  },
  {
   "cell_type": "markdown",
   "metadata": {},
   "source": [
    "* 7 - Los números primos tienen diversas aplicaciones en Ciencia de Datos, como en criptografía y seguridad. Un número primo es aquel que es divisible solo por sí mismo y por 1. Por lo tanto, crea un programa que solicite un número entero y determine si es un número primo o no.\n",
    "\n",
    "* 8 - Vamos a comprender la distribución de edades de los pensionistas de una empresa de seguros. Escribe un programa que lea las edades de una cantidad no informada de clientes y muestre la distribución en los intervalos [0-25], [26-50], [51-75] y [76-100]. La entrada de datos se detendrá al ingresar un número negativo.\n",
    "\n",
    "* 9 - En una elección para la gerencia de una empresa con 20 empleados, hay cuatro candidatos. Escribe un programa que calcule al ganador de la elección. La votación se realizó de la siguiente manera:\n",
    "\n",
    "Cada empleado votó por uno de los cuatro candidatos (representados por los números 1, 2, 3 y 4).\n",
    "\n",
    "También se contaron los votos nulos (representados por el número 5) y los votos en blanco (representados por el número 6).\n",
    "\n",
    "Al final de la votación, el programa debe mostrar el número total de votos para cada candidato, los votos nulos y los votos en blanco. Además, debe calcular y mostrar el porcentaje de votos nulos con respecto al total de votos y el porcentaje de votos en blanco con respecto al total de votos.\n",
    "\n",
    "Si necesitas ayuda, las soluciones a las actividades están disponibles en la sección \"Opinión del instructor\"."
   ]
  },
  {
   "cell_type": "markdown",
   "metadata": {},
   "source": [
    "## Opinión del instructor\n",
    "\n",
    "Pueden existir diversas formas de resolver los problemas propuestos, y algunas de ellas se presentan a continuación.\n",
    "\n",
    "Entrenando la programación\n",
    "\n",
    "* 1 -"
   ]
  },
  {
   "cell_type": "code",
   "execution_count": 136,
   "metadata": {},
   "outputs": [
    {
     "name": "stdout",
     "output_type": "stream",
     "text": [
      "5\n"
     ]
    }
   ],
   "source": [
    "# Recolectamos los valores de inicio y fin\n",
    "inicio = int(input('Ingresa el primer número entero: '))\n",
    "fin = int(input('Ingresa el segundo número entero: '))\n",
    "\n",
    "# Verificamos si el valor de inicio es menor que el fin\n",
    "if inicio < fin:\n",
    "  # Podemos imprimir los enteros entre el valor menor y el valor mayor\n",
    "  for i in range(inicio + 1, fin): \n",
    "    print(i)\n",
    "elif inicio > fin:\n",
    "  for i in range(fin + 1, inicio):\n",
    "    print(i)\n",
    "else: # En caso de que los números sean iguales, no podemos imprimir ninguna secuencia.\n",
    "  print('Los números son iguales.')"
   ]
  },
  {
   "cell_type": "markdown",
   "metadata": {},
   "source": [
    "* 2 -"
   ]
  },
  {
   "cell_type": "code",
   "execution_count": 137,
   "metadata": {},
   "outputs": [
    {
     "name": "stdout",
     "output_type": "stream",
     "text": [
      "Necesitará 63 días para que la colonia A supere a la colonia B.\n"
     ]
    }
   ],
   "source": [
    "# Número inicial de bacterias\n",
    "colonia_a = 4\n",
    "colonia_b = 10\n",
    "\n",
    "# Tasas de crecimiento de las colonias\n",
    "tasa_a = 0.03\n",
    "tasa_b = 0.015\n",
    "\n",
    "# Contador de días\n",
    "días = 0\n",
    "\n",
    "# La condición que termina el bucle es cuando\n",
    "# la colonia A supera a la colonia B\n",
    "while colonia_a <= colonia_b:\n",
    "  # Usamos un operador de asignación con multiplicación\n",
    "  colonia_a *= 1 + tasa_a\n",
    "  colonia_b *= 1 + tasa_b\n",
    "  # Contamos los días en cada iteración\n",
    "  días += 1\n",
    "\n",
    "# Resultado final\n",
    "print(f'Necesitará {días} días para que la colonia A supere a la colonia B.')"
   ]
  },
  {
   "cell_type": "markdown",
   "metadata": {},
   "source": [
    "* 3 -"
   ]
  },
  {
   "cell_type": "code",
   "execution_count": 142,
   "metadata": {},
   "outputs": [
    {
     "name": "stdout",
     "output_type": "stream",
     "text": [
      "Verificación completa. Todas las notas son válidas.\n"
     ]
    }
   ],
   "source": [
    "# Bucle para recopilar las 15 notas\n",
    "for i in range(15):\n",
    "  nota = float(input(f'Ingresa la nota del usuario {i}: '))\n",
    "\n",
    "  # Verifica si la nota está entre 0 y 5\n",
    "  # Si no lo está, el bucle se repetirá hasta que se obtenga un valor válido\n",
    "  while (nota < 0) or (nota > 5):\n",
    "    nota = float(input(f'Nota no válida, ingresa nuevamente la nota del usuario {i}: '))\n",
    "\n",
    "print('Verificación completa. Todas las notas son válidas.')"
   ]
  },
  {
   "cell_type": "markdown",
   "metadata": {},
   "source": [
    "* 4 -"
   ]
  },
  {
   "cell_type": "code",
   "execution_count": 143,
   "metadata": {},
   "outputs": [
    {
     "name": "stdout",
     "output_type": "stream",
     "text": [
      "El promedio de las temperaturas es: 32.42857142857143\n"
     ]
    }
   ],
   "source": [
    "# Recopilamos la temperatura\n",
    "temperatura = float(input('Ingresa la temperatura en grados Celsius: '))\n",
    "\n",
    "# Inicializamos un contador y una suma para calcular el promedio\n",
    "contador = 0\n",
    "suma = 0\n",
    "\n",
    "# Nuestro código se ejecuta hasta que el valor de temperatura sea igual a -273\n",
    "while temperatura != -273:\n",
    "    # La suma se actualiza sumando la temperatura a la variable suma\n",
    "    suma += temperatura\n",
    "    # Contamos la cantidad de valores recopilados con el contador\n",
    "    contador += 1\n",
    "    # Recopilamos nuevamente la temperatura\n",
    "    temperatura = float(input('Ingresa la temperatura en grados Celsius: '))\n",
    "\n",
    "promedio = suma / contador\n",
    "\n",
    "print(f'El promedio de las temperaturas es: {promedio}')"
   ]
  },
  {
   "cell_type": "markdown",
   "metadata": {},
   "source": [
    "* 5 -"
   ]
  },
  {
   "cell_type": "code",
   "execution_count": null,
   "metadata": {},
   "outputs": [],
   "source": [
    "# Solicita el número\n",
    "num = int(input('Ingresa un número entero: '))\n",
    "\n",
    "# Inicializa el cálculo\n",
    "factorial = 1\n",
    "\n",
    "# Nuestro contador comienza con el número máximo\n",
    "# y se realizará un conteo decreciente con el operador -=\n",
    "i = num\n",
    "while i > 0:\n",
    "    # Queremos multiplicar el valor factorial por el número\n",
    "    # y todos los números por debajo de él hasta 1\n",
    "    factorial *= i\n",
    "    i -= 1\n",
    "\n",
    "# Imprime el cálculo del factorial\n",
    "print(f'El factorial de {num} es {factorial}')\n",
    "\n"
   ]
  },
  {
   "cell_type": "markdown",
   "metadata": {},
   "source": [
    "## Momento de los proyectos"
   ]
  },
  {
   "cell_type": "markdown",
   "metadata": {},
   "source": [
    "* 6 -"
   ]
  },
  {
   "cell_type": "code",
   "execution_count": null,
   "metadata": {},
   "outputs": [],
   "source": [
    "# Solicita el número\n",
    "num = int(input('Ingresa un número entero del 1 al 10: '))\n",
    "\n",
    "# Generamos la tabla de multiplicar\n",
    "print(f'Tabla de multiplicar del {num}:')\n",
    "for i in range(1, 11):\n",
    "    resultado = num * i\n",
    "    print(f'{num} x {i} = {resultado}')"
   ]
  },
  {
   "cell_type": "markdown",
   "metadata": {},
   "source": [
    "* 7 -"
   ]
  },
  {
   "cell_type": "code",
   "execution_count": null,
   "metadata": {},
   "outputs": [],
   "source": [
    "# Recopilamos el número\n",
    "num = int(input('Ingresa un número entero: '))\n",
    "\n",
    "# Los números enteros iguales o menores que 1 no se consideran primos\n",
    "if num > 1:\n",
    "    for i in range(2, num):\n",
    "        # Verificamos todos los residuos de la división entre todos los números menores que num\n",
    "        # Si algún residuo es 0, significa que es divisible por otro número además de sí mismo y 1\n",
    "        if (num % i) == 0:\n",
    "            print(f'{num} no es un número primo')\n",
    "            break\n",
    "    else:\n",
    "        print(f'{num} es un número primo')\n",
    "else:\n",
    "    print(f'{num} no es un número primo')"
   ]
  },
  {
   "cell_type": "markdown",
   "metadata": {},
   "source": [
    "* 8 -"
   ]
  },
  {
   "cell_type": "code",
   "execution_count": null,
   "metadata": {},
   "outputs": [],
   "source": [
    "# Recopilamos las edades de los clientes\n",
    "edad = int(input('Ingresa la edad (o un número negativo para finalizar): '))\n",
    "\n",
    "# Inicializamos las variables de conteo\n",
    "contador_0_25 = 0 # contador de edades entre 0 y 25\n",
    "contador_26_50 = 0 # contador de edades entre 26 y 50\n",
    "contador_51_75 = 0 # contador de edades entre 51 y 75\n",
    "contador_76_100 = 0 # contador de edades entre 76 y 100\n",
    "\n",
    "# Nuestro código se ejecuta hasta que el valor de edad sea negativo\n",
    "while edad >= 0:\n",
    "    # Contamos cada caso\n",
    "    if edad >= 0 and edad <= 25:\n",
    "        contador_0_25 += 1\n",
    "    elif edad >= 26 and edad <= 50:\n",
    "        contador_26_50 += 1\n",
    "    elif edad >= 51 and edad <= 75:\n",
    "        contador_51_75 += 1\n",
    "    elif edad >= 76 and edad <= 100:\n",
    "        contador_76_100 += 1\n",
    "    \n",
    "    # Repetimos el proceso de entrada de datos hasta que se ingrese un número negativo    \n",
    "    edad = int(input('Ingresa la edad (o un número negativo para finalizar): '))\n",
    "\n",
    "# Mostramos los resultados\n",
    "print('Distribución de edades:')\n",
    "print('[0-25]:', contador_0_25)\n",
    "print('[26-50]:', contador_26_50)\n",
    "print('[51-75]:', contador_51_75)\n",
    "print('[76-100]:', contador_76_100)"
   ]
  },
  {
   "cell_type": "markdown",
   "metadata": {},
   "source": [
    "* 9 -"
   ]
  },
  {
   "cell_type": "code",
   "execution_count": null,
   "metadata": {},
   "outputs": [],
   "source": [
    "# Inicializamos las variables contadoras\n",
    "votos_candidato1 = 0\n",
    "votos_candidato2 = 0\n",
    "votos_candidato3 = 0\n",
    "votos_candidato4 = 0\n",
    "votos_nulos = 0\n",
    "votos_blanco = 0\n",
    "\n",
    "# Inicio del bucle para leer los votos\n",
    "for i in range(0, 20):\n",
    "    voto = int(input('Ingresa tu voto: '))\n",
    "    if voto == 1:\n",
    "        votos_candidato1 += 1\n",
    "    elif voto == 2:\n",
    "        votos_candidato2 += 1\n",
    "    elif voto == 3:\n",
    "        votos_candidato3 += 1\n",
    "    elif voto == 4:\n",
    "        votos_candidato4 += 1\n",
    "    elif voto == 5:\n",
    "        votos_nulos += 1\n",
    "    elif voto == 6:\n",
    "        votos_blanco += 1\n",
    "    else:\n",
    "        print(\"Voto inválido.\")\n",
    "\n",
    "print(f'Votos candidato 1: {votos_candidato1}')\n",
    "print(f'Votos candidato 2: {votos_candidato2}')\n",
    "print(f'Votos candidato 3: {votos_candidato3}')\n",
    "print(f'Votos candidato 4: {votos_candidato4}')\n",
    "print(f'Votos nulos: {votos_nulos}')\n",
    "print(f'Votos en blanco: {votos_blanco}')\n",
    "print(f'Porcentaje de votos nulos: {(votos_nulos / 20 * 100)}')\n",
    "print(f'Porcentaje de votos en blanco: {(votos_blanco / 20 * 100)}')"
   ]
  },
  {
   "cell_type": "markdown",
   "metadata": {},
   "source": [
    "Ejercitar es importante para afianzar el contenido, desarrollar habilidades de programación, identificar áreas que aún no se comprenden, prepararse para futuros desafíos y desarrollar el pensamiento lógico y la resolución de problemas.\n",
    "\n",
    "Por lo tanto, es importante realizar muchos ejercicios cuando se está aprendiendo un nuevo lenguaje de programación. Por lo tanto, busca practicar con los ejercicios propuestos y observa cómo te ayudan a mejorar tus habilidades de programación."
   ]
  },
  {
   "cell_type": "markdown",
   "metadata": {},
   "source": [
    "##  10 Lo que aprendimos\n",
    "\n",
    "Lo que aprendimos en esta aula:\n",
    "\n",
    "* Estructurar bucles de repetición for y while.\n",
    "* Decidir qué bucle de repetición utilizar.\n",
    "* Utilizar comandos de control de bucles."
   ]
  },
  {
   "cell_type": "markdown",
   "metadata": {},
   "source": [
    "----\n"
   ]
  },
  {
   "cell_type": "markdown",
   "metadata": {
    "id": "GwtSOVdUcCru"
   },
   "source": [
    "# 05 - Estructuras de datos\n",
    "Un conjunto de elementos es una colección de items, que son almacenados juntos de manera organizada. Algunos ejemplos de conjuntos de elementos en Python son las listas, los strings y los diccionarios.\n",
    "\n",
    "# Listas\n",
    "Las listas pueden almacenar una colección de items en orden. Ellas son delimitadas por corchetes [] y sus elementos son separados por comas.\n",
    "\n",
    "Estas pueden almacenar cualquier tipo de items, incluyendo números, strings, objetos, otras listas, entre otros. También nos permiten almacenar items de tipos de datos diferentes juntos en una única lista."
   ]
  },
  {
   "cell_type": "code",
   "execution_count": 83,
   "metadata": {
    "colab": {
     "base_uri": "https://localhost:8080/"
    },
    "executionInfo": {
     "elapsed": 70,
     "status": "ok",
     "timestamp": 1748432448885,
     "user": {
      "displayName": "Pol Argentino",
      "userId": "02817779166023488471"
     },
     "user_tz": 180
    },
    "id": "ZB_tur6lcRSW",
    "outputId": "20efd60c-1b3e-4837-bfea-1e6e5d14bcf3"
   },
   "outputs": [
    {
     "data": {
      "text/plain": [
       "['Pablo Monsalvo', 9.5, 9.0, 9.7, True]"
      ]
     },
     "execution_count": 83,
     "metadata": {},
     "output_type": "execute_result"
    }
   ],
   "source": [
    "lista = ['Pablo Monsalvo',9.5,9.0,9.7,True]\n",
    "lista"
   ]
  },
  {
   "cell_type": "code",
   "execution_count": 84,
   "metadata": {},
   "outputs": [
    {
     "data": {
      "text/plain": [
       "list"
      ]
     },
     "execution_count": 84,
     "metadata": {},
     "output_type": "execute_result"
    }
   ],
   "source": [
    "type(lista)"
   ]
  },
  {
   "cell_type": "markdown",
   "metadata": {
    "id": "6yjA5_gLcbQj"
   },
   "source": [
    "Las listas son organizadas en Python porque **cada elemento de la lista tiene un índice que indica su posición al interior de la lista**. Los índices comienzan en 0 van hasta el tamaño de la lista menos 1.\n",
    "\n"
   ]
  },
  {
   "cell_type": "markdown",
   "metadata": {},
   "source": [
    "Tenemos entonces 5 elementos con índices que varían de 0 a 4, ordenadamente:\n",
    "\n",
    "```\n",
    "#             [0]           [1]   [2]   [3]    [4]\n",
    "lista = ['Penélope Camacho', 9.5 , 9.0 , 9.7 , True]\n",
    "```\n",
    "\n",
    "En Python tenemos también los índices **negativos** que se inician en el último elemento con el valor de `-1` y avanzan en el universo de los negativos hasta llegar al 1° elemento:\n",
    "\n",
    "```\n",
    "#             [-5]         [-4]  [-3]  [-2]   [-1]\n",
    "lista = ['Penélope Camacho', 9.5 , 9.0 , 9.7 , True]\n",
    "```\n",
    "\n",
    "Logramos seleccionar separadamente cada elemento a través de sus respectivos índices. Colocando el nombre de la lista y en seguida el índice que será seleccionado."
   ]
  },
  {
   "cell_type": "code",
   "execution_count": null,
   "metadata": {
    "colab": {
     "base_uri": "https://localhost:8080/"
    },
    "executionInfo": {
     "elapsed": 55,
     "status": "ok",
     "timestamp": 1748432572019,
     "user": {
      "displayName": "Pol Argentino",
      "userId": "02817779166023488471"
     },
     "user_tz": 180
    },
    "id": "7m6ZOgaYc5pW",
    "outputId": "c050c5d2-aeaf-451c-ce4a-b5f62b7b2237"
   },
   "outputs": [
    {
     "data": {
      "text/plain": [
       "str"
      ]
     },
     "execution_count": 6,
     "metadata": {},
     "output_type": "execute_result"
    }
   ],
   "source": [
    "type(lista[0])\n"
   ]
  },
  {
   "cell_type": "code",
   "execution_count": null,
   "metadata": {
    "colab": {
     "base_uri": "https://localhost:8080/"
    },
    "executionInfo": {
     "elapsed": 53,
     "status": "ok",
     "timestamp": 1748432594042,
     "user": {
      "displayName": "Pol Argentino",
      "userId": "02817779166023488471"
     },
     "user_tz": 180
    },
    "id": "hql-fClrc6f0",
    "outputId": "aadfb206-16f7-4a54-e856-e89ab86096c1"
   },
   "outputs": [
    {
     "data": {
      "text/plain": [
       "float"
      ]
     },
     "execution_count": 7,
     "metadata": {},
     "output_type": "execute_result"
    }
   ],
   "source": [
    "type(lista[1])\n"
   ]
  },
  {
   "cell_type": "code",
   "execution_count": null,
   "metadata": {
    "colab": {
     "base_uri": "https://localhost:8080/"
    },
    "executionInfo": {
     "elapsed": 44,
     "status": "ok",
     "timestamp": 1748432624449,
     "user": {
      "displayName": "Pol Argentino",
      "userId": "02817779166023488471"
     },
     "user_tz": 180
    },
    "id": "NFRv2_HttIwp",
    "outputId": "c0eae72a-d4a6-410a-df33-0be467854d33"
   },
   "outputs": [
    {
     "data": {
      "text/plain": [
       "bool"
      ]
     },
     "execution_count": 8,
     "metadata": {},
     "output_type": "execute_result"
    }
   ],
   "source": [
    "type(lista[-1])\n"
   ]
  },
  {
   "cell_type": "markdown",
   "metadata": {
    "id": "UIL4eEBlc7Hj"
   },
   "source": [
    "Una forma más dinámica de trabajar item a item en una lista es utilizando un lazo `for` para leer un elemento a la vez."
   ]
  },
  {
   "cell_type": "code",
   "execution_count": 85,
   "metadata": {
    "colab": {
     "base_uri": "https://localhost:8080/"
    },
    "executionInfo": {
     "elapsed": 40,
     "status": "ok",
     "timestamp": 1748432742338,
     "user": {
      "displayName": "Pol Argentino",
      "userId": "02817779166023488471"
     },
     "user_tz": 180
    },
    "id": "RLK910K2c8eQ",
    "outputId": "c2515946-13ad-45a8-e6a7-ad9f2aa5db62"
   },
   "outputs": [
    {
     "name": "stdout",
     "output_type": "stream",
     "text": [
      "Pablo Monsalvo\n",
      "9.5\n",
      "9.0\n",
      "9.7\n",
      "True\n"
     ]
    }
   ],
   "source": [
    "for elemento in lista:\n",
    "  print(elemento)\n"
   ]
  },
  {
   "cell_type": "markdown",
   "metadata": {
    "id": "C2QZv5Tbc_ep"
   },
   "source": [
    "**Situación**: La nota `9.0` de Pablo necesita ser ajustada pues ganó 1 punto en su última nota por participación en clase. Entonces es necesario realizar un cambio en el índice `2` de `9.0` a `10.0`."
   ]
  },
  {
   "cell_type": "code",
   "execution_count": 86,
   "metadata": {
    "id": "rW2RLCaodDRI"
   },
   "outputs": [],
   "source": [
    "lista[2] = 10.0\n"
   ]
  },
  {
   "cell_type": "code",
   "execution_count": 87,
   "metadata": {
    "colab": {
     "base_uri": "https://localhost:8080/"
    },
    "executionInfo": {
     "elapsed": 65,
     "status": "ok",
     "timestamp": 1748432816054,
     "user": {
      "displayName": "Pol Argentino",
      "userId": "02817779166023488471"
     },
     "user_tz": 180
    },
    "id": "KTC658tJdDun",
    "outputId": "da791a91-450f-49d2-96dd-0ae3adbe4788"
   },
   "outputs": [
    {
     "data": {
      "text/plain": [
       "['Pablo Monsalvo', 9.5, 10.0, 9.7, True]"
      ]
     },
     "execution_count": 87,
     "metadata": {},
     "output_type": "execute_result"
    }
   ],
   "source": [
    "lista"
   ]
  },
  {
   "cell_type": "markdown",
   "metadata": {
    "id": "NvQfpasSdEXq"
   },
   "source": [
    "También podemos calcular el promedio del estudiante a partir de los datos que tenemos.\n",
    "\n",
    "\n"
   ]
  },
  {
   "cell_type": "code",
   "execution_count": null,
   "metadata": {
    "colab": {
     "base_uri": "https://localhost:8080/"
    },
    "executionInfo": {
     "elapsed": 25,
     "status": "ok",
     "timestamp": 1748433748046,
     "user": {
      "displayName": "Pol Argentino",
      "userId": "02817779166023488471"
     },
     "user_tz": 180
    },
    "id": "xHt1VY_NdK91",
    "outputId": "a3b28bd1-25cb-466f-a976-fa0a0aedfebf"
   },
   "outputs": [
    {
     "data": {
      "text/plain": [
       "9.733333333333333"
      ]
     },
     "execution_count": 54,
     "metadata": {},
     "output_type": "execute_result"
    }
   ],
   "source": [
    "promedio = (lista[1]+lista[2]+lista[3])/3\n",
    "promedio"
   ]
  },
  {
   "cell_type": "markdown",
   "metadata": {},
   "source": [
    "##  03 Para saber más: String - Una secuencia de caracteres\n",
    "\n",
    "Como se ha visto en clases anteriores, una cadena es un tipo de dato que corresponde a datos de texto. Cuando creamos una cadena, estamos agrupando varios caracteres (números, letras e incluso símbolos), y cada uno de ellos tiene sus índices. Como ejemplo, creemos una cadena con el nombre \"Python\":"
   ]
  },
  {
   "cell_type": "code",
   "execution_count": 144,
   "metadata": {},
   "outputs": [],
   "source": [
    "lenguaje = 'Python'"
   ]
  },
  {
   "cell_type": "markdown",
   "metadata": {},
   "source": [
    "Cada carácter de la cadena \"lenguaje\" se puede acceder mediante su índice, que comienza en 0 y va hasta la cantidad de caracteres de la cadena menos 1, incluyendo índices negativos. Podemos acceder a ellos de la misma manera que lo hacemos con las listas:"
   ]
  },
  {
   "cell_type": "code",
   "execution_count": 145,
   "metadata": {},
   "outputs": [
    {
     "name": "stdout",
     "output_type": "stream",
     "text": [
      "P y t h o n\n"
     ]
    }
   ],
   "source": [
    "print(lenguaje[0], lenguaje[1], lenguaje[2], lenguaje[-3], lenguaje[-2], lenguaje[-1])"
   ]
  },
  {
   "cell_type": "markdown",
   "metadata": {},
   "source": [
    "Sin embargo, los índices solo se utilizan para acceder a los datos y no se puede cambiar el carácter presente en un índice específico mediante una simple asignación, como se hace con las listas. Por ejemplo, el código lenguaje[0] = 'p' generará un error en la compilación.\n",
    "\n",
    "Con esto en mente, podríamos pensar que una cadena es una estructura de datos similar a una lista, ¿verdad? En realidad, no lo es. Una cadena es una secuencia de caracteres (letras, números, símbolos, etc.) representada por una sola variable. Por otro lado, una estructura de datos almacena una colección de elementos (que pueden ser de diferentes tipos) en una sola variable.\n",
    "\n",
    "Sin embargo, es posible convertir una cadena en una lista mediante el método split(). Este método divide la cadena en una lista de cadenas, utilizando un delimitador especificado entre paréntesis. Este delimitador debe ser una cadena. Como ejemplo, convirtamos la cadena en una lista dividiéndola cada vez que aparezca el signo de interrogación \"?\":"
   ]
  },
  {
   "cell_type": "code",
   "execution_count": 146,
   "metadata": {},
   "outputs": [
    {
     "name": "stdout",
     "output_type": "stream",
     "text": [
      "['¿Quién vino primero', ' ¿El huevo', ' ¿O fue la serpiente', '']\n"
     ]
    }
   ],
   "source": [
    "pregunta = '¿Quién vino primero? ¿El huevo? ¿O fue la serpiente?'\n",
    "lista_palabras = pregunta.split('?')\n",
    "print(lista_palabras)"
   ]
  },
  {
   "cell_type": "markdown",
   "metadata": {},
   "source": [
    "El delimitador no aparece en la separación. Si no se define un delimitador, la cadena se separará por todos los espacios en blanco en el texto."
   ]
  },
  {
   "cell_type": "code",
   "execution_count": 147,
   "metadata": {},
   "outputs": [
    {
     "name": "stdout",
     "output_type": "stream",
     "text": [
      "['¿Quién', 'vino', 'primero?', '¿El', 'huevo?', '¿O', 'fue', 'la', 'serpiente?']\n"
     ]
    }
   ],
   "source": [
    "pregunta = '¿Quién vino primero? ¿El huevo? ¿O fue la serpiente?'\n",
    "lista_palabras = pregunta.split()\n",
    "print(lista_palabras)"
   ]
  },
  {
   "cell_type": "markdown",
   "metadata": {},
   "source": [
    "Lo contrario también es posible, ya que podemos convertir una lista en una cadena mediante el método join(). Para usar esta función, debemos definir el carácter que se utilizará para unir los elementos de la lista y formar la cadena. Luego, usamos el método { join() pasando la lista como argumento. Veamos un ejemplo con una lista que contiene el resultado de algunas mezclas de colores primarios en pintura:"
   ]
  },
  {
   "cell_type": "code",
   "execution_count": 148,
   "metadata": {},
   "outputs": [
    {
     "name": "stdout",
     "output_type": "stream",
     "text": [
      "Pinturas: rojo, azul y amarillo. Verde: mezcla de azul y amarillo. Naranja: mezcla de rojo y amarillo. Morado: mezcla de rojo y azul\n"
     ]
    }
   ],
   "source": [
    "mezclas = ['Pinturas: rojo, azul y amarillo',\n",
    "            'Verde: mezcla de azul y amarillo',\n",
    "            'Naranja: mezcla de rojo y amarillo',\n",
    "            'Morado: mezcla de rojo y azul']\n",
    "unificador = '. '\n",
    "cadena_mezclas = unificador.join(mezclas)\n",
    "print(cadena_mezclas)"
   ]
  },
  {
   "cell_type": "markdown",
   "metadata": {},
   "source": [
    "##  04 ¿Qué son listas?\n",
    "\n",
    "\n",
    "Durante la clase, aprendimos acerca de un tipo de dato estructurado: las listas. Selecciona la opción que describe lo que son y proporciona un ejemplo de su estructura.\n",
    "\n",
    "Alternativa correta\n"
   ]
  },
  {
   "cell_type": "markdown",
   "metadata": {},
   "source": [
    "Las listas pueden almacenar una colección de elementos de cualquier tipo en orden. Se delimitan con corchetes [] y los elementos se separan por comas. En el siguiente ejemplo, tenemos una lista con códigos de productos:"
   ]
  },
  {
   "cell_type": "code",
   "execution_count": 149,
   "metadata": {},
   "outputs": [
    {
     "name": "stdout",
     "output_type": "stream",
     "text": [
      "['A7B6C5', 'D4E3F2', 'G1H9I8', 'J6K5L4', 'M3N2O1', 'P9Q8R7']\n"
     ]
    }
   ],
   "source": [
    "lista = ['A7B6C5', 'D4E3F2', 'G1H9I8', 'J6K5L4', 'M3N2O1', 'P9Q8R7']\n",
    "print(lista)"
   ]
  },
  {
   "cell_type": "markdown",
   "metadata": {},
   "source": [
    "Las listas pueden almacenar valores de manera ordenada en su estructura, de modo que cada elemento de la lista tiene un índice que indica su posición. En este ejemplo, tenemos 6 elementos con índices que van desde 0 hasta 5, en orden. Podemos acceder a cada elemento por separado utilizando sus respectivos índices."
   ]
  },
  {
   "cell_type": "markdown",
   "metadata": {
    "id": "QjxQU2iNdQnw"
   },
   "source": [
    "##  05 Manipulación de listas\n",
    "\n",
    "Las listas son muy útiles en Python porque nos permiten almacenar y acceder a una colección de items de manera organizada y rápida. Estas también ofrecen muchos métodos útiles para manipular los itens almacenados, como adicionar, remover, clasificar y buscar elementos.\n",
    "\n"
   ]
  },
  {
   "cell_type": "markdown",
   "metadata": {},
   "source": [
    "#### Cantidad de elementos\n",
    "\n",
    "Usamos la función [`len()`](https://docs.python.org/3/library/functions.html#len) para descubrir la cantidad de elementos de un conjunto."
   ]
  },
  {
   "cell_type": "code",
   "execution_count": 88,
   "metadata": {
    "colab": {
     "base_uri": "https://localhost:8080/"
    },
    "executionInfo": {
     "elapsed": 24,
     "status": "ok",
     "timestamp": 1748432966409,
     "user": {
      "displayName": "Pol Argentino",
      "userId": "02817779166023488471"
     },
     "user_tz": 180
    },
    "id": "3D5cOuqMdbHE",
    "outputId": "f48f7d06-1527-4fac-a312-4c02cd73e5cc"
   },
   "outputs": [
    {
     "data": {
      "text/plain": [
       "5"
      ]
     },
     "execution_count": 88,
     "metadata": {},
     "output_type": "execute_result"
    }
   ],
   "source": [
    "\n",
    "len(lista)"
   ]
  },
  {
   "cell_type": "markdown",
   "metadata": {
    "id": "lt0AaMKIdfhG"
   },
   "source": [
    "#### Partición\n",
    "\n",
    "La partición de listas por indexación en Python es una técnica muy útil para seleccionar un subconjunto de elementos de una lista. Esta se realiza usando la sintaxis `lista[inicio:fin]`, donde `inicio` es el índice del primer elemento que será incluído en la partición `fin` es el índice del primer elemento que será excluído de la partición."
   ]
  },
  {
   "cell_type": "code",
   "execution_count": 89,
   "metadata": {
    "colab": {
     "base_uri": "https://localhost:8080/"
    },
    "executionInfo": {
     "elapsed": 67,
     "status": "ok",
     "timestamp": 1748433132750,
     "user": {
      "displayName": "Pol Argentino",
      "userId": "02817779166023488471"
     },
     "user_tz": 180
    },
    "id": "f0oeSg8juoGE",
    "outputId": "293fae69-80ba-4d76-d1e3-466017e7f738"
   },
   "outputs": [
    {
     "data": {
      "text/plain": [
       "['Pablo Monsalvo', 9.5]"
      ]
     },
     "execution_count": 89,
     "metadata": {},
     "output_type": "execute_result"
    }
   ],
   "source": [
    "lista[0:2]\n"
   ]
  },
  {
   "cell_type": "code",
   "execution_count": 91,
   "metadata": {
    "colab": {
     "base_uri": "https://localhost:8080/"
    },
    "executionInfo": {
     "elapsed": 30,
     "status": "ok",
     "timestamp": 1748433220689,
     "user": {
      "displayName": "Pol Argentino",
      "userId": "02817779166023488471"
     },
     "user_tz": 180
    },
    "id": "_3tTcAVcvOKF",
    "outputId": "cadc1a4e-7c94-4687-d9df-eb884c4d0e72"
   },
   "outputs": [
    {
     "data": {
      "text/plain": [
       "['Pablo Monsalvo', 9.5]"
      ]
     },
     "execution_count": 91,
     "metadata": {},
     "output_type": "execute_result"
    }
   ],
   "source": [
    "lista[:2]\n"
   ]
  },
  {
   "cell_type": "code",
   "execution_count": 90,
   "metadata": {
    "colab": {
     "base_uri": "https://localhost:8080/"
    },
    "executionInfo": {
     "elapsed": 21,
     "status": "ok",
     "timestamp": 1748433338707,
     "user": {
      "displayName": "Pol Argentino",
      "userId": "02817779166023488471"
     },
     "user_tz": 180
    },
    "id": "elvDQcKhvePR",
    "outputId": "a2205918-2ee7-49df-c81d-1f1cc8ebfca6"
   },
   "outputs": [
    {
     "data": {
      "text/plain": [
       "[9.7, True]"
      ]
     },
     "execution_count": 90,
     "metadata": {},
     "output_type": "execute_result"
    }
   ],
   "source": [
    "lista[3:]"
   ]
  },
  {
   "cell_type": "code",
   "execution_count": 92,
   "metadata": {
    "colab": {
     "base_uri": "https://localhost:8080/"
    },
    "executionInfo": {
     "elapsed": 26,
     "status": "ok",
     "timestamp": 1748433359338,
     "user": {
      "displayName": "Pol Argentino",
      "userId": "02817779166023488471"
     },
     "user_tz": 180
    },
    "id": "pE1nhkPCv7G9",
    "outputId": "0e4c3449-78cd-4083-ec21-9fe49600a8d2"
   },
   "outputs": [
    {
     "data": {
      "text/plain": [
       "['Pablo Monsalvo', 9.5, 10.0, 9.7, True]"
      ]
     },
     "execution_count": 92,
     "metadata": {},
     "output_type": "execute_result"
    }
   ],
   "source": [
    "lista[:]"
   ]
  },
  {
   "cell_type": "markdown",
   "metadata": {
    "id": "F99Tmj76wHTD"
   },
   "source": [
    "#### [`append()`](https://docs.python.org/3/tutorial/datastructures.html#:~:text=of%20list%20objects%3A-,list.append(x),-Add%20an%20item)\n",
    "\n",
    "Añade un elemento al final de la lista."
   ]
  },
  {
   "cell_type": "code",
   "execution_count": null,
   "metadata": {
    "id": "AtVhfO1kxFIM"
   },
   "outputs": [],
   "source": [
    "lista.append(promedio)\n"
   ]
  },
  {
   "cell_type": "code",
   "execution_count": null,
   "metadata": {
    "id": "WP8KGKvoxITG"
   },
   "outputs": [],
   "source": [
    "lista"
   ]
  },
  {
   "cell_type": "markdown",
   "metadata": {
    "id": "wMjPZYYfy5Ld"
   },
   "source": [
    "['Pablo Monsalvo', 9.5, 10.0, 9.7, True, 9.733333333333333]"
   ]
  },
  {
   "cell_type": "markdown",
   "metadata": {
    "id": "6rmQK8ysxtFC"
   },
   "source": [
    "#### [`extend()`](https://docs.python.org/3/tutorial/datastructures.html#:~:text=list.extend(iterable))\n",
    "\n",
    "Añade varios elementos al final de la lista.\n",
    "\n",
    "Añadiremos las notas `[10.0,8.0,9.0]` En la lista de Pablo Monsalvo."
   ]
  },
  {
   "cell_type": "code",
   "execution_count": 93,
   "metadata": {
    "id": "KVQtw6PBx1UB"
   },
   "outputs": [],
   "source": [
    "lista.extend([10.0,8.0,9.0])\n"
   ]
  },
  {
   "cell_type": "code",
   "execution_count": 94,
   "metadata": {
    "id": "5fVEpWtix6VS"
   },
   "outputs": [
    {
     "data": {
      "text/plain": [
       "['Pablo Monsalvo', 9.5, 10.0, 9.7, True, 10.0, 8.0, 9.0]"
      ]
     },
     "execution_count": 94,
     "metadata": {},
     "output_type": "execute_result"
    }
   ],
   "source": [
    "lista"
   ]
  },
  {
   "cell_type": "markdown",
   "metadata": {
    "id": "wci60v82zLIK"
   },
   "source": [
    "*A continuación te mostraremos lo que no puede realizarse con* `append`."
   ]
  },
  {
   "cell_type": "code",
   "execution_count": 95,
   "metadata": {
    "id": "acXQCv1xyUFp"
   },
   "outputs": [],
   "source": [
    "\n",
    "lista.append([10.0,8.0,9.0])"
   ]
  },
  {
   "cell_type": "code",
   "execution_count": 96,
   "metadata": {
    "id": "nnGVAZ-0yXuI"
   },
   "outputs": [
    {
     "data": {
      "text/plain": [
       "['Pablo Monsalvo', 9.5, 10.0, 9.7, True, 10.0, 8.0, 9.0, [10.0, 8.0, 9.0]]"
      ]
     },
     "execution_count": 96,
     "metadata": {},
     "output_type": "execute_result"
    }
   ],
   "source": [
    "lista"
   ]
  },
  {
   "cell_type": "markdown",
   "metadata": {
    "id": "VhSorEUzyel5"
   },
   "source": [
    "#### [`remove()`](https://docs.python.org/3/tutorial/datastructures.html#:~:text=append(x).-,list.remove(x),-Remove%20the%20first)\n",
    "\n",
    "Remueve un elemento específico de la lista.\n"
   ]
  },
  {
   "cell_type": "code",
   "execution_count": 97,
   "metadata": {
    "id": "zl64-ZHIyhtP"
   },
   "outputs": [],
   "source": [
    "lista.remove([10.0, 8.0, 9.0])"
   ]
  },
  {
   "cell_type": "code",
   "execution_count": 98,
   "metadata": {
    "id": "uf6lYEAIyler"
   },
   "outputs": [
    {
     "data": {
      "text/plain": [
       "['Pablo Monsalvo', 9.5, 10.0, 9.7, True, 10.0, 8.0, 9.0]"
      ]
     },
     "execution_count": 98,
     "metadata": {},
     "output_type": "execute_result"
    }
   ],
   "source": [
    "lista"
   ]
  },
  {
   "cell_type": "markdown",
   "metadata": {},
   "source": [
    "##  06 Para saber más: otras manipulaciones para las listas\n",
    "\n",
    "Hemos estudiado algunos métodos en clase, y además de esos, podemos utilizar otros para manipular listas en Python. Vamos a conocerlos y ver ejemplos de cómo se utilizan. En todos los casos, utilizaremos la siguiente lista llamada \"razas_de_perros\":\n"
   ]
  },
  {
   "cell_type": "code",
   "execution_count": 150,
   "metadata": {},
   "outputs": [],
   "source": [
    "razas_de_perros = ['Labrador Retriever',\n",
    "                   'Bulldog Francés',\n",
    "                   'Pastor Alemán',\n",
    "                   'Poodle']"
   ]
  },
  {
   "cell_type": "markdown",
   "metadata": {},
   "source": [
    "El primer método es insert(), que permite insertar un elemento en una posición específica de la lista. La sintaxis es lista.insert(indice, elemento), donde \"lista\" es la lista que recibirá el nuevo elemento, \"indice\" es la posición donde se insertará el nuevo elemento y \"elemento\" es el nuevo elemento que se insertará."
   ]
  },
  {
   "cell_type": "code",
   "execution_count": 151,
   "metadata": {},
   "outputs": [
    {
     "data": {
      "text/plain": [
       "['Labrador Retriever',\n",
       " 'Golden Retriever',\n",
       " 'Bulldog Francés',\n",
       " 'Pastor Alemán',\n",
       " 'Poodle']"
      ]
     },
     "execution_count": 151,
     "metadata": {},
     "output_type": "execute_result"
    }
   ],
   "source": [
    "razas_de_perros.insert(1, 'Golden Retriever')\n",
    "razas_de_perros"
   ]
  },
  {
   "cell_type": "markdown",
   "metadata": {},
   "source": [
    "Siguiendo este enfoque, la estructura lista.insert(len(lista), elemento) es equivalente al uso del método append(), como vimos en el video anterior titulado \"Manipulación de listas\".\n",
    "\n",
    "El método pop() elimina el elemento en una posición específica de la lista y lo devuelve como salida al ejecutar el método. Solo necesitamos especificar, entre paréntesis, el índice del elemento que deseamos eliminar, y se eliminará de la lista. Por lo tanto, eliminemos la raza \"Golden Retriever\" que agregamos en el método anterior."
   ]
  },
  {
   "cell_type": "code",
   "execution_count": 152,
   "metadata": {},
   "outputs": [
    {
     "data": {
      "text/plain": [
       "'Golden Retriever'"
      ]
     },
     "execution_count": 152,
     "metadata": {},
     "output_type": "execute_result"
    }
   ],
   "source": [
    "razas_de_perros.pop(1)"
   ]
  },
  {
   "cell_type": "markdown",
   "metadata": {},
   "source": [
    "El método index() devuelve el índice de un elemento específico en la lista. Para hacerlo, especificamos el elemento entre paréntesis. Para encontrar el índice de la raza \"Pastor Alemán\" en la lista, hacemos lo siguiente:"
   ]
  },
  {
   "cell_type": "code",
   "execution_count": 153,
   "metadata": {},
   "outputs": [
    {
     "data": {
      "text/plain": [
       "2"
      ]
     },
     "execution_count": 153,
     "metadata": {},
     "output_type": "execute_result"
    }
   ],
   "source": [
    "razas_de_perros.index('Pastor Alemán')"
   ]
  },
  {
   "cell_type": "markdown",
   "metadata": {},
   "source": [
    "El método sort() ordena los elementos de la lista en orden ascendente o descendente. Si son palabras, el orden se basa en el orden alfabético o en el orden inverso. Para ordenar los valores, simplemente llamamos al método sort(), y la lista se organizará en orden. Para ordenar alfabéticamente la lista de razas de perros, podemos usar el siguiente código:"
   ]
  },
  {
   "cell_type": "code",
   "execution_count": 154,
   "metadata": {},
   "outputs": [
    {
     "data": {
      "text/plain": [
       "['Bulldog Francés', 'Labrador Retriever', 'Pastor Alemán', 'Poodle']"
      ]
     },
     "execution_count": 154,
     "metadata": {},
     "output_type": "execute_result"
    }
   ],
   "source": [
    "razas_de_perros.sort()\n",
    "razas_de_perros"
   ]
  },
  {
   "cell_type": "markdown",
   "metadata": {},
   "source": [
    "Para obtener más opciones y descripciones de métodos, consulta la documentación de Python.(https://docs.python.org/3/tutorial/datastructures.html#more-on-lists)"
   ]
  },
  {
   "cell_type": "markdown",
   "metadata": {
    "id": "AflmG5971S_f"
   },
   "source": [
    "## 07 Diccionarios\n",
    "\n"
   ]
  },
  {
   "cell_type": "markdown",
   "metadata": {},
   "source": [
    "Los diccionarios son un tipo de estructura de datos que almacenan pares de *llave-valor*. Estos son delimitados por llaves `{}` y los pares *llave-valor* son separados por comas.\n",
    "\n",
    "```\n",
    "diccionario = {llave: valor}\n",
    "```\n",
    "\n",
    "La **llave** es un elemento único que identifica a un valor en el diccionario, mientras que el **valor** es el item que será almacenado para la llave. Las llaves y sus respectivos valores se pueden emplear para **cualquier tipo de dato**.\n",
    "\n",
    "Los diccionarios son útiles para almacenar y acceder a los datos de manera organizada y rápida. Se trata de un tipo de conjunto de elementos en Python, pues almacenan una colección de items."
   ]
  },
  {
   "cell_type": "code",
   "execution_count": 99,
   "metadata": {
    "colab": {
     "base_uri": "https://localhost:8080/"
    },
    "executionInfo": {
     "elapsed": 44,
     "status": "ok",
     "timestamp": 1748434799718,
     "user": {
      "displayName": "Pol Argentino",
      "userId": "02817779166023488471"
     },
     "user_tz": 180
    },
    "id": "ksZ8g4er1cDH",
    "outputId": "ac9e3bb4-03bc-4642-f72e-64f573d81ef5"
   },
   "outputs": [
    {
     "data": {
      "text/plain": [
       "{'llave_1': 1, 'llave_2': 2}"
      ]
     },
     "execution_count": 99,
     "metadata": {},
     "output_type": "execute_result"
    }
   ],
   "source": [
    "diccionario = {'llave_1':1,\n",
    "               'llave_2':2}\n",
    "\n",
    "diccionario\n"
   ]
  },
  {
   "cell_type": "code",
   "execution_count": null,
   "metadata": {
    "colab": {
     "base_uri": "https://localhost:8080/"
    },
    "executionInfo": {
     "elapsed": 51,
     "status": "ok",
     "timestamp": 1748434817135,
     "user": {
      "displayName": "Pol Argentino",
      "userId": "02817779166023488471"
     },
     "user_tz": 180
    },
    "id": "g8H_qX0Z1gXV",
    "outputId": "d3b6207a-7028-43fa-d638-143d46df9c8f"
   },
   "outputs": [
    {
     "data": {
      "text/plain": [
       "dict"
      ]
     },
     "execution_count": 73,
     "metadata": {},
     "output_type": "execute_result"
    }
   ],
   "source": [
    "type(diccionario)"
   ]
  },
  {
   "cell_type": "markdown",
   "metadata": {
    "id": "yJ95-JHI1j5G"
   },
   "source": [
    "# Situación:\n",
    "\n",
    "Vamos a crear un conjunto de datos con las informaciones de matrícula de un estudiante. Los datos son los siguientes:\n",
    "\n",
    "matrícula: 2000168933\n",
    "día de registro: 25\n",
    "mes de registro: 10\n",
    "grupo: 2E"
   ]
  },
  {
   "cell_type": "code",
   "execution_count": 101,
   "metadata": {
    "colab": {
     "base_uri": "https://localhost:8080/"
    },
    "executionInfo": {
     "elapsed": 121,
     "status": "ok",
     "timestamp": 1748434854987,
     "user": {
      "displayName": "Pol Argentino",
      "userId": "02817779166023488471"
     },
     "user_tz": 180
    },
    "id": "xHC8NGGP1nvh",
    "outputId": "5568dedb-c80b-4f1f-d702-849c4d5c1288"
   },
   "outputs": [
    {
     "data": {
      "text/plain": [
       "{'matricula': 2000168933,\n",
       " 'dia_registro': 25,\n",
       " 'mes_registro': 10,\n",
       " 'grupo': '2E'}"
      ]
     },
     "execution_count": 101,
     "metadata": {},
     "output_type": "execute_result"
    }
   ],
   "source": [
    "estudiante = {\n",
    "              'matricula': 2000168933,\n",
    "              'dia_registro': 25,\n",
    "              'mes_registro': 10,\n",
    "              'grupo': '2E'\n",
    "              }\n",
    "\n",
    "estudiante"
   ]
  },
  {
   "cell_type": "code",
   "execution_count": 102,
   "metadata": {
    "colab": {
     "base_uri": "https://localhost:8080/"
    },
    "executionInfo": {
     "elapsed": 56,
     "status": "ok",
     "timestamp": 1748434877068,
     "user": {
      "displayName": "Pol Argentino",
      "userId": "02817779166023488471"
     },
     "user_tz": 180
    },
    "id": "mHahPEM61u9M",
    "outputId": "b409ffc9-5266-49d1-ba8e-2077b8a5c893"
   },
   "outputs": [
    {
     "data": {
      "text/plain": [
       "2000168933"
      ]
     },
     "execution_count": 102,
     "metadata": {},
     "output_type": "execute_result"
    }
   ],
   "source": [
    "estudiante['matricula']"
   ]
  },
  {
   "cell_type": "code",
   "execution_count": 103,
   "metadata": {
    "colab": {
     "base_uri": "https://localhost:8080/",
     "height": 35
    },
    "executionInfo": {
     "elapsed": 78,
     "status": "ok",
     "timestamp": 1748434889880,
     "user": {
      "displayName": "Pol Argentino",
      "userId": "02817779166023488471"
     },
     "user_tz": 180
    },
    "id": "6HW0kjhc1wG5",
    "outputId": "c229ee1f-ced9-4a48-ce18-83ff55ebefae"
   },
   "outputs": [
    {
     "data": {
      "text/plain": [
       "'2E'"
      ]
     },
     "execution_count": 103,
     "metadata": {},
     "output_type": "execute_result"
    }
   ],
   "source": [
    "\n",
    "estudiante['grupo']"
   ]
  },
  {
   "cell_type": "markdown",
   "metadata": {
    "id": "Er10UHjU13GY"
   },
   "source": [
    "Es posible sustituir los valores dentro de una llave. Por ejemplo, recibimos la información de que el grupo del estudiante que registramos cambio a '2G' y ahora necesitamos cambiar el valor de la llave 'grupo'"
   ]
  },
  {
   "cell_type": "code",
   "execution_count": 104,
   "metadata": {
    "id": "j7qDPs6K180c"
   },
   "outputs": [],
   "source": [
    "estudiante['grupo'] = '2G'"
   ]
  },
  {
   "cell_type": "code",
   "execution_count": 105,
   "metadata": {
    "colab": {
     "base_uri": "https://localhost:8080/"
    },
    "executionInfo": {
     "elapsed": 69,
     "status": "ok",
     "timestamp": 1748434950618,
     "user": {
      "displayName": "Pol Argentino",
      "userId": "02817779166023488471"
     },
     "user_tz": 180
    },
    "id": "2RFfD4h_2A1r",
    "outputId": "e0aebecf-84da-4d17-e878-5084fa5ad97a"
   },
   "outputs": [
    {
     "data": {
      "text/plain": [
       "{'matricula': 2000168933,\n",
       " 'dia_registro': 25,\n",
       " 'mes_registro': 10,\n",
       " 'grupo': '2G'}"
      ]
     },
     "execution_count": 105,
     "metadata": {},
     "output_type": "execute_result"
    }
   ],
   "source": [
    "estudiante"
   ]
  },
  {
   "cell_type": "markdown",
   "metadata": {
    "id": "3i21K_4v2Gpe"
   },
   "source": [
    "También podemos añadir otros datos al diccionario. Vamos a añadir la información sobre la modalidad de estudio, nuestro estudiante estudiará inicialemente en la modalidad EAD.\n",
    "\n",
    "Definiremos una llave llamada 'modalidad' con el valor 'EAD'."
   ]
  },
  {
   "cell_type": "code",
   "execution_count": 106,
   "metadata": {
    "id": "OoJGJBzc2Kzu"
   },
   "outputs": [],
   "source": [
    "estudiante['modalidad'] = 'EAD'"
   ]
  },
  {
   "cell_type": "code",
   "execution_count": 107,
   "metadata": {
    "colab": {
     "base_uri": "https://localhost:8080/"
    },
    "executionInfo": {
     "elapsed": 68,
     "status": "ok",
     "timestamp": 1748435111223,
     "user": {
      "displayName": "Pol Argentino",
      "userId": "02817779166023488471"
     },
     "user_tz": 180
    },
    "id": "xe-DUSKi2XaZ",
    "outputId": "82f4605e-5d91-48e8-a0bf-1985b5dd5dfa"
   },
   "outputs": [
    {
     "data": {
      "text/plain": [
       "{'matricula': 2000168933,\n",
       " 'dia_registro': 25,\n",
       " 'mes_registro': 10,\n",
       " 'grupo': '2G',\n",
       " 'modalidad': 'EAD'}"
      ]
     },
     "execution_count": 107,
     "metadata": {},
     "output_type": "execute_result"
    }
   ],
   "source": [
    "\n",
    "estudiante"
   ]
  },
  {
   "cell_type": "code",
   "execution_count": 108,
   "metadata": {
    "colab": {
     "base_uri": "https://localhost:8080/"
    },
    "executionInfo": {
     "elapsed": 20,
     "status": "ok",
     "timestamp": 1748435112963,
     "user": {
      "displayName": "Pol Argentino",
      "userId": "02817779166023488471"
     },
     "user_tz": 180
    },
    "id": "-Z6_7kI82eby",
    "outputId": "9a2a9a20-c9ca-4008-84ad-3fd83cf21bc1"
   },
   "outputs": [
    {
     "data": {
      "text/plain": [
       "5"
      ]
     },
     "execution_count": 108,
     "metadata": {},
     "output_type": "execute_result"
    }
   ],
   "source": [
    "\n",
    "len(estudiante)"
   ]
  },
  {
   "cell_type": "markdown",
   "metadata": {},
   "source": [
    "##  08 ¿Qué son diccionarios?\n",
    "\n",
    "Aprendimos sobre una estructura de datos llamada diccionario. Selecciona la opción que describe su concepto y proporciona un ejemplo de su estructura."
   ]
  },
  {
   "cell_type": "markdown",
   "metadata": {},
   "source": [
    "Los diccionarios son un tipo de estructura de datos que almacena pares clave-valor. Se delimitan con llaves {} y los pares clave-valor se separan por comas. Como ejemplo, podemos construir un diccionario que contiene los precios de productos en una tienda de ropa:"
   ]
  },
  {
   "cell_type": "code",
   "execution_count": 155,
   "metadata": {},
   "outputs": [
    {
     "name": "stdout",
     "output_type": "stream",
     "text": [
      "{'Camisa': 20, 'Pantalón': 30, 'Vestido': 40, 'Abrigo': 50, 'Zapatos': 60, 'Calcetines': 5}\n"
     ]
    }
   ],
   "source": [
    "ropa = {'Camisa': 20, 'Pantalón': 30, 'Vestido': 40, 'Abrigo': 50, 'Zapatos': 60, 'Calcetines': 5}\n",
    "print(ropa)"
   ]
  },
  {
   "cell_type": "markdown",
   "metadata": {},
   "source": [
    "Los diccionarios pueden almacenar valores especificando sus claves. En ellos, la clave es un elemento único que identifica un valor en el diccionario, mientras que el valor es el elemento que se almacena para esa clave, como se muestra en el ejemplo. Las claves y los valores pueden ser de cualquier tipo de dato. Los diccionarios son útiles para almacenar y acceder a datos de manera organizada y rápida. Son un tipo de conjunto de elementos en Python, ya que almacenan una colección de elementos.\n",
    "\n"
   ]
  },
  {
   "cell_type": "markdown",
   "metadata": {
    "id": "mqW4Os2T29n7"
   },
   "source": [
    "## 09 - Profundizando en diccionarios\n"
   ]
  },
  {
   "cell_type": "markdown",
   "metadata": {},
   "source": [
    "#### [`pop()`](https://python-reference.readthedocs.io/en/latest/docs/dict/pop.html)\n",
    "Remueve un item de un diccionario y lo representa en la salida."
   ]
  },
  {
   "cell_type": "code",
   "execution_count": 109,
   "metadata": {
    "colab": {
     "base_uri": "https://localhost:8080/",
     "height": 35
    },
    "executionInfo": {
     "elapsed": 103,
     "status": "ok",
     "timestamp": 1748435228681,
     "user": {
      "displayName": "Pol Argentino",
      "userId": "02817779166023488471"
     },
     "user_tz": 180
    },
    "id": "d1li463-3CHa",
    "outputId": "4a72cf87-ff64-463d-e20a-8d609470b04f"
   },
   "outputs": [
    {
     "data": {
      "text/plain": [
       "'2G'"
      ]
     },
     "execution_count": 109,
     "metadata": {},
     "output_type": "execute_result"
    }
   ],
   "source": [
    "estudiante.pop('grupo')"
   ]
  },
  {
   "cell_type": "code",
   "execution_count": 110,
   "metadata": {
    "colab": {
     "base_uri": "https://localhost:8080/"
    },
    "executionInfo": {
     "elapsed": 41,
     "status": "ok",
     "timestamp": 1748435248974,
     "user": {
      "displayName": "Pol Argentino",
      "userId": "02817779166023488471"
     },
     "user_tz": 180
    },
    "id": "iUgeZSnW3J1O",
    "outputId": "8b1d9b15-af0c-49d8-f1d3-ef289a4bde44"
   },
   "outputs": [
    {
     "data": {
      "text/plain": [
       "{'matricula': 2000168933,\n",
       " 'dia_registro': 25,\n",
       " 'mes_registro': 10,\n",
       " 'modalidad': 'EAD'}"
      ]
     },
     "execution_count": 110,
     "metadata": {},
     "output_type": "execute_result"
    }
   ],
   "source": [
    "estudiante"
   ]
  },
  {
   "cell_type": "code",
   "execution_count": 111,
   "metadata": {
    "colab": {
     "base_uri": "https://localhost:8080/"
    },
    "executionInfo": {
     "elapsed": 138,
     "status": "ok",
     "timestamp": 1748435265894,
     "user": {
      "displayName": "Pol Argentino",
      "userId": "02817779166023488471"
     },
     "user_tz": 180
    },
    "id": "uh7mRZIg3LLN",
    "outputId": "4f994947-375c-4a3b-e81d-1e7dbf2117d8"
   },
   "outputs": [
    {
     "data": {
      "text/plain": [
       "4"
      ]
     },
     "execution_count": 111,
     "metadata": {},
     "output_type": "execute_result"
    }
   ],
   "source": [
    "len(estudiante)"
   ]
  },
  {
   "cell_type": "markdown",
   "metadata": {
    "id": "qzX5qMqB3V6t"
   },
   "source": [
    "#### [`items()`](https://python-reference.readthedocs.io/en/latest/docs/dict/items.html)\n",
    "Retorna una lista de pares `llave-valor` del diccionario."
   ]
  },
  {
   "cell_type": "code",
   "execution_count": 112,
   "metadata": {
    "colab": {
     "base_uri": "https://localhost:8080/"
    },
    "executionInfo": {
     "elapsed": 53,
     "status": "ok",
     "timestamp": 1748435319438,
     "user": {
      "displayName": "Pol Argentino",
      "userId": "02817779166023488471"
     },
     "user_tz": 180
    },
    "id": "dVUNor8t3YoZ",
    "outputId": "98ce5be7-9820-4eb1-9663-7e9428b14186"
   },
   "outputs": [
    {
     "data": {
      "text/plain": [
       "dict_items([('matricula', 2000168933), ('dia_registro', 25), ('mes_registro', 10), ('modalidad', 'EAD')])"
      ]
     },
     "execution_count": 112,
     "metadata": {},
     "output_type": "execute_result"
    }
   ],
   "source": [
    "estudiante.items()\n"
   ]
  },
  {
   "cell_type": "markdown",
   "metadata": {
    "id": "HzFnxsih3fW-"
   },
   "source": [
    "#### [`keys()`](https://python-reference.readthedocs.io/en/latest/docs/dict/keys.html)\n",
    "Retorna una lista de las llaves del diccionario."
   ]
  },
  {
   "cell_type": "code",
   "execution_count": 113,
   "metadata": {
    "colab": {
     "base_uri": "https://localhost:8080/"
    },
    "executionInfo": {
     "elapsed": 88,
     "status": "ok",
     "timestamp": 1748435365966,
     "user": {
      "displayName": "Pol Argentino",
      "userId": "02817779166023488471"
     },
     "user_tz": 180
    },
    "id": "hjJwbb3_3i88",
    "outputId": "1e8bddd3-2c54-485f-a580-356e33a8a432"
   },
   "outputs": [
    {
     "data": {
      "text/plain": [
       "dict_keys(['matricula', 'dia_registro', 'mes_registro', 'modalidad'])"
      ]
     },
     "execution_count": 113,
     "metadata": {},
     "output_type": "execute_result"
    }
   ],
   "source": [
    "estudiante.keys()"
   ]
  },
  {
   "cell_type": "markdown",
   "metadata": {
    "id": "h2cR3Ztk3slO"
   },
   "source": [
    "#### [`values()`](https://python-reference.readthedocs.io/en/latest/docs/dict/values.html)\n",
    "Retorna una lista de los valores del diccionario."
   ]
  },
  {
   "cell_type": "code",
   "execution_count": 114,
   "metadata": {
    "colab": {
     "base_uri": "https://localhost:8080/"
    },
    "executionInfo": {
     "elapsed": 66,
     "status": "ok",
     "timestamp": 1748435410042,
     "user": {
      "displayName": "Pol Argentino",
      "userId": "02817779166023488471"
     },
     "user_tz": 180
    },
    "id": "iJpe6vnA3vgx",
    "outputId": "4ced788f-4048-4715-a8bd-5afbc923e4dd"
   },
   "outputs": [
    {
     "data": {
      "text/plain": [
       "dict_values([2000168933, 25, 10, 'EAD'])"
      ]
     },
     "execution_count": 114,
     "metadata": {},
     "output_type": "execute_result"
    }
   ],
   "source": [
    "estudiante.values()"
   ]
  },
  {
   "cell_type": "markdown",
   "metadata": {
    "id": "1jyPRqdg34dR"
   },
   "source": [
    "## Lectura de valores con el lazo `for`"
   ]
  },
  {
   "cell_type": "code",
   "execution_count": 115,
   "metadata": {
    "colab": {
     "base_uri": "https://localhost:8080/"
    },
    "executionInfo": {
     "elapsed": 56,
     "status": "ok",
     "timestamp": 1748435460685,
     "user": {
      "displayName": "Pol Argentino",
      "userId": "02817779166023488471"
     },
     "user_tz": 180
    },
    "id": "KYpmzsUy36jr",
    "outputId": "ad5e9224-cf9a-46f9-f5ac-83ba38148b69"
   },
   "outputs": [
    {
     "name": "stdout",
     "output_type": "stream",
     "text": [
      "matricula\n",
      "dia_registro\n",
      "mes_registro\n",
      "modalidad\n"
     ]
    }
   ],
   "source": [
    "for llave in estudiante.keys():\n",
    "  print(llave)"
   ]
  },
  {
   "cell_type": "code",
   "execution_count": 116,
   "metadata": {
    "colab": {
     "base_uri": "https://localhost:8080/"
    },
    "executionInfo": {
     "elapsed": 28,
     "status": "ok",
     "timestamp": 1748435519018,
     "user": {
      "displayName": "Pol Argentino",
      "userId": "02817779166023488471"
     },
     "user_tz": 180
    },
    "id": "EYWL8NQR4LfC",
    "outputId": "8d674864-bd3e-423e-d226-e5d452051620"
   },
   "outputs": [
    {
     "name": "stdout",
     "output_type": "stream",
     "text": [
      "matricula  -->  2000168933\n",
      "dia_registro  -->  25\n",
      "mes_registro  -->  10\n",
      "modalidad  -->  EAD\n"
     ]
    }
   ],
   "source": [
    "for llave,valor in estudiante.items():\n",
    "  print(llave,' --> ', valor)"
   ]
  },
  {
   "cell_type": "markdown",
   "metadata": {},
   "source": [
    "##  10 Para saber más: listas en diccionarios\n",
    "\n",
    "Podemos asociar estructuras de datos a otras estructuras de datos, como ocurre cuando tenemos listas dentro de diccionarios. En este caso, las listas pueden ser almacenadas en los valores de un diccionario de tal manera que cada clave puede tener una lista asociada a ella. Esto es útil cuando necesitamos almacenar varios valores relacionados con una sola clave. Por ejemplo, podemos construir un conjunto de datos de una tienda que contenga una clave con los nombres de cada producto y otra clave con los precios correspondientes, como se muestra en el código a continuación:"
   ]
  },
  {
   "cell_type": "code",
   "execution_count": 156,
   "metadata": {},
   "outputs": [],
   "source": [
    "tienda = {'nombres': ['televisión', 'celular', 'notebook', 'geladeira', 'estufa'],\n",
    "          'precios': [2000, 1500, 3500, 4000, 1500]}"
   ]
  },
  {
   "cell_type": "markdown",
   "metadata": {},
   "source": [
    "Para acceder a los valores, podemos utilizar una estructura de bucles for:\n",
    "\n"
   ]
  },
  {
   "cell_type": "code",
   "execution_count": 157,
   "metadata": {},
   "outputs": [
    {
     "name": "stdout",
     "output_type": "stream",
     "text": [
      "Clave: nombres\n",
      "Elementos:\n",
      "televisión\n",
      "celular\n",
      "notebook\n",
      "geladeira\n",
      "estufa\n",
      "Clave: precios\n",
      "Elementos:\n",
      "2000\n",
      "1500\n",
      "3500\n",
      "4000\n",
      "1500\n"
     ]
    }
   ],
   "source": [
    "for clave, elementos in tienda.items():\n",
    "  print(f'Clave: {clave}\\nElementos:')\n",
    "  for dato in elementos:\n",
    "    print(dato)"
   ]
  },
  {
   "cell_type": "markdown",
   "metadata": {},
   "source": [
    "El primer bucle, el más externo, recorre los elementos dentro del diccionario (claves y elementos). Sabiendo que los elementos son listas, podemos acceder a los datos de las listas con otro bucle anidado que se encuentra dentro del primer bucle. El bucle más interno recorre los elementos de cada lista uno a uno e imprime los valores dentro de ellas.\n",
    "\n",
    "Además, podemos realizar operaciones comunes en las listas, como agregar, eliminar o contar elementos en la lista asociada a una clave del diccionario. Puedes copiar los códigos anteriores y ejecutarlos en Colab para verificar la salida."
   ]
  },
  {
   "cell_type": "markdown",
   "metadata": {},
   "source": [
    "##  11 Para saber más: funciones incorporadas\n",
    "\n",
    "Durante las clases, trabajamos directamente con varias funciones incorporadas que son predefinidas y están disponibles por defecto en Python. Estas funciones trabajan como herramientas útiles para llevar a cabo tareas comunes, como conversiones de tipos, operaciones matemáticas, manipulación de cadenas y más, sin necesidad de escribir código adicional.\n",
    "\n",
    "Algunas de las funciones incorporadas que ya conocemos son: `print()`, `input()`, `len()`, `int()`, `str()`, `float()`, `range()`, `chr()`, etc. Pero hay otras además de estas que también son muy útiles, como: `sum()`, `help()` y `dir()`. ¿Las conocemos?\n",
    "\n",
    "### sum()\n",
    "\n",
    "La función `sum()` permite sumar los elementos de una secuencia o estructura de datos. En el siguiente ejemplo, vamos a sumar los precios de productos:"
   ]
  },
  {
   "cell_type": "code",
   "execution_count": 158,
   "metadata": {},
   "outputs": [
    {
     "data": {
      "text/plain": [
       "700.0"
      ]
     },
     "execution_count": 158,
     "metadata": {},
     "output_type": "execute_result"
    }
   ],
   "source": [
    "precios = [100.0, 400.0, 200.0]\n",
    "suma = sum(precios)\n",
    "suma"
   ]
  },
  {
   "cell_type": "markdown",
   "metadata": {},
   "source": [
    "### help()\n",
    "\n",
    "La función `help()` se utiliza para acceder a la documentación de funciones, métodos y otros elementos de Python. Muestra información en inglés sobre la funcionalidad, sintaxis y uso de un objeto específico. Para usar esta función, simplemente pasa el elemento deseado entre paréntesis. Por ejemplo, vamos a verificar la documentación de la función `print()`:"
   ]
  },
  {
   "cell_type": "code",
   "execution_count": 159,
   "metadata": {},
   "outputs": [
    {
     "name": "stdout",
     "output_type": "stream",
     "text": [
      "Help on built-in function print in module builtins:\n",
      "\n",
      "print(...)\n",
      "    print(value, ..., sep=' ', end='\\n', file=sys.stdout, flush=False)\n",
      "    \n",
      "    Prints the values to a stream, or to sys.stdout by default.\n",
      "    Optional keyword arguments:\n",
      "    file:  a file-like object (stream); defaults to the current sys.stdout.\n",
      "    sep:   string inserted between values, default a space.\n",
      "    end:   string appended after the last value, default a newline.\n",
      "    flush: whether to forcibly flush the stream.\n",
      "\n"
     ]
    }
   ],
   "source": [
    "help(print)"
   ]
  },
  {
   "cell_type": "markdown",
   "metadata": {},
   "source": [
    "### dir()\n",
    "\n",
    "Por último, la función `dir()` se utiliza para mostrar una lista de atributos y métodos asociados a un elemento. Por ejemplo, vamos a descubrir todos los atributos y métodos de una lista:"
   ]
  },
  {
   "cell_type": "code",
   "execution_count": 160,
   "metadata": {},
   "outputs": [
    {
     "data": {
      "text/plain": [
       "['__add__',\n",
       " '__class__',\n",
       " '__class_getitem__',\n",
       " '__contains__',\n",
       " '__delattr__',\n",
       " '__delitem__',\n",
       " '__dir__',\n",
       " '__doc__',\n",
       " '__eq__',\n",
       " '__format__',\n",
       " '__ge__',\n",
       " '__getattribute__',\n",
       " '__getitem__',\n",
       " '__gt__',\n",
       " '__hash__',\n",
       " '__iadd__',\n",
       " '__imul__',\n",
       " '__init__',\n",
       " '__init_subclass__',\n",
       " '__iter__',\n",
       " '__le__',\n",
       " '__len__',\n",
       " '__lt__',\n",
       " '__mul__',\n",
       " '__ne__',\n",
       " '__new__',\n",
       " '__reduce__',\n",
       " '__reduce_ex__',\n",
       " '__repr__',\n",
       " '__reversed__',\n",
       " '__rmul__',\n",
       " '__setattr__',\n",
       " '__setitem__',\n",
       " '__sizeof__',\n",
       " '__str__',\n",
       " '__subclasshook__',\n",
       " 'append',\n",
       " 'clear',\n",
       " 'copy',\n",
       " 'count',\n",
       " 'extend',\n",
       " 'index',\n",
       " 'insert',\n",
       " 'pop',\n",
       " 'remove',\n",
       " 'reverse',\n",
       " 'sort']"
      ]
     },
     "execution_count": 160,
     "metadata": {},
     "output_type": "execute_result"
    }
   ],
   "source": [
    "lista = [1,2,3]\n",
    "dir(lista)"
   ]
  },
  {
   "cell_type": "markdown",
   "metadata": {},
   "source": [
    "Es útil conocer varias funciones incorporadas y cómo funcionan, ya que ayudan mucho en la creación de código. Para obtener más información sobre las funciones, puedes consultar la documentación de Python.\n",
    "\n",
    "(https://docs.python.org/3/library/functions.html)"
   ]
  },
  {
   "cell_type": "markdown",
   "metadata": {},
   "source": [
    "##  12 Desafío: ¡Es hora de practicar!\n",
    "\n",
    "Vamos practicar el uso de estructuras de datos, como listas y diccionarios, a través de algunas actividades. Ahora que estamos avanzando en el contenido, podemos hacer los desafíos más interesantes. ¡Para ello, trabajaremos con proyectos de código!\n",
    "\n",
    "Primero, resolveremos algunos problemas para calentar y prepararnos para los proyectos.\n",
    "\n",
    "### Entrenando la programación\n",
    "\n",
    "* 1 - Crea un programa que tenga la siguiente lista con los gastos de una empresa de papel [2172.54, 3701.35, 3518.09, 3456.61, 3249.38, 2840.82, 3891.45, 3075.26, 2317.64, 3219.08]. Con estos valores, crea un programa que calcule el promedio de gastos. Sugerencia: usa las funciones integradas sum() y len().\n",
    "\n",
    "* 2 - Con los mismos datos de la pregunta anterior, determina cuántas compras se realizaron por encima de 3000 reales y calcula el porcentaje con respecto al total de compras.\n",
    "\n",
    "* 3 - Crea un código que recoja en una lista 5 números enteros aleatorios e imprima la lista. Ejemplo: [1, 4, 7, 2, 4].\n",
    "\n",
    "* 4 - Recoge nuevamente 5 números enteros e imprime la lista en orden inverso al enviado.\n",
    "\n",
    "* 5 - Crea un programa que, al ingresar un número cualquiera, genere una lista que contenga todos los números primos entre 1 y el número ingresado.\n",
    "\n",
    "* 6 - Escribe un programa que pida una fecha, especificando el día, mes y año, y determine si es válida para su análisis.\n",
    "\n",
    "### Momento para los proyectos\n",
    "\n",
    "* 7 - Para un estudio sobre la multiplicación de bacterias en una colonia, se recopiló el número de bacterias multiplicadas por día y se puede observar a continuación: [1.2, 2.1, 3.3, 5.0, 7.8, 11.3, 16.6, 25.1, 37.8, 56.9]. Con estos valores, crea un código que genere una lista que contenga el porcentaje de crecimiento de bacterias por día, comparando el número de bacterias en cada día con el número de bacterias del día anterior. Sugerencia: para calcular el porcentaje de crecimiento, utiliza la siguiente ecuación: 100 * (muestra_actual - muestra_anterior) / muestra_anterior.\n",
    "\n",
    "* 8 - Para una selección de productos alimenticios, debemos separar el conjunto de IDs proporcionados por números enteros, sabiendo que los productos con ID par son dulces y los que tienen ID impar son amargos. Crea un código que recoja 10 IDs. Luego, calcula y muestra la cantidad de productos dulces y amargos.\n",
    "\n",
    "* 9 - Desarrolla un programa que informe la puntuación de un estudiante de acuerdo con sus respuestas. Debe pedir la respuesta del estudiante para cada pregunta y verificar si la respuesta coincide con el resultado. Cada pregunta vale un punto y hay opciones A, B, C o D."
   ]
  },
  {
   "cell_type": "code",
   "execution_count": null,
   "metadata": {},
   "outputs": [],
   "source": [
    "Resultado del examen:\n",
    "01 - D\n",
    "02 - A\n",
    "03 - C\n",
    "04 - B\n",
    "05 - A\n",
    "06 - D\n",
    "07 - C\n",
    "08 - C\n",
    "09 - A\n",
    "10 - B"
   ]
  },
  {
   "cell_type": "markdown",
   "metadata": {},
   "source": [
    "* 10 - Un instituto de meteorología desea realizar un estudio de la temperatura media de cada mes del año. Para ello, debes crear un código que recoja y almacene esas temperaturas medias en una lista. Luego, calcula el promedio anual de las temperaturas y muestra todas las temperaturas por encima del promedio anual y en qué mes ocurrieron, mostrando los meses por su nombre (Enero, Febrero, etc.).\n",
    "\n",
    "* 11 - Una empresa de comercio electrónico está interesada en analizar las ventas de sus productos. Los datos de ventas se han almacenado en un diccionario:\n",
    "\n"
   ]
  },
  {
   "cell_type": "code",
   "execution_count": 161,
   "metadata": {},
   "outputs": [
    {
     "data": {
      "text/plain": [
       "{'Producto A': 300,\n",
       " 'Producto B': 80,\n",
       " 'Producto C': 60,\n",
       " 'Producto D': 200,\n",
       " 'Producto E': 250,\n",
       " 'Producto F': 30}"
      ]
     },
     "execution_count": 161,
     "metadata": {},
     "output_type": "execute_result"
    }
   ],
   "source": [
    "{'Producto A': 300, 'Producto B': 80, 'Producto C': 60, 'Producto D': 200, 'Producto E': 250, 'Producto F': 30}"
   ]
  },
  {
   "cell_type": "markdown",
   "metadata": {},
   "source": [
    "Escribe un código que calcule el total de ventas y el producto más vendido.\n",
    "\n",
    "* 12 - Se realizó una encuesta de mercado para decidir cuál diseño de marca infantil es más atractivo para los niños. Los votos de la encuesta se pueden ver a continuación:"
   ]
  },
  {
   "cell_type": "code",
   "execution_count": null,
   "metadata": {},
   "outputs": [],
   "source": [
    "Tabla de votos de la marca\n",
    "Diseño 1 - 1334 votos\n",
    "Diseño 2 - 982 votos\n",
    "Diseño 3 - 1751 votos\n",
    "Diseño 4 - 210 votos\n",
    "Diseño 5 - 1811 votos"
   ]
  },
  {
   "cell_type": "markdown",
   "metadata": {},
   "source": [
    "Adapta los datos proporcionados a una estructura de diccionario. A partir de ello, informa el diseño ganador y el porcentaje de votos recibidos.\n",
    "\n",
    "* 13 - Los empleados de un departamento de tu empresa recibirán una bonificación del 10% de su salario debido a un excelente rendimiento del equipo. El departamento de finanzas ha solicitado tu ayuda para verificar las consecuencias financieras de esta bonificación en los recursos. Se te ha enviado una lista con los salarios que recibirán la bonificación: [1172, 1644, 2617, 5130, 5532, 6341, 6650, 7238, 7685, 7782, 7903]. La bonificación de cada empleado no puede ser inferior a 200. En el código, convierte cada uno de los salarios en claves de un diccionario y la bonificación de cada salario en el valor correspondiente. Luego, informa el gasto total en bonificaciones, cuántos empleados recibieron la bonificación mínima y cuál fue el valor más alto de la bonificación proporcionada.\n",
    "\n",
    "* 14 - Un equipo de científicos de datos está estudiando la diversidad biológica en un bosque. El equipo recopiló información sobre el número de especies de plantas y animales en cada área del bosque y almacenó estos datos en un diccionario. En él, la clave describe el área de los datos y los valores en las listas corresponden a las especies de plantas y animales en esas áreas, respectivamente."
   ]
  },
  {
   "cell_type": "code",
   "execution_count": 163,
   "metadata": {},
   "outputs": [
    {
     "data": {
      "text/plain": [
       "{'Área Norte': [2819, 7236],\n",
       " 'Área Leste': [1440, 9492],\n",
       " 'Área Sul': [5969, 7496],\n",
       " 'Área Oeste': [14446, 49688],\n",
       " 'Área Centro': [22558, 45148]}"
      ]
     },
     "execution_count": 163,
     "metadata": {},
     "output_type": "execute_result"
    }
   ],
   "source": [
    "{'Área Norte': [2819, 7236], 'Área Leste': [1440, 9492], 'Área Sul': [5969, 7496], 'Área Oeste': [14446, 49688], 'Área Centro': [22558, 45148]}"
   ]
  },
  {
   "cell_type": "markdown",
   "metadata": {},
   "source": [
    "Escribe un código para calcular el promedio de especies por área e identificar el área con la mayor diversidad biológica. Sugerencia: utiliza las funciones incorporadas sum() y len().\n",
    "\n",
    "* 15 - El departamento de Recursos Humanos de tu empresa te pidió ayuda para analizar las edades de los colaboradores de 4 sectores de la empresa. Para ello, te proporcionaron los siguientes datos:"
   ]
  },
  {
   "cell_type": "code",
   "execution_count": 164,
   "metadata": {},
   "outputs": [
    {
     "data": {
      "text/plain": [
       "{'Setor A': [22, 26, 30, 30, 35, 38, 40, 56, 57, 65],\n",
       " 'Setor B': [22, 24, 26, 33, 41, 49, 50, 54, 60, 64],\n",
       " 'Setor C': [23, 26, 26, 29, 34, 35, 36, 41, 52, 56],\n",
       " 'Setor D': [19, 20, 25, 27, 34, 39, 42, 44, 50, 65]}"
      ]
     },
     "execution_count": 164,
     "metadata": {},
     "output_type": "execute_result"
    }
   ],
   "source": [
    "{'Setor A': [22, 26, 30, 30, 35, 38, 40, 56, 57, 65],\n",
    " 'Setor B': [22, 24, 26, 33, 41, 49, 50, 54, 60, 64],\n",
    " 'Setor C': [23, 26, 26, 29, 34, 35, 36, 41, 52, 56],\n",
    " 'Setor D': [19, 20, 25, 27, 34, 39, 42, 44, 50, 65]}"
   ]
  },
  {
   "cell_type": "markdown",
   "metadata": {},
   "source": [
    "Dado que cada sector tiene 10 colaboradores, construye un código que calcule la media de edad de cada sector, la edad media general entre todos los sectores y cuántas personas están por encima de la edad media general.\n",
    "\n",
    "Si necesitas ayuda, las soluciones a las actividades están disponibles en la sección \"Opinión del instructor\"."
   ]
  },
  {
   "cell_type": "markdown",
   "metadata": {},
   "source": [
    "## Opinión del instructor\n",
    "\n",
    "Pueden existir diversas formas de resolver los problemas propuestos y algunas de ellas se presentan a continuación.\n",
    "\n",
    "### Calentando motores en la programación\n",
    "\n",
    "* 1 - Incluso si ya sabemos manualmente cuál es el resultado, es interesante pensar cómo podríamos ejecutar las operaciones mediante programación."
   ]
  },
  {
   "cell_type": "markdown",
   "metadata": {},
   "source": [
    "* 1 -"
   ]
  },
  {
   "cell_type": "code",
   "execution_count": 165,
   "metadata": {},
   "outputs": [
    {
     "name": "stdout",
     "output_type": "stream",
     "text": [
      "El promedio de gastos es 3144.222 reales.\n"
     ]
    }
   ],
   "source": [
    "# Datos de gastos\n",
    "gastos = [2172.54, 3701.35, 3518.09, 3456.61, 3249.38, 2840.82, 3891.45, 3075.26, 2317.64, 3219.08]\n",
    "\n",
    "# Calculamos el promedio encontrando el valor total de gastos con la función sum\n",
    "# y la cantidad total de compras realizadas con len\n",
    "total_gastos = sum(gastos)\n",
    "cantidad_compras = len(gastos)\n",
    "media_gastos = total_gastos / cantidad_compras\n",
    "# Resultado\n",
    "print(f'El promedio de gastos es {media_gastos} reales.')"
   ]
  },
  {
   "cell_type": "markdown",
   "metadata": {},
   "source": [
    "* 2- "
   ]
  },
  {
   "cell_type": "code",
   "execution_count": 166,
   "metadata": {},
   "outputs": [
    {
     "name": "stdout",
     "output_type": "stream",
     "text": [
      "7 compras estuvieron por encima de R$3000,00.\n",
      "70.0% de los gastos estuvieron por encima de R$3000,00.\n"
     ]
    }
   ],
   "source": [
    "# Datos de gastos\n",
    "gastos = [2172.54, 3701.35, 3518.09, 3456.61, 3249.38, 2840.82, 3891.45, 3075.26, 2317.64, 3219.08]\n",
    "\n",
    "# Variable que contará cuántas compras se realizaron por encima de 3000\n",
    "contador_acima_3000 = 0\n",
    "# Usamos un bucle para recorrer la lista de gastos\n",
    "for gasto in gastos:\n",
    "  # Verificamos si el elemento está por encima de 3000\n",
    "  if gasto > 3000:\n",
    "    # Sumamos uno al contador si hay algún valor por encima de 3000\n",
    "    contador_acima_3000 += 1\n",
    "\n",
    "# Con el conteo podemos calcular el porcentaje de valores por encima de 3000 entre todas las compras\n",
    "porcentaje_acima_3000 = 100 * contador_acima_3000 / cantidad_compras\n",
    "\n",
    "# Resultado\n",
    "print(f'{contador_acima_3000} compras estuvieron por encima de R$3000,00.')\n",
    "print(f'{porcentaje_acima_3000}% de los gastos estuvieron por encima de R$3000,00.')"
   ]
  },
  {
   "cell_type": "markdown",
   "metadata": {},
   "source": [
    "* 3 -"
   ]
  },
  {
   "cell_type": "code",
   "execution_count": 168,
   "metadata": {},
   "outputs": [
    {
     "name": "stdout",
     "output_type": "stream",
     "text": [
      "Lista de números ingresados: [1, 2, 3, 4, 5]\n"
     ]
    }
   ],
   "source": [
    "# Lista que almacenará los 5 números enteros\n",
    "lista_numeros = []\n",
    "\n",
    "# Creamos un bucle que iterará 5 veces para recibir los 5 números\n",
    "for i in range(0, 5):\n",
    "  # Recopilamos el valor e lo insertamos en la lista 5 veces\n",
    "  numero = int(input('Ingresa un número entero: '))\n",
    "  lista_numeros.append(numero)\n",
    "#Resultado\n",
    "print(f'Lista de números ingresados: {lista_numeros}')"
   ]
  },
  {
   "cell_type": "markdown",
   "metadata": {},
   "source": [
    "* 4 - Dado que el objetivo es imprimir la lista de números enteros en orden inverso al ingresado, podemos utilizar la técnica de partición, en la que la lista se recorre desde el último elemento (usando el índice -1) hasta el primero. De esta manera, la lista se imprime en orden inverso al original, de modo que el último elemento es el primero en mostrarse, seguido por el penúltimo elemento y así sucesivamente."
   ]
  },
  {
   "cell_type": "code",
   "execution_count": 169,
   "metadata": {},
   "outputs": [
    {
     "name": "stdout",
     "output_type": "stream",
     "text": [
      "Lista de números invertida: [5, 4, 3, 2, 1]\n"
     ]
    }
   ],
   "source": [
    "# Lista que almacenará los 5 números enteros\n",
    "lista_numeros = []\n",
    "\n",
    "# Creamos un bucle que iterará 5 veces para recibir los 5 números\n",
    "for i in range(0, 5):\n",
    "  # Recopilamos el valor e lo insertamos en la lista 5 veces\n",
    "  numero = int(input('Ingresa un número entero: '))\n",
    "  lista_numeros.append(numero)\n",
    "# Usamos la técnica de partición para imprimir el resultado\n",
    "print(f'Lista de números invertida: {lista_numeros[::-1]}')"
   ]
  },
  {
   "cell_type": "markdown",
   "metadata": {},
   "source": [
    "* 5 - Para este problema, necesitamos verificar si todos los números, por debajo de lo especificado por el usuario, son o no divisibles por otros valores además de sí mismos. Para hacer esto, podemos anidar un bucle dentro de otro. Usamos un bucle para recorrer los números enteros de 2 al número ingresado. Para cada número, otro bucle se utiliza para verificar si es divisible por números más pequeños que él. Si el número no es divisible por ninguno de estos números, se considera un número primo. Esta estructura se puede observar a continuación:"
   ]
  },
  {
   "cell_type": "code",
   "execution_count": 171,
   "metadata": {},
   "outputs": [
    {
     "name": "stdout",
     "output_type": "stream",
     "text": [
      "Lista de números primos: [2, 3, 5]\n"
     ]
    }
   ],
   "source": [
    "# Recopilamos el número\n",
    "numero = int(input('Ingresa un número entero: '))\n",
    "# Lista para almacenar los números primos\n",
    "lista_primos = []\n",
    "# Bucle que recorre todos los números por debajo del número ingresado\n",
    "for num in range(2, numero):\n",
    "  # Primo es una bandera que nos permite saber si el valor analizado es primo o no.\n",
    "  primo = True\n",
    "  # Probamos si todos los números por debajo del especificado en el primer bucle pueden dar una división exacta.\n",
    "  for prueba_divisibles in range(2, num):\n",
    "    if num % prueba_divisibles == 0:\n",
    "      # Si es divisible por algún número, entendemos que el número no es primo y terminamos el bucle interno con break.\n",
    "      primo = False\n",
    "      break\n",
    "  # La condición se convierte en el resultado booleano de primo: False. Ignoramos la condición True y ejecutamos el bloque del if.\n",
    "  if primo:\n",
    "    lista_primos.append(num)\n",
    "# Resultado\n",
    "print(f'Lista de números primos: {lista_primos}')"
   ]
  },
  {
   "cell_type": "markdown",
   "metadata": {},
   "source": [
    "* 6 - Recopilamos el día, mes y año de una fecha y realizamos comprobaciones mes a mes, confirmando si en febrero (sea o no un año bisiesto) el día coincide con lo que es posible. También se analizan los meses que terminan en 31 o 30 días para evitar la existencia de fechas inválidas en los datos."
   ]
  },
  {
   "cell_type": "code",
   "execution_count": 172,
   "metadata": {},
   "outputs": [
    {
     "name": "stdout",
     "output_type": "stream",
     "text": [
      "Fecha válida\n"
     ]
    }
   ],
   "source": [
    "# Recopilamos la fecha\n",
    "dia = int(input('Ingrese el día: '))\n",
    "mes = int(input('Ingrese el mes: '))\n",
    "año = int(input('Ingrese el año: '))\n",
    "\n",
    "# Análisis de febrero\n",
    "if mes == 2:\n",
    "  # Verificamos si es o no un año bisiesto\n",
    "  if año % 4 == 0 and (año % 400 == 0 or año % 100 != 0):\n",
    "    dias_febrero = 29\n",
    "  else:\n",
    "    dias_febrero = 28\n",
    "  # Verificamos si el día ingresado coincide con el máximo de días de febrero\n",
    "  if dia >= 1 and dia <= dias_febrero:\n",
    "    print('Fecha válida')\n",
    "  else:\n",
    "    print('Fecha inválida')\n",
    "# Verificamos meses que terminan en 31 días\n",
    "elif mes in [1, 3, 5, 7, 8, 10, 12]:\n",
    "  if dia >= 1 and dia <= 31:\n",
    "    print('Fecha válida')\n",
    "  else:\n",
    "    print('Fecha inválida')\n",
    "# Verificamos meses que terminan en 30 días\n",
    "elif mes in [4, 6, 9, 11]:\n",
    "  if dia >= 1 and dia <= 30:\n",
    "    print('Fecha válida')\n",
    "  else:\n",
    "    print('Fecha inválida')\n",
    "# Si el mes no está entre 1 y 12\n",
    "else:\n",
    "  print('Fecha inválida')"
   ]
  },
  {
   "cell_type": "markdown",
   "metadata": {},
   "source": [
    "* 7 -"
   ]
  },
  {
   "cell_type": "code",
   "execution_count": 173,
   "metadata": {},
   "outputs": [
    {
     "name": "stdout",
     "output_type": "stream",
     "text": [
      "Porcentajes de crecimiento:\n",
      "[75.00000000000001, 57.142857142857125, 51.51515151515153, 56.0, 44.87179487179489, 46.90265486725664, 51.20481927710843, 50.59760956175297, 50.52910052910054]\n"
     ]
    }
   ],
   "source": [
    "# Lista de crecimiento de bacterias\n",
    "bacterias_colonia = [1.2, 2.1, 3.3, 5.0, 7.8, 11.3, 16.6, 25.1, 37.8, 56.9]\n",
    "# Lista que almacenará las tasas de crecimiento\n",
    "porcentaje_crecimiento = []\n",
    "# Recorremos los índices de 1 a 9 para comparar los valores actuales con los anteriores\n",
    "for i in range(1, len(bacterias_colonia)):\n",
    "  # Realizamos el cálculo: 100 * (muestra_actual - muestra_anterior) / (muestra_anterior)\n",
    "  porcentaje = 100 * (bacterias_colonia[i] - bacterias_colonia[i-1]) / (bacterias_colonia[i-1])\n",
    "  # Agregamos el resultado a la lista porcentaje_crecimiento\n",
    "  porcentaje_crecimiento.append(porcentaje)\n",
    "# Resultado\n",
    "print(f'Porcentajes de crecimiento:\\n{porcentaje_crecimiento}')"
   ]
  },
  {
   "cell_type": "markdown",
   "metadata": {},
   "source": [
    "* 8 -"
   ]
  },
  {
   "cell_type": "code",
   "execution_count": 175,
   "metadata": {},
   "outputs": [
    {
     "name": "stdout",
     "output_type": "stream",
     "text": [
      "Cantidad de productos dulces: 7\n",
      "Cantidad de productos amargos: 3\n"
     ]
    }
   ],
   "source": [
    "# Lista que contendrá los valores de IDs\n",
    "ids = []\n",
    "# Variables contadoras de dulces y amargos\n",
    "dulce = 0\n",
    "amargo = 0\n",
    "\n",
    "# Creamos un bucle que iterará 10 veces para recopilar los 10 IDs\n",
    "for i in range(0,10):\n",
    "  # Recopilamos el ID y lo agregamos a la lista\n",
    "  ids.append(int(input(f'Ingrese el ID {i+1}°: ')))\n",
    "\n",
    "# Leemos todos los elementos de la lista de IDs y los asignamos a id\n",
    "for id in ids:\n",
    "  # Verificamos si los elementos son pares o impares para llevar el conteo\n",
    "  if id % 2 == 0:\n",
    "    dulce += 1\n",
    "  else:\n",
    "    amargo += 1\n",
    "\n",
    "# Resultado\n",
    "print(f'Cantidad de productos dulces: {dulce}')\n",
    "print(f'Cantidad de productos amargos: {amargo}')"
   ]
  },
  {
   "cell_type": "markdown",
   "metadata": {},
   "source": [
    "* 9 -"
   ]
  },
  {
   "cell_type": "code",
   "execution_count": 176,
   "metadata": {},
   "outputs": [
    {
     "name": "stdout",
     "output_type": "stream",
     "text": [
      "Nota final: 4\n"
     ]
    }
   ],
   "source": [
    "# Inicializamos los datos\n",
    "respuestas = []  # Lista para almacenar las respuestas\n",
    "# Lista de respuestas correctas\n",
    "gabarito = ['D', 'A', 'C', 'B', 'A', 'D', 'C', 'C', 'A', 'B']\n",
    "nota = 0  # Acumulará la nota total\n",
    "\n",
    "# Recopilamos las respuestas del estudiante\n",
    "for i in range(0, 10):\n",
    "  respuestas.append(input(f'Introduzca la respuesta a la pregunta {i + 1}: ').upper())\n",
    "\n",
    "# Verificamos si las respuestas coinciden y las sumamos a la nota\n",
    "for i in range(0, 10):\n",
    "  if respuestas[i] == gabarito[i]:\n",
    "    nota += 1\n",
    "\n",
    "# Mostrando la nota final\n",
    "print(f'Nota final: {nota}')"
   ]
  },
  {
   "cell_type": "markdown",
   "metadata": {},
   "source": [
    "* 10 -"
   ]
  },
  {
   "cell_type": "code",
   "execution_count": 177,
   "metadata": {},
   "outputs": [
    {
     "name": "stdout",
     "output_type": "stream",
     "text": [
      "Temperaturas por encima del promedio en: \n",
      "Enero\n",
      "Febrero\n",
      "Marzo\n",
      "Mayo\n",
      "Junio\n",
      "Noviembre\n",
      "Diciembre\n"
     ]
    }
   ],
   "source": [
    "# Recopilamos la lista de temperaturas mensuales\n",
    "temperaturas_mensuales = []\n",
    "for i in range(0, 12):\n",
    "  temperaturas_mensuales.append(float(input(f'Ingrese la temperatura promedio del mes {i+1}: ')))\n",
    "# Creamos una lista auxiliar para los nombres de los meses\n",
    "meses = ['Enero', 'Febrero', 'Marzo', 'Abril', 'Mayo', 'Junio', 'Julio', 'Agosto', 'Septiembre', 'Octubre', 'Noviembre', 'Diciembre']\n",
    "# Calculamos el promedio\n",
    "media_anual = sum(temperaturas_mensuales) / len(temperaturas_mensuales)\n",
    "\n",
    "# Resultado\n",
    "print('Temperaturas por encima del promedio en: ')\n",
    "for i in range(0, 12):\n",
    "  # Verificamos todas las temperaturas en comparación con la media anual\n",
    "  if temperaturas_mensuales[i] > media_anual:\n",
    "    # Dado que los índices de los meses corresponden a las temperaturas,\n",
    "    # podemos imprimirlos con el mismo índice\n",
    "    print(meses[i])"
   ]
  },
  {
   "cell_type": "markdown",
   "metadata": {},
   "source": [
    "* 11 -"
   ]
  },
  {
   "cell_type": "code",
   "execution_count": 178,
   "metadata": {},
   "outputs": [
    {
     "name": "stdout",
     "output_type": "stream",
     "text": [
      "Total de ventas es 920\n",
      "Producto A es el más vendido\n"
     ]
    }
   ],
   "source": [
    "# Diccionario de ventas\n",
    "datos_ventas = {'Producto A': 300, 'Producto B': 80, 'Producto C': 60, 'Producto D': 200, 'Producto E': 250, 'Producto F': 30}\n",
    "\n",
    "# Inicializamos las variables\n",
    "total_ventas = 0  # Sumará todas las ventas\n",
    "producto_mas_vendido = ''  # Almacenará el nombre del producto más vendido\n",
    "unidades_producto_mas_vendido = 0  # Almacenará la cantidad más alta de ventas\n",
    "\n",
    "# Recorremos las claves y elementos del diccionario\n",
    "for producto in datos_ventas.keys():\n",
    "    # Sumamos el total de ventas\n",
    "    total_ventas += datos_ventas[producto]\n",
    "    # Verificamos si el valor de ventas actual (datos_ventas[producto]) es mayor que el valor almacenado en unidades_producto_mas_vendido\n",
    "    # Cada vez que datos_ventas[producto] supere el valor en unidades_producto_mas_vendido,\n",
    "    # la variable unidades_producto_mas_vendido será igual a datos_ventas[producto], asignando un nuevo valor\n",
    "    # De manera similar, producto_mas_vendido también se actualiza con el producto actual\n",
    "    if datos_ventas[producto] > unidades_producto_mas_vendido:\n",
    "        unidades_producto_mas_vendido = datos_ventas[producto]\n",
    "        producto_mas_vendido = producto\n",
    "# Resultados\n",
    "print(f'Total de ventas es {total_ventas}')\n",
    "print(f'{producto_mas_vendido} es el más vendido')"
   ]
  },
  {
   "cell_type": "markdown",
   "metadata": {},
   "source": [
    "* 12 -"
   ]
  },
  {
   "cell_type": "code",
   "execution_count": 179,
   "metadata": {},
   "outputs": [
    {
     "name": "stdout",
     "output_type": "stream",
     "text": [
      "Diseño 5 es el ganador: \n",
      "Porcentaje de votos: 29.747043363994745%\n"
     ]
    }
   ],
   "source": [
    "# Diccionario de votos por diseño\n",
    "votos = {'Diseño 1': 1334, 'Diseño 2': 982, 'Diseño 3': 1751, 'Diseño 4': 210, 'Diseño 5': 1811}\n",
    "\n",
    "# Inicializamos las variables\n",
    "total_votos = 0  # Sumará todos los votos\n",
    "ganador = ''  # Almacenará el nombre del diseño ganador\n",
    "voto_ganador = 0  # Almacenará la cantidad ganadora de votos\n",
    "\n",
    "# Recorremos las claves y elementos del diccionario\n",
    "for diseño, voto_diseño in votos.items():\n",
    "    # Sumamos el total de votos\n",
    "    total_votos += voto_diseño\n",
    "    # Verificamos si el voto del diseño actual (voto_diseño) es mayor que el valor almacenado en voto_ganador\n",
    "    # Cada vez que voto_diseño supere el valor en voto_ganador,\n",
    "    # la variable voto_ganador será igual a voto_diseño, asignando un nuevo valor\n",
    "    # De manera similar, el ganador también se actualiza con el diseño actual\n",
    "    if voto_diseño > voto_ganador:\n",
    "        voto_ganador = voto_diseño\n",
    "        ganador = diseño\n",
    "# Calculamos el porcentaje del diseño ganador\n",
    "porcentaje = 100 * (voto_ganador) / (total_votos)\n",
    "\n",
    "# Resultado\n",
    "print(f'{ganador} es el ganador: ')\n",
    "print(f'Porcentaje de votos: {porcentaje}%')"
   ]
  },
  {
   "cell_type": "markdown",
   "metadata": {},
   "source": [
    "* 13 -"
   ]
  },
  {
   "cell_type": "code",
   "execution_count": 180,
   "metadata": {},
   "outputs": [
    {
     "name": "stdout",
     "output_type": "stream",
     "text": [
      "Abonos: {1172: 200, 1644: 200, 2617: 261.7, 5130: 513.0, 5532: 553.2, 6341: 634.1, 6650: 665.0, 7238: 723.8000000000001, 7685: 768.5, 7782: 778.2, 7903: 790.3000000000001}\n",
      "Total de gastos en abonos: 6087.8\n",
      "Número de empleados que recibieron el abono mínimo: 2\n",
      "Mayor valor de abono: 790.3000000000001\n"
     ]
    }
   ],
   "source": [
    "# Lista de salarios\n",
    "salarios = [1172, 1644, 2617, 5130, 5532, 6341, 6650, 7238, 7685, 7782, 7903]\n",
    "# Inicializamos las variables\n",
    "diccionario_abonos = {}  # Diccionario de abonos\n",
    "total_abono = 0  # Sumará todos los gastos en abonos\n",
    "abonos_minimo = 0  # Almacenará la cantidad de abonos mínimos\n",
    "mayor_abono = 0  # Almacenará el mayor valor de abono\n",
    "\n",
    "# Recorremos toda la lista de salarios\n",
    "for salario in salarios:\n",
    "    # Calculamos el valor teórico del abono\n",
    "    abono = salario * 0.1\n",
    "    # Si el abono es inferior a 200,\n",
    "    # ajustamos el valor del abono al mínimo (200)\n",
    "    if abono < 200:\n",
    "        abono = 200\n",
    "    # Agregamos un nuevo dato en el diccionario con la clave abono\n",
    "    diccionario_abonos[salario] = abono\n",
    "\n",
    "# Recorremos todos los valores del diccionario de abonos\n",
    "for abono in diccionario_abonos.values():\n",
    "    # Contamos los salarios mínimos\n",
    "    if abono == 200:\n",
    "        abonos_minimo += 1\n",
    "    # Verificamos si el abono leído es mayor que el valor almacenado en mayor_abono\n",
    "    # Cada vez que el abono supere el valor de mayor_abono,\n",
    "    # la variable mayor_abono será igual al abono, asignando un nuevo valor\n",
    "    if abono > mayor_abono:\n",
    "        mayor_abono = abono\n",
    "    # Sumamos los abonos\n",
    "    total_abono += abono\n",
    "# Resultados\n",
    "print(f'Abonos: {diccionario_abonos}')\n",
    "print(f'Total de gastos en abonos: {total_abono}')\n",
    "print(f'Número de empleados que recibieron el abono mínimo: {abonos_minimo}')\n",
    "print(f'Mayor valor de abono: {mayor_abono}')"
   ]
  },
  {
   "cell_type": "markdown",
   "metadata": {},
   "source": [
    "* 14 -"
   ]
  },
  {
   "cell_type": "code",
   "execution_count": 181,
   "metadata": {},
   "outputs": [
    {
     "name": "stdout",
     "output_type": "stream",
     "text": [
      "El Área Norte tiene un promedio de 5027.5 especies\n",
      "El Área Este tiene un promedio de 5466.0 especies\n",
      "El Área Sur tiene un promedio de 6732.5 especies\n",
      "El Área Oeste tiene un promedio de 32067.0 especies\n",
      "El Área Centro tiene un promedio de 33853.0 especies\n",
      "Media general de especies: 16629.2\n",
      "Área con la mayor diversidad biológica: Área Centro\n"
     ]
    }
   ],
   "source": [
    "# Especificamos los datos para un diccionario\n",
    "datos = {'Área Norte': [2819, 7236],\n",
    "         'Área Este': [1440, 9492],\n",
    "         'Área Sur': [5969, 7496],\n",
    "         'Área Oeste': [14446, 49688],\n",
    "         'Área Centro': [22558, 45148]}\n",
    "# Inicializamos las variables\n",
    "suma_media = 0  # Sumará todos los promedios\n",
    "mayor_diversidad = ''  # Almacenará el área con la mayor diversidad\n",
    "mayor_suma = 0  # Almacenará la mayor suma de especies\n",
    "# Recorremos las claves y elementos del diccionario\n",
    "for área, especies in datos.items():\n",
    "    # Sumamos el número de especies en cada área utilizando la función sum\n",
    "    suma_especies = sum(especies)\n",
    "    # Calculamos el promedio dividiendo la suma de las especies entre la cantidad de especies\n",
    "    media = suma_especies / len(especies)\n",
    "    # Imprimimos\n",
    "    print(f'El {área} tiene un promedio de {media} especies')\n",
    "    # Verificamos si la suma de especies es mayor que el valor almacenado de mayor_suma\n",
    "    # Cada vez que suma_especies supere el valor de mayor_suma,\n",
    "    # la variable mayor_suma será igual a suma_especies, asignando un nuevo valor\n",
    "    # De manera similar, mayor_diversidad también se actualiza\n",
    "    if suma_especies > mayor_suma:\n",
    "        mayor_suma = suma_especies\n",
    "        mayor_diversidad = área\n",
    "    # Sumamos los promedios\n",
    "    suma_media += media\n",
    "# La media total será la suma_media dividida por la cantidad de áreas\n",
    "media_total = suma_media / len(datos)\n",
    "print(f'Media general de especies: {media_total}')\n",
    "print(f'Área con la mayor diversidad biológica: {mayor_diversidad}')"
   ]
  },
  {
   "cell_type": "markdown",
   "metadata": {},
   "source": [
    "* 15 -"
   ]
  },
  {
   "cell_type": "code",
   "execution_count": 182,
   "metadata": {},
   "outputs": [
    {
     "name": "stdout",
     "output_type": "stream",
     "text": [
      "El Sector A tiene un promedio de 39.9\n",
      "El Sector B tiene un promedio de 42.3\n",
      "El Sector C tiene un promedio de 35.8\n",
      "El Sector D tiene un promedio de 36.5\n",
      "La media de edad general es 38.625\n",
      "18 personas están por encima de la edad media general\n"
     ]
    }
   ],
   "source": [
    "# Especificamos los datos para un diccionario\n",
    "datos = {'Sector A': [22, 26, 30, 30, 35, 38, 40, 56, 57, 65],\n",
    "        'Sector B': [22, 24, 26, 33, 41, 49, 50, 54, 60, 64],\n",
    "        'Sector C': [23, 26, 26, 29, 34, 35, 36, 41, 52, 56],\n",
    "        'Sector D': [19, 20, 25, 27, 34, 39, 42, 44, 50, 65]}\n",
    "# Inicializamos la variable que sumará todas las edades\n",
    "total_edades = 0\n",
    "# Recorremos las claves y elementos del diccionario\n",
    "for sector, edades in datos.items():\n",
    "  # Calculamos el promedio dividiendo la suma de las edades entre la cantidad de empleados en cada sector\n",
    "  media_edad = sum(edades) / len(edades)\n",
    "  # Imprimimos\n",
    "  print(f'El {sector} tiene un promedio de {media_edad}')\n",
    "  # Sumamos los promedios\n",
    "  total_edades += sum(edades)\n",
    "# La media total será el total_edades dividido por la cantidad de personas totales (sectores * empleados por sector)\n",
    "media_total = total_edades / (len(edades) * len(datos))\n",
    "print(f'La media de edad general es {media_total}')\n",
    "\n",
    "# Inicializamos la variable que contará a todas las personas con edades por encima de la media\n",
    "arriba_media = 0\n",
    "# Recorremos nuevamente las claves y elementos del diccionario\n",
    "for sector, edades in datos.items():\n",
    "  # Leemos los elementos (edades) dentro de cada lista de edades en el diccionario\n",
    "  for edad in edades:\n",
    "    # Verificamos si el valor de la edad es superior a la media total\n",
    "    if edad > media_total:\n",
    "      # En caso de que el valor de la edad sea superior a la media, incrementamos en uno el contador\n",
    "      arriba_media += 1\n",
    "# Resultado\n",
    "print(f'{arriba_media} personas están por encima de la edad media general')"
   ]
  },
  {
   "cell_type": "markdown",
   "metadata": {},
   "source": [
    "Ejercitar es importante para afianzar el contenido, desarrollar habilidades de codificación, identificar áreas que aún no se han comprendido, prepararse para desafíos futuros y desarrollar el pensamiento lógico y la resolución de problemas.\n",
    "\n",
    "Por lo tanto, es importante realizar muchos ejercicios cuando se está aprendiendo un nuevo lenguaje de programación. Así que busca practicar a través de los ejercicios propuestos y observa cómo esto puede ayudarte a mejorar tus habilidades de codificación."
   ]
  },
  {
   "cell_type": "markdown",
   "metadata": {},
   "source": [
    "##  14 Lo que aprendimos\n",
    "\n",
    "\n",
    "* Lo que aprendimos en esta aula:\n",
    "\n",
    "* Construir estructuras de datos.\n",
    "* Crear listas y diccionarios.\n",
    "* Llenar y manipular listas y diccionarios.\n",
    " "
   ]
  },
  {
   "cell_type": "markdown",
   "metadata": {
    "id": "-gB2Mqz2dGvE"
   },
   "source": [
    "# `VAMOS POL!!!`"
   ]
  }
 ],
 "metadata": {
  "colab": {
   "authorship_tag": "ABX9TyPmZAVThfBiDl5HCsMdVgaC",
   "provenance": []
  },
  "kernelspec": {
   "display_name": "api-env",
   "language": "python",
   "name": "python3"
  },
  "language_info": {
   "codemirror_mode": {
    "name": "ipython",
    "version": 3
   },
   "file_extension": ".py",
   "mimetype": "text/x-python",
   "name": "python",
   "nbconvert_exporter": "python",
   "pygments_lexer": "ipython3",
   "version": "3.10.13"
  }
 },
 "nbformat": 4,
 "nbformat_minor": 0
}
