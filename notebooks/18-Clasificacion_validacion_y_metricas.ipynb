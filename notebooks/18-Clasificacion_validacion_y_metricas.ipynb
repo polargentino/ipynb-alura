{
  "cells": [
    {
      "cell_type": "markdown",
      "metadata": {
        "colab_type": "text",
        "id": "view-in-github"
      },
      "source": [
        "<a href=\"https://colab.research.google.com/github/ahcamachod/2162-clasificacion-validacion-de-modelos-y-metricas/blob/proyecto-final/Clasificacion_validacion_y_metricas.ipynb\" target=\"_parent\"><img src=\"https://colab.research.google.com/assets/colab-badge.svg\" alt=\"Open In Colab\"/></a>"
      ]
    },
    {
      "cell_type": "markdown",
      "metadata": {},
      "source": [
        "# Alumno: Pablo Matías Monsalvo G8-ONE 02/07/2025"
      ]
    },
    {
      "cell_type": "markdown",
      "metadata": {
        "id": "MCqTDybk4ShK"
      },
      "source": [
        "# <font color='dark'>**Clasificación: Validación de modelos y métricas de evaluación**</h1>"
      ]
    },
    {
      "cell_type": "markdown",
      "metadata": {
        "id": "WscU3KG7a9No"
      },
      "source": [
        "### Proyecto\n",
        "\n",
        "Una empresa de financiamiento de automóviles está atravesando una situación complicada, con una alta demanda para una flota reducida de vehículos y un alto número de morosos, lo que está generando grandes pérdidas para la empresa.\n",
        "\n",
        "Nosotros fuimos contratados para buscar mejoras en la identificación de morosos. El análisis de los clientes actualmente se realiza de forma manual, cliente por cliente, lo que consume mucho tiempo y, aun así, la detección de morosos es muy imprecisa.\n",
        "\n",
        "Nuestra tarea es utilizar los datos proporcionados por la empresa para **clasificar** a los clientes en cumplidores y morosos."
      ]
    },
    {
      "cell_type": "markdown",
      "metadata": {
        "id": "WgS8iF51Csrn"
      },
      "source": [
        "## <font color='dark'>Clasificando los datos</h1>"
      ]
    },
    {
      "cell_type": "markdown",
      "metadata": {
        "id": "6lExmBuKn-xe"
      },
      "source": [
        "### Creando un modelo inicial"
      ]
    },
    {
      "cell_type": "code",
      "execution_count": 3,
      "metadata": {
        "id": "4Mzg4LnBAqBg"
      },
      "outputs": [],
      "source": [
        "import pandas as pd"
      ]
    },
    {
      "cell_type": "code",
      "execution_count": 4,
      "metadata": {
        "id": "WEhyCo9UAp7B"
      },
      "outputs": [],
      "source": [
        "datos = pd.read_csv('../data/prestacar.csv')"
      ]
    },
    {
      "cell_type": "code",
      "execution_count": 5,
      "metadata": {
        "colab": {
          "base_uri": "https://localhost:8080/",
          "height": 443
        },
        "id": "B2zzUmEiAp1J",
        "outputId": "802cb4b6-ee4c-4d5c-bf0b-24a3564c573f"
      },
      "outputs": [
        {
          "data": {
            "text/html": [
              "<div>\n",
              "<style scoped>\n",
              "    .dataframe tbody tr th:only-of-type {\n",
              "        vertical-align: middle;\n",
              "    }\n",
              "\n",
              "    .dataframe tbody tr th {\n",
              "        vertical-align: top;\n",
              "    }\n",
              "\n",
              "    .dataframe thead th {\n",
              "        text-align: right;\n",
              "    }\n",
              "</style>\n",
              "<table border=\"1\" class=\"dataframe\">\n",
              "  <thead>\n",
              "    <tr style=\"text-align: right;\">\n",
              "      <th></th>\n",
              "      <th>ingresos_cliente</th>\n",
              "      <th>anualidad_prestamo</th>\n",
              "      <th>años_casa_propia</th>\n",
              "      <th>telefono_trab</th>\n",
              "      <th>evaluacion_ciudad</th>\n",
              "      <th>score_1</th>\n",
              "      <th>score_2</th>\n",
              "      <th>score_3</th>\n",
              "      <th>score_social</th>\n",
              "      <th>cambio_telefono</th>\n",
              "      <th>moroso</th>\n",
              "    </tr>\n",
              "  </thead>\n",
              "  <tbody>\n",
              "    <tr>\n",
              "      <th>0</th>\n",
              "      <td>12600.0</td>\n",
              "      <td>3569.400000</td>\n",
              "      <td>12.157324</td>\n",
              "      <td>1</td>\n",
              "      <td>2.0</td>\n",
              "      <td>0.057153</td>\n",
              "      <td>0.527227</td>\n",
              "      <td>0.513171</td>\n",
              "      <td>0.117428</td>\n",
              "      <td>2545.0</td>\n",
              "      <td>0</td>\n",
              "    </tr>\n",
              "    <tr>\n",
              "      <th>1</th>\n",
              "      <td>9000.0</td>\n",
              "      <td>2722.188351</td>\n",
              "      <td>7.000000</td>\n",
              "      <td>0</td>\n",
              "      <td>2.0</td>\n",
              "      <td>0.657661</td>\n",
              "      <td>0.285898</td>\n",
              "      <td>0.614414</td>\n",
              "      <td>0.222700</td>\n",
              "      <td>495.0</td>\n",
              "      <td>0</td>\n",
              "    </tr>\n",
              "    <tr>\n",
              "      <th>2</th>\n",
              "      <td>15750.0</td>\n",
              "      <td>4477.500000</td>\n",
              "      <td>12.000000</td>\n",
              "      <td>0</td>\n",
              "      <td>2.0</td>\n",
              "      <td>0.501213</td>\n",
              "      <td>0.695423</td>\n",
              "      <td>0.513171</td>\n",
              "      <td>0.117428</td>\n",
              "      <td>1212.0</td>\n",
              "      <td>0</td>\n",
              "    </tr>\n",
              "  </tbody>\n",
              "</table>\n",
              "</div>"
            ],
            "text/plain": [
              "   ingresos_cliente  anualidad_prestamo  años_casa_propia  telefono_trab  \\\n",
              "0           12600.0         3569.400000         12.157324              1   \n",
              "1            9000.0         2722.188351          7.000000              0   \n",
              "2           15750.0         4477.500000         12.000000              0   \n",
              "\n",
              "   evaluacion_ciudad   score_1   score_2   score_3  score_social  \\\n",
              "0                2.0  0.057153  0.527227  0.513171      0.117428   \n",
              "1                2.0  0.657661  0.285898  0.614414      0.222700   \n",
              "2                2.0  0.501213  0.695423  0.513171      0.117428   \n",
              "\n",
              "   cambio_telefono  moroso  \n",
              "0           2545.0       0  \n",
              "1            495.0       0  \n",
              "2           1212.0       0  "
            ]
          },
          "execution_count": 5,
          "metadata": {},
          "output_type": "execute_result"
        }
      ],
      "source": [
        "datos.head(3)"
      ]
    },
    {
      "cell_type": "code",
      "execution_count": 6,
      "metadata": {
        "id": "XQU_Rus8AsZH"
      },
      "outputs": [],
      "source": [
        "X = datos.drop(columns='moroso',axis=1)\n",
        "y = datos.moroso"
      ]
    },
    {
      "cell_type": "code",
      "execution_count": 7,
      "metadata": {
        "colab": {
          "base_uri": "https://localhost:8080/"
        },
        "id": "KV3qB0CDAsN4",
        "outputId": "20ee2db6-cd6d-4a01-f251-8ff87954adc6"
      },
      "outputs": [
        {
          "data": {
            "text/plain": [
              "1.0"
            ]
          },
          "execution_count": 7,
          "metadata": {},
          "output_type": "execute_result"
        }
      ],
      "source": [
        "from sklearn.tree import DecisionTreeClassifier\n",
        "\n",
        "modelo = DecisionTreeClassifier()\n",
        "modelo.fit(X,y)\n",
        "modelo.score(X,y)"
      ]
    },
    {
      "cell_type": "code",
      "execution_count": 8,
      "metadata": {
        "colab": {
          "base_uri": "https://localhost:8080/"
        },
        "id": "Qkh20T3MGwuq",
        "outputId": "4572bb55-4c95-4f93-b354-bf2366fcab2c"
      },
      "outputs": [
        {
          "name": "stdout",
          "output_type": "stream",
          "text": [
            "La exactitud del modelo es: 1.0\n"
          ]
        }
      ],
      "source": [
        "print(f'La exactitud del modelo es: {modelo.score(X,y)}')"
      ]
    },
    {
      "cell_type": "markdown",
      "metadata": {},
      "source": [
        "## Luri:\n",
        "¡Hola! ¡Qué bueno tenerte por aquí!\n",
        "\n",
        "En esta clase, estamos construyendo un modelo para ayudar a una empresa financiera a identificar a los clientes que probablemente no paguen sus deudas. Imagina que eres un detective que intenta resolver un caso:\n",
        "\n",
        "* ### El Dataset como el Escenario del Crimen:\n",
        " El dataset es como la escena del crimen, llena de pistas (datos) sobre los clientes. Cada columna (ingresos, historial crediticio, etc.) es una pista diferente.\n",
        "\n",
        "* ### El Modelo de Clasificación como el Detective:\n",
        " El modelo de clasificación es como el detective que analiza las pistas para identificar a los culpables (los clientes que no pagarán).\n",
        "\n",
        "* ### Entrenar el Modelo como Aprender de Casos Pasados:\n",
        " Entrenar el modelo es como mostrarle al detective casos resueltos anteriormente para que aprenda a reconocer patrones y hacer predicciones más precisas.\n",
        "\n",
        "* ### El Árbol de Decisión como un Diagrama de Flujo:\n",
        " El árbol de decisión es como un diagrama de flujo que el detective usa para tomar decisiones basadas en las pistas. Por ejemplo, si el ingreso es bajo, entonces... si el historial crediticio es malo, entonces...\n",
        "\n",
        "* ### La Exactitud del Modelo como la Confianza del Detective:\n",
        " La exactitud del modelo es como la confianza que tiene el detective en sus predicciones. Un modelo con alta exactitud es como un detective que rara vez se equivoca.\n",
        " \n",
        "En resumen, estamos construyendo un detective (modelo) que puede analizar pistas (datos) para identificar a los clientes deudores y ayudar a la empresa financiera a tomar decisiones más informadas.\n",
        "\n",
        "¿Te gustaría que profundicemos en algún aspecto en particular o te gustaría ver algún ejemplo adicional?"
      ]
    },
    {
      "cell_type": "markdown",
      "metadata": {},
      "source": [
        "##  04 Utilidad del método score()\n",
        "Durante la construcción de un modelo para clasificar transacciones bancarias como legítimas o fraudulentas, una persona científica de datos utilizó la biblioteca Scikit-Learn, que ofrece diversos algoritmos de machine learning que pueden ser utilizados para la clasificación de datos. En cada uno de estos algoritmos, el método fit() se utiliza para entrenar un modelo a partir de las variables explicativas y la variable respuesta.\n",
        "\n",
        "Sin embargo, después del entrenamiento del modelo, se realiza un paso más mediante el uso del método score(). Seleccione la alternativa que describe de manera adecuada la finalidad de usar el score() en este contexto:\n",
        "\n",
        "![datos-1](/home/pol/Escritorio/ipynb-alura/assets/datos-1.png)"
      ]
    },
    {
      "cell_type": "markdown",
      "metadata": {},
      "source": [
        "## 05 Validando el modelo\n"
      ]
    },
    {
      "cell_type": "markdown",
      "metadata": {
        "id": "EPrFcm39oAof"
      },
      "source": [
        "### Validando el modelo"
      ]
    },
    {
      "cell_type": "markdown",
      "metadata": {
        "id": "v0u-uij9eNcD"
      },
      "source": [
        "Evaluar el modelo con los mismos datos utilizados en el entrenamiento no es recomendable. Es necesario que la evaluación se realice con datos independientes.  \n",
        "\n",
        "Evaluar el modelo con los propios datos de entrenamiento sería equivalente a entregar un examen con las preguntas y las respuestas a una persona y, al momento de evaluarla nuevamente, entregarle un examen con las mismas preguntas y opciones. Se espera que esa persona obtenga un buen resultado, ya que ya ha visto las respuestas y ha memorizado el resultado. Esto es diferente de haber aprendido la materia a partir de ese examen y luego presentar una prueba con contenido similar y obtener un resultado positivo.  \n",
        "\n",
        "Con el objetivo de verificar la capacidad de generalización de un modelo, debemos dividir el conjunto de datos en tres partes: datos de entrenamiento, validación y prueba.  \n",
        "\n",
        "- El **conjunto de entrenamiento** se utiliza para entrenar los modelos. A partir de este conjunto, los modelos identifican patrones en los datos.  \n",
        "\n",
        "- El **conjunto de validación** se emplea para evaluar el desempeño de diferentes modelos con datos nuevos que no fueron utilizados en el entrenamiento.  \n",
        "\n",
        "- El **conjunto de prueba** se mantiene separado desde el inicio para simular datos del mundo real. No se utiliza en ninguna etapa del entrenamiento ni de la validación, sirviendo como una estimación de la capacidad del modelo elegido para generalizar y predecir nuevos datos."
      ]
    },
    {
      "cell_type": "markdown",
      "metadata": {
        "id": "TCIN5oOJFk_W"
      },
      "source": [
        "<a href=\"https://ibb.co/9H2Z1HZ5\"><img src=\"https://i.ibb.co/0yZs6ysb/datos-train-test.png\" alt=\"datos-train-test\" border=\"0\"></a>"
      ]
    },
    {
      "cell_type": "code",
      "execution_count": 9,
      "metadata": {
        "id": "HYnpEBxNL_Vy"
      },
      "outputs": [],
      "source": [
        "from sklearn.model_selection import train_test_split"
      ]
    },
    {
      "cell_type": "code",
      "execution_count": 10,
      "metadata": {
        "id": "33IJDoSmL-w2"
      },
      "outputs": [],
      "source": [
        "X,X_test,y,y_test = train_test_split(X,y,test_size=0.15,stratify=y,random_state=5)\n",
        "X_train,X_val,y_train,y_val = train_test_split(X,y,stratify=y,random_state=5)"
      ]
    },
    {
      "cell_type": "code",
      "execution_count": 11,
      "metadata": {
        "colab": {
          "base_uri": "https://localhost:8080/"
        },
        "id": "ivfPBgTCL-ub",
        "outputId": "4be30a28-7aca-4a44-cbae-e1775f8575b9"
      },
      "outputs": [
        {
          "name": "stdout",
          "output_type": "stream",
          "text": [
            "La exactitud del modelo con el conjunto de entrenamiento es de: 1.0\n",
            "La exactitud del modelo con el conjunto de validación es de: 0.8510582701855239\n"
          ]
        }
      ],
      "source": [
        "modelo = DecisionTreeClassifier()\n",
        "modelo.fit(X_train,y_train)\n",
        "print(f'La exactitud del modelo con el conjunto de entrenamiento es de: {modelo.score(X_train,y_train)}')\n",
        "print(f'La exactitud del modelo con el conjunto de validación es de: {modelo.score(X_val,y_val)}')"
      ]
    },
    {
      "cell_type": "code",
      "execution_count": 12,
      "metadata": {
        "colab": {
          "base_uri": "https://localhost:8080/"
        },
        "id": "J76Zf_s8A4un",
        "outputId": "378c4749-518e-46dd-e2fb-38d81314037b"
      },
      "outputs": [
        {
          "name": "stdout",
          "output_type": "stream",
          "text": [
            "La exactitud del modelo con el conjunto de entrenamiento es de: 0.9205574912891986\n",
            "La exactitud del modelo con el conjunto de validación es de: 0.9059315390645414\n"
          ]
        }
      ],
      "source": [
        "modelo = DecisionTreeClassifier(max_depth=10)\n",
        "modelo.fit(X_train,y_train)\n",
        "print(f'La exactitud del modelo con el conjunto de entrenamiento es de: {modelo.score(X_train,y_train)}')\n",
        "print(f'La exactitud del modelo con el conjunto de validación es de: {modelo.score(X_val,y_val)}')"
      ]
    },
    {
      "cell_type": "markdown",
      "metadata": {},
      "source": [
        "## Luri:¡Hola! Claro, puedo ayudarte con eso.\n",
        "\n",
        "En esta clase, se explica la importancia de validar un modelo de Machine Learning utilizando diferentes conjuntos de datos. Para entenderlo mejor, podemos usar algunas analogías:\n",
        "\n",
        "* ### El examen con respuestas:\n",
        " Imagina que le das a alguien un examen con todas las respuestas. Luego, le das el mismo examen. Es muy probable que obtenga una calificación perfecta, pero ¿realmente aprendió algo? No, solo memorizó las respuestas. En Machine Learning, esto es lo que ocurre cuando entrenamos y probamos un modelo con los mismos \n",
        " datos: el modelo \"memoriza\" las respuestas y no puede generalizar bien a nuevos datos.\n",
        "\n",
        "* ### El chef y la receta secreta:\n",
        " Un chef crea una receta secreta y la prueba con los mismos ingredientes una y otra vez. Siempre obtiene el mismo resultado, pero ¿qué pasa si usa ingredientes ligeramente diferentes? ¿La receta seguirá funcionando? Para asegurarnos de que la receta sea buena, necesitamos probarla con diferentes ingredientes y en diferentes condiciones. En Machine Learning, esto significa usar un conjunto de datos de prueba que el modelo nunca haya visto antes.\n",
        "\n",
        "* ### El estudiante y los ejercicios:\n",
        " Un estudiante practica con los mismos ejercicios una y otra vez. Se vuelve muy bueno resolviendo esos ejercicios, pero ¿qué pasa si se enfrenta a un problema nuevo? Para asegurarse de que el estudiante realmente comprenda el tema, necesita practicar con una variedad de ejercicios diferentes. En Machine Learning, esto significa usar un conjunto de datos de validación para ajustar los parámetros del modelo y evitar el sobreajuste.\n",
        " \n",
        "En resumen, la validación de modelos es como asegurarnos de que un estudiante realmente comprenda un tema, un chef realmente domine una receta o un modelo de Machine Learning realmente pueda generalizar a nuevos datos. Al dividir nuestros datos en conjuntos de entrenamiento, validación y prueba, podemos evaluar el rendimiento de nuestro modelo de manera más precisa y evitar el sobreajuste.\n",
        "\n",
        "¿Te gustaría que te explicara algún concepto en particular con más detalle o con otra analogía?"
      ]
    },
    {
      "cell_type": "markdown",
      "metadata": {},
      "source": [
        "##  06 Para saber más: método holdout\n",
        "En el momento de validar modelos de clasificación, necesitamos verificar si el modelo está realmente generalizando, es decir, si está comprendiendo el patrón de los datos y clasificando correctamente datos nuevos. La estrategia más simple para evaluar esta generalización, conocida como holdout, consiste en dividir los datos en dos partes: un conjunto de datos de entrenamiento y otro de prueba. El conjunto de entrenamiento se utiliza para entrenar el modelo, mientras que el conjunto de prueba se usa para evaluar el rendimiento del modelo en datos no vistos anteriormente.\n",
        "\n",
        "Con la ayuda de la imagen a continuación, analiza la ejemplificación del método holdout en funcionamiento:\n",
        "\n",
        "![datos-3](/home/pol/Escritorio/ipynb-alura/assets/datos-3.png)\n",
        "\n",
        "En algunos casos, especialmente cuando se realizan ajustes finos en los parámetros del modelo, es útil tener un conjunto de validación adicional. En este caso, la división se hace en tres partes: conjunto de entrenamiento, conjunto de validación y conjunto de prueba. El conjunto de validación se utiliza en la comparación de diferentes modelos, en la selección del modelo más adecuado y en el ajuste de los hiperparámetros. Mientras tanto, el conjunto de prueba sigue utilizándose para evaluar el rendimiento final del modelo elegido, después de todo el proceso de ajuste.\n",
        "\n",
        "Por eso, cuanto más se utilizan los mismos datos para tomar decisiones sobre configuraciones de mejoras en el modelo o elección de hiperparámetros, más comprometida se vuelve la confiabilidad de esos resultados al ser generalizados para datos nuevos y no vistos. Esto ocurre porque las mejoras se hacen a partir de esos datos de validación.\n",
        "\n",
        "Es posible percibir que las mejoras aplicadas desempeñan un papel fundamental para resolver el problema. Sin embargo, para asegurar que el rendimiento del modelo permanezca consistente en relación a los datos del mundo real, que no fueron vistos en el entrenamiento o en la mejora de los modelos, la estrategia de la división entre 3 conjuntos de datos, como se puede analizar en la imagen siguiente, ofrece una buena dirección final, ya que indica si el modelo elegido está sesgado o no en relación a los datos de validación.\n",
        "\n",
        "![datos-4](/home/pol/Escritorio/ipynb-alura/assets/datos-4.png)"
      ]
    },
    {
      "cell_type": "markdown",
      "metadata": {},
      "source": [
        "## 07 Evaluando el modelo\n"
      ]
    },
    {
      "cell_type": "markdown",
      "metadata": {
        "id": "WtlRAZt96VLG"
      },
      "source": [
        "### Evaluando el modelo"
      ]
    },
    {
      "cell_type": "code",
      "execution_count": 1,
      "metadata": {
        "id": "brnBkXbyA-29"
      },
      "outputs": [],
      "source": [
        "from sklearn.metrics import confusion_matrix"
      ]
    },
    {
      "cell_type": "code",
      "execution_count": 13,
      "metadata": {
        "colab": {
          "base_uri": "https://localhost:8080/"
        },
        "id": "bcIkS90OTceF",
        "outputId": "e5e75617-19d8-47dc-ba11-f8d1a4606a92"
      },
      "outputs": [
        {
          "name": "stdout",
          "output_type": "stream",
          "text": [
            "[[10359   120]\n",
            " [  960    42]]\n"
          ]
        }
      ],
      "source": [
        "y_previsto = modelo.predict(X_val)\n",
        "matriz_confusion = confusion_matrix(y_val,y_previsto)\n",
        "print(matriz_confusion)"
      ]
    },
    {
      "cell_type": "code",
      "execution_count": 14,
      "metadata": {
        "id": "ZBPGAvR8Tchk"
      },
      "outputs": [],
      "source": [
        "from sklearn.metrics import ConfusionMatrixDisplay"
      ]
    },
    {
      "cell_type": "code",
      "execution_count": 15,
      "metadata": {
        "colab": {
          "base_uri": "https://localhost:8080/",
          "height": 449
        },
        "id": "oUFVhE14TckG",
        "outputId": "c8500465-11ed-437b-d60b-31ed4d2bdc56"
      },
      "outputs": [
        {
          "data": {
            "image/png": "[encoded data removed]",
            "text/plain": [
              "<Figure size 640x480 with 2 Axes>"
            ]
          },
          "metadata": {},
          "output_type": "display_data"
        }
      ],
      "source": [
        "visualizacion = ConfusionMatrixDisplay(confusion_matrix = matriz_confusion)\n",
        "visualizacion.plot();"
      ]
    },
    {
      "cell_type": "code",
      "execution_count": null,
      "metadata": {
        "colab": {
          "base_uri": "https://localhost:8080/",
          "height": 449
        },
        "id": "O474WvsnA-vg",
        "outputId": "a059e790-a683-4a3d-bc80-092c63205188"
      },
      "outputs": [
        {
          "data": {
            "image/png": "[encoded data removed]",
            "text/plain": [
              "<Figure size 640x480 with 2 Axes>"
            ]
          },
          "metadata": {},
          "output_type": "display_data"
        }
      ],
      "source": [
        "visualizacion = ConfusionMatrixDisplay(confusion_matrix = matriz_confusion, display_labels=['Cumplido','Moroso'])\n",
        "visualizacion.plot();"
      ]
    },
    {
      "cell_type": "markdown",
      "metadata": {},
      "source": [
        "## Luri:\n",
        "# Detector de Frutas: Entendiendo Precisión y Matriz de Confusión\n",
        "\n",
        "¡Hola!  \n",
        "Imagina que eres un **detector de frutas** en un supermercado. Tu trabajo es clasificar las frutas en dos categorías:\n",
        "\n",
        "- **Manzanas**\n",
        "- **No Manzanas**\n",
        "\n",
        "---\n",
        "\n",
        "## Precisión\n",
        "\n",
        "Supón que tu detector de frutas es muy entusiasta y dice que casi todas las frutas son \"**Manzanas**\".  \n",
        "En el montón de frutas, hay **90 manzanas** y **10 plátanos**.  \n",
        "Tu detector dice que **95 frutas son manzanas** (¡incluyendo algunos plátanos!).\n",
        "\n",
        "- Tu **precisión** sería alta porque acertaste con muchas de las frutas, pero **no estás haciendo un buen trabajo diferenciando manzanas de plátanos**.\n",
        "\n",
        "> En la clase, la precisión mide qué tan bien tu modelo clasifica en general, pero **no te dice si está confundiendo \"deudores\" con \"cumplidos\" o viceversa**.\n",
        "\n",
        "---\n",
        "\n",
        "## Matriz de Confusión\n",
        "\n",
        "Ahora, imagina que haces una tabla para registrar cómo tu detector de frutas está clasificando las frutas.  \n",
        "La tabla se ve así:\n",
        "\n",
        "|                     | Predicho: Manzana | Predicho: No Manzana |\n",
        "|---------------------|:-----------------:|:--------------------:|\n",
        "| **Realidad: Manzana**     |        85         |          5           |\n",
        "| **Realidad: No Manzana**  |        10         |          0           |\n",
        "\n",
        "- **Verdaderos Positivos (VP):** 85 manzanas fueron correctamente identificadas como manzanas.\n",
        "- **Falsos Positivos (FP):** 10 plátanos fueron incorrectamente identificados como manzanas.\n",
        "- **Falsos Negativos (FN):** 5 manzanas fueron incorrectamente identificadas como no manzanas.\n",
        "- **Verdaderos Negativos (VN):** 0 plátanos fueron correctamente identificados como no manzanas.\n",
        "\n",
        "---\n",
        "\n",
        "### ¿Para qué sirve la matriz de confusión?\n",
        "\n",
        "La matriz de confusión te muestra exactamente:\n",
        "\n",
        "- Cuántos clientes **cumplidos** fueron correctamente identificados.\n",
        "- Cuántos clientes **deudores** fueron correctamente identificados.\n",
        "- Cuántos clientes **cumplidos** fueron incorrectamente identificados como **deudores** (¡un error costoso!).\n",
        "- Cuántos clientes **deudores** fueron incorrectamente identificados como **cumplidos**.\n",
        "\n",
        "---\n",
        "\n",
        "> ¿Te sirvió la analogía para entender mejor la clase?\n"
      ]
    },
    {
      "cell_type": "markdown",
      "metadata": {},
      "source": [
        "##  08 Para saber más: entendiendo la matriz de confusión\n",
        "\n",
        "Para obtener una evaluación más completa del desempeño de modelos de clasificación, podemos utilizar una herramienta conocida como matriz de confusión. Esta matriz ofrece ventajas a la persona científica de datos, ya que permite entender cuántos errores y aciertos tiene las predicciones de un modelo. En lugar de una tasa de acierto general, la matriz es capaz de proporcionar información en una visualización para cada una de las categorías de la variable objetivo.\n",
        "\n",
        "Piensa en un sistema de seguridad de un edificio que utiliza cámaras para identificar personas que entran. La \"matriz de confusión\" se vuelve valiosa, ya que permite verificar cuántas veces el sistema acertó al identificar correctamente a las personas autorizadas, cuántas veces acusó erróneamente a personas y cuántas veces dejó pasar a personas no autorizadas. Con estos números, es posible ajustar el sistema para minimizar falsos positivos y negativos, mejorando su precisión en la detección de visitantes.\n",
        "\n",
        "En la representación general de una matriz de confusión, para más detalles analiza la imagen a continuación, las filas de la matriz corresponden a los valores reales de la base de datos, mientras que las columnas corresponden a los valores previstos por el modelo de clasificación. Las categorías de la variable objetivo están representadas por el valor 0 (ausencia del atributo), también llamado negativo, y por el valor 1 (presencia del atributo), también llamado positivo.\n",
        "\n",
        "![datos-5.png](/home/pol/Escritorio/ipynb-alura/assets/datos-5.png)\n",
        "\n",
        "Cada elemento de la matriz está identificado por un nombre de acuerdo con la intersección entre la predicción y el valor real. La diagonal principal de la matriz, que está destacada por el color verde, representa los elementos que tienen la predicción igual al valor real, por lo tanto son los aciertos del modelo. Por otro lado, la diagonal secundaria, que está destacada por el color rojo, representa los elementos con predicciones diferentes del valor real, por lo tanto son los errores del modelo. La descripción de cada uno de los elementos es la siguiente:\n",
        "\n",
        "* **Verdaderos Negativos (VN)**: Cuando el valor real es 0 y la predicción también es 0. Indica que el modelo clasificó correctamente los valores de la clase negativa.\n",
        "\n",
        "* **Falsos Positivos (FP)**: Cuando el valor real es 0 y la predicción es 1. Indica que el modelo clasificó erróneamente un elemento de la clase negativa como si fuera de la clase positiva.\n",
        "\n",
        "* **Falsos Negativos (FN)**: Cuando el valor real es 1 y la predicción es 0. Indica que el modelo clasificó erróneamente un elemento de la clase positiva como si fuera de la clase negativa.\n",
        "\n",
        "* **Verdaderos Positivos (VP)**: Cuando el valor real es 1 y la predicción también es 1. Indica que el modelo clasificó correctamente los valores de la clase positiva.\n",
        "\n",
        "Estos valores son muy útiles para un análisis más profundo del modelo de clasificación. Esto permite identificar las capacidades y limitaciones de la predicción, si hay un equilibrio entre los aciertos y errores o si el resultado está sesgado hacia una clase en detrimento de la otra. Con esto, es evidente que la matriz de confusión es una herramienta mucho más completa que la métrica de precisión, que representa solo el porcentaje de aciertos del modelo, sin considerar las clases de manera aislada."
      ]
    },
    {
      "cell_type": "markdown",
      "metadata": {},
      "source": [
        "##  09 Matriz de confusión\n",
        "Para evaluar un modelo de clasificación, podemos utilizar la precisión, que es un resultado general de aciertos del modelo expresado en porcentaje. Sin embargo, la precisión no siempre será suficiente para entender cómo está el desempeño del modelo.\n",
        "\n",
        "Es posible utilizar la matriz de confusión para devolver un resultado más completo en relación al desempeño del modelo, conteniendo la cantidad de aciertos y errores del modelo para cada clase de la variable objetivo. Así, a partir de la matriz de confusión a continuación, que contiene los valores reales en las filas y valores predichos en las columnas y donde el valor 0 representa clientes cumplidores y 1 representa clientes morosos:\n",
        "\n",
        "![datos-6.png](/home/pol/Escritorio/ipynb-alura/assets/datos-6.png)\n",
        "\n",
        "Seleccione la alternativa que contiene la descripción correcta dependiendo del valor:\n",
        "\n",
        "\n",
        "20 representa a los clientes morosos que el modelo clasificó correctamente como morosos.\n",
        "\n",
        "\n",
        "Correcto, como la segunda fila representa a los clientes morosos reales y la segunda columna representa la predicción del modelo como morosos, 20 sería la cantidad de personas morosos que el modelo clasificó correctamente como morosos.\n",
        "\n",
        "![datos-7.png](/home/pol/Escritorio/ipynb-alura/assets/datos-7.png)\n",
        "\n"
      ]
    },
    {
      "cell_type": "markdown",
      "metadata": {},
      "source": [
        "## Luri + Perplexity IA para el formato .md:\n",
        "# Entendiendo la Matriz de Confusión con la Analogía del Detective\n",
        "\n",
        "¡Hola!  \n",
        "Vamos a usar una analogía para entender mejor el enunciado del ejercicio.\n",
        "\n",
        "---\n",
        "\n",
        "## El Caso del Detective\n",
        "\n",
        "Imagina que eres un **detective** intentando resolver un caso.  \n",
        "En este caso, el \"caso\" es **clasificar a los clientes en dos grupos**:\n",
        "\n",
        "- **Cumplidores**: Los que pagan sus cuentas a tiempo.\n",
        "- **Morosos**: Los que no pagan a tiempo.\n",
        "\n",
        "---\n",
        "\n",
        "## ¿Qué es la Matriz de Confusión?\n",
        "\n",
        "Piensa en la **matriz de confusión** como una tabla que te muestra qué tan bien estás haciendo tu trabajo como detective:\n",
        "\n",
        "- **Filas**: Representan la **verdad** (si el cliente realmente es cumplidor o moroso).\n",
        "- **Columnas**: Representan tus **predicciones** (cómo clasificaste a cada cliente).\n",
        "\n",
        "---\n",
        "\n",
        "## Analogía del Detective\n",
        "\n",
        "- **Verdadero Positivo (VP):**  \n",
        "  Clientes **morosos** que correctamente identificaste como morosos.  \n",
        "  _¡Buen trabajo, detective!_\n",
        "\n",
        "- **Verdadero Negativo (VN):**  \n",
        "  Clientes **cumplidores** que correctamente identificaste como cumplidores.  \n",
        "  _¡Otro caso resuelto!_\n",
        "\n",
        "- **Falso Positivo (FP):**  \n",
        "  Clientes **cumplidores** que incorrectamente identificaste como morosos (falsa alarma).  \n",
        "  _¡Cuidado, detective, podrías estar acusando a alguien inocente!_\n",
        "\n",
        "- **Falso Negativo (FN):**  \n",
        "  Clientes **morosos** que incorrectamente identificaste como cumplidores (dejaste escapar al culpable).  \n",
        "  _¡Ups, se te escapó uno!_\n",
        "\n",
        "---\n",
        "\n",
        "## Resumen\n",
        "\n",
        "La **matriz de confusión** te ayuda a ver **dónde estás acertando y dónde te estás equivocando** como detective (o como modelo de clasificación).  \n",
        "Así puedes mejorar tu estrategia para resolver casos futuros.\n",
        "\n",
        "---\n",
        "\n",
        "> Ahora, con esta analogía en mente, ¿puedes identificar qué representa cada valor en la matriz de confusión del ejercicio?  \n",
        "> Recuerda que el objetivo es entender qué significan los números **9767, 79, 939 y 20** en el contexto de clientes cumplidores y morosos.\n",
        "\n",
        "---\n",
        "\n",
        "¡Espero que esta analogía te sea útil!  \n",
        "Avísame si tienes más preguntas.\n"
      ]
    },
    {
      "cell_type": "markdown",
      "metadata": {},
      "source": [
        "##  10 Desafío: construyendo un segundo modelo\n",
        "\n",
        "Se recomienda utilizar más de un modelo de clasificación en proyectos de machine learning, para que se comparen los resultados y se elija aquel modelo que tenga un mejor desempeño, después de todos los análisis y mejoras.\n",
        "\n",
        "Utilizamos durante la clase el algoritmo de árbol de decisión, pero la biblioteca `Scikit-Learn` tiene varios otros métodos de clasificación que pueden ser utilizados en nuestro proyecto. Como desafío, utiliza el algoritmo Random Forest para crear un modelo y evaluar el desempeño con la precisión y la `matriz de confusión`, y compara los resultados con el resultado del `árbol de decisión`.\n",
        "\n",
        "Como un consejo, revisa la documentación del algoritmo `RandomForestClassifier`. Explora este material y observa cómo importar la función. Durante este proceso, recuerda verificar los parámetros del método para evitar que el modelo se ajuste demasiado a los datos de entrenamiento."
      ]
    },
    {
      "cell_type": "markdown",
      "metadata": {},
      "source": [
        "## Opinión del instructor\n",
        "\n",
        "El primer paso es identificar cómo importar el algoritmo Random Forest a partir de la documentación, que siempre trae ejemplos de cómo utilizar la función. La importación se puede hacer con el siguiente código:"
      ]
    },
    {
      "cell_type": "code",
      "execution_count": 16,
      "metadata": {},
      "outputs": [],
      "source": [
        "from sklearn.ensemble import RandomForestClassifier"
      ]
    },
    {
      "cell_type": "markdown",
      "metadata": {},
      "source": [
        "Ahora que hemos importado el algoritmo, solo necesitamos instanciar el RandomForestClassifier en una variable y utilizar el parámetro max_depth = 10 así como hicimos con el árbol de decisión. Esto evitará que el modelo se ajuste demasiado a los datos de entrenamiento. Después de eso, podemos ajustar el modelo con datos de entrenamiento y verificar el resultado de la precisión:"
      ]
    },
    {
      "cell_type": "code",
      "execution_count": null,
      "metadata": {},
      "outputs": [],
      "source": [
        "modelo = RandomForestClassifier(max_depth = 10)\n",
        "modelo.fit(x_entrenamiento, y_entrenamiento)\n",
        "print(f'Precisión de entrenamiento: {modelo.score(x_entrenamiento, y_entrenamiento)}')\n",
        "print(f'Precisión de validación: {modelo.score(x_val, y_val)}')"
      ]
    },
    {
      "cell_type": "markdown",
      "metadata": {},
      "source": [
        "Al ejecutar el código, obtendremos el siguiente resultado:\n",
        "\n",
        "Precisión de entrenamiento: 0.9154761904761904\n",
        "\n",
        "Precisión de validación: 0.9127253723543245\n",
        "\n",
        "Este resultado muestra que el RandomForest tuvo una precisión mejor que el árbol de decisión, indicando que el modelo tiene una tasa de aciertos general mejor.\n",
        "\n",
        "Para completar, podemos generar una matriz de confusión a partir del modelo y verificar la cantidad de aciertos y errores para cada clase. Podemos crear la matriz con el siguiente código:"
      ]
    },
    {
      "cell_type": "code",
      "execution_count": null,
      "metadata": {},
      "outputs": [],
      "source": [
        "y_previsto = modelo.predict(x_val)\n",
        "matriz_confusion = confusion_matrix(y_val, y_previsto)\n",
        "visualizacion = ConfusionMatrixDisplay(confusion_matrix= matriz_confusion,\n",
        "                                      display_labels = ['Cumplido', 'Moroso'])\n",
        "visualizacion.plot();"
      ]
    },
    {
      "cell_type": "markdown",
      "metadata": {},
      "source": [
        "Al ejecutar el código, obtendremos el siguiente resultado:\n",
        "\n",
        "![datos-8.png](/home/pol/Escritorio/ipynb-alura/assets/datos-8.png)\n"
      ]
    },
    {
      "cell_type": "markdown",
      "metadata": {},
      "source": [
        "A partir de esta matriz, nos damos cuenta de que a pesar de una precisión mayor, el modelo RandomForest no logra identificar casi ningún cliente moroso, indicando un resultado bastante malo en relación al modelo de árbol de decisión."
      ]
    },
    {
      "cell_type": "markdown",
      "metadata": {},
      "source": [
        "##  11 Desafío: hora de la práctica\n",
        "Vamos a practicar el contenido que se presentó en la clase a partir de algunas actividades, pero utilizando un conjunto de datos diferente con datos de pacientes a ser diagnosticados con diabetes o no. Los desafíos siguen una secuencia de tareas, sirviendo como un proyecto secundario. Para realizar los desafíos, descarga la base de datos desde este enlace.\n",
        "\n",
        "1. - Para la construcción de un modelo de machine learning se necesitan datos. Como tarea inicial, realiza la lectura de la base de datos de diabetes y divide los datos en variables explicativas y variable objetivo (x e y). La variable objetivo es la columna que quieres clasificar, que contiene la información de si el paciente tiene o no diabetes. Las variables explicativas son todas las columnas excepto la de diabetes. La separación de los datos se puede hacer con la selección de columnas con `pandas`.\n",
        "\n",
        "2. - Una etapa muy importante en proyectos de clasificación es la validación de los modelos, para identificar si hay una generalización del modelo para datos nuevos. Realiza la división de los datos entre entrenamiento, validación y prueba. Utiliza el 5% de los datos para prueba y con el resto, deja el 25% para validación. En el momento de la separación, usa el parámetro `stratify` a partir de la variable objetivo para mantener la proporción de los datos.\n",
        "\n",
        "3. - La etapa de modelado de datos consiste en utilizar un algoritmo capaz de identificar patrones en los datos y clasificar los valores. A partir del modelo es posible extraer una tasa de acierto para entender su desempeño. Crea 2 modelos utilizando los algoritmos DecisionTreeClassifier(https://scikit-learn.org/stable/modules/generated/sklearn.tree.DecisionTreeClassifier.html) y RandomForestClassifier(https://scikit-learn.org/stable/modules/generated/sklearn.ensemble.RandomForestClassifier.html) y evalúa la precisión de entrenamiento y prueba, eligiendo el valor 3 para el parámetro `max_depth` del algoritmo `DecisionTreeClassifier` y el valor 2 para el `max_depth` del algoritmo `RandomForestClassifie`r`, para que los modelos no se especialicen demasiado en el patrón de los datos de entrenamiento.\n",
        "\n",
        "4. - La tasa de acierto generalmente no proporciona información suficiente para entender el comportamiento del modelo. La matriz de confusión es una herramienta más completa, capaz de proporcionar los aciertos y errores del modelo para cada clase. Construye una matriz de confusión para cada uno de los modelos para evaluar el desempeño de la predicción. Para construir la matriz, usa el método `predict` para generar las predicciones de los valores y comparar con los valores reales de la base de datos."
      ]
    },
    {
      "cell_type": "markdown",
      "metadata": {},
      "source": [
        "## Opinión del instructor\n",
        "\n",
        "Solución para los desafíos\n",
        "\n",
        "1. - Para hacer la lectura de la base de datos, debemos importar la biblioteca pandas. Hacemos esto con el código:"
      ]
    },
    {
      "cell_type": "code",
      "execution_count": 17,
      "metadata": {},
      "outputs": [],
      "source": [
        "import pandas as pd"
      ]
    },
    {
      "cell_type": "markdown",
      "metadata": {},
      "source": [
        "A partir de esto, podemos hacer la lectura con la función read_csv(), almacenando en una variable datos:"
      ]
    },
    {
      "cell_type": "code",
      "execution_count": 18,
      "metadata": {},
      "outputs": [],
      "source": [
        "datos = pd.read_csv('../data/diabetes.csv')"
      ]
    },
    {
      "cell_type": "markdown",
      "metadata": {},
      "source": [
        "Con los datos almacenados, necesitamos identificar cuál es la columna que representa la variable objetivo. Podemos explorar los datos a partir del código:"
      ]
    },
    {
      "cell_type": "code",
      "execution_count": 19,
      "metadata": {},
      "outputs": [
        {
          "data": {
            "text/html": [
              "<div>\n",
              "<style scoped>\n",
              "    .dataframe tbody tr th:only-of-type {\n",
              "        vertical-align: middle;\n",
              "    }\n",
              "\n",
              "    .dataframe tbody tr th {\n",
              "        vertical-align: top;\n",
              "    }\n",
              "\n",
              "    .dataframe thead th {\n",
              "        text-align: right;\n",
              "    }\n",
              "</style>\n",
              "<table border=\"1\" class=\"dataframe\">\n",
              "  <thead>\n",
              "    <tr style=\"text-align: right;\">\n",
              "      <th></th>\n",
              "      <th>glicemia</th>\n",
              "      <th>presion_sanguinea</th>\n",
              "      <th>grasa_subcutanea_triceps</th>\n",
              "      <th>insulina</th>\n",
              "      <th>imc</th>\n",
              "      <th>diabetes</th>\n",
              "    </tr>\n",
              "  </thead>\n",
              "  <tbody>\n",
              "    <tr>\n",
              "      <th>0</th>\n",
              "      <td>66</td>\n",
              "      <td>23</td>\n",
              "      <td>94</td>\n",
              "      <td>28.1</td>\n",
              "      <td>0.167</td>\n",
              "      <td>0</td>\n",
              "    </tr>\n",
              "    <tr>\n",
              "      <th>1</th>\n",
              "      <td>40</td>\n",
              "      <td>35</td>\n",
              "      <td>168</td>\n",
              "      <td>43.1</td>\n",
              "      <td>2.288</td>\n",
              "      <td>1</td>\n",
              "    </tr>\n",
              "    <tr>\n",
              "      <th>2</th>\n",
              "      <td>50</td>\n",
              "      <td>32</td>\n",
              "      <td>88</td>\n",
              "      <td>31.0</td>\n",
              "      <td>0.248</td>\n",
              "      <td>1</td>\n",
              "    </tr>\n",
              "  </tbody>\n",
              "</table>\n",
              "</div>"
            ],
            "text/plain": [
              "   glicemia  presion_sanguinea  grasa_subcutanea_triceps  insulina    imc  \\\n",
              "0        66                 23                        94      28.1  0.167   \n",
              "1        40                 35                       168      43.1  2.288   \n",
              "2        50                 32                        88      31.0  0.248   \n",
              "\n",
              "   diabetes  \n",
              "0         0  \n",
              "1         1  \n",
              "2         1  "
            ]
          },
          "execution_count": 19,
          "metadata": {},
          "output_type": "execute_result"
        }
      ],
      "source": [
        "datos.head(3)"
      ]
    },
    {
      "cell_type": "markdown",
      "metadata": {},
      "source": [
        "La base de datos tiene solo 394 filas y 6 columnas. Podemos observar 6 columnas de datos: glicemia, presion_sanguinea, pliegue_cutaneo_triceps, insulina, imc y diabetes. La clasificación del modelo debe hacerse para la columna de diabetes, que presenta valores de 0 para ausencia de diabetes y 1 para presencia de diabetes, por lo tanto, esta es la variable objetivo y el resto son variables explicativas. Podemos realizar la división de los datos usando el código:"
      ]
    },
    {
      "cell_type": "code",
      "execution_count": 20,
      "metadata": {},
      "outputs": [],
      "source": [
        "x = datos.drop('diabetes', axis = 1)\n",
        "y = datos['diabetes']"
      ]
    },
    {
      "cell_type": "markdown",
      "metadata": {},
      "source": [
        "2. - Para realizar la división de datos entre entrenamiento, validación y prueba, podemos usar el método train_test_split de la biblioteca Scikit-Learn. Primero debemos importar la función con el código:"
      ]
    },
    {
      "cell_type": "code",
      "execution_count": 21,
      "metadata": {},
      "outputs": [],
      "source": [
        "from sklearn.model_selection import train_test_split"
      ]
    },
    {
      "cell_type": "markdown",
      "metadata": {},
      "source": [
        "La primera división se hará de los datos de prueba y luego con el resto se hará una nueva división entre entrenamiento y validación, usando el parámetro stratify = y para mantener la proporción de los datos de la variable objetivo entre los conjuntos. Dado que la base de datos tiene pocos registros, solo se dividirá el 5% de los datos para prueba para que haya una cantidad mayor de registros en la base de datos de entrenamiento:"
      ]
    },
    {
      "cell_type": "code",
      "execution_count": 22,
      "metadata": {},
      "outputs": [],
      "source": [
        "x, x_prueba, y, y_prueba = train_test_split(x, y, stratify = y, test_size = 0.05, random_state = 5)\n",
        "x_entrenamiento, x_val, y_entrenamiento, y_val = train_test_split(x, y, stratify = y, random_state = 5)"
      ]
    },
    {
      "cell_type": "markdown",
      "metadata": {},
      "source": [
        "3. - La primera etapa para la creación de los modelos será la importación de los algoritmos DecisionTreeClassifier y RandomForestClassifier, usando el código:"
      ]
    },
    {
      "cell_type": "code",
      "execution_count": 23,
      "metadata": {},
      "outputs": [],
      "source": [
        "from sklearn.tree import DecisionTreeClassifier\n",
        "from sklearn.ensemble import RandomForestClassifier"
      ]
    },
    {
      "cell_type": "markdown",
      "metadata": {},
      "source": [
        "Después de la importación de los algoritmos, podemos instanciar los modelos y almacenarlos en variables, aquí se eligieron los valores de max_depth = 3 para el DecisionTree y max_depth = 2 para el RandomForest:"
      ]
    },
    {
      "cell_type": "code",
      "execution_count": 24,
      "metadata": {},
      "outputs": [],
      "source": [
        "arbol = DecisionTreeClassifier(max_depth = 3)\n",
        "random_forest = RandomForestClassifier(max_depth = 2)"
      ]
    },
    {
      "cell_type": "markdown",
      "metadata": {},
      "source": [
        "Para hacer el ajuste de los modelos podemos usar el método fit() y para evaluar la tasa de acierto, el método score():"
      ]
    },
    {
      "cell_type": "code",
      "execution_count": 25,
      "metadata": {},
      "outputs": [
        {
          "name": "stdout",
          "output_type": "stream",
          "text": [
            "Precisión de entrenamiento: 0.7571428571428571\n",
            "Precisión de prueba: 0.776595744680851\n"
          ]
        }
      ],
      "source": [
        "arbol.fit(x_entrenamiento, y_entrenamiento)\n",
        "print(f'Precisión de entrenamiento: {arbol.score(x_entrenamiento, y_entrenamiento)}')\n",
        "print(f'Precisión de prueba: {arbol.score(x_val, y_val)}')"
      ]
    },
    {
      "cell_type": "code",
      "execution_count": 26,
      "metadata": {},
      "outputs": [
        {
          "name": "stdout",
          "output_type": "stream",
          "text": [
            "Precisión de entrenamiento: 0.7357142857142858\n",
            "Precisión de prueba: 0.6914893617021277\n"
          ]
        }
      ],
      "source": [
        "random_forest.fit(x_entrenamiento, y_entrenamiento)\n",
        "print(f'Precisión de entrenamiento: {random_forest.score(x_entrenamiento, y_entrenamiento)}')\n",
        "print(f'Precisión de prueba: {random_forest.score(x_val, y_val)}')"
      ]
    },
    {
      "cell_type": "markdown",
      "metadata": {},
      "source": [
        "4. - Para generar la matriz de confusión, primero es necesario importar la función ConfusionMatrixDisplay, usando el código:"
      ]
    },
    {
      "cell_type": "code",
      "execution_count": 27,
      "metadata": {},
      "outputs": [],
      "source": [
        "from sklearn.metrics import ConfusionMatrixDisplay"
      ]
    },
    {
      "cell_type": "markdown",
      "metadata": {},
      "source": [
        "Hecho esto, basta con utilizar el método predict() para hacer la predicción de datos con los modelos y luego utilizar los valores reales y previstos en el método from_predictions() de la matriz de confusión:"
      ]
    },
    {
      "cell_type": "code",
      "execution_count": 28,
      "metadata": {},
      "outputs": [
        {
          "data": {
            "image/png": "[encoded data removed]",
            "text/plain": [
              "<Figure size 640x480 with 2 Axes>"
            ]
          },
          "metadata": {},
          "output_type": "display_data"
        }
      ],
      "source": [
        "prediccion_arbol = arbol.predict(x_val)\n",
        "ConfusionMatrixDisplay.from_predictions(y_val, prediccion_arbol);"
      ]
    },
    {
      "cell_type": "code",
      "execution_count": 29,
      "metadata": {},
      "outputs": [
        {
          "data": {
            "image/png": "[encoded data removed]",
            "text/plain": [
              "<Figure size 640x480 with 2 Axes>"
            ]
          },
          "metadata": {},
          "output_type": "display_data"
        }
      ],
      "source": [
        "prediccion_rf = random_forest.predict(x_val)\n",
        "ConfusionMatrixDisplay.from_predictions(y_val, prediccion_rf);"
      ]
    },
    {
      "cell_type": "markdown",
      "metadata": {},
      "source": [
        "##  12 Lo que aprendimos\n",
        "\n",
        "En esta clase, aprendiste a:\n",
        "\n",
        "* **Crear un modelo de clasificación usando Scikit-Learn;**\n",
        "\n",
        "* **Validar modelos a partir de la división de datos de entrenamiento, validación y prueba;**\n",
        "\n",
        "* **Evaluar el rendimiento de los modelos usando la precisión;**\n",
        "\n",
        "* **Analizar los aciertos y errores del modelo con la matriz de confusión.**\n",
        "----"
      ]
    },
    {
      "cell_type": "markdown",
      "metadata": {},
      "source": [
        "# 2 - Métricas de evaluación"
      ]
    },
    {
      "cell_type": "markdown",
      "metadata": {
        "id": "tPogL-24ntSH"
      },
      "source": [
        "## <font color='dark'>Métricas de evaluación</h1>"
      ]
    },
    {
      "cell_type": "markdown",
      "metadata": {
        "id": "nP1WfyyR6XMl"
      },
      "source": [
        "### Exactitud, precisión y recall (sensibilidad)."
      ]
    },
    {
      "cell_type": "markdown",
      "metadata": {
        "id": "oE8N0NqoH6hy"
      },
      "source": [
        "<a href=\"https://ibb.co/351SbY7t\"><img src=\"https://i.ibb.co/wZypqrRD/matriz-confusion.png\" alt=\"matriz-confusion\" border=\"0\"></a>"
      ]
    },
    {
      "cell_type": "markdown",
      "metadata": {
        "id": "k0ldCSgoZiPX"
      },
      "source": [
        "<a href=\"https://imgbb.com/\"><img src=\"https://i.ibb.co/6Jp6rKyC/Captura-de-tela-2025-03-22-120744.png\" alt=\"Captura-de-tela-2025-03-22-120744\" border=\"0\"></a>"
      ]
    },
    {
      "cell_type": "code",
      "execution_count": null,
      "metadata": {
        "id": "SaTFBGpjBAYt"
      },
      "outputs": [],
      "source": [
        "from sklearn.metrics import accuracy_score, precision_score, recall_score, f1_score"
      ]
    },
    {
      "cell_type": "code",
      "execution_count": null,
      "metadata": {
        "colab": {
          "base_uri": "https://localhost:8080/"
        },
        "id": "VMKPihQ6BAV7",
        "outputId": "54a83a08-33d9-45e8-f3a6-2a5c72e9efed"
      },
      "outputs": [
        {
          "data": {
            "text/plain": [
              "0.26785714285714285"
            ]
          },
          "execution_count": 17,
          "metadata": {},
          "output_type": "execute_result"
        }
      ],
      "source": [
        "45/(45+123) #precision"
      ]
    },
    {
      "cell_type": "code",
      "execution_count": null,
      "metadata": {
        "colab": {
          "base_uri": "https://localhost:8080/"
        },
        "id": "4z9vAEpLBAQy",
        "outputId": "d6ce7074-dcd7-4b4e-a71f-ad760fde04aa"
      },
      "outputs": [
        {
          "name": "stdout",
          "output_type": "stream",
          "text": [
            "La precisión del modelo es: 0.24528301886792453\n",
            "La sensibilidad (Recall) del modelo es: 0.038922155688622756\n",
            "La exactitud (accuracy) del modelo es: 0.9056702377841651\n"
          ]
        }
      ],
      "source": [
        "print(f'La precisión del modelo es: {precision_score(y_val,y_previsto)}')\n",
        "print(f'La sensibilidad (Recall) del modelo es: {recall_score(y_val,y_previsto)}')\n",
        "print(f'La exactitud (accuracy) del modelo es: {accuracy_score(y_val,y_previsto)}')"
      ]
    },
    {
      "cell_type": "code",
      "execution_count": null,
      "metadata": {
        "colab": {
          "base_uri": "https://localhost:8080/"
        },
        "id": "TuQ4AOcPBA50",
        "outputId": "a007ee86-699d-45c2-b313-cc8d4117b4bd"
      },
      "outputs": [
        {
          "name": "stdout",
          "output_type": "stream",
          "text": [
            "El F1-score del modelo es: 0.06718346253229975\n"
          ]
        }
      ],
      "source": [
        "print(f'El F1-score del modelo es: {f1_score(y_val,y_previsto)}')"
      ]
    },
    {
      "cell_type": "markdown",
      "metadata": {
        "id": "I8ELhexg2jNx"
      },
      "source": [
        "### Curva ROC"
      ]
    },
    {
      "cell_type": "code",
      "execution_count": null,
      "metadata": {
        "colab": {
          "base_uri": "https://localhost:8080/",
          "height": 420
        },
        "id": "PhUNE4Xm4MII",
        "outputId": "af2368d8-847d-459b-b11a-c079a4d4c433"
      },
      "outputs": [
        {
          "data": {
            "text/html": [
              "<img src=\"https://raw.githubusercontent.com/dariyasydykova/open_projects/master/ROC_animation/animations/cutoff.gif\"/>"
            ],
            "text/plain": [
              "<IPython.core.display.Image object>"
            ]
          },
          "execution_count": 20,
          "metadata": {},
          "output_type": "execute_result"
        }
      ],
      "source": [
        "from IPython.display import Image\n",
        "Image(url='https://raw.githubusercontent.com/dariyasydykova/open_projects/master/ROC_animation/animations/cutoff.gif')"
      ]
    },
    {
      "cell_type": "markdown",
      "metadata": {
        "id": "XK8_7Ruy32BT"
      },
      "source": [
        "Fuente: [paulvanderlaken.com](https://paulvanderlaken.com/2019/08/16/roc-auc-precision-and-recall-visually-explained/)\n",
        "\n",
        "\n"
      ]
    },
    {
      "cell_type": "code",
      "execution_count": null,
      "metadata": {
        "id": "NpPeLIdZDLXp"
      },
      "outputs": [],
      "source": [
        "from sklearn.metrics import RocCurveDisplay"
      ]
    },
    {
      "cell_type": "code",
      "execution_count": null,
      "metadata": {
        "colab": {
          "base_uri": "https://localhost:8080/",
          "height": 451
        },
        "id": "TmzIXDFnDLWj",
        "outputId": "23a85fe3-73a2-4760-bd66-58de10a9a4f1"
      },
      "outputs": [
        {
          "data": {
            "image/png": "[encoded data removed]",
            "text/plain": [
              "<Figure size 640x480 with 1 Axes>"
            ]
          },
          "metadata": {},
          "output_type": "display_data"
        }
      ],
      "source": [
        "RocCurveDisplay.from_predictions(y_val,y_previsto,name='Árbol de Decisión');"
      ]
    },
    {
      "cell_type": "code",
      "execution_count": null,
      "metadata": {
        "id": "z2u1QSjMDLTN"
      },
      "outputs": [],
      "source": [
        "from sklearn.metrics import roc_auc_score"
      ]
    },
    {
      "cell_type": "code",
      "execution_count": null,
      "metadata": {
        "colab": {
          "base_uri": "https://localhost:8080/"
        },
        "id": "EQZ3j40bDLPW",
        "outputId": "7728cfae-5a4a-4671-9939-549690b6cc2a"
      },
      "outputs": [
        {
          "name": "stdout",
          "output_type": "stream",
          "text": [
            "El área bajo la curva ROC es: 0.5137353406556483\n"
          ]
        }
      ],
      "source": [
        "print(f'El área bajo la curva ROC es: {roc_auc_score(y_val,y_previsto)}')"
      ]
    },
    {
      "cell_type": "markdown",
      "metadata": {
        "id": "IztSEZfh7QFe"
      },
      "source": [
        "### Curva de  precisión x sensibilidad"
      ]
    },
    {
      "cell_type": "code",
      "execution_count": null,
      "metadata": {
        "colab": {
          "base_uri": "https://localhost:8080/",
          "height": 420
        },
        "id": "EJzfjuxa3fxD",
        "outputId": "924ea149-4438-48f7-cec5-e2ebd55c5fc8"
      },
      "outputs": [
        {
          "data": {
            "text/html": [
              "<img src=\"https://paulvanderlaken.com/wp-content/uploads/2019/08/roc.gif\"/>"
            ],
            "text/plain": [
              "<IPython.core.display.Image object>"
            ]
          },
          "execution_count": 25,
          "metadata": {},
          "output_type": "execute_result"
        }
      ],
      "source": [
        "Image(url='https://paulvanderlaken.com/wp-content/uploads/2019/08/roc.gif')"
      ]
    },
    {
      "cell_type": "markdown",
      "metadata": {
        "id": "bUoGCSUB4msC"
      },
      "source": [
        "Fuente: [paulvanderlaken.com](https://paulvanderlaken.com/2019/08/16/roc-auc-precision-and-recall-visually-explained/)\n"
      ]
    },
    {
      "cell_type": "code",
      "execution_count": null,
      "metadata": {
        "id": "jFKb1YF2BHik"
      },
      "outputs": [],
      "source": [
        "from sklearn.metrics import PrecisionRecallDisplay"
      ]
    },
    {
      "cell_type": "code",
      "execution_count": null,
      "metadata": {
        "colab": {
          "base_uri": "https://localhost:8080/",
          "height": 451
        },
        "id": "zYFGb-oiBHVr",
        "outputId": "6e006ce0-678f-4224-9705-bb37acd351e5"
      },
      "outputs": [
        {
          "data": {
            "image/png": "[encoded data removed]",
            "text/plain": [
              "<Figure size 640x480 with 1 Axes>"
            ]
          },
          "metadata": {},
          "output_type": "display_data"
        }
      ],
      "source": [
        "PrecisionRecallDisplay.from_predictions(y_val,y_previsto, name='Árbol de Decisión');"
      ]
    },
    {
      "cell_type": "code",
      "execution_count": null,
      "metadata": {
        "id": "eD-n3BNJBHNP"
      },
      "outputs": [],
      "source": [
        "from sklearn.metrics import average_precision_score"
      ]
    },
    {
      "cell_type": "code",
      "execution_count": null,
      "metadata": {
        "colab": {
          "base_uri": "https://localhost:8080/"
        },
        "id": "Y5FpVryrBHKU",
        "outputId": "bb6d342d-b725-47c8-ebf5-75cf4b5e46cc"
      },
      "outputs": [
        {
          "name": "stdout",
          "output_type": "stream",
          "text": [
            "El score promedio de precision vs recall es: 0.09342465484893667\n"
          ]
        }
      ],
      "source": [
        "print(f'El score promedio de precision vs recall es: {average_precision_score(y_val,y_previsto)}')"
      ]
    },
    {
      "cell_type": "markdown",
      "metadata": {
        "id": "Bm2E6GEJDJLH"
      },
      "source": [
        "### Informe de métricas"
      ]
    },
    {
      "cell_type": "code",
      "execution_count": null,
      "metadata": {
        "id": "zJckRSikBJtR"
      },
      "outputs": [],
      "source": [
        "from sklearn.metrics import classification_report"
      ]
    },
    {
      "cell_type": "code",
      "execution_count": null,
      "metadata": {
        "colab": {
          "base_uri": "https://localhost:8080/"
        },
        "id": "T8T0dP9qBJqU",
        "outputId": "b4e31537-6a5d-4ad0-9966-678a2e95fc49"
      },
      "outputs": [
        {
          "name": "stdout",
          "output_type": "stream",
          "text": [
            "              precision    recall  f1-score   support\n",
            "\n",
            "           0       0.91      0.99      0.95     10479\n",
            "           1       0.25      0.04      0.07      1002\n",
            "\n",
            "    accuracy                           0.91     11481\n",
            "   macro avg       0.58      0.51      0.51     11481\n",
            "weighted avg       0.86      0.91      0.87     11481\n",
            "\n"
          ]
        }
      ],
      "source": [
        "print(classification_report(y_val,y_previsto))"
      ]
    },
    {
      "cell_type": "markdown",
      "metadata": {
        "id": "SuxCy_oZZQxE"
      },
      "source": [
        "## <font color='dark'> Validación cruzada</h1>"
      ]
    },
    {
      "cell_type": "markdown",
      "metadata": {
        "id": "17q2T0iRnzSg"
      },
      "source": [
        "### Usando KFold"
      ]
    },
    {
      "cell_type": "markdown",
      "metadata": {
        "id": "zjfYnDWJ6C2A"
      },
      "source": [
        "La validación del modelo de clasificación a partir de la separación de los datos en conjuntos de entrenamiento y validación hace que el resultado dependa en gran medida de esta división. Puede suceder que, de forma aleatoria, el patrón de los datos de validación sea diferente al de los datos de entrenamiento, lo que podría llevar a obtener un resultado mucho mejor o mucho peor que la realidad simplemente por suerte o mala suerte.  \n",
        "\n",
        "Teniendo esto en cuenta, es posible utilizar la **validación cruzada**, una estrategia más consistente y ampliamente utilizada en proyectos de *machine learning*.  \n",
        "\n",
        "En la validación cruzada, en lugar de separar los datos en entrenamiento y validación una sola vez, se dividen en varias partes de igual tamaño. En cada una de estas divisiones, se usa una parte para validación y todas las demás para entrenamiento. Este proceso se repite hasta que todas las partes hayan sido utilizadas tanto para validación como para entrenamiento.  \n",
        "\n",
        "Se generará un modelo para cada una de estas divisiones y la evaluación del desempeño se realizará promediando la métrica de cada modelo. Esto elimina la dependencia de la separación de los datos, ya que hay una mayor variación en la selección de los mismos y se obtiene un valor medio.  \n",
        "\n",
        "Generalmente, se utilizan 5 o 10 partes. Un número mayor no suele ser necesario, ya que implica un procesamiento más costoso, y valores menores ya ayudan a mitigar el problema de la selección de los datos."
      ]
    },
    {
      "cell_type": "markdown",
      "metadata": {
        "id": "oSboV-QNMG__"
      },
      "source": [
        "<a href=\"https://ibb.co/KcBtshJR\"><img src=\"https://i.ibb.co/nq4X1mFZ/train-y-validacion.png\" alt=\"train-y-validacion\" border=\"0\"></a>"
      ]
    },
    {
      "cell_type": "code",
      "execution_count": null,
      "metadata": {
        "id": "Ihqmq5ghI54W"
      },
      "outputs": [],
      "source": [
        "from sklearn.model_selection import KFold, cross_validate"
      ]
    },
    {
      "cell_type": "code",
      "execution_count": null,
      "metadata": {
        "colab": {
          "base_uri": "https://localhost:8080/"
        },
        "id": "Z8X6FkfFI53V",
        "outputId": "997629f7-2f9b-45d5-f950-f37d6a2fa176"
      },
      "outputs": [
        {
          "data": {
            "text/plain": [
              "{'fit_time': array([0.43937182, 0.4902854 , 0.41775084, 0.33076739, 0.39368367]),\n",
              " 'score_time': array([0.0133059 , 0.00542164, 0.00740218, 0.00496316, 0.00537705]),\n",
              " 'test_score': array([0.91224823, 0.90755662, 0.90733885, 0.91343641, 0.89928136])}"
            ]
          },
          "execution_count": 33,
          "metadata": {},
          "output_type": "execute_result"
        }
      ],
      "source": [
        "modelo = DecisionTreeClassifier(max_depth=10)\n",
        "kf = KFold(n_splits=5, shuffle=True,random_state=5)\n",
        "cv_resultados =cross_validate(modelo,X,y,cv=kf)\n",
        "cv_resultados"
      ]
    },
    {
      "cell_type": "code",
      "execution_count": null,
      "metadata": {
        "colab": {
          "base_uri": "https://localhost:8080/"
        },
        "id": "X_AQQWzqI5sJ",
        "outputId": "2c74f7fb-17f0-4d65-ae9f-8034d1fcf8fa"
      },
      "outputs": [
        {
          "data": {
            "text/plain": [
              "array([0.91224823, 0.90755662, 0.90733885, 0.91343641, 0.89928136])"
            ]
          },
          "execution_count": 34,
          "metadata": {},
          "output_type": "execute_result"
        }
      ],
      "source": [
        "cv_resultados['test_score']"
      ]
    },
    {
      "cell_type": "code",
      "execution_count": null,
      "metadata": {
        "colab": {
          "base_uri": "https://localhost:8080/"
        },
        "id": "1P5bIfkZI5qW",
        "outputId": "3ffadfd8-5254-48d0-a845-773725097e4b"
      },
      "outputs": [
        {
          "name": "stdout",
          "output_type": "stream",
          "text": [
            "El promedio de la exactitud es de: 0.9079722942458446\n",
            "El desvío típico es de: 0.00498490924277103\n",
            "El intervalo de confianza es: [0.8980024757603026,0.9179421127313866]\n"
          ]
        }
      ],
      "source": [
        "promedio = cv_resultados['test_score'].mean()\n",
        "desvio_std = cv_resultados['test_score'].std()\n",
        "print(f'El promedio de la exactitud es de: {promedio}')\n",
        "print(f'El desvío típico es de: {desvio_std}')\n",
        "print(f'El intervalo de confianza es: [{promedio-2*desvio_std},{min(promedio+2*desvio_std,1)}]')"
      ]
    },
    {
      "cell_type": "markdown",
      "metadata": {
        "id": "GAHrtLM2OCjO"
      },
      "source": [
        "### Validación cruzada con sensibilidad"
      ]
    },
    {
      "cell_type": "code",
      "execution_count": null,
      "metadata": {
        "id": "g706BaHyBVC7"
      },
      "outputs": [],
      "source": [
        "def intervalo_confianza(resultados):\n",
        "  promedio = resultados['test_score'].mean()\n",
        "  desvio_std = resultados['test_score'].std()\n",
        "  return f'El intervalo de confianza es: [{promedio-2*desvio_std},{min(promedio+2*desvio_std,1)}]'"
      ]
    },
    {
      "cell_type": "code",
      "execution_count": null,
      "metadata": {
        "colab": {
          "base_uri": "https://localhost:8080/"
        },
        "id": "-yMDrcbQBU-C",
        "outputId": "94b2a018-455a-4987-fca3-211c6f3abe4b"
      },
      "outputs": [
        {
          "data": {
            "text/plain": [
              "{'fit_time': array([0.54067683, 0.52914858, 0.47897983, 0.44882202, 0.47898102]),\n",
              " 'score_time': array([0.00930619, 0.01590967, 0.00970817, 0.0084908 , 0.00934052]),\n",
              " 'test_score': array([0.02642008, 0.01732673, 0.0196802 , 0.0156658 , 0.02543353])}"
            ]
          },
          "execution_count": 37,
          "metadata": {},
          "output_type": "execute_result"
        }
      ],
      "source": [
        "modelo = DecisionTreeClassifier(max_depth=10)\n",
        "kf = KFold(n_splits=5, shuffle=True,random_state=5)\n",
        "cv_resultados =cross_validate(modelo,X,y,cv=kf,scoring='recall')\n",
        "cv_resultados"
      ]
    },
    {
      "cell_type": "code",
      "execution_count": null,
      "metadata": {
        "colab": {
          "base_uri": "https://localhost:8080/",
          "height": 35
        },
        "id": "KExbGoWaBU7G",
        "outputId": "9d05f868-c280-4695-9f7b-e2a85d50c5c2"
      },
      "outputs": [
        {
          "data": {
            "application/vnd.google.colaboratory.intrinsic+json": {
              "type": "string"
            },
            "text/plain": [
              "'El intervalo de confianza es: [0.012294712619062573,0.029515819817609965]'"
            ]
          },
          "execution_count": 38,
          "metadata": {},
          "output_type": "execute_result"
        }
      ],
      "source": [
        "intervalo_confianza(cv_resultados)"
      ]
    },
    {
      "cell_type": "markdown",
      "metadata": {
        "id": "-FAOYtNen4qJ"
      },
      "source": [
        "### Estratificando los datos"
      ]
    },
    {
      "cell_type": "code",
      "execution_count": null,
      "metadata": {
        "colab": {
          "base_uri": "https://localhost:8080/",
          "height": 178
        },
        "id": "j8pxmcByBXvB",
        "outputId": "a0b20de6-5cb3-464d-cf45-64f0196fab5f"
      },
      "outputs": [
        {
          "data": {
            "text/html": [
              "<div>\n",
              "<style scoped>\n",
              "    .dataframe tbody tr th:only-of-type {\n",
              "        vertical-align: middle;\n",
              "    }\n",
              "\n",
              "    .dataframe tbody tr th {\n",
              "        vertical-align: top;\n",
              "    }\n",
              "\n",
              "    .dataframe thead th {\n",
              "        text-align: right;\n",
              "    }\n",
              "</style>\n",
              "<table border=\"1\" class=\"dataframe\">\n",
              "  <thead>\n",
              "    <tr style=\"text-align: right;\">\n",
              "      <th></th>\n",
              "      <th>proportion</th>\n",
              "    </tr>\n",
              "    <tr>\n",
              "      <th>moroso</th>\n",
              "      <th></th>\n",
              "    </tr>\n",
              "  </thead>\n",
              "  <tbody>\n",
              "    <tr>\n",
              "      <th>0</th>\n",
              "      <td>0.912707</td>\n",
              "    </tr>\n",
              "    <tr>\n",
              "      <th>1</th>\n",
              "      <td>0.087293</td>\n",
              "    </tr>\n",
              "  </tbody>\n",
              "</table>\n",
              "</div><br><label><b>dtype:</b> float64</label>"
            ],
            "text/plain": [
              "moroso\n",
              "0    0.912707\n",
              "1    0.087293\n",
              "Name: proportion, dtype: float64"
            ]
          },
          "execution_count": 43,
          "metadata": {},
          "output_type": "execute_result"
        }
      ],
      "source": [
        "datos['moroso'].value_counts(normalize=True)"
      ]
    },
    {
      "cell_type": "code",
      "execution_count": null,
      "metadata": {
        "id": "FCMJZHw7BXfP"
      },
      "outputs": [],
      "source": [
        "from sklearn.model_selection import StratifiedKFold"
      ]
    },
    {
      "cell_type": "code",
      "execution_count": null,
      "metadata": {
        "id": "DfvINDUuBXdj"
      },
      "outputs": [],
      "source": [
        "modelo = DecisionTreeClassifier(max_depth=10)\n",
        "skf = StratifiedKFold(n_splits=5, shuffle=True,random_state=5)\n",
        "cv_resultados =cross_validate(modelo,X,y,cv=skf,scoring='recall')"
      ]
    },
    {
      "cell_type": "code",
      "execution_count": null,
      "metadata": {
        "colab": {
          "base_uri": "https://localhost:8080/",
          "height": 35
        },
        "id": "B56_v98xBXbp",
        "outputId": "0cc9985a-6ef1-4b2a-85c6-1eb0a70d120f"
      },
      "outputs": [
        {
          "data": {
            "application/vnd.google.colaboratory.intrinsic+json": {
              "type": "string"
            },
            "text/plain": [
              "'El intervalo de confianza es: [0.019231173310998204,0.03813788842915827]'"
            ]
          },
          "execution_count": 42,
          "metadata": {},
          "output_type": "execute_result"
        }
      ],
      "source": [
        "intervalo_confianza(cv_resultados)"
      ]
    },
    {
      "cell_type": "markdown",
      "metadata": {
        "id": "yaVwNb1kn8sX"
      },
      "source": [
        "## <font color='dark'>Balanceo de los datos</h1>"
      ]
    },
    {
      "cell_type": "markdown",
      "metadata": {
        "id": "4eYKxWJd6g6w"
      },
      "source": [
        "### Oversampling"
      ]
    },
    {
      "cell_type": "markdown",
      "metadata": {
        "id": "N0MJ7hGUmL4l"
      },
      "source": [
        "https://imbalanced-learn.org/stable/references/generated/imblearn.over_sampling.SMOTE.html#id1"
      ]
    },
    {
      "cell_type": "code",
      "execution_count": null,
      "metadata": {
        "id": "WA5FuAmmoXhI"
      },
      "outputs": [],
      "source": [
        "from imblearn.over_sampling import SMOTE"
      ]
    },
    {
      "cell_type": "code",
      "execution_count": null,
      "metadata": {
        "id": "Fo3W3zazoXTk"
      },
      "outputs": [],
      "source": [
        "oversampling = SMOTE()\n",
        "x_balanceada,y_balanceada = oversampling.fit_resample(X,y)"
      ]
    },
    {
      "cell_type": "code",
      "execution_count": null,
      "metadata": {
        "colab": {
          "base_uri": "https://localhost:8080/",
          "height": 178
        },
        "id": "SI9vmOtroXM-",
        "outputId": "a8af7930-a94b-45f1-bb37-2968ab3ea9a0"
      },
      "outputs": [
        {
          "data": {
            "text/html": [
              "<div>\n",
              "<style scoped>\n",
              "    .dataframe tbody tr th:only-of-type {\n",
              "        vertical-align: middle;\n",
              "    }\n",
              "\n",
              "    .dataframe tbody tr th {\n",
              "        vertical-align: top;\n",
              "    }\n",
              "\n",
              "    .dataframe thead th {\n",
              "        text-align: right;\n",
              "    }\n",
              "</style>\n",
              "<table border=\"1\" class=\"dataframe\">\n",
              "  <thead>\n",
              "    <tr style=\"text-align: right;\">\n",
              "      <th></th>\n",
              "      <th>proportion</th>\n",
              "    </tr>\n",
              "    <tr>\n",
              "      <th>moroso</th>\n",
              "      <th></th>\n",
              "    </tr>\n",
              "  </thead>\n",
              "  <tbody>\n",
              "    <tr>\n",
              "      <th>0</th>\n",
              "      <td>0.5</td>\n",
              "    </tr>\n",
              "    <tr>\n",
              "      <th>1</th>\n",
              "      <td>0.5</td>\n",
              "    </tr>\n",
              "  </tbody>\n",
              "</table>\n",
              "</div><br><label><b>dtype:</b> float64</label>"
            ],
            "text/plain": [
              "moroso\n",
              "0    0.5\n",
              "1    0.5\n",
              "Name: proportion, dtype: float64"
            ]
          },
          "execution_count": 48,
          "metadata": {},
          "output_type": "execute_result"
        }
      ],
      "source": [
        "y_balanceada.value_counts(normalize=True)"
      ]
    },
    {
      "cell_type": "code",
      "execution_count": null,
      "metadata": {
        "id": "_pl37lNroXIp"
      },
      "outputs": [],
      "source": [
        "modelo = DecisionTreeClassifier(max_depth=10)\n",
        "skf = StratifiedKFold(n_splits=5, shuffle=True,random_state=5)\n",
        "cv_resultados =cross_validate(modelo,x_balanceada,y_balanceada,cv=skf,scoring='recall')"
      ]
    },
    {
      "cell_type": "code",
      "execution_count": null,
      "metadata": {
        "colab": {
          "base_uri": "https://localhost:8080/",
          "height": 35
        },
        "id": "CelPWQDboXFq",
        "outputId": "a41336f6-2b03-4d46-efbb-80e9bfec354f"
      },
      "outputs": [
        {
          "data": {
            "application/vnd.google.colaboratory.intrinsic+json": {
              "type": "string"
            },
            "text/plain": [
              "'El intervalo de confianza es: [0.7087139277960761,0.7563565769775773]'"
            ]
          },
          "execution_count": 51,
          "metadata": {},
          "output_type": "execute_result"
        }
      ],
      "source": [
        "intervalo_confianza(cv_resultados)"
      ]
    },
    {
      "cell_type": "markdown",
      "metadata": {
        "id": "fHSNXznm6ia-"
      },
      "source": [
        "### Pipeline para validación"
      ]
    },
    {
      "cell_type": "code",
      "execution_count": null,
      "metadata": {
        "id": "XeO6P0jQBdSF"
      },
      "outputs": [],
      "source": [
        "from imblearn.pipeline import Pipeline as imbpipeline"
      ]
    },
    {
      "cell_type": "code",
      "execution_count": null,
      "metadata": {
        "id": "TVcVSpRvBdLp"
      },
      "outputs": [],
      "source": [
        "modelo = DecisionTreeClassifier(max_depth=10)\n",
        "pipeline = imbpipeline([('oversample',SMOTE()),('arbol',modelo)])"
      ]
    },
    {
      "cell_type": "code",
      "execution_count": null,
      "metadata": {
        "id": "-8qQaKtyBdIJ"
      },
      "outputs": [],
      "source": [
        "skf = StratifiedKFold(n_splits=5, shuffle=True,random_state=5)\n",
        "cv_resultados =cross_validate(pipeline,X,y,cv=skf,scoring='recall')"
      ]
    },
    {
      "cell_type": "code",
      "execution_count": null,
      "metadata": {
        "colab": {
          "base_uri": "https://localhost:8080/",
          "height": 35
        },
        "id": "XfueQ0s1BdEf",
        "outputId": "1e83be2c-9bc3-44db-f2a7-891ac0b149af"
      },
      "outputs": [
        {
          "data": {
            "application/vnd.google.colaboratory.intrinsic+json": {
              "type": "string"
            },
            "text/plain": [
              "'El intervalo de confianza es: [0.2202623160757908,0.28411282596922155]'"
            ]
          },
          "execution_count": 55,
          "metadata": {},
          "output_type": "execute_result"
        }
      ],
      "source": [
        "intervalo_confianza(cv_resultados)"
      ]
    },
    {
      "cell_type": "markdown",
      "metadata": {
        "id": "66PlvwjX6kFv"
      },
      "source": [
        "### Undersampling"
      ]
    },
    {
      "cell_type": "markdown",
      "metadata": {
        "id": "Fh6VZN5Fx7wl"
      },
      "source": [
        "https://imbalanced-learn.org/stable/references/generated/imblearn.under_sampling.NearMiss.html"
      ]
    },
    {
      "cell_type": "code",
      "execution_count": null,
      "metadata": {
        "id": "9YYsB4DNBgM6"
      },
      "outputs": [],
      "source": [
        "from imblearn.under_sampling import NearMiss"
      ]
    },
    {
      "cell_type": "code",
      "execution_count": null,
      "metadata": {
        "id": "pTiCVRJKBgLD"
      },
      "outputs": [],
      "source": [
        "modelo = DecisionTreeClassifier(max_depth=10)\n",
        "pipeline = imbpipeline([('undersample',NearMiss(version = 3)),('arbol',modelo)])\n",
        "skf = StratifiedKFold(n_splits=5, shuffle=True,random_state=5)\n",
        "cv_resultados =cross_validate(pipeline,X,y,cv=skf,scoring='recall')"
      ]
    },
    {
      "cell_type": "code",
      "execution_count": null,
      "metadata": {
        "colab": {
          "base_uri": "https://localhost:8080/",
          "height": 35
        },
        "id": "t6uMKgETBgJE",
        "outputId": "b2497cf3-709e-4b07-f4bd-540c78ca4451"
      },
      "outputs": [
        {
          "data": {
            "application/vnd.google.colaboratory.intrinsic+json": {
              "type": "string"
            },
            "text/plain": [
              "'El intervalo de confianza es: [0.626190186409006,0.698812537741915]'"
            ]
          },
          "execution_count": 58,
          "metadata": {},
          "output_type": "execute_result"
        }
      ],
      "source": [
        "intervalo_confianza(cv_resultados)"
      ]
    },
    {
      "cell_type": "markdown",
      "metadata": {
        "id": "EP-44U0eHt-a"
      },
      "source": [
        "### Probando el modelo"
      ]
    },
    {
      "cell_type": "code",
      "execution_count": null,
      "metadata": {
        "id": "O-K64MIzBiUS"
      },
      "outputs": [],
      "source": [
        "undersample = NearMiss(version = 3)\n",
        "x_balanceada, y_balanceada = undersample.fit_resample(X,y)"
      ]
    },
    {
      "cell_type": "code",
      "execution_count": null,
      "metadata": {
        "colab": {
          "base_uri": "https://localhost:8080/",
          "height": 611
        },
        "id": "SMQsMh0PBiSF",
        "outputId": "81825183-5e13-4d8d-d9a3-5dc7d7981d5b"
      },
      "outputs": [
        {
          "name": "stdout",
          "output_type": "stream",
          "text": [
            "              precision    recall  f1-score   support\n",
            "\n",
            "           0       0.94      0.48      0.64      7397\n",
            "           1       0.11      0.70      0.20       707\n",
            "\n",
            "    accuracy                           0.50      8104\n",
            "   macro avg       0.53      0.59      0.42      8104\n",
            "weighted avg       0.87      0.50      0.60      8104\n",
            "\n"
          ]
        },
        {
          "data": {
            "image/png": "[encoded data removed]",
            "text/plain": [
              "<Figure size 640x480 with 2 Axes>"
            ]
          },
          "metadata": {},
          "output_type": "display_data"
        }
      ],
      "source": [
        "modelo = DecisionTreeClassifier(max_depth=10)\n",
        "modelo.fit(x_balanceada,y_balanceada)\n",
        "y_previsto = modelo.predict(X_test)\n",
        "\n",
        "print(classification_report(y_test,y_previsto))\n",
        "ConfusionMatrixDisplay.from_predictions(y_test,y_previsto);"
      ]
    },
    {
      "cell_type": "code",
      "execution_count": null,
      "metadata": {
        "id": "OSWt8s_71rOJ"
      },
      "outputs": [],
      "source": []
    }
  ],
  "metadata": {
    "colab": {
      "include_colab_link": true,
      "provenance": []
    },
    "kernelspec": {
      "display_name": "api-env",
      "language": "python",
      "name": "python3"
    },
    "language_info": {
      "codemirror_mode": {
        "name": "ipython",
        "version": 3
      },
      "file_extension": ".py",
      "mimetype": "text/x-python",
      "name": "python",
      "nbconvert_exporter": "python",
      "pygments_lexer": "ipython3",
      "version": "3.10.13"
    }
  },
  "nbformat": 4,
  "nbformat_minor": 0
}
